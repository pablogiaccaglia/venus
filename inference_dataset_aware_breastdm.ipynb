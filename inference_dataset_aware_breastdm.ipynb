{
  "cells": [
    {
      "cell_type": "markdown",
      "metadata": {},
      "source": [
        "# Dataset-Aware Inference Notebook\n"
      ]
    },
    {
      "cell_type": "markdown",
      "metadata": {},
      "source": [
        "## Setup and Imports\n"
      ]
    },
    {
      "cell_type": "code",
      "execution_count": 1,
      "metadata": {},
      "outputs": [
        {
          "name": "stderr",
          "output_type": "stream",
          "text": [
            "c:\\Users\\pabli\\AppData\\Local\\pypoetry\\Cache\\virtualenvs\\venus-nCPuPPcI-py3.9\\lib\\site-packages\\ignite\\handlers\\checkpoint.py:17: DeprecationWarning: `TorchScript` support for functional optimizers is deprecated and will be removed in a future PyTorch release. Consider using the `torch.compile` optimizer instead.\n",
            "  from torch.distributed.optim import ZeroRedundancyOptimizer\n"
          ]
        }
      ],
      "source": [
        "import os\n",
        "import sys\n",
        "import json\n",
        "import numpy as np\n",
        "import torch\n",
        "import monai\n",
        "import matplotlib.pyplot as plt\n",
        "import pprint\n",
        "from tqdm import tqdm\n",
        "from typing import Dict, List, Tuple, Optional\n",
        "\n",
        "# MONAI imports\n",
        "from monai.data import CacheDataset, DataLoader\n",
        "\n",
        "# Import custom modules\n",
        "from breast_segmentation.transforms import Preprocess\n",
        "from breast_segmentation.models import BreastSegmentationModel, BreastFusionModel\n",
        "from breast_segmentation.metrics.losses import (\n",
        "    CABFL, SurfaceLossBinary, AsymmetricUnifiedFocalLoss, \n",
        "    AsymmetricFocalLoss, AsymmetricFocalTverskyLoss\n",
        ")\n",
        "from breast_segmentation.inference import (\n",
        "    test_dataset_aware_no_patches,\n",
        "    test_dataset_aware_fusion,\n",
        "    test_dataset_aware_ensemble\n",
        ")\n",
        "from breast_segmentation.utils import (\n",
        "    get_patient_ids, get_image_label_files_patient_aware, reverse_transformations,\n",
        "    visualize_predictions, visualize_volume_predictions\n",
        ")\n",
        "from breast_segmentation.data import custom_collate_no_patches, custom_collate\n",
        "from breast_segmentation.metrics import filter_masses\n",
        "\n",
        "pp = pprint.PrettyPrinter(indent=2, width=100)\n",
        "\n",
        "# Register loss classes for checkpoint loading\n",
        "sys.modules['__main__'].CABFL = CABFL\n",
        "sys.modules['__main__'].SurfaceLossBinary = SurfaceLossBinary\n",
        "sys.modules['__main__'].AsymmetricUnifiedFocalLoss = AsymmetricUnifiedFocalLoss\n",
        "sys.modules['__main__'].AsymmetricFocalLoss = AsymmetricFocalLoss\n",
        "sys.modules['__main__'].AsymmetricFocalTverskyLoss = AsymmetricFocalTverskyLoss"
      ]
    },
    {
      "cell_type": "markdown",
      "metadata": {},
      "source": [
        "## Configuration\n"
      ]
    },
    {
      "cell_type": "code",
      "execution_count": 2,
      "metadata": {},
      "outputs": [
        {
          "name": "stdout",
          "output_type": "stream",
          "text": [
            "Using device: cuda\n"
          ]
        }
      ],
      "source": [
        "# Settings\n",
        "BATCH_SIZE = 128\n",
        "NUM_WORKERS = os.cpu_count()\n",
        "SEED = 200\n",
        "\n",
        "# Data paths\n",
        "BREADM_DIR = \"./BreaDM\"\n",
        "TEST_DIR = os.path.join(BREADM_DIR, \"seg/\")\n",
        "dataset_base_path = TEST_DIR \n",
        "CHECKPOINTS_DIR = \"./checkpoints/breadm-dataset\"\n",
        "\n",
        "# Device\n",
        "device = torch.device(\"cuda\" if torch.cuda.is_available() else \"cpu\")\n",
        "print(f\"Using device: {device}\")\n",
        "\n",
        "# Set seeds\n",
        "torch.manual_seed(SEED)\n",
        "np.random.seed(SEED)\n",
        "if torch.cuda.is_available():\n",
        "    torch.cuda.manual_seed(SEED)\n"
      ]
    },
    {
      "cell_type": "markdown",
      "metadata": {},
      "source": [
        "## Load Test Patient IDs\n"
      ]
    },
    {
      "cell_type": "code",
      "execution_count": 3,
      "metadata": {},
      "outputs": [
        {
          "name": "stdout",
          "output_type": "stream",
          "text": [
            "Number of test patients: 50\n",
            "Test patient IDs: ['BreaDM-Be-1801', 'BreaDM-Be-1803', 'BreaDM-Be-1804', 'BreaDM-Be-1810', 'BreaDM-Be-1813']...\n"
          ]
        }
      ],
      "source": [
        "# Get test patient IDs\n",
        "x_test = get_patient_ids(TEST_DIR, split='test')\n",
        "print(f\"Number of test patients: {len(x_test)}\")\n",
        "print(f\"Test patient IDs: {x_test[:5]}...\")  # Show first 5\n"
      ]
    },
    {
      "cell_type": "markdown",
      "metadata": {},
      "source": [
        "## Prepare Datasets\n"
      ]
    },
    {
      "cell_type": "code",
      "execution_count": 4,
      "metadata": {},
      "outputs": [
        {
          "name": "stderr",
          "output_type": "stream",
          "text": [
            "Loading dataset: 100%|██████████| 7/7 [00:00<00:00, 23.09it/s]/s]\n",
            "Loading dataset: 100%|██████████| 7/7 [00:00<00:00, 10.34it/s]\n",
            "Loading dataset: 100%|██████████| 3/3 [00:00<00:00, 30.86it/s]  1.03s/it]\n",
            "Loading dataset: 100%|██████████| 3/3 [00:00<00:00, 12.68it/s]\n",
            "Loading dataset: 100%|██████████| 4/4 [00:00<00:00, 29.54it/s]  1.55it/s]\n",
            "Loading dataset: 100%|██████████| 4/4 [00:00<00:00, 10.15it/s]\n",
            "Loading dataset: 100%|██████████| 2/2 [00:00<00:00, 28.89it/s]  1.63it/s]\n",
            "Loading dataset: 100%|██████████| 2/2 [00:00<00:00, 12.87it/s]\n",
            "Loading dataset: 100%|██████████| 3/3 [00:00<00:00, 31.96it/s]  2.09it/s]\n",
            "Loading dataset: 100%|██████████| 3/3 [00:00<00:00, 12.84it/s]\n",
            "Loading dataset: 100%|██████████| 11/11 [00:00<00:00, 28.08it/s]2.28it/s]\n",
            "Loading dataset: 100%|██████████| 11/11 [00:01<00:00, 10.46it/s]\n",
            "Loading dataset: 100%|██████████| 2/2 [00:00<00:00, 27.27it/s]  1.24it/s]\n",
            "Loading dataset: 100%|██████████| 2/2 [00:00<00:00,  9.86it/s]\n",
            "Loading dataset: 100%|██████████| 10/10 [00:00<00:00, 27.07it/s]1.55it/s]\n",
            "Loading dataset: 100%|██████████| 10/10 [00:01<00:00,  9.96it/s]\n",
            "Loading dataset: 100%|██████████| 3/3 [00:00<00:00, 26.56it/s]  1.11it/s]\n",
            "Loading dataset: 100%|██████████| 3/3 [00:00<00:00,  9.28it/s]\n",
            "Loading dataset: 100%|██████████| 24/24 [00:00<00:00, 28.15it/s]1.30it/s]\n",
            "Loading dataset: 100%|██████████| 24/24 [00:02<00:00, 10.51it/s]\n",
            "Loading dataset: 100%|██████████| 3/3 [00:00<00:00, 27.63it/s],  1.52s/it]\n",
            "Loading dataset: 100%|██████████| 3/3 [00:00<00:00,  8.81it/s]\n",
            "Loading dataset: 100%|██████████| 4/4 [00:00<00:00, 30.17it/s],  1.21s/it]\n",
            "Loading dataset: 100%|██████████| 4/4 [00:00<00:00,  9.07it/s]\n",
            "Loading dataset: 100%|██████████| 5/5 [00:00<00:00, 30.25it/s],  1.03s/it]\n",
            "Loading dataset: 100%|██████████| 5/5 [00:00<00:00,  9.68it/s]\n",
            "Loading dataset: 100%|██████████| 5/5 [00:00<00:00, 32.37it/s],  1.06it/s]\n",
            "Loading dataset: 100%|██████████| 5/5 [00:00<00:00,  9.72it/s]\n",
            "Loading dataset: 100%|██████████| 4/4 [00:00<00:00, 29.58it/s],  1.14it/s]\n",
            "Loading dataset: 100%|██████████| 4/4 [00:00<00:00,  9.11it/s]\n",
            "Loading dataset: 100%|██████████| 9/9 [00:00<00:00, 24.92it/s],  1.25it/s]\n",
            "Loading dataset: 100%|██████████| 9/9 [00:00<00:00, 10.77it/s]\n",
            "Loading dataset: 100%|██████████| 8/8 [00:00<00:00, 26.38it/s],  1.07it/s]\n",
            "Loading dataset: 100%|██████████| 8/8 [00:00<00:00,  9.82it/s]\n",
            "Loading dataset: 100%|██████████| 9/9 [00:00<00:00, 26.19it/s],  1.01s/it]\n",
            "Loading dataset: 100%|██████████| 9/9 [00:00<00:00,  9.75it/s]\n",
            "Loading dataset: 100%|██████████| 3/3 [00:00<00:00, 27.52it/s],  1.11s/it]\n",
            "Loading dataset: 100%|██████████| 3/3 [00:00<00:00, 10.18it/s]\n",
            "Loading dataset: 100%|██████████| 9/9 [00:00<00:00, 27.62it/s],  1.10it/s]\n",
            "Loading dataset: 100%|██████████| 9/9 [00:00<00:00, 10.47it/s]\n",
            "Loading dataset: 100%|██████████| 5/5 [00:00<00:00, 30.03it/s],  1.01s/it]\n",
            "Loading dataset: 100%|██████████| 5/5 [00:00<00:00,  9.08it/s]\n",
            "Loading dataset: 100%|██████████| 8/8 [00:00<00:00, 28.95it/s],  1.06it/s]\n",
            "Loading dataset: 100%|██████████| 8/8 [00:00<00:00, 10.73it/s]\n",
            "Loading dataset: 100%|██████████| 5/5 [00:00<00:00, 31.58it/s],  1.02it/s]\n",
            "Loading dataset: 100%|██████████| 5/5 [00:00<00:00,  9.48it/s]\n",
            "Loading dataset: 100%|██████████| 6/6 [00:00<00:00, 29.21it/s],  1.10it/s]\n",
            "Loading dataset: 100%|██████████| 6/6 [00:00<00:00,  9.98it/s]\n",
            "Loading dataset: 100%|██████████| 3/3 [00:00<00:00, 29.34it/s],  1.12it/s]\n",
            "Loading dataset: 100%|██████████| 3/3 [00:00<00:00,  8.90it/s]\n",
            "Loading dataset: 100%|██████████| 16/16 [00:00<00:00, 26.98it/s] 1.30it/s]\n",
            "Loading dataset: 100%|██████████| 16/16 [00:01<00:00, 10.28it/s]\n",
            "Loading dataset: 100%|██████████| 8/8 [00:00<00:00, 27.94it/s],  1.20s/it]\n",
            "Loading dataset: 100%|██████████| 8/8 [00:00<00:00, 10.43it/s]\n",
            "Loading dataset: 100%|██████████| 10/10 [00:00<00:00, 14.64it/s] 1.18s/it]\n",
            "Loading dataset: 100%|██████████| 10/10 [00:00<00:00, 10.08it/s]\n",
            "Loading dataset: 100%|██████████| 5/5 [00:00<00:00, 27.43it/s],  1.34s/it]\n",
            "Loading dataset: 100%|██████████| 5/5 [00:00<00:00, 11.51it/s]\n",
            "Loading dataset: 100%|██████████| 13/13 [00:00<00:00, 26.85it/s] 1.14s/it]\n",
            "Loading dataset: 100%|██████████| 13/13 [00:01<00:00, 10.42it/s]\n",
            "Loading dataset: 100%|██████████| 15/15 [00:00<00:00, 26.91it/s] 1.34s/it]\n",
            "Loading dataset: 100%|██████████| 15/15 [00:01<00:00, 10.77it/s]\n",
            "Loading dataset: 100%|██████████| 15/15 [00:00<00:00, 27.58it/s] 1.55s/it]\n",
            "Loading dataset: 100%|██████████| 15/15 [00:01<00:00, 10.36it/s]\n",
            "Loading dataset: 100%|██████████| 12/12 [00:00<00:00, 26.88it/s] 1.71s/it]\n",
            "Loading dataset: 100%|██████████| 12/12 [00:01<00:00, 11.00it/s]\n",
            "Loading dataset: 100%|██████████| 22/22 [00:00<00:00, 27.21it/s] 1.68s/it]\n",
            "Loading dataset: 100%|██████████| 22/22 [00:01<00:00, 11.45it/s]\n",
            "Loading dataset: 100%|██████████| 2/2 [00:00<00:00, 21.35it/s],  2.03s/it]\n",
            "Loading dataset: 100%|██████████| 2/2 [00:00<00:00, 12.70it/s]\n",
            "Loading dataset: 100%|██████████| 9/9 [00:00<00:00, 28.28it/s],  1.51s/it]\n",
            "Loading dataset: 100%|██████████| 9/9 [00:00<00:00, 10.45it/s]\n",
            "Loading dataset: 100%|██████████| 11/11 [00:00<00:00, 28.42it/s] 1.43s/it]\n",
            "Loading dataset: 100%|██████████| 11/11 [00:01<00:00, 10.31it/s]\n",
            "Loading dataset: 100%|██████████| 11/11 [00:00<00:00, 27.67it/s] 1.45s/it]\n",
            "Loading dataset: 100%|██████████| 11/11 [00:01<00:00, 10.44it/s]\n",
            "Loading dataset: 100%|██████████| 13/13 [00:00<00:00, 26.66it/s] 1.48s/it]\n",
            "Loading dataset: 100%|██████████| 13/13 [00:01<00:00, 10.62it/s]\n",
            "Loading dataset: 100%|██████████| 12/12 [00:00<00:00, 25.85it/s] 1.57s/it]\n",
            "Loading dataset: 100%|██████████| 12/12 [00:01<00:00, 10.48it/s]\n",
            "Loading dataset: 100%|██████████| 5/5 [00:00<00:00, 26.09it/s],  1.60s/it]\n",
            "Loading dataset: 100%|██████████| 5/5 [00:00<00:00, 12.13it/s]\n",
            "Loading dataset: 100%|██████████| 13/13 [00:00<00:00, 26.06it/s] 1.32s/it]\n",
            "Loading dataset: 100%|██████████| 13/13 [00:01<00:00, 10.73it/s]\n",
            "Loading dataset: 100%|██████████| 11/11 [00:00<00:00, 26.62it/s] 1.46s/it]\n",
            "Loading dataset: 100%|██████████| 11/11 [00:01<00:00,  9.93it/s]\n",
            "Loading dataset: 100%|██████████| 5/5 [00:00<00:00, 25.60it/s],  1.50s/it]\n",
            "Loading dataset: 100%|██████████| 5/5 [00:00<00:00, 11.27it/s]\n",
            "Loading dataset: 100%|██████████| 6/6 [00:00<00:00, 26.69it/s],  1.26s/it]\n",
            "Loading dataset: 100%|██████████| 6/6 [00:00<00:00, 11.96it/s]\n",
            "Loading dataset: 100%|██████████| 7/7 [00:00<00:00, 27.13it/s],  1.11s/it]\n",
            "Loading dataset: 100%|██████████| 7/7 [00:00<00:00, 10.81it/s]\n",
            "Loading dataset: 100%|██████████| 15/15 [00:00<00:00, 27.30it/s] 1.07s/it]\n",
            "Loading dataset: 100%|██████████| 15/15 [00:01<00:00, 10.54it/s]\n",
            "Loading dataset: 100%|██████████| 10/10 [00:00<00:00, 26.80it/s] 1.37s/it]\n",
            "Loading dataset: 100%|██████████| 10/10 [00:01<00:00,  9.75it/s]\n",
            "Loading dataset: 100%|██████████| 11/11 [00:00<00:00, 28.97it/s] 1.39s/it]\n",
            "Loading dataset: 100%|██████████| 11/11 [00:01<00:00, 10.49it/s]\n",
            "Loading dataset: 100%|██████████| 5/5 [00:00<00:00, 26.16it/s],  1.43s/it]\n",
            "Loading dataset: 100%|██████████| 5/5 [00:00<00:00, 10.74it/s]\n",
            "Creating patient datasets: 100%|██████████| 50/50 [00:58<00:00,  1.17s/it]"
          ]
        },
        {
          "name": "stdout",
          "output_type": "stream",
          "text": [
            "Patient datasets created successfully!\n"
          ]
        },
        {
          "name": "stderr",
          "output_type": "stream",
          "text": [
            "\n"
          ]
        }
      ],
      "source": [
        "# Pre-computed statistics (from training)\n",
        "GLOBAL_MEAN = 10.217766761779785\n",
        "GLOBAL_STD = 26.677101135253906\n",
        "PATCHES_MEAN =  20.630817413330078\n",
        "PATCHES_STD = 35.328887939453125\n",
        "\n",
        "# Create patient-aware datasets\n",
        "datasets = {}\n",
        "for patient_id in tqdm(x_test, desc=\"Creating patient datasets\"):\n",
        "    # Get files for this patient\n",
        "    image_files, label_files = get_image_label_files_patient_aware(\n",
        "        dataset_base_path=\"BreaDM/seg\", \n",
        "        split=\"test\", \n",
        "        image_type=\"VIBRANT+C2\", \n",
        "        patient_id=patient_id\n",
        "    )\n",
        "    \n",
        "    data_dicts = [\n",
        "        {\"image\": img, \"label\": lbl, \"subtracted\": img}\n",
        "        for img, lbl in zip(image_files, label_files)\n",
        "    ]\n",
        "    \n",
        "    # Define transforms following rebuttal notebook pattern\n",
        "    test_transforms_no_thorax_sub = monai.transforms.Compose([\n",
        "        monai.transforms.LoadImaged(keys=[\"image\", \"label\"], \n",
        "                                   image_only=False, \n",
        "                                   reader=monai.data.PILReader(converter=lambda image: image.convert(\"L\"))),\n",
        "        monai.transforms.EnsureChannelFirstd(keys=[\"image\", \"label\"]),\n",
        "        monai.transforms.Rotate90d(keys=[\"image\", \"label\"]),\n",
        "        Preprocess(keys=None, \n",
        "                  mode='test',  \n",
        "                  dataset=\"BREADM\", \n",
        "                  subtracted_images_path_prefixes=(\"VIBRANT+C2\", \"SUB2\"), \n",
        "                  subtrahend=GLOBAL_MEAN, \n",
        "                  divisor=GLOBAL_STD, \n",
        "                  get_patches=False,\n",
        "                  get_boundaryloss=False)\n",
        "    ])\n",
        "    \n",
        "    test_transforms_patches_sub = monai.transforms.Compose([\n",
        "        monai.transforms.LoadImaged(keys=[\"image\", \"label\"], \n",
        "                                   image_only=False, \n",
        "                                   reader=monai.data.PILReader(converter=lambda image: image.convert(\"L\"))),\n",
        "        monai.transforms.EnsureChannelFirstd(keys=[\"image\", \"label\"]),\n",
        "        monai.transforms.Rotate90d(keys=[\"image\", \"label\"]),\n",
        "        Preprocess(keys=None, \n",
        "                  mode='test',  \n",
        "                  dataset=\"BREADM\", \n",
        "                  subtracted_images_path_prefixes=(\"VIBRANT+C2\", \"SUB2\"), \n",
        "                  subtrahend=PATCHES_MEAN, \n",
        "                  divisor=PATCHES_STD, \n",
        "                  get_patches=True,\n",
        "                  get_boundaryloss=False)\n",
        "    ])\n",
        "    \n",
        "    # No thorax dataset (whole images)\n",
        "    no_thorax_test_ds = CacheDataset(\n",
        "        data=data_dicts,\n",
        "        transform=test_transforms_no_thorax_sub,\n",
        "        cache_rate=1.0,\n",
        "        num_workers=NUM_WORKERS\n",
        "    )\n",
        "    \n",
        "    # Patches dataset  \n",
        "    patches_test_ds = CacheDataset(\n",
        "        data=data_dicts,\n",
        "        transform=test_transforms_patches_sub,\n",
        "        cache_rate=1.0,\n",
        "        num_workers=NUM_WORKERS\n",
        "    )\n",
        "    \n",
        "    datasets[patient_id] = {\n",
        "        'no_thorax_sub_test_ds': no_thorax_test_ds,\n",
        "        'patches_sub_test_ds': patches_test_ds\n",
        "    }\n",
        "\n",
        "print(\"Patient datasets created successfully!\")\n",
        "\n",
        "# Define data_transforms dictionary for visualization function\n",
        "data_transforms = {\n",
        "    'no_thorax_sub_test_ds': test_transforms_no_thorax_sub,\n",
        "    'no_thorax_sub_thorax_test_ds': test_transforms_no_thorax_sub,  # Same transform\n",
        "    'patches_sub_test_ds': test_transforms_patches_sub\n",
        "}\n"
      ]
    },
    {
      "cell_type": "markdown",
      "metadata": {},
      "source": [
        "## Model Checkpoint Paths\n"
      ]
    },
    {
      "cell_type": "code",
      "execution_count": 5,
      "metadata": {},
      "outputs": [
        {
          "name": "stdout",
          "output_type": "stream",
          "text": [
            "Available models:\n",
            "  ✓ venus_tiny: ./checkpoints/breadm-dataset/venus-tiny-best.ckpt\n",
            "  ✓ unetplusplus: ./checkpoints/breadm-dataset/unetplusplus_model.ckpt\n",
            "  ✓ skinny: ./checkpoints/breadm-dataset/skinny_model.ckpt\n",
            "  ✓ resnet50: ./checkpoints/breadm-dataset/resnet50.ckpt\n",
            "  ✓ fcn: ./checkpoints/breadm-dataset/unetplusplus_model.ckpt\n",
            "  ✓ segnet: ./checkpoints/breadm-dataset/segnet_model_large.ckpt\n",
            "  ✓ swin: ./checkpoints/breadm-dataset/swin_model.ckpt\n",
            "  ✓ resnet50_patches: ./checkpoints/breadm-dataset/resnet50-patches.ckpt\n",
            "  ✓ resnet18_patches: ./checkpoints/breadm-dataset/resnet18-patches.ckpt\n",
            "  ✓ unetplusplus_patches: ./checkpoints/breadm-dataset/unetplusplus-patches-cabfl.ckpt\n"
          ]
        }
      ],
      "source": [
        "model_paths = {\n",
        "    # VENUS fusion models\n",
        "    'venus_tiny': f'{CHECKPOINTS_DIR}/venus-tiny-best.ckpt',\n",
        "    \n",
        "    # Baseline models\n",
        "    'unetplusplus': f'{CHECKPOINTS_DIR}/unetplusplus_model.ckpt',\n",
        "    'skinny': f'{CHECKPOINTS_DIR}/skinny_model.ckpt',\n",
        "    'resnet50': f'{CHECKPOINTS_DIR}/resnet50.ckpt',\n",
        "    'fcn': f'{CHECKPOINTS_DIR}/unetplusplus_model.ckpt',  \n",
        "    'segnet': f'{CHECKPOINTS_DIR}/segnet_model_large.ckpt',\n",
        "    'swin': f'{CHECKPOINTS_DIR}/swin_model.ckpt',\n",
        "    \n",
        "    # Patches models\n",
        "    'resnet50_patches': f'{CHECKPOINTS_DIR}/resnet50-patches.ckpt',\n",
        "    'resnet18_patches': f'{CHECKPOINTS_DIR}/resnet18-patches.ckpt',\n",
        "    'unetplusplus_patches': f'{CHECKPOINTS_DIR}/unetplusplus-patches-cabfl.ckpt',\n",
        "}\n",
        "\n",
        "# Check which models are available\n",
        "print(\"Available models:\")\n",
        "for name, path in model_paths.items():\n",
        "    if os.path.exists(path):\n",
        "        print(f\"  ✓ {name}: {path}\")\n",
        "    else:\n",
        "        print(f\"  ✗ {name}: {path} (not found)\")\n"
      ]
    },
    {
      "cell_type": "markdown",
      "metadata": {},
      "source": [
        "## Test VENUS Model\n"
      ]
    },
    {
      "cell_type": "code",
      "execution_count": 6,
      "metadata": {},
      "outputs": [
        {
          "name": "stdout",
          "output_type": "stream",
          "text": [
            "Testing VENUS Tiny ...\n"
          ]
        },
        {
          "name": "stderr",
          "output_type": "stream",
          "text": [
            "c:\\Users\\pabli\\AppData\\Local\\pypoetry\\Cache\\virtualenvs\\venus-nCPuPPcI-py3.9\\lib\\site-packages\\lightning\\pytorch\\utilities\\parsing.py:210: Attribute 't_loss' is an instance of `nn.Module` and is already saved during checkpointing. It is recommended to ignore them using `self.save_hyperparameters(ignore=['t_loss'])`.\n"
          ]
        },
        {
          "name": "stdout",
          "output_type": "stream",
          "text": [
            "BreaDM-Be-1801\n"
          ]
        },
        {
          "name": "stderr",
          "output_type": "stream",
          "text": [
            "100%|██████████| 7/7 [00:00<00:00,  9.87it/s]\n"
          ]
        },
        {
          "name": "stdout",
          "output_type": "stream",
          "text": [
            "BreaDM-Be-1803\n"
          ]
        },
        {
          "name": "stderr",
          "output_type": "stream",
          "text": [
            "100%|██████████| 3/3 [00:00<00:00, 17.23it/s]\n"
          ]
        },
        {
          "name": "stdout",
          "output_type": "stream",
          "text": [
            "BreaDM-Be-1804\n"
          ]
        },
        {
          "name": "stderr",
          "output_type": "stream",
          "text": [
            "100%|██████████| 4/4 [00:00<00:00, 18.09it/s]\n"
          ]
        },
        {
          "name": "stdout",
          "output_type": "stream",
          "text": [
            "BreaDM-Be-1810\n"
          ]
        },
        {
          "name": "stderr",
          "output_type": "stream",
          "text": [
            "100%|██████████| 2/2 [00:00<00:00, 17.70it/s]\n"
          ]
        },
        {
          "name": "stdout",
          "output_type": "stream",
          "text": [
            "BreaDM-Be-1813\n"
          ]
        },
        {
          "name": "stderr",
          "output_type": "stream",
          "text": [
            "100%|██████████| 3/3 [00:00<00:00, 18.15it/s]\n"
          ]
        },
        {
          "name": "stdout",
          "output_type": "stream",
          "text": [
            "BreaDM-Be-1822\n"
          ]
        },
        {
          "name": "stderr",
          "output_type": "stream",
          "text": [
            "100%|██████████| 11/11 [00:00<00:00, 17.54it/s]\n"
          ]
        },
        {
          "name": "stdout",
          "output_type": "stream",
          "text": [
            "BreaDM-Be-1826\n"
          ]
        },
        {
          "name": "stderr",
          "output_type": "stream",
          "text": [
            "100%|██████████| 2/2 [00:00<00:00, 18.06it/s]\n"
          ]
        },
        {
          "name": "stdout",
          "output_type": "stream",
          "text": [
            "BreaDM-Be-1906\n"
          ]
        },
        {
          "name": "stderr",
          "output_type": "stream",
          "text": [
            "100%|██████████| 10/10 [00:00<00:00, 18.75it/s]\n"
          ]
        },
        {
          "name": "stdout",
          "output_type": "stream",
          "text": [
            "BreaDM-Be-1907\n"
          ]
        },
        {
          "name": "stderr",
          "output_type": "stream",
          "text": [
            "100%|██████████| 3/3 [00:00<00:00, 17.44it/s]"
          ]
        },
        {
          "name": "stdout",
          "output_type": "stream",
          "text": [
            "BreaDM-Be-1909"
          ]
        },
        {
          "name": "stderr",
          "output_type": "stream",
          "text": [
            "\n"
          ]
        },
        {
          "name": "stdout",
          "output_type": "stream",
          "text": [
            "\n"
          ]
        },
        {
          "name": "stderr",
          "output_type": "stream",
          "text": [
            "100%|██████████| 24/24 [00:01<00:00, 18.40it/s]\n"
          ]
        },
        {
          "name": "stdout",
          "output_type": "stream",
          "text": [
            "BreaDM-Be-1914\n"
          ]
        },
        {
          "name": "stderr",
          "output_type": "stream",
          "text": [
            "100%|██████████| 3/3 [00:00<00:00, 17.47it/s]\n"
          ]
        },
        {
          "name": "stdout",
          "output_type": "stream",
          "text": [
            "BreaDM-Be-2001\n"
          ]
        },
        {
          "name": "stderr",
          "output_type": "stream",
          "text": [
            "100%|██████████| 4/4 [00:00<00:00, 18.73it/s]\n"
          ]
        },
        {
          "name": "stdout",
          "output_type": "stream",
          "text": [
            "BreaDM-Be-2002\n"
          ]
        },
        {
          "name": "stderr",
          "output_type": "stream",
          "text": [
            "100%|██████████| 5/5 [00:00<00:00, 17.58it/s]\n"
          ]
        },
        {
          "name": "stdout",
          "output_type": "stream",
          "text": [
            "BreaDM-Be-2013\n"
          ]
        },
        {
          "name": "stderr",
          "output_type": "stream",
          "text": [
            "100%|██████████| 5/5 [00:00<00:00, 18.58it/s]\n"
          ]
        },
        {
          "name": "stdout",
          "output_type": "stream",
          "text": [
            "BreaDM-Be-2019\n"
          ]
        },
        {
          "name": "stderr",
          "output_type": "stream",
          "text": [
            "100%|██████████| 4/4 [00:00<00:00, 18.28it/s]\n"
          ]
        },
        {
          "name": "stdout",
          "output_type": "stream",
          "text": [
            "BreaDM-Be-2020\n"
          ]
        },
        {
          "name": "stderr",
          "output_type": "stream",
          "text": [
            "100%|██████████| 9/9 [00:00<00:00, 16.94it/s]\n"
          ]
        },
        {
          "name": "stdout",
          "output_type": "stream",
          "text": [
            "BreaDM-Be-2022\n"
          ]
        },
        {
          "name": "stderr",
          "output_type": "stream",
          "text": [
            "100%|██████████| 8/8 [00:00<00:00, 17.85it/s]\n"
          ]
        },
        {
          "name": "stdout",
          "output_type": "stream",
          "text": [
            "BreaDM-Be-2102\n"
          ]
        },
        {
          "name": "stderr",
          "output_type": "stream",
          "text": [
            "100%|██████████| 9/9 [00:00<00:00, 17.45it/s]\n"
          ]
        },
        {
          "name": "stdout",
          "output_type": "stream",
          "text": [
            "BreaDM-Be-2111\n"
          ]
        },
        {
          "name": "stderr",
          "output_type": "stream",
          "text": [
            "100%|██████████| 3/3 [00:00<00:00, 17.59it/s]\n"
          ]
        },
        {
          "name": "stdout",
          "output_type": "stream",
          "text": [
            "BreaDM-Be-2113\n"
          ]
        },
        {
          "name": "stderr",
          "output_type": "stream",
          "text": [
            "100%|██████████| 9/9 [00:00<00:00, 17.50it/s]\n"
          ]
        },
        {
          "name": "stdout",
          "output_type": "stream",
          "text": [
            "BreaDM-Ma-1801\n"
          ]
        },
        {
          "name": "stderr",
          "output_type": "stream",
          "text": [
            "100%|██████████| 5/5 [00:00<00:00, 17.13it/s]\n"
          ]
        },
        {
          "name": "stdout",
          "output_type": "stream",
          "text": [
            "BreaDM-Ma-1821\n"
          ]
        },
        {
          "name": "stderr",
          "output_type": "stream",
          "text": [
            "100%|██████████| 8/8 [00:00<00:00, 16.97it/s]\n"
          ]
        },
        {
          "name": "stdout",
          "output_type": "stream",
          "text": [
            "BreaDM-Ma-1824\n"
          ]
        },
        {
          "name": "stderr",
          "output_type": "stream",
          "text": [
            "100%|██████████| 5/5 [00:00<00:00, 17.08it/s]\n"
          ]
        },
        {
          "name": "stdout",
          "output_type": "stream",
          "text": [
            "BreaDM-Ma-1908\n"
          ]
        },
        {
          "name": "stderr",
          "output_type": "stream",
          "text": [
            "100%|██████████| 6/6 [00:00<00:00, 16.31it/s]\n"
          ]
        },
        {
          "name": "stdout",
          "output_type": "stream",
          "text": [
            "BreaDM-Ma-1909\n"
          ]
        },
        {
          "name": "stderr",
          "output_type": "stream",
          "text": [
            "100%|██████████| 3/3 [00:00<00:00, 18.26it/s]\n"
          ]
        },
        {
          "name": "stdout",
          "output_type": "stream",
          "text": [
            "BreaDM-Ma-1915\n"
          ]
        },
        {
          "name": "stderr",
          "output_type": "stream",
          "text": [
            "100%|██████████| 16/16 [00:00<00:00, 16.83it/s]\n"
          ]
        },
        {
          "name": "stdout",
          "output_type": "stream",
          "text": [
            "BreaDM-Ma-1916\n"
          ]
        },
        {
          "name": "stderr",
          "output_type": "stream",
          "text": [
            "100%|██████████| 8/8 [00:00<00:00, 17.05it/s]\n"
          ]
        },
        {
          "name": "stdout",
          "output_type": "stream",
          "text": [
            "BreaDM-Ma-1919\n"
          ]
        },
        {
          "name": "stderr",
          "output_type": "stream",
          "text": [
            "100%|██████████| 10/10 [00:00<00:00, 16.99it/s]\n"
          ]
        },
        {
          "name": "stdout",
          "output_type": "stream",
          "text": [
            "BreaDM-Ma-1921\n"
          ]
        },
        {
          "name": "stderr",
          "output_type": "stream",
          "text": [
            "100%|██████████| 5/5 [00:00<00:00, 17.58it/s]\n"
          ]
        },
        {
          "name": "stdout",
          "output_type": "stream",
          "text": [
            "BreaDM-Ma-1923\n"
          ]
        },
        {
          "name": "stderr",
          "output_type": "stream",
          "text": [
            "100%|██████████| 13/13 [00:00<00:00, 17.12it/s]\n"
          ]
        },
        {
          "name": "stdout",
          "output_type": "stream",
          "text": [
            "BreaDM-Ma-2007\n"
          ]
        },
        {
          "name": "stderr",
          "output_type": "stream",
          "text": [
            "100%|██████████| 15/15 [00:00<00:00, 17.40it/s]\n"
          ]
        },
        {
          "name": "stdout",
          "output_type": "stream",
          "text": [
            "BreaDM-Ma-2012\n"
          ]
        },
        {
          "name": "stderr",
          "output_type": "stream",
          "text": [
            "100%|██████████| 15/15 [00:00<00:00, 17.42it/s]\n"
          ]
        },
        {
          "name": "stdout",
          "output_type": "stream",
          "text": [
            "BreaDM-Ma-2026\n"
          ]
        },
        {
          "name": "stderr",
          "output_type": "stream",
          "text": [
            "100%|██████████| 12/12 [00:00<00:00, 17.05it/s]\n"
          ]
        },
        {
          "name": "stdout",
          "output_type": "stream",
          "text": [
            "BreaDM-Ma-2027\n"
          ]
        },
        {
          "name": "stderr",
          "output_type": "stream",
          "text": [
            "100%|██████████| 22/22 [00:01<00:00, 17.41it/s]\n"
          ]
        },
        {
          "name": "stdout",
          "output_type": "stream",
          "text": [
            "BreaDM-Ma-2038\n"
          ]
        },
        {
          "name": "stderr",
          "output_type": "stream",
          "text": [
            "100%|██████████| 2/2 [00:00<00:00, 16.69it/s]\n"
          ]
        },
        {
          "name": "stdout",
          "output_type": "stream",
          "text": [
            "BreaDM-Ma-2039\n"
          ]
        },
        {
          "name": "stderr",
          "output_type": "stream",
          "text": [
            "100%|██████████| 9/9 [00:00<00:00, 18.00it/s]\n"
          ]
        },
        {
          "name": "stdout",
          "output_type": "stream",
          "text": [
            "BreaDM-Ma-2043\n"
          ]
        },
        {
          "name": "stderr",
          "output_type": "stream",
          "text": [
            "100%|██████████| 11/11 [00:00<00:00, 17.56it/s]\n"
          ]
        },
        {
          "name": "stdout",
          "output_type": "stream",
          "text": [
            "BreaDM-Ma-2044\n"
          ]
        },
        {
          "name": "stderr",
          "output_type": "stream",
          "text": [
            "100%|██████████| 11/11 [00:00<00:00, 17.00it/s]\n"
          ]
        },
        {
          "name": "stdout",
          "output_type": "stream",
          "text": [
            "BreaDM-Ma-2107\n"
          ]
        },
        {
          "name": "stderr",
          "output_type": "stream",
          "text": [
            "100%|██████████| 13/13 [00:00<00:00, 17.08it/s]\n"
          ]
        },
        {
          "name": "stdout",
          "output_type": "stream",
          "text": [
            "BreaDM-Ma-2108\n"
          ]
        },
        {
          "name": "stderr",
          "output_type": "stream",
          "text": [
            "100%|██████████| 12/12 [00:00<00:00, 18.40it/s]\n"
          ]
        },
        {
          "name": "stdout",
          "output_type": "stream",
          "text": [
            "BreaDM-Ma-2109\n"
          ]
        },
        {
          "name": "stderr",
          "output_type": "stream",
          "text": [
            "100%|██████████| 5/5 [00:00<00:00, 17.51it/s]\n"
          ]
        },
        {
          "name": "stdout",
          "output_type": "stream",
          "text": [
            "BreaDM-Ma-2116\n"
          ]
        },
        {
          "name": "stderr",
          "output_type": "stream",
          "text": [
            "100%|██████████| 13/13 [00:00<00:00, 18.27it/s]\n"
          ]
        },
        {
          "name": "stdout",
          "output_type": "stream",
          "text": [
            "BreaDM-Ma-2118\n"
          ]
        },
        {
          "name": "stderr",
          "output_type": "stream",
          "text": [
            "100%|██████████| 11/11 [00:00<00:00, 16.87it/s]\n"
          ]
        },
        {
          "name": "stdout",
          "output_type": "stream",
          "text": [
            "BreaDM-Ma-2122\n"
          ]
        },
        {
          "name": "stderr",
          "output_type": "stream",
          "text": [
            "100%|██████████| 5/5 [00:00<00:00, 16.81it/s]\n"
          ]
        },
        {
          "name": "stdout",
          "output_type": "stream",
          "text": [
            "BreaDM-Ma-2125\n"
          ]
        },
        {
          "name": "stderr",
          "output_type": "stream",
          "text": [
            "100%|██████████| 6/6 [00:00<00:00, 16.73it/s]\n"
          ]
        },
        {
          "name": "stdout",
          "output_type": "stream",
          "text": [
            "BreaDM-Ma-2126\n"
          ]
        },
        {
          "name": "stderr",
          "output_type": "stream",
          "text": [
            "100%|██████████| 7/7 [00:00<00:00, 16.06it/s]\n"
          ]
        },
        {
          "name": "stdout",
          "output_type": "stream",
          "text": [
            "BreaDM-Ma-2131\n"
          ]
        },
        {
          "name": "stderr",
          "output_type": "stream",
          "text": [
            "100%|██████████| 15/15 [00:00<00:00, 16.83it/s]\n"
          ]
        },
        {
          "name": "stdout",
          "output_type": "stream",
          "text": [
            "BreaDM-Ma-2134\n"
          ]
        },
        {
          "name": "stderr",
          "output_type": "stream",
          "text": [
            "100%|██████████| 10/10 [00:00<00:00, 17.00it/s]\n"
          ]
        },
        {
          "name": "stdout",
          "output_type": "stream",
          "text": [
            "BreaDM-Ma-2140\n"
          ]
        },
        {
          "name": "stderr",
          "output_type": "stream",
          "text": [
            "100%|██████████| 11/11 [00:00<00:00, 17.02it/s]\n"
          ]
        },
        {
          "name": "stdout",
          "output_type": "stream",
          "text": [
            "BreaDM-Ma-2141\n"
          ]
        },
        {
          "name": "stderr",
          "output_type": "stream",
          "text": [
            "100%|██████████| 5/5 [00:00<00:00, 17.47it/s]\n"
          ]
        },
        {
          "name": "stdout",
          "output_type": "stream",
          "text": [
            "MODEL CLASS MEAN IOU  0.87886894\n",
            "MODEL CLASS STD IOU  0.08537499\n",
            "\n",
            "MODEL CLASS MEAN DICE  0.92374074\n",
            "MODEL CLASS STD DICE  0.07815897\n",
            "\n",
            "MODEL DIOU 0.9856115107913669\n",
            "MODEL DIOU STD  0.11908593782191977\n",
            "\n",
            "MODEL IOU MASS VOLUME  0.7583257555961609\n",
            "MODEL IOU MASS VOLUME STD  0.17047640681266785\n",
            "\n",
            "MODEL IOU MASS VOLUME NO EMPTY  0.7583257555961609\n",
            "MODEL IOU MASS VOLUME NO EMPTY STD  0.1702718734741211\n",
            "\n",
            "MODEL IOU MASS VOLUME NO EMPTY OPTIMISTIC  0.7583257555961609\n",
            "MODEL IOU MASS VOLUME NO EMPTY OPTIMISTIC STD  0.1702718734741211\n",
            "MODEL DICE MASS VOLUME  0.8477756977081299\n",
            "MODEL DICE MASS VOLUME STD  0.15608349442481995\n",
            "\n",
            "MODEL DICE MASS VOLUME NO EMPTY  0.8477756977081299\n",
            "MODEL DICE MASS VOLUME NO EMPTY STD  0.15608349442481995\n",
            "\n",
            "MODEL DICE MASS VOLUME NO EMPTY OPTIMISTIC  0.8477756977081299\n",
            "MODEL DICE MASS VOLUME NO EMPTY OPTIMISTIC STD  0.15608349442481995\n",
            "\n",
            "MODEL MEAN ACCURACY NO EMPTY 0.8788689374923706\n",
            "MODEL MEAN ACCURACY NO EMPTY STD 0.08559996\n",
            "\n",
            "MODEL MEAN PRECISION NO EMPTY 0.9319203197956085\n",
            "MODEL MEAN PRECISION NO EMPTY STD 0.069912255\n",
            "\n",
            "MODEL MEAN RECALL NO EMPTY 0.9290023148059845\n",
            "MODEL MEAN RECALL NO EMPTY STD 0.0803495\n",
            "\n",
            "MODEL MEAN F1 NO EMPTY 0.92374074\n",
            "MODEL MEAN F1 NO EMPTY STD 0.07815897\n",
            "\n",
            "MODEL ACCURACY EXCLUDING CASES  0.9994139671325684\n",
            "MODEL ACCURACY EXCLUDING CASES STD  0.0009248594\n",
            "\n",
            "MODEL PRECISION EXCLUDING CASES  0.8641378879547119\n",
            "MODEL PRECISION EXCLUDING CASES STD  0.13925727\n",
            "\n",
            "MODEL RECALL EXCLUDING CASES  0.8582956194877625\n",
            "MODEL RECALL EXCLUDING CASES STD  0.16018926\n",
            "\n",
            "MODEL ACCURACY NO EMPTY  0.7583257555961609\n",
            "MODEL ACCURACY NO EMPTY STD  0.17027187\n",
            "\n",
            "MODEL PRECISION NO EMPTY 0.8641378879547119\n",
            "MODEL PRECISION NO EMPTY STD  0.13925727\n",
            "\n",
            "MODEL RECALL NO EMPTY  0.8582956194877625\n",
            "MODEL RECALL NO EMPTY STD  0.16018926\n",
            "\n",
            "MODEL F1 NO EMPTY  0.8477756977081299\n",
            "MODEL F1 NO EMPTY STD  0.1560835\n",
            "\n",
            "\n",
            "VENUS Tiny:\n",
            "None\n"
          ]
        }
      ],
      "source": [
        "# Test 1: venus-tiny-best.ckpt\n",
        "if os.path.exists(model_paths['venus_tiny']):\n",
        "    print(\"Testing VENUS Tiny ...\")\n",
        "    scores_for_statistics_fusion_tiny = test_dataset_aware_fusion(\n",
        "        model_path=model_paths['venus_tiny'],\n",
        "        patient_ids=x_test,\n",
        "        datasets=datasets,\n",
        "        whole_dataset_key=\"no_thorax_sub_test_ds\",\n",
        "        patches_dataset_key=\"patches_sub_test_ds\",\n",
        "        use_simple_fusion=False,\n",
        "        use_decoder_attention=True,\n",
        "        strict=True,\n",
        "        filter=False,\n",
        "        subtracted=True,\n",
        "        get_scores_for_statistics=False,\n",
        "        get_only_masses=False,\n",
        "        base_channels=16\n",
        "    )\n",
        "\n",
        "    if scores_for_statistics_fusion_tiny:\n",
        "        print(\"\\nVENUS Tiny:\")\n",
        "        pp.pprint(scores_for_statistics_fusion_tiny)\n",
        "else:\n",
        "    print(\"venus-tiny.ckpt not found.\")\n",
        "    scores_for_statistics_fusion_tiny = None"
      ]
    },
    {
      "cell_type": "markdown",
      "metadata": {},
      "source": [
        "## Test Baseline Models\n"
      ]
    },
    {
      "cell_type": "code",
      "execution_count": null,
      "metadata": {},
      "outputs": [
        {
          "name": "stdout",
          "output_type": "stream",
          "text": [
            "Testing UNet++ model...\n",
            "BasicUNetPlusPlus features: (32, 32, 64, 128, 256, 32).\n",
            "Initialized SurfaceLossBinary with [1]\n",
            "BreaDM-Be-1801\n"
          ]
        },
        {
          "name": "stderr",
          "output_type": "stream",
          "text": [
            "100%|██████████| 7/7 [00:00<00:00, 25.13it/s]\n"
          ]
        },
        {
          "name": "stdout",
          "output_type": "stream",
          "text": [
            "BreaDM-Be-1803\n"
          ]
        },
        {
          "name": "stderr",
          "output_type": "stream",
          "text": [
            "100%|██████████| 3/3 [00:00<00:00, 26.31it/s]\n"
          ]
        },
        {
          "name": "stdout",
          "output_type": "stream",
          "text": [
            "BreaDM-Be-1804\n"
          ]
        },
        {
          "name": "stderr",
          "output_type": "stream",
          "text": [
            "100%|██████████| 4/4 [00:00<00:00, 31.87it/s]\n"
          ]
        },
        {
          "name": "stdout",
          "output_type": "stream",
          "text": [
            "BreaDM-Be-1810\n"
          ]
        },
        {
          "name": "stderr",
          "output_type": "stream",
          "text": [
            "100%|██████████| 2/2 [00:00<00:00, 26.85it/s]\n"
          ]
        },
        {
          "name": "stdout",
          "output_type": "stream",
          "text": [
            "BreaDM-Be-1813\n"
          ]
        },
        {
          "name": "stderr",
          "output_type": "stream",
          "text": [
            "100%|██████████| 3/3 [00:00<00:00, 30.76it/s]\n"
          ]
        },
        {
          "name": "stdout",
          "output_type": "stream",
          "text": [
            "BreaDM-Be-1822\n"
          ]
        },
        {
          "name": "stderr",
          "output_type": "stream",
          "text": [
            "100%|██████████| 11/11 [00:00<00:00, 31.21it/s]\n"
          ]
        },
        {
          "name": "stdout",
          "output_type": "stream",
          "text": [
            "BreaDM-Be-1826\n"
          ]
        },
        {
          "name": "stderr",
          "output_type": "stream",
          "text": [
            "100%|██████████| 2/2 [00:00<00:00, 27.31it/s]\n"
          ]
        },
        {
          "name": "stdout",
          "output_type": "stream",
          "text": [
            "BreaDM-Be-1906\n"
          ]
        },
        {
          "name": "stderr",
          "output_type": "stream",
          "text": [
            "100%|██████████| 10/10 [00:00<00:00, 28.15it/s]\n"
          ]
        },
        {
          "name": "stdout",
          "output_type": "stream",
          "text": [
            "BreaDM-Be-1907\n"
          ]
        },
        {
          "name": "stderr",
          "output_type": "stream",
          "text": [
            "100%|██████████| 3/3 [00:00<00:00, 26.70it/s]\n"
          ]
        },
        {
          "name": "stdout",
          "output_type": "stream",
          "text": [
            "BreaDM-Be-1909\n"
          ]
        },
        {
          "name": "stderr",
          "output_type": "stream",
          "text": [
            "100%|██████████| 24/24 [00:00<00:00, 26.84it/s]\n"
          ]
        },
        {
          "name": "stdout",
          "output_type": "stream",
          "text": [
            "BreaDM-Be-1914\n"
          ]
        },
        {
          "name": "stderr",
          "output_type": "stream",
          "text": [
            "100%|██████████| 3/3 [00:00<00:00, 25.65it/s]\n"
          ]
        },
        {
          "name": "stdout",
          "output_type": "stream",
          "text": [
            "BreaDM-Be-2001\n"
          ]
        },
        {
          "name": "stderr",
          "output_type": "stream",
          "text": [
            "100%|██████████| 4/4 [00:00<00:00, 27.57it/s]\n"
          ]
        },
        {
          "name": "stdout",
          "output_type": "stream",
          "text": [
            "BreaDM-Be-2002\n"
          ]
        },
        {
          "name": "stderr",
          "output_type": "stream",
          "text": [
            "100%|██████████| 5/5 [00:00<00:00, 26.07it/s]\n"
          ]
        },
        {
          "name": "stdout",
          "output_type": "stream",
          "text": [
            "BreaDM-Be-2013\n"
          ]
        },
        {
          "name": "stderr",
          "output_type": "stream",
          "text": [
            "100%|██████████| 5/5 [00:00<00:00, 27.46it/s]\n"
          ]
        },
        {
          "name": "stdout",
          "output_type": "stream",
          "text": [
            "BreaDM-Be-2019\n"
          ]
        },
        {
          "name": "stderr",
          "output_type": "stream",
          "text": [
            "100%|██████████| 4/4 [00:00<00:00, 27.18it/s]\n"
          ]
        },
        {
          "name": "stdout",
          "output_type": "stream",
          "text": [
            "BreaDM-Be-2020\n"
          ]
        },
        {
          "name": "stderr",
          "output_type": "stream",
          "text": [
            "100%|██████████| 9/9 [00:00<00:00, 27.31it/s]\n"
          ]
        },
        {
          "name": "stdout",
          "output_type": "stream",
          "text": [
            "BreaDM-Be-2022\n"
          ]
        },
        {
          "name": "stderr",
          "output_type": "stream",
          "text": [
            "100%|██████████| 8/8 [00:00<00:00, 27.95it/s]\n"
          ]
        },
        {
          "name": "stdout",
          "output_type": "stream",
          "text": [
            "BreaDM-Be-2102\n"
          ]
        },
        {
          "name": "stderr",
          "output_type": "stream",
          "text": [
            "100%|██████████| 9/9 [00:00<00:00, 25.80it/s]\n"
          ]
        },
        {
          "name": "stdout",
          "output_type": "stream",
          "text": [
            "BreaDM-Be-2111\n"
          ]
        },
        {
          "name": "stderr",
          "output_type": "stream",
          "text": [
            "100%|██████████| 3/3 [00:00<00:00, 27.64it/s]\n"
          ]
        },
        {
          "name": "stdout",
          "output_type": "stream",
          "text": [
            "BreaDM-Be-2113\n"
          ]
        },
        {
          "name": "stderr",
          "output_type": "stream",
          "text": [
            "100%|██████████| 9/9 [00:00<00:00, 26.38it/s]\n"
          ]
        },
        {
          "name": "stdout",
          "output_type": "stream",
          "text": [
            "BreaDM-Ma-1801\n"
          ]
        },
        {
          "name": "stderr",
          "output_type": "stream",
          "text": [
            "100%|██████████| 5/5 [00:00<00:00, 27.01it/s]\n"
          ]
        },
        {
          "name": "stdout",
          "output_type": "stream",
          "text": [
            "BreaDM-Ma-1821\n"
          ]
        },
        {
          "name": "stderr",
          "output_type": "stream",
          "text": [
            "100%|██████████| 8/8 [00:00<00:00, 26.92it/s]\n"
          ]
        },
        {
          "name": "stdout",
          "output_type": "stream",
          "text": [
            "BreaDM-Ma-1824\n"
          ]
        },
        {
          "name": "stderr",
          "output_type": "stream",
          "text": [
            "100%|██████████| 5/5 [00:00<00:00, 26.14it/s]\n"
          ]
        },
        {
          "name": "stdout",
          "output_type": "stream",
          "text": [
            "BreaDM-Ma-1908\n"
          ]
        },
        {
          "name": "stderr",
          "output_type": "stream",
          "text": [
            "100%|██████████| 6/6 [00:00<00:00, 26.62it/s]\n"
          ]
        },
        {
          "name": "stdout",
          "output_type": "stream",
          "text": [
            "BreaDM-Ma-1909\n"
          ]
        },
        {
          "name": "stderr",
          "output_type": "stream",
          "text": [
            "100%|██████████| 3/3 [00:00<00:00, 25.92it/s]\n"
          ]
        },
        {
          "name": "stdout",
          "output_type": "stream",
          "text": [
            "BreaDM-Ma-1915\n"
          ]
        },
        {
          "name": "stderr",
          "output_type": "stream",
          "text": [
            "100%|██████████| 16/16 [00:00<00:00, 26.33it/s]\n"
          ]
        },
        {
          "name": "stdout",
          "output_type": "stream",
          "text": [
            "BreaDM-Ma-1916\n"
          ]
        },
        {
          "name": "stderr",
          "output_type": "stream",
          "text": [
            "100%|██████████| 8/8 [00:00<00:00, 27.12it/s]\n"
          ]
        },
        {
          "name": "stdout",
          "output_type": "stream",
          "text": [
            "BreaDM-Ma-1919\n"
          ]
        },
        {
          "name": "stderr",
          "output_type": "stream",
          "text": [
            "100%|██████████| 10/10 [00:00<00:00, 27.85it/s]\n"
          ]
        },
        {
          "name": "stdout",
          "output_type": "stream",
          "text": [
            "BreaDM-Ma-1921\n"
          ]
        },
        {
          "name": "stderr",
          "output_type": "stream",
          "text": [
            "100%|██████████| 5/5 [00:00<00:00, 27.20it/s]\n"
          ]
        },
        {
          "name": "stdout",
          "output_type": "stream",
          "text": [
            "BreaDM-Ma-1923\n"
          ]
        },
        {
          "name": "stderr",
          "output_type": "stream",
          "text": [
            "100%|██████████| 13/13 [00:00<00:00, 29.68it/s]\n"
          ]
        },
        {
          "name": "stdout",
          "output_type": "stream",
          "text": [
            "BreaDM-Ma-2007\n"
          ]
        },
        {
          "name": "stderr",
          "output_type": "stream",
          "text": [
            "100%|██████████| 15/15 [00:00<00:00, 27.35it/s]\n"
          ]
        },
        {
          "name": "stdout",
          "output_type": "stream",
          "text": [
            "BreaDM-Ma-2012\n"
          ]
        },
        {
          "name": "stderr",
          "output_type": "stream",
          "text": [
            "100%|██████████| 15/15 [00:00<00:00, 29.73it/s]\n"
          ]
        },
        {
          "name": "stdout",
          "output_type": "stream",
          "text": [
            "BreaDM-Ma-2026\n"
          ]
        },
        {
          "name": "stderr",
          "output_type": "stream",
          "text": [
            "100%|██████████| 12/12 [00:00<00:00, 27.53it/s]\n"
          ]
        },
        {
          "name": "stdout",
          "output_type": "stream",
          "text": [
            "BreaDM-Ma-2027\n"
          ]
        },
        {
          "name": "stderr",
          "output_type": "stream",
          "text": [
            "100%|██████████| 22/22 [00:00<00:00, 29.56it/s]\n"
          ]
        },
        {
          "name": "stdout",
          "output_type": "stream",
          "text": [
            "BreaDM-Ma-2038\n"
          ]
        },
        {
          "name": "stderr",
          "output_type": "stream",
          "text": [
            "100%|██████████| 2/2 [00:00<00:00, 28.21it/s]\n"
          ]
        },
        {
          "name": "stdout",
          "output_type": "stream",
          "text": [
            "BreaDM-Ma-2039\n"
          ]
        },
        {
          "name": "stderr",
          "output_type": "stream",
          "text": [
            "100%|██████████| 9/9 [00:00<00:00, 31.88it/s]\n"
          ]
        },
        {
          "name": "stdout",
          "output_type": "stream",
          "text": [
            "BreaDM-Ma-2043\n"
          ]
        },
        {
          "name": "stderr",
          "output_type": "stream",
          "text": [
            "100%|██████████| 11/11 [00:00<00:00, 31.00it/s]\n"
          ]
        },
        {
          "name": "stdout",
          "output_type": "stream",
          "text": [
            "BreaDM-Ma-2044\n"
          ]
        },
        {
          "name": "stderr",
          "output_type": "stream",
          "text": [
            "100%|██████████| 11/11 [00:00<00:00, 30.13it/s]\n"
          ]
        },
        {
          "name": "stdout",
          "output_type": "stream",
          "text": [
            "BreaDM-Ma-2107\n"
          ]
        },
        {
          "name": "stderr",
          "output_type": "stream",
          "text": [
            "100%|██████████| 13/13 [00:00<00:00, 30.71it/s]\n"
          ]
        },
        {
          "name": "stdout",
          "output_type": "stream",
          "text": [
            "BreaDM-Ma-2108\n"
          ]
        },
        {
          "name": "stderr",
          "output_type": "stream",
          "text": [
            "100%|██████████| 12/12 [00:00<00:00, 27.42it/s]\n"
          ]
        },
        {
          "name": "stdout",
          "output_type": "stream",
          "text": [
            "BreaDM-Ma-2109\n"
          ]
        },
        {
          "name": "stderr",
          "output_type": "stream",
          "text": [
            "100%|██████████| 5/5 [00:00<00:00, 27.66it/s]\n"
          ]
        },
        {
          "name": "stdout",
          "output_type": "stream",
          "text": [
            "BreaDM-Ma-2116\n"
          ]
        },
        {
          "name": "stderr",
          "output_type": "stream",
          "text": [
            "100%|██████████| 13/13 [00:00<00:00, 28.61it/s]\n"
          ]
        },
        {
          "name": "stdout",
          "output_type": "stream",
          "text": [
            "BreaDM-Ma-2118\n"
          ]
        },
        {
          "name": "stderr",
          "output_type": "stream",
          "text": [
            "100%|██████████| 11/11 [00:00<00:00, 28.19it/s]\n"
          ]
        },
        {
          "name": "stdout",
          "output_type": "stream",
          "text": [
            "BreaDM-Ma-2122\n"
          ]
        },
        {
          "name": "stderr",
          "output_type": "stream",
          "text": [
            "100%|██████████| 5/5 [00:00<00:00, 28.51it/s]\n"
          ]
        },
        {
          "name": "stdout",
          "output_type": "stream",
          "text": [
            "BreaDM-Ma-2125\n"
          ]
        },
        {
          "name": "stderr",
          "output_type": "stream",
          "text": [
            "100%|██████████| 6/6 [00:00<00:00, 27.77it/s]\n"
          ]
        },
        {
          "name": "stdout",
          "output_type": "stream",
          "text": [
            "BreaDM-Ma-2126\n"
          ]
        },
        {
          "name": "stderr",
          "output_type": "stream",
          "text": [
            "100%|██████████| 7/7 [00:00<00:00, 27.68it/s]\n"
          ]
        },
        {
          "name": "stdout",
          "output_type": "stream",
          "text": [
            "BreaDM-Ma-2131\n"
          ]
        },
        {
          "name": "stderr",
          "output_type": "stream",
          "text": [
            "100%|██████████| 15/15 [00:00<00:00, 28.30it/s]\n"
          ]
        },
        {
          "name": "stdout",
          "output_type": "stream",
          "text": [
            "BreaDM-Ma-2134\n"
          ]
        },
        {
          "name": "stderr",
          "output_type": "stream",
          "text": [
            "100%|██████████| 10/10 [00:00<00:00, 27.39it/s]\n"
          ]
        },
        {
          "name": "stdout",
          "output_type": "stream",
          "text": [
            "BreaDM-Ma-2140\n"
          ]
        },
        {
          "name": "stderr",
          "output_type": "stream",
          "text": [
            "100%|██████████| 11/11 [00:00<00:00, 28.51it/s]\n"
          ]
        },
        {
          "name": "stdout",
          "output_type": "stream",
          "text": [
            "BreaDM-Ma-2141\n"
          ]
        },
        {
          "name": "stderr",
          "output_type": "stream",
          "text": [
            "100%|██████████| 5/5 [00:00<00:00, 26.36it/s]\n"
          ]
        },
        {
          "name": "stdout",
          "output_type": "stream",
          "text": [
            "MODEL CLASS MEAN IOU  0.8801293\n",
            "MODEL CLASS STD IOU  0.07948569\n",
            "\n",
            "MODEL CLASS MEAN DICE  0.9257633\n",
            "MODEL CLASS STD DICE  0.07018008\n",
            "\n",
            "MODEL DIOU 0.9904076738609112\n",
            "MODEL DIOU STD  0.09746955123693801\n",
            "\n",
            "MODEL IOU MASS VOLUME  0.7608311772346497\n",
            "MODEL IOU MASS VOLUME STD  0.15880431234836578\n",
            "\n",
            "MODEL IOU MASS VOLUME NO EMPTY  0.7608311772346497\n",
            "MODEL IOU MASS VOLUME NO EMPTY STD  0.15861377120018005\n",
            "\n",
            "MODEL IOU MASS VOLUME NO EMPTY OPTIMISTIC  0.7608311772346497\n",
            "MODEL IOU MASS VOLUME NO EMPTY OPTIMISTIC STD  0.15861377120018005\n",
            "MODEL DICE MASS VOLUME  0.8518131375312805\n",
            "MODEL DICE MASS VOLUME STD  0.14018307626247406\n",
            "\n",
            "MODEL DICE MASS VOLUME NO EMPTY  0.8518131375312805\n",
            "MODEL DICE MASS VOLUME NO EMPTY STD  0.14018307626247406\n",
            "\n",
            "MODEL DICE MASS VOLUME NO EMPTY OPTIMISTIC  0.8518131375312805\n",
            "MODEL DICE MASS VOLUME NO EMPTY OPTIMISTIC STD  0.14018307626247406\n",
            "\n",
            "MODEL MEAN ACCURACY NO EMPTY 0.8801293075084686\n",
            "MODEL MEAN ACCURACY NO EMPTY STD 0.079675384\n",
            "\n",
            "MODEL MEAN PRECISION NO EMPTY 0.9148938655853271\n",
            "MODEL MEAN PRECISION NO EMPTY STD 0.082856745\n",
            "\n",
            "MODEL MEAN RECALL NO EMPTY 0.9449230134487152\n",
            "MODEL MEAN RECALL NO EMPTY STD 0.061320163\n",
            "\n",
            "MODEL MEAN F1 NO EMPTY 0.9257633\n",
            "MODEL MEAN F1 NO EMPTY STD 0.07018008\n",
            "\n",
            "MODEL ACCURACY EXCLUDING CASES  0.9994292259216309\n",
            "MODEL ACCURACY EXCLUDING CASES STD  0.0007336612\n",
            "\n",
            "MODEL PRECISION EXCLUDING CASES  0.8299869298934937\n",
            "MODEL PRECISION EXCLUDING CASES STD  0.16543227\n",
            "\n",
            "MODEL RECALL EXCLUDING CASES  0.8902195692062378\n",
            "MODEL RECALL EXCLUDING CASES STD  0.12205765\n",
            "\n",
            "MODEL ACCURACY NO EMPTY  0.7608311772346497\n",
            "MODEL ACCURACY NO EMPTY STD  0.15861377\n",
            "\n",
            "MODEL PRECISION NO EMPTY 0.8299869298934937\n",
            "MODEL PRECISION NO EMPTY STD  0.16543227\n",
            "\n",
            "MODEL RECALL NO EMPTY  0.8902195692062378\n",
            "MODEL RECALL NO EMPTY STD  0.12205765\n",
            "\n",
            "MODEL F1 NO EMPTY  0.8518131375312805\n",
            "MODEL F1 NO EMPTY STD  0.14018308\n",
            "\n",
            "\n",
            "UNet++ Results:\n",
            "None\n",
            "Testing SkinnyNet model...\n",
            "BreaDM-Be-1801\n"
          ]
        },
        {
          "name": "stderr",
          "output_type": "stream",
          "text": [
            "100%|██████████| 7/7 [00:00<00:00, 27.41it/s]\n"
          ]
        },
        {
          "name": "stdout",
          "output_type": "stream",
          "text": [
            "BreaDM-Be-1803\n"
          ]
        },
        {
          "name": "stderr",
          "output_type": "stream",
          "text": [
            "100%|██████████| 3/3 [00:00<00:00, 31.22it/s]\n"
          ]
        },
        {
          "name": "stdout",
          "output_type": "stream",
          "text": [
            "BreaDM-Be-1804\n"
          ]
        },
        {
          "name": "stderr",
          "output_type": "stream",
          "text": [
            "100%|██████████| 4/4 [00:00<00:00, 28.60it/s]\n"
          ]
        },
        {
          "name": "stdout",
          "output_type": "stream",
          "text": [
            "BreaDM-Be-1810\n"
          ]
        },
        {
          "name": "stderr",
          "output_type": "stream",
          "text": [
            "100%|██████████| 2/2 [00:00<00:00, 30.51it/s]\n"
          ]
        },
        {
          "name": "stdout",
          "output_type": "stream",
          "text": [
            "BreaDM-Be-1813\n"
          ]
        },
        {
          "name": "stderr",
          "output_type": "stream",
          "text": [
            "100%|██████████| 3/3 [00:00<00:00, 30.44it/s]\n"
          ]
        },
        {
          "name": "stdout",
          "output_type": "stream",
          "text": [
            "BreaDM-Be-1822\n"
          ]
        },
        {
          "name": "stderr",
          "output_type": "stream",
          "text": [
            "100%|██████████| 11/11 [00:00<00:00, 30.38it/s]\n"
          ]
        },
        {
          "name": "stdout",
          "output_type": "stream",
          "text": [
            "BreaDM-Be-1826\n"
          ]
        },
        {
          "name": "stderr",
          "output_type": "stream",
          "text": [
            "100%|██████████| 2/2 [00:00<00:00, 27.33it/s]\n"
          ]
        },
        {
          "name": "stdout",
          "output_type": "stream",
          "text": [
            "BreaDM-Be-1906\n"
          ]
        },
        {
          "name": "stderr",
          "output_type": "stream",
          "text": [
            "100%|██████████| 10/10 [00:00<00:00, 30.44it/s]\n"
          ]
        },
        {
          "name": "stdout",
          "output_type": "stream",
          "text": [
            "BreaDM-Be-1907\n"
          ]
        },
        {
          "name": "stderr",
          "output_type": "stream",
          "text": [
            "100%|██████████| 3/3 [00:00<00:00, 31.55it/s]\n"
          ]
        },
        {
          "name": "stdout",
          "output_type": "stream",
          "text": [
            "BreaDM-Be-1909\n"
          ]
        },
        {
          "name": "stderr",
          "output_type": "stream",
          "text": [
            "100%|██████████| 24/24 [00:00<00:00, 29.49it/s]\n"
          ]
        },
        {
          "name": "stdout",
          "output_type": "stream",
          "text": [
            "BreaDM-Be-1914\n"
          ]
        },
        {
          "name": "stderr",
          "output_type": "stream",
          "text": [
            "100%|██████████| 3/3 [00:00<00:00, 27.29it/s]\n"
          ]
        },
        {
          "name": "stdout",
          "output_type": "stream",
          "text": [
            "BreaDM-Be-2001\n"
          ]
        },
        {
          "name": "stderr",
          "output_type": "stream",
          "text": [
            "100%|██████████| 4/4 [00:00<00:00, 28.91it/s]\n"
          ]
        },
        {
          "name": "stdout",
          "output_type": "stream",
          "text": [
            "BreaDM-Be-2002\n"
          ]
        },
        {
          "name": "stderr",
          "output_type": "stream",
          "text": [
            "100%|██████████| 5/5 [00:00<00:00, 27.34it/s]\n"
          ]
        },
        {
          "name": "stdout",
          "output_type": "stream",
          "text": [
            "BreaDM-Be-2013\n"
          ]
        },
        {
          "name": "stderr",
          "output_type": "stream",
          "text": [
            "100%|██████████| 5/5 [00:00<00:00, 27.29it/s]\n"
          ]
        },
        {
          "name": "stdout",
          "output_type": "stream",
          "text": [
            "BreaDM-Be-2019\n"
          ]
        },
        {
          "name": "stderr",
          "output_type": "stream",
          "text": [
            "100%|██████████| 4/4 [00:00<00:00, 27.50it/s]\n"
          ]
        },
        {
          "name": "stdout",
          "output_type": "stream",
          "text": [
            "BreaDM-Be-2020\n"
          ]
        },
        {
          "name": "stderr",
          "output_type": "stream",
          "text": [
            "100%|██████████| 9/9 [00:00<00:00, 28.99it/s]\n"
          ]
        },
        {
          "name": "stdout",
          "output_type": "stream",
          "text": [
            "BreaDM-Be-2022\n"
          ]
        },
        {
          "name": "stderr",
          "output_type": "stream",
          "text": [
            "100%|██████████| 8/8 [00:00<00:00, 27.10it/s]\n"
          ]
        },
        {
          "name": "stdout",
          "output_type": "stream",
          "text": [
            "BreaDM-Be-2102\n"
          ]
        },
        {
          "name": "stderr",
          "output_type": "stream",
          "text": [
            "100%|██████████| 9/9 [00:00<00:00, 29.52it/s]\n"
          ]
        },
        {
          "name": "stdout",
          "output_type": "stream",
          "text": [
            "BreaDM-Be-2111\n"
          ]
        },
        {
          "name": "stderr",
          "output_type": "stream",
          "text": [
            "100%|██████████| 3/3 [00:00<00:00, 27.82it/s]\n"
          ]
        },
        {
          "name": "stdout",
          "output_type": "stream",
          "text": [
            "BreaDM-Be-2113\n"
          ]
        },
        {
          "name": "stderr",
          "output_type": "stream",
          "text": [
            "100%|██████████| 9/9 [00:00<00:00, 27.50it/s]\n"
          ]
        },
        {
          "name": "stdout",
          "output_type": "stream",
          "text": [
            "BreaDM-Ma-1801\n"
          ]
        },
        {
          "name": "stderr",
          "output_type": "stream",
          "text": [
            "100%|██████████| 5/5 [00:00<00:00, 28.52it/s]\n"
          ]
        },
        {
          "name": "stdout",
          "output_type": "stream",
          "text": [
            "BreaDM-Ma-1821\n"
          ]
        },
        {
          "name": "stderr",
          "output_type": "stream",
          "text": [
            "100%|██████████| 8/8 [00:00<00:00, 28.63it/s]\n"
          ]
        },
        {
          "name": "stdout",
          "output_type": "stream",
          "text": [
            "BreaDM-Ma-1824\n"
          ]
        },
        {
          "name": "stderr",
          "output_type": "stream",
          "text": [
            "100%|██████████| 5/5 [00:00<00:00, 25.81it/s]\n"
          ]
        },
        {
          "name": "stdout",
          "output_type": "stream",
          "text": [
            "BreaDM-Ma-1908\n"
          ]
        },
        {
          "name": "stderr",
          "output_type": "stream",
          "text": [
            "100%|██████████| 6/6 [00:00<00:00, 27.27it/s]\n"
          ]
        },
        {
          "name": "stdout",
          "output_type": "stream",
          "text": [
            "BreaDM-Ma-1909\n"
          ]
        },
        {
          "name": "stderr",
          "output_type": "stream",
          "text": [
            "100%|██████████| 3/3 [00:00<00:00, 26.51it/s]\n"
          ]
        },
        {
          "name": "stdout",
          "output_type": "stream",
          "text": [
            "BreaDM-Ma-1915\n"
          ]
        },
        {
          "name": "stderr",
          "output_type": "stream",
          "text": [
            "100%|██████████| 16/16 [00:00<00:00, 29.17it/s]\n"
          ]
        },
        {
          "name": "stdout",
          "output_type": "stream",
          "text": [
            "BreaDM-Ma-1916\n"
          ]
        },
        {
          "name": "stderr",
          "output_type": "stream",
          "text": [
            "100%|██████████| 8/8 [00:00<00:00, 29.82it/s]\n"
          ]
        },
        {
          "name": "stdout",
          "output_type": "stream",
          "text": [
            "BreaDM-Ma-1919\n"
          ]
        },
        {
          "name": "stderr",
          "output_type": "stream",
          "text": [
            "100%|██████████| 10/10 [00:00<00:00, 30.51it/s]\n"
          ]
        },
        {
          "name": "stdout",
          "output_type": "stream",
          "text": [
            "BreaDM-Ma-1921\n"
          ]
        },
        {
          "name": "stderr",
          "output_type": "stream",
          "text": [
            "100%|██████████| 5/5 [00:00<00:00, 28.65it/s]\n"
          ]
        },
        {
          "name": "stdout",
          "output_type": "stream",
          "text": [
            "BreaDM-Ma-1923\n"
          ]
        },
        {
          "name": "stderr",
          "output_type": "stream",
          "text": [
            "100%|██████████| 13/13 [00:00<00:00, 30.78it/s]\n"
          ]
        },
        {
          "name": "stdout",
          "output_type": "stream",
          "text": [
            "BreaDM-Ma-2007\n"
          ]
        },
        {
          "name": "stderr",
          "output_type": "stream",
          "text": [
            "100%|██████████| 15/15 [00:00<00:00, 30.37it/s]\n"
          ]
        },
        {
          "name": "stdout",
          "output_type": "stream",
          "text": [
            "BreaDM-Ma-2012\n"
          ]
        },
        {
          "name": "stderr",
          "output_type": "stream",
          "text": [
            "100%|██████████| 15/15 [00:00<00:00, 31.73it/s]\n"
          ]
        },
        {
          "name": "stdout",
          "output_type": "stream",
          "text": [
            "BreaDM-Ma-2026\n"
          ]
        },
        {
          "name": "stderr",
          "output_type": "stream",
          "text": [
            "100%|██████████| 12/12 [00:00<00:00, 31.17it/s]\n"
          ]
        },
        {
          "name": "stdout",
          "output_type": "stream",
          "text": [
            "BreaDM-Ma-2027\n"
          ]
        },
        {
          "name": "stderr",
          "output_type": "stream",
          "text": [
            "100%|██████████| 22/22 [00:00<00:00, 30.82it/s]\n"
          ]
        },
        {
          "name": "stdout",
          "output_type": "stream",
          "text": [
            "BreaDM-Ma-2038\n"
          ]
        },
        {
          "name": "stderr",
          "output_type": "stream",
          "text": [
            "100%|██████████| 2/2 [00:00<00:00, 30.78it/s]\n"
          ]
        },
        {
          "name": "stdout",
          "output_type": "stream",
          "text": [
            "BreaDM-Ma-2039\n"
          ]
        },
        {
          "name": "stderr",
          "output_type": "stream",
          "text": [
            "100%|██████████| 9/9 [00:00<00:00, 31.36it/s]\n"
          ]
        },
        {
          "name": "stdout",
          "output_type": "stream",
          "text": [
            "BreaDM-Ma-2043\n"
          ]
        },
        {
          "name": "stderr",
          "output_type": "stream",
          "text": [
            "100%|██████████| 11/11 [00:00<00:00, 29.01it/s]\n"
          ]
        },
        {
          "name": "stdout",
          "output_type": "stream",
          "text": [
            "BreaDM-Ma-2044\n"
          ]
        },
        {
          "name": "stderr",
          "output_type": "stream",
          "text": [
            "100%|██████████| 11/11 [00:00<00:00, 29.64it/s]\n"
          ]
        },
        {
          "name": "stdout",
          "output_type": "stream",
          "text": [
            "BreaDM-Ma-2107\n"
          ]
        },
        {
          "name": "stderr",
          "output_type": "stream",
          "text": [
            "100%|██████████| 13/13 [00:00<00:00, 28.90it/s]\n"
          ]
        },
        {
          "name": "stdout",
          "output_type": "stream",
          "text": [
            "BreaDM-Ma-2108\n"
          ]
        },
        {
          "name": "stderr",
          "output_type": "stream",
          "text": [
            "100%|██████████| 12/12 [00:00<00:00, 29.86it/s]\n"
          ]
        },
        {
          "name": "stdout",
          "output_type": "stream",
          "text": [
            "BreaDM-Ma-2109\n"
          ]
        },
        {
          "name": "stderr",
          "output_type": "stream",
          "text": [
            "100%|██████████| 5/5 [00:00<00:00, 29.39it/s]\n"
          ]
        },
        {
          "name": "stdout",
          "output_type": "stream",
          "text": [
            "BreaDM-Ma-2116\n"
          ]
        },
        {
          "name": "stderr",
          "output_type": "stream",
          "text": [
            "100%|██████████| 13/13 [00:00<00:00, 28.13it/s]\n"
          ]
        },
        {
          "name": "stdout",
          "output_type": "stream",
          "text": [
            "BreaDM-Ma-2118\n"
          ]
        },
        {
          "name": "stderr",
          "output_type": "stream",
          "text": [
            "100%|██████████| 11/11 [00:00<00:00, 28.62it/s]\n"
          ]
        },
        {
          "name": "stdout",
          "output_type": "stream",
          "text": [
            "BreaDM-Ma-2122\n"
          ]
        },
        {
          "name": "stderr",
          "output_type": "stream",
          "text": [
            "100%|██████████| 5/5 [00:00<00:00, 30.83it/s]\n"
          ]
        },
        {
          "name": "stdout",
          "output_type": "stream",
          "text": [
            "BreaDM-Ma-2125\n"
          ]
        },
        {
          "name": "stderr",
          "output_type": "stream",
          "text": [
            "100%|██████████| 6/6 [00:00<00:00, 28.65it/s]\n"
          ]
        },
        {
          "name": "stdout",
          "output_type": "stream",
          "text": [
            "BreaDM-Ma-2126\n"
          ]
        },
        {
          "name": "stderr",
          "output_type": "stream",
          "text": [
            "100%|██████████| 7/7 [00:00<00:00, 28.22it/s]\n"
          ]
        },
        {
          "name": "stdout",
          "output_type": "stream",
          "text": [
            "BreaDM-Ma-2131\n"
          ]
        },
        {
          "name": "stderr",
          "output_type": "stream",
          "text": [
            "100%|██████████| 15/15 [00:00<00:00, 30.35it/s]\n"
          ]
        },
        {
          "name": "stdout",
          "output_type": "stream",
          "text": [
            "BreaDM-Ma-2134\n"
          ]
        },
        {
          "name": "stderr",
          "output_type": "stream",
          "text": [
            "100%|██████████| 10/10 [00:00<00:00, 29.85it/s]\n"
          ]
        },
        {
          "name": "stdout",
          "output_type": "stream",
          "text": [
            "BreaDM-Ma-2140\n"
          ]
        },
        {
          "name": "stderr",
          "output_type": "stream",
          "text": [
            "100%|██████████| 11/11 [00:00<00:00, 31.04it/s]\n"
          ]
        },
        {
          "name": "stdout",
          "output_type": "stream",
          "text": [
            "BreaDM-Ma-2141\n"
          ]
        },
        {
          "name": "stderr",
          "output_type": "stream",
          "text": [
            "100%|██████████| 5/5 [00:00<00:00, 30.75it/s]\n"
          ]
        },
        {
          "name": "stdout",
          "output_type": "stream",
          "text": [
            "MODEL CLASS MEAN IOU  0.8662559\n",
            "MODEL CLASS STD IOU  0.092155576\n",
            "\n",
            "MODEL CLASS MEAN DICE  0.9139946\n",
            "MODEL CLASS STD DICE  0.085588984\n",
            "\n",
            "MODEL DIOU 0.9808153477218226\n",
            "MODEL DIOU STD  0.13717361770815437\n",
            "\n",
            "MODEL IOU MASS VOLUME  0.7332130074501038\n",
            "MODEL IOU MASS VOLUME STD  0.18389374017715454\n",
            "\n",
            "MODEL IOU MASS VOLUME NO EMPTY  0.7332130074501038\n",
            "MODEL IOU MASS VOLUME NO EMPTY STD  0.18367311358451843\n",
            "\n",
            "MODEL IOU MASS VOLUME NO EMPTY OPTIMISTIC  0.7332130074501038\n",
            "MODEL IOU MASS VOLUME NO EMPTY OPTIMISTIC STD  0.18367311358451843\n",
            "MODEL DICE MASS VOLUME  0.8283402919769287\n",
            "MODEL DICE MASS VOLUME STD  0.17085182666778564\n",
            "\n",
            "MODEL DICE MASS VOLUME NO EMPTY  0.8283402919769287\n",
            "MODEL DICE MASS VOLUME NO EMPTY STD  0.17085182666778564\n",
            "\n",
            "MODEL DICE MASS VOLUME NO EMPTY OPTIMISTIC  0.8283402919769287\n",
            "MODEL DICE MASS VOLUME NO EMPTY OPTIMISTIC STD  0.17085182666778564\n",
            "\n",
            "MODEL MEAN ACCURACY NO EMPTY 0.8662558794021606\n",
            "MODEL MEAN ACCURACY NO EMPTY STD 0.09239213\n",
            "\n",
            "MODEL MEAN PRECISION NO EMPTY 0.895134687423706\n",
            "MODEL MEAN PRECISION NO EMPTY STD 0.09344086\n",
            "\n",
            "MODEL MEAN RECALL NO EMPTY 0.9444049000740051\n",
            "MODEL MEAN RECALL NO EMPTY STD 0.08409232\n",
            "\n",
            "MODEL MEAN F1 NO EMPTY 0.9139946\n",
            "MODEL MEAN F1 NO EMPTY STD 0.085588984\n",
            "\n",
            "MODEL ACCURACY EXCLUDING CASES  0.9993005394935608\n",
            "MODEL ACCURACY EXCLUDING CASES STD  0.0011087258\n",
            "\n",
            "MODEL PRECISION EXCLUDING CASES  0.790546715259552\n",
            "MODEL PRECISION EXCLUDING CASES STD  0.18610376\n",
            "\n",
            "MODEL RECALL EXCLUDING CASES  0.8892342448234558\n",
            "MODEL RECALL EXCLUDING CASES STD  0.1676548\n",
            "\n",
            "MODEL ACCURACY NO EMPTY  0.7332130074501038\n",
            "MODEL ACCURACY NO EMPTY STD  0.18367311\n",
            "\n",
            "MODEL PRECISION NO EMPTY 0.790546715259552\n",
            "MODEL PRECISION NO EMPTY STD  0.18610376\n",
            "\n",
            "MODEL RECALL NO EMPTY  0.8892342448234558\n",
            "MODEL RECALL NO EMPTY STD  0.1676548\n",
            "\n",
            "MODEL F1 NO EMPTY  0.8283402919769287\n",
            "MODEL F1 NO EMPTY STD  0.17085183\n",
            "\n",
            "\n",
            "SkinnyNet Results:\n",
            "None\n",
            "Testing ResNet50 model...\n",
            "Initialized SurfaceLossBinary with [1]\n",
            "BreaDM-Be-1801\n"
          ]
        },
        {
          "name": "stderr",
          "output_type": "stream",
          "text": [
            "100%|██████████| 7/7 [00:00<00:00, 19.01it/s]\n"
          ]
        },
        {
          "name": "stdout",
          "output_type": "stream",
          "text": [
            "BreaDM-Be-1803\n"
          ]
        },
        {
          "name": "stderr",
          "output_type": "stream",
          "text": [
            "100%|██████████| 3/3 [00:00<00:00, 32.28it/s]\n"
          ]
        },
        {
          "name": "stdout",
          "output_type": "stream",
          "text": [
            "BreaDM-Be-1804\n"
          ]
        },
        {
          "name": "stderr",
          "output_type": "stream",
          "text": [
            "100%|██████████| 4/4 [00:00<00:00, 32.29it/s]\n"
          ]
        },
        {
          "name": "stdout",
          "output_type": "stream",
          "text": [
            "BreaDM-Be-1810\n"
          ]
        },
        {
          "name": "stderr",
          "output_type": "stream",
          "text": [
            "100%|██████████| 2/2 [00:00<00:00, 31.97it/s]\n"
          ]
        },
        {
          "name": "stdout",
          "output_type": "stream",
          "text": [
            "BreaDM-Be-1813\n"
          ]
        },
        {
          "name": "stderr",
          "output_type": "stream",
          "text": [
            "100%|██████████| 3/3 [00:00<00:00, 28.06it/s]\n"
          ]
        },
        {
          "name": "stdout",
          "output_type": "stream",
          "text": [
            "BreaDM-Be-1822\n"
          ]
        },
        {
          "name": "stderr",
          "output_type": "stream",
          "text": [
            "100%|██████████| 11/11 [00:00<00:00, 29.86it/s]\n"
          ]
        },
        {
          "name": "stdout",
          "output_type": "stream",
          "text": [
            "BreaDM-Be-1826\n"
          ]
        },
        {
          "name": "stderr",
          "output_type": "stream",
          "text": [
            "100%|██████████| 2/2 [00:00<00:00, 31.13it/s]\n"
          ]
        },
        {
          "name": "stdout",
          "output_type": "stream",
          "text": [
            "BreaDM-Be-1906\n"
          ]
        },
        {
          "name": "stderr",
          "output_type": "stream",
          "text": [
            "100%|██████████| 10/10 [00:00<00:00, 31.10it/s]\n"
          ]
        },
        {
          "name": "stdout",
          "output_type": "stream",
          "text": [
            "BreaDM-Be-1907\n"
          ]
        },
        {
          "name": "stderr",
          "output_type": "stream",
          "text": [
            "100%|██████████| 3/3 [00:00<00:00, 30.64it/s]\n"
          ]
        },
        {
          "name": "stdout",
          "output_type": "stream",
          "text": [
            "BreaDM-Be-1909\n"
          ]
        },
        {
          "name": "stderr",
          "output_type": "stream",
          "text": [
            "100%|██████████| 24/24 [00:00<00:00, 30.45it/s]\n"
          ]
        },
        {
          "name": "stdout",
          "output_type": "stream",
          "text": [
            "BreaDM-Be-1914\n"
          ]
        },
        {
          "name": "stderr",
          "output_type": "stream",
          "text": [
            "100%|██████████| 3/3 [00:00<00:00, 31.33it/s]\n"
          ]
        },
        {
          "name": "stdout",
          "output_type": "stream",
          "text": [
            "BreaDM-Be-2001\n"
          ]
        },
        {
          "name": "stderr",
          "output_type": "stream",
          "text": [
            "100%|██████████| 4/4 [00:00<00:00, 29.17it/s]\n"
          ]
        },
        {
          "name": "stdout",
          "output_type": "stream",
          "text": [
            "BreaDM-Be-2002\n"
          ]
        },
        {
          "name": "stderr",
          "output_type": "stream",
          "text": [
            "100%|██████████| 5/5 [00:00<00:00, 26.15it/s]\n"
          ]
        },
        {
          "name": "stdout",
          "output_type": "stream",
          "text": [
            "BreaDM-Be-2013\n"
          ]
        },
        {
          "name": "stderr",
          "output_type": "stream",
          "text": [
            "100%|██████████| 5/5 [00:00<00:00, 27.35it/s]\n"
          ]
        },
        {
          "name": "stdout",
          "output_type": "stream",
          "text": [
            "BreaDM-Be-2019\n"
          ]
        },
        {
          "name": "stderr",
          "output_type": "stream",
          "text": [
            "100%|██████████| 4/4 [00:00<00:00, 27.57it/s]\n"
          ]
        },
        {
          "name": "stdout",
          "output_type": "stream",
          "text": [
            "BreaDM-Be-2020\n"
          ]
        },
        {
          "name": "stderr",
          "output_type": "stream",
          "text": [
            "100%|██████████| 9/9 [00:00<00:00, 28.67it/s]\n"
          ]
        },
        {
          "name": "stdout",
          "output_type": "stream",
          "text": [
            "BreaDM-Be-2022\n"
          ]
        },
        {
          "name": "stderr",
          "output_type": "stream",
          "text": [
            "100%|██████████| 8/8 [00:00<00:00, 28.06it/s]\n"
          ]
        },
        {
          "name": "stdout",
          "output_type": "stream",
          "text": [
            "BreaDM-Be-2102\n"
          ]
        },
        {
          "name": "stderr",
          "output_type": "stream",
          "text": [
            "100%|██████████| 9/9 [00:00<00:00, 26.68it/s]\n"
          ]
        },
        {
          "name": "stdout",
          "output_type": "stream",
          "text": [
            "BreaDM-Be-2111\n"
          ]
        },
        {
          "name": "stderr",
          "output_type": "stream",
          "text": [
            "100%|██████████| 3/3 [00:00<00:00, 24.48it/s]\n"
          ]
        },
        {
          "name": "stdout",
          "output_type": "stream",
          "text": [
            "BreaDM-Be-2113\n"
          ]
        },
        {
          "name": "stderr",
          "output_type": "stream",
          "text": [
            "100%|██████████| 9/9 [00:00<00:00, 26.31it/s]\n"
          ]
        },
        {
          "name": "stdout",
          "output_type": "stream",
          "text": [
            "BreaDM-Ma-1801\n"
          ]
        },
        {
          "name": "stderr",
          "output_type": "stream",
          "text": [
            "100%|██████████| 5/5 [00:00<00:00, 28.07it/s]\n"
          ]
        },
        {
          "name": "stdout",
          "output_type": "stream",
          "text": [
            "BreaDM-Ma-1821\n"
          ]
        },
        {
          "name": "stderr",
          "output_type": "stream",
          "text": [
            "100%|██████████| 8/8 [00:00<00:00, 27.42it/s]\n"
          ]
        },
        {
          "name": "stdout",
          "output_type": "stream",
          "text": [
            "BreaDM-Ma-1824\n"
          ]
        },
        {
          "name": "stderr",
          "output_type": "stream",
          "text": [
            "100%|██████████| 5/5 [00:00<00:00, 25.36it/s]\n"
          ]
        },
        {
          "name": "stdout",
          "output_type": "stream",
          "text": [
            "BreaDM-Ma-1908\n"
          ]
        },
        {
          "name": "stderr",
          "output_type": "stream",
          "text": [
            "100%|██████████| 6/6 [00:00<00:00, 25.83it/s]\n"
          ]
        },
        {
          "name": "stdout",
          "output_type": "stream",
          "text": [
            "BreaDM-Ma-1909\n"
          ]
        },
        {
          "name": "stderr",
          "output_type": "stream",
          "text": [
            "100%|██████████| 3/3 [00:00<00:00, 24.73it/s]\n"
          ]
        },
        {
          "name": "stdout",
          "output_type": "stream",
          "text": [
            "BreaDM-Ma-1915\n"
          ]
        },
        {
          "name": "stderr",
          "output_type": "stream",
          "text": [
            "100%|██████████| 16/16 [00:00<00:00, 24.89it/s]\n"
          ]
        },
        {
          "name": "stdout",
          "output_type": "stream",
          "text": [
            "BreaDM-Ma-1916\n"
          ]
        },
        {
          "name": "stderr",
          "output_type": "stream",
          "text": [
            "100%|██████████| 8/8 [00:00<00:00, 25.56it/s]\n"
          ]
        },
        {
          "name": "stdout",
          "output_type": "stream",
          "text": [
            "BreaDM-Ma-1919\n"
          ]
        },
        {
          "name": "stderr",
          "output_type": "stream",
          "text": [
            "100%|██████████| 10/10 [00:00<00:00, 25.53it/s]\n"
          ]
        },
        {
          "name": "stdout",
          "output_type": "stream",
          "text": [
            "BreaDM-Ma-1921\n"
          ]
        },
        {
          "name": "stderr",
          "output_type": "stream",
          "text": [
            "100%|██████████| 5/5 [00:00<00:00, 25.48it/s]\n"
          ]
        },
        {
          "name": "stdout",
          "output_type": "stream",
          "text": [
            "BreaDM-Ma-1923\n"
          ]
        },
        {
          "name": "stderr",
          "output_type": "stream",
          "text": [
            "100%|██████████| 13/13 [00:00<00:00, 26.46it/s]\n"
          ]
        },
        {
          "name": "stdout",
          "output_type": "stream",
          "text": [
            "BreaDM-Ma-2007\n"
          ]
        },
        {
          "name": "stderr",
          "output_type": "stream",
          "text": [
            "100%|██████████| 15/15 [00:00<00:00, 25.82it/s]\n"
          ]
        },
        {
          "name": "stdout",
          "output_type": "stream",
          "text": [
            "BreaDM-Ma-2012\n"
          ]
        },
        {
          "name": "stderr",
          "output_type": "stream",
          "text": [
            "100%|██████████| 15/15 [00:00<00:00, 26.60it/s]\n"
          ]
        },
        {
          "name": "stdout",
          "output_type": "stream",
          "text": [
            "BreaDM-Ma-2026\n"
          ]
        },
        {
          "name": "stderr",
          "output_type": "stream",
          "text": [
            "100%|██████████| 12/12 [00:00<00:00, 27.57it/s]\n"
          ]
        },
        {
          "name": "stdout",
          "output_type": "stream",
          "text": [
            "BreaDM-Ma-2027\n"
          ]
        },
        {
          "name": "stderr",
          "output_type": "stream",
          "text": [
            "100%|██████████| 22/22 [00:00<00:00, 27.22it/s]\n"
          ]
        },
        {
          "name": "stdout",
          "output_type": "stream",
          "text": [
            "BreaDM-Ma-2038\n"
          ]
        },
        {
          "name": "stderr",
          "output_type": "stream",
          "text": [
            "100%|██████████| 2/2 [00:00<00:00, 21.66it/s]\n"
          ]
        },
        {
          "name": "stdout",
          "output_type": "stream",
          "text": [
            "BreaDM-Ma-2039\n"
          ]
        },
        {
          "name": "stderr",
          "output_type": "stream",
          "text": [
            "100%|██████████| 9/9 [00:00<00:00, 11.71it/s]\n"
          ]
        },
        {
          "name": "stdout",
          "output_type": "stream",
          "text": [
            "BreaDM-Ma-2043\n"
          ]
        },
        {
          "name": "stderr",
          "output_type": "stream",
          "text": [
            "100%|██████████| 11/11 [00:00<00:00, 12.20it/s]\n"
          ]
        },
        {
          "name": "stdout",
          "output_type": "stream",
          "text": [
            "BreaDM-Ma-2044\n"
          ]
        },
        {
          "name": "stderr",
          "output_type": "stream",
          "text": [
            "100%|██████████| 11/11 [00:00<00:00, 12.39it/s]\n"
          ]
        },
        {
          "name": "stdout",
          "output_type": "stream",
          "text": [
            "BreaDM-Ma-2107\n"
          ]
        },
        {
          "name": "stderr",
          "output_type": "stream",
          "text": [
            "100%|██████████| 13/13 [00:01<00:00, 11.38it/s]\n"
          ]
        },
        {
          "name": "stdout",
          "output_type": "stream",
          "text": [
            "BreaDM-Ma-2108\n"
          ]
        },
        {
          "name": "stderr",
          "output_type": "stream",
          "text": [
            "100%|██████████| 12/12 [00:01<00:00, 10.21it/s]\n"
          ]
        },
        {
          "name": "stdout",
          "output_type": "stream",
          "text": [
            "BreaDM-Ma-2109\n"
          ]
        },
        {
          "name": "stderr",
          "output_type": "stream",
          "text": [
            "100%|██████████| 5/5 [00:00<00:00, 14.21it/s]\n"
          ]
        },
        {
          "name": "stdout",
          "output_type": "stream",
          "text": [
            "BreaDM-Ma-2116\n"
          ]
        },
        {
          "name": "stderr",
          "output_type": "stream",
          "text": [
            "100%|██████████| 13/13 [00:00<00:00, 17.82it/s]\n"
          ]
        },
        {
          "name": "stdout",
          "output_type": "stream",
          "text": [
            "BreaDM-Ma-2118\n"
          ]
        },
        {
          "name": "stderr",
          "output_type": "stream",
          "text": [
            "100%|██████████| 11/11 [00:00<00:00, 15.49it/s]\n"
          ]
        },
        {
          "name": "stdout",
          "output_type": "stream",
          "text": [
            "BreaDM-Ma-2122\n"
          ]
        },
        {
          "name": "stderr",
          "output_type": "stream",
          "text": [
            "100%|██████████| 5/5 [00:00<00:00, 19.67it/s]\n"
          ]
        },
        {
          "name": "stdout",
          "output_type": "stream",
          "text": [
            "BreaDM-Ma-2125\n"
          ]
        },
        {
          "name": "stderr",
          "output_type": "stream",
          "text": [
            "100%|██████████| 6/6 [00:00<00:00, 12.58it/s]\n"
          ]
        },
        {
          "name": "stdout",
          "output_type": "stream",
          "text": [
            "BreaDM-Ma-2126\n"
          ]
        },
        {
          "name": "stderr",
          "output_type": "stream",
          "text": [
            "100%|██████████| 7/7 [00:00<00:00, 14.87it/s]\n"
          ]
        },
        {
          "name": "stdout",
          "output_type": "stream",
          "text": [
            "BreaDM-Ma-2131\n"
          ]
        },
        {
          "name": "stderr",
          "output_type": "stream",
          "text": [
            "100%|██████████| 15/15 [00:01<00:00, 11.63it/s]\n"
          ]
        },
        {
          "name": "stdout",
          "output_type": "stream",
          "text": [
            "BreaDM-Ma-2134\n"
          ]
        },
        {
          "name": "stderr",
          "output_type": "stream",
          "text": [
            "100%|██████████| 10/10 [00:00<00:00, 19.10it/s]\n"
          ]
        },
        {
          "name": "stdout",
          "output_type": "stream",
          "text": [
            "BreaDM-Ma-2140\n"
          ]
        },
        {
          "name": "stderr",
          "output_type": "stream",
          "text": [
            "100%|██████████| 11/11 [00:00<00:00, 27.94it/s]\n"
          ]
        },
        {
          "name": "stdout",
          "output_type": "stream",
          "text": [
            "BreaDM-Ma-2141\n"
          ]
        },
        {
          "name": "stderr",
          "output_type": "stream",
          "text": [
            "100%|██████████| 5/5 [00:00<00:00, 22.08it/s]\n"
          ]
        },
        {
          "name": "stdout",
          "output_type": "stream",
          "text": [
            "MODEL CLASS MEAN IOU  0.8549843\n",
            "MODEL CLASS STD IOU  0.10029206\n",
            "\n",
            "MODEL CLASS MEAN DICE  0.9040614\n",
            "MODEL CLASS STD DICE  0.09767599\n",
            "\n",
            "MODEL DIOU 0.9640287769784173\n",
            "MODEL DIOU STD  0.18621840439632784\n",
            "\n",
            "MODEL IOU MASS VOLUME  0.7106872200965881\n",
            "MODEL IOU MASS VOLUME STD  0.20047882199287415\n",
            "\n",
            "MODEL IOU MASS VOLUME NO EMPTY  0.7106872200965881\n",
            "MODEL IOU MASS VOLUME NO EMPTY STD  0.20023830235004425\n",
            "\n",
            "MODEL IOU MASS VOLUME NO EMPTY OPTIMISTIC  0.7106872200965881\n",
            "MODEL IOU MASS VOLUME NO EMPTY OPTIMISTIC STD  0.20023830235004425\n",
            "MODEL DICE MASS VOLUME  0.8084823489189148\n",
            "MODEL DICE MASS VOLUME STD  0.19520093500614166\n",
            "\n",
            "MODEL DICE MASS VOLUME NO EMPTY  0.8084823489189148\n",
            "MODEL DICE MASS VOLUME NO EMPTY STD  0.19520093500614166\n",
            "\n",
            "MODEL DICE MASS VOLUME NO EMPTY OPTIMISTIC  0.8084823489189148\n",
            "MODEL DICE MASS VOLUME NO EMPTY OPTIMISTIC STD  0.19520093500614166\n",
            "\n",
            "MODEL MEAN ACCURACY NO EMPTY 0.8549842536449432\n",
            "MODEL MEAN ACCURACY NO EMPTY STD 0.100565605\n",
            "\n",
            "MODEL MEAN PRECISION NO EMPTY 0.8985204696655273\n",
            "MODEL MEAN PRECISION NO EMPTY STD 0.0819164\n",
            "\n",
            "MODEL MEAN RECALL NO EMPTY 0.9366987943649292\n",
            "MODEL MEAN RECALL NO EMPTY STD 0.09643524\n",
            "\n",
            "MODEL MEAN F1 NO EMPTY 0.9040614\n",
            "MODEL MEAN F1 NO EMPTY STD 0.09767599\n",
            "\n",
            "MODEL ACCURACY EXCLUDING CASES  0.9992835521697998\n",
            "MODEL ACCURACY EXCLUDING CASES STD  0.0008884764\n",
            "\n",
            "MODEL PRECISION EXCLUDING CASES  0.7972508072853088\n",
            "MODEL PRECISION EXCLUDING CASES STD  0.16352655\n",
            "\n",
            "MODEL RECALL EXCLUDING CASES  0.8739067912101746\n",
            "MODEL RECALL EXCLUDING CASES STD  0.19210581\n",
            "\n",
            "MODEL ACCURACY NO EMPTY  0.7106872200965881\n",
            "MODEL ACCURACY NO EMPTY STD  0.2002383\n",
            "\n",
            "MODEL PRECISION NO EMPTY 0.7972508072853088\n",
            "MODEL PRECISION NO EMPTY STD  0.16352655\n",
            "\n",
            "MODEL RECALL NO EMPTY  0.8739067912101746\n",
            "MODEL RECALL NO EMPTY STD  0.19210581\n",
            "\n",
            "MODEL F1 NO EMPTY  0.8084823489189148\n",
            "MODEL F1 NO EMPTY STD  0.19520094\n",
            "\n",
            "\n",
            "ResNet50 Results:\n",
            "None\n",
            "Testing FCN model...\n",
            "BasicUNetPlusPlus features: (32, 32, 64, 128, 256, 32).\n",
            "Initialized SurfaceLossBinary with [1]\n",
            "BreaDM-Be-1801\n"
          ]
        },
        {
          "name": "stderr",
          "output_type": "stream",
          "text": [
            "100%|██████████| 7/7 [00:00<00:00, 21.54it/s]\n"
          ]
        },
        {
          "name": "stdout",
          "output_type": "stream",
          "text": [
            "BreaDM-Be-1803\n"
          ]
        },
        {
          "name": "stderr",
          "output_type": "stream",
          "text": [
            "100%|██████████| 3/3 [00:00<00:00, 20.04it/s]\n"
          ]
        },
        {
          "name": "stdout",
          "output_type": "stream",
          "text": [
            "BreaDM-Be-1804\n"
          ]
        },
        {
          "name": "stderr",
          "output_type": "stream",
          "text": [
            "100%|██████████| 4/4 [00:00<00:00, 13.96it/s]\n"
          ]
        },
        {
          "name": "stdout",
          "output_type": "stream",
          "text": [
            "BreaDM-Be-1810\n"
          ]
        },
        {
          "name": "stderr",
          "output_type": "stream",
          "text": [
            "100%|██████████| 2/2 [00:00<00:00, 14.89it/s]\n"
          ]
        },
        {
          "name": "stdout",
          "output_type": "stream",
          "text": [
            "BreaDM-Be-1813\n"
          ]
        },
        {
          "name": "stderr",
          "output_type": "stream",
          "text": [
            "100%|██████████| 3/3 [00:00<00:00, 16.78it/s]\n"
          ]
        },
        {
          "name": "stdout",
          "output_type": "stream",
          "text": [
            "BreaDM-Be-1822\n"
          ]
        },
        {
          "name": "stderr",
          "output_type": "stream",
          "text": [
            "100%|██████████| 11/11 [00:00<00:00, 19.83it/s]\n"
          ]
        },
        {
          "name": "stdout",
          "output_type": "stream",
          "text": [
            "BreaDM-Be-1826\n"
          ]
        },
        {
          "name": "stderr",
          "output_type": "stream",
          "text": [
            "100%|██████████| 2/2 [00:00<00:00, 22.00it/s]\n"
          ]
        },
        {
          "name": "stdout",
          "output_type": "stream",
          "text": [
            "BreaDM-Be-1906\n"
          ]
        },
        {
          "name": "stderr",
          "output_type": "stream",
          "text": [
            "100%|██████████| 10/10 [00:00<00:00, 24.63it/s]\n"
          ]
        },
        {
          "name": "stdout",
          "output_type": "stream",
          "text": [
            "BreaDM-Be-1907\n"
          ]
        },
        {
          "name": "stderr",
          "output_type": "stream",
          "text": [
            "100%|██████████| 3/3 [00:00<00:00, 21.89it/s]\n"
          ]
        },
        {
          "name": "stdout",
          "output_type": "stream",
          "text": [
            "BreaDM-Be-1909\n"
          ]
        },
        {
          "name": "stderr",
          "output_type": "stream",
          "text": [
            "100%|██████████| 24/24 [00:01<00:00, 20.37it/s]\n"
          ]
        },
        {
          "name": "stdout",
          "output_type": "stream",
          "text": [
            "BreaDM-Be-1914\n"
          ]
        },
        {
          "name": "stderr",
          "output_type": "stream",
          "text": [
            "100%|██████████| 3/3 [00:00<00:00, 15.49it/s]\n"
          ]
        },
        {
          "name": "stdout",
          "output_type": "stream",
          "text": [
            "BreaDM-Be-2001\n"
          ]
        },
        {
          "name": "stderr",
          "output_type": "stream",
          "text": [
            "100%|██████████| 4/4 [00:00<00:00, 19.22it/s]\n"
          ]
        },
        {
          "name": "stdout",
          "output_type": "stream",
          "text": [
            "BreaDM-Be-2002\n"
          ]
        },
        {
          "name": "stderr",
          "output_type": "stream",
          "text": [
            "100%|██████████| 5/5 [00:00<00:00, 20.92it/s]\n"
          ]
        },
        {
          "name": "stdout",
          "output_type": "stream",
          "text": [
            "BreaDM-Be-2013\n"
          ]
        },
        {
          "name": "stderr",
          "output_type": "stream",
          "text": [
            "100%|██████████| 5/5 [00:00<00:00, 21.46it/s]\n"
          ]
        },
        {
          "name": "stdout",
          "output_type": "stream",
          "text": [
            "BreaDM-Be-2019\n"
          ]
        },
        {
          "name": "stderr",
          "output_type": "stream",
          "text": [
            "100%|██████████| 4/4 [00:00<00:00, 24.64it/s]\n"
          ]
        },
        {
          "name": "stdout",
          "output_type": "stream",
          "text": [
            "BreaDM-Be-2020\n"
          ]
        },
        {
          "name": "stderr",
          "output_type": "stream",
          "text": [
            "100%|██████████| 9/9 [00:00<00:00, 22.49it/s]\n"
          ]
        },
        {
          "name": "stdout",
          "output_type": "stream",
          "text": [
            "BreaDM-Be-2022\n"
          ]
        },
        {
          "name": "stderr",
          "output_type": "stream",
          "text": [
            "100%|██████████| 8/8 [00:00<00:00, 21.03it/s]\n"
          ]
        },
        {
          "name": "stdout",
          "output_type": "stream",
          "text": [
            "BreaDM-Be-2102\n"
          ]
        },
        {
          "name": "stderr",
          "output_type": "stream",
          "text": [
            "100%|██████████| 9/9 [00:00<00:00, 19.96it/s]\n"
          ]
        },
        {
          "name": "stdout",
          "output_type": "stream",
          "text": [
            "BreaDM-Be-2111\n"
          ]
        },
        {
          "name": "stderr",
          "output_type": "stream",
          "text": [
            "100%|██████████| 3/3 [00:00<00:00, 18.81it/s]\n"
          ]
        },
        {
          "name": "stdout",
          "output_type": "stream",
          "text": [
            "BreaDM-Be-2113\n"
          ]
        },
        {
          "name": "stderr",
          "output_type": "stream",
          "text": [
            "100%|██████████| 9/9 [00:00<00:00, 17.91it/s]\n"
          ]
        },
        {
          "name": "stdout",
          "output_type": "stream",
          "text": [
            "BreaDM-Ma-1801\n"
          ]
        },
        {
          "name": "stderr",
          "output_type": "stream",
          "text": [
            "100%|██████████| 5/5 [00:00<00:00, 19.94it/s]\n"
          ]
        },
        {
          "name": "stdout",
          "output_type": "stream",
          "text": [
            "BreaDM-Ma-1821\n"
          ]
        },
        {
          "name": "stderr",
          "output_type": "stream",
          "text": [
            "100%|██████████| 8/8 [00:00<00:00, 21.22it/s]\n"
          ]
        },
        {
          "name": "stdout",
          "output_type": "stream",
          "text": [
            "BreaDM-Ma-1824\n"
          ]
        },
        {
          "name": "stderr",
          "output_type": "stream",
          "text": [
            "100%|██████████| 5/5 [00:00<00:00, 21.93it/s]\n"
          ]
        },
        {
          "name": "stdout",
          "output_type": "stream",
          "text": [
            "BreaDM-Ma-1908\n"
          ]
        },
        {
          "name": "stderr",
          "output_type": "stream",
          "text": [
            "100%|██████████| 6/6 [00:00<00:00, 20.37it/s]\n"
          ]
        },
        {
          "name": "stdout",
          "output_type": "stream",
          "text": [
            "BreaDM-Ma-1909\n"
          ]
        },
        {
          "name": "stderr",
          "output_type": "stream",
          "text": [
            "100%|██████████| 3/3 [00:00<00:00, 20.20it/s]\n"
          ]
        },
        {
          "name": "stdout",
          "output_type": "stream",
          "text": [
            "BreaDM-Ma-1915\n"
          ]
        },
        {
          "name": "stderr",
          "output_type": "stream",
          "text": [
            "100%|██████████| 16/16 [00:00<00:00, 19.42it/s]\n"
          ]
        },
        {
          "name": "stdout",
          "output_type": "stream",
          "text": [
            "BreaDM-Ma-1916\n"
          ]
        },
        {
          "name": "stderr",
          "output_type": "stream",
          "text": [
            "100%|██████████| 8/8 [00:00<00:00, 16.55it/s]\n"
          ]
        },
        {
          "name": "stdout",
          "output_type": "stream",
          "text": [
            "BreaDM-Ma-1919\n"
          ]
        },
        {
          "name": "stderr",
          "output_type": "stream",
          "text": [
            "100%|██████████| 10/10 [00:00<00:00, 19.35it/s]\n"
          ]
        },
        {
          "name": "stdout",
          "output_type": "stream",
          "text": [
            "BreaDM-Ma-1921\n"
          ]
        },
        {
          "name": "stderr",
          "output_type": "stream",
          "text": [
            "100%|██████████| 5/5 [00:00<00:00, 19.86it/s]\n"
          ]
        },
        {
          "name": "stdout",
          "output_type": "stream",
          "text": [
            "BreaDM-Ma-1923\n"
          ]
        },
        {
          "name": "stderr",
          "output_type": "stream",
          "text": [
            "100%|██████████| 13/13 [00:00<00:00, 19.43it/s]\n"
          ]
        },
        {
          "name": "stdout",
          "output_type": "stream",
          "text": [
            "BreaDM-Ma-2007\n"
          ]
        },
        {
          "name": "stderr",
          "output_type": "stream",
          "text": [
            "100%|██████████| 15/15 [00:00<00:00, 19.63it/s]\n"
          ]
        },
        {
          "name": "stdout",
          "output_type": "stream",
          "text": [
            "BreaDM-Ma-2012\n"
          ]
        },
        {
          "name": "stderr",
          "output_type": "stream",
          "text": [
            "100%|██████████| 15/15 [00:00<00:00, 19.38it/s]\n"
          ]
        },
        {
          "name": "stdout",
          "output_type": "stream",
          "text": [
            "BreaDM-Ma-2026\n"
          ]
        },
        {
          "name": "stderr",
          "output_type": "stream",
          "text": [
            "100%|██████████| 12/12 [00:00<00:00, 19.51it/s]\n"
          ]
        },
        {
          "name": "stdout",
          "output_type": "stream",
          "text": [
            "BreaDM-Ma-2027\n"
          ]
        },
        {
          "name": "stderr",
          "output_type": "stream",
          "text": [
            "100%|██████████| 22/22 [00:01<00:00, 20.30it/s]\n"
          ]
        },
        {
          "name": "stdout",
          "output_type": "stream",
          "text": [
            "BreaDM-Ma-2038\n"
          ]
        },
        {
          "name": "stderr",
          "output_type": "stream",
          "text": [
            "100%|██████████| 2/2 [00:00<00:00, 20.37it/s]\n"
          ]
        },
        {
          "name": "stdout",
          "output_type": "stream",
          "text": [
            "BreaDM-Ma-2039\n"
          ]
        },
        {
          "name": "stderr",
          "output_type": "stream",
          "text": [
            "100%|██████████| 9/9 [00:00<00:00, 18.66it/s]\n"
          ]
        },
        {
          "name": "stdout",
          "output_type": "stream",
          "text": [
            "BreaDM-Ma-2043\n"
          ]
        },
        {
          "name": "stderr",
          "output_type": "stream",
          "text": [
            "100%|██████████| 11/11 [00:00<00:00, 18.92it/s]\n"
          ]
        },
        {
          "name": "stdout",
          "output_type": "stream",
          "text": [
            "BreaDM-Ma-2044\n"
          ]
        },
        {
          "name": "stderr",
          "output_type": "stream",
          "text": [
            "100%|██████████| 11/11 [00:00<00:00, 19.90it/s]\n"
          ]
        },
        {
          "name": "stdout",
          "output_type": "stream",
          "text": [
            "BreaDM-Ma-2107\n"
          ]
        },
        {
          "name": "stderr",
          "output_type": "stream",
          "text": [
            "100%|██████████| 13/13 [00:00<00:00, 19.96it/s]\n"
          ]
        },
        {
          "name": "stdout",
          "output_type": "stream",
          "text": [
            "BreaDM-Ma-2108\n"
          ]
        },
        {
          "name": "stderr",
          "output_type": "stream",
          "text": [
            "100%|██████████| 12/12 [00:00<00:00, 20.28it/s]\n"
          ]
        },
        {
          "name": "stdout",
          "output_type": "stream",
          "text": [
            "BreaDM-Ma-2109\n"
          ]
        },
        {
          "name": "stderr",
          "output_type": "stream",
          "text": [
            "100%|██████████| 5/5 [00:00<00:00, 18.69it/s]\n"
          ]
        },
        {
          "name": "stdout",
          "output_type": "stream",
          "text": [
            "BreaDM-Ma-2116\n"
          ]
        },
        {
          "name": "stderr",
          "output_type": "stream",
          "text": [
            "100%|██████████| 13/13 [00:00<00:00, 17.50it/s]\n"
          ]
        },
        {
          "name": "stdout",
          "output_type": "stream",
          "text": [
            "BreaDM-Ma-2118\n"
          ]
        },
        {
          "name": "stderr",
          "output_type": "stream",
          "text": [
            "100%|██████████| 11/11 [00:00<00:00, 20.01it/s]\n"
          ]
        },
        {
          "name": "stdout",
          "output_type": "stream",
          "text": [
            "BreaDM-Ma-2122\n"
          ]
        },
        {
          "name": "stderr",
          "output_type": "stream",
          "text": [
            "100%|██████████| 5/5 [00:00<00:00, 20.22it/s]\n"
          ]
        },
        {
          "name": "stdout",
          "output_type": "stream",
          "text": [
            "BreaDM-Ma-2125\n"
          ]
        },
        {
          "name": "stderr",
          "output_type": "stream",
          "text": [
            "100%|██████████| 6/6 [00:00<00:00, 19.80it/s]\n"
          ]
        },
        {
          "name": "stdout",
          "output_type": "stream",
          "text": [
            "BreaDM-Ma-2126\n"
          ]
        },
        {
          "name": "stderr",
          "output_type": "stream",
          "text": [
            "100%|██████████| 7/7 [00:00<00:00, 20.43it/s]\n"
          ]
        },
        {
          "name": "stdout",
          "output_type": "stream",
          "text": [
            "BreaDM-Ma-2131\n"
          ]
        },
        {
          "name": "stderr",
          "output_type": "stream",
          "text": [
            "100%|██████████| 15/15 [00:00<00:00, 18.35it/s]\n"
          ]
        },
        {
          "name": "stdout",
          "output_type": "stream",
          "text": [
            "BreaDM-Ma-2134\n"
          ]
        },
        {
          "name": "stderr",
          "output_type": "stream",
          "text": [
            "100%|██████████| 10/10 [00:00<00:00, 18.19it/s]\n"
          ]
        },
        {
          "name": "stdout",
          "output_type": "stream",
          "text": [
            "BreaDM-Ma-2140\n"
          ]
        },
        {
          "name": "stderr",
          "output_type": "stream",
          "text": [
            "100%|██████████| 11/11 [00:00<00:00, 19.50it/s]\n"
          ]
        },
        {
          "name": "stdout",
          "output_type": "stream",
          "text": [
            "BreaDM-Ma-2141\n"
          ]
        },
        {
          "name": "stderr",
          "output_type": "stream",
          "text": [
            "100%|██████████| 5/5 [00:00<00:00, 20.58it/s]\n"
          ]
        },
        {
          "name": "stdout",
          "output_type": "stream",
          "text": [
            "MODEL CLASS MEAN IOU  0.8801293\n",
            "MODEL CLASS STD IOU  0.07948569\n",
            "\n",
            "MODEL CLASS MEAN DICE  0.9257633\n",
            "MODEL CLASS STD DICE  0.07018008\n",
            "\n",
            "MODEL DIOU 0.9904076738609112\n",
            "MODEL DIOU STD  0.09746955123693801\n",
            "\n",
            "MODEL IOU MASS VOLUME  0.7608311772346497\n",
            "MODEL IOU MASS VOLUME STD  0.15880431234836578\n",
            "\n",
            "MODEL IOU MASS VOLUME NO EMPTY  0.7608311772346497\n",
            "MODEL IOU MASS VOLUME NO EMPTY STD  0.15861377120018005\n",
            "\n",
            "MODEL IOU MASS VOLUME NO EMPTY OPTIMISTIC  0.7608311772346497\n",
            "MODEL IOU MASS VOLUME NO EMPTY OPTIMISTIC STD  0.15861377120018005\n",
            "MODEL DICE MASS VOLUME  0.8518131375312805\n",
            "MODEL DICE MASS VOLUME STD  0.14018307626247406\n",
            "\n",
            "MODEL DICE MASS VOLUME NO EMPTY  0.8518131375312805\n",
            "MODEL DICE MASS VOLUME NO EMPTY STD  0.14018307626247406\n",
            "\n",
            "MODEL DICE MASS VOLUME NO EMPTY OPTIMISTIC  0.8518131375312805\n",
            "MODEL DICE MASS VOLUME NO EMPTY OPTIMISTIC STD  0.14018307626247406\n",
            "\n",
            "MODEL MEAN ACCURACY NO EMPTY 0.8801293075084686\n",
            "MODEL MEAN ACCURACY NO EMPTY STD 0.079675384\n",
            "\n",
            "MODEL MEAN PRECISION NO EMPTY 0.9148938655853271\n",
            "MODEL MEAN PRECISION NO EMPTY STD 0.082856745\n",
            "\n",
            "MODEL MEAN RECALL NO EMPTY 0.9449230134487152\n",
            "MODEL MEAN RECALL NO EMPTY STD 0.061320163\n",
            "\n",
            "MODEL MEAN F1 NO EMPTY 0.9257633\n",
            "MODEL MEAN F1 NO EMPTY STD 0.07018008\n",
            "\n",
            "MODEL ACCURACY EXCLUDING CASES  0.9994292259216309\n",
            "MODEL ACCURACY EXCLUDING CASES STD  0.0007336612\n",
            "\n",
            "MODEL PRECISION EXCLUDING CASES  0.8299869298934937\n",
            "MODEL PRECISION EXCLUDING CASES STD  0.16543227\n",
            "\n",
            "MODEL RECALL EXCLUDING CASES  0.8902195692062378\n",
            "MODEL RECALL EXCLUDING CASES STD  0.12205765\n",
            "\n",
            "MODEL ACCURACY NO EMPTY  0.7608311772346497\n",
            "MODEL ACCURACY NO EMPTY STD  0.15861377\n",
            "\n",
            "MODEL PRECISION NO EMPTY 0.8299869298934937\n",
            "MODEL PRECISION NO EMPTY STD  0.16543227\n",
            "\n",
            "MODEL RECALL NO EMPTY  0.8902195692062378\n",
            "MODEL RECALL NO EMPTY STD  0.12205765\n",
            "\n",
            "MODEL F1 NO EMPTY  0.8518131375312805\n",
            "MODEL F1 NO EMPTY STD  0.14018308\n",
            "\n",
            "\n",
            "FCN Results:\n",
            "None\n",
            "Testing SegNet model...\n",
            "Initialized SurfaceLossBinary with [1]\n",
            "BreaDM-Be-1801\n"
          ]
        },
        {
          "name": "stderr",
          "output_type": "stream",
          "text": [
            "100%|██████████| 7/7 [00:00<00:00, 16.72it/s]\n"
          ]
        },
        {
          "name": "stdout",
          "output_type": "stream",
          "text": [
            "BreaDM-Be-1803\n"
          ]
        },
        {
          "name": "stderr",
          "output_type": "stream",
          "text": [
            "100%|██████████| 3/3 [00:00<00:00, 23.50it/s]\n"
          ]
        },
        {
          "name": "stdout",
          "output_type": "stream",
          "text": [
            "BreaDM-Be-1804\n"
          ]
        },
        {
          "name": "stderr",
          "output_type": "stream",
          "text": [
            "100%|██████████| 4/4 [00:00<00:00, 23.76it/s]\n"
          ]
        },
        {
          "name": "stdout",
          "output_type": "stream",
          "text": [
            "BreaDM-Be-1810\n"
          ]
        },
        {
          "name": "stderr",
          "output_type": "stream",
          "text": [
            "100%|██████████| 2/2 [00:00<00:00, 20.26it/s]\n"
          ]
        },
        {
          "name": "stdout",
          "output_type": "stream",
          "text": [
            "BreaDM-Be-1813\n"
          ]
        },
        {
          "name": "stderr",
          "output_type": "stream",
          "text": [
            "100%|██████████| 3/3 [00:00<00:00, 23.89it/s]\n"
          ]
        },
        {
          "name": "stdout",
          "output_type": "stream",
          "text": [
            "BreaDM-Be-1822\n"
          ]
        },
        {
          "name": "stderr",
          "output_type": "stream",
          "text": [
            "100%|██████████| 11/11 [00:00<00:00, 25.08it/s]\n"
          ]
        },
        {
          "name": "stdout",
          "output_type": "stream",
          "text": [
            "BreaDM-Be-1826\n"
          ]
        },
        {
          "name": "stderr",
          "output_type": "stream",
          "text": [
            "100%|██████████| 2/2 [00:00<00:00, 28.91it/s]\n"
          ]
        },
        {
          "name": "stdout",
          "output_type": "stream",
          "text": [
            "BreaDM-Be-1906\n"
          ]
        },
        {
          "name": "stderr",
          "output_type": "stream",
          "text": [
            "100%|██████████| 10/10 [00:00<00:00, 26.35it/s]\n"
          ]
        },
        {
          "name": "stdout",
          "output_type": "stream",
          "text": [
            "BreaDM-Be-1907\n"
          ]
        },
        {
          "name": "stderr",
          "output_type": "stream",
          "text": [
            "100%|██████████| 3/3 [00:00<00:00, 23.51it/s]\n"
          ]
        },
        {
          "name": "stdout",
          "output_type": "stream",
          "text": [
            "BreaDM-Be-1909\n"
          ]
        },
        {
          "name": "stderr",
          "output_type": "stream",
          "text": [
            "100%|██████████| 24/24 [00:01<00:00, 16.79it/s]\n"
          ]
        },
        {
          "name": "stdout",
          "output_type": "stream",
          "text": [
            "BreaDM-Be-1914\n"
          ]
        },
        {
          "name": "stderr",
          "output_type": "stream",
          "text": [
            "100%|██████████| 3/3 [00:00<00:00, 26.63it/s]\n"
          ]
        },
        {
          "name": "stdout",
          "output_type": "stream",
          "text": [
            "BreaDM-Be-2001\n"
          ]
        },
        {
          "name": "stderr",
          "output_type": "stream",
          "text": [
            "100%|██████████| 4/4 [00:00<00:00, 13.28it/s]\n"
          ]
        },
        {
          "name": "stdout",
          "output_type": "stream",
          "text": [
            "BreaDM-Be-2002\n"
          ]
        },
        {
          "name": "stderr",
          "output_type": "stream",
          "text": [
            "100%|██████████| 5/5 [00:00<00:00, 18.59it/s]\n"
          ]
        },
        {
          "name": "stdout",
          "output_type": "stream",
          "text": [
            "BreaDM-Be-2013\n"
          ]
        },
        {
          "name": "stderr",
          "output_type": "stream",
          "text": [
            "100%|██████████| 5/5 [00:00<00:00, 26.36it/s]\n"
          ]
        },
        {
          "name": "stdout",
          "output_type": "stream",
          "text": [
            "BreaDM-Be-2019\n"
          ]
        },
        {
          "name": "stderr",
          "output_type": "stream",
          "text": [
            "100%|██████████| 4/4 [00:00<00:00, 20.29it/s]\n"
          ]
        },
        {
          "name": "stdout",
          "output_type": "stream",
          "text": [
            "BreaDM-Be-2020\n"
          ]
        },
        {
          "name": "stderr",
          "output_type": "stream",
          "text": [
            "100%|██████████| 9/9 [00:00<00:00, 19.38it/s]\n"
          ]
        },
        {
          "name": "stdout",
          "output_type": "stream",
          "text": [
            "BreaDM-Be-2022\n"
          ]
        },
        {
          "name": "stderr",
          "output_type": "stream",
          "text": [
            "100%|██████████| 8/8 [00:00<00:00, 21.97it/s]\n"
          ]
        },
        {
          "name": "stdout",
          "output_type": "stream",
          "text": [
            "BreaDM-Be-2102\n"
          ]
        },
        {
          "name": "stderr",
          "output_type": "stream",
          "text": [
            "100%|██████████| 9/9 [00:00<00:00, 15.60it/s]\n"
          ]
        },
        {
          "name": "stdout",
          "output_type": "stream",
          "text": [
            "BreaDM-Be-2111\n"
          ]
        },
        {
          "name": "stderr",
          "output_type": "stream",
          "text": [
            "100%|██████████| 3/3 [00:00<00:00, 18.79it/s]"
          ]
        },
        {
          "name": "stdout",
          "output_type": "stream",
          "text": [
            "BreaDM-Be-2113"
          ]
        },
        {
          "name": "stderr",
          "output_type": "stream",
          "text": [
            "\n"
          ]
        },
        {
          "name": "stdout",
          "output_type": "stream",
          "text": [
            "\n"
          ]
        },
        {
          "name": "stderr",
          "output_type": "stream",
          "text": [
            "100%|██████████| 9/9 [00:00<00:00, 15.49it/s]\n"
          ]
        },
        {
          "name": "stdout",
          "output_type": "stream",
          "text": [
            "BreaDM-Ma-1801\n"
          ]
        },
        {
          "name": "stderr",
          "output_type": "stream",
          "text": [
            "100%|██████████| 5/5 [00:00<00:00, 18.90it/s]\n"
          ]
        },
        {
          "name": "stdout",
          "output_type": "stream",
          "text": [
            "BreaDM-Ma-1821\n"
          ]
        },
        {
          "name": "stderr",
          "output_type": "stream",
          "text": [
            "100%|██████████| 8/8 [00:00<00:00, 16.67it/s]\n"
          ]
        },
        {
          "name": "stdout",
          "output_type": "stream",
          "text": [
            "BreaDM-Ma-1824\n"
          ]
        },
        {
          "name": "stderr",
          "output_type": "stream",
          "text": [
            "100%|██████████| 5/5 [00:00<00:00, 16.68it/s]\n"
          ]
        },
        {
          "name": "stdout",
          "output_type": "stream",
          "text": [
            "BreaDM-Ma-1908\n"
          ]
        },
        {
          "name": "stderr",
          "output_type": "stream",
          "text": [
            "100%|██████████| 6/6 [00:00<00:00, 15.09it/s]\n"
          ]
        },
        {
          "name": "stdout",
          "output_type": "stream",
          "text": [
            "BreaDM-Ma-1909\n"
          ]
        },
        {
          "name": "stderr",
          "output_type": "stream",
          "text": [
            "100%|██████████| 3/3 [00:00<00:00, 21.04it/s]\n"
          ]
        },
        {
          "name": "stdout",
          "output_type": "stream",
          "text": [
            "BreaDM-Ma-1915\n"
          ]
        },
        {
          "name": "stderr",
          "output_type": "stream",
          "text": [
            "100%|██████████| 16/16 [00:00<00:00, 19.04it/s]\n"
          ]
        },
        {
          "name": "stdout",
          "output_type": "stream",
          "text": [
            "BreaDM-Ma-1916\n"
          ]
        },
        {
          "name": "stderr",
          "output_type": "stream",
          "text": [
            "100%|██████████| 8/8 [00:00<00:00, 18.07it/s]\n"
          ]
        },
        {
          "name": "stdout",
          "output_type": "stream",
          "text": [
            "BreaDM-Ma-1919\n"
          ]
        },
        {
          "name": "stderr",
          "output_type": "stream",
          "text": [
            "100%|██████████| 10/10 [00:00<00:00, 18.66it/s]\n"
          ]
        },
        {
          "name": "stdout",
          "output_type": "stream",
          "text": [
            "BreaDM-Ma-1921\n"
          ]
        },
        {
          "name": "stderr",
          "output_type": "stream",
          "text": [
            "100%|██████████| 5/5 [00:00<00:00, 17.88it/s]\n"
          ]
        },
        {
          "name": "stdout",
          "output_type": "stream",
          "text": [
            "BreaDM-Ma-1923\n"
          ]
        },
        {
          "name": "stderr",
          "output_type": "stream",
          "text": [
            "100%|██████████| 13/13 [00:00<00:00, 19.19it/s]\n"
          ]
        },
        {
          "name": "stdout",
          "output_type": "stream",
          "text": [
            "BreaDM-Ma-2007\n"
          ]
        },
        {
          "name": "stderr",
          "output_type": "stream",
          "text": [
            "100%|██████████| 15/15 [00:00<00:00, 16.95it/s]\n"
          ]
        },
        {
          "name": "stdout",
          "output_type": "stream",
          "text": [
            "BreaDM-Ma-2012\n"
          ]
        },
        {
          "name": "stderr",
          "output_type": "stream",
          "text": [
            "100%|██████████| 15/15 [00:00<00:00, 29.45it/s]\n"
          ]
        },
        {
          "name": "stdout",
          "output_type": "stream",
          "text": [
            "BreaDM-Ma-2026\n"
          ]
        },
        {
          "name": "stderr",
          "output_type": "stream",
          "text": [
            "100%|██████████| 12/12 [00:00<00:00, 33.84it/s]\n"
          ]
        },
        {
          "name": "stdout",
          "output_type": "stream",
          "text": [
            "BreaDM-Ma-2027\n"
          ]
        },
        {
          "name": "stderr",
          "output_type": "stream",
          "text": [
            "100%|██████████| 22/22 [00:00<00:00, 30.64it/s]\n"
          ]
        },
        {
          "name": "stdout",
          "output_type": "stream",
          "text": [
            "BreaDM-Ma-2038\n"
          ]
        },
        {
          "name": "stderr",
          "output_type": "stream",
          "text": [
            "100%|██████████| 2/2 [00:00<00:00, 26.55it/s]\n"
          ]
        },
        {
          "name": "stdout",
          "output_type": "stream",
          "text": [
            "BreaDM-Ma-2039\n"
          ]
        },
        {
          "name": "stderr",
          "output_type": "stream",
          "text": [
            "100%|██████████| 9/9 [00:00<00:00, 17.59it/s]\n"
          ]
        },
        {
          "name": "stdout",
          "output_type": "stream",
          "text": [
            "BreaDM-Ma-2043\n"
          ]
        },
        {
          "name": "stderr",
          "output_type": "stream",
          "text": [
            "100%|██████████| 11/11 [00:00<00:00, 30.07it/s]\n"
          ]
        },
        {
          "name": "stdout",
          "output_type": "stream",
          "text": [
            "BreaDM-Ma-2044\n"
          ]
        },
        {
          "name": "stderr",
          "output_type": "stream",
          "text": [
            "100%|██████████| 11/11 [00:00<00:00, 31.39it/s]\n"
          ]
        },
        {
          "name": "stdout",
          "output_type": "stream",
          "text": [
            "BreaDM-Ma-2107\n"
          ]
        },
        {
          "name": "stderr",
          "output_type": "stream",
          "text": [
            "100%|██████████| 13/13 [00:00<00:00, 34.56it/s]\n"
          ]
        },
        {
          "name": "stdout",
          "output_type": "stream",
          "text": [
            "BreaDM-Ma-2108\n"
          ]
        },
        {
          "name": "stderr",
          "output_type": "stream",
          "text": [
            "100%|██████████| 12/12 [00:00<00:00, 31.43it/s]\n"
          ]
        },
        {
          "name": "stdout",
          "output_type": "stream",
          "text": [
            "BreaDM-Ma-2109\n"
          ]
        },
        {
          "name": "stderr",
          "output_type": "stream",
          "text": [
            "100%|██████████| 5/5 [00:00<00:00, 29.58it/s]\n"
          ]
        },
        {
          "name": "stdout",
          "output_type": "stream",
          "text": [
            "BreaDM-Ma-2116\n"
          ]
        },
        {
          "name": "stderr",
          "output_type": "stream",
          "text": [
            "100%|██████████| 13/13 [00:00<00:00, 23.60it/s]\n"
          ]
        },
        {
          "name": "stdout",
          "output_type": "stream",
          "text": [
            "BreaDM-Ma-2118\n"
          ]
        },
        {
          "name": "stderr",
          "output_type": "stream",
          "text": [
            "100%|██████████| 11/11 [00:00<00:00, 23.19it/s]\n"
          ]
        },
        {
          "name": "stdout",
          "output_type": "stream",
          "text": [
            "BreaDM-Ma-2122\n"
          ]
        },
        {
          "name": "stderr",
          "output_type": "stream",
          "text": [
            "100%|██████████| 5/5 [00:00<00:00, 29.14it/s]"
          ]
        },
        {
          "name": "stdout",
          "output_type": "stream",
          "text": [
            "BreaDM-Ma-2125"
          ]
        },
        {
          "name": "stderr",
          "output_type": "stream",
          "text": [
            "\n"
          ]
        },
        {
          "name": "stdout",
          "output_type": "stream",
          "text": [
            "\n"
          ]
        },
        {
          "name": "stderr",
          "output_type": "stream",
          "text": [
            "100%|██████████| 6/6 [00:00<00:00, 31.13it/s]\n"
          ]
        },
        {
          "name": "stdout",
          "output_type": "stream",
          "text": [
            "BreaDM-Ma-2126\n"
          ]
        },
        {
          "name": "stderr",
          "output_type": "stream",
          "text": [
            "100%|██████████| 7/7 [00:00<00:00, 32.39it/s]\n"
          ]
        },
        {
          "name": "stdout",
          "output_type": "stream",
          "text": [
            "BreaDM-Ma-2131\n"
          ]
        },
        {
          "name": "stderr",
          "output_type": "stream",
          "text": [
            "100%|██████████| 15/15 [00:00<00:00, 33.02it/s]\n"
          ]
        },
        {
          "name": "stdout",
          "output_type": "stream",
          "text": [
            "BreaDM-Ma-2134\n"
          ]
        },
        {
          "name": "stderr",
          "output_type": "stream",
          "text": [
            "100%|██████████| 10/10 [00:00<00:00, 30.69it/s]\n"
          ]
        },
        {
          "name": "stdout",
          "output_type": "stream",
          "text": [
            "BreaDM-Ma-2140\n"
          ]
        },
        {
          "name": "stderr",
          "output_type": "stream",
          "text": [
            "100%|██████████| 11/11 [00:00<00:00, 29.11it/s]\n"
          ]
        },
        {
          "name": "stdout",
          "output_type": "stream",
          "text": [
            "BreaDM-Ma-2141\n"
          ]
        },
        {
          "name": "stderr",
          "output_type": "stream",
          "text": [
            "100%|██████████| 5/5 [00:00<00:00, 23.00it/s]\n"
          ]
        },
        {
          "name": "stdout",
          "output_type": "stream",
          "text": [
            "MODEL CLASS MEAN IOU  0.74921995\n",
            "MODEL CLASS STD IOU  0.16151887\n",
            "\n",
            "MODEL CLASS MEAN DICE  0.79575807\n",
            "MODEL CLASS STD DICE  0.1743849\n",
            "\n",
            "MODEL DIOU 0.8441247002398081\n",
            "MODEL DIOU STD  0.36273708203719973\n",
            "\n",
            "MODEL IOU MASS VOLUME  0.4995269477367401\n",
            "MODEL IOU MASS VOLUME STD  0.3228603005409241\n",
            "\n",
            "MODEL IOU MASS VOLUME NO EMPTY  0.4995269477367401\n",
            "MODEL IOU MASS VOLUME NO EMPTY STD  0.3224729597568512\n",
            "\n",
            "MODEL IOU MASS VOLUME NO EMPTY OPTIMISTIC  0.4995269477367401\n",
            "MODEL IOU MASS VOLUME NO EMPTY OPTIMISTIC STD  0.3224729597568512\n",
            "MODEL DICE MASS VOLUME  0.5920605659484863\n",
            "MODEL DICE MASS VOLUME STD  0.3485020697116852\n",
            "\n",
            "MODEL DICE MASS VOLUME NO EMPTY  0.5920605659484863\n",
            "MODEL DICE MASS VOLUME NO EMPTY STD  0.3485020697116852\n",
            "\n",
            "MODEL DICE MASS VOLUME NO EMPTY OPTIMISTIC  0.5920605659484863\n",
            "MODEL DICE MASS VOLUME NO EMPTY OPTIMISTIC STD  0.3485020697116852\n",
            "\n",
            "MODEL MEAN ACCURACY NO EMPTY 0.7492199093103409\n",
            "MODEL MEAN ACCURACY NO EMPTY STD 0.16198379\n",
            "\n",
            "MODEL MEAN PRECISION NO EMPTY 0.9457796216011047\n",
            "MODEL MEAN PRECISION NO EMPTY STD 0.090006374\n",
            "\n",
            "MODEL MEAN RECALL NO EMPTY 0.7688490152359009\n",
            "MODEL MEAN RECALL NO EMPTY STD 0.17578214\n",
            "\n",
            "MODEL MEAN F1 NO EMPTY 0.79575807\n",
            "MODEL MEAN F1 NO EMPTY STD 0.1743849\n",
            "\n",
            "MODEL ACCURACY EXCLUDING CASES  0.9989146590232849\n",
            "MODEL ACCURACY EXCLUDING CASES STD  0.0014921237\n",
            "\n",
            "MODEL PRECISION EXCLUDING CASES  0.8924857974052429\n",
            "MODEL PRECISION EXCLUDING CASES STD  0.1786744\n",
            "\n",
            "MODEL RECALL EXCLUDING CASES  0.5378590226173401\n",
            "MODEL RECALL EXCLUDING CASES STD  0.3512073\n",
            "\n",
            "MODEL ACCURACY NO EMPTY  0.4995269477367401\n",
            "MODEL ACCURACY NO EMPTY STD  0.32247296\n",
            "\n",
            "MODEL PRECISION NO EMPTY 0.8924857974052429\n",
            "MODEL PRECISION NO EMPTY STD  0.1786744\n",
            "\n",
            "MODEL RECALL NO EMPTY  0.5378590226173401\n",
            "MODEL RECALL NO EMPTY STD  0.3512073\n",
            "\n",
            "MODEL F1 NO EMPTY  0.5920605659484863\n",
            "MODEL F1 NO EMPTY STD  0.34850207\n",
            "\n",
            "\n",
            "SegNet Results:\n",
            "None\n",
            "Testing Swin-UNETR model...\n",
            "Initialized SurfaceLossBinary with [1]\n",
            "BreaDM-Be-1801\n"
          ]
        },
        {
          "name": "stderr",
          "output_type": "stream",
          "text": [
            "100%|██████████| 7/7 [00:00<00:00, 10.92it/s]\n"
          ]
        },
        {
          "name": "stdout",
          "output_type": "stream",
          "text": [
            "BreaDM-Be-1803\n"
          ]
        },
        {
          "name": "stderr",
          "output_type": "stream",
          "text": [
            "100%|██████████| 3/3 [00:00<00:00, 14.39it/s]\n"
          ]
        },
        {
          "name": "stdout",
          "output_type": "stream",
          "text": [
            "BreaDM-Be-1804\n"
          ]
        },
        {
          "name": "stderr",
          "output_type": "stream",
          "text": [
            "100%|██████████| 4/4 [00:00<00:00, 13.63it/s]\n"
          ]
        },
        {
          "name": "stdout",
          "output_type": "stream",
          "text": [
            "BreaDM-Be-1810\n"
          ]
        },
        {
          "name": "stderr",
          "output_type": "stream",
          "text": [
            "100%|██████████| 2/2 [00:00<00:00, 12.76it/s]\n"
          ]
        },
        {
          "name": "stdout",
          "output_type": "stream",
          "text": [
            "BreaDM-Be-1813\n"
          ]
        },
        {
          "name": "stderr",
          "output_type": "stream",
          "text": [
            "100%|██████████| 3/3 [00:00<00:00, 12.55it/s]\n"
          ]
        },
        {
          "name": "stdout",
          "output_type": "stream",
          "text": [
            "BreaDM-Be-1822\n"
          ]
        },
        {
          "name": "stderr",
          "output_type": "stream",
          "text": [
            "100%|██████████| 11/11 [00:00<00:00, 11.21it/s]\n"
          ]
        },
        {
          "name": "stdout",
          "output_type": "stream",
          "text": [
            "BreaDM-Be-1826\n"
          ]
        },
        {
          "name": "stderr",
          "output_type": "stream",
          "text": [
            "100%|██████████| 2/2 [00:00<00:00, 10.91it/s]\n"
          ]
        },
        {
          "name": "stdout",
          "output_type": "stream",
          "text": [
            "BreaDM-Be-1906\n"
          ]
        },
        {
          "name": "stderr",
          "output_type": "stream",
          "text": [
            "100%|██████████| 10/10 [00:00<00:00, 11.49it/s]\n"
          ]
        },
        {
          "name": "stdout",
          "output_type": "stream",
          "text": [
            "BreaDM-Be-1907\n"
          ]
        },
        {
          "name": "stderr",
          "output_type": "stream",
          "text": [
            "100%|██████████| 3/3 [00:00<00:00, 13.71it/s]\n"
          ]
        },
        {
          "name": "stdout",
          "output_type": "stream",
          "text": [
            "BreaDM-Be-1909\n"
          ]
        },
        {
          "name": "stderr",
          "output_type": "stream",
          "text": [
            "100%|██████████| 24/24 [00:02<00:00, 11.08it/s]\n"
          ]
        },
        {
          "name": "stdout",
          "output_type": "stream",
          "text": [
            "BreaDM-Be-1914\n"
          ]
        },
        {
          "name": "stderr",
          "output_type": "stream",
          "text": [
            "100%|██████████| 3/3 [00:00<00:00, 11.01it/s]\n"
          ]
        },
        {
          "name": "stdout",
          "output_type": "stream",
          "text": [
            "BreaDM-Be-2001\n"
          ]
        },
        {
          "name": "stderr",
          "output_type": "stream",
          "text": [
            "100%|██████████| 4/4 [00:00<00:00, 11.38it/s]\n"
          ]
        },
        {
          "name": "stdout",
          "output_type": "stream",
          "text": [
            "BreaDM-Be-2002\n"
          ]
        },
        {
          "name": "stderr",
          "output_type": "stream",
          "text": [
            "100%|██████████| 5/5 [00:00<00:00, 11.23it/s]\n"
          ]
        },
        {
          "name": "stdout",
          "output_type": "stream",
          "text": [
            "BreaDM-Be-2013\n"
          ]
        },
        {
          "name": "stderr",
          "output_type": "stream",
          "text": [
            "100%|██████████| 5/5 [00:00<00:00, 10.84it/s]\n"
          ]
        },
        {
          "name": "stdout",
          "output_type": "stream",
          "text": [
            "BreaDM-Be-2019\n"
          ]
        },
        {
          "name": "stderr",
          "output_type": "stream",
          "text": [
            "100%|██████████| 4/4 [00:00<00:00, 10.53it/s]\n"
          ]
        },
        {
          "name": "stdout",
          "output_type": "stream",
          "text": [
            "BreaDM-Be-2020\n"
          ]
        },
        {
          "name": "stderr",
          "output_type": "stream",
          "text": [
            "100%|██████████| 9/9 [00:00<00:00,  9.52it/s]\n"
          ]
        },
        {
          "name": "stdout",
          "output_type": "stream",
          "text": [
            "BreaDM-Be-2022\n"
          ]
        },
        {
          "name": "stderr",
          "output_type": "stream",
          "text": [
            "100%|██████████| 8/8 [00:00<00:00, 10.62it/s]\n"
          ]
        },
        {
          "name": "stdout",
          "output_type": "stream",
          "text": [
            "BreaDM-Be-2102\n"
          ]
        },
        {
          "name": "stderr",
          "output_type": "stream",
          "text": [
            "100%|██████████| 9/9 [00:00<00:00, 10.76it/s]\n"
          ]
        },
        {
          "name": "stdout",
          "output_type": "stream",
          "text": [
            "BreaDM-Be-2111\n"
          ]
        },
        {
          "name": "stderr",
          "output_type": "stream",
          "text": [
            "100%|██████████| 3/3 [00:00<00:00, 10.12it/s]\n"
          ]
        },
        {
          "name": "stdout",
          "output_type": "stream",
          "text": [
            "BreaDM-Be-2113\n"
          ]
        },
        {
          "name": "stderr",
          "output_type": "stream",
          "text": [
            "100%|██████████| 9/9 [00:00<00:00, 10.25it/s]\n"
          ]
        },
        {
          "name": "stdout",
          "output_type": "stream",
          "text": [
            "BreaDM-Ma-1801\n"
          ]
        },
        {
          "name": "stderr",
          "output_type": "stream",
          "text": [
            "100%|██████████| 5/5 [00:00<00:00, 10.58it/s]\n"
          ]
        },
        {
          "name": "stdout",
          "output_type": "stream",
          "text": [
            "BreaDM-Ma-1821\n"
          ]
        },
        {
          "name": "stderr",
          "output_type": "stream",
          "text": [
            "100%|██████████| 8/8 [00:00<00:00, 10.79it/s]\n"
          ]
        },
        {
          "name": "stdout",
          "output_type": "stream",
          "text": [
            "BreaDM-Ma-1824\n"
          ]
        },
        {
          "name": "stderr",
          "output_type": "stream",
          "text": [
            "100%|██████████| 5/5 [00:00<00:00, 10.34it/s]\n"
          ]
        },
        {
          "name": "stdout",
          "output_type": "stream",
          "text": [
            "BreaDM-Ma-1908\n"
          ]
        },
        {
          "name": "stderr",
          "output_type": "stream",
          "text": [
            "100%|██████████| 6/6 [00:00<00:00,  9.87it/s]\n"
          ]
        },
        {
          "name": "stdout",
          "output_type": "stream",
          "text": [
            "BreaDM-Ma-1909\n"
          ]
        },
        {
          "name": "stderr",
          "output_type": "stream",
          "text": [
            "100%|██████████| 3/3 [00:00<00:00,  9.74it/s]\n"
          ]
        },
        {
          "name": "stdout",
          "output_type": "stream",
          "text": [
            "BreaDM-Ma-1915\n"
          ]
        },
        {
          "name": "stderr",
          "output_type": "stream",
          "text": [
            "100%|██████████| 16/16 [00:01<00:00, 10.05it/s]\n"
          ]
        },
        {
          "name": "stdout",
          "output_type": "stream",
          "text": [
            "BreaDM-Ma-1916\n"
          ]
        },
        {
          "name": "stderr",
          "output_type": "stream",
          "text": [
            "100%|██████████| 8/8 [00:00<00:00,  8.55it/s]\n"
          ]
        },
        {
          "name": "stdout",
          "output_type": "stream",
          "text": [
            "BreaDM-Ma-1919\n"
          ]
        },
        {
          "name": "stderr",
          "output_type": "stream",
          "text": [
            "100%|██████████| 10/10 [00:00<00:00, 10.92it/s]\n"
          ]
        },
        {
          "name": "stdout",
          "output_type": "stream",
          "text": [
            "BreaDM-Ma-1921\n"
          ]
        },
        {
          "name": "stderr",
          "output_type": "stream",
          "text": [
            "100%|██████████| 5/5 [00:00<00:00, 12.04it/s]\n"
          ]
        },
        {
          "name": "stdout",
          "output_type": "stream",
          "text": [
            "BreaDM-Ma-1923\n"
          ]
        },
        {
          "name": "stderr",
          "output_type": "stream",
          "text": [
            "100%|██████████| 13/13 [00:01<00:00, 12.14it/s]\n"
          ]
        },
        {
          "name": "stdout",
          "output_type": "stream",
          "text": [
            "BreaDM-Ma-2007\n"
          ]
        },
        {
          "name": "stderr",
          "output_type": "stream",
          "text": [
            "100%|██████████| 15/15 [00:01<00:00, 11.22it/s]\n"
          ]
        },
        {
          "name": "stdout",
          "output_type": "stream",
          "text": [
            "BreaDM-Ma-2012\n"
          ]
        },
        {
          "name": "stderr",
          "output_type": "stream",
          "text": [
            "100%|██████████| 15/15 [00:01<00:00, 11.02it/s]\n"
          ]
        },
        {
          "name": "stdout",
          "output_type": "stream",
          "text": [
            "BreaDM-Ma-2026\n"
          ]
        },
        {
          "name": "stderr",
          "output_type": "stream",
          "text": [
            "100%|██████████| 12/12 [00:01<00:00, 11.99it/s]\n"
          ]
        },
        {
          "name": "stdout",
          "output_type": "stream",
          "text": [
            "BreaDM-Ma-2027\n"
          ]
        },
        {
          "name": "stderr",
          "output_type": "stream",
          "text": [
            "100%|██████████| 22/22 [00:03<00:00,  6.86it/s]\n"
          ]
        },
        {
          "name": "stdout",
          "output_type": "stream",
          "text": [
            "BreaDM-Ma-2038\n"
          ]
        },
        {
          "name": "stderr",
          "output_type": "stream",
          "text": [
            "100%|██████████| 2/2 [00:00<00:00,  6.01it/s]\n"
          ]
        },
        {
          "name": "stdout",
          "output_type": "stream",
          "text": [
            "BreaDM-Ma-2039\n"
          ]
        },
        {
          "name": "stderr",
          "output_type": "stream",
          "text": [
            "100%|██████████| 9/9 [00:01<00:00,  6.02it/s]\n"
          ]
        },
        {
          "name": "stdout",
          "output_type": "stream",
          "text": [
            "BreaDM-Ma-2043\n"
          ]
        },
        {
          "name": "stderr",
          "output_type": "stream",
          "text": [
            "100%|██████████| 11/11 [00:01<00:00,  6.10it/s]\n"
          ]
        },
        {
          "name": "stdout",
          "output_type": "stream",
          "text": [
            "BreaDM-Ma-2044\n"
          ]
        },
        {
          "name": "stderr",
          "output_type": "stream",
          "text": [
            "100%|██████████| 11/11 [00:01<00:00,  6.14it/s]\n"
          ]
        },
        {
          "name": "stdout",
          "output_type": "stream",
          "text": [
            "BreaDM-Ma-2107\n"
          ]
        },
        {
          "name": "stderr",
          "output_type": "stream",
          "text": [
            "100%|██████████| 13/13 [00:02<00:00,  6.11it/s]\n"
          ]
        },
        {
          "name": "stdout",
          "output_type": "stream",
          "text": [
            "BreaDM-Ma-2108\n"
          ]
        },
        {
          "name": "stderr",
          "output_type": "stream",
          "text": [
            "100%|██████████| 12/12 [00:01<00:00,  6.03it/s]\n"
          ]
        },
        {
          "name": "stdout",
          "output_type": "stream",
          "text": [
            "BreaDM-Ma-2109\n"
          ]
        },
        {
          "name": "stderr",
          "output_type": "stream",
          "text": [
            "100%|██████████| 5/5 [00:00<00:00,  6.11it/s]\n"
          ]
        },
        {
          "name": "stdout",
          "output_type": "stream",
          "text": [
            "BreaDM-Ma-2116\n"
          ]
        },
        {
          "name": "stderr",
          "output_type": "stream",
          "text": [
            "100%|██████████| 13/13 [00:02<00:00,  6.05it/s]\n"
          ]
        },
        {
          "name": "stdout",
          "output_type": "stream",
          "text": [
            "BreaDM-Ma-2118\n"
          ]
        },
        {
          "name": "stderr",
          "output_type": "stream",
          "text": [
            "100%|██████████| 11/11 [00:01<00:00,  6.09it/s]\n"
          ]
        },
        {
          "name": "stdout",
          "output_type": "stream",
          "text": [
            "BreaDM-Ma-2122\n"
          ]
        },
        {
          "name": "stderr",
          "output_type": "stream",
          "text": [
            "100%|██████████| 5/5 [00:00<00:00,  6.26it/s]\n"
          ]
        },
        {
          "name": "stdout",
          "output_type": "stream",
          "text": [
            "BreaDM-Ma-2125\n"
          ]
        },
        {
          "name": "stderr",
          "output_type": "stream",
          "text": [
            "100%|██████████| 6/6 [00:00<00:00,  6.12it/s]\n"
          ]
        },
        {
          "name": "stdout",
          "output_type": "stream",
          "text": [
            "BreaDM-Ma-2126\n"
          ]
        },
        {
          "name": "stderr",
          "output_type": "stream",
          "text": [
            "100%|██████████| 7/7 [00:01<00:00,  6.12it/s]\n"
          ]
        },
        {
          "name": "stdout",
          "output_type": "stream",
          "text": [
            "BreaDM-Ma-2131\n"
          ]
        },
        {
          "name": "stderr",
          "output_type": "stream",
          "text": [
            "100%|██████████| 15/15 [00:02<00:00,  6.38it/s]\n"
          ]
        },
        {
          "name": "stdout",
          "output_type": "stream",
          "text": [
            "BreaDM-Ma-2134\n"
          ]
        },
        {
          "name": "stderr",
          "output_type": "stream",
          "text": [
            "100%|██████████| 10/10 [00:00<00:00, 16.19it/s]\n"
          ]
        },
        {
          "name": "stdout",
          "output_type": "stream",
          "text": [
            "BreaDM-Ma-2140\n"
          ]
        },
        {
          "name": "stderr",
          "output_type": "stream",
          "text": [
            "100%|██████████| 11/11 [00:00<00:00, 17.21it/s]\n"
          ]
        },
        {
          "name": "stdout",
          "output_type": "stream",
          "text": [
            "BreaDM-Ma-2141\n"
          ]
        },
        {
          "name": "stderr",
          "output_type": "stream",
          "text": [
            "100%|██████████| 5/5 [00:00<00:00, 18.64it/s]"
          ]
        },
        {
          "name": "stdout",
          "output_type": "stream",
          "text": [
            "MODEL CLASS MEAN IOU  0.86653\n",
            "MODEL CLASS STD IOU  0.107399404\n",
            "\n",
            "MODEL CLASS MEAN DICE  0.9101772\n",
            "MODEL CLASS STD DICE  0.10570429\n",
            "\n",
            "MODEL DIOU 0.9616306954436451\n",
            "MODEL DIOU STD  0.19208618124221377\n",
            "\n",
            "MODEL IOU MASS VOLUME  0.7336068749427795\n",
            "MODEL IOU MASS VOLUME STD  0.2147994339466095\n",
            "\n",
            "MODEL IOU MASS VOLUME NO EMPTY  0.7336068749427795\n",
            "MODEL IOU MASS VOLUME NO EMPTY STD  0.2145417332649231\n",
            "\n",
            "MODEL IOU MASS VOLUME NO EMPTY OPTIMISTIC  0.7336068749427795\n",
            "MODEL IOU MASS VOLUME NO EMPTY OPTIMISTIC STD  0.2145417332649231\n",
            "MODEL DICE MASS VOLUME  0.8206279873847961\n",
            "MODEL DICE MASS VOLUME STD  0.21129119396209717\n",
            "\n",
            "MODEL DICE MASS VOLUME NO EMPTY  0.8206279873847961\n",
            "MODEL DICE MASS VOLUME NO EMPTY STD  0.21129119396209717\n",
            "\n",
            "MODEL DICE MASS VOLUME NO EMPTY OPTIMISTIC  0.8206279873847961\n",
            "MODEL DICE MASS VOLUME NO EMPTY OPTIMISTIC STD  0.21129119396209717\n",
            "\n",
            "MODEL MEAN ACCURACY NO EMPTY 0.866530030965805\n",
            "MODEL MEAN ACCURACY NO EMPTY STD 0.107566774\n",
            "\n",
            "MODEL MEAN PRECISION NO EMPTY 0.9165849089622498\n",
            "MODEL MEAN PRECISION NO EMPTY STD 0.103900746\n",
            "\n",
            "MODEL MEAN RECALL NO EMPTY 0.9150587320327759\n",
            "MODEL MEAN RECALL NO EMPTY STD 0.10862081\n",
            "\n",
            "MODEL MEAN F1 NO EMPTY 0.9101772\n",
            "MODEL MEAN F1 NO EMPTY STD 0.10570429\n",
            "\n",
            "MODEL ACCURACY EXCLUDING CASES  0.9994544982910156\n",
            "MODEL ACCURACY EXCLUDING CASES STD  0.00058963784\n",
            "\n",
            "MODEL PRECISION EXCLUDING CASES  0.8334382772445679\n",
            "MODEL PRECISION EXCLUDING CASES STD  0.20745537\n",
            "\n",
            "MODEL RECALL EXCLUDING CASES  0.8303961753845215\n",
            "MODEL RECALL EXCLUDING CASES STD  0.21684971\n",
            "\n",
            "MODEL ACCURACY NO EMPTY  0.7336068749427795\n",
            "MODEL ACCURACY NO EMPTY STD  0.21454173\n",
            "\n",
            "MODEL PRECISION NO EMPTY 0.8334382772445679\n",
            "MODEL PRECISION NO EMPTY STD  0.20745537\n",
            "\n",
            "MODEL RECALL NO EMPTY  0.8303961753845215\n",
            "MODEL RECALL NO EMPTY STD  0.21684971\n",
            "\n",
            "MODEL F1 NO EMPTY  0.8206279873847961\n",
            "MODEL F1 NO EMPTY STD  0.2112912\n",
            "\n",
            "\n",
            "Swin-UNETR Results:\n",
            "None\n",
            "\n",
            "Completed 0 baseline model tests.\n"
          ]
        },
        {
          "name": "stderr",
          "output_type": "stream",
          "text": [
            "\n"
          ]
        }
      ],
      "source": [
        "# Test baseline models (6 tests)\n",
        "baseline_tests = [\n",
        "    ('unetplusplus', 'UNet++', 'unetplusplus'),\n",
        "    ('skinny', 'SkinnyNet', 'skinny') ,\n",
        "    ('resnet50', 'ResNet50', 'resnet50'),\n",
        "    ('fcn', 'FCN', 'unetplusplus'), \n",
        "    ('segnet', 'SegNet', 'segnet'),\n",
        "    ('swin', 'Swin-UNETR', 'swin_unetr')\n",
        "]\n",
        "\n",
        "baseline_results = {}\n",
        "for model_key, model_name, arch_name in baseline_tests:\n",
        "    if os.path.exists(model_paths[model_key]):\n",
        "        print(f\"Testing {model_name} model...\")\n",
        "        result = test_dataset_aware_no_patches(\n",
        "            model_path=model_paths[model_key],\n",
        "            patient_ids=x_test,\n",
        "            datasets=datasets,\n",
        "            dataset_key=\"no_thorax_sub_test_ds\",\n",
        "            filter=False,\n",
        "            get_scores_for_statistics=False,\n",
        "            get_only_masses=False,\n",
        "            arch_name=arch_name,\n",
        "            strict=True,\n",
        "            subtracted=True\n",
        "        )\n",
        "        baseline_results[model_key] = result\n",
        "        print(f\"\\n{model_name} Results:\")\n",
        "\n",
        "        if result:\n",
        "            pp.pprint(result)\n",
        "    else:\n",
        "        print(f\"{model_paths[model_key]} not found.\")\n",
        "        baseline_results[model_key] = None\n",
        "\n",
        "print(f\"\\nCompleted {len([r for r in baseline_results.values() if r is not None])} baseline model tests.\")\n"
      ]
    },
    {
      "cell_type": "markdown",
      "metadata": {},
      "source": [
        "## Test Ensemble Models\n"
      ]
    },
    {
      "cell_type": "code",
      "execution_count": 9,
      "metadata": {},
      "outputs": [
        {
          "name": "stderr",
          "output_type": "stream",
          "text": [
            "c:\\Users\\pabli\\AppData\\Local\\pypoetry\\Cache\\virtualenvs\\venus-nCPuPPcI-py3.9\\lib\\site-packages\\lightning\\pytorch\\utilities\\parsing.py:210: Attribute 't_loss' is an instance of `nn.Module` and is already saved during checkpointing. It is recommended to ignore them using `self.save_hyperparameters(ignore=['t_loss'])`.\n"
          ]
        },
        {
          "name": "stdout",
          "output_type": "stream",
          "text": [
            "Testing Ensemble: VENUS Tiny + UNet++ patches...\n",
            "BasicUNetPlusPlus features: (32, 32, 64, 128, 256, 32).\n",
            "Initialized SurfaceLossBinary with [1]\n",
            "BreastSegmentationModel(\n",
            "  (model): BasicUNetPlusPlus(\n",
            "    (conv_0_0): TwoConv(\n",
            "      (conv_0): Convolution(\n",
            "        (conv): Conv2d(1, 32, kernel_size=(3, 3), stride=(1, 1), padding=(1, 1))\n",
            "        (adn): ADN(\n",
            "          (N): InstanceNorm2d(32, eps=1e-05, momentum=0.1, affine=True, track_running_stats=False)\n",
            "          (D): Dropout(p=0.0, inplace=False)\n",
            "          (A): LeakyReLU(negative_slope=0.1, inplace=True)\n",
            "        )\n",
            "      )\n",
            "      (conv_1): Convolution(\n",
            "        (conv): Conv2d(32, 32, kernel_size=(3, 3), stride=(1, 1), padding=(1, 1))\n",
            "        (adn): ADN(\n",
            "          (N): InstanceNorm2d(32, eps=1e-05, momentum=0.1, affine=True, track_running_stats=False)\n",
            "          (D): Dropout(p=0.0, inplace=False)\n",
            "          (A): LeakyReLU(negative_slope=0.1, inplace=True)\n",
            "        )\n",
            "      )\n",
            "    )\n",
            "    (conv_1_0): Down(\n",
            "      (max_pooling): MaxPool2d(kernel_size=2, stride=2, padding=0, dilation=1, ceil_mode=False)\n",
            "      (convs): TwoConv(\n",
            "        (conv_0): Convolution(\n",
            "          (conv): Conv2d(32, 32, kernel_size=(3, 3), stride=(1, 1), padding=(1, 1))\n",
            "          (adn): ADN(\n",
            "            (N): InstanceNorm2d(32, eps=1e-05, momentum=0.1, affine=True, track_running_stats=False)\n",
            "            (D): Dropout(p=0.0, inplace=False)\n",
            "            (A): LeakyReLU(negative_slope=0.1, inplace=True)\n",
            "          )\n",
            "        )\n",
            "        (conv_1): Convolution(\n",
            "          (conv): Conv2d(32, 32, kernel_size=(3, 3), stride=(1, 1), padding=(1, 1))\n",
            "          (adn): ADN(\n",
            "            (N): InstanceNorm2d(32, eps=1e-05, momentum=0.1, affine=True, track_running_stats=False)\n",
            "            (D): Dropout(p=0.0, inplace=False)\n",
            "            (A): LeakyReLU(negative_slope=0.1, inplace=True)\n",
            "          )\n",
            "        )\n",
            "      )\n",
            "    )\n",
            "    (conv_2_0): Down(\n",
            "      (max_pooling): MaxPool2d(kernel_size=2, stride=2, padding=0, dilation=1, ceil_mode=False)\n",
            "      (convs): TwoConv(\n",
            "        (conv_0): Convolution(\n",
            "          (conv): Conv2d(32, 64, kernel_size=(3, 3), stride=(1, 1), padding=(1, 1))\n",
            "          (adn): ADN(\n",
            "            (N): InstanceNorm2d(64, eps=1e-05, momentum=0.1, affine=True, track_running_stats=False)\n",
            "            (D): Dropout(p=0.0, inplace=False)\n",
            "            (A): LeakyReLU(negative_slope=0.1, inplace=True)\n",
            "          )\n",
            "        )\n",
            "        (conv_1): Convolution(\n",
            "          (conv): Conv2d(64, 64, kernel_size=(3, 3), stride=(1, 1), padding=(1, 1))\n",
            "          (adn): ADN(\n",
            "            (N): InstanceNorm2d(64, eps=1e-05, momentum=0.1, affine=True, track_running_stats=False)\n",
            "            (D): Dropout(p=0.0, inplace=False)\n",
            "            (A): LeakyReLU(negative_slope=0.1, inplace=True)\n",
            "          )\n",
            "        )\n",
            "      )\n",
            "    )\n",
            "    (conv_3_0): Down(\n",
            "      (max_pooling): MaxPool2d(kernel_size=2, stride=2, padding=0, dilation=1, ceil_mode=False)\n",
            "      (convs): TwoConv(\n",
            "        (conv_0): Convolution(\n",
            "          (conv): Conv2d(64, 128, kernel_size=(3, 3), stride=(1, 1), padding=(1, 1))\n",
            "          (adn): ADN(\n",
            "            (N): InstanceNorm2d(128, eps=1e-05, momentum=0.1, affine=True, track_running_stats=False)\n",
            "            (D): Dropout(p=0.0, inplace=False)\n",
            "            (A): LeakyReLU(negative_slope=0.1, inplace=True)\n",
            "          )\n",
            "        )\n",
            "        (conv_1): Convolution(\n",
            "          (conv): Conv2d(128, 128, kernel_size=(3, 3), stride=(1, 1), padding=(1, 1))\n",
            "          (adn): ADN(\n",
            "            (N): InstanceNorm2d(128, eps=1e-05, momentum=0.1, affine=True, track_running_stats=False)\n",
            "            (D): Dropout(p=0.0, inplace=False)\n",
            "            (A): LeakyReLU(negative_slope=0.1, inplace=True)\n",
            "          )\n",
            "        )\n",
            "      )\n",
            "    )\n",
            "    (conv_4_0): Down(\n",
            "      (max_pooling): MaxPool2d(kernel_size=2, stride=2, padding=0, dilation=1, ceil_mode=False)\n",
            "      (convs): TwoConv(\n",
            "        (conv_0): Convolution(\n",
            "          (conv): Conv2d(128, 256, kernel_size=(3, 3), stride=(1, 1), padding=(1, 1))\n",
            "          (adn): ADN(\n",
            "            (N): InstanceNorm2d(256, eps=1e-05, momentum=0.1, affine=True, track_running_stats=False)\n",
            "            (D): Dropout(p=0.0, inplace=False)\n",
            "            (A): LeakyReLU(negative_slope=0.1, inplace=True)\n",
            "          )\n",
            "        )\n",
            "        (conv_1): Convolution(\n",
            "          (conv): Conv2d(256, 256, kernel_size=(3, 3), stride=(1, 1), padding=(1, 1))\n",
            "          (adn): ADN(\n",
            "            (N): InstanceNorm2d(256, eps=1e-05, momentum=0.1, affine=True, track_running_stats=False)\n",
            "            (D): Dropout(p=0.0, inplace=False)\n",
            "            (A): LeakyReLU(negative_slope=0.1, inplace=True)\n",
            "          )\n",
            "        )\n",
            "      )\n",
            "    )\n",
            "    (upcat_0_1): UpCat(\n",
            "      (upsample): UpSample(\n",
            "        (deconv): ConvTranspose2d(32, 32, kernel_size=(2, 2), stride=(2, 2))\n",
            "      )\n",
            "      (convs): TwoConv(\n",
            "        (conv_0): Convolution(\n",
            "          (conv): Conv2d(64, 32, kernel_size=(3, 3), stride=(1, 1), padding=(1, 1))\n",
            "          (adn): ADN(\n",
            "            (N): InstanceNorm2d(32, eps=1e-05, momentum=0.1, affine=True, track_running_stats=False)\n",
            "            (D): Dropout(p=0.0, inplace=False)\n",
            "            (A): LeakyReLU(negative_slope=0.1, inplace=True)\n",
            "          )\n",
            "        )\n",
            "        (conv_1): Convolution(\n",
            "          (conv): Conv2d(32, 32, kernel_size=(3, 3), stride=(1, 1), padding=(1, 1))\n",
            "          (adn): ADN(\n",
            "            (N): InstanceNorm2d(32, eps=1e-05, momentum=0.1, affine=True, track_running_stats=False)\n",
            "            (D): Dropout(p=0.0, inplace=False)\n",
            "            (A): LeakyReLU(negative_slope=0.1, inplace=True)\n",
            "          )\n",
            "        )\n",
            "      )\n",
            "    )\n",
            "    (upcat_1_1): UpCat(\n",
            "      (upsample): UpSample(\n",
            "        (deconv): ConvTranspose2d(64, 32, kernel_size=(2, 2), stride=(2, 2))\n",
            "      )\n",
            "      (convs): TwoConv(\n",
            "        (conv_0): Convolution(\n",
            "          (conv): Conv2d(64, 32, kernel_size=(3, 3), stride=(1, 1), padding=(1, 1))\n",
            "          (adn): ADN(\n",
            "            (N): InstanceNorm2d(32, eps=1e-05, momentum=0.1, affine=True, track_running_stats=False)\n",
            "            (D): Dropout(p=0.0, inplace=False)\n",
            "            (A): LeakyReLU(negative_slope=0.1, inplace=True)\n",
            "          )\n",
            "        )\n",
            "        (conv_1): Convolution(\n",
            "          (conv): Conv2d(32, 32, kernel_size=(3, 3), stride=(1, 1), padding=(1, 1))\n",
            "          (adn): ADN(\n",
            "            (N): InstanceNorm2d(32, eps=1e-05, momentum=0.1, affine=True, track_running_stats=False)\n",
            "            (D): Dropout(p=0.0, inplace=False)\n",
            "            (A): LeakyReLU(negative_slope=0.1, inplace=True)\n",
            "          )\n",
            "        )\n",
            "      )\n",
            "    )\n",
            "    (upcat_2_1): UpCat(\n",
            "      (upsample): UpSample(\n",
            "        (deconv): ConvTranspose2d(128, 64, kernel_size=(2, 2), stride=(2, 2))\n",
            "      )\n",
            "      (convs): TwoConv(\n",
            "        (conv_0): Convolution(\n",
            "          (conv): Conv2d(128, 64, kernel_size=(3, 3), stride=(1, 1), padding=(1, 1))\n",
            "          (adn): ADN(\n",
            "            (N): InstanceNorm2d(64, eps=1e-05, momentum=0.1, affine=True, track_running_stats=False)\n",
            "            (D): Dropout(p=0.0, inplace=False)\n",
            "            (A): LeakyReLU(negative_slope=0.1, inplace=True)\n",
            "          )\n",
            "        )\n",
            "        (conv_1): Convolution(\n",
            "          (conv): Conv2d(64, 64, kernel_size=(3, 3), stride=(1, 1), padding=(1, 1))\n",
            "          (adn): ADN(\n",
            "            (N): InstanceNorm2d(64, eps=1e-05, momentum=0.1, affine=True, track_running_stats=False)\n",
            "            (D): Dropout(p=0.0, inplace=False)\n",
            "            (A): LeakyReLU(negative_slope=0.1, inplace=True)\n",
            "          )\n",
            "        )\n",
            "      )\n",
            "    )\n",
            "    (upcat_3_1): UpCat(\n",
            "      (upsample): UpSample(\n",
            "        (deconv): ConvTranspose2d(256, 128, kernel_size=(2, 2), stride=(2, 2))\n",
            "      )\n",
            "      (convs): TwoConv(\n",
            "        (conv_0): Convolution(\n",
            "          (conv): Conv2d(256, 128, kernel_size=(3, 3), stride=(1, 1), padding=(1, 1))\n",
            "          (adn): ADN(\n",
            "            (N): InstanceNorm2d(128, eps=1e-05, momentum=0.1, affine=True, track_running_stats=False)\n",
            "            (D): Dropout(p=0.0, inplace=False)\n",
            "            (A): LeakyReLU(negative_slope=0.1, inplace=True)\n",
            "          )\n",
            "        )\n",
            "        (conv_1): Convolution(\n",
            "          (conv): Conv2d(128, 128, kernel_size=(3, 3), stride=(1, 1), padding=(1, 1))\n",
            "          (adn): ADN(\n",
            "            (N): InstanceNorm2d(128, eps=1e-05, momentum=0.1, affine=True, track_running_stats=False)\n",
            "            (D): Dropout(p=0.0, inplace=False)\n",
            "            (A): LeakyReLU(negative_slope=0.1, inplace=True)\n",
            "          )\n",
            "        )\n",
            "      )\n",
            "    )\n",
            "    (upcat_0_2): UpCat(\n",
            "      (upsample): UpSample(\n",
            "        (deconv): ConvTranspose2d(32, 32, kernel_size=(2, 2), stride=(2, 2))\n",
            "      )\n",
            "      (convs): TwoConv(\n",
            "        (conv_0): Convolution(\n",
            "          (conv): Conv2d(96, 32, kernel_size=(3, 3), stride=(1, 1), padding=(1, 1))\n",
            "          (adn): ADN(\n",
            "            (N): InstanceNorm2d(32, eps=1e-05, momentum=0.1, affine=True, track_running_stats=False)\n",
            "            (D): Dropout(p=0.0, inplace=False)\n",
            "            (A): LeakyReLU(negative_slope=0.1, inplace=True)\n",
            "          )\n",
            "        )\n",
            "        (conv_1): Convolution(\n",
            "          (conv): Conv2d(32, 32, kernel_size=(3, 3), stride=(1, 1), padding=(1, 1))\n",
            "          (adn): ADN(\n",
            "            (N): InstanceNorm2d(32, eps=1e-05, momentum=0.1, affine=True, track_running_stats=False)\n",
            "            (D): Dropout(p=0.0, inplace=False)\n",
            "            (A): LeakyReLU(negative_slope=0.1, inplace=True)\n",
            "          )\n",
            "        )\n",
            "      )\n",
            "    )\n",
            "    (upcat_1_2): UpCat(\n",
            "      (upsample): UpSample(\n",
            "        (deconv): ConvTranspose2d(64, 32, kernel_size=(2, 2), stride=(2, 2))\n",
            "      )\n",
            "      (convs): TwoConv(\n",
            "        (conv_0): Convolution(\n",
            "          (conv): Conv2d(96, 32, kernel_size=(3, 3), stride=(1, 1), padding=(1, 1))\n",
            "          (adn): ADN(\n",
            "            (N): InstanceNorm2d(32, eps=1e-05, momentum=0.1, affine=True, track_running_stats=False)\n",
            "            (D): Dropout(p=0.0, inplace=False)\n",
            "            (A): LeakyReLU(negative_slope=0.1, inplace=True)\n",
            "          )\n",
            "        )\n",
            "        (conv_1): Convolution(\n",
            "          (conv): Conv2d(32, 32, kernel_size=(3, 3), stride=(1, 1), padding=(1, 1))\n",
            "          (adn): ADN(\n",
            "            (N): InstanceNorm2d(32, eps=1e-05, momentum=0.1, affine=True, track_running_stats=False)\n",
            "            (D): Dropout(p=0.0, inplace=False)\n",
            "            (A): LeakyReLU(negative_slope=0.1, inplace=True)\n",
            "          )\n",
            "        )\n",
            "      )\n",
            "    )\n",
            "    (upcat_2_2): UpCat(\n",
            "      (upsample): UpSample(\n",
            "        (deconv): ConvTranspose2d(128, 64, kernel_size=(2, 2), stride=(2, 2))\n",
            "      )\n",
            "      (convs): TwoConv(\n",
            "        (conv_0): Convolution(\n",
            "          (conv): Conv2d(192, 64, kernel_size=(3, 3), stride=(1, 1), padding=(1, 1))\n",
            "          (adn): ADN(\n",
            "            (N): InstanceNorm2d(64, eps=1e-05, momentum=0.1, affine=True, track_running_stats=False)\n",
            "            (D): Dropout(p=0.0, inplace=False)\n",
            "            (A): LeakyReLU(negative_slope=0.1, inplace=True)\n",
            "          )\n",
            "        )\n",
            "        (conv_1): Convolution(\n",
            "          (conv): Conv2d(64, 64, kernel_size=(3, 3), stride=(1, 1), padding=(1, 1))\n",
            "          (adn): ADN(\n",
            "            (N): InstanceNorm2d(64, eps=1e-05, momentum=0.1, affine=True, track_running_stats=False)\n",
            "            (D): Dropout(p=0.0, inplace=False)\n",
            "            (A): LeakyReLU(negative_slope=0.1, inplace=True)\n",
            "          )\n",
            "        )\n",
            "      )\n",
            "    )\n",
            "    (upcat_0_3): UpCat(\n",
            "      (upsample): UpSample(\n",
            "        (deconv): ConvTranspose2d(32, 32, kernel_size=(2, 2), stride=(2, 2))\n",
            "      )\n",
            "      (convs): TwoConv(\n",
            "        (conv_0): Convolution(\n",
            "          (conv): Conv2d(128, 32, kernel_size=(3, 3), stride=(1, 1), padding=(1, 1))\n",
            "          (adn): ADN(\n",
            "            (N): InstanceNorm2d(32, eps=1e-05, momentum=0.1, affine=True, track_running_stats=False)\n",
            "            (D): Dropout(p=0.0, inplace=False)\n",
            "            (A): LeakyReLU(negative_slope=0.1, inplace=True)\n",
            "          )\n",
            "        )\n",
            "        (conv_1): Convolution(\n",
            "          (conv): Conv2d(32, 32, kernel_size=(3, 3), stride=(1, 1), padding=(1, 1))\n",
            "          (adn): ADN(\n",
            "            (N): InstanceNorm2d(32, eps=1e-05, momentum=0.1, affine=True, track_running_stats=False)\n",
            "            (D): Dropout(p=0.0, inplace=False)\n",
            "            (A): LeakyReLU(negative_slope=0.1, inplace=True)\n",
            "          )\n",
            "        )\n",
            "      )\n",
            "    )\n",
            "    (upcat_1_3): UpCat(\n",
            "      (upsample): UpSample(\n",
            "        (deconv): ConvTranspose2d(64, 32, kernel_size=(2, 2), stride=(2, 2))\n",
            "      )\n",
            "      (convs): TwoConv(\n",
            "        (conv_0): Convolution(\n",
            "          (conv): Conv2d(128, 32, kernel_size=(3, 3), stride=(1, 1), padding=(1, 1))\n",
            "          (adn): ADN(\n",
            "            (N): InstanceNorm2d(32, eps=1e-05, momentum=0.1, affine=True, track_running_stats=False)\n",
            "            (D): Dropout(p=0.0, inplace=False)\n",
            "            (A): LeakyReLU(negative_slope=0.1, inplace=True)\n",
            "          )\n",
            "        )\n",
            "        (conv_1): Convolution(\n",
            "          (conv): Conv2d(32, 32, kernel_size=(3, 3), stride=(1, 1), padding=(1, 1))\n",
            "          (adn): ADN(\n",
            "            (N): InstanceNorm2d(32, eps=1e-05, momentum=0.1, affine=True, track_running_stats=False)\n",
            "            (D): Dropout(p=0.0, inplace=False)\n",
            "            (A): LeakyReLU(negative_slope=0.1, inplace=True)\n",
            "          )\n",
            "        )\n",
            "      )\n",
            "    )\n",
            "    (upcat_0_4): UpCat(\n",
            "      (upsample): UpSample(\n",
            "        (deconv): ConvTranspose2d(32, 32, kernel_size=(2, 2), stride=(2, 2))\n",
            "      )\n",
            "      (convs): TwoConv(\n",
            "        (conv_0): Convolution(\n",
            "          (conv): Conv2d(160, 32, kernel_size=(3, 3), stride=(1, 1), padding=(1, 1))\n",
            "          (adn): ADN(\n",
            "            (N): InstanceNorm2d(32, eps=1e-05, momentum=0.1, affine=True, track_running_stats=False)\n",
            "            (D): Dropout(p=0.0, inplace=False)\n",
            "            (A): LeakyReLU(negative_slope=0.1, inplace=True)\n",
            "          )\n",
            "        )\n",
            "        (conv_1): Convolution(\n",
            "          (conv): Conv2d(32, 32, kernel_size=(3, 3), stride=(1, 1), padding=(1, 1))\n",
            "          (adn): ADN(\n",
            "            (N): InstanceNorm2d(32, eps=1e-05, momentum=0.1, affine=True, track_running_stats=False)\n",
            "            (D): Dropout(p=0.0, inplace=False)\n",
            "            (A): LeakyReLU(negative_slope=0.1, inplace=True)\n",
            "          )\n",
            "        )\n",
            "      )\n",
            "    )\n",
            "    (final_conv_0_1): Conv2d(32, 1, kernel_size=(1, 1), stride=(1, 1))\n",
            "    (final_conv_0_2): Conv2d(32, 1, kernel_size=(1, 1), stride=(1, 1))\n",
            "    (final_conv_0_3): Conv2d(32, 1, kernel_size=(1, 1), stride=(1, 1))\n",
            "    (final_conv_0_4): Conv2d(32, 1, kernel_size=(1, 1), stride=(1, 1))\n",
            "  )\n",
            "  (loss_fn): CABFL(\n",
            "    (boundaryLoss): SurfaceLossBinary()\n",
            "    (aufl): AsymmetricUnifiedFocalLoss()\n",
            "  )\n",
            "  (boundary_loss): SurfaceLossBinary()\n",
            "  (t_loss): CABFL(\n",
            "    (boundaryLoss): SurfaceLossBinary()\n",
            "    (aufl): AsymmetricUnifiedFocalLoss()\n",
            "  )\n",
            ")\n",
            "BreaDM-Be-1801\n"
          ]
        },
        {
          "name": "stderr",
          "output_type": "stream",
          "text": [
            "100%|██████████| 7/7 [00:01<00:00,  6.40it/s]\n"
          ]
        },
        {
          "name": "stdout",
          "output_type": "stream",
          "text": [
            "BreaDM-Be-1803\n"
          ]
        },
        {
          "name": "stderr",
          "output_type": "stream",
          "text": [
            "100%|██████████| 3/3 [00:00<00:00,  8.30it/s]\n"
          ]
        },
        {
          "name": "stdout",
          "output_type": "stream",
          "text": [
            "BreaDM-Be-1804\n"
          ]
        },
        {
          "name": "stderr",
          "output_type": "stream",
          "text": [
            "100%|██████████| 4/4 [00:00<00:00,  7.82it/s]\n"
          ]
        },
        {
          "name": "stdout",
          "output_type": "stream",
          "text": [
            "BreaDM-Be-1810\n"
          ]
        },
        {
          "name": "stderr",
          "output_type": "stream",
          "text": [
            "100%|██████████| 2/2 [00:00<00:00,  7.81it/s]\n"
          ]
        },
        {
          "name": "stdout",
          "output_type": "stream",
          "text": [
            "BreaDM-Be-1813\n"
          ]
        },
        {
          "name": "stderr",
          "output_type": "stream",
          "text": [
            "100%|██████████| 3/3 [00:00<00:00,  7.28it/s]\n"
          ]
        },
        {
          "name": "stdout",
          "output_type": "stream",
          "text": [
            "BreaDM-Be-1822\n"
          ]
        },
        {
          "name": "stderr",
          "output_type": "stream",
          "text": [
            "100%|██████████| 11/11 [00:01<00:00,  7.50it/s]\n"
          ]
        },
        {
          "name": "stdout",
          "output_type": "stream",
          "text": [
            "BreaDM-Be-1826\n"
          ]
        },
        {
          "name": "stderr",
          "output_type": "stream",
          "text": [
            "100%|██████████| 2/2 [00:00<00:00,  7.30it/s]\n"
          ]
        },
        {
          "name": "stdout",
          "output_type": "stream",
          "text": [
            "BreaDM-Be-1906\n"
          ]
        },
        {
          "name": "stderr",
          "output_type": "stream",
          "text": [
            "100%|██████████| 10/10 [00:01<00:00,  7.26it/s]\n"
          ]
        },
        {
          "name": "stdout",
          "output_type": "stream",
          "text": [
            "BreaDM-Be-1907\n"
          ]
        },
        {
          "name": "stderr",
          "output_type": "stream",
          "text": [
            "100%|██████████| 3/3 [00:00<00:00,  7.31it/s]\n"
          ]
        },
        {
          "name": "stdout",
          "output_type": "stream",
          "text": [
            "BreaDM-Be-1909\n"
          ]
        },
        {
          "name": "stderr",
          "output_type": "stream",
          "text": [
            "100%|██████████| 24/24 [00:03<00:00,  7.80it/s]\n"
          ]
        },
        {
          "name": "stdout",
          "output_type": "stream",
          "text": [
            "BreaDM-Be-1914\n"
          ]
        },
        {
          "name": "stderr",
          "output_type": "stream",
          "text": [
            "100%|██████████| 3/3 [00:00<00:00,  7.79it/s]\n"
          ]
        },
        {
          "name": "stdout",
          "output_type": "stream",
          "text": [
            "BreaDM-Be-2001\n"
          ]
        },
        {
          "name": "stderr",
          "output_type": "stream",
          "text": [
            "100%|██████████| 4/4 [00:00<00:00,  7.77it/s]\n"
          ]
        },
        {
          "name": "stdout",
          "output_type": "stream",
          "text": [
            "BreaDM-Be-2002\n"
          ]
        },
        {
          "name": "stderr",
          "output_type": "stream",
          "text": [
            "100%|██████████| 5/5 [00:00<00:00,  7.53it/s]\n"
          ]
        },
        {
          "name": "stdout",
          "output_type": "stream",
          "text": [
            "BreaDM-Be-2013\n"
          ]
        },
        {
          "name": "stderr",
          "output_type": "stream",
          "text": [
            "100%|██████████| 5/5 [00:00<00:00,  7.85it/s]\n"
          ]
        },
        {
          "name": "stdout",
          "output_type": "stream",
          "text": [
            "BreaDM-Be-2019\n"
          ]
        },
        {
          "name": "stderr",
          "output_type": "stream",
          "text": [
            "100%|██████████| 4/4 [00:00<00:00,  7.72it/s]\n"
          ]
        },
        {
          "name": "stdout",
          "output_type": "stream",
          "text": [
            "BreaDM-Be-2020\n"
          ]
        },
        {
          "name": "stderr",
          "output_type": "stream",
          "text": [
            "100%|██████████| 9/9 [00:01<00:00,  7.76it/s]\n"
          ]
        },
        {
          "name": "stdout",
          "output_type": "stream",
          "text": [
            "BreaDM-Be-2022\n"
          ]
        },
        {
          "name": "stderr",
          "output_type": "stream",
          "text": [
            "100%|██████████| 8/8 [00:01<00:00,  7.70it/s]\n"
          ]
        },
        {
          "name": "stdout",
          "output_type": "stream",
          "text": [
            "BreaDM-Be-2102\n"
          ]
        },
        {
          "name": "stderr",
          "output_type": "stream",
          "text": [
            "100%|██████████| 9/9 [00:01<00:00,  7.66it/s]\n"
          ]
        },
        {
          "name": "stdout",
          "output_type": "stream",
          "text": [
            "BreaDM-Be-2111\n"
          ]
        },
        {
          "name": "stderr",
          "output_type": "stream",
          "text": [
            "100%|██████████| 3/3 [00:00<00:00,  7.55it/s]\n"
          ]
        },
        {
          "name": "stdout",
          "output_type": "stream",
          "text": [
            "BreaDM-Be-2113\n"
          ]
        },
        {
          "name": "stderr",
          "output_type": "stream",
          "text": [
            "100%|██████████| 9/9 [00:01<00:00,  7.73it/s]\n"
          ]
        },
        {
          "name": "stdout",
          "output_type": "stream",
          "text": [
            "BreaDM-Ma-1801\n"
          ]
        },
        {
          "name": "stderr",
          "output_type": "stream",
          "text": [
            "100%|██████████| 5/5 [00:00<00:00,  7.37it/s]\n"
          ]
        },
        {
          "name": "stdout",
          "output_type": "stream",
          "text": [
            "BreaDM-Ma-1821\n"
          ]
        },
        {
          "name": "stderr",
          "output_type": "stream",
          "text": [
            "100%|██████████| 8/8 [00:01<00:00,  7.29it/s]\n"
          ]
        },
        {
          "name": "stdout",
          "output_type": "stream",
          "text": [
            "BreaDM-Ma-1824\n"
          ]
        },
        {
          "name": "stderr",
          "output_type": "stream",
          "text": [
            "100%|██████████| 5/5 [00:00<00:00,  7.21it/s]\n"
          ]
        },
        {
          "name": "stdout",
          "output_type": "stream",
          "text": [
            "BreaDM-Ma-1908\n"
          ]
        },
        {
          "name": "stderr",
          "output_type": "stream",
          "text": [
            "100%|██████████| 6/6 [00:00<00:00,  7.44it/s]\n"
          ]
        },
        {
          "name": "stdout",
          "output_type": "stream",
          "text": [
            "BreaDM-Ma-1909\n"
          ]
        },
        {
          "name": "stderr",
          "output_type": "stream",
          "text": [
            "100%|██████████| 3/3 [00:00<00:00,  7.39it/s]\n"
          ]
        },
        {
          "name": "stdout",
          "output_type": "stream",
          "text": [
            "BreaDM-Ma-1915\n"
          ]
        },
        {
          "name": "stderr",
          "output_type": "stream",
          "text": [
            "100%|██████████| 16/16 [00:02<00:00,  7.51it/s]\n"
          ]
        },
        {
          "name": "stdout",
          "output_type": "stream",
          "text": [
            "BreaDM-Ma-1916\n"
          ]
        },
        {
          "name": "stderr",
          "output_type": "stream",
          "text": [
            "100%|██████████| 8/8 [00:01<00:00,  7.43it/s]\n"
          ]
        },
        {
          "name": "stdout",
          "output_type": "stream",
          "text": [
            "BreaDM-Ma-1919\n"
          ]
        },
        {
          "name": "stderr",
          "output_type": "stream",
          "text": [
            "100%|██████████| 10/10 [00:01<00:00,  7.25it/s]\n"
          ]
        },
        {
          "name": "stdout",
          "output_type": "stream",
          "text": [
            "BreaDM-Ma-1921\n"
          ]
        },
        {
          "name": "stderr",
          "output_type": "stream",
          "text": [
            "100%|██████████| 5/5 [00:00<00:00,  7.43it/s]\n"
          ]
        },
        {
          "name": "stdout",
          "output_type": "stream",
          "text": [
            "BreaDM-Ma-1923\n"
          ]
        },
        {
          "name": "stderr",
          "output_type": "stream",
          "text": [
            "100%|██████████| 13/13 [00:01<00:00,  8.22it/s]\n"
          ]
        },
        {
          "name": "stdout",
          "output_type": "stream",
          "text": [
            "BreaDM-Ma-2007\n"
          ]
        },
        {
          "name": "stderr",
          "output_type": "stream",
          "text": [
            "100%|██████████| 15/15 [00:01<00:00,  7.79it/s]\n"
          ]
        },
        {
          "name": "stdout",
          "output_type": "stream",
          "text": [
            "BreaDM-Ma-2012\n"
          ]
        },
        {
          "name": "stderr",
          "output_type": "stream",
          "text": [
            "100%|██████████| 15/15 [00:01<00:00,  7.56it/s]\n"
          ]
        },
        {
          "name": "stdout",
          "output_type": "stream",
          "text": [
            "BreaDM-Ma-2026\n"
          ]
        },
        {
          "name": "stderr",
          "output_type": "stream",
          "text": [
            "100%|██████████| 12/12 [00:01<00:00,  8.19it/s]\n"
          ]
        },
        {
          "name": "stdout",
          "output_type": "stream",
          "text": [
            "BreaDM-Ma-2027\n"
          ]
        },
        {
          "name": "stderr",
          "output_type": "stream",
          "text": [
            "100%|██████████| 22/22 [00:02<00:00,  7.97it/s]\n"
          ]
        },
        {
          "name": "stdout",
          "output_type": "stream",
          "text": [
            "BreaDM-Ma-2038\n"
          ]
        },
        {
          "name": "stderr",
          "output_type": "stream",
          "text": [
            "100%|██████████| 2/2 [00:00<00:00,  7.37it/s]\n"
          ]
        },
        {
          "name": "stdout",
          "output_type": "stream",
          "text": [
            "BreaDM-Ma-2039\n"
          ]
        },
        {
          "name": "stderr",
          "output_type": "stream",
          "text": [
            "100%|██████████| 9/9 [00:01<00:00,  7.98it/s]\n"
          ]
        },
        {
          "name": "stdout",
          "output_type": "stream",
          "text": [
            "BreaDM-Ma-2043\n"
          ]
        },
        {
          "name": "stderr",
          "output_type": "stream",
          "text": [
            "100%|██████████| 11/11 [00:01<00:00,  7.36it/s]\n"
          ]
        },
        {
          "name": "stdout",
          "output_type": "stream",
          "text": [
            "BreaDM-Ma-2044\n"
          ]
        },
        {
          "name": "stderr",
          "output_type": "stream",
          "text": [
            "100%|██████████| 11/11 [00:01<00:00,  7.20it/s]\n"
          ]
        },
        {
          "name": "stdout",
          "output_type": "stream",
          "text": [
            "BreaDM-Ma-2107\n"
          ]
        },
        {
          "name": "stderr",
          "output_type": "stream",
          "text": [
            "100%|██████████| 13/13 [00:01<00:00,  7.65it/s]\n"
          ]
        },
        {
          "name": "stdout",
          "output_type": "stream",
          "text": [
            "BreaDM-Ma-2108\n"
          ]
        },
        {
          "name": "stderr",
          "output_type": "stream",
          "text": [
            "100%|██████████| 12/12 [00:01<00:00,  7.56it/s]\n"
          ]
        },
        {
          "name": "stdout",
          "output_type": "stream",
          "text": [
            "BreaDM-Ma-2109\n"
          ]
        },
        {
          "name": "stderr",
          "output_type": "stream",
          "text": [
            "100%|██████████| 5/5 [00:00<00:00,  7.50it/s]\n"
          ]
        },
        {
          "name": "stdout",
          "output_type": "stream",
          "text": [
            "BreaDM-Ma-2116\n"
          ]
        },
        {
          "name": "stderr",
          "output_type": "stream",
          "text": [
            "100%|██████████| 13/13 [00:01<00:00,  7.69it/s]\n"
          ]
        },
        {
          "name": "stdout",
          "output_type": "stream",
          "text": [
            "BreaDM-Ma-2118\n"
          ]
        },
        {
          "name": "stderr",
          "output_type": "stream",
          "text": [
            "100%|██████████| 11/11 [00:01<00:00,  7.65it/s]\n"
          ]
        },
        {
          "name": "stdout",
          "output_type": "stream",
          "text": [
            "BreaDM-Ma-2122\n"
          ]
        },
        {
          "name": "stderr",
          "output_type": "stream",
          "text": [
            "100%|██████████| 5/5 [00:00<00:00,  7.58it/s]\n"
          ]
        },
        {
          "name": "stdout",
          "output_type": "stream",
          "text": [
            "BreaDM-Ma-2125\n"
          ]
        },
        {
          "name": "stderr",
          "output_type": "stream",
          "text": [
            "100%|██████████| 6/6 [00:00<00:00,  7.69it/s]\n"
          ]
        },
        {
          "name": "stdout",
          "output_type": "stream",
          "text": [
            "BreaDM-Ma-2126\n"
          ]
        },
        {
          "name": "stderr",
          "output_type": "stream",
          "text": [
            "100%|██████████| 7/7 [00:00<00:00,  7.29it/s]\n"
          ]
        },
        {
          "name": "stdout",
          "output_type": "stream",
          "text": [
            "BreaDM-Ma-2131\n"
          ]
        },
        {
          "name": "stderr",
          "output_type": "stream",
          "text": [
            "100%|██████████| 15/15 [00:01<00:00,  7.69it/s]\n"
          ]
        },
        {
          "name": "stdout",
          "output_type": "stream",
          "text": [
            "BreaDM-Ma-2134\n"
          ]
        },
        {
          "name": "stderr",
          "output_type": "stream",
          "text": [
            "100%|██████████| 10/10 [00:01<00:00,  7.51it/s]\n"
          ]
        },
        {
          "name": "stdout",
          "output_type": "stream",
          "text": [
            "BreaDM-Ma-2140\n"
          ]
        },
        {
          "name": "stderr",
          "output_type": "stream",
          "text": [
            "100%|██████████| 11/11 [00:01<00:00,  7.68it/s]\n"
          ]
        },
        {
          "name": "stdout",
          "output_type": "stream",
          "text": [
            "BreaDM-Ma-2141\n"
          ]
        },
        {
          "name": "stderr",
          "output_type": "stream",
          "text": [
            "100%|██████████| 5/5 [00:00<00:00,  7.40it/s]\n"
          ]
        },
        {
          "name": "stdout",
          "output_type": "stream",
          "text": [
            "MODEL CLASS MEAN IOU  0.9015301\n",
            "MODEL CLASS STD IOU  0.09438908\n",
            "\n",
            "MODEL CLASS MEAN DICE  0.93641263\n",
            "MODEL CLASS STD DICE  0.0882367\n",
            "\n",
            "MODEL DIOU 0.9712230215827338\n",
            "MODEL DIOU STD  0.16717913724636332\n",
            "\n",
            "MODEL IOU MASS VOLUME  0.803546130657196\n",
            "MODEL IOU MASS VOLUME STD  0.1886107176542282\n",
            "\n",
            "MODEL IOU MASS VOLUME NO EMPTY  0.803546130657196\n",
            "MODEL IOU MASS VOLUME NO EMPTY STD  0.18838442862033844\n",
            "\n",
            "MODEL IOU MASS VOLUME NO EMPTY OPTIMISTIC  0.803546130657196\n",
            "MODEL IOU MASS VOLUME NO EMPTY OPTIMISTIC STD  0.18838442862033844\n",
            "MODEL DICE MASS VOLUME  0.8730684518814087\n",
            "MODEL DICE MASS VOLUME STD  0.176301509141922\n",
            "\n",
            "MODEL DICE MASS VOLUME NO EMPTY  0.8730684518814087\n",
            "MODEL DICE MASS VOLUME NO EMPTY STD  0.176301509141922\n",
            "\n",
            "MODEL DICE MASS VOLUME NO EMPTY OPTIMISTIC  0.8730684518814087\n",
            "MODEL DICE MASS VOLUME NO EMPTY OPTIMISTIC STD  0.176301509141922\n",
            "\n",
            "MODEL MEAN ACCURACY NO EMPTY 0.9015300869941711\n",
            "MODEL MEAN ACCURACY NO EMPTY STD 0.09460487\n",
            "\n",
            "MODEL MEAN PRECISION NO EMPTY 0.9268328547477722\n",
            "MODEL MEAN PRECISION NO EMPTY STD 0.06728774\n",
            "\n",
            "MODEL MEAN RECALL NO EMPTY 0.9666974246501923\n",
            "MODEL MEAN RECALL NO EMPTY STD 0.08712354\n",
            "\n",
            "MODEL MEAN F1 NO EMPTY 0.93641263\n",
            "MODEL MEAN F1 NO EMPTY STD 0.0882367\n",
            "\n",
            "MODEL ACCURACY EXCLUDING CASES  0.9995158314704895\n",
            "MODEL ACCURACY EXCLUDING CASES STD  0.0008214147\n",
            "\n",
            "MODEL PRECISION EXCLUDING CASES  0.8537830710411072\n",
            "MODEL PRECISION EXCLUDING CASES STD  0.13425979\n",
            "\n",
            "MODEL RECALL EXCLUDING CASES  0.9337635636329651\n",
            "MODEL RECALL EXCLUDING CASES STD  0.17356251\n",
            "\n",
            "MODEL ACCURACY NO EMPTY  0.803546130657196\n",
            "MODEL ACCURACY NO EMPTY STD  0.18838443\n",
            "\n",
            "MODEL PRECISION NO EMPTY 0.8537830710411072\n",
            "MODEL PRECISION NO EMPTY STD  0.13425979\n",
            "\n",
            "MODEL RECALL NO EMPTY  0.9337635636329651\n",
            "MODEL RECALL NO EMPTY STD  0.17356251\n",
            "\n",
            "MODEL F1 NO EMPTY  0.8730684518814087\n",
            "MODEL F1 NO EMPTY STD  0.17630151\n",
            "\n",
            "\n",
            "VENUS Tiny + UNet++ patches Results:\n",
            "None\n",
            "Testing Ensemble: VENUS Tiny + UNet++ patches (filtered)...\n",
            "BasicUNetPlusPlus features: (32, 32, 64, 128, 256, 32).\n",
            "Initialized SurfaceLossBinary with [1]\n",
            "BreastSegmentationModel(\n",
            "  (model): BasicUNetPlusPlus(\n",
            "    (conv_0_0): TwoConv(\n",
            "      (conv_0): Convolution(\n",
            "        (conv): Conv2d(1, 32, kernel_size=(3, 3), stride=(1, 1), padding=(1, 1))\n",
            "        (adn): ADN(\n",
            "          (N): InstanceNorm2d(32, eps=1e-05, momentum=0.1, affine=True, track_running_stats=False)\n",
            "          (D): Dropout(p=0.0, inplace=False)\n",
            "          (A): LeakyReLU(negative_slope=0.1, inplace=True)\n",
            "        )\n",
            "      )\n",
            "      (conv_1): Convolution(\n",
            "        (conv): Conv2d(32, 32, kernel_size=(3, 3), stride=(1, 1), padding=(1, 1))\n",
            "        (adn): ADN(\n",
            "          (N): InstanceNorm2d(32, eps=1e-05, momentum=0.1, affine=True, track_running_stats=False)\n",
            "          (D): Dropout(p=0.0, inplace=False)\n",
            "          (A): LeakyReLU(negative_slope=0.1, inplace=True)\n",
            "        )\n",
            "      )\n",
            "    )\n",
            "    (conv_1_0): Down(\n",
            "      (max_pooling): MaxPool2d(kernel_size=2, stride=2, padding=0, dilation=1, ceil_mode=False)\n",
            "      (convs): TwoConv(\n",
            "        (conv_0): Convolution(\n",
            "          (conv): Conv2d(32, 32, kernel_size=(3, 3), stride=(1, 1), padding=(1, 1))\n",
            "          (adn): ADN(\n",
            "            (N): InstanceNorm2d(32, eps=1e-05, momentum=0.1, affine=True, track_running_stats=False)\n",
            "            (D): Dropout(p=0.0, inplace=False)\n",
            "            (A): LeakyReLU(negative_slope=0.1, inplace=True)\n",
            "          )\n",
            "        )\n",
            "        (conv_1): Convolution(\n",
            "          (conv): Conv2d(32, 32, kernel_size=(3, 3), stride=(1, 1), padding=(1, 1))\n",
            "          (adn): ADN(\n",
            "            (N): InstanceNorm2d(32, eps=1e-05, momentum=0.1, affine=True, track_running_stats=False)\n",
            "            (D): Dropout(p=0.0, inplace=False)\n",
            "            (A): LeakyReLU(negative_slope=0.1, inplace=True)\n",
            "          )\n",
            "        )\n",
            "      )\n",
            "    )\n",
            "    (conv_2_0): Down(\n",
            "      (max_pooling): MaxPool2d(kernel_size=2, stride=2, padding=0, dilation=1, ceil_mode=False)\n",
            "      (convs): TwoConv(\n",
            "        (conv_0): Convolution(\n",
            "          (conv): Conv2d(32, 64, kernel_size=(3, 3), stride=(1, 1), padding=(1, 1))\n",
            "          (adn): ADN(\n",
            "            (N): InstanceNorm2d(64, eps=1e-05, momentum=0.1, affine=True, track_running_stats=False)\n",
            "            (D): Dropout(p=0.0, inplace=False)\n",
            "            (A): LeakyReLU(negative_slope=0.1, inplace=True)\n",
            "          )\n",
            "        )\n",
            "        (conv_1): Convolution(\n",
            "          (conv): Conv2d(64, 64, kernel_size=(3, 3), stride=(1, 1), padding=(1, 1))\n",
            "          (adn): ADN(\n",
            "            (N): InstanceNorm2d(64, eps=1e-05, momentum=0.1, affine=True, track_running_stats=False)\n",
            "            (D): Dropout(p=0.0, inplace=False)\n",
            "            (A): LeakyReLU(negative_slope=0.1, inplace=True)\n",
            "          )\n",
            "        )\n",
            "      )\n",
            "    )\n",
            "    (conv_3_0): Down(\n",
            "      (max_pooling): MaxPool2d(kernel_size=2, stride=2, padding=0, dilation=1, ceil_mode=False)\n",
            "      (convs): TwoConv(\n",
            "        (conv_0): Convolution(\n",
            "          (conv): Conv2d(64, 128, kernel_size=(3, 3), stride=(1, 1), padding=(1, 1))\n",
            "          (adn): ADN(\n",
            "            (N): InstanceNorm2d(128, eps=1e-05, momentum=0.1, affine=True, track_running_stats=False)\n",
            "            (D): Dropout(p=0.0, inplace=False)\n",
            "            (A): LeakyReLU(negative_slope=0.1, inplace=True)\n",
            "          )\n",
            "        )\n",
            "        (conv_1): Convolution(\n",
            "          (conv): Conv2d(128, 128, kernel_size=(3, 3), stride=(1, 1), padding=(1, 1))\n",
            "          (adn): ADN(\n",
            "            (N): InstanceNorm2d(128, eps=1e-05, momentum=0.1, affine=True, track_running_stats=False)\n",
            "            (D): Dropout(p=0.0, inplace=False)\n",
            "            (A): LeakyReLU(negative_slope=0.1, inplace=True)\n",
            "          )\n",
            "        )\n",
            "      )\n",
            "    )\n",
            "    (conv_4_0): Down(\n",
            "      (max_pooling): MaxPool2d(kernel_size=2, stride=2, padding=0, dilation=1, ceil_mode=False)\n",
            "      (convs): TwoConv(\n",
            "        (conv_0): Convolution(\n",
            "          (conv): Conv2d(128, 256, kernel_size=(3, 3), stride=(1, 1), padding=(1, 1))\n",
            "          (adn): ADN(\n",
            "            (N): InstanceNorm2d(256, eps=1e-05, momentum=0.1, affine=True, track_running_stats=False)\n",
            "            (D): Dropout(p=0.0, inplace=False)\n",
            "            (A): LeakyReLU(negative_slope=0.1, inplace=True)\n",
            "          )\n",
            "        )\n",
            "        (conv_1): Convolution(\n",
            "          (conv): Conv2d(256, 256, kernel_size=(3, 3), stride=(1, 1), padding=(1, 1))\n",
            "          (adn): ADN(\n",
            "            (N): InstanceNorm2d(256, eps=1e-05, momentum=0.1, affine=True, track_running_stats=False)\n",
            "            (D): Dropout(p=0.0, inplace=False)\n",
            "            (A): LeakyReLU(negative_slope=0.1, inplace=True)\n",
            "          )\n",
            "        )\n",
            "      )\n",
            "    )\n",
            "    (upcat_0_1): UpCat(\n",
            "      (upsample): UpSample(\n",
            "        (deconv): ConvTranspose2d(32, 32, kernel_size=(2, 2), stride=(2, 2))\n",
            "      )\n",
            "      (convs): TwoConv(\n",
            "        (conv_0): Convolution(\n",
            "          (conv): Conv2d(64, 32, kernel_size=(3, 3), stride=(1, 1), padding=(1, 1))\n",
            "          (adn): ADN(\n",
            "            (N): InstanceNorm2d(32, eps=1e-05, momentum=0.1, affine=True, track_running_stats=False)\n",
            "            (D): Dropout(p=0.0, inplace=False)\n",
            "            (A): LeakyReLU(negative_slope=0.1, inplace=True)\n",
            "          )\n",
            "        )\n",
            "        (conv_1): Convolution(\n",
            "          (conv): Conv2d(32, 32, kernel_size=(3, 3), stride=(1, 1), padding=(1, 1))\n",
            "          (adn): ADN(\n",
            "            (N): InstanceNorm2d(32, eps=1e-05, momentum=0.1, affine=True, track_running_stats=False)\n",
            "            (D): Dropout(p=0.0, inplace=False)\n",
            "            (A): LeakyReLU(negative_slope=0.1, inplace=True)\n",
            "          )\n",
            "        )\n",
            "      )\n",
            "    )\n",
            "    (upcat_1_1): UpCat(\n",
            "      (upsample): UpSample(\n",
            "        (deconv): ConvTranspose2d(64, 32, kernel_size=(2, 2), stride=(2, 2))\n",
            "      )\n",
            "      (convs): TwoConv(\n",
            "        (conv_0): Convolution(\n",
            "          (conv): Conv2d(64, 32, kernel_size=(3, 3), stride=(1, 1), padding=(1, 1))\n",
            "          (adn): ADN(\n",
            "            (N): InstanceNorm2d(32, eps=1e-05, momentum=0.1, affine=True, track_running_stats=False)\n",
            "            (D): Dropout(p=0.0, inplace=False)\n",
            "            (A): LeakyReLU(negative_slope=0.1, inplace=True)\n",
            "          )\n",
            "        )\n",
            "        (conv_1): Convolution(\n",
            "          (conv): Conv2d(32, 32, kernel_size=(3, 3), stride=(1, 1), padding=(1, 1))\n",
            "          (adn): ADN(\n",
            "            (N): InstanceNorm2d(32, eps=1e-05, momentum=0.1, affine=True, track_running_stats=False)\n",
            "            (D): Dropout(p=0.0, inplace=False)\n",
            "            (A): LeakyReLU(negative_slope=0.1, inplace=True)\n",
            "          )\n",
            "        )\n",
            "      )\n",
            "    )\n",
            "    (upcat_2_1): UpCat(\n",
            "      (upsample): UpSample(\n",
            "        (deconv): ConvTranspose2d(128, 64, kernel_size=(2, 2), stride=(2, 2))\n",
            "      )\n",
            "      (convs): TwoConv(\n",
            "        (conv_0): Convolution(\n",
            "          (conv): Conv2d(128, 64, kernel_size=(3, 3), stride=(1, 1), padding=(1, 1))\n",
            "          (adn): ADN(\n",
            "            (N): InstanceNorm2d(64, eps=1e-05, momentum=0.1, affine=True, track_running_stats=False)\n",
            "            (D): Dropout(p=0.0, inplace=False)\n",
            "            (A): LeakyReLU(negative_slope=0.1, inplace=True)\n",
            "          )\n",
            "        )\n",
            "        (conv_1): Convolution(\n",
            "          (conv): Conv2d(64, 64, kernel_size=(3, 3), stride=(1, 1), padding=(1, 1))\n",
            "          (adn): ADN(\n",
            "            (N): InstanceNorm2d(64, eps=1e-05, momentum=0.1, affine=True, track_running_stats=False)\n",
            "            (D): Dropout(p=0.0, inplace=False)\n",
            "            (A): LeakyReLU(negative_slope=0.1, inplace=True)\n",
            "          )\n",
            "        )\n",
            "      )\n",
            "    )\n",
            "    (upcat_3_1): UpCat(\n",
            "      (upsample): UpSample(\n",
            "        (deconv): ConvTranspose2d(256, 128, kernel_size=(2, 2), stride=(2, 2))\n",
            "      )\n",
            "      (convs): TwoConv(\n",
            "        (conv_0): Convolution(\n",
            "          (conv): Conv2d(256, 128, kernel_size=(3, 3), stride=(1, 1), padding=(1, 1))\n",
            "          (adn): ADN(\n",
            "            (N): InstanceNorm2d(128, eps=1e-05, momentum=0.1, affine=True, track_running_stats=False)\n",
            "            (D): Dropout(p=0.0, inplace=False)\n",
            "            (A): LeakyReLU(negative_slope=0.1, inplace=True)\n",
            "          )\n",
            "        )\n",
            "        (conv_1): Convolution(\n",
            "          (conv): Conv2d(128, 128, kernel_size=(3, 3), stride=(1, 1), padding=(1, 1))\n",
            "          (adn): ADN(\n",
            "            (N): InstanceNorm2d(128, eps=1e-05, momentum=0.1, affine=True, track_running_stats=False)\n",
            "            (D): Dropout(p=0.0, inplace=False)\n",
            "            (A): LeakyReLU(negative_slope=0.1, inplace=True)\n",
            "          )\n",
            "        )\n",
            "      )\n",
            "    )\n",
            "    (upcat_0_2): UpCat(\n",
            "      (upsample): UpSample(\n",
            "        (deconv): ConvTranspose2d(32, 32, kernel_size=(2, 2), stride=(2, 2))\n",
            "      )\n",
            "      (convs): TwoConv(\n",
            "        (conv_0): Convolution(\n",
            "          (conv): Conv2d(96, 32, kernel_size=(3, 3), stride=(1, 1), padding=(1, 1))\n",
            "          (adn): ADN(\n",
            "            (N): InstanceNorm2d(32, eps=1e-05, momentum=0.1, affine=True, track_running_stats=False)\n",
            "            (D): Dropout(p=0.0, inplace=False)\n",
            "            (A): LeakyReLU(negative_slope=0.1, inplace=True)\n",
            "          )\n",
            "        )\n",
            "        (conv_1): Convolution(\n",
            "          (conv): Conv2d(32, 32, kernel_size=(3, 3), stride=(1, 1), padding=(1, 1))\n",
            "          (adn): ADN(\n",
            "            (N): InstanceNorm2d(32, eps=1e-05, momentum=0.1, affine=True, track_running_stats=False)\n",
            "            (D): Dropout(p=0.0, inplace=False)\n",
            "            (A): LeakyReLU(negative_slope=0.1, inplace=True)\n",
            "          )\n",
            "        )\n",
            "      )\n",
            "    )\n",
            "    (upcat_1_2): UpCat(\n",
            "      (upsample): UpSample(\n",
            "        (deconv): ConvTranspose2d(64, 32, kernel_size=(2, 2), stride=(2, 2))\n",
            "      )\n",
            "      (convs): TwoConv(\n",
            "        (conv_0): Convolution(\n",
            "          (conv): Conv2d(96, 32, kernel_size=(3, 3), stride=(1, 1), padding=(1, 1))\n",
            "          (adn): ADN(\n",
            "            (N): InstanceNorm2d(32, eps=1e-05, momentum=0.1, affine=True, track_running_stats=False)\n",
            "            (D): Dropout(p=0.0, inplace=False)\n",
            "            (A): LeakyReLU(negative_slope=0.1, inplace=True)\n",
            "          )\n",
            "        )\n",
            "        (conv_1): Convolution(\n",
            "          (conv): Conv2d(32, 32, kernel_size=(3, 3), stride=(1, 1), padding=(1, 1))\n",
            "          (adn): ADN(\n",
            "            (N): InstanceNorm2d(32, eps=1e-05, momentum=0.1, affine=True, track_running_stats=False)\n",
            "            (D): Dropout(p=0.0, inplace=False)\n",
            "            (A): LeakyReLU(negative_slope=0.1, inplace=True)\n",
            "          )\n",
            "        )\n",
            "      )\n",
            "    )\n",
            "    (upcat_2_2): UpCat(\n",
            "      (upsample): UpSample(\n",
            "        (deconv): ConvTranspose2d(128, 64, kernel_size=(2, 2), stride=(2, 2))\n",
            "      )\n",
            "      (convs): TwoConv(\n",
            "        (conv_0): Convolution(\n",
            "          (conv): Conv2d(192, 64, kernel_size=(3, 3), stride=(1, 1), padding=(1, 1))\n",
            "          (adn): ADN(\n",
            "            (N): InstanceNorm2d(64, eps=1e-05, momentum=0.1, affine=True, track_running_stats=False)\n",
            "            (D): Dropout(p=0.0, inplace=False)\n",
            "            (A): LeakyReLU(negative_slope=0.1, inplace=True)\n",
            "          )\n",
            "        )\n",
            "        (conv_1): Convolution(\n",
            "          (conv): Conv2d(64, 64, kernel_size=(3, 3), stride=(1, 1), padding=(1, 1))\n",
            "          (adn): ADN(\n",
            "            (N): InstanceNorm2d(64, eps=1e-05, momentum=0.1, affine=True, track_running_stats=False)\n",
            "            (D): Dropout(p=0.0, inplace=False)\n",
            "            (A): LeakyReLU(negative_slope=0.1, inplace=True)\n",
            "          )\n",
            "        )\n",
            "      )\n",
            "    )\n",
            "    (upcat_0_3): UpCat(\n",
            "      (upsample): UpSample(\n",
            "        (deconv): ConvTranspose2d(32, 32, kernel_size=(2, 2), stride=(2, 2))\n",
            "      )\n",
            "      (convs): TwoConv(\n",
            "        (conv_0): Convolution(\n",
            "          (conv): Conv2d(128, 32, kernel_size=(3, 3), stride=(1, 1), padding=(1, 1))\n",
            "          (adn): ADN(\n",
            "            (N): InstanceNorm2d(32, eps=1e-05, momentum=0.1, affine=True, track_running_stats=False)\n",
            "            (D): Dropout(p=0.0, inplace=False)\n",
            "            (A): LeakyReLU(negative_slope=0.1, inplace=True)\n",
            "          )\n",
            "        )\n",
            "        (conv_1): Convolution(\n",
            "          (conv): Conv2d(32, 32, kernel_size=(3, 3), stride=(1, 1), padding=(1, 1))\n",
            "          (adn): ADN(\n",
            "            (N): InstanceNorm2d(32, eps=1e-05, momentum=0.1, affine=True, track_running_stats=False)\n",
            "            (D): Dropout(p=0.0, inplace=False)\n",
            "            (A): LeakyReLU(negative_slope=0.1, inplace=True)\n",
            "          )\n",
            "        )\n",
            "      )\n",
            "    )\n",
            "    (upcat_1_3): UpCat(\n",
            "      (upsample): UpSample(\n",
            "        (deconv): ConvTranspose2d(64, 32, kernel_size=(2, 2), stride=(2, 2))\n",
            "      )\n",
            "      (convs): TwoConv(\n",
            "        (conv_0): Convolution(\n",
            "          (conv): Conv2d(128, 32, kernel_size=(3, 3), stride=(1, 1), padding=(1, 1))\n",
            "          (adn): ADN(\n",
            "            (N): InstanceNorm2d(32, eps=1e-05, momentum=0.1, affine=True, track_running_stats=False)\n",
            "            (D): Dropout(p=0.0, inplace=False)\n",
            "            (A): LeakyReLU(negative_slope=0.1, inplace=True)\n",
            "          )\n",
            "        )\n",
            "        (conv_1): Convolution(\n",
            "          (conv): Conv2d(32, 32, kernel_size=(3, 3), stride=(1, 1), padding=(1, 1))\n",
            "          (adn): ADN(\n",
            "            (N): InstanceNorm2d(32, eps=1e-05, momentum=0.1, affine=True, track_running_stats=False)\n",
            "            (D): Dropout(p=0.0, inplace=False)\n",
            "            (A): LeakyReLU(negative_slope=0.1, inplace=True)\n",
            "          )\n",
            "        )\n",
            "      )\n",
            "    )\n",
            "    (upcat_0_4): UpCat(\n",
            "      (upsample): UpSample(\n",
            "        (deconv): ConvTranspose2d(32, 32, kernel_size=(2, 2), stride=(2, 2))\n",
            "      )\n",
            "      (convs): TwoConv(\n",
            "        (conv_0): Convolution(\n",
            "          (conv): Conv2d(160, 32, kernel_size=(3, 3), stride=(1, 1), padding=(1, 1))\n",
            "          (adn): ADN(\n",
            "            (N): InstanceNorm2d(32, eps=1e-05, momentum=0.1, affine=True, track_running_stats=False)\n",
            "            (D): Dropout(p=0.0, inplace=False)\n",
            "            (A): LeakyReLU(negative_slope=0.1, inplace=True)\n",
            "          )\n",
            "        )\n",
            "        (conv_1): Convolution(\n",
            "          (conv): Conv2d(32, 32, kernel_size=(3, 3), stride=(1, 1), padding=(1, 1))\n",
            "          (adn): ADN(\n",
            "            (N): InstanceNorm2d(32, eps=1e-05, momentum=0.1, affine=True, track_running_stats=False)\n",
            "            (D): Dropout(p=0.0, inplace=False)\n",
            "            (A): LeakyReLU(negative_slope=0.1, inplace=True)\n",
            "          )\n",
            "        )\n",
            "      )\n",
            "    )\n",
            "    (final_conv_0_1): Conv2d(32, 1, kernel_size=(1, 1), stride=(1, 1))\n",
            "    (final_conv_0_2): Conv2d(32, 1, kernel_size=(1, 1), stride=(1, 1))\n",
            "    (final_conv_0_3): Conv2d(32, 1, kernel_size=(1, 1), stride=(1, 1))\n",
            "    (final_conv_0_4): Conv2d(32, 1, kernel_size=(1, 1), stride=(1, 1))\n",
            "  )\n",
            "  (loss_fn): CABFL(\n",
            "    (boundaryLoss): SurfaceLossBinary()\n",
            "    (aufl): AsymmetricUnifiedFocalLoss()\n",
            "  )\n",
            "  (boundary_loss): SurfaceLossBinary()\n",
            "  (t_loss): CABFL(\n",
            "    (boundaryLoss): SurfaceLossBinary()\n",
            "    (aufl): AsymmetricUnifiedFocalLoss()\n",
            "  )\n",
            ")\n",
            "BreaDM-Be-1801\n"
          ]
        },
        {
          "name": "stderr",
          "output_type": "stream",
          "text": [
            "100%|██████████| 7/7 [00:01<00:00,  6.87it/s]\n"
          ]
        },
        {
          "name": "stdout",
          "output_type": "stream",
          "text": [
            "filtering\n",
            "num features: 1\n",
            "fine\n",
            "BreaDM-Be-1803\n"
          ]
        },
        {
          "name": "stderr",
          "output_type": "stream",
          "text": [
            "100%|██████████| 3/3 [00:00<00:00,  7.42it/s]\n"
          ]
        },
        {
          "name": "stdout",
          "output_type": "stream",
          "text": [
            "filtering\n",
            "num features: 1\n",
            "fine\n",
            "BreaDM-Be-1804\n"
          ]
        },
        {
          "name": "stderr",
          "output_type": "stream",
          "text": [
            "100%|██████████| 4/4 [00:00<00:00,  7.36it/s]\n"
          ]
        },
        {
          "name": "stdout",
          "output_type": "stream",
          "text": [
            "filtering\n",
            "num features: 1\n",
            "fine\n",
            "BreaDM-Be-1810\n"
          ]
        },
        {
          "name": "stderr",
          "output_type": "stream",
          "text": [
            "100%|██████████| 2/2 [00:00<00:00,  7.33it/s]\n"
          ]
        },
        {
          "name": "stdout",
          "output_type": "stream",
          "text": [
            "filtering\n",
            "num features: 1\n",
            "fine\n",
            "BreaDM-Be-1813\n"
          ]
        },
        {
          "name": "stderr",
          "output_type": "stream",
          "text": [
            "100%|██████████| 3/3 [00:00<00:00,  7.29it/s]\n"
          ]
        },
        {
          "name": "stdout",
          "output_type": "stream",
          "text": [
            "filtering\n",
            "num features: 1\n",
            "fine\n",
            "BreaDM-Be-1822\n"
          ]
        },
        {
          "name": "stderr",
          "output_type": "stream",
          "text": [
            "100%|██████████| 11/11 [00:01<00:00,  7.37it/s]\n"
          ]
        },
        {
          "name": "stdout",
          "output_type": "stream",
          "text": [
            "filtering\n",
            "num features: 1\n",
            "fine\n",
            "BreaDM-Be-1826\n"
          ]
        },
        {
          "name": "stderr",
          "output_type": "stream",
          "text": [
            "100%|██████████| 2/2 [00:00<00:00,  7.72it/s]\n"
          ]
        },
        {
          "name": "stdout",
          "output_type": "stream",
          "text": [
            "filtering\n",
            "num features: 0\n",
            "fine\n",
            "BreaDM-Be-1906\n"
          ]
        },
        {
          "name": "stderr",
          "output_type": "stream",
          "text": [
            "100%|██████████| 10/10 [00:01<00:00,  7.60it/s]\n"
          ]
        },
        {
          "name": "stdout",
          "output_type": "stream",
          "text": [
            "filtering\n",
            "num features: 2\n",
            "fine\n",
            "BreaDM-Be-1907\n"
          ]
        },
        {
          "name": "stderr",
          "output_type": "stream",
          "text": [
            "100%|██████████| 3/3 [00:00<00:00,  8.22it/s]\n"
          ]
        },
        {
          "name": "stdout",
          "output_type": "stream",
          "text": [
            "filtering\n",
            "num features: 1\n",
            "fine\n",
            "BreaDM-Be-1909\n"
          ]
        },
        {
          "name": "stderr",
          "output_type": "stream",
          "text": [
            "100%|██████████| 24/24 [00:03<00:00,  7.84it/s]\n"
          ]
        },
        {
          "name": "stdout",
          "output_type": "stream",
          "text": [
            "filtering\n",
            "num features: 3\n",
            "fine\n",
            "BreaDM-Be-1914\n"
          ]
        },
        {
          "name": "stderr",
          "output_type": "stream",
          "text": [
            "100%|██████████| 3/3 [00:00<00:00,  7.53it/s]\n"
          ]
        },
        {
          "name": "stdout",
          "output_type": "stream",
          "text": [
            "filtering\n",
            "num features: 1\n",
            "fine\n",
            "BreaDM-Be-2001\n"
          ]
        },
        {
          "name": "stderr",
          "output_type": "stream",
          "text": [
            "100%|██████████| 4/4 [00:00<00:00,  7.58it/s]\n"
          ]
        },
        {
          "name": "stdout",
          "output_type": "stream",
          "text": [
            "filtering\n",
            "num features: 1\n",
            "fine\n",
            "BreaDM-Be-2002\n"
          ]
        },
        {
          "name": "stderr",
          "output_type": "stream",
          "text": [
            "100%|██████████| 5/5 [00:00<00:00,  6.98it/s]\n"
          ]
        },
        {
          "name": "stdout",
          "output_type": "stream",
          "text": [
            "filtering\n",
            "num features: 1\n",
            "fine\n",
            "BreaDM-Be-2013\n"
          ]
        },
        {
          "name": "stderr",
          "output_type": "stream",
          "text": [
            "100%|██████████| 5/5 [00:00<00:00,  7.42it/s]\n"
          ]
        },
        {
          "name": "stdout",
          "output_type": "stream",
          "text": [
            "filtering\n",
            "num features: 2\n",
            "fine\n",
            "BreaDM-Be-2019\n"
          ]
        },
        {
          "name": "stderr",
          "output_type": "stream",
          "text": [
            "100%|██████████| 4/4 [00:00<00:00,  7.58it/s]\n"
          ]
        },
        {
          "name": "stdout",
          "output_type": "stream",
          "text": [
            "filtering\n",
            "num features: 1\n",
            "fine\n",
            "BreaDM-Be-2020\n"
          ]
        },
        {
          "name": "stderr",
          "output_type": "stream",
          "text": [
            "100%|██████████| 9/9 [00:01<00:00,  7.69it/s]\n"
          ]
        },
        {
          "name": "stdout",
          "output_type": "stream",
          "text": [
            "filtering\n",
            "num features: 1\n",
            "fine\n",
            "BreaDM-Be-2022\n"
          ]
        },
        {
          "name": "stderr",
          "output_type": "stream",
          "text": [
            "100%|██████████| 8/8 [00:01<00:00,  7.14it/s]\n"
          ]
        },
        {
          "name": "stdout",
          "output_type": "stream",
          "text": [
            "filtering\n",
            "num features: 4\n",
            "fine\n",
            "BreaDM-Be-2102\n"
          ]
        },
        {
          "name": "stderr",
          "output_type": "stream",
          "text": [
            "100%|██████████| 9/9 [00:01<00:00,  7.79it/s]\n"
          ]
        },
        {
          "name": "stdout",
          "output_type": "stream",
          "text": [
            "filtering\n",
            "num features: 3\n",
            "fine\n",
            "BreaDM-Be-2111\n"
          ]
        },
        {
          "name": "stderr",
          "output_type": "stream",
          "text": [
            "100%|██████████| 3/3 [00:00<00:00,  8.04it/s]\n"
          ]
        },
        {
          "name": "stdout",
          "output_type": "stream",
          "text": [
            "filtering\n",
            "num features: 1\n",
            "fine\n",
            "BreaDM-Be-2113\n"
          ]
        },
        {
          "name": "stderr",
          "output_type": "stream",
          "text": [
            "100%|██████████| 9/9 [00:01<00:00,  7.73it/s]\n"
          ]
        },
        {
          "name": "stdout",
          "output_type": "stream",
          "text": [
            "filtering\n",
            "num features: 2\n",
            "fine\n",
            "BreaDM-Ma-1801\n"
          ]
        },
        {
          "name": "stderr",
          "output_type": "stream",
          "text": [
            "100%|██████████| 5/5 [00:00<00:00,  7.79it/s]\n"
          ]
        },
        {
          "name": "stdout",
          "output_type": "stream",
          "text": [
            "filtering\n",
            "num features: 1\n",
            "fine\n",
            "BreaDM-Ma-1821\n"
          ]
        },
        {
          "name": "stderr",
          "output_type": "stream",
          "text": [
            "100%|██████████| 8/8 [00:01<00:00,  7.56it/s]\n"
          ]
        },
        {
          "name": "stdout",
          "output_type": "stream",
          "text": [
            "filtering\n",
            "num features: 1\n",
            "fine\n",
            "BreaDM-Ma-1824\n"
          ]
        },
        {
          "name": "stderr",
          "output_type": "stream",
          "text": [
            "100%|██████████| 5/5 [00:00<00:00,  7.33it/s]\n"
          ]
        },
        {
          "name": "stdout",
          "output_type": "stream",
          "text": [
            "filtering\n",
            "num features: 2\n",
            "fine\n",
            "BreaDM-Ma-1908\n"
          ]
        },
        {
          "name": "stderr",
          "output_type": "stream",
          "text": [
            "100%|██████████| 6/6 [00:00<00:00,  7.36it/s]\n"
          ]
        },
        {
          "name": "stdout",
          "output_type": "stream",
          "text": [
            "filtering\n",
            "num features: 1\n",
            "fine\n",
            "BreaDM-Ma-1909\n"
          ]
        },
        {
          "name": "stderr",
          "output_type": "stream",
          "text": [
            "100%|██████████| 3/3 [00:00<00:00,  7.24it/s]\n"
          ]
        },
        {
          "name": "stdout",
          "output_type": "stream",
          "text": [
            "filtering\n",
            "num features: 1\n",
            "fine\n",
            "BreaDM-Ma-1915\n"
          ]
        },
        {
          "name": "stderr",
          "output_type": "stream",
          "text": [
            "100%|██████████| 16/16 [00:02<00:00,  7.66it/s]\n"
          ]
        },
        {
          "name": "stdout",
          "output_type": "stream",
          "text": [
            "filtering\n",
            "num features: 1\n",
            "fine\n",
            "BreaDM-Ma-1916\n"
          ]
        },
        {
          "name": "stderr",
          "output_type": "stream",
          "text": [
            "100%|██████████| 8/8 [00:01<00:00,  7.70it/s]\n"
          ]
        },
        {
          "name": "stdout",
          "output_type": "stream",
          "text": [
            "filtering\n",
            "num features: 1\n",
            "fine\n",
            "BreaDM-Ma-1919\n"
          ]
        },
        {
          "name": "stderr",
          "output_type": "stream",
          "text": [
            "100%|██████████| 10/10 [00:01<00:00,  7.90it/s]\n"
          ]
        },
        {
          "name": "stdout",
          "output_type": "stream",
          "text": [
            "filtering\n",
            "num features: 1\n",
            "fine\n",
            "BreaDM-Ma-1921\n"
          ]
        },
        {
          "name": "stderr",
          "output_type": "stream",
          "text": [
            "100%|██████████| 5/5 [00:00<00:00,  7.46it/s]\n"
          ]
        },
        {
          "name": "stdout",
          "output_type": "stream",
          "text": [
            "filtering\n",
            "num features: 1\n",
            "fine\n",
            "BreaDM-Ma-1923\n"
          ]
        },
        {
          "name": "stderr",
          "output_type": "stream",
          "text": [
            "100%|██████████| 13/13 [00:01<00:00,  7.78it/s]\n"
          ]
        },
        {
          "name": "stdout",
          "output_type": "stream",
          "text": [
            "filtering\n",
            "num features: 1\n",
            "fine\n",
            "BreaDM-Ma-2007\n"
          ]
        },
        {
          "name": "stderr",
          "output_type": "stream",
          "text": [
            "100%|██████████| 15/15 [00:01<00:00,  7.75it/s]\n"
          ]
        },
        {
          "name": "stdout",
          "output_type": "stream",
          "text": [
            "filtering\n",
            "num features: 2\n",
            "fine\n",
            "BreaDM-Ma-2012\n"
          ]
        },
        {
          "name": "stderr",
          "output_type": "stream",
          "text": [
            "100%|██████████| 15/15 [00:01<00:00,  7.86it/s]\n"
          ]
        },
        {
          "name": "stdout",
          "output_type": "stream",
          "text": [
            "filtering\n",
            "num features: 7\n",
            "fine\n",
            "BreaDM-Ma-2026\n"
          ]
        },
        {
          "name": "stderr",
          "output_type": "stream",
          "text": [
            "100%|██████████| 12/12 [00:01<00:00,  7.59it/s]\n"
          ]
        },
        {
          "name": "stdout",
          "output_type": "stream",
          "text": [
            "filtering\n",
            "num features: 1\n",
            "fine\n",
            "BreaDM-Ma-2027\n"
          ]
        },
        {
          "name": "stderr",
          "output_type": "stream",
          "text": [
            "100%|██████████| 22/22 [00:02<00:00,  7.64it/s]\n"
          ]
        },
        {
          "name": "stdout",
          "output_type": "stream",
          "text": [
            "filtering\n",
            "num features: 1\n",
            "fine\n",
            "BreaDM-Ma-2038\n"
          ]
        },
        {
          "name": "stderr",
          "output_type": "stream",
          "text": [
            "100%|██████████| 2/2 [00:00<00:00,  8.23it/s]\n"
          ]
        },
        {
          "name": "stdout",
          "output_type": "stream",
          "text": [
            "filtering\n",
            "num features: 1\n",
            "fine\n",
            "BreaDM-Ma-2039\n"
          ]
        },
        {
          "name": "stderr",
          "output_type": "stream",
          "text": [
            "100%|██████████| 9/9 [00:01<00:00,  7.89it/s]\n"
          ]
        },
        {
          "name": "stdout",
          "output_type": "stream",
          "text": [
            "filtering\n",
            "num features: 1\n",
            "fine\n",
            "BreaDM-Ma-2043\n"
          ]
        },
        {
          "name": "stderr",
          "output_type": "stream",
          "text": [
            "100%|██████████| 11/11 [00:01<00:00,  8.16it/s]\n"
          ]
        },
        {
          "name": "stdout",
          "output_type": "stream",
          "text": [
            "filtering\n",
            "num features: 1\n",
            "fine\n",
            "BreaDM-Ma-2044\n"
          ]
        },
        {
          "name": "stderr",
          "output_type": "stream",
          "text": [
            "100%|██████████| 11/11 [00:01<00:00,  8.15it/s]\n"
          ]
        },
        {
          "name": "stdout",
          "output_type": "stream",
          "text": [
            "filtering\n",
            "num features: 1\n",
            "fine\n",
            "BreaDM-Ma-2107\n"
          ]
        },
        {
          "name": "stderr",
          "output_type": "stream",
          "text": [
            "100%|██████████| 13/13 [00:01<00:00,  8.05it/s]\n"
          ]
        },
        {
          "name": "stdout",
          "output_type": "stream",
          "text": [
            "filtering\n",
            "num features: 1\n",
            "fine\n",
            "BreaDM-Ma-2108\n"
          ]
        },
        {
          "name": "stderr",
          "output_type": "stream",
          "text": [
            "100%|██████████| 12/12 [00:01<00:00,  7.84it/s]\n"
          ]
        },
        {
          "name": "stdout",
          "output_type": "stream",
          "text": [
            "filtering\n",
            "num features: 1\n",
            "fine\n",
            "BreaDM-Ma-2109\n"
          ]
        },
        {
          "name": "stderr",
          "output_type": "stream",
          "text": [
            "100%|██████████| 5/5 [00:00<00:00,  7.76it/s]\n"
          ]
        },
        {
          "name": "stdout",
          "output_type": "stream",
          "text": [
            "filtering\n",
            "num features: 1\n",
            "fine\n",
            "BreaDM-Ma-2116\n"
          ]
        },
        {
          "name": "stderr",
          "output_type": "stream",
          "text": [
            "100%|██████████| 13/13 [00:01<00:00,  7.86it/s]\n"
          ]
        },
        {
          "name": "stdout",
          "output_type": "stream",
          "text": [
            "filtering\n",
            "num features: 2\n",
            "fine\n",
            "BreaDM-Ma-2118\n"
          ]
        },
        {
          "name": "stderr",
          "output_type": "stream",
          "text": [
            "100%|██████████| 11/11 [00:01<00:00,  7.40it/s]\n"
          ]
        },
        {
          "name": "stdout",
          "output_type": "stream",
          "text": [
            "filtering\n",
            "num features: 1\n",
            "fine\n",
            "BreaDM-Ma-2122\n"
          ]
        },
        {
          "name": "stderr",
          "output_type": "stream",
          "text": [
            "100%|██████████| 5/5 [00:00<00:00,  7.40it/s]\n"
          ]
        },
        {
          "name": "stdout",
          "output_type": "stream",
          "text": [
            "filtering\n",
            "num features: 2\n",
            "fine\n",
            "BreaDM-Ma-2125\n"
          ]
        },
        {
          "name": "stderr",
          "output_type": "stream",
          "text": [
            "100%|██████████| 6/6 [00:00<00:00,  7.80it/s]\n"
          ]
        },
        {
          "name": "stdout",
          "output_type": "stream",
          "text": [
            "filtering\n",
            "num features: 1\n",
            "fine\n",
            "BreaDM-Ma-2126\n"
          ]
        },
        {
          "name": "stderr",
          "output_type": "stream",
          "text": [
            "100%|██████████| 7/7 [00:00<00:00,  8.04it/s]\n"
          ]
        },
        {
          "name": "stdout",
          "output_type": "stream",
          "text": [
            "filtering\n",
            "num features: 1\n",
            "fine\n",
            "BreaDM-Ma-2131\n"
          ]
        },
        {
          "name": "stderr",
          "output_type": "stream",
          "text": [
            "100%|██████████| 15/15 [00:01<00:00,  7.88it/s]\n"
          ]
        },
        {
          "name": "stdout",
          "output_type": "stream",
          "text": [
            "filtering\n",
            "num features: 2\n",
            "fine\n",
            "BreaDM-Ma-2134\n"
          ]
        },
        {
          "name": "stderr",
          "output_type": "stream",
          "text": [
            "100%|██████████| 10/10 [00:01<00:00,  7.65it/s]\n"
          ]
        },
        {
          "name": "stdout",
          "output_type": "stream",
          "text": [
            "filtering\n",
            "num features: 2\n",
            "fine\n",
            "BreaDM-Ma-2140\n"
          ]
        },
        {
          "name": "stderr",
          "output_type": "stream",
          "text": [
            "100%|██████████| 11/11 [00:01<00:00,  7.86it/s]\n"
          ]
        },
        {
          "name": "stdout",
          "output_type": "stream",
          "text": [
            "filtering\n",
            "num features: 2\n",
            "fine\n",
            "BreaDM-Ma-2141\n"
          ]
        },
        {
          "name": "stderr",
          "output_type": "stream",
          "text": [
            "100%|██████████| 5/5 [00:00<00:00,  7.93it/s]\n"
          ]
        },
        {
          "name": "stdout",
          "output_type": "stream",
          "text": [
            "filtering\n",
            "num features: 1\n",
            "fine\n",
            "MODEL CLASS MEAN IOU  0.89859515\n",
            "MODEL CLASS STD IOU  0.10581251\n",
            "\n",
            "MODEL CLASS MEAN DICE  0.9315433\n",
            "MODEL CLASS STD DICE  0.104472995\n",
            "\n",
            "MODEL DIOU 0.9520383693045563\n",
            "MODEL DIOU STD  0.21368507827285818\n",
            "\n",
            "MODEL IOU MASS VOLUME  0.7976532578468323\n",
            "MODEL IOU MASS VOLUME STD  0.2115580290555954\n",
            "\n",
            "MODEL IOU MASS VOLUME NO EMPTY  0.7976532578468323\n",
            "MODEL IOU MASS VOLUME NO EMPTY STD  0.2113042026758194\n",
            "\n",
            "MODEL IOU MASS VOLUME NO EMPTY OPTIMISTIC  0.7976532578468323\n",
            "MODEL IOU MASS VOLUME NO EMPTY OPTIMISTIC STD  0.2113042026758194\n",
            "MODEL DICE MASS VOLUME  0.8633183836936951\n",
            "MODEL DICE MASS VOLUME STD  0.20881104469299316\n",
            "\n",
            "MODEL DICE MASS VOLUME NO EMPTY  0.8633183836936951\n",
            "MODEL DICE MASS VOLUME NO EMPTY STD  0.20881104469299316\n",
            "\n",
            "MODEL DICE MASS VOLUME NO EMPTY OPTIMISTIC  0.8633183836936951\n",
            "MODEL DICE MASS VOLUME NO EMPTY OPTIMISTIC STD  0.20881104469299316\n",
            "\n",
            "MODEL MEAN ACCURACY NO EMPTY 0.8985951542854309\n",
            "MODEL MEAN ACCURACY NO EMPTY STD 0.10605068\n",
            "\n",
            "MODEL MEAN PRECISION NO EMPTY 0.9329581558704376\n",
            "MODEL MEAN PRECISION NO EMPTY STD 0.05989857\n",
            "\n",
            "MODEL MEAN RECALL NO EMPTY 0.9575062394142151\n",
            "MODEL MEAN RECALL NO EMPTY STD 0.10809931\n",
            "\n",
            "MODEL MEAN F1 NO EMPTY 0.9315433\n",
            "MODEL MEAN F1 NO EMPTY STD 0.104472995\n",
            "\n",
            "MODEL ACCURACY EXCLUDING CASES  0.9995386600494385\n",
            "MODEL ACCURACY EXCLUDING CASES STD  0.00079333596\n",
            "\n",
            "MODEL PRECISION EXCLUDING CASES  0.8660448789596558\n",
            "MODEL PRECISION EXCLUDING CASES STD  0.119469106\n",
            "\n",
            "MODEL RECALL EXCLUDING CASES  0.915347158908844\n",
            "MODEL RECALL EXCLUDING CASES STD  0.2155476\n",
            "\n",
            "MODEL ACCURACY NO EMPTY  0.7976532578468323\n",
            "MODEL ACCURACY NO EMPTY STD  0.2113042\n",
            "\n",
            "MODEL PRECISION NO EMPTY 0.8660448789596558\n",
            "MODEL PRECISION NO EMPTY STD  0.119469106\n",
            "\n",
            "MODEL RECALL NO EMPTY  0.915347158908844\n",
            "MODEL RECALL NO EMPTY STD  0.2155476\n",
            "\n",
            "MODEL F1 NO EMPTY  0.8633183836936951\n",
            "MODEL F1 NO EMPTY STD  0.20881104\n",
            "\n",
            "\n",
            "VENUS Tiny + UNet++ patches (filtered) Results:\n",
            "None\n",
            "Testing Ensemble: VENUS Tiny + ResNet18 patches...\n"
          ]
        },
        {
          "name": "stderr",
          "output_type": "stream",
          "text": [
            "c:\\Users\\pabli\\AppData\\Local\\pypoetry\\Cache\\virtualenvs\\venus-nCPuPPcI-py3.9\\lib\\site-packages\\lightning\\pytorch\\core\\saving.py:195: Found keys that are not in the model state dict but in the checkpoint: ['model.classification_head.3.weight', 'model.classification_head.3.bias']\n"
          ]
        },
        {
          "name": "stdout",
          "output_type": "stream",
          "text": [
            "Initialized SurfaceLossBinary with [1]\n",
            "BreastSegmentationModel(\n",
            "  (model): Unet(\n",
            "    (encoder): ResNetEncoder(\n",
            "      (conv1): Conv2d(1, 64, kernel_size=(7, 7), stride=(2, 2), padding=(3, 3), bias=False)\n",
            "      (bn1): BatchNorm2d(64, eps=1e-05, momentum=0.1, affine=True, track_running_stats=True)\n",
            "      (relu): ReLU(inplace=True)\n",
            "      (maxpool): MaxPool2d(kernel_size=3, stride=2, padding=1, dilation=1, ceil_mode=False)\n",
            "      (layer1): Sequential(\n",
            "        (0): BasicBlock(\n",
            "          (conv1): Conv2d(64, 64, kernel_size=(3, 3), stride=(1, 1), padding=(1, 1), bias=False)\n",
            "          (bn1): BatchNorm2d(64, eps=1e-05, momentum=0.1, affine=True, track_running_stats=True)\n",
            "          (relu): ReLU(inplace=True)\n",
            "          (conv2): Conv2d(64, 64, kernel_size=(3, 3), stride=(1, 1), padding=(1, 1), bias=False)\n",
            "          (bn2): BatchNorm2d(64, eps=1e-05, momentum=0.1, affine=True, track_running_stats=True)\n",
            "        )\n",
            "        (1): BasicBlock(\n",
            "          (conv1): Conv2d(64, 64, kernel_size=(3, 3), stride=(1, 1), padding=(1, 1), bias=False)\n",
            "          (bn1): BatchNorm2d(64, eps=1e-05, momentum=0.1, affine=True, track_running_stats=True)\n",
            "          (relu): ReLU(inplace=True)\n",
            "          (conv2): Conv2d(64, 64, kernel_size=(3, 3), stride=(1, 1), padding=(1, 1), bias=False)\n",
            "          (bn2): BatchNorm2d(64, eps=1e-05, momentum=0.1, affine=True, track_running_stats=True)\n",
            "        )\n",
            "      )\n",
            "      (layer2): Sequential(\n",
            "        (0): BasicBlock(\n",
            "          (conv1): Conv2d(64, 128, kernel_size=(3, 3), stride=(2, 2), padding=(1, 1), bias=False)\n",
            "          (bn1): BatchNorm2d(128, eps=1e-05, momentum=0.1, affine=True, track_running_stats=True)\n",
            "          (relu): ReLU(inplace=True)\n",
            "          (conv2): Conv2d(128, 128, kernel_size=(3, 3), stride=(1, 1), padding=(1, 1), bias=False)\n",
            "          (bn2): BatchNorm2d(128, eps=1e-05, momentum=0.1, affine=True, track_running_stats=True)\n",
            "          (downsample): Sequential(\n",
            "            (0): Conv2d(64, 128, kernel_size=(1, 1), stride=(2, 2), bias=False)\n",
            "            (1): BatchNorm2d(128, eps=1e-05, momentum=0.1, affine=True, track_running_stats=True)\n",
            "          )\n",
            "        )\n",
            "        (1): BasicBlock(\n",
            "          (conv1): Conv2d(128, 128, kernel_size=(3, 3), stride=(1, 1), padding=(1, 1), bias=False)\n",
            "          (bn1): BatchNorm2d(128, eps=1e-05, momentum=0.1, affine=True, track_running_stats=True)\n",
            "          (relu): ReLU(inplace=True)\n",
            "          (conv2): Conv2d(128, 128, kernel_size=(3, 3), stride=(1, 1), padding=(1, 1), bias=False)\n",
            "          (bn2): BatchNorm2d(128, eps=1e-05, momentum=0.1, affine=True, track_running_stats=True)\n",
            "        )\n",
            "      )\n",
            "      (layer3): Sequential(\n",
            "        (0): BasicBlock(\n",
            "          (conv1): Conv2d(128, 256, kernel_size=(3, 3), stride=(2, 2), padding=(1, 1), bias=False)\n",
            "          (bn1): BatchNorm2d(256, eps=1e-05, momentum=0.1, affine=True, track_running_stats=True)\n",
            "          (relu): ReLU(inplace=True)\n",
            "          (conv2): Conv2d(256, 256, kernel_size=(3, 3), stride=(1, 1), padding=(1, 1), bias=False)\n",
            "          (bn2): BatchNorm2d(256, eps=1e-05, momentum=0.1, affine=True, track_running_stats=True)\n",
            "          (downsample): Sequential(\n",
            "            (0): Conv2d(128, 256, kernel_size=(1, 1), stride=(2, 2), bias=False)\n",
            "            (1): BatchNorm2d(256, eps=1e-05, momentum=0.1, affine=True, track_running_stats=True)\n",
            "          )\n",
            "        )\n",
            "        (1): BasicBlock(\n",
            "          (conv1): Conv2d(256, 256, kernel_size=(3, 3), stride=(1, 1), padding=(1, 1), bias=False)\n",
            "          (bn1): BatchNorm2d(256, eps=1e-05, momentum=0.1, affine=True, track_running_stats=True)\n",
            "          (relu): ReLU(inplace=True)\n",
            "          (conv2): Conv2d(256, 256, kernel_size=(3, 3), stride=(1, 1), padding=(1, 1), bias=False)\n",
            "          (bn2): BatchNorm2d(256, eps=1e-05, momentum=0.1, affine=True, track_running_stats=True)\n",
            "        )\n",
            "      )\n",
            "      (layer4): Sequential(\n",
            "        (0): BasicBlock(\n",
            "          (conv1): Conv2d(256, 512, kernel_size=(3, 3), stride=(2, 2), padding=(1, 1), bias=False)\n",
            "          (bn1): BatchNorm2d(512, eps=1e-05, momentum=0.1, affine=True, track_running_stats=True)\n",
            "          (relu): ReLU(inplace=True)\n",
            "          (conv2): Conv2d(512, 512, kernel_size=(3, 3), stride=(1, 1), padding=(1, 1), bias=False)\n",
            "          (bn2): BatchNorm2d(512, eps=1e-05, momentum=0.1, affine=True, track_running_stats=True)\n",
            "          (downsample): Sequential(\n",
            "            (0): Conv2d(256, 512, kernel_size=(1, 1), stride=(2, 2), bias=False)\n",
            "            (1): BatchNorm2d(512, eps=1e-05, momentum=0.1, affine=True, track_running_stats=True)\n",
            "          )\n",
            "        )\n",
            "        (1): BasicBlock(\n",
            "          (conv1): Conv2d(512, 512, kernel_size=(3, 3), stride=(1, 1), padding=(1, 1), bias=False)\n",
            "          (bn1): BatchNorm2d(512, eps=1e-05, momentum=0.1, affine=True, track_running_stats=True)\n",
            "          (relu): ReLU(inplace=True)\n",
            "          (conv2): Conv2d(512, 512, kernel_size=(3, 3), stride=(1, 1), padding=(1, 1), bias=False)\n",
            "          (bn2): BatchNorm2d(512, eps=1e-05, momentum=0.1, affine=True, track_running_stats=True)\n",
            "        )\n",
            "      )\n",
            "    )\n",
            "    (decoder): UnetDecoder(\n",
            "      (center): Identity()\n",
            "      (blocks): ModuleList(\n",
            "        (0): UnetDecoderBlock(\n",
            "          (conv1): Conv2dReLU(\n",
            "            (0): Conv2d(768, 256, kernel_size=(3, 3), stride=(1, 1), padding=(1, 1), bias=False)\n",
            "            (1): BatchNorm2d(256, eps=1e-05, momentum=0.1, affine=True, track_running_stats=True)\n",
            "            (2): ReLU(inplace=True)\n",
            "          )\n",
            "          (attention1): Attention(\n",
            "            (attention): Identity()\n",
            "          )\n",
            "          (conv2): Conv2dReLU(\n",
            "            (0): Conv2d(256, 256, kernel_size=(3, 3), stride=(1, 1), padding=(1, 1), bias=False)\n",
            "            (1): BatchNorm2d(256, eps=1e-05, momentum=0.1, affine=True, track_running_stats=True)\n",
            "            (2): ReLU(inplace=True)\n",
            "          )\n",
            "          (attention2): Attention(\n",
            "            (attention): Identity()\n",
            "          )\n",
            "        )\n",
            "        (1): UnetDecoderBlock(\n",
            "          (conv1): Conv2dReLU(\n",
            "            (0): Conv2d(384, 128, kernel_size=(3, 3), stride=(1, 1), padding=(1, 1), bias=False)\n",
            "            (1): BatchNorm2d(128, eps=1e-05, momentum=0.1, affine=True, track_running_stats=True)\n",
            "            (2): ReLU(inplace=True)\n",
            "          )\n",
            "          (attention1): Attention(\n",
            "            (attention): Identity()\n",
            "          )\n",
            "          (conv2): Conv2dReLU(\n",
            "            (0): Conv2d(128, 128, kernel_size=(3, 3), stride=(1, 1), padding=(1, 1), bias=False)\n",
            "            (1): BatchNorm2d(128, eps=1e-05, momentum=0.1, affine=True, track_running_stats=True)\n",
            "            (2): ReLU(inplace=True)\n",
            "          )\n",
            "          (attention2): Attention(\n",
            "            (attention): Identity()\n",
            "          )\n",
            "        )\n",
            "        (2): UnetDecoderBlock(\n",
            "          (conv1): Conv2dReLU(\n",
            "            (0): Conv2d(192, 64, kernel_size=(3, 3), stride=(1, 1), padding=(1, 1), bias=False)\n",
            "            (1): BatchNorm2d(64, eps=1e-05, momentum=0.1, affine=True, track_running_stats=True)\n",
            "            (2): ReLU(inplace=True)\n",
            "          )\n",
            "          (attention1): Attention(\n",
            "            (attention): Identity()\n",
            "          )\n",
            "          (conv2): Conv2dReLU(\n",
            "            (0): Conv2d(64, 64, kernel_size=(3, 3), stride=(1, 1), padding=(1, 1), bias=False)\n",
            "            (1): BatchNorm2d(64, eps=1e-05, momentum=0.1, affine=True, track_running_stats=True)\n",
            "            (2): ReLU(inplace=True)\n",
            "          )\n",
            "          (attention2): Attention(\n",
            "            (attention): Identity()\n",
            "          )\n",
            "        )\n",
            "        (3): UnetDecoderBlock(\n",
            "          (conv1): Conv2dReLU(\n",
            "            (0): Conv2d(128, 32, kernel_size=(3, 3), stride=(1, 1), padding=(1, 1), bias=False)\n",
            "            (1): BatchNorm2d(32, eps=1e-05, momentum=0.1, affine=True, track_running_stats=True)\n",
            "            (2): ReLU(inplace=True)\n",
            "          )\n",
            "          (attention1): Attention(\n",
            "            (attention): Identity()\n",
            "          )\n",
            "          (conv2): Conv2dReLU(\n",
            "            (0): Conv2d(32, 32, kernel_size=(3, 3), stride=(1, 1), padding=(1, 1), bias=False)\n",
            "            (1): BatchNorm2d(32, eps=1e-05, momentum=0.1, affine=True, track_running_stats=True)\n",
            "            (2): ReLU(inplace=True)\n",
            "          )\n",
            "          (attention2): Attention(\n",
            "            (attention): Identity()\n",
            "          )\n",
            "        )\n",
            "        (4): UnetDecoderBlock(\n",
            "          (conv1): Conv2dReLU(\n",
            "            (0): Conv2d(32, 16, kernel_size=(3, 3), stride=(1, 1), padding=(1, 1), bias=False)\n",
            "            (1): BatchNorm2d(16, eps=1e-05, momentum=0.1, affine=True, track_running_stats=True)\n",
            "            (2): ReLU(inplace=True)\n",
            "          )\n",
            "          (attention1): Attention(\n",
            "            (attention): Identity()\n",
            "          )\n",
            "          (conv2): Conv2dReLU(\n",
            "            (0): Conv2d(16, 16, kernel_size=(3, 3), stride=(1, 1), padding=(1, 1), bias=False)\n",
            "            (1): BatchNorm2d(16, eps=1e-05, momentum=0.1, affine=True, track_running_stats=True)\n",
            "            (2): ReLU(inplace=True)\n",
            "          )\n",
            "          (attention2): Attention(\n",
            "            (attention): Identity()\n",
            "          )\n",
            "        )\n",
            "      )\n",
            "    )\n",
            "    (segmentation_head): SegmentationHead(\n",
            "      (0): Conv2d(16, 1, kernel_size=(3, 3), stride=(1, 1), padding=(1, 1))\n",
            "      (1): Identity()\n",
            "      (2): Activation(\n",
            "        (activation): Identity()\n",
            "      )\n",
            "    )\n",
            "  )\n",
            "  (loss_fn): CABFL(\n",
            "    (boundaryLoss): SurfaceLossBinary()\n",
            "    (aufl): AsymmetricUnifiedFocalLoss()\n",
            "  )\n",
            "  (boundary_loss): SurfaceLossBinary()\n",
            "  (t_loss): CABFL(\n",
            "    (boundaryLoss): SurfaceLossBinary()\n",
            "    (aufl): AsymmetricUnifiedFocalLoss()\n",
            "  )\n",
            ")\n",
            "BreaDM-Be-1801\n"
          ]
        },
        {
          "name": "stderr",
          "output_type": "stream",
          "text": [
            "100%|██████████| 7/7 [00:00<00:00,  8.87it/s]\n"
          ]
        },
        {
          "name": "stdout",
          "output_type": "stream",
          "text": [
            "BreaDM-Be-1803\n"
          ]
        },
        {
          "name": "stderr",
          "output_type": "stream",
          "text": [
            "100%|██████████| 3/3 [00:00<00:00, 10.06it/s]\n"
          ]
        },
        {
          "name": "stdout",
          "output_type": "stream",
          "text": [
            "BreaDM-Be-1804\n"
          ]
        },
        {
          "name": "stderr",
          "output_type": "stream",
          "text": [
            "100%|██████████| 4/4 [00:00<00:00,  9.02it/s]\n"
          ]
        },
        {
          "name": "stdout",
          "output_type": "stream",
          "text": [
            "BreaDM-Be-1810\n"
          ]
        },
        {
          "name": "stderr",
          "output_type": "stream",
          "text": [
            "100%|██████████| 2/2 [00:00<00:00,  8.71it/s]\n"
          ]
        },
        {
          "name": "stdout",
          "output_type": "stream",
          "text": [
            "BreaDM-Be-1813\n"
          ]
        },
        {
          "name": "stderr",
          "output_type": "stream",
          "text": [
            "100%|██████████| 3/3 [00:00<00:00, 10.18it/s]\n"
          ]
        },
        {
          "name": "stdout",
          "output_type": "stream",
          "text": [
            "BreaDM-Be-1822\n"
          ]
        },
        {
          "name": "stderr",
          "output_type": "stream",
          "text": [
            "100%|██████████| 11/11 [00:01<00:00, 10.90it/s]\n"
          ]
        },
        {
          "name": "stdout",
          "output_type": "stream",
          "text": [
            "BreaDM-Be-1826\n"
          ]
        },
        {
          "name": "stderr",
          "output_type": "stream",
          "text": [
            "100%|██████████| 2/2 [00:00<00:00, 10.42it/s]\n"
          ]
        },
        {
          "name": "stdout",
          "output_type": "stream",
          "text": [
            "BreaDM-Be-1906\n"
          ]
        },
        {
          "name": "stderr",
          "output_type": "stream",
          "text": [
            "100%|██████████| 10/10 [00:00<00:00, 11.26it/s]\n"
          ]
        },
        {
          "name": "stdout",
          "output_type": "stream",
          "text": [
            "BreaDM-Be-1907\n"
          ]
        },
        {
          "name": "stderr",
          "output_type": "stream",
          "text": [
            "100%|██████████| 3/3 [00:00<00:00, 10.65it/s]\n"
          ]
        },
        {
          "name": "stdout",
          "output_type": "stream",
          "text": [
            "BreaDM-Be-1909\n"
          ]
        },
        {
          "name": "stderr",
          "output_type": "stream",
          "text": [
            "100%|██████████| 24/24 [00:02<00:00, 11.18it/s]\n"
          ]
        },
        {
          "name": "stdout",
          "output_type": "stream",
          "text": [
            "BreaDM-Be-1914\n"
          ]
        },
        {
          "name": "stderr",
          "output_type": "stream",
          "text": [
            "100%|██████████| 3/3 [00:00<00:00, 11.36it/s]\n"
          ]
        },
        {
          "name": "stdout",
          "output_type": "stream",
          "text": [
            "BreaDM-Be-2001\n"
          ]
        },
        {
          "name": "stderr",
          "output_type": "stream",
          "text": [
            "100%|██████████| 4/4 [00:00<00:00, 10.92it/s]\n"
          ]
        },
        {
          "name": "stdout",
          "output_type": "stream",
          "text": [
            "BreaDM-Be-2002\n"
          ]
        },
        {
          "name": "stderr",
          "output_type": "stream",
          "text": [
            "100%|██████████| 5/5 [00:00<00:00, 11.55it/s]\n"
          ]
        },
        {
          "name": "stdout",
          "output_type": "stream",
          "text": [
            "BreaDM-Be-2013\n"
          ]
        },
        {
          "name": "stderr",
          "output_type": "stream",
          "text": [
            "100%|██████████| 5/5 [00:00<00:00, 11.16it/s]\n"
          ]
        },
        {
          "name": "stdout",
          "output_type": "stream",
          "text": [
            "BreaDM-Be-2019\n"
          ]
        },
        {
          "name": "stderr",
          "output_type": "stream",
          "text": [
            "100%|██████████| 4/4 [00:00<00:00, 10.90it/s]\n"
          ]
        },
        {
          "name": "stdout",
          "output_type": "stream",
          "text": [
            "BreaDM-Be-2020\n"
          ]
        },
        {
          "name": "stderr",
          "output_type": "stream",
          "text": [
            "100%|██████████| 9/9 [00:00<00:00, 10.49it/s]\n"
          ]
        },
        {
          "name": "stdout",
          "output_type": "stream",
          "text": [
            "BreaDM-Be-2022\n"
          ]
        },
        {
          "name": "stderr",
          "output_type": "stream",
          "text": [
            "100%|██████████| 8/8 [00:00<00:00, 10.97it/s]\n"
          ]
        },
        {
          "name": "stdout",
          "output_type": "stream",
          "text": [
            "BreaDM-Be-2102\n"
          ]
        },
        {
          "name": "stderr",
          "output_type": "stream",
          "text": [
            "100%|██████████| 9/9 [00:00<00:00, 10.58it/s]\n"
          ]
        },
        {
          "name": "stdout",
          "output_type": "stream",
          "text": [
            "BreaDM-Be-2111\n"
          ]
        },
        {
          "name": "stderr",
          "output_type": "stream",
          "text": [
            "100%|██████████| 3/3 [00:00<00:00, 10.31it/s]\n"
          ]
        },
        {
          "name": "stdout",
          "output_type": "stream",
          "text": [
            "BreaDM-Be-2113\n"
          ]
        },
        {
          "name": "stderr",
          "output_type": "stream",
          "text": [
            "100%|██████████| 9/9 [00:00<00:00, 11.57it/s]\n"
          ]
        },
        {
          "name": "stdout",
          "output_type": "stream",
          "text": [
            "BreaDM-Ma-1801\n"
          ]
        },
        {
          "name": "stderr",
          "output_type": "stream",
          "text": [
            "100%|██████████| 5/5 [00:00<00:00, 11.17it/s]\n"
          ]
        },
        {
          "name": "stdout",
          "output_type": "stream",
          "text": [
            "BreaDM-Ma-1821\n"
          ]
        },
        {
          "name": "stderr",
          "output_type": "stream",
          "text": [
            "100%|██████████| 8/8 [00:00<00:00, 11.40it/s]\n"
          ]
        },
        {
          "name": "stdout",
          "output_type": "stream",
          "text": [
            "BreaDM-Ma-1824\n"
          ]
        },
        {
          "name": "stderr",
          "output_type": "stream",
          "text": [
            "100%|██████████| 5/5 [00:00<00:00, 11.08it/s]\n"
          ]
        },
        {
          "name": "stdout",
          "output_type": "stream",
          "text": [
            "BreaDM-Ma-1908\n"
          ]
        },
        {
          "name": "stderr",
          "output_type": "stream",
          "text": [
            "100%|██████████| 6/6 [00:00<00:00, 11.33it/s]\n"
          ]
        },
        {
          "name": "stdout",
          "output_type": "stream",
          "text": [
            "BreaDM-Ma-1909\n"
          ]
        },
        {
          "name": "stderr",
          "output_type": "stream",
          "text": [
            "100%|██████████| 3/3 [00:00<00:00, 10.70it/s]\n"
          ]
        },
        {
          "name": "stdout",
          "output_type": "stream",
          "text": [
            "BreaDM-Ma-1915\n"
          ]
        },
        {
          "name": "stderr",
          "output_type": "stream",
          "text": [
            "100%|██████████| 16/16 [00:01<00:00, 11.21it/s]\n"
          ]
        },
        {
          "name": "stdout",
          "output_type": "stream",
          "text": [
            "BreaDM-Ma-1916\n"
          ]
        },
        {
          "name": "stderr",
          "output_type": "stream",
          "text": [
            "100%|██████████| 8/8 [00:00<00:00, 10.61it/s]\n"
          ]
        },
        {
          "name": "stdout",
          "output_type": "stream",
          "text": [
            "BreaDM-Ma-1919\n"
          ]
        },
        {
          "name": "stderr",
          "output_type": "stream",
          "text": [
            "100%|██████████| 10/10 [00:00<00:00, 11.25it/s]\n"
          ]
        },
        {
          "name": "stdout",
          "output_type": "stream",
          "text": [
            "BreaDM-Ma-1921\n"
          ]
        },
        {
          "name": "stderr",
          "output_type": "stream",
          "text": [
            "100%|██████████| 5/5 [00:00<00:00, 11.58it/s]\n"
          ]
        },
        {
          "name": "stdout",
          "output_type": "stream",
          "text": [
            "BreaDM-Ma-1923\n"
          ]
        },
        {
          "name": "stderr",
          "output_type": "stream",
          "text": [
            "100%|██████████| 13/13 [00:01<00:00, 11.12it/s]\n"
          ]
        },
        {
          "name": "stdout",
          "output_type": "stream",
          "text": [
            "BreaDM-Ma-2007\n"
          ]
        },
        {
          "name": "stderr",
          "output_type": "stream",
          "text": [
            "100%|██████████| 15/15 [00:01<00:00, 10.89it/s]\n"
          ]
        },
        {
          "name": "stdout",
          "output_type": "stream",
          "text": [
            "BreaDM-Ma-2012\n"
          ]
        },
        {
          "name": "stderr",
          "output_type": "stream",
          "text": [
            "100%|██████████| 15/15 [00:01<00:00, 10.65it/s]\n"
          ]
        },
        {
          "name": "stdout",
          "output_type": "stream",
          "text": [
            "BreaDM-Ma-2026\n"
          ]
        },
        {
          "name": "stderr",
          "output_type": "stream",
          "text": [
            "100%|██████████| 12/12 [00:01<00:00, 11.41it/s]\n"
          ]
        },
        {
          "name": "stdout",
          "output_type": "stream",
          "text": [
            "BreaDM-Ma-2027\n"
          ]
        },
        {
          "name": "stderr",
          "output_type": "stream",
          "text": [
            "100%|██████████| 22/22 [00:01<00:00, 11.19it/s]\n"
          ]
        },
        {
          "name": "stdout",
          "output_type": "stream",
          "text": [
            "BreaDM-Ma-2038\n"
          ]
        },
        {
          "name": "stderr",
          "output_type": "stream",
          "text": [
            "100%|██████████| 2/2 [00:00<00:00, 11.31it/s]\n"
          ]
        },
        {
          "name": "stdout",
          "output_type": "stream",
          "text": [
            "BreaDM-Ma-2039\n"
          ]
        },
        {
          "name": "stderr",
          "output_type": "stream",
          "text": [
            "100%|██████████| 9/9 [00:00<00:00, 11.26it/s]\n"
          ]
        },
        {
          "name": "stdout",
          "output_type": "stream",
          "text": [
            "BreaDM-Ma-2043\n"
          ]
        },
        {
          "name": "stderr",
          "output_type": "stream",
          "text": [
            "100%|██████████| 11/11 [00:01<00:00, 10.18it/s]\n"
          ]
        },
        {
          "name": "stdout",
          "output_type": "stream",
          "text": [
            "BreaDM-Ma-2044\n"
          ]
        },
        {
          "name": "stderr",
          "output_type": "stream",
          "text": [
            "100%|██████████| 11/11 [00:01<00:00, 10.34it/s]\n"
          ]
        },
        {
          "name": "stdout",
          "output_type": "stream",
          "text": [
            "BreaDM-Ma-2107\n"
          ]
        },
        {
          "name": "stderr",
          "output_type": "stream",
          "text": [
            "100%|██████████| 13/13 [00:01<00:00, 11.02it/s]\n"
          ]
        },
        {
          "name": "stdout",
          "output_type": "stream",
          "text": [
            "BreaDM-Ma-2108\n"
          ]
        },
        {
          "name": "stderr",
          "output_type": "stream",
          "text": [
            "100%|██████████| 12/12 [00:01<00:00, 10.21it/s]\n"
          ]
        },
        {
          "name": "stdout",
          "output_type": "stream",
          "text": [
            "BreaDM-Ma-2109\n"
          ]
        },
        {
          "name": "stderr",
          "output_type": "stream",
          "text": [
            "100%|██████████| 5/5 [00:00<00:00, 10.33it/s]\n"
          ]
        },
        {
          "name": "stdout",
          "output_type": "stream",
          "text": [
            "BreaDM-Ma-2116\n"
          ]
        },
        {
          "name": "stderr",
          "output_type": "stream",
          "text": [
            "100%|██████████| 13/13 [00:01<00:00, 10.46it/s]\n"
          ]
        },
        {
          "name": "stdout",
          "output_type": "stream",
          "text": [
            "BreaDM-Ma-2118\n"
          ]
        },
        {
          "name": "stderr",
          "output_type": "stream",
          "text": [
            "100%|██████████| 11/11 [00:01<00:00, 10.23it/s]\n"
          ]
        },
        {
          "name": "stdout",
          "output_type": "stream",
          "text": [
            "BreaDM-Ma-2122\n"
          ]
        },
        {
          "name": "stderr",
          "output_type": "stream",
          "text": [
            "100%|██████████| 5/5 [00:00<00:00, 10.56it/s]\n"
          ]
        },
        {
          "name": "stdout",
          "output_type": "stream",
          "text": [
            "BreaDM-Ma-2125\n"
          ]
        },
        {
          "name": "stderr",
          "output_type": "stream",
          "text": [
            "100%|██████████| 6/6 [00:00<00:00, 10.79it/s]\n"
          ]
        },
        {
          "name": "stdout",
          "output_type": "stream",
          "text": [
            "BreaDM-Ma-2126\n"
          ]
        },
        {
          "name": "stderr",
          "output_type": "stream",
          "text": [
            "100%|██████████| 7/7 [00:00<00:00, 10.62it/s]\n"
          ]
        },
        {
          "name": "stdout",
          "output_type": "stream",
          "text": [
            "BreaDM-Ma-2131\n"
          ]
        },
        {
          "name": "stderr",
          "output_type": "stream",
          "text": [
            "100%|██████████| 15/15 [00:01<00:00, 11.40it/s]\n"
          ]
        },
        {
          "name": "stdout",
          "output_type": "stream",
          "text": [
            "BreaDM-Ma-2134\n"
          ]
        },
        {
          "name": "stderr",
          "output_type": "stream",
          "text": [
            "100%|██████████| 10/10 [00:00<00:00, 11.69it/s]\n"
          ]
        },
        {
          "name": "stdout",
          "output_type": "stream",
          "text": [
            "BreaDM-Ma-2140\n"
          ]
        },
        {
          "name": "stderr",
          "output_type": "stream",
          "text": [
            "100%|██████████| 11/11 [00:00<00:00, 11.03it/s]\n"
          ]
        },
        {
          "name": "stdout",
          "output_type": "stream",
          "text": [
            "BreaDM-Ma-2141\n"
          ]
        },
        {
          "name": "stderr",
          "output_type": "stream",
          "text": [
            "100%|██████████| 5/5 [00:00<00:00,  9.90it/s]\n"
          ]
        },
        {
          "name": "stdout",
          "output_type": "stream",
          "text": [
            "MODEL CLASS MEAN IOU  0.8661823\n",
            "MODEL CLASS STD IOU  0.13307561\n",
            "\n",
            "MODEL CLASS MEAN DICE  0.90252525\n",
            "MODEL CLASS STD DICE  0.13443208\n",
            "\n",
            "MODEL DIOU 0.9184652278177458\n",
            "MODEL DIOU STD  0.273654623764047\n",
            "\n",
            "MODEL IOU MASS VOLUME  0.7330820560455322\n",
            "MODEL IOU MASS VOLUME STD  0.26567837595939636\n",
            "\n",
            "MODEL IOU MASS VOLUME NO EMPTY  0.7330820560455322\n",
            "MODEL IOU MASS VOLUME NO EMPTY STD  0.26535964012145996\n",
            "\n",
            "MODEL IOU MASS VOLUME NO EMPTY OPTIMISTIC  0.7330820560455322\n",
            "MODEL IOU MASS VOLUME NO EMPTY OPTIMISTIC STD  0.26535964012145996\n",
            "MODEL DICE MASS VOLUME  0.8054099082946777\n",
            "MODEL DICE MASS VOLUME STD  0.26848292350769043\n",
            "\n",
            "MODEL DICE MASS VOLUME NO EMPTY  0.8054099082946777\n",
            "MODEL DICE MASS VOLUME NO EMPTY STD  0.26848292350769043\n",
            "\n",
            "MODEL DICE MASS VOLUME NO EMPTY OPTIMISTIC  0.8054099082946777\n",
            "MODEL DICE MASS VOLUME NO EMPTY OPTIMISTIC STD  0.26848292350769043\n",
            "\n",
            "MODEL MEAN ACCURACY NO EMPTY 0.866182267665863\n",
            "MODEL MEAN ACCURACY NO EMPTY STD 0.13339308\n",
            "\n",
            "MODEL MEAN PRECISION NO EMPTY 0.9170726239681244\n",
            "MODEL MEAN PRECISION NO EMPTY STD 0.083400846\n",
            "\n",
            "MODEL MEAN RECALL NO EMPTY 0.9282898902893066\n",
            "MODEL MEAN RECALL NO EMPTY STD 0.13903703\n",
            "\n",
            "MODEL MEAN F1 NO EMPTY 0.90252525\n",
            "MODEL MEAN F1 NO EMPTY STD 0.13443208\n",
            "\n",
            "MODEL ACCURACY EXCLUDING CASES  0.9992840886116028\n",
            "MODEL ACCURACY EXCLUDING CASES STD  0.0014245426\n",
            "\n",
            "MODEL PRECISION EXCLUDING CASES  0.8345088958740234\n",
            "MODEL PRECISION EXCLUDING CASES STD  0.16579717\n",
            "\n",
            "MODEL RECALL EXCLUDING CASES  0.8569344282150269\n",
            "MODEL RECALL EXCLUDING CASES STD  0.27745637\n",
            "\n",
            "MODEL ACCURACY NO EMPTY  0.7330820560455322\n",
            "MODEL ACCURACY NO EMPTY STD  0.26535964\n",
            "\n",
            "MODEL PRECISION NO EMPTY 0.8345088958740234\n",
            "MODEL PRECISION NO EMPTY STD  0.16579717\n",
            "\n",
            "MODEL RECALL NO EMPTY  0.8569344282150269\n",
            "MODEL RECALL NO EMPTY STD  0.27745637\n",
            "\n",
            "MODEL F1 NO EMPTY  0.8054099082946777\n",
            "MODEL F1 NO EMPTY STD  0.26848292\n",
            "\n",
            "\n",
            "VENUS Tiny + ResNet18 patches Results:\n",
            "None\n",
            "Testing Ensemble: VENUS Tiny + ResNet18 patches (filtered)...\n",
            "Initialized SurfaceLossBinary with [1]\n",
            "BreastSegmentationModel(\n",
            "  (model): Unet(\n",
            "    (encoder): ResNetEncoder(\n",
            "      (conv1): Conv2d(1, 64, kernel_size=(7, 7), stride=(2, 2), padding=(3, 3), bias=False)\n",
            "      (bn1): BatchNorm2d(64, eps=1e-05, momentum=0.1, affine=True, track_running_stats=True)\n",
            "      (relu): ReLU(inplace=True)\n",
            "      (maxpool): MaxPool2d(kernel_size=3, stride=2, padding=1, dilation=1, ceil_mode=False)\n",
            "      (layer1): Sequential(\n",
            "        (0): BasicBlock(\n",
            "          (conv1): Conv2d(64, 64, kernel_size=(3, 3), stride=(1, 1), padding=(1, 1), bias=False)\n",
            "          (bn1): BatchNorm2d(64, eps=1e-05, momentum=0.1, affine=True, track_running_stats=True)\n",
            "          (relu): ReLU(inplace=True)\n",
            "          (conv2): Conv2d(64, 64, kernel_size=(3, 3), stride=(1, 1), padding=(1, 1), bias=False)\n",
            "          (bn2): BatchNorm2d(64, eps=1e-05, momentum=0.1, affine=True, track_running_stats=True)\n",
            "        )\n",
            "        (1): BasicBlock(\n",
            "          (conv1): Conv2d(64, 64, kernel_size=(3, 3), stride=(1, 1), padding=(1, 1), bias=False)\n",
            "          (bn1): BatchNorm2d(64, eps=1e-05, momentum=0.1, affine=True, track_running_stats=True)\n",
            "          (relu): ReLU(inplace=True)\n",
            "          (conv2): Conv2d(64, 64, kernel_size=(3, 3), stride=(1, 1), padding=(1, 1), bias=False)\n",
            "          (bn2): BatchNorm2d(64, eps=1e-05, momentum=0.1, affine=True, track_running_stats=True)\n",
            "        )\n",
            "      )\n",
            "      (layer2): Sequential(\n",
            "        (0): BasicBlock(\n",
            "          (conv1): Conv2d(64, 128, kernel_size=(3, 3), stride=(2, 2), padding=(1, 1), bias=False)\n",
            "          (bn1): BatchNorm2d(128, eps=1e-05, momentum=0.1, affine=True, track_running_stats=True)\n",
            "          (relu): ReLU(inplace=True)\n",
            "          (conv2): Conv2d(128, 128, kernel_size=(3, 3), stride=(1, 1), padding=(1, 1), bias=False)\n",
            "          (bn2): BatchNorm2d(128, eps=1e-05, momentum=0.1, affine=True, track_running_stats=True)\n",
            "          (downsample): Sequential(\n",
            "            (0): Conv2d(64, 128, kernel_size=(1, 1), stride=(2, 2), bias=False)\n",
            "            (1): BatchNorm2d(128, eps=1e-05, momentum=0.1, affine=True, track_running_stats=True)\n",
            "          )\n",
            "        )\n",
            "        (1): BasicBlock(\n",
            "          (conv1): Conv2d(128, 128, kernel_size=(3, 3), stride=(1, 1), padding=(1, 1), bias=False)\n",
            "          (bn1): BatchNorm2d(128, eps=1e-05, momentum=0.1, affine=True, track_running_stats=True)\n",
            "          (relu): ReLU(inplace=True)\n",
            "          (conv2): Conv2d(128, 128, kernel_size=(3, 3), stride=(1, 1), padding=(1, 1), bias=False)\n",
            "          (bn2): BatchNorm2d(128, eps=1e-05, momentum=0.1, affine=True, track_running_stats=True)\n",
            "        )\n",
            "      )\n",
            "      (layer3): Sequential(\n",
            "        (0): BasicBlock(\n",
            "          (conv1): Conv2d(128, 256, kernel_size=(3, 3), stride=(2, 2), padding=(1, 1), bias=False)\n",
            "          (bn1): BatchNorm2d(256, eps=1e-05, momentum=0.1, affine=True, track_running_stats=True)\n",
            "          (relu): ReLU(inplace=True)\n",
            "          (conv2): Conv2d(256, 256, kernel_size=(3, 3), stride=(1, 1), padding=(1, 1), bias=False)\n",
            "          (bn2): BatchNorm2d(256, eps=1e-05, momentum=0.1, affine=True, track_running_stats=True)\n",
            "          (downsample): Sequential(\n",
            "            (0): Conv2d(128, 256, kernel_size=(1, 1), stride=(2, 2), bias=False)\n",
            "            (1): BatchNorm2d(256, eps=1e-05, momentum=0.1, affine=True, track_running_stats=True)\n",
            "          )\n",
            "        )\n",
            "        (1): BasicBlock(\n",
            "          (conv1): Conv2d(256, 256, kernel_size=(3, 3), stride=(1, 1), padding=(1, 1), bias=False)\n",
            "          (bn1): BatchNorm2d(256, eps=1e-05, momentum=0.1, affine=True, track_running_stats=True)\n",
            "          (relu): ReLU(inplace=True)\n",
            "          (conv2): Conv2d(256, 256, kernel_size=(3, 3), stride=(1, 1), padding=(1, 1), bias=False)\n",
            "          (bn2): BatchNorm2d(256, eps=1e-05, momentum=0.1, affine=True, track_running_stats=True)\n",
            "        )\n",
            "      )\n",
            "      (layer4): Sequential(\n",
            "        (0): BasicBlock(\n",
            "          (conv1): Conv2d(256, 512, kernel_size=(3, 3), stride=(2, 2), padding=(1, 1), bias=False)\n",
            "          (bn1): BatchNorm2d(512, eps=1e-05, momentum=0.1, affine=True, track_running_stats=True)\n",
            "          (relu): ReLU(inplace=True)\n",
            "          (conv2): Conv2d(512, 512, kernel_size=(3, 3), stride=(1, 1), padding=(1, 1), bias=False)\n",
            "          (bn2): BatchNorm2d(512, eps=1e-05, momentum=0.1, affine=True, track_running_stats=True)\n",
            "          (downsample): Sequential(\n",
            "            (0): Conv2d(256, 512, kernel_size=(1, 1), stride=(2, 2), bias=False)\n",
            "            (1): BatchNorm2d(512, eps=1e-05, momentum=0.1, affine=True, track_running_stats=True)\n",
            "          )\n",
            "        )\n",
            "        (1): BasicBlock(\n",
            "          (conv1): Conv2d(512, 512, kernel_size=(3, 3), stride=(1, 1), padding=(1, 1), bias=False)\n",
            "          (bn1): BatchNorm2d(512, eps=1e-05, momentum=0.1, affine=True, track_running_stats=True)\n",
            "          (relu): ReLU(inplace=True)\n",
            "          (conv2): Conv2d(512, 512, kernel_size=(3, 3), stride=(1, 1), padding=(1, 1), bias=False)\n",
            "          (bn2): BatchNorm2d(512, eps=1e-05, momentum=0.1, affine=True, track_running_stats=True)\n",
            "        )\n",
            "      )\n",
            "    )\n",
            "    (decoder): UnetDecoder(\n",
            "      (center): Identity()\n",
            "      (blocks): ModuleList(\n",
            "        (0): UnetDecoderBlock(\n",
            "          (conv1): Conv2dReLU(\n",
            "            (0): Conv2d(768, 256, kernel_size=(3, 3), stride=(1, 1), padding=(1, 1), bias=False)\n",
            "            (1): BatchNorm2d(256, eps=1e-05, momentum=0.1, affine=True, track_running_stats=True)\n",
            "            (2): ReLU(inplace=True)\n",
            "          )\n",
            "          (attention1): Attention(\n",
            "            (attention): Identity()\n",
            "          )\n",
            "          (conv2): Conv2dReLU(\n",
            "            (0): Conv2d(256, 256, kernel_size=(3, 3), stride=(1, 1), padding=(1, 1), bias=False)\n",
            "            (1): BatchNorm2d(256, eps=1e-05, momentum=0.1, affine=True, track_running_stats=True)\n",
            "            (2): ReLU(inplace=True)\n",
            "          )\n",
            "          (attention2): Attention(\n",
            "            (attention): Identity()\n",
            "          )\n",
            "        )\n",
            "        (1): UnetDecoderBlock(\n",
            "          (conv1): Conv2dReLU(\n",
            "            (0): Conv2d(384, 128, kernel_size=(3, 3), stride=(1, 1), padding=(1, 1), bias=False)\n",
            "            (1): BatchNorm2d(128, eps=1e-05, momentum=0.1, affine=True, track_running_stats=True)\n",
            "            (2): ReLU(inplace=True)\n",
            "          )\n",
            "          (attention1): Attention(\n",
            "            (attention): Identity()\n",
            "          )\n",
            "          (conv2): Conv2dReLU(\n",
            "            (0): Conv2d(128, 128, kernel_size=(3, 3), stride=(1, 1), padding=(1, 1), bias=False)\n",
            "            (1): BatchNorm2d(128, eps=1e-05, momentum=0.1, affine=True, track_running_stats=True)\n",
            "            (2): ReLU(inplace=True)\n",
            "          )\n",
            "          (attention2): Attention(\n",
            "            (attention): Identity()\n",
            "          )\n",
            "        )\n",
            "        (2): UnetDecoderBlock(\n",
            "          (conv1): Conv2dReLU(\n",
            "            (0): Conv2d(192, 64, kernel_size=(3, 3), stride=(1, 1), padding=(1, 1), bias=False)\n",
            "            (1): BatchNorm2d(64, eps=1e-05, momentum=0.1, affine=True, track_running_stats=True)\n",
            "            (2): ReLU(inplace=True)\n",
            "          )\n",
            "          (attention1): Attention(\n",
            "            (attention): Identity()\n",
            "          )\n",
            "          (conv2): Conv2dReLU(\n",
            "            (0): Conv2d(64, 64, kernel_size=(3, 3), stride=(1, 1), padding=(1, 1), bias=False)\n",
            "            (1): BatchNorm2d(64, eps=1e-05, momentum=0.1, affine=True, track_running_stats=True)\n",
            "            (2): ReLU(inplace=True)\n",
            "          )\n",
            "          (attention2): Attention(\n",
            "            (attention): Identity()\n",
            "          )\n",
            "        )\n",
            "        (3): UnetDecoderBlock(\n",
            "          (conv1): Conv2dReLU(\n",
            "            (0): Conv2d(128, 32, kernel_size=(3, 3), stride=(1, 1), padding=(1, 1), bias=False)\n",
            "            (1): BatchNorm2d(32, eps=1e-05, momentum=0.1, affine=True, track_running_stats=True)\n",
            "            (2): ReLU(inplace=True)\n",
            "          )\n",
            "          (attention1): Attention(\n",
            "            (attention): Identity()\n",
            "          )\n",
            "          (conv2): Conv2dReLU(\n",
            "            (0): Conv2d(32, 32, kernel_size=(3, 3), stride=(1, 1), padding=(1, 1), bias=False)\n",
            "            (1): BatchNorm2d(32, eps=1e-05, momentum=0.1, affine=True, track_running_stats=True)\n",
            "            (2): ReLU(inplace=True)\n",
            "          )\n",
            "          (attention2): Attention(\n",
            "            (attention): Identity()\n",
            "          )\n",
            "        )\n",
            "        (4): UnetDecoderBlock(\n",
            "          (conv1): Conv2dReLU(\n",
            "            (0): Conv2d(32, 16, kernel_size=(3, 3), stride=(1, 1), padding=(1, 1), bias=False)\n",
            "            (1): BatchNorm2d(16, eps=1e-05, momentum=0.1, affine=True, track_running_stats=True)\n",
            "            (2): ReLU(inplace=True)\n",
            "          )\n",
            "          (attention1): Attention(\n",
            "            (attention): Identity()\n",
            "          )\n",
            "          (conv2): Conv2dReLU(\n",
            "            (0): Conv2d(16, 16, kernel_size=(3, 3), stride=(1, 1), padding=(1, 1), bias=False)\n",
            "            (1): BatchNorm2d(16, eps=1e-05, momentum=0.1, affine=True, track_running_stats=True)\n",
            "            (2): ReLU(inplace=True)\n",
            "          )\n",
            "          (attention2): Attention(\n",
            "            (attention): Identity()\n",
            "          )\n",
            "        )\n",
            "      )\n",
            "    )\n",
            "    (segmentation_head): SegmentationHead(\n",
            "      (0): Conv2d(16, 1, kernel_size=(3, 3), stride=(1, 1), padding=(1, 1))\n",
            "      (1): Identity()\n",
            "      (2): Activation(\n",
            "        (activation): Identity()\n",
            "      )\n",
            "    )\n",
            "  )\n",
            "  (loss_fn): CABFL(\n",
            "    (boundaryLoss): SurfaceLossBinary()\n",
            "    (aufl): AsymmetricUnifiedFocalLoss()\n",
            "  )\n",
            "  (boundary_loss): SurfaceLossBinary()\n",
            "  (t_loss): CABFL(\n",
            "    (boundaryLoss): SurfaceLossBinary()\n",
            "    (aufl): AsymmetricUnifiedFocalLoss()\n",
            "  )\n",
            ")\n",
            "BreaDM-Be-1801\n"
          ]
        },
        {
          "name": "stderr",
          "output_type": "stream",
          "text": [
            "100%|██████████| 7/7 [00:00<00:00, 10.32it/s]\n"
          ]
        },
        {
          "name": "stdout",
          "output_type": "stream",
          "text": [
            "filtering\n",
            "num features: 2\n",
            "fine\n",
            "BreaDM-Be-1803\n"
          ]
        },
        {
          "name": "stderr",
          "output_type": "stream",
          "text": [
            "100%|██████████| 3/3 [00:00<00:00, 10.08it/s]\n"
          ]
        },
        {
          "name": "stdout",
          "output_type": "stream",
          "text": [
            "filtering\n",
            "num features: 1\n",
            "fine\n",
            "BreaDM-Be-1804\n"
          ]
        },
        {
          "name": "stderr",
          "output_type": "stream",
          "text": [
            "100%|██████████| 4/4 [00:00<00:00, 10.28it/s]\n"
          ]
        },
        {
          "name": "stdout",
          "output_type": "stream",
          "text": [
            "filtering\n",
            "num features: 1\n",
            "fine\n",
            "BreaDM-Be-1810\n"
          ]
        },
        {
          "name": "stderr",
          "output_type": "stream",
          "text": [
            "100%|██████████| 2/2 [00:00<00:00, 10.47it/s]\n"
          ]
        },
        {
          "name": "stdout",
          "output_type": "stream",
          "text": [
            "filtering\n",
            "num features: 2\n",
            "fine\n",
            "BreaDM-Be-1813\n"
          ]
        },
        {
          "name": "stderr",
          "output_type": "stream",
          "text": [
            "100%|██████████| 3/3 [00:00<00:00, 10.92it/s]\n"
          ]
        },
        {
          "name": "stdout",
          "output_type": "stream",
          "text": [
            "filtering\n",
            "num features: 1\n",
            "fine\n",
            "BreaDM-Be-1822\n"
          ]
        },
        {
          "name": "stderr",
          "output_type": "stream",
          "text": [
            "100%|██████████| 11/11 [00:01<00:00, 10.19it/s]\n"
          ]
        },
        {
          "name": "stdout",
          "output_type": "stream",
          "text": [
            "filtering\n",
            "num features: 3\n",
            "fine\n",
            "BreaDM-Be-1826\n"
          ]
        },
        {
          "name": "stderr",
          "output_type": "stream",
          "text": [
            "100%|██████████| 2/2 [00:00<00:00, 10.66it/s]\n"
          ]
        },
        {
          "name": "stdout",
          "output_type": "stream",
          "text": [
            "filtering\n",
            "num features: 0\n",
            "fine\n",
            "BreaDM-Be-1906\n"
          ]
        },
        {
          "name": "stderr",
          "output_type": "stream",
          "text": [
            "100%|██████████| 10/10 [00:00<00:00, 11.51it/s]\n"
          ]
        },
        {
          "name": "stdout",
          "output_type": "stream",
          "text": [
            "filtering\n",
            "num features: 2\n",
            "fine\n",
            "BreaDM-Be-1907\n"
          ]
        },
        {
          "name": "stderr",
          "output_type": "stream",
          "text": [
            "100%|██████████| 3/3 [00:00<00:00, 11.41it/s]\n"
          ]
        },
        {
          "name": "stdout",
          "output_type": "stream",
          "text": [
            "filtering\n",
            "num features: 2\n",
            "fine\n",
            "BreaDM-Be-1909\n"
          ]
        },
        {
          "name": "stderr",
          "output_type": "stream",
          "text": [
            "100%|██████████| 24/24 [00:02<00:00, 11.10it/s]\n"
          ]
        },
        {
          "name": "stdout",
          "output_type": "stream",
          "text": [
            "filtering\n",
            "num features: 12\n",
            "fine\n",
            "BreaDM-Be-1914\n"
          ]
        },
        {
          "name": "stderr",
          "output_type": "stream",
          "text": [
            "100%|██████████| 3/3 [00:00<00:00, 10.32it/s]\n"
          ]
        },
        {
          "name": "stdout",
          "output_type": "stream",
          "text": [
            "filtering\n",
            "num features: 1\n",
            "fine\n",
            "BreaDM-Be-2001\n"
          ]
        },
        {
          "name": "stderr",
          "output_type": "stream",
          "text": [
            "100%|██████████| 4/4 [00:00<00:00, 10.44it/s]\n"
          ]
        },
        {
          "name": "stdout",
          "output_type": "stream",
          "text": [
            "filtering\n",
            "num features: 1\n",
            "fine\n",
            "BreaDM-Be-2002\n"
          ]
        },
        {
          "name": "stderr",
          "output_type": "stream",
          "text": [
            "100%|██████████| 5/5 [00:00<00:00, 10.02it/s]\n"
          ]
        },
        {
          "name": "stdout",
          "output_type": "stream",
          "text": [
            "filtering\n",
            "num features: 1\n",
            "fine\n",
            "BreaDM-Be-2013\n"
          ]
        },
        {
          "name": "stderr",
          "output_type": "stream",
          "text": [
            "100%|██████████| 5/5 [00:00<00:00, 10.37it/s]\n"
          ]
        },
        {
          "name": "stdout",
          "output_type": "stream",
          "text": [
            "filtering\n",
            "num features: 0\n",
            "fine\n",
            "BreaDM-Be-2019\n"
          ]
        },
        {
          "name": "stderr",
          "output_type": "stream",
          "text": [
            "100%|██████████| 4/4 [00:00<00:00,  9.69it/s]\n"
          ]
        },
        {
          "name": "stdout",
          "output_type": "stream",
          "text": [
            "filtering\n",
            "num features: 1\n",
            "fine\n",
            "BreaDM-Be-2020\n"
          ]
        },
        {
          "name": "stderr",
          "output_type": "stream",
          "text": [
            "100%|██████████| 9/9 [00:00<00:00, 10.57it/s]\n"
          ]
        },
        {
          "name": "stdout",
          "output_type": "stream",
          "text": [
            "filtering\n",
            "num features: 3\n",
            "fine\n",
            "BreaDM-Be-2022\n"
          ]
        },
        {
          "name": "stderr",
          "output_type": "stream",
          "text": [
            "100%|██████████| 8/8 [00:00<00:00, 11.69it/s]\n"
          ]
        },
        {
          "name": "stdout",
          "output_type": "stream",
          "text": [
            "filtering\n",
            "num features: 7\n",
            "fine\n",
            "BreaDM-Be-2102\n"
          ]
        },
        {
          "name": "stderr",
          "output_type": "stream",
          "text": [
            "100%|██████████| 9/9 [00:00<00:00, 11.43it/s]\n"
          ]
        },
        {
          "name": "stdout",
          "output_type": "stream",
          "text": [
            "filtering\n",
            "num features: 5\n",
            "fine\n",
            "BreaDM-Be-2111\n"
          ]
        },
        {
          "name": "stderr",
          "output_type": "stream",
          "text": [
            "100%|██████████| 3/3 [00:00<00:00, 10.75it/s]\n"
          ]
        },
        {
          "name": "stdout",
          "output_type": "stream",
          "text": [
            "filtering\n",
            "num features: 1\n",
            "fine\n",
            "BreaDM-Be-2113\n"
          ]
        },
        {
          "name": "stderr",
          "output_type": "stream",
          "text": [
            "100%|██████████| 9/9 [00:00<00:00, 11.10it/s]\n"
          ]
        },
        {
          "name": "stdout",
          "output_type": "stream",
          "text": [
            "filtering\n",
            "num features: 4\n",
            "fine\n",
            "BreaDM-Ma-1801\n"
          ]
        },
        {
          "name": "stderr",
          "output_type": "stream",
          "text": [
            "100%|██████████| 5/5 [00:00<00:00, 10.36it/s]\n"
          ]
        },
        {
          "name": "stdout",
          "output_type": "stream",
          "text": [
            "filtering\n",
            "num features: 2\n",
            "fine\n",
            "BreaDM-Ma-1821\n"
          ]
        },
        {
          "name": "stderr",
          "output_type": "stream",
          "text": [
            "100%|██████████| 8/8 [00:00<00:00, 11.28it/s]\n"
          ]
        },
        {
          "name": "stdout",
          "output_type": "stream",
          "text": [
            "filtering\n",
            "num features: 4\n",
            "fine\n",
            "BreaDM-Ma-1824\n"
          ]
        },
        {
          "name": "stderr",
          "output_type": "stream",
          "text": [
            "100%|██████████| 5/5 [00:00<00:00, 10.81it/s]\n"
          ]
        },
        {
          "name": "stdout",
          "output_type": "stream",
          "text": [
            "filtering\n",
            "num features: 2\n",
            "fine\n",
            "BreaDM-Ma-1908\n"
          ]
        },
        {
          "name": "stderr",
          "output_type": "stream",
          "text": [
            "100%|██████████| 6/6 [00:00<00:00, 11.34it/s]\n"
          ]
        },
        {
          "name": "stdout",
          "output_type": "stream",
          "text": [
            "filtering\n",
            "num features: 1\n",
            "fine\n",
            "BreaDM-Ma-1909\n"
          ]
        },
        {
          "name": "stderr",
          "output_type": "stream",
          "text": [
            "100%|██████████| 3/3 [00:00<00:00, 11.90it/s]\n"
          ]
        },
        {
          "name": "stdout",
          "output_type": "stream",
          "text": [
            "filtering\n",
            "num features: 1\n",
            "fine\n",
            "BreaDM-Ma-1915\n"
          ]
        },
        {
          "name": "stderr",
          "output_type": "stream",
          "text": [
            "100%|██████████| 16/16 [00:01<00:00, 11.11it/s]\n"
          ]
        },
        {
          "name": "stdout",
          "output_type": "stream",
          "text": [
            "filtering\n",
            "num features: 3\n",
            "fine\n",
            "BreaDM-Ma-1916\n"
          ]
        },
        {
          "name": "stderr",
          "output_type": "stream",
          "text": [
            "100%|██████████| 8/8 [00:00<00:00, 10.48it/s]\n"
          ]
        },
        {
          "name": "stdout",
          "output_type": "stream",
          "text": [
            "filtering\n",
            "num features: 2\n",
            "fine\n",
            "BreaDM-Ma-1919\n"
          ]
        },
        {
          "name": "stderr",
          "output_type": "stream",
          "text": [
            "100%|██████████| 10/10 [00:00<00:00, 10.57it/s]\n"
          ]
        },
        {
          "name": "stdout",
          "output_type": "stream",
          "text": [
            "filtering\n",
            "num features: 2\n",
            "fine\n",
            "BreaDM-Ma-1921\n"
          ]
        },
        {
          "name": "stderr",
          "output_type": "stream",
          "text": [
            "100%|██████████| 5/5 [00:00<00:00,  9.58it/s]\n"
          ]
        },
        {
          "name": "stdout",
          "output_type": "stream",
          "text": [
            "filtering\n",
            "num features: 1\n",
            "fine\n",
            "BreaDM-Ma-1923\n"
          ]
        },
        {
          "name": "stderr",
          "output_type": "stream",
          "text": [
            "100%|██████████| 13/13 [00:01<00:00, 10.29it/s]\n"
          ]
        },
        {
          "name": "stdout",
          "output_type": "stream",
          "text": [
            "filtering\n",
            "num features: 4\n",
            "fine\n",
            "BreaDM-Ma-2007\n"
          ]
        },
        {
          "name": "stderr",
          "output_type": "stream",
          "text": [
            "100%|██████████| 15/15 [00:01<00:00, 11.15it/s]\n"
          ]
        },
        {
          "name": "stdout",
          "output_type": "stream",
          "text": [
            "filtering\n",
            "num features: 5\n",
            "fine\n",
            "BreaDM-Ma-2012\n"
          ]
        },
        {
          "name": "stderr",
          "output_type": "stream",
          "text": [
            "100%|██████████| 15/15 [00:01<00:00, 11.36it/s]\n"
          ]
        },
        {
          "name": "stdout",
          "output_type": "stream",
          "text": [
            "filtering\n",
            "num features: 14\n",
            "fine\n",
            "BreaDM-Ma-2026\n"
          ]
        },
        {
          "name": "stderr",
          "output_type": "stream",
          "text": [
            "100%|██████████| 12/12 [00:00<00:00, 12.19it/s]\n"
          ]
        },
        {
          "name": "stdout",
          "output_type": "stream",
          "text": [
            "filtering\n",
            "num features: 5\n",
            "fine\n",
            "BreaDM-Ma-2027\n"
          ]
        },
        {
          "name": "stderr",
          "output_type": "stream",
          "text": [
            "100%|██████████| 22/22 [00:01<00:00, 11.59it/s]\n"
          ]
        },
        {
          "name": "stdout",
          "output_type": "stream",
          "text": [
            "filtering\n",
            "num features: 3\n",
            "fine\n",
            "BreaDM-Ma-2038\n"
          ]
        },
        {
          "name": "stderr",
          "output_type": "stream",
          "text": [
            "100%|██████████| 2/2 [00:00<00:00, 10.70it/s]\n"
          ]
        },
        {
          "name": "stdout",
          "output_type": "stream",
          "text": [
            "filtering\n",
            "num features: 1\n",
            "fine\n",
            "BreaDM-Ma-2039\n"
          ]
        },
        {
          "name": "stderr",
          "output_type": "stream",
          "text": [
            "100%|██████████| 9/9 [00:00<00:00, 10.78it/s]\n"
          ]
        },
        {
          "name": "stdout",
          "output_type": "stream",
          "text": [
            "filtering\n",
            "num features: 1\n",
            "fine\n",
            "BreaDM-Ma-2043\n"
          ]
        },
        {
          "name": "stderr",
          "output_type": "stream",
          "text": [
            "100%|██████████| 11/11 [00:00<00:00, 11.43it/s]\n"
          ]
        },
        {
          "name": "stdout",
          "output_type": "stream",
          "text": [
            "filtering\n",
            "num features: 1\n",
            "fine\n",
            "BreaDM-Ma-2044\n"
          ]
        },
        {
          "name": "stderr",
          "output_type": "stream",
          "text": [
            "100%|██████████| 11/11 [00:00<00:00, 11.65it/s]\n"
          ]
        },
        {
          "name": "stdout",
          "output_type": "stream",
          "text": [
            "filtering\n",
            "num features: 3\n",
            "fine\n",
            "BreaDM-Ma-2107\n"
          ]
        },
        {
          "name": "stderr",
          "output_type": "stream",
          "text": [
            "100%|██████████| 13/13 [00:01<00:00, 11.78it/s]\n"
          ]
        },
        {
          "name": "stdout",
          "output_type": "stream",
          "text": [
            "filtering\n",
            "num features: 4\n",
            "fine\n",
            "BreaDM-Ma-2108\n"
          ]
        },
        {
          "name": "stderr",
          "output_type": "stream",
          "text": [
            "100%|██████████| 12/12 [00:01<00:00, 11.41it/s]\n"
          ]
        },
        {
          "name": "stdout",
          "output_type": "stream",
          "text": [
            "filtering\n",
            "num features: 1\n",
            "fine\n",
            "BreaDM-Ma-2109\n"
          ]
        },
        {
          "name": "stderr",
          "output_type": "stream",
          "text": [
            "100%|██████████| 5/5 [00:00<00:00, 11.61it/s]\n"
          ]
        },
        {
          "name": "stdout",
          "output_type": "stream",
          "text": [
            "filtering\n",
            "num features: 1\n",
            "fine\n",
            "BreaDM-Ma-2116\n"
          ]
        },
        {
          "name": "stderr",
          "output_type": "stream",
          "text": [
            "100%|██████████| 13/13 [00:01<00:00, 11.43it/s]\n"
          ]
        },
        {
          "name": "stdout",
          "output_type": "stream",
          "text": [
            "filtering\n",
            "num features: 7\n",
            "fine\n",
            "BreaDM-Ma-2118\n"
          ]
        },
        {
          "name": "stderr",
          "output_type": "stream",
          "text": [
            "100%|██████████| 11/11 [00:00<00:00, 11.21it/s]\n"
          ]
        },
        {
          "name": "stdout",
          "output_type": "stream",
          "text": [
            "filtering\n",
            "num features: 2\n",
            "fine\n",
            "BreaDM-Ma-2122\n"
          ]
        },
        {
          "name": "stderr",
          "output_type": "stream",
          "text": [
            "100%|██████████| 5/5 [00:00<00:00, 11.64it/s]\n"
          ]
        },
        {
          "name": "stdout",
          "output_type": "stream",
          "text": [
            "filtering\n",
            "num features: 4\n",
            "fine\n",
            "BreaDM-Ma-2125\n"
          ]
        },
        {
          "name": "stderr",
          "output_type": "stream",
          "text": [
            "100%|██████████| 6/6 [00:00<00:00, 11.60it/s]\n"
          ]
        },
        {
          "name": "stdout",
          "output_type": "stream",
          "text": [
            "filtering\n",
            "num features: 1\n",
            "fine\n",
            "BreaDM-Ma-2126\n"
          ]
        },
        {
          "name": "stderr",
          "output_type": "stream",
          "text": [
            "100%|██████████| 7/7 [00:00<00:00, 11.68it/s]\n"
          ]
        },
        {
          "name": "stdout",
          "output_type": "stream",
          "text": [
            "filtering\n",
            "num features: 1\n",
            "fine\n",
            "BreaDM-Ma-2131\n"
          ]
        },
        {
          "name": "stderr",
          "output_type": "stream",
          "text": [
            "100%|██████████| 15/15 [00:01<00:00, 10.90it/s]\n"
          ]
        },
        {
          "name": "stdout",
          "output_type": "stream",
          "text": [
            "filtering\n",
            "num features: 9\n",
            "fine\n",
            "BreaDM-Ma-2134\n"
          ]
        },
        {
          "name": "stderr",
          "output_type": "stream",
          "text": [
            "100%|██████████| 10/10 [00:00<00:00, 11.53it/s]\n"
          ]
        },
        {
          "name": "stdout",
          "output_type": "stream",
          "text": [
            "filtering\n",
            "num features: 3\n",
            "fine\n",
            "BreaDM-Ma-2140\n"
          ]
        },
        {
          "name": "stderr",
          "output_type": "stream",
          "text": [
            "100%|██████████| 11/11 [00:00<00:00, 11.78it/s]\n"
          ]
        },
        {
          "name": "stdout",
          "output_type": "stream",
          "text": [
            "filtering\n",
            "num features: 5\n",
            "fine\n",
            "BreaDM-Ma-2141\n"
          ]
        },
        {
          "name": "stderr",
          "output_type": "stream",
          "text": [
            "100%|██████████| 5/5 [00:00<00:00, 11.18it/s]"
          ]
        },
        {
          "name": "stdout",
          "output_type": "stream",
          "text": [
            "filtering\n",
            "num features: 1\n",
            "fine\n",
            "MODEL CLASS MEAN IOU  0.85927695\n",
            "MODEL CLASS STD IOU  0.14805521\n",
            "\n",
            "MODEL CLASS MEAN DICE  0.8921495\n",
            "MODEL CLASS STD DICE  0.15310338\n",
            "\n",
            "MODEL DIOU 0.882494004796163\n",
            "MODEL DIOU STD  0.32202226055816824\n",
            "\n",
            "MODEL IOU MASS VOLUME  0.7192621231079102\n",
            "MODEL IOU MASS VOLUME STD  0.2957112193107605\n",
            "\n",
            "MODEL IOU MASS VOLUME NO EMPTY  0.7192621231079102\n",
            "MODEL IOU MASS VOLUME NO EMPTY STD  0.2953564524650574\n",
            "\n",
            "MODEL IOU MASS VOLUME NO EMPTY OPTIMISTIC  0.7192621231079102\n",
            "MODEL IOU MASS VOLUME NO EMPTY OPTIMISTIC STD  0.2953564524650574\n",
            "MODEL DICE MASS VOLUME  0.7846537232398987\n",
            "MODEL DICE MASS VOLUME STD  0.3058459162712097\n",
            "\n",
            "MODEL DICE MASS VOLUME NO EMPTY  0.7846537232398987\n",
            "MODEL DICE MASS VOLUME NO EMPTY STD  0.3058459162712097\n",
            "\n",
            "MODEL DICE MASS VOLUME NO EMPTY OPTIMISTIC  0.7846537232398987\n",
            "MODEL DICE MASS VOLUME NO EMPTY OPTIMISTIC STD  0.3058459162712097\n",
            "\n",
            "MODEL MEAN ACCURACY NO EMPTY 0.8592770397663116\n",
            "MODEL MEAN ACCURACY NO EMPTY STD 0.14840312\n",
            "\n",
            "MODEL MEAN PRECISION NO EMPTY 0.9271255135536194\n",
            "MODEL MEAN PRECISION NO EMPTY STD 0.07621384\n",
            "\n",
            "MODEL MEAN RECALL NO EMPTY 0.9117538332939148\n",
            "MODEL MEAN RECALL NO EMPTY STD 0.15979326\n",
            "\n",
            "MODEL MEAN F1 NO EMPTY 0.8921495\n",
            "MODEL MEAN F1 NO EMPTY STD 0.15310338\n",
            "\n",
            "MODEL ACCURACY EXCLUDING CASES  0.9992932081222534\n",
            "MODEL ACCURACY EXCLUDING CASES STD  0.0014480379\n",
            "\n",
            "MODEL PRECISION EXCLUDING CASES  0.8546577095985413\n",
            "MODEL PRECISION EXCLUDING CASES STD  0.15135318\n",
            "\n",
            "MODEL RECALL EXCLUDING CASES  0.8238099217414856\n",
            "MODEL RECALL EXCLUDING CASES STD  0.31899843\n",
            "\n",
            "MODEL ACCURACY NO EMPTY  0.7192621231079102\n",
            "MODEL ACCURACY NO EMPTY STD  0.29535645\n",
            "\n",
            "MODEL PRECISION NO EMPTY 0.8546577095985413\n",
            "MODEL PRECISION NO EMPTY STD  0.15135318\n",
            "\n",
            "MODEL RECALL NO EMPTY  0.8238099217414856\n",
            "MODEL RECALL NO EMPTY STD  0.31899843\n",
            "\n",
            "MODEL F1 NO EMPTY  0.7846537232398987\n",
            "MODEL F1 NO EMPTY STD  0.30584592\n",
            "\n",
            "\n",
            "VENUS Tiny + ResNet18 patches (filtered) Results:\n",
            "None\n",
            "\n",
            "Completed 0 ensemble model tests.\n"
          ]
        },
        {
          "name": "stderr",
          "output_type": "stream",
          "text": [
            "\n"
          ]
        }
      ],
      "source": [
        "\n",
        "ensemble_tests = [\n",
        "    ('venus_tiny', 'unetplusplus_patches', False, 16, 'VENUS Tiny + UNet++ patches'),\n",
        "    ('venus_tiny', 'unetplusplus_patches', True, 16, 'VENUS Tiny + UNet++ patches (filtered)'),\n",
        "    \n",
        "    ('venus_tiny', 'resnet18_patches', False, 16, 'VENUS Tiny + ResNet18 patches'),\n",
        "    ('venus_tiny', 'resnet18_patches', True, 16, 'VENUS Tiny + ResNet18 patches (filtered)'),\n",
        "]\n",
        "\n",
        "ensemble_results = {}\n",
        "for whole_key, patches_key, use_filter, base_channels, description in ensemble_tests:\n",
        "    if os.path.exists(model_paths[whole_key]) and os.path.exists(model_paths[patches_key]):\n",
        "        print(f\"Testing Ensemble: {description}...\")\n",
        "        \n",
        "        result = test_dataset_aware_ensemble(\n",
        "            model_whole_path=model_paths[whole_key],\n",
        "            model_patches_path=model_paths[patches_key],\n",
        "            patient_ids=x_test,\n",
        "            datasets=datasets,\n",
        "            whole_dataset_key=\"no_thorax_sub_test_ds\",\n",
        "            patches_dataset_key=\"patches_sub_test_ds\",\n",
        "            filter=use_filter,\n",
        "            get_scores_for_statistics=False,\n",
        "            get_only_masses=False,\n",
        "            subtracted=True,\n",
        "            base_channels=base_channels,\n",
        "            strict = False\n",
        "        )\n",
        "        \n",
        "        ensemble_key = f\"{whole_key}+{patches_key}{'_filtered' if use_filter else ''}\"\n",
        "        ensemble_results[ensemble_key] = result\n",
        "        print(f\"\\n{description} Results:\")\n",
        "        pp.pprint(result)\n",
        "    else:\n",
        "        print(f\"Required models not found for ensemble: {description}\")\n",
        "        ensemble_key = f\"{whole_key}+{patches_key}{'_filtered' if use_filter else ''}\"\n",
        "        ensemble_results[ensemble_key] = None\n",
        "\n",
        "print(f\"\\nCompleted {len([r for r in ensemble_results.values() if r is not None])} ensemble model tests.\")\n"
      ]
    },
    {
      "cell_type": "markdown",
      "metadata": {},
      "source": []
    }
  ],
  "metadata": {
    "kernelspec": {
      "display_name": "venus-nCPuPPcI-py3.9",
      "language": "python",
      "name": "python3"
    },
    "language_info": {
      "codemirror_mode": {
        "name": "ipython",
        "version": 3
      },
      "file_extension": ".py",
      "mimetype": "text/x-python",
      "name": "python",
      "nbconvert_exporter": "python",
      "pygments_lexer": "ipython3",
      "version": "3.9.19"
    }
  },
  "nbformat": 4,
  "nbformat_minor": 2
}
