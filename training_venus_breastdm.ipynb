{
  "cells": [
    {
      "cell_type": "markdown",
      "metadata": {},
      "source": [
        "# VENUS FUSION TRAINING NOTEBOOK\n",
        "\n",
        "This notebook implements fusion-based breast segmentation using the VENUS model with multi-scale patch processing.\n"
      ]
    },
    {
      "cell_type": "markdown",
      "metadata": {},
      "source": [
        "## 1. Installs & Imports\n"
      ]
    },
    {
      "cell_type": "code",
      "execution_count": 2,
      "metadata": {},
      "outputs": [
        {
          "name": "stdout",
          "output_type": "stream",
          "text": [
            "MONAI version: 1.6.dev2535\n",
            "Numpy version: 2.0.2\n",
            "Pytorch version: 2.5.1+cu121\n",
            "MONAI flags: HAS_EXT = False, USE_COMPILED = False, USE_META_DICT = False\n",
            "MONAI rev id: 8e677816bfd1fb2ec541d7f951db4caaf210b150\n",
            "MONAI __file__: c:\\Users\\<username>\\AppData\\Local\\pypoetry\\Cache\\virtualenvs\\venus-nCPuPPcI-py3.9\\lib\\site-packages\\monai\\__init__.py\n",
            "\n",
            "Optional dependencies:\n",
            "Pytorch Ignite version: 0.4.11\n",
            "ITK version: NOT INSTALLED or UNKNOWN VERSION.\n",
            "Nibabel version: 5.3.2\n",
            "scikit-image version: 0.24.0\n",
            "scipy version: 1.13.1\n",
            "Pillow version: 11.3.0\n",
            "Tensorboard version: NOT INSTALLED or UNKNOWN VERSION.\n",
            "gdown version: 5.2.0\n",
            "TorchVision version: 0.20.1+cu121\n",
            "tqdm version: 4.67.1\n",
            "lmdb version: NOT INSTALLED or UNKNOWN VERSION.\n",
            "psutil version: 7.0.0\n",
            "pandas version: NOT INSTALLED or UNKNOWN VERSION.\n",
            "einops version: 0.8.1\n",
            "transformers version: NOT INSTALLED or UNKNOWN VERSION.\n",
            "mlflow version: NOT INSTALLED or UNKNOWN VERSION.\n",
            "pynrrd version: NOT INSTALLED or UNKNOWN VERSION.\n",
            "clearml version: NOT INSTALLED or UNKNOWN VERSION.\n",
            "\n",
            "For details about installing the optional dependencies, please visit:\n",
            "    https://docs.monai.io/en/latest/installation.html#installing-the-recommended-dependencies\n",
            "\n"
          ]
        }
      ],
      "source": [
        "# Standard libraries\n",
        "import os\n",
        "import json\n",
        "import glob\n",
        "import shutil\n",
        "import tempfile\n",
        "import random\n",
        "import warnings\n",
        "import pprint\n",
        "import copy\n",
        "pp = pprint.PrettyPrinter(indent=4)\n",
        "\n",
        "# Third-party libraries\n",
        "import torch\n",
        "import numpy as np\n",
        "import matplotlib.pyplot as plt\n",
        "import cv2\n",
        "import nibabel as nib\n",
        "import albumentations as A\n",
        "import segmentation_models_pytorch as smp\n",
        "import torch.nn as nn\n",
        "import torch.nn.functional as F\n",
        "from skimage import filters\n",
        "from skimage.measure import label as label_fn, regionprops\n",
        "from skimage import morphology\n",
        "from sklearn.model_selection import train_test_split\n",
        "from copy import deepcopy\n",
        "from tqdm.notebook import tqdm\n",
        "\n",
        "# MONAI related imports\n",
        "from monai.config import print_config\n",
        "from monai.networks.nets import UNet, SwinUNETR, BasicUNetPlusPlus\n",
        "from monai.networks.layers import Norm\n",
        "from monai.metrics import DiceMetric\n",
        "from monai.losses import DiceLoss, DiceCELoss\n",
        "from monai.inferers import sliding_window_inference\n",
        "from monai.data import CacheDataset, DataLoader, Dataset, decollate_batch\n",
        "from monai.transforms import (\n",
        "    AsDiscrete, AsDiscreted, EnsureChannelFirstd, Compose, CropForegroundd,\n",
        "    LoadImaged, Orientationd, RandCropByPosNegLabeld, SaveImaged, ScaleIntensityRanged,\n",
        "    Spacingd, Invertd, ResizeWithPadOrCropd, Resized, MapTransform, ScaleIntensityd,\n",
        "    LabelToContourd, ForegroundMaskd, HistogramNormalized, RandFlipd, RandGridDistortiond,\n",
        "    RandHistogramShiftd, RandRotated\n",
        ")\n",
        "from monai.handlers.utils import from_engine\n",
        "from monai.utils.type_conversion import convert_to_numpy\n",
        "\n",
        "# PyTorch Lightning related imports\n",
        "import lightning.pytorch as L\n",
        "from lightning.pytorch.callbacks.early_stopping import EarlyStopping\n",
        "from lightning.pytorch.callbacks.model_checkpoint import ModelCheckpoint\n",
        "from lightning.pytorch import seed_everything\n",
        "\n",
        "from natsort import natsorted, ns\n",
        "from PIL import Image\n",
        "from numpy import einsum\n",
        "from torch.utils.data import default_collate\n",
        "import psutil\n",
        "from typing import List, Tuple\n",
        "import monai\n",
        "\n",
        "# Import modules\n",
        "from breast_segmentation.config.settings import config\n",
        "from breast_segmentation.utils.seed import set_deterministic_mode, seed_worker, reseed\n",
        "from breast_segmentation.data.dataset import (\n",
        "    get_image_label_files, create_data_dicts,\n",
        "    PairedDataset, PairedDataLoader\n",
        ")\n",
        "from breast_segmentation.data import custom_collate_no_patches, custom_collate\n",
        "from breast_segmentation.transforms.compose import Preprocess\n",
        "from breast_segmentation.models.fusion_module import BreastFusionModel\n",
        "from breast_segmentation.models.lightning_module import BreastSegmentationModel\n",
        "from breast_segmentation.models.architectures import get_model, VENUS\n",
        "from breast_segmentation.metrics.losses import (\n",
        "    get_loss_function, CrossEntropy2d, compute_class_weight, \n",
        "    AsymmetricUnifiedFocalLoss, CABFL\n",
        ")\n",
        "\n",
        "# Set precision for matmul operations and print MONAI config\n",
        "torch.set_float32_matmul_precision('medium')\n",
        "print_config()\n",
        "\n",
        "# Define converter function to avoid pickling issues with lambda\n",
        "def convert_to_grayscale(image):\n",
        "    \"\"\"Convert PIL image to grayscale - replaces lambda for pickling compatibility.\"\"\"\n",
        "    return image.convert(\"L\")\n"
      ]
    },
    {
      "cell_type": "markdown",
      "metadata": {},
      "source": [
        "## 2. Environment Setup\n"
      ]
    },
    {
      "cell_type": "code",
      "execution_count": 8,
      "metadata": {},
      "outputs": [
        {
          "name": "stderr",
          "output_type": "stream",
          "text": [
            "Seed set to 200\n"
          ]
        },
        {
          "name": "stdout",
          "output_type": "stream",
          "text": [
            "Using random seed 200...\n",
            "Batch size: 16\n",
            "Number of workers: 24\n",
            "Checkpoints directory: checkpoints\n",
            "CUDA available: True\n",
            "Device: NVIDIA GeForce RTX 3060\n"
          ]
        }
      ],
      "source": [
        "# Configuration\n",
        "batch_size = 16\n",
        "num_workers = os.cpu_count()  # Use multiprocessing for faster data loading\n",
        "checkpoints_dir = config.CHECKPOINTS_DIR\n",
        "get_boundaryloss = True\n",
        "\n",
        "# Ensure checkpoints directory exists\n",
        "os.makedirs(checkpoints_dir, exist_ok=True)\n",
        "\n",
        "# Set random seed for reproducibility\n",
        "g = set_deterministic_mode(config.SEED)\n",
        "\n",
        "print(f\"Batch size: {batch_size}\")\n",
        "print(f\"Number of workers: {num_workers}\")\n",
        "print(f\"Checkpoints directory: {checkpoints_dir}\")\n",
        "print(f\"CUDA available: {torch.cuda.is_available()}\")\n",
        "if torch.cuda.is_available():\n",
        "    print(f\"Device: {torch.cuda.get_device_name()}\")\n"
      ]
    },
    {
      "cell_type": "markdown",
      "metadata": {},
      "source": [
        "## 3. Data Preparation\n"
      ]
    },
    {
      "cell_type": "code",
      "execution_count": 9,
      "metadata": {},
      "outputs": [
        {
          "name": "stdout",
          "output_type": "stream",
          "text": [
            "Dataset statistics:\n",
            "  Training samples: 1202\n",
            "  Validation samples: 117\n",
            "  Test samples: 417\n"
          ]
        }
      ],
      "source": [
        "# Get image and label files\n",
        "dataset_base_path = \"BreaDM/seg\"\n",
        "image_type = \"VIBRANT+C2\"\n",
        "\n",
        "train_images, train_labels = get_image_label_files(\n",
        "    dataset_base_path, \"train\", image_type\n",
        ")\n",
        "val_images, val_labels = get_image_label_files(\n",
        "    dataset_base_path, \"val\", image_type\n",
        ")\n",
        "test_images, test_labels = get_image_label_files(\n",
        "    dataset_base_path, \"test\", image_type\n",
        ")\n",
        "\n",
        "# Create data dictionaries\n",
        "train_dicts = create_data_dicts(train_images, train_labels)\n",
        "val_dicts = create_data_dicts(val_images, val_labels)\n",
        "test_dicts = create_data_dicts(test_images, test_labels)\n",
        "\n",
        "print(f\"Dataset statistics:\")\n",
        "print(f\"  Training samples: {len(train_dicts)}\")\n",
        "print(f\"  Validation samples: {len(val_dicts)}\")\n",
        "print(f\"  Test samples: {len(test_dicts)}\")\n"
      ]
    },
    {
      "cell_type": "markdown",
      "metadata": {},
      "source": [
        "## 4. Data Preprocessing and Dataset Creation\n"
      ]
    },
    {
      "cell_type": "code",
      "execution_count": 10,
      "metadata": {},
      "outputs": [
        {
          "name": "stdout",
          "output_type": "stream",
          "text": [
            "Will calculate normalization statistics from data...\n"
          ]
        }
      ],
      "source": [
        "# Define subtracted images path prefixes\n",
        "sub_third_images_path_prefixes = (\"VIBRANT+C2\", \"SUB2\")\n",
        "\n",
        "print(\"Will calculate normalization statistics from data...\")"
      ]
    },
    {
      "cell_type": "code",
      "execution_count": 11,
      "metadata": {},
      "outputs": [
        {
          "name": "stdout",
          "output_type": "stream",
          "text": [
            "Creating statistics dataset for global data...\n"
          ]
        }
      ],
      "source": [
        "# Calculate mean and std for global (no patches) data\n",
        "statistics_transforms_no_thorax_third_sub = Compose([\n",
        "    LoadImaged(\n",
        "        keys=[\"image\", \"label\"], \n",
        "        image_only=False, \n",
        "        reader=monai.data.PILReader(converter=convert_to_grayscale)\n",
        "    ),\n",
        "    EnsureChannelFirstd(keys=[\"image\", \"label\"]),\n",
        "    monai.transforms.Rotate90d(keys=[\"image\", \"label\"]),\n",
        "    Preprocess(\n",
        "        keys=None, \n",
        "        mode='statistics',  \n",
        "        dataset=\"BREADM\", \n",
        "        subtracted_images_path_prefixes=sub_third_images_path_prefixes, \n",
        "        get_patches=False,\n",
        "        get_boundaryloss=False\n",
        "    )\n",
        "])\n",
        "\n",
        "print(\"Creating statistics dataset for global data...\")"
      ]
    },
    {
      "cell_type": "code",
      "execution_count": 12,
      "metadata": {},
      "outputs": [
        {
          "name": "stderr",
          "output_type": "stream",
          "text": [
            "Loading dataset: 100%|██████████| 1202/1202 [00:42<00:00, 27.96it/s]"
          ]
        },
        {
          "name": "stdout",
          "output_type": "stream",
          "text": [
            "Statistics dataset and loader created for global data\n"
          ]
        },
        {
          "name": "stderr",
          "output_type": "stream",
          "text": [
            "\n"
          ]
        }
      ],
      "source": [
        "# Create statistics dataset and loader for global data\n",
        "statistics_ds_no_thorax_third_sub = CacheDataset(\n",
        "    data=train_dicts, \n",
        "    transform=statistics_transforms_no_thorax_third_sub,\n",
        "    num_workers=num_workers\n",
        ")\n",
        "\n",
        "statistics_loader_no_thorax_third_sub = DataLoader(\n",
        "    statistics_ds_no_thorax_third_sub, \n",
        "    batch_size=batch_size, \n",
        "    worker_init_fn=seed_worker,\n",
        "    generator=g, \n",
        "    shuffle=False, \n",
        "    drop_last=False\n",
        ")\n",
        "\n",
        "print(\"Statistics dataset and loader created for global data\")\n"
      ]
    },
    {
      "cell_type": "code",
      "execution_count": 13,
      "metadata": {},
      "outputs": [
        {
          "name": "stdout",
          "output_type": "stream",
          "text": [
            "Calculating mean and std for global data...\n"
          ]
        },
        {
          "data": {
            "application/vnd.jupyter.widget-view+json": {
              "model_id": "46fda554b50b4322864cdeeb2e6005fc",
              "version_major": 2,
              "version_minor": 0
            },
            "text/plain": [
              "  0%|          | 0/76 [00:00<?, ?it/s]"
            ]
          },
          "metadata": {},
          "output_type": "display_data"
        },
        {
          "name": "stdout",
          "output_type": "stream",
          "text": [
            "Mean: 10.217766761779785, Standard Deviation: 26.677101135253906\n",
            "Calculated - Global Mean: 10.217766761779785, Global Std: 26.677101135253906\n"
          ]
        }
      ],
      "source": [
        "# Calculate mean and std for global data\n",
        "def get_mean_std_dataloader(dataloader, masked=False):\n",
        "    \"\"\"Calculate mean and std from dataloader.\"\"\"\n",
        "    sum_of_images = 0.0\n",
        "    sum_of_squares = 0.0\n",
        "    num_pixels = 0\n",
        "\n",
        "    for batch in tqdm(dataloader):\n",
        "        if batch is not None:\n",
        "            image = batch[\"image\"]\n",
        "      \n",
        "            if masked:\n",
        "                mask = image > 0.0\n",
        "                image = image[mask]\n",
        "      \n",
        "            sum_of_images += image.sum()\n",
        "            sum_of_squares += (image ** 2).sum()\n",
        "            num_pixels += image.numel()\n",
        "        else:\n",
        "            print(\"none batch\")\n",
        "    \n",
        "    mean = sum_of_images / num_pixels\n",
        "    std_dev = (sum_of_squares / num_pixels - mean ** 2) ** 0.5\n",
        "\n",
        "    print(f'Mean: {mean}, Standard Deviation: {std_dev}')\n",
        "    return mean.item(), std_dev.item()\n",
        "\n",
        "print(\"Calculating mean and std for global data...\")\n",
        "mean_no_thorax_third_sub_calc, std_no_thorax_third_sub_calc = get_mean_std_dataloader(statistics_loader_no_thorax_third_sub)\n",
        "print(f\"Calculated - Global Mean: {mean_no_thorax_third_sub_calc}, Global Std: {std_no_thorax_third_sub_calc}\")"
      ]
    },
    {
      "cell_type": "code",
      "execution_count": 15,
      "metadata": {},
      "outputs": [],
      "source": [
        "# Use pre-computed values\n",
        "mean_no_thorax_third_sub, std_no_thorax_third_sub = 10.217766761779785, 26.677101135253906"
      ]
    },
    {
      "cell_type": "code",
      "execution_count": 16,
      "metadata": {},
      "outputs": [
        {
          "name": "stdout",
          "output_type": "stream",
          "text": [
            "Creating statistics dataset for patches data...\n"
          ]
        }
      ],
      "source": [
        "# Calculate mean and std for patches data\n",
        "statistics_transforms_patches_sub = Compose([\n",
        "    LoadImaged(\n",
        "        keys=[\"image\", \"label\"], \n",
        "        image_only=False, \n",
        "        reader=monai.data.PILReader(converter=convert_to_grayscale)\n",
        "    ),\n",
        "    EnsureChannelFirstd(keys=[\"image\", \"label\"]),\n",
        "    monai.transforms.Rotate90d(keys=[\"image\", \"label\"]),\n",
        "    Preprocess(\n",
        "        keys=None, \n",
        "        mode='statistics', \n",
        "        dataset=\"BREADM\", \n",
        "        subtracted_images_path_prefixes=sub_third_images_path_prefixes, \n",
        "        get_patches=True,\n",
        "        get_boundaryloss=False\n",
        "    )\n",
        "])\n",
        "\n",
        "print(\"Creating statistics dataset for patches data...\")\n"
      ]
    },
    {
      "cell_type": "code",
      "execution_count": 17,
      "metadata": {},
      "outputs": [
        {
          "name": "stderr",
          "output_type": "stream",
          "text": [
            "Loading dataset: 100%|██████████| 1202/1202 [02:03<00:00,  9.71it/s]"
          ]
        },
        {
          "name": "stdout",
          "output_type": "stream",
          "text": [
            "Calculating mean and std for patches data...\n"
          ]
        },
        {
          "name": "stderr",
          "output_type": "stream",
          "text": [
            "\n"
          ]
        },
        {
          "data": {
            "application/vnd.jupyter.widget-view+json": {
              "model_id": "d2c918f6786d4e17975bebd9a1ea56c5",
              "version_major": 2,
              "version_minor": 0
            },
            "text/plain": [
              "  0%|          | 0/76 [00:00<?, ?it/s]"
            ]
          },
          "metadata": {},
          "output_type": "display_data"
        },
        {
          "name": "stdout",
          "output_type": "stream",
          "text": [
            "Mean: 20.630815505981445, Standard Deviation: 35.328887939453125\n",
            "Calculated - Patches Mean: 20.630815505981445, Patches Std: 35.328887939453125\n"
          ]
        }
      ],
      "source": [
        "statistics_ds_patches_sub = CacheDataset(\n",
        "     data=train_dicts, \n",
        "     transform=statistics_transforms_patches_sub,\n",
        "     num_workers=num_workers\n",
        " )\n",
        "\n",
        "statistics_loader_patches_sub = DataLoader(\n",
        "     statistics_ds_patches_sub, \n",
        "     batch_size=batch_size, \n",
        "     worker_init_fn=seed_worker,\n",
        "     generator=g, \n",
        "     shuffle=False, \n",
        "     drop_last=False\n",
        " )\n",
        "\n",
        "print(\"Calculating mean and std for patches data...\")\n",
        "mean_patches_sub_calc, std_patches_sub_calc = get_mean_std_dataloader(statistics_loader_patches_sub)\n",
        "print(f\"Calculated - Patches Mean: {mean_patches_sub_calc}, Patches Std: {std_patches_sub_calc}\")"
      ]
    },
    {
      "cell_type": "code",
      "execution_count": 18,
      "metadata": {},
      "outputs": [],
      "source": [
        "mean_patches_sub, std_patches_sub = 20.63081550598144, 35.328887939453125"
      ]
    },
    {
      "cell_type": "code",
      "execution_count": 19,
      "metadata": {},
      "outputs": [
        {
          "name": "stdout",
          "output_type": "stream",
          "text": [
            "Final transforms created using calculated statistics\n"
          ]
        }
      ],
      "source": [
        "# Create final transforms using calculated statistics\n",
        "test_transforms_no_thorax_third_sub = Compose([\n",
        "    LoadImaged(\n",
        "        keys=[\"image\", \"label\"], \n",
        "        image_only=False, \n",
        "        reader=monai.data.PILReader(converter=convert_to_grayscale)\n",
        "    ),\n",
        "    EnsureChannelFirstd(keys=[\"image\", \"label\"]),\n",
        "    monai.transforms.Rotate90d(keys=[\"image\", \"label\"]),\n",
        "    Preprocess(\n",
        "        keys=None, \n",
        "        mode='test',  \n",
        "        dataset=\"BREADM\", \n",
        "        subtracted_images_path_prefixes=sub_third_images_path_prefixes, \n",
        "        subtrahend=mean_no_thorax_third_sub, \n",
        "        divisor=std_no_thorax_third_sub, \n",
        "        get_patches=False,\n",
        "        get_boundaryloss=get_boundaryloss\n",
        "    )\n",
        "])\n",
        "\n",
        "train_transforms_no_thorax_third_sub = Compose([\n",
        "    LoadImaged(\n",
        "        keys=[\"image\", \"label\"], \n",
        "        image_only=False, \n",
        "        reader=monai.data.PILReader(converter=convert_to_grayscale)\n",
        "    ),\n",
        "    EnsureChannelFirstd(keys=[\"image\", \"label\"]),\n",
        "    monai.transforms.Rotate90d(keys=[\"image\", \"label\"]),\n",
        "    Preprocess(\n",
        "        keys=None, \n",
        "        mode='train', \n",
        "        dataset=\"BREADM\", \n",
        "        subtracted_images_path_prefixes=sub_third_images_path_prefixes, \n",
        "        subtrahend=mean_no_thorax_third_sub, \n",
        "        divisor=std_no_thorax_third_sub, \n",
        "        get_patches=False,\n",
        "        get_boundaryloss=get_boundaryloss\n",
        "    )\n",
        "])\n",
        "\n",
        "# Create transforms for patches data\n",
        "train_transforms_patches_sub = Compose([\n",
        "    LoadImaged(\n",
        "        keys=[\"image\", \"label\"], \n",
        "        image_only=False, \n",
        "        reader=monai.data.PILReader(converter=convert_to_grayscale)\n",
        "    ),\n",
        "    EnsureChannelFirstd(keys=[\"image\", \"label\"]),\n",
        "    monai.transforms.Rotate90d(keys=[\"image\", \"label\"]),\n",
        "    Preprocess(\n",
        "        keys=None, \n",
        "        mode='train', \n",
        "        dataset=\"BREADM\", \n",
        "        subtracted_images_path_prefixes=sub_third_images_path_prefixes, \n",
        "        subtrahend=mean_patches_sub, \n",
        "        divisor=std_patches_sub, \n",
        "        get_patches=True,\n",
        "        get_boundaryloss=get_boundaryloss\n",
        "    )\n",
        "])\n",
        "\n",
        "test_transforms_patches_sub = Compose([\n",
        "    LoadImaged(\n",
        "        keys=[\"image\", \"label\"], \n",
        "        image_only=False, \n",
        "        reader=monai.data.PILReader(converter=convert_to_grayscale)\n",
        "    ),\n",
        "    EnsureChannelFirstd(keys=[\"image\", \"label\"]),\n",
        "    monai.transforms.Rotate90d(keys=[\"image\", \"label\"]),\n",
        "    Preprocess(\n",
        "        keys=None, \n",
        "        mode='test',  \n",
        "        dataset=\"BREADM\", \n",
        "        subtracted_images_path_prefixes=sub_third_images_path_prefixes, \n",
        "        subtrahend=mean_patches_sub, \n",
        "        divisor=std_patches_sub, \n",
        "        get_patches=True,\n",
        "        get_boundaryloss=get_boundaryloss\n",
        "    )\n",
        "])\n",
        "\n",
        "print(\"Final transforms created using calculated statistics\")\n"
      ]
    },
    {
      "cell_type": "code",
      "execution_count": 20,
      "metadata": {},
      "outputs": [
        {
          "name": "stderr",
          "output_type": "stream",
          "text": [
            "Loading dataset: 100%|██████████| 1202/1202 [00:48<00:00, 24.94it/s]\n",
            "Loading dataset: 100%|██████████| 117/117 [00:04<00:00, 23.58it/s]\n",
            "Loading dataset: 100%|██████████| 417/417 [00:17<00:00, 24.03it/s]\n",
            "Loading dataset: 100%|██████████| 1202/1202 [02:38<00:00,  7.57it/s]\n",
            "Loading dataset: 100%|██████████| 117/117 [00:20<00:00,  5.66it/s]\n",
            "Loading dataset: 100%|██████████| 417/417 [01:12<00:00,  5.74it/s]"
          ]
        },
        {
          "name": "stdout",
          "output_type": "stream",
          "text": [
            "Datasets created for both global and patches data\n"
          ]
        },
        {
          "name": "stderr",
          "output_type": "stream",
          "text": [
            "\n"
          ]
        }
      ],
      "source": [
        "# Create datasets for both global and patches data\n",
        "train_ds_no_thorax_third_sub = CacheDataset(\n",
        "    data=train_dicts, \n",
        "    transform=train_transforms_no_thorax_third_sub,\n",
        "    num_workers=num_workers\n",
        ")\n",
        "\n",
        "val_ds_no_thorax_third_sub = CacheDataset(\n",
        "    data=val_dicts, \n",
        "    transform=test_transforms_no_thorax_third_sub,\n",
        "    num_workers=num_workers\n",
        ")\n",
        "\n",
        "test_ds_no_thorax_third_sub = CacheDataset(\n",
        "    data=test_dicts, \n",
        "    transform=test_transforms_no_thorax_third_sub,\n",
        "    num_workers=num_workers\n",
        ")\n",
        "\n",
        "train_ds_patches_sub = CacheDataset(\n",
        "    data=train_dicts, \n",
        "    transform=train_transforms_patches_sub,\n",
        "    num_workers=num_workers\n",
        ")\n",
        "\n",
        "val_ds_patches_sub = CacheDataset(\n",
        "    data=val_dicts, \n",
        "    transform=test_transforms_patches_sub,\n",
        "    num_workers=num_workers\n",
        ")\n",
        "\n",
        "test_ds_patches_sub = CacheDataset(\n",
        "    data=test_dicts, \n",
        "    transform=test_transforms_patches_sub,\n",
        "    num_workers=num_workers\n",
        ")\n",
        "\n",
        "print(\"Datasets created for both global and patches data\")"
      ]
    },
    {
      "cell_type": "markdown",
      "metadata": {},
      "source": [
        "## 5. Create Fusion DataLoaders\n"
      ]
    },
    {
      "cell_type": "code",
      "execution_count": null,
      "metadata": {},
      "outputs": [],
      "source": [
        "# Reseed before creating dataloaders\n",
        "g = reseed()\n",
        "\n",
        "# Create fusion dataloaders that combine global and patches data\n",
        "train_loader_fusion_sub = PairedDataLoader(\n",
        "    train_ds_no_thorax_third_sub, \n",
        "    train_ds_patches_sub, \n",
        "    batch_size=batch_size, \n",
        "    worker_init_fn=seed_worker,\n",
        "    generator=g, \n",
        "    shuffle=True, \n",
        "    drop_last=False, \n",
        "    num_workers=num_workers,\n",
        "    augment=False,\n",
        ")\n",
        "\n",
        "val_loader_fusion_sub = PairedDataLoader(\n",
        "    val_ds_no_thorax_third_sub, \n",
        "    val_ds_patches_sub, \n",
        "    batch_size=batch_size, \n",
        "    worker_init_fn=seed_worker,\n",
        "    generator=g, \n",
        "    shuffle=False, \n",
        "    drop_last=False, \n",
        "    num_workers=num_workers,\n",
        "    augment=False\n",
        ")\n",
        "\n",
        "test_loader_fusion_sub = PairedDataLoader(\n",
        "    test_ds_no_thorax_third_sub, \n",
        "    test_ds_patches_sub, \n",
        "    batch_size=batch_size, \n",
        "    worker_init_fn=seed_worker,\n",
        "    generator=g, \n",
        "    shuffle=False, \n",
        "    drop_last=False, \n",
        "    num_workers=num_workers,\n",
        "    augment=False\n",
        ")\n",
        "\n",
        "print(\"Fusion dataloaders created\")"
      ]
    },
    {
      "cell_type": "markdown",
      "metadata": {},
      "source": [
        "## 6. Training VENUS Model\n"
      ]
    },
    {
      "cell_type": "code",
      "execution_count": null,
      "metadata": {},
      "outputs": [],
      "source": [
        "import gc\n",
        "gc.collect()\n",
        "\n",
        "with torch.no_grad():\n",
        "    torch.cuda.empty_cache()\n"
      ]
    },
    {
      "cell_type": "code",
      "execution_count": null,
      "metadata": {},
      "outputs": [],
      "source": [
        "g = reseed()\n",
        "\n",
        "# Create VENUS fusion model with CABFL loss\n",
        "model_fusion_sub_cabl = BreastFusionModel(\n",
        "    arch=\"venus\",\n",
        "    encoder_name=None,\n",
        "    in_channels=1,\n",
        "    out_classes=1,\n",
        "    batch_size=batch_size,\n",
        "    len_train_loader=len(train_ds_no_thorax_third_sub) // batch_size,\n",
        "    use_boundary_loss=True,\n",
        "    loss_function=\"cabfl\",\n",
        "    loss_kwargs={\"idc\": [1], \"weight_aufl\": 0.5, \"delta\": 0.4, \"gamma\": 0.1},\n",
        "    base_channels=64,\n",
        "    use_simple_fusion=True,\n",
        "    use_decoder_attention=True\n",
        ")\n",
        "\n",
        "es = EarlyStopping(monitor=\"valid_loss\", mode=\"min\", patience=10)\n",
        "\n",
        "cc_fusion_sub_cabl = ModelCheckpoint(\n",
        "    monitor=\"valid_loss\",\n",
        "    save_top_k=1,\n",
        "    mode=\"min\",\n",
        "    filename='venus-fusion-cabl-{epoch:02d}-{valid_loss:.2f}',\n",
        "    dirpath=checkpoints_dir,\n",
        "    auto_insert_metric_name=False\n",
        ")\n",
        "\n",
        "\n",
        "trainer_fusion_sub_cabl = L.Trainer(\n",
        "    devices=1,\n",
        "    accelerator='auto',\n",
        "    max_epochs=1000,\n",
        "    callbacks=[es, cc_fusion_sub_cabl],\n",
        "    log_every_n_steps=10,\n",
        "    gradient_clip_val=1,\n",
        "    num_sanity_val_steps=1,\n",
        "    deterministic=False\n",
        ")\n",
        "\n",
        "trainer_fusion_sub_cabl.fit(\n",
        "    model_fusion_sub_cabl,\n",
        "    train_dataloaders=train_loader_fusion_sub,\n",
        "    val_dataloaders=val_loader_fusion_sub\n",
        ")\n"
      ]
    },
    {
      "cell_type": "code",
      "execution_count": null,
      "metadata": {},
      "outputs": [],
      "source": [
        "# Load best model and test\n",
        "model_fusion_sub_cabl = BreastFusionModel.load_from_checkpoint(\n",
        "    cc_fusion_sub_cabl.best_model_path,\n",
        "    use_boundary_loss=True,\n",
        "    loss_function=\"cabfl\",\n",
        "    loss_kwargs={\"idc\": [1], \"weight_aufl\": 0.5, \"delta\": 0.4, \"gamma\": 0.1}\n",
        ")\n",
        "test_metrics = trainer_fusion_sub_cabl.test(\n",
        "    model_fusion_sub_cabl, \n",
        "    dataloaders=test_loader_fusion_sub, \n",
        "    verbose=False\n",
        ")\n",
        "pp.pprint(test_metrics[0])\n"
      ]
    },
    {
      "cell_type": "markdown",
      "metadata": {},
      "source": [
        "## 7. Training ResNet with Patches"
      ]
    },
    {
      "cell_type": "code",
      "execution_count": null,
      "metadata": {},
      "outputs": [],
      "source": [
        "# Create individual loaders for patches data\n",
        "train_loader_patches_sub = DataLoader(\n",
        "    train_ds_patches_sub, \n",
        "    batch_size=batch_size, \n",
        "    worker_init_fn=seed_worker,\n",
        "    generator=g, \n",
        "    shuffle=True, \n",
        "    drop_last=False\n",
        ")\n",
        "\n",
        "val_loader_patches_sub = DataLoader(\n",
        "    val_ds_patches_sub, \n",
        "    batch_size=batch_size, \n",
        "    worker_init_fn=seed_worker,\n",
        "    generator=g, \n",
        "    shuffle=False, \n",
        "    drop_last=False\n",
        ")\n",
        "\n",
        "test_loader_patches_sub = DataLoader(\n",
        "    test_ds_patches_sub, \n",
        "    batch_size=batch_size, \n",
        "    worker_init_fn=seed_worker,\n",
        "    generator=g, \n",
        "    shuffle=False, \n",
        "    drop_last=False\n",
        ")\n"
      ]
    },
    {
      "cell_type": "code",
      "execution_count": null,
      "metadata": {},
      "outputs": [],
      "source": [
        "g = reseed()\n",
        "ENCODER_NAME = \"resnet18\"\n",
        "model_resnet_patches_cabl = BreastSegmentationModel(\n",
        "    arch=\"UNet\",\n",
        "    encoder_name=ENCODER_NAME,\n",
        "    in_channels=1,\n",
        "    out_classes=1,\n",
        "    batch_size=batch_size,\n",
        "    len_train_loader=len(train_ds_patches_sub) // batch_size,\n",
        "    use_boundary_loss=True,\n",
        "    loss_function=\"cabfl\",\n",
        "    loss_kwargs={\"idc\": [1], \"weight_aufl\": 0.5, \"delta\": 0.7, \"gamma\": 0.4}\n",
        ")\n",
        "\n",
        "es_resnet = EarlyStopping(monitor=\"valid_loss\", mode=\"min\", patience=10)\n",
        "\n",
        "cc_resnet_cabl = ModelCheckpoint(\n",
        "    monitor=\"valid_loss\",\n",
        "    save_top_k=1,\n",
        "    mode=\"min\",\n",
        "    filename='resnet18-patches-cabl-{epoch:02d}-{valid_loss:.2f}',\n",
        "    dirpath=checkpoints_dir,\n",
        "    auto_insert_metric_name=False\n",
        ")\n",
        "\n",
        "\n",
        "trainer_resnet_cabl = L.Trainer(\n",
        "    devices=1,\n",
        "    accelerator='auto',\n",
        "    max_epochs=1000,\n",
        "    callbacks=[es_resnet, cc_resnet_cabl],\n",
        "    log_every_n_steps=10,\n",
        "    gradient_clip_val=1,\n",
        "    num_sanity_val_steps=1,\n",
        "    deterministic=False\n",
        ")\n",
        "\n",
        "trainer_resnet_cabl.fit(\n",
        "    model_resnet_patches_cabl,\n",
        "    train_dataloaders=train_loader_patches_sub,\n",
        "    val_dataloaders=val_loader_patches_sub\n",
        ")\n"
      ]
    },
    {
      "cell_type": "code",
      "execution_count": null,
      "metadata": {},
      "outputs": [],
      "source": [
        "# Load best ResNet patches model and test\n",
        "model_resnet_patches_cabl = BreastSegmentationModel.load_from_checkpoint(\n",
        "    cc_resnet_cabl.best_model_path,\n",
        "    strict=True,\n",
        "    use_boundary_loss=True,\n",
        "    loss_function=\"cabfl\",\n",
        "    loss_kwargs={\"idc\": [1], \"weight_aufl\": 0.5, \"delta\": 0.4, \"gamma\": 0.1}\n",
        ")\n",
        "test_metrics_resnet = trainer_resnet_cabl.test(\n",
        "    model_resnet_patches_cabl, \n",
        "    dataloaders=test_loader_patches_sub, \n",
        "    verbose=False\n",
        ")\n",
        "pp.pprint(test_metrics_resnet[0])\n"
      ]
    }
  ],
  "metadata": {
    "kernelspec": {
      "display_name": "venus-nCPuPPcI-py3.9",
      "language": "python",
      "name": "python3"
    },
    "language_info": {
      "codemirror_mode": {
        "name": "ipython",
        "version": 3
      },
      "file_extension": ".py",
      "mimetype": "text/x-python",
      "name": "python",
      "nbconvert_exporter": "python",
      "pygments_lexer": "ipython3",
      "version": "3.9.19"
    }
  },
  "nbformat": 4,
  "nbformat_minor": 2
}
