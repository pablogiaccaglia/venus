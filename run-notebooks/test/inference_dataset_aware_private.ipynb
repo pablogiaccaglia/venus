{
  "cells": [
    {
      "cell_type": "markdown",
      "metadata": {},
      "source": [
        "# PRIVATE DATASET INFERENCE NOTEBOOK - CLEAN VERSION\n",
        "\n",
        "This notebook performs inference using trained models on the private dataset.\n",
        "\n",
        "**Compatible with models trained in:**\n",
        "- `training_private_DECEMBER_2024_baselines_CLEAN.ipynb`\n",
        "- `training_private_DECEMBER_2024_venus_CLEAN.ipynb`\n",
        "\n",
        "**FOCUS:** Private dataset ONLY - Individual tests clearly separated\n"
      ]
    },
    {
      "cell_type": "markdown",
      "metadata": {},
      "source": [
        "## Setup and Imports\n"
      ]
    },
    {
      "cell_type": "code",
      "execution_count": 1,
      "metadata": {},
      "outputs": [
        {
          "name": "stderr",
          "output_type": "stream",
          "text": [
            "c:\\Users\\pabli\\AppData\\Local\\pypoetry\\Cache\\virtualenvs\\venus-nCPuPPcI-py3.9\\lib\\site-packages\\ignite\\handlers\\checkpoint.py:17: DeprecationWarning: `TorchScript` support for functional optimizers is deprecated and will be removed in a future PyTorch release. Consider using the `torch.compile` optimizer instead.\n",
            "  from torch.distributed.optim import ZeroRedundancyOptimizer\n"
          ]
        },
        {
          "name": "stdout",
          "output_type": "stream",
          "text": [
            "MONAI version: 1.6.dev2535\n",
            "Numpy version: 2.0.2\n",
            "Pytorch version: 2.5.1+cu121\n",
            "MONAI flags: HAS_EXT = False, USE_COMPILED = False, USE_META_DICT = False\n",
            "MONAI rev id: 8e677816bfd1fb2ec541d7f951db4caaf210b150\n",
            "MONAI __file__: c:\\Users\\<username>\\AppData\\Local\\pypoetry\\Cache\\virtualenvs\\venus-nCPuPPcI-py3.9\\lib\\site-packages\\monai\\__init__.py\n",
            "\n",
            "Optional dependencies:\n",
            "Pytorch Ignite version: 0.4.11\n",
            "ITK version: NOT INSTALLED or UNKNOWN VERSION.\n",
            "Nibabel version: 5.3.2\n",
            "scikit-image version: 0.24.0\n",
            "scipy version: 1.13.1\n",
            "Pillow version: 11.3.0\n",
            "Tensorboard version: NOT INSTALLED or UNKNOWN VERSION.\n",
            "gdown version: 5.2.0\n",
            "TorchVision version: 0.20.1+cu121\n",
            "tqdm version: 4.67.1\n",
            "lmdb version: NOT INSTALLED or UNKNOWN VERSION.\n",
            "psutil version: 7.0.0\n",
            "pandas version: NOT INSTALLED or UNKNOWN VERSION.\n",
            "einops version: 0.8.1\n",
            "transformers version: NOT INSTALLED or UNKNOWN VERSION.\n",
            "mlflow version: NOT INSTALLED or UNKNOWN VERSION.\n",
            "pynrrd version: NOT INSTALLED or UNKNOWN VERSION.\n",
            "clearml version: NOT INSTALLED or UNKNOWN VERSION.\n",
            "\n",
            "For details about installing the optional dependencies, please visit:\n",
            "    https://docs.monai.io/en/latest/installation.html#installing-the-recommended-dependencies\n",
            "\n"
          ]
        }
      ],
      "source": [
        "## Setup and Imports\n",
        "\n",
        "import json\n",
        "import glob\n",
        "import numpy as np\n",
        "import matplotlib.pyplot as plt\n",
        "import time\n",
        "import pprint\n",
        "from tqdm.notebook import tqdm\n",
        "from typing import Dict, List, Tuple, Optional\n",
        "import sys\n",
        "\n",
        "# PyTorch and related\n",
        "import torch\n",
        "import torch.nn as nn\n",
        "from sklearn.model_selection import train_test_split\n",
        "\n",
        "# MONAI imports\n",
        "import monai\n",
        "from monai.config import print_config\n",
        "from monai.data import CacheDataset, DataLoader, Dataset\n",
        "from monai.transforms import (\n",
        "    LoadImaged, EnsureChannelFirstd, Compose\n",
        ")\n",
        "\n",
        "# Backend imports\n",
        "from breast_segmentation.config.settings import config\n",
        "from breast_segmentation.utils.seed import set_deterministic_mode, seed_worker, reseed\n",
        "from breast_segmentation.data.dataset import PairedDataset, PairedDataLoader\n",
        "from breast_segmentation.transforms.compose import Preprocess\n",
        "from breast_segmentation.metrics.evaluation import compute_dice_score, compute_iou\n",
        "from breast_segmentation.models.lightning_module import BreastSegmentationModel\n",
        "from breast_segmentation.models.fusion_module import BreastFusionModel\n",
        "\n",
        "from breast_segmentation.data.private_dataset import (\n",
        "    PATIENT_INFO, get_filenames, get_train_val_test_dicts, PATIENTS_TO_EXCLUDE,\n",
        "    filter_samples_sample_aware, filter_samples_to_exclude, get_samples_size\n",
        ")\n",
        "\n",
        "from breast_segmentation.metrics.losses import (\n",
        "    CABFL, SurfaceLossBinary, AsymmetricUnifiedFocalLoss, \n",
        "    AsymmetricFocalLoss, AsymmetricFocalTverskyLoss, SoftDiceLoss\n",
        ")\n",
        "\n",
        "from breast_segmentation.inference.private_dataset_aware_test import (\n",
        "    test_dataset_aware_ensemble,\n",
        "    test_dataset_aware_no_patches,\n",
        "    test_dataset_aware_fusion\n",
        ")\n",
        "\n",
        "\n",
        "import time \n",
        "import os\n",
        "\n",
        "# Set precision and print config\n",
        "torch.set_float32_matmul_precision('medium')\n",
        "print_config()\n",
        "\n",
        "# Pretty printer for results\n",
        "pp = pprint.PrettyPrinter(indent=4)\n",
        "\n",
        "# Converter function for PIL images\n",
        "def convert_to_grayscale(image):\n",
        "    \"\"\"Convert PIL image to grayscale - replaces lambda for pickling compatibility.\"\"\"\n",
        "    return image.convert(\"L\")\n",
        "\n",
        "\n",
        "# Register loss classes for checkpoint loading\n",
        "sys.modules['__main__'].CABFL = CABFL\n",
        "sys.modules['__main__'].SurfaceLossBinary = SurfaceLossBinary\n",
        "sys.modules['__main__'].AsymmetricUnifiedFocalLoss = AsymmetricUnifiedFocalLoss\n",
        "sys.modules['__main__'].AsymmetricFocalLoss = AsymmetricFocalLoss\n",
        "sys.modules['__main__'].AsymmetricFocalTverskyLoss = AsymmetricFocalTverskyLoss\n"
      ]
    },
    {
      "cell_type": "markdown",
      "metadata": {},
      "source": [
        "## Data Setup - Private Dataset\n"
      ]
    },
    {
      "cell_type": "code",
      "execution_count": 2,
      "metadata": {},
      "outputs": [
        {
          "name": "stdout",
          "output_type": "stream",
          "text": [
            "Checkpoint directory verified: ./checkpoints/private-dataset\n",
            "Using device: cuda\n"
          ]
        }
      ],
      "source": [
        "# Settings - using config parameters\n",
        "NUM_WORKERS = config.NUM_WORKERS\n",
        "SEED = config.SEED\n",
        "USE_SUBTRACTED = True\n",
        "\n",
        "# Data paths\n",
        "dataset_base_path = config.DATASET_BASE_PATH_PRIVATE\n",
        "CHECKPOINTS_DIR = config.checkpoints_dir_private\n",
        "\n",
        "# Ensure checkpoint directory exists\n",
        "os.makedirs(CHECKPOINTS_DIR, exist_ok=True)\n",
        "print(f\"Checkpoint directory verified: {CHECKPOINTS_DIR}\")\n",
        "\n",
        "# Device\n",
        "device = torch.device(\"cuda\" if torch.cuda.is_available() else \"cpu\")\n",
        "print(f\"Using device: {device}\")\n",
        "\n",
        "# Set seeds\n",
        "torch.manual_seed(SEED)\n",
        "np.random.seed(SEED)\n",
        "if torch.cuda.is_available():\n",
        "    torch.cuda.manual_seed(SEED)"
      ]
    },
    {
      "cell_type": "code",
      "execution_count": 3,
      "metadata": {},
      "outputs": [
        {
          "name": "stdout",
          "output_type": "stream",
          "text": [
            "Using private dataset backend functions\n",
            "Initial patients from PATIENT_INFO: 103\n",
            "Patients after exclusion: 103\n",
            "Dataset base path: Dataset-arrays-4-FINAL\n",
            "Total patients: 103\n",
            "Train patients: 61\n",
            "Validation patients: 21\n",
            "Test patients: 21\n",
            "Test patient IDs: ['LAXXX', 'AS0170', 'PR0760', 'GF0380', 'FP211261', 'D2MP3(VR)', 'MG0477', 'OL1062R', 'BV1252', 'D1AP7(VR)', 'SD080569', 'CC0167', 'RHCL031174', 'LA0248', 'RP271052', 'SL191251', 'LGM0159(1,5)', 'PA150139', 'HF230274', 'CF160366', 'GLA1074']\n"
          ]
        }
      ],
      "source": [
        "print(\"Using private dataset backend functions\")\n",
        "\n",
        "# Use patient IDs from PATIENT_INFO dictionary\n",
        "patient_ids = os.listdir(dataset_base_path)\n",
        "\n",
        "# Apply exclusions\n",
        "print(f\"Initial patients from PATIENT_INFO: {len(patient_ids)}\")\n",
        "print(f\"Patients after exclusion: {len(patient_ids)}\")\n",
        "\n",
        "\n",
        "x_train_val, x_test = train_test_split(patient_ids, test_size=0.2, random_state=SEED)\n",
        "x_train, x_val = train_test_split(x_train_val, test_size=0.25, random_state=SEED)\n",
        "\n",
        "print(f\"Dataset base path: {dataset_base_path}\")\n",
        "print(f\"Total patients: {len(patient_ids)}\")\n",
        "print(f\"Train patients: {len(x_train)}\")\n",
        "print(f\"Validation patients: {len(x_val)}\")\n",
        "print(f\"Test patients: {len(x_test)}\")\n",
        "print(f\"Test patient IDs: {x_test}\")\n"
      ]
    },
    {
      "cell_type": "markdown",
      "metadata": {},
      "source": [
        "##  Create Test Datasets\n"
      ]
    },
    {
      "cell_type": "code",
      "execution_count": 4,
      "metadata": {},
      "outputs": [
        {
          "name": "stdout",
          "output_type": "stream",
          "text": [
            "Test transforms created\n"
          ]
        }
      ],
      "source": [
        "# Use subtracted images as in training\n",
        "sub_third_images_path_prefixes = (config.DATASET_BASE_PATH_PRIVATE, \"Dataset-arrays-FINAL\")\n",
        "\n",
        "\n",
        "mean_no_thorax_third_sub= 43.1498\n",
        "std_no_thorax_third_sub= 172.6704\n",
        "mean_patches_sub= 86.13536834716797\n",
        "std_patches_sub= 238.13461303710938\n",
        "\n",
        "# Create test transforms for global (no patches) data\n",
        "test_transforms_no_thorax_third_sub = Compose([\n",
        "    LoadImaged(\n",
        "        keys=[\"image\", \"label\"], \n",
        "        image_only=False, \n",
        "        reader=monai.data.NumpyReader()\n",
        "    ),\n",
        "    EnsureChannelFirstd(keys=[\"image\", \"label\"]),\n",
        "    Preprocess(\n",
        "        keys=None, \n",
        "        mode='test',  \n",
        "        dataset=\"private\", \n",
        "        subtracted_images_path_prefixes=sub_third_images_path_prefixes, \n",
        "        subtrahend=mean_no_thorax_third_sub, \n",
        "        divisor=std_no_thorax_third_sub, \n",
        "        get_patches=False,\n",
        "        get_boundaryloss=True\n",
        "    )\n",
        "])\n",
        "\n",
        "# Create test transforms for patches data\n",
        "test_transforms_patches_sub = Compose([\n",
        "    LoadImaged(\n",
        "        keys=[\"image\", \"label\"], \n",
        "        image_only=False, \n",
        "        reader=monai.data.NumpyReader()\n",
        "    ),\n",
        "    EnsureChannelFirstd(keys=[\"image\", \"label\"]),\n",
        "    Preprocess(\n",
        "        keys=None, \n",
        "        mode='test',  \n",
        "        dataset=\"private\", \n",
        "        subtracted_images_path_prefixes=sub_third_images_path_prefixes, \n",
        "        subtrahend=mean_patches_sub, \n",
        "        divisor=std_patches_sub, \n",
        "        get_patches=True,\n",
        "        get_boundaryloss=True\n",
        "    )\n",
        "])\n",
        "\n",
        "print(\"Test transforms created\")\n"
      ]
    },
    {
      "cell_type": "code",
      "execution_count": 5,
      "metadata": {},
      "outputs": [
        {
          "name": "stdout",
          "output_type": "stream",
          "text": [
            "LAXXX\n"
          ]
        },
        {
          "name": "stderr",
          "output_type": "stream",
          "text": [
            "Loading dataset:   0%|          | 0/228 [00:00<?, ?it/s]"
          ]
        },
        {
          "name": "stderr",
          "output_type": "stream",
          "text": [
            "Loading dataset: 100%|██████████| 228/228 [00:08<00:00, 27.76it/s]\n",
            "Loading dataset: 100%|██████████| 228/228 [00:23<00:00,  9.66it/s]\n"
          ]
        },
        {
          "name": "stdout",
          "output_type": "stream",
          "text": [
            "AS0170\n"
          ]
        },
        {
          "name": "stderr",
          "output_type": "stream",
          "text": [
            "Loading dataset: 100%|██████████| 192/192 [00:07<00:00, 26.32it/s]\n",
            "Loading dataset: 100%|██████████| 192/192 [00:18<00:00, 10.24it/s]\n"
          ]
        },
        {
          "name": "stdout",
          "output_type": "stream",
          "text": [
            "PR0760\n"
          ]
        },
        {
          "name": "stderr",
          "output_type": "stream",
          "text": [
            "Loading dataset: 100%|██████████| 228/228 [00:07<00:00, 28.96it/s]\n",
            "Loading dataset: 100%|██████████| 228/228 [00:25<00:00,  9.11it/s]\n"
          ]
        },
        {
          "name": "stdout",
          "output_type": "stream",
          "text": [
            "GF0380\n"
          ]
        },
        {
          "name": "stderr",
          "output_type": "stream",
          "text": [
            "Loading dataset: 100%|██████████| 204/204 [00:07<00:00, 26.98it/s]\n",
            "Loading dataset: 100%|██████████| 204/204 [00:20<00:00,  9.73it/s]\n"
          ]
        },
        {
          "name": "stdout",
          "output_type": "stream",
          "text": [
            "FP211261\n"
          ]
        },
        {
          "name": "stderr",
          "output_type": "stream",
          "text": [
            "Loading dataset: 100%|██████████| 188/188 [00:07<00:00, 24.38it/s]\n",
            "Loading dataset: 100%|██████████| 188/188 [00:18<00:00, 10.10it/s]\n"
          ]
        },
        {
          "name": "stdout",
          "output_type": "stream",
          "text": [
            "D2MP3(VR)\n"
          ]
        },
        {
          "name": "stderr",
          "output_type": "stream",
          "text": [
            "Loading dataset: 100%|██████████| 228/228 [00:07<00:00, 29.62it/s]\n",
            "Loading dataset: 100%|██████████| 228/228 [00:23<00:00,  9.83it/s]\n"
          ]
        },
        {
          "name": "stdout",
          "output_type": "stream",
          "text": [
            "MG0477\n"
          ]
        },
        {
          "name": "stderr",
          "output_type": "stream",
          "text": [
            "Loading dataset: 100%|██████████| 132/132 [00:04<00:00, 27.27it/s]\n",
            "Loading dataset: 100%|██████████| 132/132 [00:12<00:00, 10.31it/s]\n"
          ]
        },
        {
          "name": "stdout",
          "output_type": "stream",
          "text": [
            "OL1062R\n"
          ]
        },
        {
          "name": "stderr",
          "output_type": "stream",
          "text": [
            "Loading dataset: 100%|██████████| 228/228 [00:07<00:00, 29.16it/s]\n",
            "Loading dataset: 100%|██████████| 228/228 [00:24<00:00,  9.33it/s]\n"
          ]
        },
        {
          "name": "stdout",
          "output_type": "stream",
          "text": [
            "BV1252\n"
          ]
        },
        {
          "name": "stderr",
          "output_type": "stream",
          "text": [
            "Loading dataset: 100%|██████████| 188/188 [00:06<00:00, 29.16it/s]\n",
            "Loading dataset: 100%|██████████| 188/188 [00:19<00:00,  9.54it/s]\n"
          ]
        },
        {
          "name": "stdout",
          "output_type": "stream",
          "text": [
            "D1AP7(VR)\n"
          ]
        },
        {
          "name": "stderr",
          "output_type": "stream",
          "text": [
            "Loading dataset: 100%|██████████| 228/228 [00:08<00:00, 27.81it/s]\n",
            "Loading dataset: 100%|██████████| 228/228 [00:22<00:00, 10.01it/s]\n"
          ]
        },
        {
          "name": "stdout",
          "output_type": "stream",
          "text": [
            "SD080569\n"
          ]
        },
        {
          "name": "stderr",
          "output_type": "stream",
          "text": [
            "Loading dataset: 100%|██████████| 236/236 [00:07<00:00, 29.93it/s]\n",
            "Loading dataset: 100%|██████████| 236/236 [00:23<00:00,  9.95it/s]\n"
          ]
        },
        {
          "name": "stdout",
          "output_type": "stream",
          "text": [
            "CC0167\n"
          ]
        },
        {
          "name": "stderr",
          "output_type": "stream",
          "text": [
            "Loading dataset: 100%|██████████| 228/228 [00:07<00:00, 28.99it/s]\n",
            "Loading dataset: 100%|██████████| 228/228 [00:21<00:00, 10.62it/s]\n"
          ]
        },
        {
          "name": "stdout",
          "output_type": "stream",
          "text": [
            "RHCL031174\n"
          ]
        },
        {
          "name": "stderr",
          "output_type": "stream",
          "text": [
            "Loading dataset: 100%|██████████| 188/188 [00:06<00:00, 28.25it/s]\n",
            "Loading dataset: 100%|██████████| 188/188 [00:17<00:00, 10.62it/s]\n"
          ]
        },
        {
          "name": "stdout",
          "output_type": "stream",
          "text": [
            "LA0248\n"
          ]
        },
        {
          "name": "stderr",
          "output_type": "stream",
          "text": [
            "Loading dataset: 100%|██████████| 284/284 [00:09<00:00, 29.34it/s]\n",
            "Loading dataset: 100%|██████████| 284/284 [00:29<00:00,  9.74it/s]\n"
          ]
        },
        {
          "name": "stdout",
          "output_type": "stream",
          "text": [
            "RP271052\n"
          ]
        },
        {
          "name": "stderr",
          "output_type": "stream",
          "text": [
            "Loading dataset: 100%|██████████| 96/96 [00:03<00:00, 26.34it/s]\n",
            "Loading dataset: 100%|██████████| 96/96 [00:08<00:00, 10.89it/s]\n"
          ]
        },
        {
          "name": "stdout",
          "output_type": "stream",
          "text": [
            "SL191251\n"
          ]
        },
        {
          "name": "stderr",
          "output_type": "stream",
          "text": [
            "Loading dataset: 100%|██████████| 80/80 [00:02<00:00, 28.77it/s]\n",
            "Loading dataset: 100%|██████████| 80/80 [00:07<00:00, 10.75it/s]\n"
          ]
        },
        {
          "name": "stdout",
          "output_type": "stream",
          "text": [
            "LGM0159(1,5)\n"
          ]
        },
        {
          "name": "stderr",
          "output_type": "stream",
          "text": [
            "Loading dataset: 100%|██████████| 112/112 [00:04<00:00, 27.73it/s]\n",
            "Loading dataset: 100%|██████████| 112/112 [00:10<00:00, 10.69it/s]\n"
          ]
        },
        {
          "name": "stdout",
          "output_type": "stream",
          "text": [
            "PA150139\n"
          ]
        },
        {
          "name": "stderr",
          "output_type": "stream",
          "text": [
            "Loading dataset: 100%|██████████| 96/96 [00:03<00:00, 26.49it/s]\n",
            "Loading dataset: 100%|██████████| 96/96 [00:08<00:00, 10.76it/s]\n"
          ]
        },
        {
          "name": "stdout",
          "output_type": "stream",
          "text": [
            "HF230274\n"
          ]
        },
        {
          "name": "stderr",
          "output_type": "stream",
          "text": [
            "Loading dataset: 100%|██████████| 204/204 [00:07<00:00, 27.63it/s]\n",
            "Loading dataset: 100%|██████████| 204/204 [00:20<00:00,  9.85it/s]\n"
          ]
        },
        {
          "name": "stdout",
          "output_type": "stream",
          "text": [
            "CF160366\n"
          ]
        },
        {
          "name": "stderr",
          "output_type": "stream",
          "text": [
            "Loading dataset: 100%|██████████| 212/212 [00:07<00:00, 27.82it/s]\n",
            "Loading dataset: 100%|██████████| 212/212 [00:21<00:00,  9.74it/s]\n"
          ]
        },
        {
          "name": "stdout",
          "output_type": "stream",
          "text": [
            "GLA1074\n"
          ]
        },
        {
          "name": "stderr",
          "output_type": "stream",
          "text": [
            "Loading dataset: 100%|██████████| 112/112 [00:04<00:00, 26.04it/s]\n",
            "Loading dataset: 100%|██████████| 112/112 [00:10<00:00, 10.77it/s]\n"
          ]
        }
      ],
      "source": [
        "datasets = {}\n",
        "\n",
        "for patient_id in x_test:\n",
        "    print(patient_id)\n",
        "\n",
        "\n",
        "    patient_id = [patient_id]\n",
        "    images_fnames, _ = get_filenames(suffix=\"images\",\n",
        "                                       base_path=config.DATASET_BASE_PATH_PRIVATE,\n",
        "                                       patient_ids=patient_id,\n",
        "                                       remove_black_samples=False,\n",
        "                                       get_random_samples_and_remove_black_samples=False,\n",
        "                                       random_samples_indexes_list=None)\n",
        "\n",
        "    labels_fnames, _ = get_filenames(suffix=\"masks\",\n",
        "                                      base_path=config.DATASET_BASE_PATH_PRIVATE,\n",
        "                                      patient_ids=patient_id,\n",
        "                                      remove_black_samples=False,\n",
        "                                      get_random_samples_and_remove_black_samples=False,\n",
        "                                      random_samples_indexes_list=None, remove_picked_samples=False)\n",
        "    \n",
        "\n",
        "    \n",
        "\n",
        "    test_dicts = [{\"image\": image_name, \"label\":label_name} for image_name, label_name in zip(images_fnames,labels_fnames)]\n",
        "\n",
        "    no_thorax_sub_test_ds = CacheDataset(data=test_dicts, transform=test_transforms_no_thorax_third_sub,num_workers=NUM_WORKERS)\n",
        "    patches_sub_test_ds = CacheDataset(data=test_dicts, transform=test_transforms_patches_sub,num_workers=NUM_WORKERS)\n",
        "\n",
        "    datasets[patient_id[0]]={\n",
        "        \"no_thorax_sub_test_ds\": no_thorax_sub_test_ds,\n",
        "        \"patches_sub_test_ds\": patches_sub_test_ds\n",
        "        \n",
        "    }"
      ]
    },
    {
      "cell_type": "code",
      "execution_count": 6,
      "metadata": {},
      "outputs": [
        {
          "data": {
            "text/plain": [
              "<matplotlib.image.AxesImage at 0x12d108f8b50>"
            ]
          },
          "execution_count": 6,
          "metadata": {},
          "output_type": "execute_result"
        },
        {
          "data": {
            "image/png": "[encoded data removed]",
            "text/plain": [
              "<Figure size 640x480 with 1 Axes>"
            ]
          },
          "metadata": {},
          "output_type": "display_data"
        }
      ],
      "source": [
        "i = datasets[patient_id[0]]['patches_sub_test_ds'][104][0]['image']\n",
        "\n",
        "plt.imshow(np.squeeze(i), cmap='gray')"
      ]
    },
    {
      "cell_type": "code",
      "execution_count": 7,
      "metadata": {},
      "outputs": [
        {
          "data": {
            "text/plain": [
              "<matplotlib.image.AxesImage at 0x12f320c1a00>"
            ]
          },
          "execution_count": 7,
          "metadata": {},
          "output_type": "execute_result"
        },
        {
          "data": {
            "image/png": "[encoded data removed]",
            "text/plain": [
              "<Figure size 640x480 with 1 Axes>"
            ]
          },
          "metadata": {},
          "output_type": "display_data"
        }
      ],
      "source": [
        "i = datasets[patient_id[0]]['patches_sub_test_ds'][104][0]['label']\n",
        "\n",
        "plt.imshow(np.squeeze(i), cmap='gray')"
      ]
    },
    {
      "cell_type": "markdown",
      "metadata": {},
      "source": [
        "## Model Checkpoint Paths\n"
      ]
    },
    {
      "cell_type": "code",
      "execution_count": null,
      "metadata": {},
      "outputs": [
        {
          "name": "stdout",
          "output_type": "stream",
          "text": [
            "Available models:\n",
            "  ✓ venus_large: ./checkpoints/private-dataset/venus-large-best.ckpt\n",
            "  ✓ unetplusplus: ./checkpoints/private-dataset/unetplusplus_model.ckpt\n",
            "  ✓ skinny: ./checkpoints/private-dataset/skinny_model.ckpt\n",
            "  ✓ resnet50: ./checkpoints/private-dataset/resnet50-model.ckpt\n",
            "  ✓ fcn: ./checkpoints/private-dataset/unetplusplus_model.ckpt\n",
            "  ✓ segnet: ./checkpoints/private-dataset/segnet_model_large.ckpt\n",
            "  ✓ swin: ./checkpoints/private-dataset/swin_model.ckpt\n",
            "  ✓ resnet18-patches: ./checkpoints/private-dataset/resnet18-patches-model.ckpt\n"
          ]
        }
      ],
      "source": [
        "model_paths = {\n",
        "    # VENUS fusion models\n",
        "    'venus_large': f'{CHECKPOINTS_DIR}/venus-large-best.ckpt',\n",
        "    \n",
        "    # Baseline models\n",
        "    'unetplusplus': f'{CHECKPOINTS_DIR}/unetplusplus_model.ckpt',\n",
        "    'skinny': f'{CHECKPOINTS_DIR}/skinny_model.ckpt',\n",
        "    'resnet50': f'{CHECKPOINTS_DIR}/resnet50-model.ckpt',\n",
        "    'fcn': f'{CHECKPOINTS_DIR}/fcn_ffnet_model.ckpt',  \n",
        "    'segnet': f'{CHECKPOINTS_DIR}/segnet_model_large.ckpt',\n",
        "    'swin': f'{CHECKPOINTS_DIR}/swin_model.ckpt',\n",
        "    \n",
        "    # Patches models\n",
        "    'resnet18-patches':  f'{CHECKPOINTS_DIR}/resnet18-patches-model.ckpt'\n",
        "}\n",
        "\n",
        "# Check which models are available\n",
        "print(\"Available models:\")\n",
        "for name, path in model_paths.items():\n",
        "    if os.path.exists(path):\n",
        "        print(f\"  ✓ {name}: {path}\")\n",
        "    else:\n",
        "        print(f\"  ✗ {name}: {path} (not found)\")\n"
      ]
    },
    {
      "cell_type": "markdown",
      "metadata": {},
      "source": [
        "## Test Baseline Models\n"
      ]
    },
    {
      "cell_type": "code",
      "execution_count": 9,
      "metadata": {},
      "outputs": [
        {
          "name": "stdout",
          "output_type": "stream",
          "text": [
            "Testing UNet++ model...\n",
            "BasicUNetPlusPlus features: (32, 32, 64, 128, 256, 32).\n",
            "LAXXX\n"
          ]
        },
        {
          "name": "stderr",
          "output_type": "stream",
          "text": [
            "100%|██████████| 228/228 [00:05<00:00, 42.25it/s] \n"
          ]
        },
        {
          "name": "stdout",
          "output_type": "stream",
          "text": [
            "AS0170\n"
          ]
        },
        {
          "name": "stderr",
          "output_type": "stream",
          "text": [
            "100%|██████████| 192/192 [00:06<00:00, 31.56it/s]\n"
          ]
        },
        {
          "name": "stdout",
          "output_type": "stream",
          "text": [
            "PR0760\n"
          ]
        },
        {
          "name": "stderr",
          "output_type": "stream",
          "text": [
            "100%|██████████| 228/228 [00:05<00:00, 43.87it/s] \n"
          ]
        },
        {
          "name": "stdout",
          "output_type": "stream",
          "text": [
            "GF0380\n"
          ]
        },
        {
          "name": "stderr",
          "output_type": "stream",
          "text": [
            "100%|██████████| 204/204 [00:04<00:00, 49.01it/s]\n"
          ]
        },
        {
          "name": "stdout",
          "output_type": "stream",
          "text": [
            "FP211261\n"
          ]
        },
        {
          "name": "stderr",
          "output_type": "stream",
          "text": [
            "100%|██████████| 188/188 [00:02<00:00, 72.89it/s]\n"
          ]
        },
        {
          "name": "stdout",
          "output_type": "stream",
          "text": [
            "D2MP3(VR)\n"
          ]
        },
        {
          "name": "stderr",
          "output_type": "stream",
          "text": [
            "100%|██████████| 228/228 [00:04<00:00, 45.91it/s] \n"
          ]
        },
        {
          "name": "stdout",
          "output_type": "stream",
          "text": [
            "MG0477\n"
          ]
        },
        {
          "name": "stderr",
          "output_type": "stream",
          "text": [
            "100%|██████████| 132/132 [00:03<00:00, 43.93it/s]\n"
          ]
        },
        {
          "name": "stdout",
          "output_type": "stream",
          "text": [
            "OL1062R\n"
          ]
        },
        {
          "name": "stderr",
          "output_type": "stream",
          "text": [
            "100%|██████████| 228/228 [00:05<00:00, 45.25it/s] \n"
          ]
        },
        {
          "name": "stdout",
          "output_type": "stream",
          "text": [
            "BV1252\n"
          ]
        },
        {
          "name": "stderr",
          "output_type": "stream",
          "text": [
            "100%|██████████| 188/188 [00:03<00:00, 50.53it/s]\n"
          ]
        },
        {
          "name": "stdout",
          "output_type": "stream",
          "text": [
            "D1AP7(VR)\n"
          ]
        },
        {
          "name": "stderr",
          "output_type": "stream",
          "text": [
            "100%|██████████| 228/228 [00:04<00:00, 47.48it/s] \n"
          ]
        },
        {
          "name": "stdout",
          "output_type": "stream",
          "text": [
            "SD080569\n"
          ]
        },
        {
          "name": "stderr",
          "output_type": "stream",
          "text": [
            "100%|██████████| 236/236 [00:03<00:00, 59.40it/s] \n"
          ]
        },
        {
          "name": "stdout",
          "output_type": "stream",
          "text": [
            "CC0167\n"
          ]
        },
        {
          "name": "stderr",
          "output_type": "stream",
          "text": [
            "100%|██████████| 228/228 [00:03<00:00, 58.26it/s] \n"
          ]
        },
        {
          "name": "stdout",
          "output_type": "stream",
          "text": [
            "RHCL031174\n"
          ]
        },
        {
          "name": "stderr",
          "output_type": "stream",
          "text": [
            "100%|██████████| 188/188 [00:05<00:00, 36.03it/s]\n"
          ]
        },
        {
          "name": "stdout",
          "output_type": "stream",
          "text": [
            "LA0248\n"
          ]
        },
        {
          "name": "stderr",
          "output_type": "stream",
          "text": [
            "100%|██████████| 284/284 [00:06<00:00, 46.92it/s]\n"
          ]
        },
        {
          "name": "stdout",
          "output_type": "stream",
          "text": [
            "RP271052\n"
          ]
        },
        {
          "name": "stderr",
          "output_type": "stream",
          "text": [
            "100%|██████████| 96/96 [00:01<00:00, 49.27it/s]\n"
          ]
        },
        {
          "name": "stdout",
          "output_type": "stream",
          "text": [
            "SL191251\n"
          ]
        },
        {
          "name": "stderr",
          "output_type": "stream",
          "text": [
            "100%|██████████| 80/80 [00:01<00:00, 43.54it/s] \n"
          ]
        },
        {
          "name": "stdout",
          "output_type": "stream",
          "text": [
            "LGM0159(1,5)\n"
          ]
        },
        {
          "name": "stderr",
          "output_type": "stream",
          "text": [
            "100%|██████████| 112/112 [00:02<00:00, 49.77it/s]\n"
          ]
        },
        {
          "name": "stdout",
          "output_type": "stream",
          "text": [
            "PA150139\n"
          ]
        },
        {
          "name": "stderr",
          "output_type": "stream",
          "text": [
            "100%|██████████| 96/96 [00:01<00:00, 49.68it/s] \n"
          ]
        },
        {
          "name": "stdout",
          "output_type": "stream",
          "text": [
            "HF230274\n"
          ]
        },
        {
          "name": "stderr",
          "output_type": "stream",
          "text": [
            "100%|██████████| 204/204 [00:04<00:00, 50.22it/s] \n"
          ]
        },
        {
          "name": "stdout",
          "output_type": "stream",
          "text": [
            "CF160366\n"
          ]
        },
        {
          "name": "stderr",
          "output_type": "stream",
          "text": [
            "100%|██████████| 212/212 [00:04<00:00, 46.84it/s] \n"
          ]
        },
        {
          "name": "stdout",
          "output_type": "stream",
          "text": [
            "GLA1074\n"
          ]
        },
        {
          "name": "stderr",
          "output_type": "stream",
          "text": [
            "100%|██████████| 112/112 [00:03<00:00, 37.03it/s]\n"
          ]
        },
        {
          "name": "stdout",
          "output_type": "stream",
          "text": [
            "MODEL CLASS MEAN IOU  0.5861474\n",
            "MODEL CLASS STD IOU  0.14819752\n",
            "\n",
            "MODEL CLASS MEAN DICE  0.603638\n",
            "MODEL CLASS STD DICE  0.17330746\n",
            "\n",
            "MODEL DIOU 0.8241011885329741\n",
            "MODEL DIOU STD  0.29988049988069254\n",
            "\n",
            "MODEL IOU MASS VOLUME  0.5594797730445862\n",
            "MODEL IOU MASS VOLUME STD  0.46604278683662415\n",
            "\n",
            "MODEL IOU MASS VOLUME NO EMPTY  0.17293545603752136\n",
            "MODEL IOU MASS VOLUME NO EMPTY STD  0.2966097891330719\n",
            "\n",
            "MODEL IOU MASS VOLUME NO EMPTY OPTIMISTIC  0.5810295343399048\n",
            "MODEL IOU MASS VOLUME NO EMPTY OPTIMISTIC STD  0.2418101578950882\n",
            "MODEL DICE MASS VOLUME  0.5779414176940918\n",
            "MODEL DICE MASS VOLUME STD  0.4694083631038666\n",
            "\n",
            "MODEL DICE MASS VOLUME NO EMPTY  0.20759660005569458\n",
            "MODEL DICE MASS VOLUME NO EMPTY STD  0.34673863649368286\n",
            "\n",
            "MODEL DICE MASS VOLUME NO EMPTY OPTIMISTIC  0.6974841952323914\n",
            "MODEL DICE MASS VOLUME NO EMPTY OPTIMISTIC STD  0.2495051920413971\n",
            "\n",
            "MODEL MEAN ACCURACY NO EMPTY 0.5862971395254135\n",
            "MODEL MEAN ACCURACY NO EMPTY STD 0.1487303\n",
            "\n",
            "MODEL MEAN PRECISION NO EMPTY 0.6108993589878082\n",
            "MODEL MEAN PRECISION NO EMPTY STD 0.18588214\n",
            "\n",
            "MODEL MEAN RECALL NO EMPTY 0.8573989570140839\n",
            "MODEL MEAN RECALL NO EMPTY STD 0.12892087\n",
            "\n",
            "MODEL MEAN F1 NO EMPTY 0.603638\n",
            "MODEL MEAN F1 NO EMPTY STD 0.17330746\n",
            "\n",
            "MODEL ACCURACY EXCLUDING CASES  0.9988237023353577\n",
            "MODEL ACCURACY EXCLUDING CASES STD  0.0014986193\n",
            "\n",
            "MODEL PRECISION EXCLUDING CASES  0.7551287412643433\n",
            "MODEL PRECISION EXCLUDING CASES STD  0.25696972\n",
            "\n",
            "MODEL RECALL EXCLUDING CASES  0.7150136232376099\n",
            "MODEL RECALL EXCLUDING CASES STD  0.25730845\n",
            "\n",
            "MODEL ACCURACY NO EMPTY  0.17293545603752136\n",
            "MODEL ACCURACY NO EMPTY STD  0.2966098\n",
            "\n",
            "MODEL PRECISION NO EMPTY 0.22192436456680298\n",
            "MODEL PRECISION NO EMPTY STD  0.37113014\n",
            "\n",
            "MODEL RECALL NO EMPTY  0.7150136232376099\n",
            "MODEL RECALL NO EMPTY STD  0.25730845\n",
            "\n",
            "MODEL F1 NO EMPTY  0.20759660005569458\n",
            "MODEL F1 NO EMPTY STD  0.34673864\n",
            "\n",
            "\n",
            "UNet++ Results:\n",
            "None\n",
            "Testing SkinnyNet model...\n",
            "LAXXX\n"
          ]
        },
        {
          "name": "stderr",
          "output_type": "stream",
          "text": [
            "100%|██████████| 228/228 [00:05<00:00, 41.43it/s] \n"
          ]
        },
        {
          "name": "stdout",
          "output_type": "stream",
          "text": [
            "AS0170\n"
          ]
        },
        {
          "name": "stderr",
          "output_type": "stream",
          "text": [
            "100%|██████████| 192/192 [00:05<00:00, 34.53it/s]\n"
          ]
        },
        {
          "name": "stdout",
          "output_type": "stream",
          "text": [
            "PR0760\n"
          ]
        },
        {
          "name": "stderr",
          "output_type": "stream",
          "text": [
            "100%|██████████| 228/228 [00:04<00:00, 47.32it/s] \n"
          ]
        },
        {
          "name": "stdout",
          "output_type": "stream",
          "text": [
            "GF0380\n"
          ]
        },
        {
          "name": "stderr",
          "output_type": "stream",
          "text": [
            "100%|██████████| 204/204 [00:03<00:00, 54.89it/s] \n"
          ]
        },
        {
          "name": "stdout",
          "output_type": "stream",
          "text": [
            "FP211261\n"
          ]
        },
        {
          "name": "stderr",
          "output_type": "stream",
          "text": [
            "100%|██████████| 188/188 [00:02<00:00, 81.39it/s]\n"
          ]
        },
        {
          "name": "stdout",
          "output_type": "stream",
          "text": [
            "D2MP3(VR)\n"
          ]
        },
        {
          "name": "stderr",
          "output_type": "stream",
          "text": [
            "100%|██████████| 228/228 [00:04<00:00, 49.37it/s] \n"
          ]
        },
        {
          "name": "stdout",
          "output_type": "stream",
          "text": [
            "MG0477\n"
          ]
        },
        {
          "name": "stderr",
          "output_type": "stream",
          "text": [
            "100%|██████████| 132/132 [00:02<00:00, 46.25it/s]\n"
          ]
        },
        {
          "name": "stdout",
          "output_type": "stream",
          "text": [
            "OL1062R\n"
          ]
        },
        {
          "name": "stderr",
          "output_type": "stream",
          "text": [
            "100%|██████████| 228/228 [00:04<00:00, 48.64it/s] \n"
          ]
        },
        {
          "name": "stdout",
          "output_type": "stream",
          "text": [
            "BV1252\n"
          ]
        },
        {
          "name": "stderr",
          "output_type": "stream",
          "text": [
            "100%|██████████| 188/188 [00:03<00:00, 55.65it/s] \n"
          ]
        },
        {
          "name": "stdout",
          "output_type": "stream",
          "text": [
            "D1AP7(VR)\n"
          ]
        },
        {
          "name": "stderr",
          "output_type": "stream",
          "text": [
            "100%|██████████| 228/228 [00:03<00:00, 60.04it/s] \n"
          ]
        },
        {
          "name": "stdout",
          "output_type": "stream",
          "text": [
            "SD080569\n"
          ]
        },
        {
          "name": "stderr",
          "output_type": "stream",
          "text": [
            "100%|██████████| 236/236 [00:03<00:00, 66.95it/s] \n"
          ]
        },
        {
          "name": "stdout",
          "output_type": "stream",
          "text": [
            "CC0167\n"
          ]
        },
        {
          "name": "stderr",
          "output_type": "stream",
          "text": [
            "100%|██████████| 228/228 [00:03<00:00, 62.80it/s] \n"
          ]
        },
        {
          "name": "stdout",
          "output_type": "stream",
          "text": [
            "RHCL031174\n"
          ]
        },
        {
          "name": "stderr",
          "output_type": "stream",
          "text": [
            "100%|██████████| 188/188 [00:04<00:00, 39.00it/s]\n"
          ]
        },
        {
          "name": "stdout",
          "output_type": "stream",
          "text": [
            "LA0248\n"
          ]
        },
        {
          "name": "stderr",
          "output_type": "stream",
          "text": [
            "100%|██████████| 284/284 [00:05<00:00, 53.92it/s]\n"
          ]
        },
        {
          "name": "stdout",
          "output_type": "stream",
          "text": [
            "RP271052\n"
          ]
        },
        {
          "name": "stderr",
          "output_type": "stream",
          "text": [
            "100%|██████████| 96/96 [00:02<00:00, 45.22it/s]\n"
          ]
        },
        {
          "name": "stdout",
          "output_type": "stream",
          "text": [
            "SL191251\n"
          ]
        },
        {
          "name": "stderr",
          "output_type": "stream",
          "text": [
            "100%|██████████| 80/80 [00:01<00:00, 44.72it/s] \n"
          ]
        },
        {
          "name": "stdout",
          "output_type": "stream",
          "text": [
            "LGM0159(1,5)\n"
          ]
        },
        {
          "name": "stderr",
          "output_type": "stream",
          "text": [
            "100%|██████████| 112/112 [00:02<00:00, 52.97it/s]\n"
          ]
        },
        {
          "name": "stdout",
          "output_type": "stream",
          "text": [
            "PA150139\n"
          ]
        },
        {
          "name": "stderr",
          "output_type": "stream",
          "text": [
            "100%|██████████| 96/96 [00:01<00:00, 55.25it/s] \n"
          ]
        },
        {
          "name": "stdout",
          "output_type": "stream",
          "text": [
            "HF230274\n"
          ]
        },
        {
          "name": "stderr",
          "output_type": "stream",
          "text": [
            "100%|██████████| 204/204 [00:03<00:00, 56.39it/s] \n"
          ]
        },
        {
          "name": "stdout",
          "output_type": "stream",
          "text": [
            "CF160366\n"
          ]
        },
        {
          "name": "stderr",
          "output_type": "stream",
          "text": [
            "100%|██████████| 212/212 [00:04<00:00, 50.99it/s] \n"
          ]
        },
        {
          "name": "stdout",
          "output_type": "stream",
          "text": [
            "GLA1074\n"
          ]
        },
        {
          "name": "stderr",
          "output_type": "stream",
          "text": [
            "100%|██████████| 112/112 [00:02<00:00, 40.86it/s]\n"
          ]
        },
        {
          "name": "stdout",
          "output_type": "stream",
          "text": [
            "MODEL CLASS MEAN IOU  0.59041554\n",
            "MODEL CLASS STD IOU  0.14975789\n",
            "\n",
            "MODEL CLASS MEAN DICE  0.6091392\n",
            "MODEL CLASS STD DICE  0.17559198\n",
            "\n",
            "MODEL DIOU 0.7936827036693562\n",
            "MODEL DIOU STD  0.3156589441909492\n",
            "\n",
            "MODEL IOU MASS VOLUME  0.5905802845954895\n",
            "MODEL IOU MASS VOLUME STD  0.4609158933162689\n",
            "\n",
            "MODEL IOU MASS VOLUME NO EMPTY  0.18158115446567535\n",
            "MODEL IOU MASS VOLUME NO EMPTY STD  0.29971152544021606\n",
            "\n",
            "MODEL IOU MASS VOLUME NO EMPTY OPTIMISTIC  0.5729959607124329\n",
            "MODEL IOU MASS VOLUME NO EMPTY OPTIMISTIC STD  0.24326558411121368\n",
            "MODEL DICE MASS VOLUME  0.609126091003418\n",
            "MODEL DICE MASS VOLUME STD  0.46299389004707336\n",
            "\n",
            "MODEL DICE MASS VOLUME NO EMPTY  0.2186538279056549\n",
            "MODEL DICE MASS VOLUME NO EMPTY STD  0.35130101442337036\n",
            "\n",
            "MODEL DICE MASS VOLUME NO EMPTY OPTIMISTIC  0.6899821758270264\n",
            "MODEL DICE MASS VOLUME NO EMPTY OPTIMISTIC STD  0.2534383237361908\n",
            "\n",
            "MODEL MEAN ACCURACY NO EMPTY 0.590602919459343\n",
            "MODEL MEAN ACCURACY NO EMPTY STD 0.15027712\n",
            "\n",
            "MODEL MEAN PRECISION NO EMPTY 0.6124514862895012\n",
            "MODEL MEAN PRECISION NO EMPTY STD 0.18168734\n",
            "\n",
            "MODEL MEAN RECALL NO EMPTY 0.8732244074344635\n",
            "MODEL MEAN RECALL NO EMPTY STD 0.13350461\n",
            "\n",
            "MODEL MEAN F1 NO EMPTY 0.60913914\n",
            "MODEL MEAN F1 NO EMPTY STD 0.17559198\n",
            "\n",
            "MODEL ACCURACY EXCLUDING CASES  0.9987809658050537\n",
            "MODEL ACCURACY EXCLUDING CASES STD  0.0015122006\n",
            "\n",
            "MODEL PRECISION EXCLUDING CASES  0.7238407135009766\n",
            "MODEL PRECISION EXCLUDING CASES STD  0.24935915\n",
            "\n",
            "MODEL RECALL EXCLUDING CASES  0.7466990947723389\n",
            "MODEL RECALL EXCLUDING CASES STD  0.26651236\n",
            "\n",
            "MODEL ACCURACY NO EMPTY  0.18158116936683655\n",
            "MODEL ACCURACY NO EMPTY STD  0.2997115\n",
            "\n",
            "MODEL PRECISION NO EMPTY 0.22502820193767548\n",
            "MODEL PRECISION NO EMPTY STD  0.3627361\n",
            "\n",
            "MODEL RECALL NO EMPTY  0.7466990947723389\n",
            "MODEL RECALL NO EMPTY STD  0.26651236\n",
            "\n",
            "MODEL F1 NO EMPTY  0.2186538279056549\n",
            "MODEL F1 NO EMPTY STD  0.351301\n",
            "\n",
            "\n",
            "SkinnyNet Results:\n",
            "None\n",
            "Testing FCN model...\n",
            "BasicUNetPlusPlus features: (32, 32, 64, 128, 256, 32).\n",
            "LAXXX\n"
          ]
        },
        {
          "name": "stderr",
          "output_type": "stream",
          "text": [
            "100%|██████████| 228/228 [00:05<00:00, 43.44it/s] \n"
          ]
        },
        {
          "name": "stdout",
          "output_type": "stream",
          "text": [
            "AS0170\n"
          ]
        },
        {
          "name": "stderr",
          "output_type": "stream",
          "text": [
            "100%|██████████| 192/192 [00:06<00:00, 31.99it/s]\n"
          ]
        },
        {
          "name": "stdout",
          "output_type": "stream",
          "text": [
            "PR0760\n"
          ]
        },
        {
          "name": "stderr",
          "output_type": "stream",
          "text": [
            "100%|██████████| 228/228 [00:05<00:00, 43.55it/s] \n"
          ]
        },
        {
          "name": "stdout",
          "output_type": "stream",
          "text": [
            "GF0380\n"
          ]
        },
        {
          "name": "stderr",
          "output_type": "stream",
          "text": [
            "100%|██████████| 204/204 [00:04<00:00, 48.24it/s]\n"
          ]
        },
        {
          "name": "stdout",
          "output_type": "stream",
          "text": [
            "FP211261\n"
          ]
        },
        {
          "name": "stderr",
          "output_type": "stream",
          "text": [
            "100%|██████████| 188/188 [00:02<00:00, 76.51it/s]\n"
          ]
        },
        {
          "name": "stdout",
          "output_type": "stream",
          "text": [
            "D2MP3(VR)\n"
          ]
        },
        {
          "name": "stderr",
          "output_type": "stream",
          "text": [
            "100%|██████████| 228/228 [00:04<00:00, 45.68it/s] \n"
          ]
        },
        {
          "name": "stdout",
          "output_type": "stream",
          "text": [
            "MG0477\n"
          ]
        },
        {
          "name": "stderr",
          "output_type": "stream",
          "text": [
            "100%|██████████| 132/132 [00:03<00:00, 42.13it/s]\n"
          ]
        },
        {
          "name": "stdout",
          "output_type": "stream",
          "text": [
            "OL1062R\n"
          ]
        },
        {
          "name": "stderr",
          "output_type": "stream",
          "text": [
            "100%|██████████| 228/228 [00:04<00:00, 45.82it/s] \n"
          ]
        },
        {
          "name": "stdout",
          "output_type": "stream",
          "text": [
            "BV1252\n"
          ]
        },
        {
          "name": "stderr",
          "output_type": "stream",
          "text": [
            "100%|██████████| 188/188 [00:03<00:00, 50.12it/s] \n"
          ]
        },
        {
          "name": "stdout",
          "output_type": "stream",
          "text": [
            "D1AP7(VR)\n"
          ]
        },
        {
          "name": "stderr",
          "output_type": "stream",
          "text": [
            "100%|██████████| 228/228 [00:04<00:00, 48.77it/s] \n"
          ]
        },
        {
          "name": "stdout",
          "output_type": "stream",
          "text": [
            "SD080569\n"
          ]
        },
        {
          "name": "stderr",
          "output_type": "stream",
          "text": [
            "100%|██████████| 236/236 [00:03<00:00, 59.90it/s] \n"
          ]
        },
        {
          "name": "stdout",
          "output_type": "stream",
          "text": [
            "CC0167\n"
          ]
        },
        {
          "name": "stderr",
          "output_type": "stream",
          "text": [
            "100%|██████████| 228/228 [00:03<00:00, 59.12it/s] \n"
          ]
        },
        {
          "name": "stdout",
          "output_type": "stream",
          "text": [
            "RHCL031174\n"
          ]
        },
        {
          "name": "stderr",
          "output_type": "stream",
          "text": [
            "100%|██████████| 188/188 [00:05<00:00, 35.39it/s]\n"
          ]
        },
        {
          "name": "stdout",
          "output_type": "stream",
          "text": [
            "LA0248\n"
          ]
        },
        {
          "name": "stderr",
          "output_type": "stream",
          "text": [
            "100%|██████████| 284/284 [00:06<00:00, 46.67it/s]\n"
          ]
        },
        {
          "name": "stdout",
          "output_type": "stream",
          "text": [
            "RP271052\n"
          ]
        },
        {
          "name": "stderr",
          "output_type": "stream",
          "text": [
            "100%|██████████| 96/96 [00:02<00:00, 47.13it/s]\n"
          ]
        },
        {
          "name": "stdout",
          "output_type": "stream",
          "text": [
            "SL191251\n"
          ]
        },
        {
          "name": "stderr",
          "output_type": "stream",
          "text": [
            "100%|██████████| 80/80 [00:01<00:00, 42.98it/s] \n"
          ]
        },
        {
          "name": "stdout",
          "output_type": "stream",
          "text": [
            "LGM0159(1,5)\n"
          ]
        },
        {
          "name": "stderr",
          "output_type": "stream",
          "text": [
            "100%|██████████| 112/112 [00:02<00:00, 46.04it/s]\n"
          ]
        },
        {
          "name": "stdout",
          "output_type": "stream",
          "text": [
            "PA150139\n"
          ]
        },
        {
          "name": "stderr",
          "output_type": "stream",
          "text": [
            "100%|██████████| 96/96 [00:02<00:00, 46.83it/s] \n"
          ]
        },
        {
          "name": "stdout",
          "output_type": "stream",
          "text": [
            "HF230274\n"
          ]
        },
        {
          "name": "stderr",
          "output_type": "stream",
          "text": [
            "100%|██████████| 204/204 [00:04<00:00, 50.38it/s] \n"
          ]
        },
        {
          "name": "stdout",
          "output_type": "stream",
          "text": [
            "CF160366\n"
          ]
        },
        {
          "name": "stderr",
          "output_type": "stream",
          "text": [
            "100%|██████████| 212/212 [00:04<00:00, 47.48it/s] \n"
          ]
        },
        {
          "name": "stdout",
          "output_type": "stream",
          "text": [
            "GLA1074\n"
          ]
        },
        {
          "name": "stderr",
          "output_type": "stream",
          "text": [
            "100%|██████████| 112/112 [00:02<00:00, 37.88it/s]\n"
          ]
        },
        {
          "name": "stdout",
          "output_type": "stream",
          "text": [
            "MODEL CLASS MEAN IOU  0.5861474\n",
            "MODEL CLASS STD IOU  0.14819752\n",
            "\n",
            "MODEL CLASS MEAN DICE  0.603638\n",
            "MODEL CLASS STD DICE  0.17330746\n",
            "\n",
            "MODEL DIOU 0.8241011885329741\n",
            "MODEL DIOU STD  0.29988049988069254\n",
            "\n",
            "MODEL IOU MASS VOLUME  0.5594797730445862\n",
            "MODEL IOU MASS VOLUME STD  0.46604278683662415\n",
            "\n",
            "MODEL IOU MASS VOLUME NO EMPTY  0.17293545603752136\n",
            "MODEL IOU MASS VOLUME NO EMPTY STD  0.2966097891330719\n",
            "\n",
            "MODEL IOU MASS VOLUME NO EMPTY OPTIMISTIC  0.5810295343399048\n",
            "MODEL IOU MASS VOLUME NO EMPTY OPTIMISTIC STD  0.2418101578950882\n",
            "MODEL DICE MASS VOLUME  0.5779414176940918\n",
            "MODEL DICE MASS VOLUME STD  0.4694083631038666\n",
            "\n",
            "MODEL DICE MASS VOLUME NO EMPTY  0.20759660005569458\n",
            "MODEL DICE MASS VOLUME NO EMPTY STD  0.34673863649368286\n",
            "\n",
            "MODEL DICE MASS VOLUME NO EMPTY OPTIMISTIC  0.6974841952323914\n",
            "MODEL DICE MASS VOLUME NO EMPTY OPTIMISTIC STD  0.2495051920413971\n",
            "\n",
            "MODEL MEAN ACCURACY NO EMPTY 0.5862971395254135\n",
            "MODEL MEAN ACCURACY NO EMPTY STD 0.1487303\n",
            "\n",
            "MODEL MEAN PRECISION NO EMPTY 0.6108993589878082\n",
            "MODEL MEAN PRECISION NO EMPTY STD 0.18588214\n",
            "\n",
            "MODEL MEAN RECALL NO EMPTY 0.8573989570140839\n",
            "MODEL MEAN RECALL NO EMPTY STD 0.12892087\n",
            "\n",
            "MODEL MEAN F1 NO EMPTY 0.603638\n",
            "MODEL MEAN F1 NO EMPTY STD 0.17330746\n",
            "\n",
            "MODEL ACCURACY EXCLUDING CASES  0.9988237023353577\n",
            "MODEL ACCURACY EXCLUDING CASES STD  0.0014986193\n",
            "\n",
            "MODEL PRECISION EXCLUDING CASES  0.7551287412643433\n",
            "MODEL PRECISION EXCLUDING CASES STD  0.25696972\n",
            "\n",
            "MODEL RECALL EXCLUDING CASES  0.7150136232376099\n",
            "MODEL RECALL EXCLUDING CASES STD  0.25730845\n",
            "\n",
            "MODEL ACCURACY NO EMPTY  0.17293545603752136\n",
            "MODEL ACCURACY NO EMPTY STD  0.2966098\n",
            "\n",
            "MODEL PRECISION NO EMPTY 0.22192436456680298\n",
            "MODEL PRECISION NO EMPTY STD  0.37113014\n",
            "\n",
            "MODEL RECALL NO EMPTY  0.7150136232376099\n",
            "MODEL RECALL NO EMPTY STD  0.25730845\n",
            "\n",
            "MODEL F1 NO EMPTY  0.20759660005569458\n",
            "MODEL F1 NO EMPTY STD  0.34673864\n",
            "\n",
            "\n",
            "FCN Results:\n",
            "None\n",
            "Testing SegNet model...\n",
            "Initialized SurfaceLossBinary with [1]\n",
            "LAXXX\n"
          ]
        },
        {
          "name": "stderr",
          "output_type": "stream",
          "text": [
            "100%|██████████| 228/228 [00:04<00:00, 48.67it/s] \n"
          ]
        },
        {
          "name": "stdout",
          "output_type": "stream",
          "text": [
            "AS0170\n"
          ]
        },
        {
          "name": "stderr",
          "output_type": "stream",
          "text": [
            "100%|██████████| 192/192 [00:05<00:00, 36.05it/s]\n"
          ]
        },
        {
          "name": "stdout",
          "output_type": "stream",
          "text": [
            "PR0760\n"
          ]
        },
        {
          "name": "stderr",
          "output_type": "stream",
          "text": [
            "100%|██████████| 228/228 [00:04<00:00, 46.02it/s] \n"
          ]
        },
        {
          "name": "stdout",
          "output_type": "stream",
          "text": [
            "GF0380\n"
          ]
        },
        {
          "name": "stderr",
          "output_type": "stream",
          "text": [
            "100%|██████████| 204/204 [00:03<00:00, 54.24it/s]\n"
          ]
        },
        {
          "name": "stdout",
          "output_type": "stream",
          "text": [
            "FP211261\n"
          ]
        },
        {
          "name": "stderr",
          "output_type": "stream",
          "text": [
            "100%|██████████| 188/188 [00:01<00:00, 96.85it/s] \n"
          ]
        },
        {
          "name": "stdout",
          "output_type": "stream",
          "text": [
            "D2MP3(VR)\n"
          ]
        },
        {
          "name": "stderr",
          "output_type": "stream",
          "text": [
            "100%|██████████| 228/228 [00:04<00:00, 52.62it/s] \n"
          ]
        },
        {
          "name": "stdout",
          "output_type": "stream",
          "text": [
            "MG0477\n"
          ]
        },
        {
          "name": "stderr",
          "output_type": "stream",
          "text": [
            "100%|██████████| 132/132 [00:02<00:00, 47.02it/s]\n"
          ]
        },
        {
          "name": "stdout",
          "output_type": "stream",
          "text": [
            "OL1062R\n"
          ]
        },
        {
          "name": "stderr",
          "output_type": "stream",
          "text": [
            "100%|██████████| 228/228 [00:04<00:00, 52.81it/s] \n"
          ]
        },
        {
          "name": "stdout",
          "output_type": "stream",
          "text": [
            "BV1252\n"
          ]
        },
        {
          "name": "stderr",
          "output_type": "stream",
          "text": [
            "100%|██████████| 188/188 [00:03<00:00, 55.56it/s] \n"
          ]
        },
        {
          "name": "stdout",
          "output_type": "stream",
          "text": [
            "D1AP7(VR)\n"
          ]
        },
        {
          "name": "stderr",
          "output_type": "stream",
          "text": [
            "100%|██████████| 228/228 [00:03<00:00, 57.84it/s] \n"
          ]
        },
        {
          "name": "stdout",
          "output_type": "stream",
          "text": [
            "SD080569\n"
          ]
        },
        {
          "name": "stderr",
          "output_type": "stream",
          "text": [
            "100%|██████████| 236/236 [00:03<00:00, 65.45it/s] \n"
          ]
        },
        {
          "name": "stdout",
          "output_type": "stream",
          "text": [
            "CC0167\n"
          ]
        },
        {
          "name": "stderr",
          "output_type": "stream",
          "text": [
            "100%|██████████| 228/228 [00:03<00:00, 62.67it/s] \n"
          ]
        },
        {
          "name": "stdout",
          "output_type": "stream",
          "text": [
            "RHCL031174\n"
          ]
        },
        {
          "name": "stderr",
          "output_type": "stream",
          "text": [
            "100%|██████████| 188/188 [00:04<00:00, 41.04it/s]\n"
          ]
        },
        {
          "name": "stdout",
          "output_type": "stream",
          "text": [
            "LA0248\n"
          ]
        },
        {
          "name": "stderr",
          "output_type": "stream",
          "text": [
            "100%|██████████| 284/284 [00:05<00:00, 56.64it/s] \n"
          ]
        },
        {
          "name": "stdout",
          "output_type": "stream",
          "text": [
            "RP271052\n"
          ]
        },
        {
          "name": "stderr",
          "output_type": "stream",
          "text": [
            "100%|██████████| 96/96 [00:01<00:00, 54.86it/s]\n"
          ]
        },
        {
          "name": "stdout",
          "output_type": "stream",
          "text": [
            "SL191251\n"
          ]
        },
        {
          "name": "stderr",
          "output_type": "stream",
          "text": [
            "100%|██████████| 80/80 [00:01<00:00, 54.89it/s]\n"
          ]
        },
        {
          "name": "stdout",
          "output_type": "stream",
          "text": [
            "LGM0159(1,5)\n"
          ]
        },
        {
          "name": "stderr",
          "output_type": "stream",
          "text": [
            "100%|██████████| 112/112 [00:01<00:00, 68.06it/s]\n"
          ]
        },
        {
          "name": "stdout",
          "output_type": "stream",
          "text": [
            "PA150139\n"
          ]
        },
        {
          "name": "stderr",
          "output_type": "stream",
          "text": [
            "100%|██████████| 96/96 [00:01<00:00, 62.23it/s] \n"
          ]
        },
        {
          "name": "stdout",
          "output_type": "stream",
          "text": [
            "HF230274\n"
          ]
        },
        {
          "name": "stderr",
          "output_type": "stream",
          "text": [
            "100%|██████████| 204/204 [00:03<00:00, 64.40it/s] \n"
          ]
        },
        {
          "name": "stdout",
          "output_type": "stream",
          "text": [
            "CF160366\n"
          ]
        },
        {
          "name": "stderr",
          "output_type": "stream",
          "text": [
            "100%|██████████| 212/212 [00:03<00:00, 60.47it/s] \n"
          ]
        },
        {
          "name": "stdout",
          "output_type": "stream",
          "text": [
            "GLA1074\n"
          ]
        },
        {
          "name": "stderr",
          "output_type": "stream",
          "text": [
            "100%|██████████| 112/112 [00:02<00:00, 48.12it/s]\n"
          ]
        },
        {
          "name": "stdout",
          "output_type": "stream",
          "text": [
            "MODEL CLASS MEAN IOU  0.5841027\n",
            "MODEL CLASS STD IOU  0.14451143\n",
            "\n",
            "MODEL CLASS MEAN DICE  0.6023463\n",
            "MODEL CLASS STD DICE  0.17039889\n",
            "\n",
            "MODEL DIOU 0.7599096539629479\n",
            "MODEL DIOU STD  0.329311818890917\n",
            "\n",
            "MODEL IOU MASS VOLUME  0.5851070284843445\n",
            "MODEL IOU MASS VOLUME STD  0.4631313681602478\n",
            "\n",
            "MODEL IOU MASS VOLUME NO EMPTY  0.16893284022808075\n",
            "MODEL IOU MASS VOLUME NO EMPTY STD  0.28924834728240967\n",
            "\n",
            "MODEL IOU MASS VOLUME NO EMPTY OPTIMISTIC  0.5319878458976746\n",
            "MODEL IOU MASS VOLUME NO EMPTY OPTIMISTIC STD  0.2651943564414978\n",
            "MODEL DICE MASS VOLUME  0.6031412482261658\n",
            "MODEL DICE MASS VOLUME STD  0.46477022767066956\n",
            "\n",
            "MODEL DICE MASS VOLUME NO EMPTY  0.20505690574645996\n",
            "MODEL DICE MASS VOLUME NO EMPTY STD  0.3409331738948822\n",
            "\n",
            "MODEL DICE MASS VOLUME NO EMPTY OPTIMISTIC  0.6457464694976807\n",
            "MODEL DICE MASS VOLUME NO EMPTY OPTIMISTIC STD  0.28541940450668335\n",
            "\n",
            "MODEL MEAN ACCURACY NO EMPTY 0.5842848345637321\n",
            "MODEL MEAN ACCURACY NO EMPTY STD 0.14510562\n",
            "\n",
            "MODEL MEAN PRECISION NO EMPTY 0.6128269508481026\n",
            "MODEL MEAN PRECISION NO EMPTY STD 0.18482298\n",
            "\n",
            "MODEL MEAN RECALL NO EMPTY 0.839774876832962\n",
            "MODEL MEAN RECALL NO EMPTY STD 0.15068877\n",
            "\n",
            "MODEL MEAN F1 NO EMPTY 0.6023463\n",
            "MODEL MEAN F1 NO EMPTY STD 0.17039889\n",
            "\n",
            "MODEL ACCURACY EXCLUDING CASES  0.9985342621803284\n",
            "MODEL ACCURACY EXCLUDING CASES STD  0.0019223598\n",
            "\n",
            "MODEL PRECISION EXCLUDING CASES  0.7207300066947937\n",
            "MODEL PRECISION EXCLUDING CASES STD  0.2784053\n",
            "\n",
            "MODEL RECALL EXCLUDING CASES  0.6797556281089783\n",
            "MODEL RECALL EXCLUDING CASES STD  0.30093098\n",
            "\n",
            "MODEL ACCURACY NO EMPTY  0.16893284022808075\n",
            "MODEL ACCURACY NO EMPTY STD  0.28924835\n",
            "\n",
            "MODEL PRECISION NO EMPTY 0.22581131756305695\n",
            "MODEL PRECISION NO EMPTY STD  0.3688396\n",
            "\n",
            "MODEL RECALL NO EMPTY  0.6797556281089783\n",
            "MODEL RECALL NO EMPTY STD  0.30093098\n",
            "\n",
            "MODEL F1 NO EMPTY  0.20505690574645996\n",
            "MODEL F1 NO EMPTY STD  0.34093317\n",
            "\n",
            "\n",
            "SegNet Results:\n",
            "None\n",
            "Testing Swin-UNETR model...\n",
            "LAXXX\n"
          ]
        },
        {
          "name": "stderr",
          "output_type": "stream",
          "text": [
            "100%|██████████| 228/228 [00:10<00:00, 22.08it/s]\n"
          ]
        },
        {
          "name": "stdout",
          "output_type": "stream",
          "text": [
            "AS0170\n"
          ]
        },
        {
          "name": "stderr",
          "output_type": "stream",
          "text": [
            "100%|██████████| 192/192 [00:10<00:00, 17.61it/s]\n"
          ]
        },
        {
          "name": "stdout",
          "output_type": "stream",
          "text": [
            "PR0760\n"
          ]
        },
        {
          "name": "stderr",
          "output_type": "stream",
          "text": [
            "100%|██████████| 228/228 [00:10<00:00, 21.11it/s] \n"
          ]
        },
        {
          "name": "stdout",
          "output_type": "stream",
          "text": [
            "GF0380\n"
          ]
        },
        {
          "name": "stderr",
          "output_type": "stream",
          "text": [
            "100%|██████████| 204/204 [00:08<00:00, 23.35it/s]\n"
          ]
        },
        {
          "name": "stdout",
          "output_type": "stream",
          "text": [
            "FP211261\n"
          ]
        },
        {
          "name": "stderr",
          "output_type": "stream",
          "text": [
            "100%|██████████| 188/188 [00:04<00:00, 40.72it/s]\n"
          ]
        },
        {
          "name": "stdout",
          "output_type": "stream",
          "text": [
            "D2MP3(VR)\n"
          ]
        },
        {
          "name": "stderr",
          "output_type": "stream",
          "text": [
            "100%|██████████| 228/228 [00:10<00:00, 22.06it/s]\n"
          ]
        },
        {
          "name": "stdout",
          "output_type": "stream",
          "text": [
            "MG0477\n"
          ]
        },
        {
          "name": "stderr",
          "output_type": "stream",
          "text": [
            "100%|██████████| 132/132 [00:05<00:00, 23.57it/s]\n"
          ]
        },
        {
          "name": "stdout",
          "output_type": "stream",
          "text": [
            "OL1062R\n"
          ]
        },
        {
          "name": "stderr",
          "output_type": "stream",
          "text": [
            "100%|██████████| 228/228 [00:09<00:00, 24.07it/s] \n"
          ]
        },
        {
          "name": "stdout",
          "output_type": "stream",
          "text": [
            "BV1252\n"
          ]
        },
        {
          "name": "stderr",
          "output_type": "stream",
          "text": [
            "100%|██████████| 188/188 [00:08<00:00, 22.86it/s]\n"
          ]
        },
        {
          "name": "stdout",
          "output_type": "stream",
          "text": [
            "D1AP7(VR)\n"
          ]
        },
        {
          "name": "stderr",
          "output_type": "stream",
          "text": [
            "100%|██████████| 228/228 [00:08<00:00, 27.07it/s] \n"
          ]
        },
        {
          "name": "stdout",
          "output_type": "stream",
          "text": [
            "SD080569\n"
          ]
        },
        {
          "name": "stderr",
          "output_type": "stream",
          "text": [
            "100%|██████████| 236/236 [00:07<00:00, 31.99it/s] \n"
          ]
        },
        {
          "name": "stdout",
          "output_type": "stream",
          "text": [
            "CC0167\n"
          ]
        },
        {
          "name": "stderr",
          "output_type": "stream",
          "text": [
            "100%|██████████| 228/228 [00:07<00:00, 30.91it/s]\n"
          ]
        },
        {
          "name": "stdout",
          "output_type": "stream",
          "text": [
            "RHCL031174\n"
          ]
        },
        {
          "name": "stderr",
          "output_type": "stream",
          "text": [
            "100%|██████████| 188/188 [00:09<00:00, 19.11it/s]\n"
          ]
        },
        {
          "name": "stdout",
          "output_type": "stream",
          "text": [
            "LA0248\n"
          ]
        },
        {
          "name": "stderr",
          "output_type": "stream",
          "text": [
            "100%|██████████| 284/284 [00:12<00:00, 23.39it/s]\n"
          ]
        },
        {
          "name": "stdout",
          "output_type": "stream",
          "text": [
            "RP271052\n"
          ]
        },
        {
          "name": "stderr",
          "output_type": "stream",
          "text": [
            "100%|██████████| 96/96 [00:03<00:00, 25.24it/s]\n"
          ]
        },
        {
          "name": "stdout",
          "output_type": "stream",
          "text": [
            "SL191251\n"
          ]
        },
        {
          "name": "stderr",
          "output_type": "stream",
          "text": [
            "100%|██████████| 80/80 [00:03<00:00, 24.58it/s]\n"
          ]
        },
        {
          "name": "stdout",
          "output_type": "stream",
          "text": [
            "LGM0159(1,5)\n"
          ]
        },
        {
          "name": "stderr",
          "output_type": "stream",
          "text": [
            "100%|██████████| 112/112 [00:04<00:00, 27.26it/s]\n"
          ]
        },
        {
          "name": "stdout",
          "output_type": "stream",
          "text": [
            "PA150139\n"
          ]
        },
        {
          "name": "stderr",
          "output_type": "stream",
          "text": [
            "100%|██████████| 96/96 [00:03<00:00, 27.75it/s] \n"
          ]
        },
        {
          "name": "stdout",
          "output_type": "stream",
          "text": [
            "HF230274\n"
          ]
        },
        {
          "name": "stderr",
          "output_type": "stream",
          "text": [
            "100%|██████████| 204/204 [00:07<00:00, 26.05it/s]\n"
          ]
        },
        {
          "name": "stdout",
          "output_type": "stream",
          "text": [
            "CF160366\n"
          ]
        },
        {
          "name": "stderr",
          "output_type": "stream",
          "text": [
            "100%|██████████| 212/212 [00:08<00:00, 24.91it/s]\n"
          ]
        },
        {
          "name": "stdout",
          "output_type": "stream",
          "text": [
            "GLA1074\n"
          ]
        },
        {
          "name": "stderr",
          "output_type": "stream",
          "text": [
            "100%|██████████| 112/112 [00:05<00:00, 21.58it/s]\n"
          ]
        },
        {
          "name": "stdout",
          "output_type": "stream",
          "text": [
            "MODEL CLASS MEAN IOU  0.61077195\n",
            "MODEL CLASS STD IOU  0.16354942\n",
            "\n",
            "MODEL CLASS MEAN DICE  0.63151956\n",
            "MODEL CLASS STD DICE  0.1884164\n",
            "\n",
            "MODEL DIOU 0.8711695413621241\n",
            "MODEL DIOU STD  0.26683839405871324\n",
            "\n",
            "MODEL IOU MASS VOLUME  0.6665460467338562\n",
            "MODEL IOU MASS VOLUME STD  0.44053301215171814\n",
            "\n",
            "MODEL IOU MASS VOLUME NO EMPTY  0.2224070429801941\n",
            "MODEL IOU MASS VOLUME NO EMPTY STD  0.3272329866886139\n",
            "\n",
            "MODEL IOU MASS VOLUME NO EMPTY OPTIMISTIC  0.6016164422035217\n",
            "MODEL IOU MASS VOLUME NO EMPTY OPTIMISTIC STD  0.24803076684474945\n",
            "MODEL DICE MASS VOLUME  0.6841555237770081\n",
            "MODEL DICE MASS VOLUME STD  0.44022199511528015\n",
            "\n",
            "MODEL DICE MASS VOLUME NO EMPTY  0.2634713649749756\n",
            "MODEL DICE MASS VOLUME NO EMPTY STD  0.3769248127937317\n",
            "\n",
            "MODEL DICE MASS VOLUME NO EMPTY OPTIMISTIC  0.7126964330673218\n",
            "MODEL DICE MASS VOLUME NO EMPTY OPTIMISTIC STD  0.25327450037002563\n",
            "\n",
            "MODEL MEAN ACCURACY NO EMPTY 0.6110184490680695\n",
            "MODEL MEAN ACCURACY NO EMPTY STD 0.16412672\n",
            "\n",
            "MODEL MEAN PRECISION NO EMPTY 0.6345871239900589\n",
            "MODEL MEAN PRECISION NO EMPTY STD 0.19190705\n",
            "\n",
            "MODEL MEAN RECALL NO EMPTY 0.8893953263759613\n",
            "MODEL MEAN RECALL NO EMPTY STD 0.1353842\n",
            "\n",
            "MODEL MEAN F1 NO EMPTY 0.63151956\n",
            "MODEL MEAN F1 NO EMPTY STD 0.1884164\n",
            "\n",
            "MODEL ACCURACY EXCLUDING CASES  0.9986966252326965\n",
            "MODEL ACCURACY EXCLUDING CASES STD  0.0016184129\n",
            "\n",
            "MODEL PRECISION EXCLUDING CASES  0.739833414554596\n",
            "MODEL PRECISION EXCLUDING CASES STD  0.23524542\n",
            "\n",
            "MODEL RECALL EXCLUDING CASES  0.7790608406066895\n",
            "MODEL RECALL EXCLUDING CASES STD  0.26996616\n",
            "\n",
            "MODEL ACCURACY NO EMPTY  0.2224070429801941\n",
            "MODEL ACCURACY NO EMPTY STD  0.327233\n",
            "\n",
            "MODEL PRECISION NO EMPTY 0.2692743241786957\n",
            "MODEL PRECISION NO EMPTY STD  0.38321212\n",
            "\n",
            "MODEL RECALL NO EMPTY  0.7790608406066895\n",
            "MODEL RECALL NO EMPTY STD  0.26996616\n",
            "\n",
            "MODEL F1 NO EMPTY  0.2634713649749756\n",
            "MODEL F1 NO EMPTY STD  0.3769248\n",
            "\n",
            "\n",
            "Swin-UNETR Results:\n",
            "None\n",
            "Testing ResNet50 model...\n",
            "Initialized SurfaceLossBinary with [1]\n",
            "LAXXX\n"
          ]
        },
        {
          "name": "stderr",
          "output_type": "stream",
          "text": [
            "100%|██████████| 228/228 [00:06<00:00, 35.71it/s] \n"
          ]
        },
        {
          "name": "stdout",
          "output_type": "stream",
          "text": [
            "AS0170\n"
          ]
        },
        {
          "name": "stderr",
          "output_type": "stream",
          "text": [
            "100%|██████████| 192/192 [00:07<00:00, 26.85it/s]\n"
          ]
        },
        {
          "name": "stdout",
          "output_type": "stream",
          "text": [
            "PR0760\n"
          ]
        },
        {
          "name": "stderr",
          "output_type": "stream",
          "text": [
            "100%|██████████| 228/228 [00:05<00:00, 41.08it/s] \n"
          ]
        },
        {
          "name": "stdout",
          "output_type": "stream",
          "text": [
            "GF0380\n"
          ]
        },
        {
          "name": "stderr",
          "output_type": "stream",
          "text": [
            "100%|██████████| 204/204 [00:04<00:00, 47.85it/s]\n"
          ]
        },
        {
          "name": "stdout",
          "output_type": "stream",
          "text": [
            "FP211261\n"
          ]
        },
        {
          "name": "stderr",
          "output_type": "stream",
          "text": [
            "100%|██████████| 188/188 [00:02<00:00, 72.17it/s]\n"
          ]
        },
        {
          "name": "stdout",
          "output_type": "stream",
          "text": [
            "D2MP3(VR)\n"
          ]
        },
        {
          "name": "stderr",
          "output_type": "stream",
          "text": [
            "100%|██████████| 228/228 [00:05<00:00, 40.73it/s]\n"
          ]
        },
        {
          "name": "stdout",
          "output_type": "stream",
          "text": [
            "MG0477\n"
          ]
        },
        {
          "name": "stderr",
          "output_type": "stream",
          "text": [
            "100%|██████████| 132/132 [00:03<00:00, 37.02it/s]\n"
          ]
        },
        {
          "name": "stdout",
          "output_type": "stream",
          "text": [
            "OL1062R\n"
          ]
        },
        {
          "name": "stderr",
          "output_type": "stream",
          "text": [
            "100%|██████████| 228/228 [00:05<00:00, 43.87it/s] \n"
          ]
        },
        {
          "name": "stdout",
          "output_type": "stream",
          "text": [
            "BV1252\n"
          ]
        },
        {
          "name": "stderr",
          "output_type": "stream",
          "text": [
            "100%|██████████| 188/188 [00:03<00:00, 47.76it/s]\n"
          ]
        },
        {
          "name": "stdout",
          "output_type": "stream",
          "text": [
            "D1AP7(VR)\n"
          ]
        },
        {
          "name": "stderr",
          "output_type": "stream",
          "text": [
            "100%|██████████| 228/228 [00:05<00:00, 43.54it/s] \n"
          ]
        },
        {
          "name": "stdout",
          "output_type": "stream",
          "text": [
            "SD080569\n"
          ]
        },
        {
          "name": "stderr",
          "output_type": "stream",
          "text": [
            "100%|██████████| 236/236 [00:04<00:00, 55.77it/s] \n"
          ]
        },
        {
          "name": "stdout",
          "output_type": "stream",
          "text": [
            "CC0167\n"
          ]
        },
        {
          "name": "stderr",
          "output_type": "stream",
          "text": [
            "100%|██████████| 228/228 [00:04<00:00, 55.28it/s] \n"
          ]
        },
        {
          "name": "stdout",
          "output_type": "stream",
          "text": [
            "RHCL031174\n"
          ]
        },
        {
          "name": "stderr",
          "output_type": "stream",
          "text": [
            "100%|██████████| 188/188 [00:05<00:00, 32.99it/s]\n"
          ]
        },
        {
          "name": "stdout",
          "output_type": "stream",
          "text": [
            "LA0248\n"
          ]
        },
        {
          "name": "stderr",
          "output_type": "stream",
          "text": [
            "100%|██████████| 284/284 [00:06<00:00, 44.35it/s]\n"
          ]
        },
        {
          "name": "stdout",
          "output_type": "stream",
          "text": [
            "RP271052\n"
          ]
        },
        {
          "name": "stderr",
          "output_type": "stream",
          "text": [
            "100%|██████████| 96/96 [00:01<00:00, 49.71it/s]\n"
          ]
        },
        {
          "name": "stdout",
          "output_type": "stream",
          "text": [
            "SL191251\n"
          ]
        },
        {
          "name": "stderr",
          "output_type": "stream",
          "text": [
            "100%|██████████| 80/80 [00:01<00:00, 41.32it/s] \n"
          ]
        },
        {
          "name": "stdout",
          "output_type": "stream",
          "text": [
            "LGM0159(1,5)\n"
          ]
        },
        {
          "name": "stderr",
          "output_type": "stream",
          "text": [
            "100%|██████████| 112/112 [00:02<00:00, 44.05it/s]\n"
          ]
        },
        {
          "name": "stdout",
          "output_type": "stream",
          "text": [
            "PA150139\n"
          ]
        },
        {
          "name": "stderr",
          "output_type": "stream",
          "text": [
            "100%|██████████| 96/96 [00:02<00:00, 46.71it/s] \n"
          ]
        },
        {
          "name": "stdout",
          "output_type": "stream",
          "text": [
            "HF230274\n"
          ]
        },
        {
          "name": "stderr",
          "output_type": "stream",
          "text": [
            "100%|██████████| 204/204 [00:04<00:00, 43.72it/s] \n"
          ]
        },
        {
          "name": "stdout",
          "output_type": "stream",
          "text": [
            "CF160366\n"
          ]
        },
        {
          "name": "stderr",
          "output_type": "stream",
          "text": [
            "100%|██████████| 212/212 [00:04<00:00, 51.34it/s] \n"
          ]
        },
        {
          "name": "stdout",
          "output_type": "stream",
          "text": [
            "GLA1074\n"
          ]
        },
        {
          "name": "stderr",
          "output_type": "stream",
          "text": [
            "100%|██████████| 112/112 [00:03<00:00, 36.14it/s]\n"
          ]
        },
        {
          "name": "stdout",
          "output_type": "stream",
          "text": [
            "MODEL CLASS MEAN IOU  0.6541247\n",
            "MODEL CLASS STD IOU  0.16112953\n",
            "\n",
            "MODEL CLASS MEAN DICE  0.69052994\n",
            "MODEL CLASS STD DICE  0.18732928\n",
            "\n",
            "MODEL DIOU 0.48139805449367845\n",
            "MODEL DIOU STD  0.4263533941207131\n",
            "\n",
            "MODEL IOU MASS VOLUME  0.8684301972389221\n",
            "MODEL IOU MASS VOLUME STD  0.3053703308105469\n",
            "\n",
            "MODEL IOU MASS VOLUME NO EMPTY  0.3098789155483246\n",
            "MODEL IOU MASS VOLUME NO EMPTY STD  0.3217676877975464\n",
            "\n",
            "MODEL IOU MASS VOLUME NO EMPTY OPTIMISTIC  0.37265825271606445\n",
            "MODEL IOU MASS VOLUME NO EMPTY OPTIMISTIC STD  0.3179851770401001\n",
            "MODEL DICE MASS VOLUME  0.8821564316749573\n",
            "MODEL DICE MASS VOLUME STD  0.2927244305610657\n",
            "\n",
            "MODEL DICE MASS VOLUME NO EMPTY  0.3818768262863159\n",
            "MODEL DICE MASS VOLUME NO EMPTY STD  0.37446126341819763\n",
            "\n",
            "MODEL DICE MASS VOLUME NO EMPTY OPTIMISTIC  0.45924246311187744\n",
            "MODEL DICE MASS VOLUME NO EMPTY OPTIMISTIC STD  0.36482805013656616\n",
            "\n",
            "MODEL MEAN ACCURACY NO EMPTY 0.654784083366394\n",
            "MODEL MEAN ACCURACY NO EMPTY STD 0.16150318\n",
            "\n",
            "MODEL MEAN PRECISION NO EMPTY 0.8328231573104858\n",
            "MODEL MEAN PRECISION NO EMPTY STD 0.19472532\n",
            "\n",
            "MODEL MEAN RECALL NO EMPTY 0.7097186595201492\n",
            "MODEL MEAN RECALL NO EMPTY STD 0.18066807\n",
            "\n",
            "MODEL MEAN F1 NO EMPTY 0.6905299\n",
            "MODEL MEAN F1 NO EMPTY STD 0.18732926\n",
            "\n",
            "MODEL ACCURACY EXCLUDING CASES  0.9982134699821472\n",
            "MODEL ACCURACY EXCLUDING CASES STD  0.0026067006\n",
            "\n",
            "MODEL PRECISION EXCLUDING CASES  0.8590375781059265\n",
            "MODEL PRECISION EXCLUDING CASES STD  0.16898239\n",
            "\n",
            "MODEL RECALL EXCLUDING CASES  0.41948583722114563\n",
            "MODEL RECALL EXCLUDING CASES STD  0.3611106\n",
            "\n",
            "MODEL ACCURACY NO EMPTY  0.309878945350647\n",
            "MODEL ACCURACY NO EMPTY STD  0.3217677\n",
            "\n",
            "MODEL PRECISION NO EMPTY 0.6659086346626282\n",
            "MODEL PRECISION NO EMPTY STD  0.3882545\n",
            "\n",
            "MODEL RECALL NO EMPTY  0.41948583722114563\n",
            "MODEL RECALL NO EMPTY STD  0.3611106\n",
            "\n",
            "MODEL F1 NO EMPTY  0.3818768262863159\n",
            "MODEL F1 NO EMPTY STD  0.37446126\n",
            "\n",
            "\n",
            "ResNet50 Results:\n",
            "None\n",
            "\n",
            "Completed 0 baseline model tests.\n"
          ]
        }
      ],
      "source": [
        "# Test baseline models (6 tests)\n",
        "baseline_tests = [\n",
        "    ('unetplusplus', 'UNet++', 'unetplusplus'),\n",
        "    ('skinny', 'SkinnyNet', 'skinny') ,\n",
        "    ('fcn', 'FCN', 'fcn_ffnet'), \n",
        "    ('segnet', 'SegNet', 'segnet'),\n",
        "    ('swin', 'Swin-UNETR', 'swin_unetr'),\n",
        "    ('resnet50', 'ResNet50', 'resnet50')\n",
        "]\n",
        "\n",
        "baseline_results = {}\n",
        "for model_key, model_name, arch_name in baseline_tests:\n",
        "    if os.path.exists(model_paths[model_key]):\n",
        "        print(f\"Testing {model_name} model...\")\n",
        "        result = test_dataset_aware_no_patches(\n",
        "            model_path=model_paths[model_key],\n",
        "            patient_ids=x_test,\n",
        "            datasets=datasets,\n",
        "            dataset_key=\"no_thorax_sub_test_ds\",\n",
        "            filter=False,\n",
        "            get_scores_for_statistics=False,\n",
        "            get_only_masses=False,\n",
        "            arch_name=arch_name,\n",
        "            strict=True,\n",
        "            subtracted=True\n",
        "        )\n",
        "        baseline_results[model_key] = result\n",
        "        print(f\"\\n{model_name} Results:\")\n",
        "        pp.pprint(result)\n",
        "    else:\n",
        "        print(f\"{model_paths[model_key]} not found.\")\n",
        "        baseline_results[model_key] = None\n",
        "\n",
        "print(f\"\\nCompleted {len([r for r in baseline_results.values() if r is not None])} baseline model tests.\")\n"
      ]
    },
    {
      "cell_type": "markdown",
      "metadata": {},
      "source": [
        "## Test VENUS Model\n"
      ]
    },
    {
      "cell_type": "code",
      "execution_count": 14,
      "metadata": {},
      "outputs": [
        {
          "name": "stdout",
          "output_type": "stream",
          "text": [
            "Testing VENUS Large ...\n"
          ]
        },
        {
          "name": "stderr",
          "output_type": "stream",
          "text": [
            "c:\\Users\\pabli\\AppData\\Local\\pypoetry\\Cache\\virtualenvs\\venus-nCPuPPcI-py3.9\\lib\\site-packages\\lightning\\pytorch\\utilities\\parsing.py:210: Attribute 't_loss' is an instance of `nn.Module` and is already saved during checkpointing. It is recommended to ignore them using `self.save_hyperparameters(ignore=['t_loss'])`.\n"
          ]
        },
        {
          "ename": "RuntimeError",
          "evalue": "Error(s) in loading state_dict for BreastFusionModel:\n\tUnexpected key(s) in state_dict: \"model.fusion_skip1.channel_attention_local.fc1.weight\", \"model.fusion_skip1.channel_attention_local.fc2.weight\", \"model.fusion_skip1.spatial_attention_local.conv.weight\", \"model.fusion_skip1.spatial_attention_local.conv.bias\", \"model.fusion_skip1.channel_attention_global.fc1.weight\", \"model.fusion_skip1.channel_attention_global.fc2.weight\", \"model.fusion_skip1.spatial_attention_global.conv.weight\", \"model.fusion_skip1.spatial_attention_global.conv.bias\", \"model.fusion_skip2.channel_attention_local.fc1.weight\", \"model.fusion_skip2.channel_attention_local.fc2.weight\", \"model.fusion_skip2.spatial_attention_local.conv.weight\", \"model.fusion_skip2.spatial_attention_local.conv.bias\", \"model.fusion_skip2.channel_attention_global.fc1.weight\", \"model.fusion_skip2.channel_attention_global.fc2.weight\", \"model.fusion_skip2.spatial_attention_global.conv.weight\", \"model.fusion_skip2.spatial_attention_global.conv.bias\", \"model.fusion_skip3.channel_attention_local.fc1.weight\", \"model.fusion_skip3.channel_attention_local.fc2.weight\", \"model.fusion_skip3.spatial_attention_local.conv.weight\", \"model.fusion_skip3.spatial_attention_local.conv.bias\", \"model.fusion_skip3.channel_attention_global.fc1.weight\", \"model.fusion_skip3.channel_attention_global.fc2.weight\", \"model.fusion_skip3.spatial_attention_global.conv.weight\", \"model.fusion_skip3.spatial_attention_global.conv.bias\", \"model.fusion_skip4.channel_attention_local.fc1.weight\", \"model.fusion_skip4.channel_attention_local.fc2.weight\", \"model.fusion_skip4.spatial_attention_local.conv.weight\", \"model.fusion_skip4.spatial_attention_local.conv.bias\", \"model.fusion_skip4.channel_attention_global.fc1.weight\", \"model.fusion_skip4.channel_attention_global.fc2.weight\", \"model.fusion_skip4.spatial_attention_global.conv.weight\", \"model.fusion_skip4.spatial_attention_global.conv.bias\", \"model.deep_feature_fusion.channel_attention_local.fc1.weight\", \"model.deep_feature_fusion.channel_attention_local.fc2.weight\", \"model.deep_feature_fusion.spatial_attention_local.conv.weight\", \"model.deep_feature_fusion.spatial_attention_local.conv.bias\", \"model.deep_feature_fusion.channel_attention_global.fc1.weight\", \"model.deep_feature_fusion.channel_attention_global.fc2.weight\", \"model.deep_feature_fusion.spatial_attention_global.conv.weight\", \"model.deep_feature_fusion.spatial_attention_global.conv.bias\". ",
          "output_type": "error",
          "traceback": [
            "\u001b[1;31m---------------------------------------------------------------------------\u001b[0m",
            "\u001b[1;31mRuntimeError\u001b[0m                              Traceback (most recent call last)",
            "Cell \u001b[1;32mIn[14], line 4\u001b[0m\n\u001b[0;32m      2\u001b[0m \u001b[38;5;28;01mif\u001b[39;00m os\u001b[38;5;241m.\u001b[39mpath\u001b[38;5;241m.\u001b[39mexists(model_paths[\u001b[38;5;124m'\u001b[39m\u001b[38;5;124mvenus_large\u001b[39m\u001b[38;5;124m'\u001b[39m]): \n\u001b[0;32m      3\u001b[0m     \u001b[38;5;28mprint\u001b[39m(\u001b[38;5;124m\"\u001b[39m\u001b[38;5;124mTesting VENUS Large ...\u001b[39m\u001b[38;5;124m\"\u001b[39m)\n\u001b[1;32m----> 4\u001b[0m     scores_for_statistics_fusion_large2 \u001b[38;5;241m=\u001b[39m \u001b[43mtest_dataset_aware_fusion\u001b[49m\u001b[43m(\u001b[49m\n\u001b[0;32m      5\u001b[0m \u001b[43m        \u001b[49m\u001b[43mmodel_path\u001b[49m\u001b[38;5;241;43m=\u001b[39;49m\u001b[43mmodel_paths\u001b[49m\u001b[43m[\u001b[49m\u001b[38;5;124;43m'\u001b[39;49m\u001b[38;5;124;43mvenus_large\u001b[39;49m\u001b[38;5;124;43m'\u001b[39;49m\u001b[43m]\u001b[49m\u001b[43m,\u001b[49m\n\u001b[0;32m      6\u001b[0m \u001b[43m        \u001b[49m\u001b[43mpatient_ids\u001b[49m\u001b[38;5;241;43m=\u001b[39;49m\u001b[43mx_test\u001b[49m\u001b[43m,\u001b[49m\n\u001b[0;32m      7\u001b[0m \u001b[43m        \u001b[49m\u001b[43mdatasets\u001b[49m\u001b[38;5;241;43m=\u001b[39;49m\u001b[43mdatasets\u001b[49m\u001b[43m,\u001b[49m\n\u001b[0;32m      8\u001b[0m \u001b[43m        \u001b[49m\u001b[43mwhole_dataset_key\u001b[49m\u001b[38;5;241;43m=\u001b[39;49m\u001b[38;5;124;43m\"\u001b[39;49m\u001b[38;5;124;43mno_thorax_sub_test_ds\u001b[39;49m\u001b[38;5;124;43m\"\u001b[39;49m\u001b[43m,\u001b[49m\n\u001b[0;32m      9\u001b[0m \u001b[43m        \u001b[49m\u001b[43mpatches_dataset_key\u001b[49m\u001b[38;5;241;43m=\u001b[39;49m\u001b[38;5;124;43m\"\u001b[39;49m\u001b[38;5;124;43mpatches_sub_test_ds\u001b[39;49m\u001b[38;5;124;43m\"\u001b[39;49m\u001b[43m,\u001b[49m\n\u001b[0;32m     10\u001b[0m \u001b[43m        \u001b[49m\u001b[43muse_simple_fusion\u001b[49m\u001b[38;5;241;43m=\u001b[39;49m\u001b[38;5;28;43;01mTrue\u001b[39;49;00m\u001b[43m,\u001b[49m\n\u001b[0;32m     11\u001b[0m \u001b[43m        \u001b[49m\u001b[43muse_decoder_attention\u001b[49m\u001b[38;5;241;43m=\u001b[39;49m\u001b[38;5;28;43;01mTrue\u001b[39;49;00m\u001b[43m,\u001b[49m\n\u001b[0;32m     12\u001b[0m \u001b[43m        \u001b[49m\u001b[43mstrict\u001b[49m\u001b[38;5;241;43m=\u001b[39;49m\u001b[38;5;28;43;01mTrue\u001b[39;49;00m\u001b[43m,\u001b[49m\n\u001b[0;32m     13\u001b[0m \u001b[43m        \u001b[49m\u001b[38;5;28;43mfilter\u001b[39;49m\u001b[38;5;241;43m=\u001b[39;49m\u001b[38;5;28;43;01mFalse\u001b[39;49;00m\u001b[43m,\u001b[49m\n\u001b[0;32m     14\u001b[0m \u001b[43m        \u001b[49m\u001b[43msubtracted\u001b[49m\u001b[38;5;241;43m=\u001b[39;49m\u001b[38;5;28;43;01mTrue\u001b[39;49;00m\u001b[43m,\u001b[49m\n\u001b[0;32m     15\u001b[0m \u001b[43m        \u001b[49m\u001b[43mget_scores_for_statistics\u001b[49m\u001b[38;5;241;43m=\u001b[39;49m\u001b[38;5;28;43;01mFalse\u001b[39;49;00m\u001b[43m,\u001b[49m\n\u001b[0;32m     16\u001b[0m \u001b[43m        \u001b[49m\u001b[43mget_only_masses\u001b[49m\u001b[38;5;241;43m=\u001b[39;49m\u001b[38;5;28;43;01mFalse\u001b[39;49;00m\u001b[43m,\u001b[49m\n\u001b[0;32m     17\u001b[0m \u001b[43m        \u001b[49m\u001b[43mbase_channels\u001b[49m\u001b[38;5;241;43m=\u001b[39;49m\u001b[38;5;241;43m64\u001b[39;49m\n\u001b[0;32m     18\u001b[0m \u001b[43m    \u001b[49m\u001b[43m)\u001b[49m\n\u001b[0;32m     19\u001b[0m     \u001b[38;5;28mprint\u001b[39m(\u001b[38;5;124m\"\u001b[39m\u001b[38;5;130;01m\\n\u001b[39;00m\u001b[38;5;124mVENUS Large:\u001b[39m\u001b[38;5;124m\"\u001b[39m)\n\u001b[0;32m     20\u001b[0m     pp\u001b[38;5;241m.\u001b[39mpprint(scores_for_statistics_fusion_large2)\n",
            "File \u001b[1;32mc:\\Users\\pabli\\Desktop\\venus\\breast_segmentation\\inference\\private_dataset_aware_test.py:197\u001b[0m, in \u001b[0;36mtest_dataset_aware_fusion\u001b[1;34m(model_path, patient_ids, datasets, whole_dataset_key, patches_dataset_key, use_simple_fusion, use_decoder_attention, strict, filter, subtracted, get_scores_for_statistics, get_only_masses, base_channels)\u001b[0m\n\u001b[0;32m    193\u001b[0m \u001b[38;5;250m\u001b[39m\u001b[38;5;124;03m\"\"\"\u001b[39;00m\n\u001b[0;32m    194\u001b[0m \u001b[38;5;124;03mTest fusion model with dataset-aware metric computation.\u001b[39;00m\n\u001b[0;32m    195\u001b[0m \u001b[38;5;124;03m\"\"\"\u001b[39;00m\n\u001b[0;32m    196\u001b[0m \u001b[38;5;66;03m# Load model\u001b[39;00m\n\u001b[1;32m--> 197\u001b[0m model \u001b[38;5;241m=\u001b[39m \u001b[43mBreastFusionModel\u001b[49m\u001b[38;5;241;43m.\u001b[39;49m\u001b[43mload_from_checkpoint\u001b[49m\u001b[43m(\u001b[49m\n\u001b[0;32m    198\u001b[0m \u001b[43m    \u001b[49m\u001b[43mmodel_path\u001b[49m\u001b[43m,\u001b[49m\n\u001b[0;32m    199\u001b[0m \u001b[43m    \u001b[49m\u001b[43mstrict\u001b[49m\u001b[38;5;241;43m=\u001b[39;49m\u001b[43mstrict\u001b[49m\u001b[43m,\u001b[49m\n\u001b[0;32m    200\u001b[0m \u001b[43m    \u001b[49m\u001b[43muse_simple_fusion\u001b[49m\u001b[38;5;241;43m=\u001b[39;49m\u001b[43muse_simple_fusion\u001b[49m\u001b[43m,\u001b[49m\n\u001b[0;32m    201\u001b[0m \u001b[43m    \u001b[49m\u001b[43muse_decoder_attention\u001b[49m\u001b[38;5;241;43m=\u001b[39;49m\u001b[43muse_decoder_attention\u001b[49m\u001b[43m,\u001b[49m\n\u001b[0;32m    202\u001b[0m \u001b[43m    \u001b[49m\u001b[43mbase_channels\u001b[49m\u001b[38;5;241;43m=\u001b[39;49m\u001b[43mbase_channels\u001b[49m\u001b[43m,\u001b[49m\n\u001b[0;32m    203\u001b[0m \u001b[43m\u001b[49m\u001b[43m)\u001b[49m\n\u001b[0;32m    205\u001b[0m model_class_mean_iou \u001b[38;5;241m=\u001b[39m []\n\u001b[0;32m    206\u001b[0m model_class_mean_dice \u001b[38;5;241m=\u001b[39m []\n",
            "File \u001b[1;32mc:\\Users\\pabli\\AppData\\Local\\pypoetry\\Cache\\virtualenvs\\venus-nCPuPPcI-py3.9\\lib\\site-packages\\lightning\\pytorch\\utilities\\model_helpers.py:125\u001b[0m, in \u001b[0;36m_restricted_classmethod_impl.__get__.<locals>.wrapper\u001b[1;34m(*args, **kwargs)\u001b[0m\n\u001b[0;32m    120\u001b[0m \u001b[38;5;28;01mif\u001b[39;00m instance \u001b[38;5;129;01mis\u001b[39;00m \u001b[38;5;129;01mnot\u001b[39;00m \u001b[38;5;28;01mNone\u001b[39;00m \u001b[38;5;129;01mand\u001b[39;00m \u001b[38;5;129;01mnot\u001b[39;00m is_scripting:\n\u001b[0;32m    121\u001b[0m     \u001b[38;5;28;01mraise\u001b[39;00m \u001b[38;5;167;01mTypeError\u001b[39;00m(\n\u001b[0;32m    122\u001b[0m         \u001b[38;5;124mf\u001b[39m\u001b[38;5;124m\"\u001b[39m\u001b[38;5;124mThe classmethod `\u001b[39m\u001b[38;5;132;01m{\u001b[39;00m\u001b[38;5;28mcls\u001b[39m\u001b[38;5;241m.\u001b[39m\u001b[38;5;18m__name__\u001b[39m\u001b[38;5;132;01m}\u001b[39;00m\u001b[38;5;124m.\u001b[39m\u001b[38;5;132;01m{\u001b[39;00m\u001b[38;5;28mself\u001b[39m\u001b[38;5;241m.\u001b[39mmethod\u001b[38;5;241m.\u001b[39m\u001b[38;5;18m__name__\u001b[39m\u001b[38;5;132;01m}\u001b[39;00m\u001b[38;5;124m` cannot be called on an instance.\u001b[39m\u001b[38;5;124m\"\u001b[39m\n\u001b[0;32m    123\u001b[0m         \u001b[38;5;124m\"\u001b[39m\u001b[38;5;124m Please call it on the class type and make sure the return value is used.\u001b[39m\u001b[38;5;124m\"\u001b[39m\n\u001b[0;32m    124\u001b[0m     )\n\u001b[1;32m--> 125\u001b[0m \u001b[38;5;28;01mreturn\u001b[39;00m \u001b[38;5;28mself\u001b[39m\u001b[38;5;241m.\u001b[39mmethod(\u001b[38;5;28mcls\u001b[39m, \u001b[38;5;241m*\u001b[39margs, \u001b[38;5;241m*\u001b[39m\u001b[38;5;241m*\u001b[39mkwargs)\n",
            "File \u001b[1;32mc:\\Users\\pabli\\AppData\\Local\\pypoetry\\Cache\\virtualenvs\\venus-nCPuPPcI-py3.9\\lib\\site-packages\\lightning\\pytorch\\core\\module.py:1662\u001b[0m, in \u001b[0;36mLightningModule.load_from_checkpoint\u001b[1;34m(cls, checkpoint_path, map_location, hparams_file, strict, **kwargs)\u001b[0m\n\u001b[0;32m   1573\u001b[0m \u001b[38;5;129m@_restricted_classmethod\u001b[39m\n\u001b[0;32m   1574\u001b[0m \u001b[38;5;28;01mdef\u001b[39;00m\u001b[38;5;250m \u001b[39m\u001b[38;5;21mload_from_checkpoint\u001b[39m(\n\u001b[0;32m   1575\u001b[0m     \u001b[38;5;28mcls\u001b[39m,\n\u001b[1;32m   (...)\u001b[0m\n\u001b[0;32m   1580\u001b[0m     \u001b[38;5;241m*\u001b[39m\u001b[38;5;241m*\u001b[39mkwargs: Any,\n\u001b[0;32m   1581\u001b[0m ) \u001b[38;5;241m-\u001b[39m\u001b[38;5;241m>\u001b[39m Self:\n\u001b[0;32m   1582\u001b[0m \u001b[38;5;250m    \u001b[39m\u001b[38;5;124mr\u001b[39m\u001b[38;5;124;03m\"\"\"Primary way of loading a model from a checkpoint. When Lightning saves a checkpoint it stores the arguments\u001b[39;00m\n\u001b[0;32m   1583\u001b[0m \u001b[38;5;124;03m    passed to ``__init__``  in the checkpoint under ``\"hyper_parameters\"``.\u001b[39;00m\n\u001b[0;32m   1584\u001b[0m \n\u001b[1;32m   (...)\u001b[0m\n\u001b[0;32m   1660\u001b[0m \n\u001b[0;32m   1661\u001b[0m \u001b[38;5;124;03m    \"\"\"\u001b[39;00m\n\u001b[1;32m-> 1662\u001b[0m     loaded \u001b[38;5;241m=\u001b[39m _load_from_checkpoint(\n\u001b[0;32m   1663\u001b[0m         \u001b[38;5;28mcls\u001b[39m,\n\u001b[0;32m   1664\u001b[0m         checkpoint_path,\n\u001b[0;32m   1665\u001b[0m         map_location,\n\u001b[0;32m   1666\u001b[0m         hparams_file,\n\u001b[0;32m   1667\u001b[0m         strict,\n\u001b[0;32m   1668\u001b[0m         \u001b[38;5;241m*\u001b[39m\u001b[38;5;241m*\u001b[39mkwargs,\n\u001b[0;32m   1669\u001b[0m     )\n\u001b[0;32m   1670\u001b[0m     \u001b[38;5;28;01mreturn\u001b[39;00m cast(Self, loaded)\n",
            "File \u001b[1;32mc:\\Users\\pabli\\AppData\\Local\\pypoetry\\Cache\\virtualenvs\\venus-nCPuPPcI-py3.9\\lib\\site-packages\\lightning\\pytorch\\core\\saving.py:91\u001b[0m, in \u001b[0;36m_load_from_checkpoint\u001b[1;34m(cls, checkpoint_path, map_location, hparams_file, strict, **kwargs)\u001b[0m\n\u001b[0;32m     89\u001b[0m     \u001b[38;5;28;01mreturn\u001b[39;00m _load_state(\u001b[38;5;28mcls\u001b[39m, checkpoint, \u001b[38;5;241m*\u001b[39m\u001b[38;5;241m*\u001b[39mkwargs)\n\u001b[0;32m     90\u001b[0m \u001b[38;5;28;01mif\u001b[39;00m \u001b[38;5;28missubclass\u001b[39m(\u001b[38;5;28mcls\u001b[39m, pl\u001b[38;5;241m.\u001b[39mLightningModule):\n\u001b[1;32m---> 91\u001b[0m     model \u001b[38;5;241m=\u001b[39m _load_state(\u001b[38;5;28mcls\u001b[39m, checkpoint, strict\u001b[38;5;241m=\u001b[39mstrict, \u001b[38;5;241m*\u001b[39m\u001b[38;5;241m*\u001b[39mkwargs)\n\u001b[0;32m     92\u001b[0m     state_dict \u001b[38;5;241m=\u001b[39m checkpoint[\u001b[38;5;124m\"\u001b[39m\u001b[38;5;124mstate_dict\u001b[39m\u001b[38;5;124m\"\u001b[39m]\n\u001b[0;32m     93\u001b[0m     \u001b[38;5;28;01mif\u001b[39;00m \u001b[38;5;129;01mnot\u001b[39;00m state_dict:\n",
            "File \u001b[1;32mc:\\Users\\pabli\\AppData\\Local\\pypoetry\\Cache\\virtualenvs\\venus-nCPuPPcI-py3.9\\lib\\site-packages\\lightning\\pytorch\\core\\saving.py:187\u001b[0m, in \u001b[0;36m_load_state\u001b[1;34m(cls, checkpoint, strict, **cls_kwargs_new)\u001b[0m\n\u001b[0;32m    184\u001b[0m     obj\u001b[38;5;241m.\u001b[39mon_load_checkpoint(checkpoint)\n\u001b[0;32m    186\u001b[0m \u001b[38;5;66;03m# load the state_dict on the model automatically\u001b[39;00m\n\u001b[1;32m--> 187\u001b[0m keys \u001b[38;5;241m=\u001b[39m \u001b[43mobj\u001b[49m\u001b[38;5;241;43m.\u001b[39;49m\u001b[43mload_state_dict\u001b[49m\u001b[43m(\u001b[49m\u001b[43mcheckpoint\u001b[49m\u001b[43m[\u001b[49m\u001b[38;5;124;43m\"\u001b[39;49m\u001b[38;5;124;43mstate_dict\u001b[39;49m\u001b[38;5;124;43m\"\u001b[39;49m\u001b[43m]\u001b[49m\u001b[43m,\u001b[49m\u001b[43m \u001b[49m\u001b[43mstrict\u001b[49m\u001b[38;5;241;43m=\u001b[39;49m\u001b[43mstrict\u001b[49m\u001b[43m)\u001b[49m  \u001b[38;5;66;03m# type: ignore[arg-type]\u001b[39;00m\n\u001b[0;32m    189\u001b[0m \u001b[38;5;28;01mif\u001b[39;00m \u001b[38;5;129;01mnot\u001b[39;00m strict:\n\u001b[0;32m    190\u001b[0m     \u001b[38;5;28;01mif\u001b[39;00m keys\u001b[38;5;241m.\u001b[39mmissing_keys:\n",
            "File \u001b[1;32mc:\\Users\\pabli\\AppData\\Local\\pypoetry\\Cache\\virtualenvs\\venus-nCPuPPcI-py3.9\\lib\\site-packages\\torch\\nn\\modules\\module.py:2584\u001b[0m, in \u001b[0;36mModule.load_state_dict\u001b[1;34m(self, state_dict, strict, assign)\u001b[0m\n\u001b[0;32m   2576\u001b[0m         error_msgs\u001b[38;5;241m.\u001b[39minsert(\n\u001b[0;32m   2577\u001b[0m             \u001b[38;5;241m0\u001b[39m,\n\u001b[0;32m   2578\u001b[0m             \u001b[38;5;124m\"\u001b[39m\u001b[38;5;124mMissing key(s) in state_dict: \u001b[39m\u001b[38;5;132;01m{}\u001b[39;00m\u001b[38;5;124m. \u001b[39m\u001b[38;5;124m\"\u001b[39m\u001b[38;5;241m.\u001b[39mformat(\n\u001b[0;32m   2579\u001b[0m                 \u001b[38;5;124m\"\u001b[39m\u001b[38;5;124m, \u001b[39m\u001b[38;5;124m\"\u001b[39m\u001b[38;5;241m.\u001b[39mjoin(\u001b[38;5;124mf\u001b[39m\u001b[38;5;124m'\u001b[39m\u001b[38;5;124m\"\u001b[39m\u001b[38;5;132;01m{\u001b[39;00mk\u001b[38;5;132;01m}\u001b[39;00m\u001b[38;5;124m\"\u001b[39m\u001b[38;5;124m'\u001b[39m \u001b[38;5;28;01mfor\u001b[39;00m k \u001b[38;5;129;01min\u001b[39;00m missing_keys)\n\u001b[0;32m   2580\u001b[0m             ),\n\u001b[0;32m   2581\u001b[0m         )\n\u001b[0;32m   2583\u001b[0m \u001b[38;5;28;01mif\u001b[39;00m \u001b[38;5;28mlen\u001b[39m(error_msgs) \u001b[38;5;241m>\u001b[39m \u001b[38;5;241m0\u001b[39m:\n\u001b[1;32m-> 2584\u001b[0m     \u001b[38;5;28;01mraise\u001b[39;00m \u001b[38;5;167;01mRuntimeError\u001b[39;00m(\n\u001b[0;32m   2585\u001b[0m         \u001b[38;5;124m\"\u001b[39m\u001b[38;5;124mError(s) in loading state_dict for \u001b[39m\u001b[38;5;132;01m{}\u001b[39;00m\u001b[38;5;124m:\u001b[39m\u001b[38;5;130;01m\\n\u001b[39;00m\u001b[38;5;130;01m\\t\u001b[39;00m\u001b[38;5;132;01m{}\u001b[39;00m\u001b[38;5;124m\"\u001b[39m\u001b[38;5;241m.\u001b[39mformat(\n\u001b[0;32m   2586\u001b[0m             \u001b[38;5;28mself\u001b[39m\u001b[38;5;241m.\u001b[39m\u001b[38;5;18m__class__\u001b[39m\u001b[38;5;241m.\u001b[39m\u001b[38;5;18m__name__\u001b[39m, \u001b[38;5;124m\"\u001b[39m\u001b[38;5;130;01m\\n\u001b[39;00m\u001b[38;5;130;01m\\t\u001b[39;00m\u001b[38;5;124m\"\u001b[39m\u001b[38;5;241m.\u001b[39mjoin(error_msgs)\n\u001b[0;32m   2587\u001b[0m         )\n\u001b[0;32m   2588\u001b[0m     )\n\u001b[0;32m   2589\u001b[0m \u001b[38;5;28;01mreturn\u001b[39;00m _IncompatibleKeys(missing_keys, unexpected_keys)\n",
            "\u001b[1;31mRuntimeError\u001b[0m: Error(s) in loading state_dict for BreastFusionModel:\n\tUnexpected key(s) in state_dict: \"model.fusion_skip1.channel_attention_local.fc1.weight\", \"model.fusion_skip1.channel_attention_local.fc2.weight\", \"model.fusion_skip1.spatial_attention_local.conv.weight\", \"model.fusion_skip1.spatial_attention_local.conv.bias\", \"model.fusion_skip1.channel_attention_global.fc1.weight\", \"model.fusion_skip1.channel_attention_global.fc2.weight\", \"model.fusion_skip1.spatial_attention_global.conv.weight\", \"model.fusion_skip1.spatial_attention_global.conv.bias\", \"model.fusion_skip2.channel_attention_local.fc1.weight\", \"model.fusion_skip2.channel_attention_local.fc2.weight\", \"model.fusion_skip2.spatial_attention_local.conv.weight\", \"model.fusion_skip2.spatial_attention_local.conv.bias\", \"model.fusion_skip2.channel_attention_global.fc1.weight\", \"model.fusion_skip2.channel_attention_global.fc2.weight\", \"model.fusion_skip2.spatial_attention_global.conv.weight\", \"model.fusion_skip2.spatial_attention_global.conv.bias\", \"model.fusion_skip3.channel_attention_local.fc1.weight\", \"model.fusion_skip3.channel_attention_local.fc2.weight\", \"model.fusion_skip3.spatial_attention_local.conv.weight\", \"model.fusion_skip3.spatial_attention_local.conv.bias\", \"model.fusion_skip3.channel_attention_global.fc1.weight\", \"model.fusion_skip3.channel_attention_global.fc2.weight\", \"model.fusion_skip3.spatial_attention_global.conv.weight\", \"model.fusion_skip3.spatial_attention_global.conv.bias\", \"model.fusion_skip4.channel_attention_local.fc1.weight\", \"model.fusion_skip4.channel_attention_local.fc2.weight\", \"model.fusion_skip4.spatial_attention_local.conv.weight\", \"model.fusion_skip4.spatial_attention_local.conv.bias\", \"model.fusion_skip4.channel_attention_global.fc1.weight\", \"model.fusion_skip4.channel_attention_global.fc2.weight\", \"model.fusion_skip4.spatial_attention_global.conv.weight\", \"model.fusion_skip4.spatial_attention_global.conv.bias\", \"model.deep_feature_fusion.channel_attention_local.fc1.weight\", \"model.deep_feature_fusion.channel_attention_local.fc2.weight\", \"model.deep_feature_fusion.spatial_attention_local.conv.weight\", \"model.deep_feature_fusion.spatial_attention_local.conv.bias\", \"model.deep_feature_fusion.channel_attention_global.fc1.weight\", \"model.deep_feature_fusion.channel_attention_global.fc2.weight\", \"model.deep_feature_fusion.spatial_attention_global.conv.weight\", \"model.deep_feature_fusion.spatial_attention_global.conv.bias\". "
          ]
        }
      ],
      "source": [
        "# Test 1: venus-large-best.ckpt\n",
        "if os.path.exists(model_paths['venus_large']): \n",
        "    print(\"Testing VENUS Large ...\")\n",
        "    scores_for_statistics_fusion_large2 = test_dataset_aware_fusion(\n",
        "        model_path=model_paths['venus_large'],\n",
        "        patient_ids=x_test,\n",
        "        datasets=datasets,\n",
        "        whole_dataset_key=\"no_thorax_sub_test_ds\",\n",
        "        patches_dataset_key=\"patches_sub_test_ds\",\n",
        "        use_simple_fusion=True,\n",
        "        use_decoder_attention=True,\n",
        "        strict=True,\n",
        "        filter=False,\n",
        "        subtracted=True,\n",
        "        get_scores_for_statistics=False,\n",
        "        get_only_masses=False,\n",
        "        base_channels=64\n",
        "    )\n",
        "    print(\"\\nVENUS Large:\")\n",
        "    pp.pprint(scores_for_statistics_fusion_large2)\n",
        "else:\n",
        "    print(\"venus-large.ckpt not found.\")\n",
        "    scores_for_statistics_fusion_large2 = None"
      ]
    },
    {
      "cell_type": "markdown",
      "metadata": {},
      "source": [
        "## Test Ensemble Model\n"
      ]
    },
    {
      "cell_type": "code",
      "execution_count": null,
      "metadata": {},
      "outputs": [
        {
          "name": "stdout",
          "output_type": "stream",
          "text": [
            "Required models not found for ensemble: VENUS Large + ResNet18 patches\n",
            "Required models not found for ensemble: VENUS Large + ResNet18 patches (filtered)\n",
            "\n",
            "Completed 0 ensemble model tests.\n"
          ]
        }
      ],
      "source": [
        "ensemble_tests = [\n",
        "\n",
        "    ('venus_large', 'resnet18-patches', False, 64, 'VENUS Large + ResNet18 patches'),\n",
        "    ('venus_large', 'resnet18-patches', True, 64, 'VENUS Large + ResNet18 patches (filtered)'),\n",
        "]\n",
        "\n",
        "\n",
        "ensemble_results = {}\n",
        "for whole_key, patches_key, use_filter, base_channels, description in ensemble_tests:\n",
        "    if os.path.exists(model_paths[whole_key]) and os.path.exists(model_paths[patches_key]):\n",
        "        print(f\"Testing Ensemble: {description}...\")\n",
        "        \n",
        "        result = test_dataset_aware_ensemble(\n",
        "            model_whole_path=model_paths[whole_key],\n",
        "            model_patches_path=model_paths[patches_key],\n",
        "            patient_ids=x_test,\n",
        "            datasets=datasets,\n",
        "            whole_dataset_key=\"no_thorax_sub_test_ds\",\n",
        "            patches_dataset_key=\"patches_sub_test_ds\",\n",
        "            filter=use_filter,\n",
        "            get_scores_for_statistics=False,\n",
        "            get_only_masses=False,\n",
        "            subtracted=True,\n",
        "            base_channels=base_channels,\n",
        "            use_decoder_attention = True,\n",
        "            use_simple_fusion = True\n",
        "        )\n",
        "        \n",
        "        ensemble_key = f\"{whole_key}+{patches_key}{'_filtered' if use_filter else ''}\"\n",
        "        ensemble_results[ensemble_key] = result\n",
        "        print(f\"\\n{description} Results:\")\n",
        "        pp.pprint(result)\n",
        "    else:\n",
        "        print(f\"Required models not found for ensemble: {description}\")\n",
        "        ensemble_key = f\"{whole_key}+{patches_key}{'_filtered' if use_filter else ''}\"\n",
        "        ensemble_results[ensemble_key] = None\n",
        "\n",
        "print(f\"\\nCompleted {len([r for r in ensemble_results.values() if r is not None])} ensemble model tests.\")\n"
      ]
    }
  ],
  "metadata": {
    "kernelspec": {
      "display_name": "venus-nCPuPPcI-py3.9",
      "language": "python",
      "name": "python3"
    },
    "language_info": {
      "codemirror_mode": {
        "name": "ipython",
        "version": 3
      },
      "file_extension": ".py",
      "mimetype": "text/x-python",
      "name": "python",
      "nbconvert_exporter": "python",
      "pygments_lexer": "ipython3",
      "version": "3.9.19"
    }
  },
  "nbformat": 4,
  "nbformat_minor": 2
}
