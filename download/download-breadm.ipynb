{
 "cells": [
  {
   "cell_type": "code",
   "execution_count": null,
   "id": "90ff4e69",
   "metadata": {},
   "outputs": [],
   "source": [
    "import gdown\n",
    "\n",
    "gdown.download(id='1GvNwL4iPcB2GRdK2n353bKiKV_Vnx7Qg')"
   ]
  }
 ],
 "metadata": {
  "kernelspec": {
   "display_name": "venus-nCPuPPcI-py3.9",
   "language": "python",
   "name": "python3"
  },
  "language_info": {
   "codemirror_mode": {
    "name": "ipython",
    "version": 3
   },
   "file_extension": ".py",
   "mimetype": "text/x-python",
   "name": "python",
   "nbconvert_exporter": "python",
   "pygments_lexer": "ipython3",
   "version": "3.9.19"
  }
 },
 "nbformat": 4,
 "nbformat_minor": 5
}
