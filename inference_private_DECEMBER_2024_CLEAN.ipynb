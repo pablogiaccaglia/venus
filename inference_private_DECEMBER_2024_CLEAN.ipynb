{
  "cells": [
    {
      "cell_type": "markdown",
      "metadata": {},
      "source": [
        "# PRIVATE DATASET INFERENCE NOTEBOOK - CLEAN VERSION\n",
        "\n",
        "This notebook performs inference using trained models on the private dataset.\n",
        "\n",
        "**Compatible with models trained in:**\n",
        "- `training_private_DECEMBER_2024_baselines_CLEAN.ipynb`\n",
        "- `training_private_DECEMBER_2024_venus_CLEAN.ipynb`\n",
        "\n",
        "**FOCUS:** Private dataset ONLY - Individual tests clearly separated\n"
      ]
    },
    {
      "cell_type": "markdown",
      "metadata": {},
      "source": [
        "## Setup and Imports\n"
      ]
    },
    {
      "cell_type": "code",
      "execution_count": 1,
      "metadata": {},
      "outputs": [
        {
          "name": "stderr",
          "output_type": "stream",
          "text": [
            "c:\\Users\\pabli\\AppData\\Local\\pypoetry\\Cache\\virtualenvs\\venus-nCPuPPcI-py3.9\\lib\\site-packages\\ignite\\handlers\\checkpoint.py:17: DeprecationWarning: `TorchScript` support for functional optimizers is deprecated and will be removed in a future PyTorch release. Consider using the `torch.compile` optimizer instead.\n",
            "  from torch.distributed.optim import ZeroRedundancyOptimizer\n"
          ]
        },
        {
          "name": "stdout",
          "output_type": "stream",
          "text": [
            "MONAI version: 1.6.dev2535\n",
            "Numpy version: 2.0.2\n",
            "Pytorch version: 2.5.1+cu121\n",
            "MONAI flags: HAS_EXT = False, USE_COMPILED = False, USE_META_DICT = False\n",
            "MONAI rev id: 8e677816bfd1fb2ec541d7f951db4caaf210b150\n",
            "MONAI __file__: c:\\Users\\<username>\\AppData\\Local\\pypoetry\\Cache\\virtualenvs\\venus-nCPuPPcI-py3.9\\lib\\site-packages\\monai\\__init__.py\n",
            "\n",
            "Optional dependencies:\n",
            "Pytorch Ignite version: 0.4.11\n",
            "ITK version: NOT INSTALLED or UNKNOWN VERSION.\n",
            "Nibabel version: 5.3.2\n",
            "scikit-image version: 0.24.0\n",
            "scipy version: 1.13.1\n",
            "Pillow version: 11.3.0\n",
            "Tensorboard version: NOT INSTALLED or UNKNOWN VERSION.\n",
            "gdown version: 5.2.0\n",
            "TorchVision version: 0.20.1+cu121\n",
            "tqdm version: 4.67.1\n",
            "lmdb version: NOT INSTALLED or UNKNOWN VERSION.\n",
            "psutil version: 7.0.0\n",
            "pandas version: NOT INSTALLED or UNKNOWN VERSION.\n",
            "einops version: 0.8.1\n",
            "transformers version: NOT INSTALLED or UNKNOWN VERSION.\n",
            "mlflow version: NOT INSTALLED or UNKNOWN VERSION.\n",
            "pynrrd version: NOT INSTALLED or UNKNOWN VERSION.\n",
            "clearml version: NOT INSTALLED or UNKNOWN VERSION.\n",
            "\n",
            "For details about installing the optional dependencies, please visit:\n",
            "    https://docs.monai.io/en/latest/installation.html#installing-the-recommended-dependencies\n",
            "\n"
          ]
        }
      ],
      "source": [
        "## Setup and Imports\n",
        "\n",
        "import json\n",
        "import glob\n",
        "import numpy as np\n",
        "import matplotlib.pyplot as plt\n",
        "import time\n",
        "import pprint\n",
        "from tqdm.notebook import tqdm\n",
        "from typing import Dict, List, Tuple, Optional\n",
        "import sys\n",
        "\n",
        "# PyTorch and related\n",
        "import torch\n",
        "import torch.nn as nn\n",
        "from sklearn.model_selection import train_test_split\n",
        "\n",
        "# MONAI imports\n",
        "import monai\n",
        "from monai.config import print_config\n",
        "from monai.data import CacheDataset, DataLoader, Dataset\n",
        "from monai.transforms import (\n",
        "    LoadImaged, EnsureChannelFirstd, Compose\n",
        ")\n",
        "\n",
        "# Backend imports\n",
        "from breast_segmentation.config.settings import config\n",
        "from breast_segmentation.utils.seed import set_deterministic_mode, seed_worker, reseed\n",
        "from breast_segmentation.data.dataset import PairedDataset, PairedDataLoader\n",
        "from breast_segmentation.data import custom_collate_no_patches, custom_collate\n",
        "from breast_segmentation.transforms.compose import Preprocess\n",
        "from breast_segmentation.metrics.evaluation import compute_dice_score, compute_iou\n",
        "from breast_segmentation.models.lightning_module import BreastSegmentationModel\n",
        "from breast_segmentation.models.fusion_module import BreastFusionModel\n",
        "\n",
        "from breast_segmentation.data.private_dataset import (\n",
        "    PATIENT_INFO, get_filenames, get_train_val_test_dicts, PATIENTS_TO_EXCLUDE,\n",
        "    filter_samples_sample_aware, filter_samples_to_exclude, get_samples_size\n",
        ")\n",
        "\n",
        "from breast_segmentation.metrics.losses import (\n",
        "    CABFL, SurfaceLossBinary, AsymmetricUnifiedFocalLoss, \n",
        "    AsymmetricFocalLoss, AsymmetricFocalTverskyLoss, SoftDiceLoss\n",
        ")\n",
        "\n",
        "from breast_segmentation.inference.private_dataset_aware_test import (\n",
        "    test_dataset_aware_ensemble,\n",
        "    test_dataset_aware_no_patches,\n",
        "    test_dataset_aware_fusion\n",
        ")\n",
        "\n",
        "\n",
        "import time \n",
        "import os\n",
        "\n",
        "# Set precision and print config\n",
        "torch.set_float32_matmul_precision('medium')\n",
        "print_config()\n",
        "\n",
        "# Pretty printer for results\n",
        "pp = pprint.PrettyPrinter(indent=4)\n",
        "\n",
        "# Converter function for PIL images\n",
        "def convert_to_grayscale(image):\n",
        "    \"\"\"Convert PIL image to grayscale - replaces lambda for pickling compatibility.\"\"\"\n",
        "    return image.convert(\"L\")\n",
        "\n",
        "\n",
        "# Register loss classes for checkpoint loading\n",
        "sys.modules['__main__'].CABFL = CABFL\n",
        "sys.modules['__main__'].SurfaceLossBinary = SurfaceLossBinary\n",
        "sys.modules['__main__'].AsymmetricUnifiedFocalLoss = AsymmetricUnifiedFocalLoss\n",
        "sys.modules['__main__'].AsymmetricFocalLoss = AsymmetricFocalLoss\n",
        "sys.modules['__main__'].AsymmetricFocalTverskyLoss = AsymmetricFocalTverskyLoss\n"
      ]
    },
    {
      "cell_type": "markdown",
      "metadata": {},
      "source": [
        "## Data Setup - Private Dataset\n"
      ]
    },
    {
      "cell_type": "code",
      "execution_count": 2,
      "metadata": {},
      "outputs": [
        {
          "name": "stdout",
          "output_type": "stream",
          "text": [
            "Using device: cuda\n"
          ]
        }
      ],
      "source": [
        "# Settings\n",
        "NUM_WORKERS = os.cpu_count()\n",
        "SEED = 200\n",
        "USE_SUBTRACTED = True\n",
        "\n",
        "# Data paths\n",
        "dataset_base_path = \"Dataset-arrays-4-FINAL\"\n",
        "CHECKPOINTS_DIR = \"./checkpoints/private-dataset\"\n",
        "\n",
        "# Device\n",
        "device = torch.device(\"cuda\" if torch.cuda.is_available() else \"cpu\")\n",
        "print(f\"Using device: {device}\")\n",
        "\n",
        "# Set seeds\n",
        "torch.manual_seed(SEED)\n",
        "np.random.seed(SEED)\n",
        "if torch.cuda.is_available():\n",
        "    torch.cuda.manual_seed(SEED)"
      ]
    },
    {
      "cell_type": "code",
      "execution_count": 3,
      "metadata": {},
      "outputs": [
        {
          "name": "stdout",
          "output_type": "stream",
          "text": [
            "Using private dataset backend functions\n",
            "Initial patients from PATIENT_INFO: 103\n",
            "Patients to exclude: ['CMG0948', 'IM0544(1,5)B-merged', 'D2MP8(VR)', 'VC0285(1,5)B-merged']\n",
            "Patients after exclusion: 103\n",
            "Dataset base path: Dataset-arrays-4-FINAL\n",
            "Total patients: 103\n",
            "Train patients: 61\n",
            "Validation patients: 21\n",
            "Test patients: 21\n",
            "Test patient IDs: ['TE0966', 'ASMK0783', 'BP130964', 'SD0462', 'PS0446(1,5)', 'GMG0961(3)', 'PV0781', 'MS0478', 'D2MP3(VR)', 'GA07(DF)', 'CS300759', 'BNB1172(DF)', 'RP271052', 'RP0178', 'BD0510', 'DBR270865', 'PRP0185', 'MP140270', 'GP0454', 'DMA0247', 'VS0976(1,5)']\n"
          ]
        }
      ],
      "source": [
        "print(\"Using private dataset backend functions\")\n",
        "\n",
        "# Use patient IDs from PATIENT_INFO dictionary\n",
        "patient_ids = list(PATIENT_INFO.keys())\n",
        "\n",
        "# Apply exclusions\n",
        "print(f\"Initial patients from PATIENT_INFO: {len(patient_ids)}\")\n",
        "print(f\"Patients to exclude: {PATIENTS_TO_EXCLUDE}\")\n",
        "patient_ids = [pid for pid in patient_ids if pid not in PATIENTS_TO_EXCLUDE]\n",
        "print(f\"Patients after exclusion: {len(patient_ids)}\")\n",
        "\n",
        "\n",
        "SEED = 200\n",
        "x_train_val, x_test = train_test_split(patient_ids, test_size=0.2, random_state=SEED)\n",
        "x_train, x_val = train_test_split(x_train_val, test_size=0.25, random_state=SEED)\n",
        "\n",
        "print(f\"Dataset base path: {dataset_base_path}\")\n",
        "print(f\"Total patients: {len(patient_ids)}\")\n",
        "print(f\"Train patients: {len(x_train)}\")\n",
        "print(f\"Validation patients: {len(x_val)}\")\n",
        "print(f\"Test patients: {len(x_test)}\")\n",
        "print(f\"Test patient IDs: {x_test}\")\n"
      ]
    },
    {
      "cell_type": "markdown",
      "metadata": {},
      "source": [
        "##  Create Test Datasets\n"
      ]
    },
    {
      "cell_type": "code",
      "execution_count": 4,
      "metadata": {},
      "outputs": [
        {
          "name": "stdout",
          "output_type": "stream",
          "text": [
            "Test transforms created\n"
          ]
        }
      ],
      "source": [
        "# Use subtracted images as in training\n",
        "sub_third_images_path_prefixes = (\"Dataset-arrays-4-FINAL\", \"Dataset-arrays-FINAL\")\n",
        "\n",
        "\n",
        "mean_no_thorax_third_sub= 43.1498\n",
        "std_no_thorax_third_sub= 172.6704\n",
        "mean_patches_sub= 86.13536834716797\n",
        "std_patches_sub= 238.13461303710938\n",
        "\n",
        "# Create test transforms for global (no patches) data\n",
        "test_transforms_no_thorax_third_sub = Compose([\n",
        "    LoadImaged(\n",
        "        keys=[\"image\", \"label\"], \n",
        "        image_only=False, \n",
        "        reader=monai.data.NumpyReader()\n",
        "    ),\n",
        "    EnsureChannelFirstd(keys=[\"image\", \"label\"]),\n",
        "    Preprocess(\n",
        "        keys=None, \n",
        "        mode='test',  \n",
        "        dataset=\"private\", \n",
        "        subtracted_images_path_prefixes=sub_third_images_path_prefixes, \n",
        "        subtrahend=mean_no_thorax_third_sub, \n",
        "        divisor=std_no_thorax_third_sub, \n",
        "        get_patches=False,\n",
        "        get_boundaryloss=True\n",
        "    )\n",
        "])\n",
        "\n",
        "# Create test transforms for patches data\n",
        "test_transforms_patches_sub = Compose([\n",
        "    LoadImaged(\n",
        "        keys=[\"image\", \"label\"], \n",
        "        image_only=False, \n",
        "        reader=monai.data.NumpyReader()\n",
        "    ),\n",
        "    EnsureChannelFirstd(keys=[\"image\", \"label\"]),\n",
        "    Preprocess(\n",
        "        keys=None, \n",
        "        mode='test',  \n",
        "        dataset=\"private\", \n",
        "        subtracted_images_path_prefixes=sub_third_images_path_prefixes, \n",
        "        subtrahend=mean_patches_sub, \n",
        "        divisor=std_patches_sub, \n",
        "        get_patches=True,\n",
        "        get_boundaryloss=True\n",
        "    )\n",
        "])\n",
        "\n",
        "print(\"Test transforms created\")\n"
      ]
    },
    {
      "cell_type": "code",
      "execution_count": null,
      "metadata": {},
      "outputs": [
        {
          "name": "stdout",
          "output_type": "stream",
          "text": [
            "TE0966\n"
          ]
        },
        {
          "name": "stderr",
          "output_type": "stream",
          "text": [
            "Loading dataset:   0%|          | 0/228 [00:00<?, ?it/s]"
          ]
        },
        {
          "name": "stderr",
          "output_type": "stream",
          "text": [
            "Loading dataset: 100%|██████████| 228/228 [00:08<00:00, 27.20it/s]\n",
            "Loading dataset: 100%|██████████| 228/228 [00:26<00:00,  8.52it/s]\n"
          ]
        },
        {
          "name": "stdout",
          "output_type": "stream",
          "text": [
            "ASMK0783\n"
          ]
        },
        {
          "name": "stderr",
          "output_type": "stream",
          "text": [
            "Loading dataset: 100%|██████████| 228/228 [00:09<00:00, 24.07it/s]\n",
            "Loading dataset: 100%|██████████| 228/228 [00:23<00:00,  9.58it/s]\n"
          ]
        },
        {
          "name": "stdout",
          "output_type": "stream",
          "text": [
            "BP130964\n"
          ]
        },
        {
          "name": "stderr",
          "output_type": "stream",
          "text": [
            "Loading dataset: 100%|██████████| 196/196 [00:07<00:00, 26.87it/s]\n",
            "Loading dataset: 100%|██████████| 196/196 [00:22<00:00,  8.76it/s]\n"
          ]
        },
        {
          "name": "stdout",
          "output_type": "stream",
          "text": [
            "SD0462\n"
          ]
        },
        {
          "name": "stderr",
          "output_type": "stream",
          "text": [
            "Loading dataset: 100%|██████████| 284/284 [00:11<00:00, 24.27it/s]\n",
            "Loading dataset: 100%|██████████| 284/284 [00:33<00:00,  8.52it/s]\n"
          ]
        },
        {
          "name": "stdout",
          "output_type": "stream",
          "text": [
            "PS0446(1,5)\n"
          ]
        },
        {
          "name": "stderr",
          "output_type": "stream",
          "text": [
            "Loading dataset: 100%|██████████| 88/88 [00:03<00:00, 27.34it/s]\n",
            "Loading dataset: 100%|██████████| 88/88 [00:09<00:00,  9.09it/s]\n"
          ]
        },
        {
          "name": "stdout",
          "output_type": "stream",
          "text": [
            "GMG0961(3)\n"
          ]
        },
        {
          "name": "stderr",
          "output_type": "stream",
          "text": [
            "Loading dataset: 100%|██████████| 204/204 [00:08<00:00, 24.58it/s]\n",
            "Loading dataset: 100%|██████████| 204/204 [00:23<00:00,  8.58it/s]\n"
          ]
        },
        {
          "name": "stdout",
          "output_type": "stream",
          "text": [
            "PV0781\n"
          ]
        },
        {
          "name": "stderr",
          "output_type": "stream",
          "text": [
            "Loading dataset: 100%|██████████| 156/156 [00:06<00:00, 24.83it/s]\n",
            "Loading dataset: 100%|██████████| 156/156 [00:19<00:00,  8.14it/s]\n"
          ]
        },
        {
          "name": "stdout",
          "output_type": "stream",
          "text": [
            "MS0478\n"
          ]
        },
        {
          "name": "stderr",
          "output_type": "stream",
          "text": [
            "Loading dataset: 100%|██████████| 268/268 [00:10<00:00, 25.60it/s]\n",
            "Loading dataset: 100%|██████████| 268/268 [00:33<00:00,  8.08it/s]\n"
          ]
        },
        {
          "name": "stdout",
          "output_type": "stream",
          "text": [
            "D2MP3(VR)\n"
          ]
        },
        {
          "name": "stderr",
          "output_type": "stream",
          "text": [
            "Loading dataset: 100%|██████████| 228/228 [00:09<00:00, 24.90it/s]\n",
            "Loading dataset: 100%|██████████| 228/228 [00:26<00:00,  8.71it/s]\n"
          ]
        },
        {
          "name": "stdout",
          "output_type": "stream",
          "text": [
            "GA07(DF)\n"
          ]
        },
        {
          "name": "stderr",
          "output_type": "stream",
          "text": [
            "Loading dataset: 100%|██████████| 240/240 [00:08<00:00, 27.46it/s]\n",
            "Loading dataset: 100%|██████████| 240/240 [00:28<00:00,  8.33it/s]\n"
          ]
        },
        {
          "name": "stdout",
          "output_type": "stream",
          "text": [
            "CS300759\n"
          ]
        },
        {
          "name": "stderr",
          "output_type": "stream",
          "text": [
            "Loading dataset: 100%|██████████| 164/164 [00:06<00:00, 25.26it/s]\n",
            "Loading dataset: 100%|██████████| 164/164 [00:19<00:00,  8.53it/s]\n"
          ]
        },
        {
          "name": "stdout",
          "output_type": "stream",
          "text": [
            "BNB1172(DF)\n"
          ]
        },
        {
          "name": "stderr",
          "output_type": "stream",
          "text": [
            "Loading dataset: 100%|██████████| 284/284 [00:10<00:00, 26.68it/s]\n",
            "Loading dataset: 100%|██████████| 284/284 [00:32<00:00,  8.64it/s]\n"
          ]
        },
        {
          "name": "stdout",
          "output_type": "stream",
          "text": [
            "RP271052\n"
          ]
        },
        {
          "name": "stderr",
          "output_type": "stream",
          "text": [
            "Loading dataset: 100%|██████████| 96/96 [00:03<00:00, 24.88it/s]\n",
            "Loading dataset:  50%|█████     | 48/96 [00:06<00:03, 14.42it/s]"
          ]
        }
      ],
      "source": [
        "datasets = {}\n",
        "\n",
        "for patient_id in x_test:\n",
        "    print(patient_id)\n",
        "\n",
        "\n",
        "    patient_id = [patient_id]\n",
        "    images_fnames, _ = get_filenames(suffix=\"images\",\n",
        "                                       base_path='Dataset-arrays-4-FINAL',\n",
        "                                       patient_ids=patient_id,\n",
        "                                       remove_black_samples=False,\n",
        "                                       get_random_samples_and_remove_black_samples=False,\n",
        "                                       random_samples_indexes_list=None)\n",
        "\n",
        "    labels_fnames, _ = get_filenames(suffix=\"masks\",\n",
        "                                      base_path='Dataset-arrays-4-FINAL',\n",
        "                                      patient_ids=patient_id,\n",
        "                                      remove_black_samples=False,\n",
        "                                      get_random_samples_and_remove_black_samples=False,\n",
        "                                      random_samples_indexes_list=None, remove_picked_samples=False)\n",
        "    \n",
        "\n",
        "    \n",
        "\n",
        "    test_dicts = [{\"image\": image_name, \"label\":label_name} for image_name, label_name in zip(images_fnames,labels_fnames)]\n",
        "\n",
        "    no_thorax_sub_test_ds = CacheDataset(data=test_dicts, transform=test_transforms_no_thorax_third_sub,num_workers=NUM_WORKERS)\n",
        "    patches_sub_test_ds = CacheDataset(data=test_dicts, transform=test_transforms_patches_sub,num_workers=NUM_WORKERS)\n",
        "\n",
        "    datasets[patient_id[0]]={\n",
        "        \"no_thorax_sub_test_ds\": no_thorax_sub_test_ds,\n",
        "        \"patches_sub_test_ds\": patches_sub_test_ds\n",
        "        \n",
        "    }"
      ]
    },
    {
      "cell_type": "markdown",
      "metadata": {},
      "source": [
        "## Model Checkpoint Paths\n"
      ]
    },
    {
      "cell_type": "code",
      "execution_count": null,
      "metadata": {},
      "outputs": [
        {
          "name": "stdout",
          "output_type": "stream",
          "text": [
            "Available models:\n",
            "  ✓ venus_large: ./checkpoints/private-dataset/venus-large-best.ckpt\n",
            "  ✓ unetplusplus: ./checkpoints/private-dataset/unetplusplus_model.ckpt\n",
            "  ✓ skinny: ./checkpoints/private-dataset/skinny_model.ckpt\n",
            "  ✓ resnet50: ./checkpoints/private-dataset/resnet50-model.ckpt\n",
            "  ✓ fcn: ./checkpoints/private-dataset/unetplusplus_model.ckpt\n",
            "  ✓ segnet: ./checkpoints/private-dataset/segnet_model_large.ckpt\n",
            "  ✓ swin: ./checkpoints/private-dataset/swin_model.ckpt\n",
            "  ✓ resnet18-patches: ./checkpoints/private-dataset/resnet18-patches-model.ckpt\n"
          ]
        }
      ],
      "source": [
        "model_paths = {\n",
        "    # VENUS fusion models\n",
        "    'venus_large': f'{CHECKPOINTS_DIR}/venus-large-best.ckpt',\n",
        "    \n",
        "    # Baseline models\n",
        "    'unetplusplus': f'{CHECKPOINTS_DIR}/unetplusplus_model.ckpt',\n",
        "    'skinny': f'{CHECKPOINTS_DIR}/skinny_model.ckpt',\n",
        "    'resnet50': f'{CHECKPOINTS_DIR}/resnet50-model.ckpt',\n",
        "    'fcn': f'{CHECKPOINTS_DIR}/unetplusplus_model.ckpt',  \n",
        "    'segnet': f'{CHECKPOINTS_DIR}/segnet_model_large.ckpt',\n",
        "    'swin': f'{CHECKPOINTS_DIR}/swin_model.ckpt',\n",
        "    \n",
        "    # Patches models\n",
        "    'resnet18-patches':  f'{CHECKPOINTS_DIR}/resnet18-patches-model.ckpt'\n",
        "}\n",
        "\n",
        "# Check which models are available\n",
        "print(\"Available models:\")\n",
        "for name, path in model_paths.items():\n",
        "    if os.path.exists(path):\n",
        "        print(f\"  ✓ {name}: {path}\")\n",
        "    else:\n",
        "        print(f\"  ✗ {name}: {path} (not found)\")\n"
      ]
    },
    {
      "cell_type": "markdown",
      "metadata": {},
      "source": [
        "## Test Baseline Models\n"
      ]
    },
    {
      "cell_type": "code",
      "execution_count": 17,
      "metadata": {},
      "outputs": [
        {
          "name": "stdout",
          "output_type": "stream",
          "text": [
            "Testing UNet++ model...\n",
            "BasicUNetPlusPlus features: (32, 32, 64, 128, 256, 32).\n",
            "TE0966\n"
          ]
        },
        {
          "name": "stderr",
          "output_type": "stream",
          "text": [
            " 11%|█         | 25/228 [00:00<00:00, 238.10it/s]"
          ]
        },
        {
          "name": "stdout",
          "output_type": "stream",
          "text": [
            "intermediate_spatial_dim tensor([  1, 512, 512])\n",
            "processed_label torch.Size([1, 256, 256])\n",
            "unsqueeze torch.Size([1, 1, 1, 256, 256])\n",
            "intermediate_spatial_dim tensor([  1, 512, 512])\n",
            "processed_label torch.Size([1, 256, 256])\n",
            "unsqueeze torch.Size([1, 1, 1, 256, 256])\n",
            "intermediate_spatial_dim tensor([  1, 512, 512])\n",
            "processed_label torch.Size([1, 256, 256])\n",
            "unsqueeze torch.Size([1, 1, 1, 256, 256])\n",
            "intermediate_spatial_dim tensor([  1, 512, 512])\n",
            "processed_label torch.Size([1, 256, 256])\n",
            "unsqueeze torch.Size([1, 1, 1, 256, 256])\n",
            "intermediate_spatial_dim tensor([  1, 512, 512])\n",
            "processed_label torch.Size([1, 256, 256])\n",
            "unsqueeze torch.Size([1, 1, 1, 256, 256])\n",
            "intermediate_spatial_dim tensor([  1, 512, 512])\n",
            "processed_label torch.Size([1, 256, 256])\n",
            "unsqueeze torch.Size([1, 1, 1, 256, 256])\n",
            "intermediate_spatial_dim tensor([  1, 512, 512])\n",
            "processed_label torch.Size([1, 256, 256])\n",
            "unsqueeze torch.Size([1, 1, 1, 256, 256])\n",
            "intermediate_spatial_dim tensor([  1, 512, 512])\n",
            "processed_label torch.Size([1, 256, 256])\n",
            "unsqueeze torch.Size([1, 1, 1, 256, 256])\n",
            "intermediate_spatial_dim tensor([  1, 512, 512])\n",
            "processed_label torch.Size([1, 256, 256])\n",
            "unsqueeze torch.Size([1, 1, 1, 256, 256])\n",
            "intermediate_spatial_dim tensor([  1, 512, 512])\n",
            "processed_label torch.Size([1, 256, 256])\n",
            "unsqueeze torch.Size([1, 1, 1, 256, 256])\n",
            "intermediate_spatial_dim tensor([  1, 512, 512])\n",
            "processed_label torch.Size([1, 256, 256])\n",
            "unsqueeze torch.Size([1, 1, 1, 256, 256])\n",
            "intermediate_spatial_dim tensor([  1, 512, 512])\n",
            "processed_label torch.Size([1, 256, 256])\n",
            "unsqueeze torch.Size([1, 1, 1, 256, 256])\n",
            "intermediate_spatial_dim tensor([  1, 512, 512])\n",
            "processed_label torch.Size([1, 256, 256])\n",
            "unsqueeze torch.Size([1, 1, 1, 256, 256])\n",
            "intermediate_spatial_dim tensor([  1, 512, 512])\n",
            "processed_label torch.Size([1, 256, 256])\n",
            "unsqueeze torch.Size([1, 1, 1, 256, 256])\n",
            "intermediate_spatial_dim tensor([  1, 512, 512])\n",
            "processed_label torch.Size([1, 256, 256])\n",
            "unsqueeze torch.Size([1, 1, 1, 256, 256])\n",
            "intermediate_spatial_dim tensor([  1, 512, 512])\n",
            "processed_label torch.Size([1, 256, 256])\n",
            "unsqueeze torch.Size([1, 1, 1, 256, 256])\n",
            "intermediate_spatial_dim tensor([  1, 512, 512])\n",
            "processed_label torch.Size([1, 256, 256])\n",
            "unsqueeze torch.Size([1, 1, 1, 256, 256])\n",
            "intermediate_spatial_dim tensor([  1, 512, 512])\n",
            "processed_label torch.Size([1, 256, 256])\n",
            "unsqueeze torch.Size([1, 1, 1, 256, 256])\n"
          ]
        },
        {
          "name": "stderr",
          "output_type": "stream",
          "text": [
            " 21%|██▏       | 49/228 [00:01<00:05, 34.80it/s] "
          ]
        },
        {
          "name": "stdout",
          "output_type": "stream",
          "text": [
            "intermediate_spatial_dim tensor([  1, 512, 512])\n",
            "processed_label torch.Size([1, 256, 256])\n",
            "unsqueeze torch.Size([1, 1, 1, 256, 256])\n",
            "intermediate_spatial_dim tensor([  1, 512, 512])\n",
            "processed_label torch.Size([1, 256, 256])\n",
            "unsqueeze torch.Size([1, 1, 1, 256, 256])\n",
            "intermediate_spatial_dim tensor([  1, 512, 512])\n",
            "processed_label torch.Size([1, 256, 256])\n",
            "unsqueeze torch.Size([1, 1, 1, 256, 256])\n",
            "intermediate_spatial_dim tensor([  1, 512, 512])\n",
            "processed_label torch.Size([1, 256, 256])\n",
            "unsqueeze torch.Size([1, 1, 1, 256, 256])\n",
            "intermediate_spatial_dim tensor([  1, 512, 512])\n",
            "processed_label torch.Size([1, 256, 256])\n",
            "unsqueeze torch.Size([1, 1, 1, 256, 256])\n",
            "intermediate_spatial_dim tensor([  1, 512, 512])\n",
            "processed_label torch.Size([1, 256, 256])\n",
            "unsqueeze torch.Size([1, 1, 1, 256, 256])\n",
            "intermediate_spatial_dim tensor([  1, 512, 512])\n",
            "processed_label torch.Size([1, 256, 256])\n",
            "unsqueeze torch.Size([1, 1, 1, 256, 256])\n",
            "intermediate_spatial_dim tensor([  1, 512, 512])\n",
            "processed_label torch.Size([1, 256, 256])\n",
            "unsqueeze torch.Size([1, 1, 1, 256, 256])\n",
            "intermediate_spatial_dim tensor([  1, 512, 512])\n",
            "processed_label torch.Size([1, 256, 256])\n",
            "unsqueeze torch.Size([1, 1, 1, 256, 256])\n",
            "intermediate_spatial_dim tensor([  1, 512, 512])\n",
            "processed_label torch.Size([1, 256, 256])\n",
            "unsqueeze torch.Size([1, 1, 1, 256, 256])\n",
            "intermediate_spatial_dim tensor([  1, 512, 512])\n",
            "processed_label torch.Size([1, 256, 256])\n",
            "unsqueeze torch.Size([1, 1, 1, 256, 256])\n",
            "intermediate_spatial_dim tensor([  1, 512, 512])\n",
            "processed_label torch.Size([1, 256, 256])\n",
            "unsqueeze torch.Size([1, 1, 1, 256, 256])\n",
            "intermediate_spatial_dim tensor([  1, 512, 512])\n",
            "processed_label torch.Size([1, 256, 256])\n",
            "unsqueeze torch.Size([1, 1, 1, 256, 256])\n"
          ]
        },
        {
          "name": "stderr",
          "output_type": "stream",
          "text": [
            " 27%|██▋       | 61/228 [00:01<00:05, 32.92it/s]"
          ]
        },
        {
          "name": "stdout",
          "output_type": "stream",
          "text": [
            "intermediate_spatial_dim tensor([  1, 512, 512])\n",
            "processed_label torch.Size([1, 256, 256])\n",
            "unsqueeze torch.Size([1, 1, 1, 256, 256])\n",
            "intermediate_spatial_dim tensor([  1, 512, 512])\n",
            "processed_label torch.Size([1, 256, 256])\n",
            "unsqueeze torch.Size([1, 1, 1, 256, 256])\n",
            "intermediate_spatial_dim tensor([  1, 512, 512])\n",
            "processed_label torch.Size([1, 256, 256])\n",
            "unsqueeze torch.Size([1, 1, 1, 256, 256])\n",
            "intermediate_spatial_dim tensor([  1, 512, 512])\n",
            "processed_label torch.Size([1, 256, 256])\n",
            "unsqueeze torch.Size([1, 1, 1, 256, 256])\n",
            "intermediate_spatial_dim tensor([  1, 512, 512])\n",
            "processed_label torch.Size([1, 256, 256])\n",
            "unsqueeze torch.Size([1, 1, 1, 256, 256])\n",
            "intermediate_spatial_dim tensor([  1, 512, 512])\n",
            "processed_label torch.Size([1, 256, 256])\n",
            "unsqueeze torch.Size([1, 1, 1, 256, 256])\n",
            "intermediate_spatial_dim tensor([  1, 512, 512])\n",
            "processed_label torch.Size([1, 256, 256])\n",
            "unsqueeze torch.Size([1, 1, 1, 256, 256])\n"
          ]
        },
        {
          "name": "stderr",
          "output_type": "stream",
          "text": [
            " 30%|███       | 69/228 [00:01<00:04, 32.89it/s]"
          ]
        },
        {
          "name": "stdout",
          "output_type": "stream",
          "text": [
            "intermediate_spatial_dim tensor([  1, 512, 512])\n",
            "processed_label torch.Size([1, 256, 256])\n",
            "unsqueeze torch.Size([1, 1, 1, 256, 256])\n",
            "intermediate_spatial_dim tensor([  1, 512, 512])\n",
            "processed_label torch.Size([1, 256, 256])\n",
            "unsqueeze torch.Size([1, 1, 1, 256, 256])\n",
            "intermediate_spatial_dim tensor([  1, 512, 512])\n",
            "processed_label torch.Size([1, 256, 256])\n",
            "unsqueeze torch.Size([1, 1, 1, 256, 256])\n",
            "intermediate_spatial_dim tensor([  1, 512, 512])\n",
            "processed_label torch.Size([1, 256, 256])\n",
            "unsqueeze torch.Size([1, 1, 1, 256, 256])\n",
            "intermediate_spatial_dim tensor([  1, 512, 512])\n",
            "processed_label torch.Size([1, 256, 256])\n",
            "unsqueeze torch.Size([1, 1, 1, 256, 256])\n",
            "intermediate_spatial_dim tensor([  1, 512, 512])\n",
            "processed_label torch.Size([1, 256, 256])\n",
            "unsqueeze torch.Size([1, 1, 1, 256, 256])\n",
            "intermediate_spatial_dim tensor([  1, 512, 512])\n",
            "processed_label torch.Size([1, 256, 256])\n",
            "unsqueeze torch.Size([1, 1, 1, 256, 256])\n"
          ]
        },
        {
          "name": "stderr",
          "output_type": "stream",
          "text": [
            " 33%|███▎      | 75/228 [00:02<00:04, 32.21it/s]"
          ]
        },
        {
          "name": "stdout",
          "output_type": "stream",
          "text": [
            "intermediate_spatial_dim tensor([  1, 512, 512])\n",
            "processed_label torch.Size([1, 256, 256])\n",
            "unsqueeze torch.Size([1, 1, 1, 256, 256])\n",
            "intermediate_spatial_dim tensor([  1, 512, 512])\n",
            "processed_label torch.Size([1, 256, 256])\n",
            "unsqueeze torch.Size([1, 1, 1, 256, 256])\n",
            "intermediate_spatial_dim tensor([  1, 512, 512])\n",
            "processed_label torch.Size([1, 256, 256])\n",
            "unsqueeze torch.Size([1, 1, 1, 256, 256])\n",
            "intermediate_spatial_dim tensor([  1, 512, 512])\n",
            "processed_label torch.Size([1, 256, 256])\n",
            "unsqueeze torch.Size([1, 1, 1, 256, 256])\n",
            "intermediate_spatial_dim tensor([  1, 512, 512])\n",
            "processed_label torch.Size([1, 256, 256])\n",
            "unsqueeze torch.Size([1, 1, 1, 256, 256])\n",
            "intermediate_spatial_dim tensor([  1, 512, 512])\n",
            "processed_label torch.Size([1, 256, 256])\n",
            "unsqueeze torch.Size([1, 1, 1, 256, 256])\n",
            "intermediate_spatial_dim tensor([  1, 512, 512])\n",
            "processed_label torch.Size([1, 256, 256])\n",
            "unsqueeze torch.Size([1, 1, 1, 256, 256])\n"
          ]
        },
        {
          "name": "stderr",
          "output_type": "stream",
          "text": [
            " 35%|███▌      | 80/228 [00:02<00:04, 31.91it/s]"
          ]
        },
        {
          "name": "stdout",
          "output_type": "stream",
          "text": [
            "intermediate_spatial_dim tensor([  1, 512, 512])\n",
            "processed_label torch.Size([1, 256, 256])\n",
            "unsqueeze torch.Size([1, 1, 1, 256, 256])\n",
            "intermediate_spatial_dim tensor([  1, 512, 512])\n",
            "processed_label torch.Size([1, 256, 256])\n",
            "unsqueeze torch.Size([1, 1, 1, 256, 256])\n",
            "intermediate_spatial_dim tensor([  1, 512, 512])\n",
            "processed_label torch.Size([1, 256, 256])\n",
            "unsqueeze torch.Size([1, 1, 1, 256, 256])\n",
            "intermediate_spatial_dim tensor([  1, 512, 512])\n",
            "processed_label torch.Size([1, 256, 256])\n",
            "unsqueeze torch.Size([1, 1, 1, 256, 256])\n",
            "intermediate_spatial_dim tensor([  1, 512, 512])\n",
            "processed_label torch.Size([1, 256, 256])\n",
            "unsqueeze torch.Size([1, 1, 1, 256, 256])\n",
            "intermediate_spatial_dim tensor([  1, 512, 512])\n",
            "processed_label torch.Size([1, 256, 256])\n",
            "unsqueeze torch.Size([1, 1, 1, 256, 256])\n",
            "intermediate_spatial_dim tensor([  1, 512, 512])\n",
            "processed_label torch.Size([1, 256, 256])\n",
            "unsqueeze torch.Size([1, 1, 1, 256, 256])\n"
          ]
        },
        {
          "name": "stderr",
          "output_type": "stream",
          "text": [
            " 39%|███▉      | 89/228 [00:02<00:04, 32.05it/s]"
          ]
        },
        {
          "name": "stdout",
          "output_type": "stream",
          "text": [
            "intermediate_spatial_dim tensor([  1, 512, 512])\n",
            "processed_label torch.Size([1, 256, 256])\n",
            "unsqueeze torch.Size([1, 1, 1, 256, 256])\n",
            "intermediate_spatial_dim tensor([  1, 512, 512])\n",
            "processed_label torch.Size([1, 256, 256])\n",
            "unsqueeze torch.Size([1, 1, 1, 256, 256])\n",
            "intermediate_spatial_dim tensor([  1, 512, 512])\n",
            "processed_label torch.Size([1, 256, 256])\n",
            "unsqueeze torch.Size([1, 1, 1, 256, 256])\n",
            "intermediate_spatial_dim tensor([  1, 512, 512])\n",
            "processed_label torch.Size([1, 256, 256])\n",
            "unsqueeze torch.Size([1, 1, 1, 256, 256])\n",
            "intermediate_spatial_dim tensor([  1, 512, 512])\n",
            "processed_label torch.Size([1, 256, 256])\n",
            "unsqueeze torch.Size([1, 1, 1, 256, 256])\n",
            "intermediate_spatial_dim tensor([  1, 512, 512])\n",
            "processed_label torch.Size([1, 256, 256])\n",
            "unsqueeze torch.Size([1, 1, 1, 256, 256])\n",
            "intermediate_spatial_dim tensor([  1, 512, 512])\n",
            "processed_label torch.Size([1, 256, 256])\n",
            "unsqueeze torch.Size([1, 1, 1, 256, 256])\n"
          ]
        },
        {
          "name": "stderr",
          "output_type": "stream",
          "text": [
            " 43%|████▎     | 97/228 [00:02<00:04, 31.47it/s]"
          ]
        },
        {
          "name": "stdout",
          "output_type": "stream",
          "text": [
            "intermediate_spatial_dim tensor([  1, 512, 512])\n",
            "processed_label torch.Size([1, 256, 256])\n",
            "unsqueeze torch.Size([1, 1, 1, 256, 256])\n",
            "intermediate_spatial_dim tensor([  1, 512, 512])\n",
            "processed_label torch.Size([1, 256, 256])\n",
            "unsqueeze torch.Size([1, 1, 1, 256, 256])\n",
            "intermediate_spatial_dim tensor([  1, 512, 512])\n",
            "processed_label torch.Size([1, 256, 256])\n",
            "unsqueeze torch.Size([1, 1, 1, 256, 256])\n",
            "intermediate_spatial_dim tensor([  1, 512, 512])\n",
            "processed_label torch.Size([1, 256, 256])\n",
            "unsqueeze torch.Size([1, 1, 1, 256, 256])\n",
            "intermediate_spatial_dim tensor([  1, 512, 512])\n",
            "processed_label torch.Size([1, 256, 256])\n",
            "unsqueeze torch.Size([1, 1, 1, 256, 256])\n",
            "intermediate_spatial_dim tensor([  1, 512, 512])\n",
            "processed_label torch.Size([1, 256, 256])\n",
            "unsqueeze torch.Size([1, 1, 1, 256, 256])\n",
            "intermediate_spatial_dim tensor([  1, 512, 512])\n",
            "processed_label torch.Size([1, 256, 256])\n",
            "unsqueeze torch.Size([1, 1, 1, 256, 256])\n"
          ]
        },
        {
          "name": "stderr",
          "output_type": "stream",
          "text": [
            " 46%|████▌     | 105/228 [00:03<00:04, 30.19it/s]"
          ]
        },
        {
          "name": "stdout",
          "output_type": "stream",
          "text": [
            "intermediate_spatial_dim tensor([  1, 512, 512])\n",
            "processed_label torch.Size([1, 256, 256])\n",
            "unsqueeze torch.Size([1, 1, 1, 256, 256])\n",
            "intermediate_spatial_dim tensor([  1, 512, 512])\n",
            "processed_label torch.Size([1, 256, 256])\n",
            "unsqueeze torch.Size([1, 1, 1, 256, 256])\n",
            "intermediate_spatial_dim tensor([  1, 512, 512])\n",
            "processed_label torch.Size([1, 256, 256])\n",
            "unsqueeze torch.Size([1, 1, 1, 256, 256])\n",
            "intermediate_spatial_dim tensor([  1, 512, 512])\n",
            "processed_label torch.Size([1, 256, 256])\n",
            "unsqueeze torch.Size([1, 1, 1, 256, 256])\n",
            "intermediate_spatial_dim tensor([  1, 512, 512])\n",
            "processed_label torch.Size([1, 256, 256])\n",
            "unsqueeze torch.Size([1, 1, 1, 256, 256])\n",
            "intermediate_spatial_dim tensor([  1, 512, 512])\n",
            "processed_label torch.Size([1, 256, 256])\n",
            "unsqueeze torch.Size([1, 1, 1, 256, 256])\n"
          ]
        },
        {
          "name": "stderr",
          "output_type": "stream",
          "text": [
            " 48%|████▊     | 109/228 [00:03<00:03, 30.29it/s]"
          ]
        },
        {
          "name": "stdout",
          "output_type": "stream",
          "text": [
            "intermediate_spatial_dim tensor([  1, 512, 512])\n",
            "processed_label torch.Size([1, 256, 256])\n",
            "unsqueeze torch.Size([1, 1, 1, 256, 256])\n",
            "intermediate_spatial_dim tensor([  1, 512, 512])\n",
            "processed_label torch.Size([1, 256, 256])\n",
            "unsqueeze torch.Size([1, 1, 1, 256, 256])\n",
            "intermediate_spatial_dim tensor([  1, 512, 512])\n",
            "processed_label torch.Size([1, 256, 256])\n",
            "unsqueeze torch.Size([1, 1, 1, 256, 256])\n",
            "intermediate_spatial_dim tensor([  1, 512, 512])\n",
            "processed_label torch.Size([1, 256, 256])\n",
            "unsqueeze torch.Size([1, 1, 1, 256, 256])\n",
            "intermediate_spatial_dim tensor([  1, 512, 512])\n",
            "processed_label torch.Size([1, 256, 256])\n",
            "unsqueeze torch.Size([1, 1, 1, 256, 256])\n",
            "intermediate_spatial_dim tensor([  1, 512, 512])\n",
            "processed_label torch.Size([1, 256, 256])\n",
            "unsqueeze torch.Size([1, 1, 1, 256, 256])\n",
            "intermediate_spatial_dim tensor([  1, 512, 512])\n",
            "processed_label torch.Size([1, 256, 256])\n",
            "unsqueeze torch.Size([1, 1, 1, 256, 256])\n"
          ]
        },
        {
          "name": "stderr",
          "output_type": "stream",
          "text": [
            " 51%|█████▏    | 117/228 [00:03<00:03, 30.98it/s]"
          ]
        },
        {
          "name": "stdout",
          "output_type": "stream",
          "text": [
            "intermediate_spatial_dim tensor([  1, 512, 512])\n",
            "processed_label torch.Size([1, 256, 256])\n",
            "unsqueeze torch.Size([1, 1, 1, 256, 256])\n",
            "intermediate_spatial_dim tensor([  1, 512, 512])\n",
            "processed_label torch.Size([1, 256, 256])\n",
            "unsqueeze torch.Size([1, 1, 1, 256, 256])\n",
            "intermediate_spatial_dim tensor([  1, 512, 512])\n",
            "processed_label torch.Size([1, 256, 256])\n",
            "unsqueeze torch.Size([1, 1, 1, 256, 256])\n",
            "intermediate_spatial_dim tensor([  1, 512, 512])\n",
            "processed_label torch.Size([1, 256, 256])\n",
            "unsqueeze torch.Size([1, 1, 1, 256, 256])\n",
            "intermediate_spatial_dim tensor([  1, 512, 512])\n",
            "processed_label torch.Size([1, 256, 256])\n",
            "unsqueeze torch.Size([1, 1, 1, 256, 256])\n",
            "intermediate_spatial_dim tensor([  1, 512, 512])\n",
            "processed_label torch.Size([1, 256, 256])\n",
            "unsqueeze torch.Size([1, 1, 1, 256, 256])\n",
            "intermediate_spatial_dim tensor([  1, 512, 512])\n",
            "processed_label torch.Size([1, 256, 256])\n",
            "unsqueeze torch.Size([1, 1, 1, 256, 256])\n"
          ]
        },
        {
          "name": "stderr",
          "output_type": "stream",
          "text": [
            " 55%|█████▍    | 125/228 [00:03<00:03, 29.67it/s]"
          ]
        },
        {
          "name": "stdout",
          "output_type": "stream",
          "text": [
            "intermediate_spatial_dim tensor([  1, 512, 512])\n",
            "processed_label torch.Size([1, 256, 256])\n",
            "unsqueeze torch.Size([1, 1, 1, 256, 256])\n",
            "intermediate_spatial_dim tensor([  1, 512, 512])\n",
            "processed_label torch.Size([1, 256, 256])\n",
            "unsqueeze torch.Size([1, 1, 1, 256, 256])\n",
            "intermediate_spatial_dim tensor([  1, 512, 512])\n",
            "processed_label torch.Size([1, 256, 256])\n",
            "unsqueeze torch.Size([1, 1, 1, 256, 256])\n",
            "intermediate_spatial_dim tensor([  1, 512, 512])\n",
            "processed_label torch.Size([1, 256, 256])\n",
            "unsqueeze torch.Size([1, 1, 1, 256, 256])\n",
            "intermediate_spatial_dim tensor([  1, 512, 512])\n",
            "processed_label torch.Size([1, 256, 256])\n",
            "unsqueeze torch.Size([1, 1, 1, 256, 256])\n",
            "intermediate_spatial_dim tensor([  1, 512, 512])\n",
            "processed_label torch.Size([1, 256, 256])\n",
            "unsqueeze torch.Size([1, 1, 1, 256, 256])\n",
            "intermediate_spatial_dim tensor([  1, 512, 512])\n",
            "processed_label torch.Size([1, 256, 256])\n",
            "unsqueeze torch.Size([1, 1, 1, 256, 256])\n"
          ]
        },
        {
          "name": "stderr",
          "output_type": "stream",
          "text": [
            " 57%|█████▋    | 131/228 [00:03<00:03, 29.73it/s]"
          ]
        },
        {
          "name": "stdout",
          "output_type": "stream",
          "text": [
            "intermediate_spatial_dim tensor([  1, 512, 512])\n",
            "processed_label torch.Size([1, 256, 256])\n",
            "unsqueeze torch.Size([1, 1, 1, 256, 256])\n",
            "intermediate_spatial_dim tensor([  1, 512, 512])\n",
            "processed_label torch.Size([1, 256, 256])\n",
            "unsqueeze torch.Size([1, 1, 1, 256, 256])\n",
            "intermediate_spatial_dim tensor([  1, 512, 512])\n",
            "processed_label torch.Size([1, 256, 256])\n",
            "unsqueeze torch.Size([1, 1, 1, 256, 256])\n",
            "intermediate_spatial_dim tensor([  1, 512, 512])\n",
            "processed_label torch.Size([1, 256, 256])\n",
            "unsqueeze torch.Size([1, 1, 1, 256, 256])\n",
            "intermediate_spatial_dim tensor([  1, 512, 512])\n",
            "processed_label torch.Size([1, 256, 256])\n",
            "unsqueeze torch.Size([1, 1, 1, 256, 256])\n",
            "intermediate_spatial_dim tensor([  1, 512, 512])\n",
            "processed_label torch.Size([1, 256, 256])\n",
            "unsqueeze torch.Size([1, 1, 1, 256, 256])\n",
            "intermediate_spatial_dim tensor([  1, 512, 512])\n",
            "processed_label torch.Size([1, 256, 256])\n",
            "unsqueeze torch.Size([1, 1, 1, 256, 256])\n"
          ]
        },
        {
          "name": "stderr",
          "output_type": "stream",
          "text": [
            " 60%|██████    | 137/228 [00:04<00:03, 28.55it/s]"
          ]
        },
        {
          "name": "stdout",
          "output_type": "stream",
          "text": [
            "intermediate_spatial_dim tensor([  1, 512, 512])\n",
            "processed_label torch.Size([1, 256, 256])\n",
            "unsqueeze torch.Size([1, 1, 1, 256, 256])\n",
            "intermediate_spatial_dim tensor([  1, 512, 512])\n",
            "processed_label torch.Size([1, 256, 256])\n",
            "unsqueeze torch.Size([1, 1, 1, 256, 256])\n",
            "intermediate_spatial_dim tensor([  1, 512, 512])\n",
            "processed_label torch.Size([1, 256, 256])\n",
            "unsqueeze torch.Size([1, 1, 1, 256, 256])\n",
            "intermediate_spatial_dim tensor([  1, 512, 512])\n",
            "processed_label torch.Size([1, 256, 256])\n",
            "unsqueeze torch.Size([1, 1, 1, 256, 256])\n",
            "intermediate_spatial_dim tensor([  1, 512, 512])\n",
            "processed_label torch.Size([1, 256, 256])\n",
            "unsqueeze torch.Size([1, 1, 1, 256, 256])\n",
            "intermediate_spatial_dim tensor([  1, 512, 512])\n",
            "processed_label torch.Size([1, 256, 256])\n",
            "unsqueeze torch.Size([1, 1, 1, 256, 256])\n"
          ]
        },
        {
          "name": "stderr",
          "output_type": "stream",
          "text": [
            " 63%|██████▎   | 143/228 [00:04<00:03, 28.01it/s]"
          ]
        },
        {
          "name": "stdout",
          "output_type": "stream",
          "text": [
            "intermediate_spatial_dim tensor([  1, 512, 512])\n",
            "processed_label torch.Size([1, 256, 256])\n",
            "unsqueeze torch.Size([1, 1, 1, 256, 256])\n",
            "intermediate_spatial_dim tensor([  1, 512, 512])\n",
            "processed_label torch.Size([1, 256, 256])\n",
            "unsqueeze torch.Size([1, 1, 1, 256, 256])\n",
            "intermediate_spatial_dim tensor([  1, 512, 512])\n",
            "processed_label torch.Size([1, 256, 256])\n",
            "unsqueeze torch.Size([1, 1, 1, 256, 256])\n",
            "intermediate_spatial_dim tensor([  1, 512, 512])\n",
            "processed_label torch.Size([1, 256, 256])\n",
            "unsqueeze torch.Size([1, 1, 1, 256, 256])\n",
            "intermediate_spatial_dim tensor([  1, 512, 512])\n",
            "processed_label torch.Size([1, 256, 256])\n",
            "unsqueeze torch.Size([1, 1, 1, 256, 256])\n",
            "intermediate_spatial_dim tensor([  1, 512, 512])\n",
            "processed_label torch.Size([1, 256, 256])\n",
            "unsqueeze torch.Size([1, 1, 1, 256, 256])\n"
          ]
        },
        {
          "name": "stderr",
          "output_type": "stream",
          "text": [
            " 64%|██████▍   | 146/228 [00:04<00:02, 28.12it/s]"
          ]
        },
        {
          "ename": "",
          "evalue": "",
          "output_type": "error",
          "traceback": [
            "\u001b[1;31mThe Kernel crashed while executing code in the current cell or a previous cell. \n",
            "\u001b[1;31mPlease review the code in the cell(s) to identify a possible cause of the failure. \n",
            "\u001b[1;31mClick <a href='https://aka.ms/vscodeJupyterKernelCrash'>here</a> for more info. \n",
            "\u001b[1;31mView Jupyter <a href='command:jupyter.viewOutput'>log</a> for further details."
          ]
        }
      ],
      "source": [
        "# Test baseline models (6 tests)\n",
        "baseline_tests = [\n",
        "    ('unetplusplus', 'UNet++', 'unetplusplus'),\n",
        "    ('skinny', 'SkinnyNet', 'skinny') ,\n",
        "    ('fcn', 'FCN', 'unetplusplus'), \n",
        "    ('segnet', 'SegNet', 'segnet'),\n",
        "    ('swin', 'Swin-UNETR', 'swin_unetr'),\n",
        "    ('resnet50', 'ResNet50', 'resnet50')\n",
        "]\n",
        "\n",
        "baseline_results = {}\n",
        "for model_key, model_name, arch_name in baseline_tests:\n",
        "    if os.path.exists(model_paths[model_key]):\n",
        "        print(f\"Testing {model_name} model...\")\n",
        "        result = test_dataset_aware_no_patches(\n",
        "            model_path=model_paths[model_key],\n",
        "            patient_ids=x_test,\n",
        "            datasets=datasets,\n",
        "            dataset_key=\"no_thorax_sub_test_ds\",\n",
        "            filter=False,\n",
        "            get_scores_for_statistics=False,\n",
        "            get_only_masses=False,\n",
        "            arch_name=arch_name,\n",
        "            strict=True,\n",
        "            subtracted=True\n",
        "        )\n",
        "        baseline_results[model_key] = result\n",
        "        print(f\"\\n{model_name} Results:\")\n",
        "        pp.pprint(result)\n",
        "    else:\n",
        "        print(f\"{model_paths[model_key]} not found.\")\n",
        "        baseline_results[model_key] = None\n",
        "\n",
        "print(f\"\\nCompleted {len([r for r in baseline_results.values() if r is not None])} baseline model tests.\")\n"
      ]
    },
    {
      "cell_type": "markdown",
      "metadata": {},
      "source": [
        "## Test VENUS Model\n"
      ]
    },
    {
      "cell_type": "code",
      "execution_count": 9,
      "metadata": {},
      "outputs": [
        {
          "name": "stdout",
          "output_type": "stream",
          "text": [
            "Testing VENUS Large ...\n",
            "D2MP9(VR)\n"
          ]
        },
        {
          "name": "stderr",
          "output_type": "stream",
          "text": [
            " 11%|█         | 12/114 [00:00<00:03, 26.20it/s]"
          ]
        },
        {
          "name": "stdout",
          "output_type": "stream",
          "text": [
            "intermediate_spatial_dim tensor([  1, 512, 512])\n",
            "processed_label torch.Size([1, 256, 256])\n",
            "unsqueeze torch.Size([1, 1, 1, 256, 256])\n",
            "intermediate_spatial_dim tensor([  1, 512, 512])\n",
            "processed_label torch.Size([1, 256, 256])\n",
            "unsqueeze torch.Size([1, 1, 1, 256, 256])\n",
            "intermediate_spatial_dim tensor([  1, 512, 512])\n",
            "processed_label torch.Size([1, 256, 256])\n",
            "unsqueeze torch.Size([1, 1, 1, 256, 256])\n"
          ]
        },
        {
          "name": "stderr",
          "output_type": "stream",
          "text": [
            " 15%|█▍        | 17/114 [00:00<00:05, 18.78it/s]"
          ]
        },
        {
          "name": "stdout",
          "output_type": "stream",
          "text": [
            "intermediate_spatial_dim tensor([  1, 512, 512])\n",
            "processed_label torch.Size([1, 256, 256])\n",
            "unsqueeze torch.Size([1, 1, 1, 256, 256])\n",
            "intermediate_spatial_dim tensor([  1, 512, 512])\n",
            "processed_label torch.Size([1, 256, 256])\n",
            "unsqueeze torch.Size([1, 1, 1, 256, 256])\n",
            "intermediate_spatial_dim tensor([  1, 512, 512])\n",
            "processed_label torch.Size([1, 256, 256])\n",
            "unsqueeze torch.Size([1, 1, 1, 256, 256])\n"
          ]
        },
        {
          "name": "stderr",
          "output_type": "stream",
          "text": [
            " 17%|█▋        | 19/114 [00:00<00:05, 17.27it/s]"
          ]
        },
        {
          "name": "stdout",
          "output_type": "stream",
          "text": [
            "intermediate_spatial_dim tensor([  1, 512, 512])\n",
            "processed_label torch.Size([1, 256, 256])\n",
            "unsqueeze torch.Size([1, 1, 1, 256, 256])\n",
            "intermediate_spatial_dim tensor([  1, 512, 512])\n",
            "processed_label torch.Size([1, 256, 256])\n",
            "unsqueeze torch.Size([1, 1, 1, 256, 256])\n",
            "intermediate_spatial_dim tensor([  1, 512, 512])\n",
            "processed_label torch.Size([1, 256, 256])\n",
            "unsqueeze torch.Size([1, 1, 1, 256, 256])\n"
          ]
        },
        {
          "name": "stderr",
          "output_type": "stream",
          "text": [
            " 20%|██        | 23/114 [00:01<00:05, 15.44it/s]"
          ]
        },
        {
          "name": "stdout",
          "output_type": "stream",
          "text": [
            "intermediate_spatial_dim tensor([  1, 512, 512])\n",
            "processed_label torch.Size([1, 256, 256])\n",
            "unsqueeze torch.Size([1, 1, 1, 256, 256])\n",
            "intermediate_spatial_dim tensor([  1, 512, 512])\n",
            "processed_label torch.Size([1, 256, 256])\n",
            "unsqueeze torch.Size([1, 1, 1, 256, 256])\n",
            "intermediate_spatial_dim tensor([  1, 512, 512])\n",
            "processed_label torch.Size([1, 256, 256])\n",
            "unsqueeze torch.Size([1, 1, 1, 256, 256])\n"
          ]
        },
        {
          "name": "stderr",
          "output_type": "stream",
          "text": [
            " 28%|██▊       | 32/114 [00:01<00:03, 26.53it/s]"
          ]
        },
        {
          "name": "stdout",
          "output_type": "stream",
          "text": [
            "intermediate_spatial_dim tensor([  1, 512, 512])\n",
            "processed_label torch.Size([1, 256, 256])\n",
            "unsqueeze torch.Size([1, 1, 1, 256, 256])\n",
            "intermediate_spatial_dim tensor([  1, 512, 512])\n",
            "processed_label torch.Size([1, 256, 256])\n",
            "unsqueeze torch.Size([1, 1, 1, 256, 256])\n",
            "intermediate_spatial_dim tensor([  1, 512, 512])\n",
            "processed_label torch.Size([1, 256, 256])\n",
            "unsqueeze torch.Size([1, 1, 1, 256, 256])\n",
            "intermediate_spatial_dim tensor([  1, 512, 512])\n",
            "processed_label torch.Size([1, 256, 256])\n",
            "unsqueeze torch.Size([1, 1, 1, 256, 256])\n",
            "intermediate_spatial_dim tensor([  1, 512, 512])\n",
            "processed_label torch.Size([1, 256, 256])\n",
            "unsqueeze torch.Size([1, 1, 1, 256, 256])\n",
            "intermediate_spatial_dim tensor([  1, 512, 512])\n",
            "processed_label torch.Size([1, 256, 256])\n",
            "unsqueeze torch.Size([1, 1, 1, 256, 256])\n"
          ]
        },
        {
          "name": "stderr",
          "output_type": "stream",
          "text": [
            " 32%|███▏      | 36/114 [00:01<00:03, 19.92it/s]"
          ]
        },
        {
          "name": "stdout",
          "output_type": "stream",
          "text": [
            "intermediate_spatial_dim tensor([  1, 512, 512])\n",
            "processed_label torch.Size([1, 256, 256])\n",
            "unsqueeze torch.Size([1, 1, 1, 256, 256])\n",
            "intermediate_spatial_dim tensor([  1, 512, 512])\n",
            "processed_label torch.Size([1, 256, 256])\n",
            "unsqueeze torch.Size([1, 1, 1, 256, 256])\n",
            "intermediate_spatial_dim tensor([  1, 512, 512])\n",
            "processed_label torch.Size([1, 256, 256])\n",
            "unsqueeze torch.Size([1, 1, 1, 256, 256])\n"
          ]
        },
        {
          "name": "stderr",
          "output_type": "stream",
          "text": [
            " 34%|███▍      | 39/114 [00:02<00:04, 17.89it/s]"
          ]
        },
        {
          "name": "stdout",
          "output_type": "stream",
          "text": [
            "intermediate_spatial_dim tensor([  1, 512, 512])\n",
            "processed_label torch.Size([1, 256, 256])\n",
            "unsqueeze torch.Size([1, 1, 1, 256, 256])\n",
            "intermediate_spatial_dim tensor([  1, 512, 512])\n",
            "processed_label torch.Size([1, 256, 256])\n",
            "unsqueeze torch.Size([1, 1, 1, 256, 256])\n",
            "intermediate_spatial_dim tensor([  1, 512, 512])\n",
            "processed_label torch.Size([1, 256, 256])\n",
            "unsqueeze torch.Size([1, 1, 1, 256, 256])\n"
          ]
        },
        {
          "name": "stderr",
          "output_type": "stream",
          "text": [
            " 39%|███▊      | 44/114 [00:02<00:04, 15.36it/s]"
          ]
        },
        {
          "name": "stdout",
          "output_type": "stream",
          "text": [
            "intermediate_spatial_dim tensor([  1, 512, 512])\n",
            "processed_label torch.Size([1, 256, 256])\n",
            "unsqueeze torch.Size([1, 1, 1, 256, 256])\n",
            "intermediate_spatial_dim tensor([  1, 512, 512])\n",
            "processed_label torch.Size([1, 256, 256])\n",
            "unsqueeze torch.Size([1, 1, 1, 256, 256])\n",
            "intermediate_spatial_dim tensor([  1, 512, 512])\n",
            "processed_label torch.Size([1, 256, 256])\n",
            "unsqueeze torch.Size([1, 1, 1, 256, 256])\n"
          ]
        },
        {
          "name": "stderr",
          "output_type": "stream",
          "text": [
            " 40%|████      | 46/114 [00:02<00:04, 14.71it/s]"
          ]
        },
        {
          "name": "stdout",
          "output_type": "stream",
          "text": [
            "intermediate_spatial_dim tensor([  1, 512, 512])\n",
            "processed_label torch.Size([1, 256, 256])\n",
            "unsqueeze torch.Size([1, 1, 1, 256, 256])\n",
            "intermediate_spatial_dim tensor([  1, 512, 512])\n",
            "processed_label torch.Size([1, 256, 256])\n",
            "unsqueeze torch.Size([1, 1, 1, 256, 256])\n",
            "intermediate_spatial_dim tensor([  1, 512, 512])\n",
            "processed_label torch.Size([1, 256, 256])\n",
            "unsqueeze torch.Size([1, 1, 1, 256, 256])\n"
          ]
        },
        {
          "name": "stderr",
          "output_type": "stream",
          "text": [
            " 44%|████▍     | 50/114 [00:02<00:04, 13.45it/s]"
          ]
        },
        {
          "name": "stdout",
          "output_type": "stream",
          "text": [
            "intermediate_spatial_dim tensor([  1, 512, 512])\n",
            "processed_label torch.Size([1, 256, 256])\n",
            "unsqueeze torch.Size([1, 1, 1, 256, 256])\n",
            "intermediate_spatial_dim tensor([  1, 512, 512])\n",
            "processed_label torch.Size([1, 256, 256])\n",
            "unsqueeze torch.Size([1, 1, 1, 256, 256])\n",
            "intermediate_spatial_dim tensor([  1, 512, 512])\n",
            "processed_label torch.Size([1, 256, 256])\n",
            "unsqueeze torch.Size([1, 1, 1, 256, 256])\n"
          ]
        },
        {
          "name": "stderr",
          "output_type": "stream",
          "text": [
            " 46%|████▌     | 52/114 [00:03<00:04, 13.11it/s]"
          ]
        },
        {
          "name": "stdout",
          "output_type": "stream",
          "text": [
            "intermediate_spatial_dim tensor([  1, 512, 512])\n",
            "processed_label torch.Size([1, 256, 256])\n",
            "unsqueeze torch.Size([1, 1, 1, 256, 256])\n",
            "intermediate_spatial_dim tensor([  1, 512, 512])\n",
            "processed_label torch.Size([1, 256, 256])\n",
            "unsqueeze torch.Size([1, 1, 1, 256, 256])\n",
            "intermediate_spatial_dim tensor([  1, 512, 512])\n",
            "processed_label torch.Size([1, 256, 256])\n",
            "unsqueeze torch.Size([1, 1, 1, 256, 256])\n"
          ]
        },
        {
          "name": "stderr",
          "output_type": "stream",
          "text": [
            " 49%|████▉     | 56/114 [00:03<00:04, 13.09it/s]"
          ]
        },
        {
          "name": "stdout",
          "output_type": "stream",
          "text": [
            "intermediate_spatial_dim tensor([  1, 512, 512])\n",
            "processed_label torch.Size([1, 256, 256])\n",
            "unsqueeze torch.Size([1, 1, 1, 256, 256])\n",
            "intermediate_spatial_dim tensor([  1, 512, 512])\n",
            "processed_label torch.Size([1, 256, 256])\n",
            "unsqueeze torch.Size([1, 1, 1, 256, 256])\n",
            "intermediate_spatial_dim tensor([  1, 512, 512])\n",
            "processed_label torch.Size([1, 256, 256])\n",
            "unsqueeze torch.Size([1, 1, 1, 256, 256])\n"
          ]
        },
        {
          "name": "stderr",
          "output_type": "stream",
          "text": [
            " 51%|█████     | 58/114 [00:03<00:04, 13.11it/s]"
          ]
        },
        {
          "name": "stdout",
          "output_type": "stream",
          "text": [
            "intermediate_spatial_dim tensor([  1, 512, 512])\n",
            "processed_label torch.Size([1, 256, 256])\n",
            "unsqueeze torch.Size([1, 1, 1, 256, 256])\n",
            "intermediate_spatial_dim tensor([  1, 512, 512])\n",
            "processed_label torch.Size([1, 256, 256])\n",
            "unsqueeze torch.Size([1, 1, 1, 256, 256])\n",
            "intermediate_spatial_dim tensor([  1, 512, 512])\n",
            "processed_label torch.Size([1, 256, 256])\n",
            "unsqueeze torch.Size([1, 1, 1, 256, 256])\n"
          ]
        },
        {
          "name": "stderr",
          "output_type": "stream",
          "text": [
            " 54%|█████▍    | 62/114 [00:03<00:03, 13.31it/s]"
          ]
        },
        {
          "name": "stdout",
          "output_type": "stream",
          "text": [
            "intermediate_spatial_dim tensor([  1, 512, 512])\n",
            "processed_label torch.Size([1, 256, 256])\n",
            "unsqueeze torch.Size([1, 1, 1, 256, 256])\n",
            "intermediate_spatial_dim tensor([  1, 512, 512])\n",
            "processed_label torch.Size([1, 256, 256])\n",
            "unsqueeze torch.Size([1, 1, 1, 256, 256])\n",
            "intermediate_spatial_dim tensor([  1, 512, 512])\n",
            "processed_label torch.Size([1, 256, 256])\n",
            "unsqueeze torch.Size([1, 1, 1, 256, 256])\n",
            "intermediate_spatial_dim tensor([  1, 512, 512])\n",
            "processed_label torch.Size([1, 256, 256])\n",
            "unsqueeze torch.Size([1, 1, 1, 256, 256])\n"
          ]
        },
        {
          "name": "stderr",
          "output_type": "stream",
          "text": [
            " 58%|█████▊    | 66/114 [00:04<00:03, 12.92it/s]"
          ]
        },
        {
          "name": "stdout",
          "output_type": "stream",
          "text": [
            "intermediate_spatial_dim tensor([  1, 512, 512])\n",
            "processed_label torch.Size([1, 256, 256])\n",
            "unsqueeze torch.Size([1, 1, 1, 256, 256])\n",
            "intermediate_spatial_dim tensor([  1, 512, 512])\n",
            "processed_label torch.Size([1, 256, 256])\n",
            "unsqueeze torch.Size([1, 1, 1, 256, 256])\n",
            "intermediate_spatial_dim tensor([  1, 512, 512])\n",
            "processed_label torch.Size([1, 256, 256])\n",
            "unsqueeze torch.Size([1, 1, 1, 256, 256])\n"
          ]
        },
        {
          "name": "stderr",
          "output_type": "stream",
          "text": [
            " 60%|█████▉    | 68/114 [00:04<00:03, 13.11it/s]"
          ]
        },
        {
          "name": "stdout",
          "output_type": "stream",
          "text": [
            "intermediate_spatial_dim tensor([  1, 512, 512])\n",
            "processed_label torch.Size([1, 256, 256])\n",
            "unsqueeze torch.Size([1, 1, 1, 256, 256])\n",
            "intermediate_spatial_dim tensor([  1, 512, 512])\n",
            "processed_label torch.Size([1, 256, 256])\n",
            "unsqueeze torch.Size([1, 1, 1, 256, 256])\n",
            "intermediate_spatial_dim tensor([  1, 512, 512])\n",
            "processed_label torch.Size([1, 256, 256])\n",
            "unsqueeze torch.Size([1, 1, 1, 256, 256])\n"
          ]
        },
        {
          "name": "stderr",
          "output_type": "stream",
          "text": [
            " 63%|██████▎   | 72/114 [00:04<00:03, 13.39it/s]"
          ]
        },
        {
          "name": "stdout",
          "output_type": "stream",
          "text": [
            "intermediate_spatial_dim tensor([  1, 512, 512])\n",
            "processed_label torch.Size([1, 256, 256])\n",
            "unsqueeze torch.Size([1, 1, 1, 256, 256])\n",
            "intermediate_spatial_dim tensor([  1, 512, 512])\n",
            "processed_label torch.Size([1, 256, 256])\n",
            "unsqueeze torch.Size([1, 1, 1, 256, 256])\n",
            "intermediate_spatial_dim tensor([  1, 512, 512])\n",
            "processed_label torch.Size([1, 256, 256])\n",
            "unsqueeze torch.Size([1, 1, 1, 256, 256])\n"
          ]
        },
        {
          "name": "stderr",
          "output_type": "stream",
          "text": [
            " 65%|██████▍   | 74/114 [00:04<00:02, 13.39it/s]"
          ]
        },
        {
          "name": "stdout",
          "output_type": "stream",
          "text": [
            "intermediate_spatial_dim tensor([  1, 512, 512])\n",
            "processed_label torch.Size([1, 256, 256])\n",
            "unsqueeze torch.Size([1, 1, 1, 256, 256])\n",
            "intermediate_spatial_dim tensor([  1, 512, 512])\n",
            "processed_label torch.Size([1, 256, 256])\n",
            "unsqueeze torch.Size([1, 1, 1, 256, 256])\n",
            "intermediate_spatial_dim tensor([  1, 512, 512])\n",
            "processed_label torch.Size([1, 256, 256])\n",
            "unsqueeze torch.Size([1, 1, 1, 256, 256])\n"
          ]
        },
        {
          "name": "stderr",
          "output_type": "stream",
          "text": [
            " 68%|██████▊   | 78/114 [00:05<00:02, 12.81it/s]"
          ]
        },
        {
          "name": "stdout",
          "output_type": "stream",
          "text": [
            "intermediate_spatial_dim tensor([  1, 512, 512])\n",
            "processed_label torch.Size([1, 256, 256])\n",
            "unsqueeze torch.Size([1, 1, 1, 256, 256])\n",
            "intermediate_spatial_dim tensor([  1, 512, 512])\n",
            "processed_label torch.Size([1, 256, 256])\n",
            "unsqueeze torch.Size([1, 1, 1, 256, 256])\n",
            "intermediate_spatial_dim tensor([  1, 512, 512])\n",
            "processed_label torch.Size([1, 256, 256])\n",
            "unsqueeze torch.Size([1, 1, 1, 256, 256])\n"
          ]
        },
        {
          "name": "stderr",
          "output_type": "stream",
          "text": [
            " 72%|███████▏  | 82/114 [00:05<00:01, 16.71it/s]"
          ]
        },
        {
          "name": "stdout",
          "output_type": "stream",
          "text": [
            "intermediate_spatial_dim tensor([  1, 512, 512])\n",
            "processed_label torch.Size([1, 256, 256])\n",
            "unsqueeze torch.Size([1, 1, 1, 256, 256])\n",
            "intermediate_spatial_dim tensor([  1, 512, 512])\n",
            "processed_label torch.Size([1, 256, 256])\n",
            "unsqueeze torch.Size([1, 1, 1, 256, 256])\n",
            "intermediate_spatial_dim tensor([  1, 512, 512])\n",
            "processed_label torch.Size([1, 256, 256])\n",
            "unsqueeze torch.Size([1, 1, 1, 256, 256])\n"
          ]
        },
        {
          "name": "stderr",
          "output_type": "stream",
          "text": [
            "100%|██████████| 114/114 [00:05<00:00, 21.02it/s]\n"
          ]
        },
        {
          "name": "stdout",
          "output_type": "stream",
          "text": [
            "BR0138\n"
          ]
        },
        {
          "name": "stderr",
          "output_type": "stream",
          "text": [
            "  9%|▉         | 20/228 [00:00<00:02, 70.05it/s]"
          ]
        },
        {
          "name": "stdout",
          "output_type": "stream",
          "text": [
            "intermediate_spatial_dim tensor([  1, 512, 512])\n",
            "processed_label torch.Size([1, 256, 256])\n",
            "unsqueeze torch.Size([1, 1, 1, 256, 256])\n",
            "intermediate_spatial_dim tensor([  1, 512, 512])\n",
            "processed_label torch.Size([1, 256, 256])\n",
            "unsqueeze torch.Size([1, 1, 1, 256, 256])\n",
            "intermediate_spatial_dim tensor([  1, 512, 512])\n",
            "processed_label torch.Size([1, 256, 256])\n",
            "unsqueeze torch.Size([1, 1, 1, 256, 256])\n",
            "intermediate_spatial_dim tensor([  1, 512, 512])\n",
            "processed_label torch.Size([1, 256, 256])\n",
            "unsqueeze torch.Size([1, 1, 1, 256, 256])\n",
            "intermediate_spatial_dim tensor([  1, 512, 512])\n",
            "processed_label torch.Size([1, 256, 256])\n",
            "unsqueeze torch.Size([1, 1, 1, 256, 256])\n",
            "intermediate_spatial_dim tensor([  1, 512, 512])\n",
            "processed_label torch.Size([1, 256, 256])\n",
            "unsqueeze torch.Size([1, 1, 1, 256, 256])\n"
          ]
        },
        {
          "name": "stderr",
          "output_type": "stream",
          "text": [
            " 12%|█▏        | 28/228 [00:00<00:07, 26.01it/s]"
          ]
        },
        {
          "name": "stdout",
          "output_type": "stream",
          "text": [
            "intermediate_spatial_dim tensor([  1, 512, 512])\n",
            "processed_label torch.Size([1, 256, 256])\n",
            "unsqueeze torch.Size([1, 1, 1, 256, 256])\n",
            "intermediate_spatial_dim tensor([  1, 512, 512])\n",
            "processed_label torch.Size([1, 256, 256])\n",
            "unsqueeze torch.Size([1, 1, 1, 256, 256])\n",
            "intermediate_spatial_dim tensor([  1, 512, 512])\n",
            "processed_label torch.Size([1, 256, 256])\n",
            "unsqueeze torch.Size([1, 1, 1, 256, 256])\n",
            "intermediate_spatial_dim tensor([  1, 512, 512])\n",
            "processed_label torch.Size([1, 256, 256])\n",
            "unsqueeze torch.Size([1, 1, 1, 256, 256])\n",
            "intermediate_spatial_dim tensor([  1, 512, 512])\n",
            "processed_label torch.Size([1, 256, 256])\n",
            "unsqueeze torch.Size([1, 1, 1, 256, 256])\n",
            "intermediate_spatial_dim tensor([  1, 512, 512])\n",
            "processed_label torch.Size([1, 256, 256])\n",
            "unsqueeze torch.Size([1, 1, 1, 256, 256])\n"
          ]
        },
        {
          "name": "stderr",
          "output_type": "stream",
          "text": [
            " 14%|█▍        | 32/228 [00:01<00:09, 21.29it/s]"
          ]
        },
        {
          "name": "stdout",
          "output_type": "stream",
          "text": [
            "intermediate_spatial_dim tensor([  1, 512, 512])\n",
            "processed_label torch.Size([1, 256, 256])\n",
            "unsqueeze torch.Size([1, 1, 1, 256, 256])\n",
            "intermediate_spatial_dim tensor([  1, 512, 512])\n",
            "processed_label torch.Size([1, 256, 256])\n",
            "unsqueeze torch.Size([1, 1, 1, 256, 256])\n",
            "intermediate_spatial_dim tensor([  1, 512, 512])\n",
            "processed_label torch.Size([1, 256, 256])\n",
            "unsqueeze torch.Size([1, 1, 1, 256, 256])\n"
          ]
        },
        {
          "name": "stderr",
          "output_type": "stream",
          "text": [
            " 15%|█▌        | 35/228 [00:01<00:10, 19.06it/s]"
          ]
        },
        {
          "name": "stdout",
          "output_type": "stream",
          "text": [
            "intermediate_spatial_dim tensor([  1, 512, 512])\n",
            "processed_label torch.Size([1, 256, 256])\n",
            "unsqueeze torch.Size([1, 1, 1, 256, 256])\n",
            "intermediate_spatial_dim tensor([  1, 512, 512])\n",
            "processed_label torch.Size([1, 256, 256])\n",
            "unsqueeze torch.Size([1, 1, 1, 256, 256])\n",
            "intermediate_spatial_dim tensor([  1, 512, 512])\n",
            "processed_label torch.Size([1, 256, 256])\n",
            "unsqueeze torch.Size([1, 1, 1, 256, 256])\n"
          ]
        },
        {
          "name": "stderr",
          "output_type": "stream",
          "text": [
            " 18%|█▊        | 40/228 [00:01<00:11, 16.63it/s]"
          ]
        },
        {
          "name": "stdout",
          "output_type": "stream",
          "text": [
            "intermediate_spatial_dim tensor([  1, 512, 512])\n",
            "processed_label torch.Size([1, 256, 256])\n",
            "unsqueeze torch.Size([1, 1, 1, 256, 256])\n",
            "intermediate_spatial_dim tensor([  1, 512, 512])\n",
            "processed_label torch.Size([1, 256, 256])\n",
            "unsqueeze torch.Size([1, 1, 1, 256, 256])\n",
            "intermediate_spatial_dim tensor([  1, 512, 512])\n",
            "processed_label torch.Size([1, 256, 256])\n",
            "unsqueeze torch.Size([1, 1, 1, 256, 256])\n"
          ]
        },
        {
          "name": "stderr",
          "output_type": "stream",
          "text": [
            " 18%|█▊        | 42/228 [00:02<00:11, 15.91it/s]"
          ]
        },
        {
          "name": "stdout",
          "output_type": "stream",
          "text": [
            "intermediate_spatial_dim tensor([  1, 512, 512])\n",
            "processed_label torch.Size([1, 256, 256])\n",
            "unsqueeze torch.Size([1, 1, 1, 256, 256])\n",
            "intermediate_spatial_dim tensor([  1, 512, 512])\n",
            "processed_label torch.Size([1, 256, 256])\n",
            "unsqueeze torch.Size([1, 1, 1, 256, 256])\n",
            "intermediate_spatial_dim tensor([  1, 512, 512])\n",
            "processed_label torch.Size([1, 256, 256])\n",
            "unsqueeze torch.Size([1, 1, 1, 256, 256])\n"
          ]
        },
        {
          "name": "stderr",
          "output_type": "stream",
          "text": [
            " 20%|██        | 46/228 [00:02<00:12, 14.13it/s]"
          ]
        },
        {
          "name": "stdout",
          "output_type": "stream",
          "text": [
            "intermediate_spatial_dim tensor([  1, 512, 512])\n",
            "processed_label torch.Size([1, 256, 256])\n",
            "unsqueeze torch.Size([1, 1, 1, 256, 256])\n",
            "intermediate_spatial_dim tensor([  1, 512, 512])\n",
            "processed_label torch.Size([1, 256, 256])\n",
            "unsqueeze torch.Size([1, 1, 1, 256, 256])\n",
            "intermediate_spatial_dim tensor([  1, 512, 512])\n",
            "processed_label torch.Size([1, 256, 256])\n",
            "unsqueeze torch.Size([1, 1, 1, 256, 256])\n"
          ]
        },
        {
          "name": "stderr",
          "output_type": "stream",
          "text": [
            " 21%|██        | 48/228 [00:02<00:13, 13.57it/s]"
          ]
        },
        {
          "name": "stdout",
          "output_type": "stream",
          "text": [
            "intermediate_spatial_dim tensor([  1, 512, 512])\n",
            "processed_label torch.Size([1, 256, 256])\n",
            "unsqueeze torch.Size([1, 1, 1, 256, 256])\n",
            "intermediate_spatial_dim tensor([  1, 512, 512])\n",
            "processed_label torch.Size([1, 256, 256])\n",
            "unsqueeze torch.Size([1, 1, 1, 256, 256])\n",
            "intermediate_spatial_dim tensor([  1, 512, 512])\n",
            "processed_label torch.Size([1, 256, 256])\n",
            "unsqueeze torch.Size([1, 1, 1, 256, 256])\n"
          ]
        },
        {
          "name": "stderr",
          "output_type": "stream",
          "text": [
            " 22%|██▏       | 50/228 [00:02<00:13, 13.39it/s]"
          ]
        },
        {
          "name": "stdout",
          "output_type": "stream",
          "text": [
            "intermediate_spatial_dim tensor([  1, 512, 512])\n",
            "processed_label torch.Size([1, 256, 256])\n",
            "unsqueeze torch.Size([1, 1, 1, 256, 256])\n",
            "intermediate_spatial_dim tensor([  1, 512, 512])\n",
            "processed_label torch.Size([1, 256, 256])\n",
            "unsqueeze torch.Size([1, 1, 1, 256, 256])\n",
            "intermediate_spatial_dim tensor([  1, 512, 512])\n",
            "processed_label torch.Size([1, 256, 256])\n",
            "unsqueeze torch.Size([1, 1, 1, 256, 256])\n"
          ]
        },
        {
          "name": "stderr",
          "output_type": "stream",
          "text": [
            " 24%|██▎       | 54/228 [00:03<00:14, 11.99it/s]"
          ]
        },
        {
          "name": "stdout",
          "output_type": "stream",
          "text": [
            "intermediate_spatial_dim tensor([  1, 512, 512])\n",
            "processed_label torch.Size([1, 256, 256])\n",
            "unsqueeze torch.Size([1, 1, 1, 256, 256])\n",
            "intermediate_spatial_dim tensor([  1, 512, 512])\n",
            "processed_label torch.Size([1, 256, 256])\n",
            "unsqueeze torch.Size([1, 1, 1, 256, 256])\n",
            "intermediate_spatial_dim tensor([  1, 512, 512])\n",
            "processed_label torch.Size([1, 256, 256])\n",
            "unsqueeze torch.Size([1, 1, 1, 256, 256])\n"
          ]
        },
        {
          "name": "stderr",
          "output_type": "stream",
          "text": [
            " 25%|██▌       | 58/228 [00:03<00:13, 12.24it/s]"
          ]
        },
        {
          "name": "stdout",
          "output_type": "stream",
          "text": [
            "intermediate_spatial_dim tensor([  1, 512, 512])\n",
            "processed_label torch.Size([1, 256, 256])\n",
            "unsqueeze torch.Size([1, 1, 1, 256, 256])\n",
            "intermediate_spatial_dim tensor([  1, 512, 512])\n",
            "processed_label torch.Size([1, 256, 256])\n",
            "unsqueeze torch.Size([1, 1, 1, 256, 256])\n",
            "intermediate_spatial_dim tensor([  1, 512, 512])\n",
            "processed_label torch.Size([1, 256, 256])\n",
            "unsqueeze torch.Size([1, 1, 1, 256, 256])\n"
          ]
        },
        {
          "name": "stderr",
          "output_type": "stream",
          "text": [
            " 26%|██▋       | 60/228 [00:03<00:13, 12.66it/s]"
          ]
        },
        {
          "name": "stdout",
          "output_type": "stream",
          "text": [
            "intermediate_spatial_dim tensor([  1, 512, 512])\n",
            "processed_label torch.Size([1, 256, 256])\n",
            "unsqueeze torch.Size([1, 1, 1, 256, 256])\n",
            "intermediate_spatial_dim tensor([  1, 512, 512])\n",
            "processed_label torch.Size([1, 256, 256])\n",
            "unsqueeze torch.Size([1, 1, 1, 256, 256])\n",
            "intermediate_spatial_dim tensor([  1, 512, 512])\n",
            "processed_label torch.Size([1, 256, 256])\n",
            "unsqueeze torch.Size([1, 1, 1, 256, 256])\n"
          ]
        },
        {
          "name": "stderr",
          "output_type": "stream",
          "text": [
            " 28%|██▊       | 64/228 [00:03<00:12, 13.07it/s]"
          ]
        },
        {
          "name": "stdout",
          "output_type": "stream",
          "text": [
            "intermediate_spatial_dim tensor([  1, 512, 512])\n",
            "processed_label torch.Size([1, 256, 256])\n",
            "unsqueeze torch.Size([1, 1, 1, 256, 256])\n",
            "intermediate_spatial_dim tensor([  1, 512, 512])\n",
            "processed_label torch.Size([1, 256, 256])\n",
            "unsqueeze torch.Size([1, 1, 1, 256, 256])\n",
            "intermediate_spatial_dim tensor([  1, 512, 512])\n",
            "processed_label torch.Size([1, 256, 256])\n",
            "unsqueeze torch.Size([1, 1, 1, 256, 256])\n"
          ]
        },
        {
          "name": "stderr",
          "output_type": "stream",
          "text": [
            " 29%|██▉       | 66/228 [00:03<00:12, 13.05it/s]"
          ]
        },
        {
          "name": "stdout",
          "output_type": "stream",
          "text": [
            "intermediate_spatial_dim tensor([  1, 512, 512])\n",
            "processed_label torch.Size([1, 256, 256])\n",
            "unsqueeze torch.Size([1, 1, 1, 256, 256])\n",
            "intermediate_spatial_dim tensor([  1, 512, 512])\n",
            "processed_label torch.Size([1, 256, 256])\n",
            "unsqueeze torch.Size([1, 1, 1, 256, 256])\n",
            "intermediate_spatial_dim tensor([  1, 512, 512])\n",
            "processed_label torch.Size([1, 256, 256])\n",
            "unsqueeze torch.Size([1, 1, 1, 256, 256])\n"
          ]
        },
        {
          "name": "stderr",
          "output_type": "stream",
          "text": [
            " 31%|███       | 70/228 [00:04<00:12, 12.94it/s]"
          ]
        },
        {
          "name": "stdout",
          "output_type": "stream",
          "text": [
            "intermediate_spatial_dim tensor([  1, 512, 512])\n",
            "processed_label torch.Size([1, 256, 256])\n",
            "unsqueeze torch.Size([1, 1, 1, 256, 256])\n",
            "intermediate_spatial_dim tensor([  1, 512, 512])\n",
            "processed_label torch.Size([1, 256, 256])\n",
            "unsqueeze torch.Size([1, 1, 1, 256, 256])\n",
            "intermediate_spatial_dim tensor([  1, 512, 512])\n",
            "processed_label torch.Size([1, 256, 256])\n",
            "unsqueeze torch.Size([1, 1, 1, 256, 256])\n"
          ]
        },
        {
          "name": "stderr",
          "output_type": "stream",
          "text": [
            " 32%|███▏      | 72/228 [00:04<00:12, 12.92it/s]"
          ]
        },
        {
          "name": "stdout",
          "output_type": "stream",
          "text": [
            "intermediate_spatial_dim tensor([  1, 512, 512])\n",
            "processed_label torch.Size([1, 256, 256])\n",
            "unsqueeze torch.Size([1, 1, 1, 256, 256])\n",
            "intermediate_spatial_dim tensor([  1, 512, 512])\n",
            "processed_label torch.Size([1, 256, 256])\n",
            "unsqueeze torch.Size([1, 1, 1, 256, 256])\n",
            "intermediate_spatial_dim tensor([  1, 512, 512])\n",
            "processed_label torch.Size([1, 256, 256])\n",
            "unsqueeze torch.Size([1, 1, 1, 256, 256])\n"
          ]
        },
        {
          "name": "stderr",
          "output_type": "stream",
          "text": [
            " 33%|███▎      | 76/228 [00:04<00:11, 12.89it/s]"
          ]
        },
        {
          "name": "stdout",
          "output_type": "stream",
          "text": [
            "intermediate_spatial_dim tensor([  1, 512, 512])\n",
            "processed_label torch.Size([1, 256, 256])\n",
            "unsqueeze torch.Size([1, 1, 1, 256, 256])\n",
            "intermediate_spatial_dim tensor([  1, 512, 512])\n",
            "processed_label torch.Size([1, 256, 256])\n",
            "unsqueeze torch.Size([1, 1, 1, 256, 256])\n",
            "intermediate_spatial_dim tensor([  1, 512, 512])\n",
            "processed_label torch.Size([1, 256, 256])\n",
            "unsqueeze torch.Size([1, 1, 1, 256, 256])\n"
          ]
        },
        {
          "name": "stderr",
          "output_type": "stream",
          "text": [
            " 34%|███▍      | 78/228 [00:04<00:11, 12.90it/s]"
          ]
        },
        {
          "name": "stdout",
          "output_type": "stream",
          "text": [
            "intermediate_spatial_dim tensor([  1, 512, 512])\n",
            "processed_label torch.Size([1, 256, 256])\n",
            "unsqueeze torch.Size([1, 1, 1, 256, 256])\n",
            "intermediate_spatial_dim tensor([  1, 512, 512])\n",
            "processed_label torch.Size([1, 256, 256])\n",
            "unsqueeze torch.Size([1, 1, 1, 256, 256])\n",
            "intermediate_spatial_dim tensor([  1, 512, 512])\n",
            "processed_label torch.Size([1, 256, 256])\n",
            "unsqueeze torch.Size([1, 1, 1, 256, 256])\n"
          ]
        },
        {
          "name": "stderr",
          "output_type": "stream",
          "text": [
            " 36%|███▌      | 82/228 [00:05<00:11, 12.84it/s]"
          ]
        },
        {
          "name": "stdout",
          "output_type": "stream",
          "text": [
            "intermediate_spatial_dim tensor([  1, 512, 512])\n",
            "processed_label torch.Size([1, 256, 256])\n",
            "unsqueeze torch.Size([1, 1, 1, 256, 256])\n",
            "intermediate_spatial_dim tensor([  1, 512, 512])\n",
            "processed_label torch.Size([1, 256, 256])\n",
            "unsqueeze torch.Size([1, 1, 1, 256, 256])\n",
            "intermediate_spatial_dim tensor([  1, 512, 512])\n",
            "processed_label torch.Size([1, 256, 256])\n",
            "unsqueeze torch.Size([1, 1, 1, 256, 256])\n"
          ]
        },
        {
          "name": "stderr",
          "output_type": "stream",
          "text": [
            " 37%|███▋      | 84/228 [00:05<00:11, 12.77it/s]"
          ]
        },
        {
          "name": "stdout",
          "output_type": "stream",
          "text": [
            "intermediate_spatial_dim tensor([  1, 512, 512])\n",
            "processed_label torch.Size([1, 256, 256])\n",
            "unsqueeze torch.Size([1, 1, 1, 256, 256])\n",
            "intermediate_spatial_dim tensor([  1, 512, 512])\n",
            "processed_label torch.Size([1, 256, 256])\n",
            "unsqueeze torch.Size([1, 1, 1, 256, 256])\n",
            "intermediate_spatial_dim tensor([  1, 512, 512])\n",
            "processed_label torch.Size([1, 256, 256])\n",
            "unsqueeze torch.Size([1, 1, 1, 256, 256])\n"
          ]
        },
        {
          "name": "stderr",
          "output_type": "stream",
          "text": [
            " 39%|███▊      | 88/228 [00:05<00:10, 13.05it/s]"
          ]
        },
        {
          "name": "stdout",
          "output_type": "stream",
          "text": [
            "intermediate_spatial_dim tensor([  1, 512, 512])\n",
            "processed_label torch.Size([1, 256, 256])\n",
            "unsqueeze torch.Size([1, 1, 1, 256, 256])\n",
            "intermediate_spatial_dim tensor([  1, 512, 512])\n",
            "processed_label torch.Size([1, 256, 256])\n",
            "unsqueeze torch.Size([1, 1, 1, 256, 256])\n",
            "intermediate_spatial_dim tensor([  1, 512, 512])\n",
            "processed_label torch.Size([1, 256, 256])\n",
            "unsqueeze torch.Size([1, 1, 1, 256, 256])\n"
          ]
        },
        {
          "name": "stderr",
          "output_type": "stream",
          "text": [
            " 39%|███▉      | 90/228 [00:05<00:10, 13.05it/s]"
          ]
        },
        {
          "name": "stdout",
          "output_type": "stream",
          "text": [
            "intermediate_spatial_dim tensor([  1, 512, 512])\n",
            "processed_label torch.Size([1, 256, 256])\n",
            "unsqueeze torch.Size([1, 1, 1, 256, 256])\n",
            "intermediate_spatial_dim tensor([  1, 512, 512])\n",
            "processed_label torch.Size([1, 256, 256])\n",
            "unsqueeze torch.Size([1, 1, 1, 256, 256])\n",
            "intermediate_spatial_dim tensor([  1, 512, 512])\n",
            "processed_label torch.Size([1, 256, 256])\n",
            "unsqueeze torch.Size([1, 1, 1, 256, 256])\n"
          ]
        },
        {
          "name": "stderr",
          "output_type": "stream",
          "text": [
            " 41%|████      | 94/228 [00:06<00:10, 12.80it/s]"
          ]
        },
        {
          "name": "stdout",
          "output_type": "stream",
          "text": [
            "intermediate_spatial_dim tensor([  1, 512, 512])\n",
            "processed_label torch.Size([1, 256, 256])\n",
            "unsqueeze torch.Size([1, 1, 1, 256, 256])\n",
            "intermediate_spatial_dim tensor([  1, 512, 512])\n",
            "processed_label torch.Size([1, 256, 256])\n",
            "unsqueeze torch.Size([1, 1, 1, 256, 256])\n",
            "intermediate_spatial_dim tensor([  1, 512, 512])\n",
            "processed_label torch.Size([1, 256, 256])\n",
            "unsqueeze torch.Size([1, 1, 1, 256, 256])\n"
          ]
        },
        {
          "name": "stderr",
          "output_type": "stream",
          "text": [
            " 42%|████▏     | 96/228 [00:06<00:10, 12.88it/s]"
          ]
        },
        {
          "name": "stdout",
          "output_type": "stream",
          "text": [
            "intermediate_spatial_dim tensor([  1, 512, 512])\n",
            "processed_label torch.Size([1, 256, 256])\n",
            "unsqueeze torch.Size([1, 1, 1, 256, 256])\n",
            "intermediate_spatial_dim tensor([  1, 512, 512])\n",
            "processed_label torch.Size([1, 256, 256])\n",
            "unsqueeze torch.Size([1, 1, 1, 256, 256])\n",
            "intermediate_spatial_dim tensor([  1, 512, 512])\n",
            "processed_label torch.Size([1, 256, 256])\n",
            "unsqueeze torch.Size([1, 1, 1, 256, 256])\n"
          ]
        },
        {
          "name": "stderr",
          "output_type": "stream",
          "text": [
            " 44%|████▍     | 100/228 [00:06<00:09, 12.86it/s]"
          ]
        },
        {
          "name": "stdout",
          "output_type": "stream",
          "text": [
            "intermediate_spatial_dim tensor([  1, 512, 512])\n",
            "processed_label torch.Size([1, 256, 256])\n",
            "unsqueeze torch.Size([1, 1, 1, 256, 256])\n",
            "intermediate_spatial_dim tensor([  1, 512, 512])\n",
            "processed_label torch.Size([1, 256, 256])\n",
            "unsqueeze torch.Size([1, 1, 1, 256, 256])\n",
            "intermediate_spatial_dim tensor([  1, 512, 512])\n",
            "processed_label torch.Size([1, 256, 256])\n",
            "unsqueeze torch.Size([1, 1, 1, 256, 256])\n"
          ]
        },
        {
          "name": "stderr",
          "output_type": "stream",
          "text": [
            " 45%|████▍     | 102/228 [00:06<00:09, 13.02it/s]"
          ]
        },
        {
          "name": "stdout",
          "output_type": "stream",
          "text": [
            "intermediate_spatial_dim tensor([  1, 512, 512])\n",
            "processed_label torch.Size([1, 256, 256])\n",
            "unsqueeze torch.Size([1, 1, 1, 256, 256])\n",
            "intermediate_spatial_dim tensor([  1, 512, 512])\n",
            "processed_label torch.Size([1, 256, 256])\n",
            "unsqueeze torch.Size([1, 1, 1, 256, 256])\n",
            "intermediate_spatial_dim tensor([  1, 512, 512])\n",
            "processed_label torch.Size([1, 256, 256])\n",
            "unsqueeze torch.Size([1, 1, 1, 256, 256])\n"
          ]
        },
        {
          "name": "stderr",
          "output_type": "stream",
          "text": [
            " 46%|████▋     | 106/228 [00:07<00:09, 13.20it/s]"
          ]
        },
        {
          "name": "stdout",
          "output_type": "stream",
          "text": [
            "intermediate_spatial_dim tensor([  1, 512, 512])\n",
            "processed_label torch.Size([1, 256, 256])\n",
            "unsqueeze torch.Size([1, 1, 1, 256, 256])\n",
            "intermediate_spatial_dim tensor([  1, 512, 512])\n",
            "processed_label torch.Size([1, 256, 256])\n",
            "unsqueeze torch.Size([1, 1, 1, 256, 256])\n",
            "intermediate_spatial_dim tensor([  1, 512, 512])\n",
            "processed_label torch.Size([1, 256, 256])\n",
            "unsqueeze torch.Size([1, 1, 1, 256, 256])\n"
          ]
        },
        {
          "name": "stderr",
          "output_type": "stream",
          "text": [
            " 47%|████▋     | 108/228 [00:07<00:09, 13.19it/s]"
          ]
        },
        {
          "name": "stdout",
          "output_type": "stream",
          "text": [
            "intermediate_spatial_dim tensor([  1, 512, 512])\n",
            "processed_label torch.Size([1, 256, 256])\n",
            "unsqueeze torch.Size([1, 1, 1, 256, 256])\n",
            "intermediate_spatial_dim tensor([  1, 512, 512])\n",
            "processed_label torch.Size([1, 256, 256])\n",
            "unsqueeze torch.Size([1, 1, 1, 256, 256])\n",
            "intermediate_spatial_dim tensor([  1, 512, 512])\n",
            "processed_label torch.Size([1, 256, 256])\n",
            "unsqueeze torch.Size([1, 1, 1, 256, 256])\n"
          ]
        },
        {
          "name": "stderr",
          "output_type": "stream",
          "text": [
            " 49%|████▉     | 112/228 [00:07<00:09, 12.79it/s]"
          ]
        },
        {
          "name": "stdout",
          "output_type": "stream",
          "text": [
            "intermediate_spatial_dim tensor([  1, 512, 512])\n",
            "processed_label torch.Size([1, 256, 256])\n",
            "unsqueeze torch.Size([1, 1, 1, 256, 256])\n",
            "intermediate_spatial_dim tensor([  1, 512, 512])\n",
            "processed_label torch.Size([1, 256, 256])\n",
            "unsqueeze torch.Size([1, 1, 1, 256, 256])\n",
            "intermediate_spatial_dim tensor([  1, 512, 512])\n",
            "processed_label torch.Size([1, 256, 256])\n",
            "unsqueeze torch.Size([1, 1, 1, 256, 256])\n"
          ]
        },
        {
          "name": "stderr",
          "output_type": "stream",
          "text": [
            " 50%|█████     | 114/228 [00:07<00:08, 12.75it/s]"
          ]
        },
        {
          "name": "stdout",
          "output_type": "stream",
          "text": [
            "intermediate_spatial_dim tensor([  1, 512, 512])\n",
            "processed_label torch.Size([1, 256, 256])\n",
            "unsqueeze torch.Size([1, 1, 1, 256, 256])\n",
            "intermediate_spatial_dim tensor([  1, 512, 512])\n",
            "processed_label torch.Size([1, 256, 256])\n",
            "unsqueeze torch.Size([1, 1, 1, 256, 256])\n",
            "intermediate_spatial_dim tensor([  1, 512, 512])\n",
            "processed_label torch.Size([1, 256, 256])\n",
            "unsqueeze torch.Size([1, 1, 1, 256, 256])\n"
          ]
        },
        {
          "name": "stderr",
          "output_type": "stream",
          "text": [
            " 52%|█████▏    | 118/228 [00:07<00:08, 12.79it/s]"
          ]
        },
        {
          "name": "stdout",
          "output_type": "stream",
          "text": [
            "intermediate_spatial_dim tensor([  1, 512, 512])\n",
            "processed_label torch.Size([1, 256, 256])\n",
            "unsqueeze torch.Size([1, 1, 1, 256, 256])\n",
            "intermediate_spatial_dim tensor([  1, 512, 512])\n",
            "processed_label torch.Size([1, 256, 256])\n",
            "unsqueeze torch.Size([1, 1, 1, 256, 256])\n",
            "intermediate_spatial_dim tensor([  1, 512, 512])\n",
            "processed_label torch.Size([1, 256, 256])\n",
            "unsqueeze torch.Size([1, 1, 1, 256, 256])\n"
          ]
        },
        {
          "name": "stderr",
          "output_type": "stream",
          "text": [
            " 53%|█████▎    | 120/228 [00:08<00:08, 12.99it/s]"
          ]
        },
        {
          "name": "stdout",
          "output_type": "stream",
          "text": [
            "intermediate_spatial_dim tensor([  1, 512, 512])\n",
            "processed_label torch.Size([1, 256, 256])\n",
            "unsqueeze torch.Size([1, 1, 1, 256, 256])\n",
            "intermediate_spatial_dim tensor([  1, 512, 512])\n",
            "processed_label torch.Size([1, 256, 256])\n",
            "unsqueeze torch.Size([1, 1, 1, 256, 256])\n",
            "intermediate_spatial_dim tensor([  1, 512, 512])\n",
            "processed_label torch.Size([1, 256, 256])\n",
            "unsqueeze torch.Size([1, 1, 1, 256, 256])\n"
          ]
        },
        {
          "name": "stderr",
          "output_type": "stream",
          "text": [
            " 54%|█████▍    | 124/228 [00:08<00:07, 13.11it/s]"
          ]
        },
        {
          "name": "stdout",
          "output_type": "stream",
          "text": [
            "intermediate_spatial_dim tensor([  1, 512, 512])\n",
            "processed_label torch.Size([1, 256, 256])\n",
            "unsqueeze torch.Size([1, 1, 1, 256, 256])\n",
            "intermediate_spatial_dim tensor([  1, 512, 512])\n",
            "processed_label torch.Size([1, 256, 256])\n",
            "unsqueeze torch.Size([1, 1, 1, 256, 256])\n",
            "intermediate_spatial_dim tensor([  1, 512, 512])\n",
            "processed_label torch.Size([1, 256, 256])\n",
            "unsqueeze torch.Size([1, 1, 1, 256, 256])\n"
          ]
        },
        {
          "name": "stderr",
          "output_type": "stream",
          "text": [
            " 55%|█████▌    | 126/228 [00:08<00:07, 13.00it/s]"
          ]
        },
        {
          "name": "stdout",
          "output_type": "stream",
          "text": [
            "intermediate_spatial_dim tensor([  1, 512, 512])\n",
            "processed_label torch.Size([1, 256, 256])\n",
            "unsqueeze torch.Size([1, 1, 1, 256, 256])\n",
            "intermediate_spatial_dim tensor([  1, 512, 512])\n",
            "processed_label torch.Size([1, 256, 256])\n",
            "unsqueeze torch.Size([1, 1, 1, 256, 256])\n",
            "intermediate_spatial_dim tensor([  1, 512, 512])\n",
            "processed_label torch.Size([1, 256, 256])\n",
            "unsqueeze torch.Size([1, 1, 1, 256, 256])\n"
          ]
        },
        {
          "name": "stderr",
          "output_type": "stream",
          "text": [
            " 57%|█████▋    | 130/228 [00:08<00:07, 13.12it/s]"
          ]
        },
        {
          "name": "stdout",
          "output_type": "stream",
          "text": [
            "intermediate_spatial_dim tensor([  1, 512, 512])\n",
            "processed_label torch.Size([1, 256, 256])\n",
            "unsqueeze torch.Size([1, 1, 1, 256, 256])\n",
            "intermediate_spatial_dim tensor([  1, 512, 512])\n",
            "processed_label torch.Size([1, 256, 256])\n",
            "unsqueeze torch.Size([1, 1, 1, 256, 256])\n",
            "intermediate_spatial_dim tensor([  1, 512, 512])\n",
            "processed_label torch.Size([1, 256, 256])\n",
            "unsqueeze torch.Size([1, 1, 1, 256, 256])\n"
          ]
        },
        {
          "name": "stderr",
          "output_type": "stream",
          "text": [
            " 58%|█████▊    | 132/228 [00:09<00:07, 13.02it/s]"
          ]
        },
        {
          "name": "stdout",
          "output_type": "stream",
          "text": [
            "intermediate_spatial_dim tensor([  1, 512, 512])\n",
            "processed_label torch.Size([1, 256, 256])\n",
            "unsqueeze torch.Size([1, 1, 1, 256, 256])\n",
            "intermediate_spatial_dim tensor([  1, 512, 512])\n",
            "processed_label torch.Size([1, 256, 256])\n",
            "unsqueeze torch.Size([1, 1, 1, 256, 256])\n",
            "intermediate_spatial_dim tensor([  1, 512, 512])\n",
            "processed_label torch.Size([1, 256, 256])\n",
            "unsqueeze torch.Size([1, 1, 1, 256, 256])\n"
          ]
        },
        {
          "name": "stderr",
          "output_type": "stream",
          "text": [
            " 60%|█████▉    | 136/228 [00:09<00:07, 13.07it/s]"
          ]
        },
        {
          "name": "stdout",
          "output_type": "stream",
          "text": [
            "intermediate_spatial_dim tensor([  1, 512, 512])\n",
            "processed_label torch.Size([1, 256, 256])\n",
            "unsqueeze torch.Size([1, 1, 1, 256, 256])\n",
            "intermediate_spatial_dim tensor([  1, 512, 512])\n",
            "processed_label torch.Size([1, 256, 256])\n",
            "unsqueeze torch.Size([1, 1, 1, 256, 256])\n",
            "intermediate_spatial_dim tensor([  1, 512, 512])\n",
            "processed_label torch.Size([1, 256, 256])\n",
            "unsqueeze torch.Size([1, 1, 1, 256, 256])\n"
          ]
        },
        {
          "name": "stderr",
          "output_type": "stream",
          "text": [
            " 61%|██████    | 138/228 [00:09<00:07, 12.63it/s]"
          ]
        },
        {
          "name": "stdout",
          "output_type": "stream",
          "text": [
            "intermediate_spatial_dim tensor([  1, 512, 512])\n",
            "processed_label torch.Size([1, 256, 256])\n",
            "unsqueeze torch.Size([1, 1, 1, 256, 256])\n",
            "intermediate_spatial_dim tensor([  1, 512, 512])\n",
            "processed_label torch.Size([1, 256, 256])\n",
            "unsqueeze torch.Size([1, 1, 1, 256, 256])\n",
            "intermediate_spatial_dim tensor([  1, 512, 512])\n",
            "processed_label torch.Size([1, 256, 256])\n",
            "unsqueeze torch.Size([1, 1, 1, 256, 256])\n"
          ]
        },
        {
          "name": "stderr",
          "output_type": "stream",
          "text": [
            " 62%|██████▏   | 142/228 [00:09<00:06, 12.73it/s]"
          ]
        },
        {
          "name": "stdout",
          "output_type": "stream",
          "text": [
            "intermediate_spatial_dim tensor([  1, 512, 512])\n",
            "processed_label torch.Size([1, 256, 256])\n",
            "unsqueeze torch.Size([1, 1, 1, 256, 256])\n",
            "intermediate_spatial_dim tensor([  1, 512, 512])\n",
            "processed_label torch.Size([1, 256, 256])\n",
            "unsqueeze torch.Size([1, 1, 1, 256, 256])\n",
            "intermediate_spatial_dim tensor([  1, 512, 512])\n",
            "processed_label torch.Size([1, 256, 256])\n",
            "unsqueeze torch.Size([1, 1, 1, 256, 256])\n"
          ]
        },
        {
          "name": "stderr",
          "output_type": "stream",
          "text": [
            " 63%|██████▎   | 144/228 [00:09<00:06, 12.98it/s]"
          ]
        },
        {
          "name": "stdout",
          "output_type": "stream",
          "text": [
            "intermediate_spatial_dim tensor([  1, 512, 512])\n",
            "processed_label torch.Size([1, 256, 256])\n",
            "unsqueeze torch.Size([1, 1, 1, 256, 256])\n",
            "intermediate_spatial_dim tensor([  1, 512, 512])\n",
            "processed_label torch.Size([1, 256, 256])\n",
            "unsqueeze torch.Size([1, 1, 1, 256, 256])\n",
            "intermediate_spatial_dim tensor([  1, 512, 512])\n",
            "processed_label torch.Size([1, 256, 256])\n",
            "unsqueeze torch.Size([1, 1, 1, 256, 256])\n"
          ]
        },
        {
          "name": "stderr",
          "output_type": "stream",
          "text": [
            " 65%|██████▍   | 148/228 [00:10<00:06, 12.91it/s]"
          ]
        },
        {
          "name": "stdout",
          "output_type": "stream",
          "text": [
            "intermediate_spatial_dim tensor([  1, 512, 512])\n",
            "processed_label torch.Size([1, 256, 256])\n",
            "unsqueeze torch.Size([1, 1, 1, 256, 256])\n",
            "intermediate_spatial_dim tensor([  1, 512, 512])\n",
            "processed_label torch.Size([1, 256, 256])\n",
            "unsqueeze torch.Size([1, 1, 1, 256, 256])\n",
            "intermediate_spatial_dim tensor([  1, 512, 512])\n",
            "processed_label torch.Size([1, 256, 256])\n",
            "unsqueeze torch.Size([1, 1, 1, 256, 256])\n"
          ]
        },
        {
          "name": "stderr",
          "output_type": "stream",
          "text": [
            " 66%|██████▌   | 150/228 [00:10<00:06, 12.98it/s]"
          ]
        },
        {
          "name": "stdout",
          "output_type": "stream",
          "text": [
            "intermediate_spatial_dim tensor([  1, 512, 512])\n",
            "processed_label torch.Size([1, 256, 256])\n",
            "unsqueeze torch.Size([1, 1, 1, 256, 256])\n",
            "intermediate_spatial_dim tensor([  1, 512, 512])\n",
            "processed_label torch.Size([1, 256, 256])\n",
            "unsqueeze torch.Size([1, 1, 1, 256, 256])\n",
            "intermediate_spatial_dim tensor([  1, 512, 512])\n",
            "processed_label torch.Size([1, 256, 256])\n",
            "unsqueeze torch.Size([1, 1, 1, 256, 256])\n"
          ]
        },
        {
          "name": "stderr",
          "output_type": "stream",
          "text": [
            " 68%|██████▊   | 154/228 [00:10<00:05, 12.87it/s]"
          ]
        },
        {
          "name": "stdout",
          "output_type": "stream",
          "text": [
            "intermediate_spatial_dim tensor([  1, 512, 512])\n",
            "processed_label torch.Size([1, 256, 256])\n",
            "unsqueeze torch.Size([1, 1, 1, 256, 256])\n",
            "intermediate_spatial_dim tensor([  1, 512, 512])\n",
            "processed_label torch.Size([1, 256, 256])\n",
            "unsqueeze torch.Size([1, 1, 1, 256, 256])\n",
            "intermediate_spatial_dim tensor([  1, 512, 512])\n",
            "processed_label torch.Size([1, 256, 256])\n",
            "unsqueeze torch.Size([1, 1, 1, 256, 256])\n"
          ]
        },
        {
          "name": "stderr",
          "output_type": "stream",
          "text": [
            " 68%|██████▊   | 156/228 [00:10<00:05, 12.95it/s]"
          ]
        },
        {
          "name": "stdout",
          "output_type": "stream",
          "text": [
            "intermediate_spatial_dim tensor([  1, 512, 512])\n",
            "processed_label torch.Size([1, 256, 256])\n",
            "unsqueeze torch.Size([1, 1, 1, 256, 256])\n",
            "intermediate_spatial_dim tensor([  1, 512, 512])\n",
            "processed_label torch.Size([1, 256, 256])\n",
            "unsqueeze torch.Size([1, 1, 1, 256, 256])\n",
            "intermediate_spatial_dim tensor([  1, 512, 512])\n",
            "processed_label torch.Size([1, 256, 256])\n",
            "unsqueeze torch.Size([1, 1, 1, 256, 256])\n"
          ]
        },
        {
          "name": "stderr",
          "output_type": "stream",
          "text": [
            " 70%|███████   | 160/228 [00:11<00:05, 13.12it/s]"
          ]
        },
        {
          "name": "stdout",
          "output_type": "stream",
          "text": [
            "intermediate_spatial_dim tensor([  1, 512, 512])\n",
            "processed_label torch.Size([1, 256, 256])\n",
            "unsqueeze torch.Size([1, 1, 1, 256, 256])\n",
            "intermediate_spatial_dim tensor([  1, 512, 512])\n",
            "processed_label torch.Size([1, 256, 256])\n",
            "unsqueeze torch.Size([1, 1, 1, 256, 256])\n",
            "intermediate_spatial_dim tensor([  1, 512, 512])\n",
            "processed_label torch.Size([1, 256, 256])\n",
            "unsqueeze torch.Size([1, 1, 1, 256, 256])\n"
          ]
        },
        {
          "name": "stderr",
          "output_type": "stream",
          "text": [
            " 71%|███████   | 162/228 [00:11<00:05, 13.03it/s]"
          ]
        },
        {
          "name": "stdout",
          "output_type": "stream",
          "text": [
            "intermediate_spatial_dim tensor([  1, 512, 512])\n",
            "processed_label torch.Size([1, 256, 256])\n",
            "unsqueeze torch.Size([1, 1, 1, 256, 256])\n",
            "intermediate_spatial_dim tensor([  1, 512, 512])\n",
            "processed_label torch.Size([1, 256, 256])\n",
            "unsqueeze torch.Size([1, 1, 1, 256, 256])\n",
            "intermediate_spatial_dim tensor([  1, 512, 512])\n",
            "processed_label torch.Size([1, 256, 256])\n",
            "unsqueeze torch.Size([1, 1, 1, 256, 256])\n"
          ]
        },
        {
          "name": "stderr",
          "output_type": "stream",
          "text": [
            " 73%|███████▎  | 166/228 [00:11<00:04, 13.30it/s]"
          ]
        },
        {
          "name": "stdout",
          "output_type": "stream",
          "text": [
            "intermediate_spatial_dim tensor([  1, 512, 512])\n",
            "processed_label torch.Size([1, 256, 256])\n",
            "unsqueeze torch.Size([1, 1, 1, 256, 256])\n",
            "intermediate_spatial_dim tensor([  1, 512, 512])\n",
            "processed_label torch.Size([1, 256, 256])\n",
            "unsqueeze torch.Size([1, 1, 1, 256, 256])\n",
            "intermediate_spatial_dim tensor([  1, 512, 512])\n",
            "processed_label torch.Size([1, 256, 256])\n",
            "unsqueeze torch.Size([1, 1, 1, 256, 256])\n"
          ]
        },
        {
          "name": "stderr",
          "output_type": "stream",
          "text": [
            " 74%|███████▎  | 168/228 [00:11<00:04, 13.34it/s]"
          ]
        },
        {
          "name": "stdout",
          "output_type": "stream",
          "text": [
            "intermediate_spatial_dim tensor([  1, 512, 512])\n",
            "processed_label torch.Size([1, 256, 256])\n",
            "unsqueeze torch.Size([1, 1, 1, 256, 256])\n",
            "intermediate_spatial_dim tensor([  1, 512, 512])\n",
            "processed_label torch.Size([1, 256, 256])\n",
            "unsqueeze torch.Size([1, 1, 1, 256, 256])\n",
            "intermediate_spatial_dim tensor([  1, 512, 512])\n",
            "processed_label torch.Size([1, 256, 256])\n",
            "unsqueeze torch.Size([1, 1, 1, 256, 256])\n"
          ]
        },
        {
          "name": "stderr",
          "output_type": "stream",
          "text": [
            " 75%|███████▌  | 172/228 [00:12<00:04, 13.37it/s]"
          ]
        },
        {
          "name": "stdout",
          "output_type": "stream",
          "text": [
            "intermediate_spatial_dim tensor([  1, 512, 512])\n",
            "processed_label torch.Size([1, 256, 256])\n",
            "unsqueeze torch.Size([1, 1, 1, 256, 256])\n",
            "intermediate_spatial_dim tensor([  1, 512, 512])\n",
            "processed_label torch.Size([1, 256, 256])\n",
            "unsqueeze torch.Size([1, 1, 1, 256, 256])\n",
            "intermediate_spatial_dim tensor([  1, 512, 512])\n",
            "processed_label torch.Size([1, 256, 256])\n",
            "unsqueeze torch.Size([1, 1, 1, 256, 256])\n"
          ]
        },
        {
          "name": "stderr",
          "output_type": "stream",
          "text": [
            " 76%|███████▋  | 174/228 [00:12<00:04, 13.24it/s]"
          ]
        },
        {
          "name": "stdout",
          "output_type": "stream",
          "text": [
            "intermediate_spatial_dim tensor([  1, 512, 512])\n",
            "processed_label torch.Size([1, 256, 256])\n",
            "unsqueeze torch.Size([1, 1, 1, 256, 256])\n",
            "intermediate_spatial_dim tensor([  1, 512, 512])\n",
            "processed_label torch.Size([1, 256, 256])\n",
            "unsqueeze torch.Size([1, 1, 1, 256, 256])\n",
            "intermediate_spatial_dim tensor([  1, 512, 512])\n",
            "processed_label torch.Size([1, 256, 256])\n",
            "unsqueeze torch.Size([1, 1, 1, 256, 256])\n"
          ]
        },
        {
          "name": "stderr",
          "output_type": "stream",
          "text": [
            " 78%|███████▊  | 178/228 [00:12<00:03, 13.24it/s]"
          ]
        },
        {
          "name": "stdout",
          "output_type": "stream",
          "text": [
            "intermediate_spatial_dim tensor([  1, 512, 512])\n",
            "processed_label torch.Size([1, 256, 256])\n",
            "unsqueeze torch.Size([1, 1, 1, 256, 256])\n",
            "intermediate_spatial_dim tensor([  1, 512, 512])\n",
            "processed_label torch.Size([1, 256, 256])\n",
            "unsqueeze torch.Size([1, 1, 1, 256, 256])\n",
            "intermediate_spatial_dim tensor([  1, 512, 512])\n",
            "processed_label torch.Size([1, 256, 256])\n",
            "unsqueeze torch.Size([1, 1, 1, 256, 256])\n"
          ]
        },
        {
          "name": "stderr",
          "output_type": "stream",
          "text": [
            " 79%|███████▉  | 180/228 [00:12<00:03, 13.21it/s]"
          ]
        },
        {
          "name": "stdout",
          "output_type": "stream",
          "text": [
            "intermediate_spatial_dim tensor([  1, 512, 512])\n",
            "processed_label torch.Size([1, 256, 256])\n",
            "unsqueeze torch.Size([1, 1, 1, 256, 256])\n",
            "intermediate_spatial_dim tensor([  1, 512, 512])\n",
            "processed_label torch.Size([1, 256, 256])\n",
            "unsqueeze torch.Size([1, 1, 1, 256, 256])\n",
            "intermediate_spatial_dim tensor([  1, 512, 512])\n",
            "processed_label torch.Size([1, 256, 256])\n",
            "unsqueeze torch.Size([1, 1, 1, 256, 256])\n"
          ]
        },
        {
          "name": "stderr",
          "output_type": "stream",
          "text": [
            " 81%|████████  | 184/228 [00:13<00:03, 13.03it/s]"
          ]
        },
        {
          "name": "stdout",
          "output_type": "stream",
          "text": [
            "intermediate_spatial_dim tensor([  1, 512, 512])\n",
            "processed_label torch.Size([1, 256, 256])\n",
            "unsqueeze torch.Size([1, 1, 1, 256, 256])\n",
            "intermediate_spatial_dim tensor([  1, 512, 512])\n",
            "processed_label torch.Size([1, 256, 256])\n",
            "unsqueeze torch.Size([1, 1, 1, 256, 256])\n",
            "intermediate_spatial_dim tensor([  1, 512, 512])\n",
            "processed_label torch.Size([1, 256, 256])\n",
            "unsqueeze torch.Size([1, 1, 1, 256, 256])\n"
          ]
        },
        {
          "name": "stderr",
          "output_type": "stream",
          "text": [
            " 82%|████████▏ | 186/228 [00:13<00:03, 13.06it/s]"
          ]
        },
        {
          "name": "stdout",
          "output_type": "stream",
          "text": [
            "intermediate_spatial_dim tensor([  1, 512, 512])\n",
            "processed_label torch.Size([1, 256, 256])\n",
            "unsqueeze torch.Size([1, 1, 1, 256, 256])\n",
            "intermediate_spatial_dim tensor([  1, 512, 512])\n",
            "processed_label torch.Size([1, 256, 256])\n",
            "unsqueeze torch.Size([1, 1, 1, 256, 256])\n",
            "intermediate_spatial_dim tensor([  1, 512, 512])\n",
            "processed_label torch.Size([1, 256, 256])\n",
            "unsqueeze torch.Size([1, 1, 1, 256, 256])\n"
          ]
        },
        {
          "name": "stderr",
          "output_type": "stream",
          "text": [
            " 83%|████████▎ | 190/228 [00:13<00:03, 12.67it/s]"
          ]
        },
        {
          "name": "stdout",
          "output_type": "stream",
          "text": [
            "intermediate_spatial_dim tensor([  1, 512, 512])\n",
            "processed_label torch.Size([1, 256, 256])\n",
            "unsqueeze torch.Size([1, 1, 1, 256, 256])\n",
            "intermediate_spatial_dim tensor([  1, 512, 512])\n",
            "processed_label torch.Size([1, 256, 256])\n",
            "unsqueeze torch.Size([1, 1, 1, 256, 256])\n",
            "intermediate_spatial_dim tensor([  1, 512, 512])\n",
            "processed_label torch.Size([1, 256, 256])\n",
            "unsqueeze torch.Size([1, 1, 1, 256, 256])\n"
          ]
        },
        {
          "name": "stderr",
          "output_type": "stream",
          "text": [
            " 84%|████████▍ | 192/228 [00:13<00:02, 12.16it/s]"
          ]
        },
        {
          "name": "stdout",
          "output_type": "stream",
          "text": [
            "intermediate_spatial_dim tensor([  1, 512, 512])\n",
            "processed_label torch.Size([1, 256, 256])\n",
            "unsqueeze torch.Size([1, 1, 1, 256, 256])\n",
            "intermediate_spatial_dim tensor([  1, 512, 512])\n",
            "processed_label torch.Size([1, 256, 256])\n",
            "unsqueeze torch.Size([1, 1, 1, 256, 256])\n",
            "intermediate_spatial_dim tensor([  1, 512, 512])\n",
            "processed_label torch.Size([1, 256, 256])\n",
            "unsqueeze torch.Size([1, 1, 1, 256, 256])\n"
          ]
        },
        {
          "name": "stderr",
          "output_type": "stream",
          "text": [
            " 86%|████████▌ | 196/228 [00:14<00:02, 11.97it/s]"
          ]
        },
        {
          "name": "stdout",
          "output_type": "stream",
          "text": [
            "intermediate_spatial_dim tensor([  1, 512, 512])\n",
            "processed_label torch.Size([1, 256, 256])\n",
            "unsqueeze torch.Size([1, 1, 1, 256, 256])\n",
            "intermediate_spatial_dim tensor([  1, 512, 512])\n",
            "processed_label torch.Size([1, 256, 256])\n",
            "unsqueeze torch.Size([1, 1, 1, 256, 256])\n",
            "intermediate_spatial_dim tensor([  1, 512, 512])\n",
            "processed_label torch.Size([1, 256, 256])\n",
            "unsqueeze torch.Size([1, 1, 1, 256, 256])\n"
          ]
        },
        {
          "name": "stderr",
          "output_type": "stream",
          "text": [
            " 93%|█████████▎| 213/228 [00:14<00:00, 36.79it/s]"
          ]
        },
        {
          "name": "stdout",
          "output_type": "stream",
          "text": [
            "intermediate_spatial_dim tensor([  1, 512, 512])\n",
            "processed_label torch.Size([1, 256, 256])\n",
            "unsqueeze torch.Size([1, 1, 1, 256, 256])\n",
            "intermediate_spatial_dim tensor([  1, 512, 512])\n",
            "processed_label torch.Size([1, 256, 256])\n",
            "unsqueeze torch.Size([1, 1, 1, 256, 256])\n",
            "intermediate_spatial_dim tensor([  1, 512, 512])\n",
            "processed_label torch.Size([1, 256, 256])\n",
            "unsqueeze torch.Size([1, 1, 1, 256, 256])\n",
            "intermediate_spatial_dim tensor([  1, 512, 512])\n",
            "processed_label torch.Size([1, 256, 256])\n",
            "unsqueeze torch.Size([1, 1, 1, 256, 256])\n",
            "intermediate_spatial_dim tensor([  1, 512, 512])\n",
            "processed_label torch.Size([1, 256, 256])\n",
            "unsqueeze torch.Size([1, 1, 1, 256, 256])\n",
            "intermediate_spatial_dim tensor([  1, 512, 512])\n",
            "processed_label torch.Size([1, 256, 256])\n",
            "unsqueeze torch.Size([1, 1, 1, 256, 256])\n"
          ]
        },
        {
          "name": "stderr",
          "output_type": "stream",
          "text": [
            " 96%|█████████▌| 218/228 [00:14<00:00, 24.36it/s]"
          ]
        },
        {
          "name": "stdout",
          "output_type": "stream",
          "text": [
            "intermediate_spatial_dim tensor([  1, 512, 512])\n",
            "processed_label torch.Size([1, 256, 256])\n",
            "unsqueeze torch.Size([1, 1, 1, 256, 256])\n",
            "intermediate_spatial_dim tensor([  1, 512, 512])\n",
            "processed_label torch.Size([1, 256, 256])\n",
            "unsqueeze torch.Size([1, 1, 1, 256, 256])\n",
            "intermediate_spatial_dim tensor([  1, 512, 512])\n",
            "processed_label torch.Size([1, 256, 256])\n",
            "unsqueeze torch.Size([1, 1, 1, 256, 256])\n"
          ]
        },
        {
          "name": "stderr",
          "output_type": "stream",
          "text": [
            " 97%|█████████▋| 222/228 [00:14<00:00, 20.12it/s]"
          ]
        },
        {
          "name": "stdout",
          "output_type": "stream",
          "text": [
            "intermediate_spatial_dim tensor([  1, 512, 512])\n",
            "processed_label torch.Size([1, 256, 256])\n",
            "unsqueeze torch.Size([1, 1, 1, 256, 256])\n",
            "intermediate_spatial_dim tensor([  1, 512, 512])\n",
            "processed_label torch.Size([1, 256, 256])\n",
            "unsqueeze torch.Size([1, 1, 1, 256, 256])\n",
            "intermediate_spatial_dim tensor([  1, 512, 512])\n",
            "processed_label torch.Size([1, 256, 256])\n",
            "unsqueeze torch.Size([1, 1, 1, 256, 256])\n"
          ]
        },
        {
          "name": "stderr",
          "output_type": "stream",
          "text": [
            "100%|██████████| 228/228 [00:15<00:00, 15.00it/s]"
          ]
        },
        {
          "name": "stdout",
          "output_type": "stream",
          "text": [
            "intermediate_spatial_dim tensor([  1, 512, 512])\n",
            "processed_label torch.Size([1, 256, 256])\n",
            "unsqueeze torch.Size([1, 1, 1, 256, 256])\n",
            "intermediate_spatial_dim tensor([  1, 512, 512])\n",
            "processed_label torch.Size([1, 256, 256])\n",
            "unsqueeze torch.Size([1, 1, 1, 256, 256])\n"
          ]
        },
        {
          "name": "stderr",
          "output_type": "stream",
          "text": [
            "\n"
          ]
        },
        {
          "name": "stdout",
          "output_type": "stream",
          "text": [
            "MODEL CLASS MEAN IOU  0.49928916\n",
            "MODEL CLASS STD IOU  0.000760221\n",
            "\n",
            "MODEL CLASS MEAN DICE  0.49964407\n",
            "MODEL CLASS STD DICE  0.00038089982\n",
            "\n",
            "MODEL DIOU 0.0\n",
            "MODEL DIOU STD  0.0\n",
            "\n",
            "MODEL IOU MASS VOLUME  0.8157894611358643\n",
            "MODEL IOU MASS VOLUME STD  0.3876558\n",
            "\n",
            "MODEL IOU MASS VOLUME NO EMPTY  0.0\n",
            "MODEL IOU MASS VOLUME NO EMPTY STD  0.0\n",
            "\n",
            "MODEL IOU MASS VOLUME NO EMPTY OPTIMISTIC  0.0\n",
            "MODEL IOU MASS VOLUME NO EMPTY OPTIMISTIC STD  0.0\n",
            "MODEL DICE MASS VOLUME  0.8157894611358643\n",
            "MODEL DICE MASS VOLUME STD  0.3876558\n",
            "\n",
            "MODEL DICE MASS VOLUME NO EMPTY  0.0\n",
            "MODEL DICE MASS VOLUME NO EMPTY STD  0.0\n",
            "\n",
            "MODEL DICE MASS VOLUME NO EMPTY OPTIMISTIC  0.0\n",
            "MODEL DICE MASS VOLUME NO EMPTY OPTIMISTIC STD  0.0\n",
            "\n",
            "MODEL MEAN ACCURACY NO EMPTY 0.4998690187931061\n",
            "MODEL MEAN ACCURACY NO EMPTY STD 0.00042707648\n",
            "\n",
            "MODEL MEAN PRECISION NO EMPTY nan\n",
            "MODEL MEAN PRECISION NO EMPTY STD nan\n",
            "\n",
            "MODEL MEAN RECALL NO EMPTY 0.5\n",
            "MODEL MEAN RECALL NO EMPTY STD 0.0\n",
            "\n",
            "MODEL MEAN F1 NO EMPTY 0.49964404\n",
            "MODEL MEAN F1 NO EMPTY STD 0.00038089984\n",
            "\n",
            "MODEL ACCURACY EXCLUDING CASES  0.9985783100128174\n",
            "MODEL ACCURACY EXCLUDING CASES STD  0.001520442\n",
            "\n",
            "MODEL PRECISION EXCLUDING CASES  nan\n",
            "MODEL PRECISION EXCLUDING CASES STD  nan\n",
            "\n",
            "MODEL RECALL EXCLUDING CASES  0.0\n",
            "MODEL RECALL EXCLUDING CASES STD  0.0\n",
            "\n",
            "MODEL ACCURACY NO EMPTY  0.0\n",
            "MODEL ACCURACY NO EMPTY STD  0.0\n",
            "\n",
            "MODEL PRECISION NO EMPTY nan\n",
            "MODEL PRECISION NO EMPTY STD  nan\n",
            "\n",
            "MODEL RECALL NO EMPTY  0.0\n",
            "MODEL RECALL NO EMPTY STD  0.0\n",
            "\n",
            "MODEL F1 NO EMPTY  0.0\n",
            "MODEL F1 NO EMPTY STD  0.0\n",
            "\n",
            "\n",
            "VENUS Large:\n",
            "None\n"
          ]
        },
        {
          "name": "stderr",
          "output_type": "stream",
          "text": [
            "c:\\Users\\pabli\\AppData\\Local\\pypoetry\\Cache\\virtualenvs\\venus-nCPuPPcI-py3.9\\lib\\site-packages\\numpy\\lib\\_nanfunctions_impl.py:2035: RuntimeWarning: Degrees of freedom <= 0 for slice.\n",
            "  var = nanvar(a, axis=axis, dtype=dtype, out=out, ddof=ddof,\n"
          ]
        }
      ],
      "source": [
        "# Test 1: venus-large-best.ckpt\n",
        "if os.path.exists(model_paths['venus_large']):\n",
        "    print(\"Testing VENUS Large ...\")\n",
        "    scores_for_statistics_fusion_large2 = test_dataset_aware_fusion(\n",
        "        model_path=model_paths['venus_large'],\n",
        "        patient_ids=x_test,\n",
        "        datasets=datasets,\n",
        "        whole_dataset_key=\"no_thorax_sub_test_ds\",\n",
        "        patches_dataset_key=\"patches_sub_test_ds\",\n",
        "        use_simple_fusion=False,\n",
        "        use_decoder_attention=True,\n",
        "        strict=True,\n",
        "        filter=False,\n",
        "        subtracted=True,\n",
        "        get_scores_for_statistics=False,\n",
        "        get_only_masses=False,\n",
        "        base_channels=64\n",
        "    )\n",
        "    print(\"\\nVENUS Large:\")\n",
        "    pp.pprint(scores_for_statistics_fusion_large2)\n",
        "else:\n",
        "    print(\"venus-large.ckpt not found.\")\n",
        "    scores_for_statistics_fusion_large2 = None"
      ]
    },
    {
      "cell_type": "markdown",
      "metadata": {},
      "source": [
        "## Test Ensemble Model\n"
      ]
    },
    {
      "cell_type": "code",
      "execution_count": 8,
      "metadata": {},
      "outputs": [
        {
          "name": "stdout",
          "output_type": "stream",
          "text": [
            "Testing Ensemble: VENUS Large + ResNet18 patches...\n"
          ]
        },
        {
          "name": "stderr",
          "output_type": "stream",
          "text": [
            "c:\\Users\\pabli\\AppData\\Local\\pypoetry\\Cache\\virtualenvs\\venus-nCPuPPcI-py3.9\\lib\\site-packages\\lightning\\pytorch\\utilities\\parsing.py:210: Attribute 't_loss' is an instance of `nn.Module` and is already saved during checkpointing. It is recommended to ignore them using `self.save_hyperparameters(ignore=['t_loss'])`.\n",
            "c:\\Users\\pabli\\AppData\\Local\\pypoetry\\Cache\\virtualenvs\\venus-nCPuPPcI-py3.9\\lib\\site-packages\\lightning\\pytorch\\core\\saving.py:195: Found keys that are not in the model state dict but in the checkpoint: ['model.classification_head.3.weight', 'model.classification_head.3.bias']\n"
          ]
        },
        {
          "name": "stdout",
          "output_type": "stream",
          "text": [
            "Initialized SurfaceLossBinary with [1]\n",
            "D2MP9(VR)\n"
          ]
        },
        {
          "name": "stderr",
          "output_type": "stream",
          "text": [
            "  0%|          | 0/114 [00:00<?, ?it/s]"
          ]
        },
        {
          "name": "stdout",
          "output_type": "stream",
          "text": [
            "intermediate_spatial_dim tensor([  1, 256, 256])\n",
            "processed_label torch.Size([1, 256, 256])\n",
            "unsqueeze torch.Size([1, 1, 1, 256, 256])\n",
            "intermediate_spatial_dim tensor([  1, 253, 253])\n",
            "processed_label torch.Size([1, 256, 256])\n",
            "unsqueeze torch.Size([1, 1, 1, 256, 256])\n",
            "intermediate_spatial_dim tensor([  1, 512, 512])\n",
            "processed_label torch.Size([1, 256, 256])\n",
            "unsqueeze torch.Size([1, 1, 1, 256, 256])\n",
            "intermediate_spatial_dim tensor([  1, 512, 512])\n",
            "processed_label torch.Size([1, 256, 256])\n",
            "unsqueeze torch.Size([1, 1, 1, 256, 256])\n"
          ]
        },
        {
          "name": "stderr",
          "output_type": "stream",
          "text": [
            "  9%|▉         | 10/114 [00:00<00:07, 14.35it/s]"
          ]
        },
        {
          "name": "stdout",
          "output_type": "stream",
          "text": [
            "intermediate_spatial_dim tensor([  1, 253, 253])\n",
            "processed_label torch.Size([1, 256, 256])\n",
            "unsqueeze torch.Size([1, 1, 1, 256, 256])\n",
            "intermediate_spatial_dim tensor([  1, 512, 512])\n",
            "processed_label torch.Size([1, 256, 256])\n",
            "unsqueeze torch.Size([1, 1, 1, 256, 256])\n",
            "intermediate_spatial_dim tensor([  1, 512, 512])\n",
            "processed_label torch.Size([1, 256, 256])\n",
            "unsqueeze torch.Size([1, 1, 1, 256, 256])\n",
            "intermediate_spatial_dim tensor([  1, 253, 253])\n",
            "processed_label torch.Size([1, 256, 256])\n",
            "unsqueeze torch.Size([1, 1, 1, 256, 256])\n",
            "intermediate_spatial_dim tensor([  1, 512, 512])\n",
            "processed_label torch.Size([1, 256, 256])\n",
            "unsqueeze torch.Size([1, 1, 1, 256, 256])\n",
            "intermediate_spatial_dim tensor([  1, 512, 512])\n",
            "processed_label torch.Size([1, 256, 256])\n",
            "unsqueeze torch.Size([1, 1, 1, 256, 256])\n",
            "intermediate_spatial_dim tensor([  1, 252, 252])\n",
            "processed_label torch.Size([1, 256, 256])\n",
            "unsqueeze torch.Size([1, 1, 1, 256, 256])\n"
          ]
        },
        {
          "name": "stderr",
          "output_type": "stream",
          "text": [
            " 11%|█         | 12/114 [00:00<00:08, 11.48it/s]"
          ]
        },
        {
          "name": "stdout",
          "output_type": "stream",
          "text": [
            "intermediate_spatial_dim tensor([  1, 512, 512])\n",
            "processed_label torch.Size([1, 256, 256])\n",
            "unsqueeze torch.Size([1, 1, 1, 256, 256])\n",
            "intermediate_spatial_dim tensor([  1, 512, 512])\n",
            "processed_label torch.Size([1, 256, 256])\n",
            "unsqueeze torch.Size([1, 1, 1, 256, 256])\n",
            "intermediate_spatial_dim tensor([  1, 256, 256])\n",
            "processed_label torch.Size([1, 256, 256])\n",
            "unsqueeze torch.Size([1, 1, 1, 256, 256])\n",
            "intermediate_spatial_dim tensor([  1, 252, 252])\n",
            "processed_label torch.Size([1, 256, 256])\n",
            "unsqueeze torch.Size([1, 1, 1, 256, 256])\n",
            "intermediate_spatial_dim tensor([  1, 512, 512])\n",
            "processed_label torch.Size([1, 256, 256])\n",
            "unsqueeze torch.Size([1, 1, 1, 256, 256])\n",
            "intermediate_spatial_dim tensor([  1, 512, 512])\n",
            "processed_label torch.Size([1, 256, 256])\n",
            "unsqueeze torch.Size([1, 1, 1, 256, 256])\n",
            "intermediate_spatial_dim tensor([  1, 256, 256])\n",
            "processed_label torch.Size([1, 256, 256])\n",
            "unsqueeze torch.Size([1, 1, 1, 256, 256])\n",
            "intermediate_spatial_dim tensor([  1, 252, 252])\n",
            "processed_label torch.Size([1, 256, 256])\n",
            "unsqueeze torch.Size([1, 1, 1, 256, 256])\n"
          ]
        },
        {
          "name": "stderr",
          "output_type": "stream",
          "text": [
            " 12%|█▏        | 14/114 [00:01<00:09, 10.46it/s]"
          ]
        },
        {
          "name": "stdout",
          "output_type": "stream",
          "text": [
            "intermediate_spatial_dim tensor([  1, 512, 512])\n",
            "processed_label torch.Size([1, 256, 256])\n",
            "unsqueeze torch.Size([1, 1, 1, 256, 256])\n",
            "intermediate_spatial_dim tensor([  1, 512, 512])\n",
            "processed_label torch.Size([1, 256, 256])\n",
            "unsqueeze torch.Size([1, 1, 1, 256, 256])\n",
            "intermediate_spatial_dim tensor([  1, 252, 252])\n",
            "processed_label torch.Size([1, 256, 256])\n",
            "unsqueeze torch.Size([1, 1, 1, 256, 256])\n",
            "intermediate_spatial_dim tensor([  1, 512, 512])\n",
            "processed_label torch.Size([1, 256, 256])\n",
            "unsqueeze torch.Size([1, 1, 1, 256, 256])\n",
            "intermediate_spatial_dim tensor([  1, 512, 512])\n",
            "processed_label torch.Size([1, 256, 256])\n",
            "unsqueeze torch.Size([1, 1, 1, 256, 256])\n",
            "intermediate_spatial_dim tensor([  1, 255, 255])\n",
            "processed_label torch.Size([1, 256, 256])\n",
            "unsqueeze torch.Size([1, 1, 1, 256, 256])\n",
            "intermediate_spatial_dim tensor([  1, 252, 252])\n",
            "processed_label torch.Size([1, 256, 256])\n",
            "unsqueeze torch.Size([1, 1, 1, 256, 256])\n"
          ]
        },
        {
          "name": "stderr",
          "output_type": "stream",
          "text": [
            " 14%|█▍        | 16/114 [00:01<00:10,  9.52it/s]"
          ]
        },
        {
          "name": "stdout",
          "output_type": "stream",
          "text": [
            "intermediate_spatial_dim tensor([  1, 512, 512])\n",
            "processed_label torch.Size([1, 256, 256])\n",
            "unsqueeze torch.Size([1, 1, 1, 256, 256])\n",
            "intermediate_spatial_dim tensor([  1, 512, 512])\n",
            "processed_label torch.Size([1, 256, 256])\n",
            "unsqueeze torch.Size([1, 1, 1, 256, 256])\n",
            "intermediate_spatial_dim tensor([  1, 251, 251])\n",
            "processed_label torch.Size([1, 256, 256])\n",
            "unsqueeze torch.Size([1, 1, 1, 256, 256])\n",
            "intermediate_spatial_dim tensor([  1, 512, 512])\n",
            "processed_label torch.Size([1, 256, 256])\n",
            "unsqueeze torch.Size([1, 1, 1, 256, 256])\n",
            "intermediate_spatial_dim tensor([  1, 512, 512])\n",
            "processed_label torch.Size([1, 256, 256])\n",
            "unsqueeze torch.Size([1, 1, 1, 256, 256])\n",
            "intermediate_spatial_dim tensor([  1, 251, 251])\n",
            "processed_label torch.Size([1, 256, 256])\n",
            "unsqueeze torch.Size([1, 1, 1, 256, 256])\n"
          ]
        },
        {
          "name": "stderr",
          "output_type": "stream",
          "text": [
            " 16%|█▌        | 18/114 [00:01<00:10,  9.38it/s]"
          ]
        },
        {
          "name": "stdout",
          "output_type": "stream",
          "text": [
            "intermediate_spatial_dim tensor([  1, 512, 512])\n",
            "processed_label torch.Size([1, 256, 256])\n",
            "unsqueeze torch.Size([1, 1, 1, 256, 256])\n",
            "intermediate_spatial_dim tensor([  1, 512, 512])\n",
            "processed_label torch.Size([1, 256, 256])\n",
            "unsqueeze torch.Size([1, 1, 1, 256, 256])\n",
            "intermediate_spatial_dim tensor([  1, 251, 251])\n",
            "processed_label torch.Size([1, 256, 256])\n",
            "unsqueeze torch.Size([1, 1, 1, 256, 256])\n",
            "intermediate_spatial_dim tensor([  1, 512, 512])\n",
            "processed_label torch.Size([1, 256, 256])\n",
            "unsqueeze torch.Size([1, 1, 1, 256, 256])\n",
            "intermediate_spatial_dim tensor([  1, 512, 512])\n",
            "processed_label torch.Size([1, 256, 256])\n",
            "unsqueeze torch.Size([1, 1, 1, 256, 256])\n",
            "intermediate_spatial_dim tensor([  1, 254, 254])\n",
            "processed_label torch.Size([1, 256, 256])\n",
            "unsqueeze torch.Size([1, 1, 1, 256, 256])\n",
            "intermediate_spatial_dim tensor([  1, 251, 251])\n",
            "processed_label torch.Size([1, 256, 256])\n",
            "unsqueeze torch.Size([1, 1, 1, 256, 256])\n"
          ]
        },
        {
          "name": "stderr",
          "output_type": "stream",
          "text": [
            " 18%|█▊        | 20/114 [00:01<00:11,  8.43it/s]"
          ]
        },
        {
          "name": "stdout",
          "output_type": "stream",
          "text": [
            "intermediate_spatial_dim tensor([  1, 512, 512])\n",
            "processed_label torch.Size([1, 256, 256])\n",
            "unsqueeze torch.Size([1, 1, 1, 256, 256])\n",
            "intermediate_spatial_dim tensor([  1, 512, 512])\n",
            "processed_label torch.Size([1, 256, 256])\n",
            "unsqueeze torch.Size([1, 1, 1, 256, 256])\n",
            "intermediate_spatial_dim tensor([  1, 253, 253])\n",
            "processed_label torch.Size([1, 256, 256])\n",
            "unsqueeze torch.Size([1, 1, 1, 256, 256])\n",
            "intermediate_spatial_dim tensor([  1, 251, 251])\n",
            "processed_label torch.Size([1, 256, 256])\n",
            "unsqueeze torch.Size([1, 1, 1, 256, 256])\n",
            "intermediate_spatial_dim tensor([  1, 512, 512])\n",
            "processed_label torch.Size([1, 256, 256])\n",
            "unsqueeze torch.Size([1, 1, 1, 256, 256])\n",
            "intermediate_spatial_dim tensor([  1, 512, 512])\n",
            "processed_label torch.Size([1, 256, 256])\n",
            "unsqueeze torch.Size([1, 1, 1, 256, 256])\n",
            "intermediate_spatial_dim tensor([  1, 253, 253])\n",
            "processed_label torch.Size([1, 256, 256])\n",
            "unsqueeze torch.Size([1, 1, 1, 256, 256])\n",
            "intermediate_spatial_dim tensor([  1, 251, 251])\n",
            "processed_label torch.Size([1, 256, 256])\n",
            "unsqueeze torch.Size([1, 1, 1, 256, 256])\n"
          ]
        },
        {
          "name": "stderr",
          "output_type": "stream",
          "text": [
            " 19%|█▉        | 22/114 [00:02<00:11,  7.96it/s]"
          ]
        },
        {
          "name": "stdout",
          "output_type": "stream",
          "text": [
            "intermediate_spatial_dim tensor([  1, 512, 512])\n",
            "processed_label torch.Size([1, 256, 256])\n",
            "unsqueeze torch.Size([1, 1, 1, 256, 256])\n",
            "intermediate_spatial_dim tensor([  1, 512, 512])\n",
            "processed_label torch.Size([1, 256, 256])\n",
            "unsqueeze torch.Size([1, 1, 1, 256, 256])\n",
            "intermediate_spatial_dim tensor([  1, 253, 253])\n",
            "processed_label torch.Size([1, 256, 256])\n",
            "unsqueeze torch.Size([1, 1, 1, 256, 256])\n",
            "intermediate_spatial_dim tensor([  1, 250, 250])\n",
            "processed_label torch.Size([1, 256, 256])\n",
            "unsqueeze torch.Size([1, 1, 1, 256, 256])\n",
            "intermediate_spatial_dim tensor([  1, 512, 512])\n",
            "processed_label torch.Size([1, 256, 256])\n",
            "unsqueeze torch.Size([1, 1, 1, 256, 256])\n",
            "intermediate_spatial_dim tensor([  1, 512, 512])\n",
            "processed_label torch.Size([1, 256, 256])\n",
            "unsqueeze torch.Size([1, 1, 1, 256, 256])\n",
            "intermediate_spatial_dim tensor([  1, 253, 253])\n",
            "processed_label torch.Size([1, 256, 256])\n",
            "unsqueeze torch.Size([1, 1, 1, 256, 256])\n"
          ]
        },
        {
          "name": "stderr",
          "output_type": "stream",
          "text": [
            " 20%|██        | 23/114 [00:02<00:11,  7.84it/s]"
          ]
        },
        {
          "name": "stdout",
          "output_type": "stream",
          "text": [
            "intermediate_spatial_dim tensor([  1, 250, 250])\n",
            "processed_label torch.Size([1, 256, 256])\n",
            "unsqueeze torch.Size([1, 1, 1, 256, 256])\n",
            "intermediate_spatial_dim tensor([  1, 512, 512])\n",
            "processed_label torch.Size([1, 256, 256])\n",
            "unsqueeze torch.Size([1, 1, 1, 256, 256])\n",
            "intermediate_spatial_dim tensor([  1, 512, 512])\n",
            "processed_label torch.Size([1, 256, 256])\n",
            "unsqueeze torch.Size([1, 1, 1, 256, 256])\n",
            "intermediate_spatial_dim tensor([  1, 253, 253])\n",
            "processed_label torch.Size([1, 256, 256])\n",
            "unsqueeze torch.Size([1, 1, 1, 256, 256])\n",
            "intermediate_spatial_dim tensor([  1, 250, 250])\n",
            "processed_label torch.Size([1, 256, 256])\n",
            "unsqueeze torch.Size([1, 1, 1, 256, 256])\n",
            "intermediate_spatial_dim tensor([  1, 512, 512])\n",
            "processed_label torch.Size([1, 256, 256])\n",
            "unsqueeze torch.Size([1, 1, 1, 256, 256])\n",
            "intermediate_spatial_dim tensor([  1, 512, 512])\n",
            "processed_label torch.Size([1, 256, 256])\n",
            "unsqueeze torch.Size([1, 1, 1, 256, 256])\n"
          ]
        },
        {
          "name": "stderr",
          "output_type": "stream",
          "text": [
            " 22%|██▏       | 25/114 [00:02<00:11,  7.77it/s]"
          ]
        },
        {
          "name": "stdout",
          "output_type": "stream",
          "text": [
            "intermediate_spatial_dim tensor([  1, 253, 253])\n",
            "processed_label torch.Size([1, 256, 256])\n",
            "unsqueeze torch.Size([1, 1, 1, 256, 256])\n",
            "intermediate_spatial_dim tensor([  1, 250, 250])\n",
            "processed_label torch.Size([1, 256, 256])\n",
            "unsqueeze torch.Size([1, 1, 1, 256, 256])\n",
            "intermediate_spatial_dim tensor([  1, 512, 512])\n",
            "processed_label torch.Size([1, 256, 256])\n",
            "unsqueeze torch.Size([1, 1, 1, 256, 256])\n",
            "intermediate_spatial_dim tensor([  1, 512, 512])\n",
            "processed_label torch.Size([1, 256, 256])\n",
            "unsqueeze torch.Size([1, 1, 1, 256, 256])\n",
            "intermediate_spatial_dim tensor([  1, 250, 250])\n",
            "processed_label torch.Size([1, 256, 256])\n",
            "unsqueeze torch.Size([1, 1, 1, 256, 256])\n",
            "intermediate_spatial_dim tensor([  1, 512, 512])\n",
            "processed_label torch.Size([1, 256, 256])\n",
            "unsqueeze torch.Size([1, 1, 1, 256, 256])\n",
            "intermediate_spatial_dim tensor([  1, 512, 512])\n",
            "processed_label torch.Size([1, 256, 256])\n",
            "unsqueeze torch.Size([1, 1, 1, 256, 256])\n"
          ]
        },
        {
          "name": "stderr",
          "output_type": "stream",
          "text": [
            " 24%|██▎       | 27/114 [00:02<00:10,  8.47it/s]"
          ]
        },
        {
          "name": "stdout",
          "output_type": "stream",
          "text": [
            "intermediate_spatial_dim tensor([  1, 250, 250])\n",
            "processed_label torch.Size([1, 256, 256])\n",
            "unsqueeze torch.Size([1, 1, 1, 256, 256])\n",
            "intermediate_spatial_dim tensor([  1, 512, 512])\n",
            "processed_label torch.Size([1, 256, 256])\n",
            "unsqueeze torch.Size([1, 1, 1, 256, 256])\n",
            "intermediate_spatial_dim tensor([  1, 512, 512])\n",
            "processed_label torch.Size([1, 256, 256])\n",
            "unsqueeze torch.Size([1, 1, 1, 256, 256])\n",
            "intermediate_spatial_dim tensor([  1, 250, 250])\n",
            "processed_label torch.Size([1, 256, 256])\n",
            "unsqueeze torch.Size([1, 1, 1, 256, 256])\n",
            "intermediate_spatial_dim tensor([  1, 512, 512])\n",
            "processed_label torch.Size([1, 256, 256])\n",
            "unsqueeze torch.Size([1, 1, 1, 256, 256])\n",
            "intermediate_spatial_dim tensor([  1, 512, 512])\n",
            "processed_label torch.Size([1, 256, 256])\n",
            "unsqueeze torch.Size([1, 1, 1, 256, 256])\n"
          ]
        },
        {
          "name": "stderr",
          "output_type": "stream",
          "text": [
            " 26%|██▋       | 30/114 [00:03<00:09,  9.25it/s]"
          ]
        },
        {
          "name": "stdout",
          "output_type": "stream",
          "text": [
            "intermediate_spatial_dim tensor([  1, 250, 250])\n",
            "processed_label torch.Size([1, 256, 256])\n",
            "unsqueeze torch.Size([1, 1, 1, 256, 256])\n",
            "intermediate_spatial_dim tensor([  1, 512, 512])\n",
            "processed_label torch.Size([1, 256, 256])\n",
            "unsqueeze torch.Size([1, 1, 1, 256, 256])\n",
            "intermediate_spatial_dim tensor([  1, 512, 512])\n",
            "processed_label torch.Size([1, 256, 256])\n",
            "unsqueeze torch.Size([1, 1, 1, 256, 256])\n",
            "intermediate_spatial_dim tensor([  1, 250, 250])\n",
            "processed_label torch.Size([1, 256, 256])\n",
            "unsqueeze torch.Size([1, 1, 1, 256, 256])\n",
            "intermediate_spatial_dim tensor([  1, 512, 512])\n",
            "processed_label torch.Size([1, 256, 256])\n",
            "unsqueeze torch.Size([1, 1, 1, 256, 256])\n",
            "intermediate_spatial_dim tensor([  1, 512, 512])\n",
            "processed_label torch.Size([1, 256, 256])\n",
            "unsqueeze torch.Size([1, 1, 1, 256, 256])\n",
            "intermediate_spatial_dim tensor([  1, 250, 250])\n",
            "processed_label torch.Size([1, 256, 256])\n",
            "unsqueeze torch.Size([1, 1, 1, 256, 256])\n"
          ]
        },
        {
          "name": "stderr",
          "output_type": "stream",
          "text": [
            " 28%|██▊       | 32/114 [00:03<00:09,  8.46it/s]"
          ]
        },
        {
          "name": "stdout",
          "output_type": "stream",
          "text": [
            "intermediate_spatial_dim tensor([  1, 512, 512])\n",
            "processed_label torch.Size([1, 256, 256])\n",
            "unsqueeze torch.Size([1, 1, 1, 256, 256])\n",
            "intermediate_spatial_dim tensor([  1, 512, 512])\n",
            "processed_label torch.Size([1, 256, 256])\n",
            "unsqueeze torch.Size([1, 1, 1, 256, 256])\n",
            "intermediate_spatial_dim tensor([  1, 253, 253])\n",
            "processed_label torch.Size([1, 256, 256])\n",
            "unsqueeze torch.Size([1, 1, 1, 256, 256])\n",
            "intermediate_spatial_dim tensor([  1, 250, 250])\n",
            "processed_label torch.Size([1, 256, 256])\n",
            "unsqueeze torch.Size([1, 1, 1, 256, 256])\n",
            "intermediate_spatial_dim tensor([  1, 512, 512])\n",
            "processed_label torch.Size([1, 256, 256])\n",
            "unsqueeze torch.Size([1, 1, 1, 256, 256])\n",
            "intermediate_spatial_dim tensor([  1, 512, 512])\n",
            "processed_label torch.Size([1, 256, 256])\n",
            "unsqueeze torch.Size([1, 1, 1, 256, 256])\n",
            "intermediate_spatial_dim tensor([  1, 250, 250])\n",
            "processed_label torch.Size([1, 256, 256])\n",
            "unsqueeze torch.Size([1, 1, 1, 256, 256])\n"
          ]
        },
        {
          "name": "stderr",
          "output_type": "stream",
          "text": [
            " 30%|██▉       | 34/114 [00:03<00:09,  8.61it/s]"
          ]
        },
        {
          "name": "stdout",
          "output_type": "stream",
          "text": [
            "intermediate_spatial_dim tensor([  1, 512, 512])\n",
            "processed_label torch.Size([1, 256, 256])\n",
            "unsqueeze torch.Size([1, 1, 1, 256, 256])\n",
            "intermediate_spatial_dim tensor([  1, 512, 512])\n",
            "processed_label torch.Size([1, 256, 256])\n",
            "unsqueeze torch.Size([1, 1, 1, 256, 256])\n",
            "intermediate_spatial_dim tensor([  1, 250, 250])\n",
            "processed_label torch.Size([1, 256, 256])\n",
            "unsqueeze torch.Size([1, 1, 1, 256, 256])\n",
            "intermediate_spatial_dim tensor([  1, 512, 512])\n",
            "processed_label torch.Size([1, 256, 256])\n",
            "unsqueeze torch.Size([1, 1, 1, 256, 256])\n",
            "intermediate_spatial_dim tensor([  1, 512, 512])\n",
            "processed_label torch.Size([1, 256, 256])\n",
            "unsqueeze torch.Size([1, 1, 1, 256, 256])\n",
            "intermediate_spatial_dim tensor([  1, 250, 250])\n",
            "processed_label torch.Size([1, 256, 256])\n",
            "unsqueeze torch.Size([1, 1, 1, 256, 256])\n"
          ]
        },
        {
          "name": "stderr",
          "output_type": "stream",
          "text": [
            " 32%|███▏      | 36/114 [00:03<00:09,  8.20it/s]"
          ]
        },
        {
          "name": "stdout",
          "output_type": "stream",
          "text": [
            "intermediate_spatial_dim tensor([  1, 512, 512])\n",
            "processed_label torch.Size([1, 256, 256])\n",
            "unsqueeze torch.Size([1, 1, 1, 256, 256])\n",
            "intermediate_spatial_dim tensor([  1, 512, 512])\n",
            "processed_label torch.Size([1, 256, 256])\n",
            "unsqueeze torch.Size([1, 1, 1, 256, 256])\n",
            "intermediate_spatial_dim tensor([  1, 250, 250])\n",
            "processed_label torch.Size([1, 256, 256])\n",
            "unsqueeze torch.Size([1, 1, 1, 256, 256])\n",
            "intermediate_spatial_dim tensor([  1, 512, 512])\n",
            "processed_label torch.Size([1, 256, 256])\n",
            "unsqueeze torch.Size([1, 1, 1, 256, 256])\n",
            "intermediate_spatial_dim tensor([  1, 512, 512])\n",
            "processed_label torch.Size([1, 256, 256])\n",
            "unsqueeze torch.Size([1, 1, 1, 256, 256])\n",
            "intermediate_spatial_dim tensor([  1, 250, 250])\n",
            "processed_label torch.Size([1, 256, 256])\n",
            "unsqueeze torch.Size([1, 1, 1, 256, 256])\n"
          ]
        },
        {
          "name": "stderr",
          "output_type": "stream",
          "text": [
            " 32%|███▏      | 37/114 [00:03<00:08,  8.57it/s]"
          ]
        },
        {
          "name": "stdout",
          "output_type": "stream",
          "text": [
            "intermediate_spatial_dim tensor([  1, 512, 512])\n",
            "processed_label torch.Size([1, 256, 256])\n",
            "unsqueeze torch.Size([1, 1, 1, 256, 256])\n",
            "intermediate_spatial_dim tensor([  1, 512, 512])\n",
            "processed_label torch.Size([1, 256, 256])\n",
            "unsqueeze torch.Size([1, 1, 1, 256, 256])\n",
            "intermediate_spatial_dim tensor([  1, 253, 253])\n",
            "processed_label torch.Size([1, 256, 256])\n",
            "unsqueeze torch.Size([1, 1, 1, 256, 256])\n",
            "intermediate_spatial_dim tensor([  1, 250, 250])\n",
            "processed_label torch.Size([1, 256, 256])\n",
            "unsqueeze torch.Size([1, 1, 1, 256, 256])\n",
            "intermediate_spatial_dim tensor([  1, 512, 512])\n",
            "processed_label torch.Size([1, 256, 256])\n",
            "unsqueeze torch.Size([1, 1, 1, 256, 256])\n",
            "intermediate_spatial_dim tensor([  1, 512, 512])\n",
            "processed_label torch.Size([1, 256, 256])\n",
            "unsqueeze torch.Size([1, 1, 1, 256, 256])\n"
          ]
        },
        {
          "name": "stderr",
          "output_type": "stream",
          "text": [
            " 34%|███▍      | 39/114 [00:04<00:09,  7.56it/s]"
          ]
        },
        {
          "name": "stdout",
          "output_type": "stream",
          "text": [
            "intermediate_spatial_dim tensor([  1, 250, 250])\n",
            "processed_label torch.Size([1, 256, 256])\n",
            "unsqueeze torch.Size([1, 1, 1, 256, 256])\n",
            "intermediate_spatial_dim tensor([  1, 512, 512])\n",
            "processed_label torch.Size([1, 256, 256])\n",
            "unsqueeze torch.Size([1, 1, 1, 256, 256])\n",
            "intermediate_spatial_dim tensor([  1, 512, 512])\n",
            "processed_label torch.Size([1, 256, 256])\n",
            "unsqueeze torch.Size([1, 1, 1, 256, 256])\n",
            "intermediate_spatial_dim tensor([  1, 251, 251])\n",
            "processed_label torch.Size([1, 256, 256])\n",
            "unsqueeze torch.Size([1, 1, 1, 256, 256])\n",
            "intermediate_spatial_dim tensor([  1, 250, 250])\n",
            "processed_label torch.Size([1, 256, 256])\n",
            "unsqueeze torch.Size([1, 1, 1, 256, 256])\n"
          ]
        },
        {
          "name": "stderr",
          "output_type": "stream",
          "text": [
            " 36%|███▌      | 41/114 [00:04<00:10,  7.24it/s]"
          ]
        },
        {
          "name": "stdout",
          "output_type": "stream",
          "text": [
            "intermediate_spatial_dim tensor([  1, 512, 512])\n",
            "processed_label torch.Size([1, 256, 256])\n",
            "unsqueeze torch.Size([1, 1, 1, 256, 256])\n",
            "intermediate_spatial_dim tensor([  1, 512, 512])\n",
            "processed_label torch.Size([1, 256, 256])\n",
            "unsqueeze torch.Size([1, 1, 1, 256, 256])\n",
            "intermediate_spatial_dim tensor([  1, 251, 251])\n",
            "processed_label torch.Size([1, 256, 256])\n",
            "unsqueeze torch.Size([1, 1, 1, 256, 256])\n",
            "intermediate_spatial_dim tensor([  1, 249, 249])\n",
            "processed_label torch.Size([1, 256, 256])\n",
            "unsqueeze torch.Size([1, 1, 1, 256, 256])\n",
            "intermediate_spatial_dim tensor([  1, 512, 512])\n",
            "processed_label torch.Size([1, 256, 256])\n",
            "unsqueeze torch.Size([1, 1, 1, 256, 256])\n",
            "intermediate_spatial_dim tensor([  1, 512, 512])\n",
            "processed_label torch.Size([1, 256, 256])\n",
            "unsqueeze torch.Size([1, 1, 1, 256, 256])\n",
            "intermediate_spatial_dim tensor([  1, 251, 251])\n",
            "processed_label torch.Size([1, 256, 256])\n",
            "unsqueeze torch.Size([1, 1, 1, 256, 256])\n"
          ]
        },
        {
          "name": "stderr",
          "output_type": "stream",
          "text": [
            " 37%|███▋      | 42/114 [00:04<00:09,  7.28it/s]"
          ]
        },
        {
          "name": "stdout",
          "output_type": "stream",
          "text": [
            "intermediate_spatial_dim tensor([  1, 249, 249])\n",
            "processed_label torch.Size([1, 256, 256])\n",
            "unsqueeze torch.Size([1, 1, 1, 256, 256])\n",
            "intermediate_spatial_dim tensor([  1, 512, 512])\n",
            "processed_label torch.Size([1, 256, 256])\n",
            "unsqueeze torch.Size([1, 1, 1, 256, 256])\n",
            "intermediate_spatial_dim tensor([  1, 512, 512])\n",
            "processed_label torch.Size([1, 256, 256])\n",
            "unsqueeze torch.Size([1, 1, 1, 256, 256])\n",
            "intermediate_spatial_dim tensor([  1, 251, 251])\n",
            "processed_label torch.Size([1, 256, 256])\n",
            "unsqueeze torch.Size([1, 1, 1, 256, 256])\n",
            "intermediate_spatial_dim tensor([  1, 249, 249])\n",
            "processed_label torch.Size([1, 256, 256])\n",
            "unsqueeze torch.Size([1, 1, 1, 256, 256])\n"
          ]
        },
        {
          "name": "stderr",
          "output_type": "stream",
          "text": [
            " 39%|███▊      | 44/114 [00:04<00:10,  6.87it/s]"
          ]
        },
        {
          "name": "stdout",
          "output_type": "stream",
          "text": [
            "intermediate_spatial_dim tensor([  1, 512, 512])\n",
            "processed_label torch.Size([1, 256, 256])\n",
            "unsqueeze torch.Size([1, 1, 1, 256, 256])\n",
            "intermediate_spatial_dim tensor([  1, 512, 512])\n",
            "processed_label torch.Size([1, 256, 256])\n",
            "unsqueeze torch.Size([1, 1, 1, 256, 256])\n",
            "intermediate_spatial_dim tensor([  1, 251, 251])\n",
            "processed_label torch.Size([1, 256, 256])\n",
            "unsqueeze torch.Size([1, 1, 1, 256, 256])\n",
            "intermediate_spatial_dim tensor([  1, 249, 249])\n",
            "processed_label torch.Size([1, 256, 256])\n",
            "unsqueeze torch.Size([1, 1, 1, 256, 256])\n",
            "intermediate_spatial_dim tensor([  1, 512, 512])\n",
            "processed_label torch.Size([1, 256, 256])\n",
            "unsqueeze torch.Size([1, 1, 1, 256, 256])\n",
            "intermediate_spatial_dim tensor([  1, 512, 512])\n",
            "processed_label torch.Size([1, 256, 256])\n",
            "unsqueeze torch.Size([1, 1, 1, 256, 256])\n",
            "intermediate_spatial_dim tensor([  1, 251, 251])\n",
            "processed_label torch.Size([1, 256, 256])\n",
            "unsqueeze torch.Size([1, 1, 1, 256, 256])\n"
          ]
        },
        {
          "name": "stderr",
          "output_type": "stream",
          "text": [
            " 39%|███▉      | 45/114 [00:05<00:10,  6.86it/s]"
          ]
        },
        {
          "name": "stdout",
          "output_type": "stream",
          "text": [
            "intermediate_spatial_dim tensor([  1, 248, 248])\n",
            "processed_label torch.Size([1, 256, 256])\n",
            "unsqueeze torch.Size([1, 1, 1, 256, 256])\n",
            "intermediate_spatial_dim tensor([  1, 512, 512])\n",
            "processed_label torch.Size([1, 256, 256])\n",
            "unsqueeze torch.Size([1, 1, 1, 256, 256])\n",
            "intermediate_spatial_dim tensor([  1, 512, 512])\n",
            "processed_label torch.Size([1, 256, 256])\n",
            "unsqueeze torch.Size([1, 1, 1, 256, 256])\n",
            "intermediate_spatial_dim tensor([  1, 251, 251])\n",
            "processed_label torch.Size([1, 256, 256])\n",
            "unsqueeze torch.Size([1, 1, 1, 256, 256])\n",
            "intermediate_spatial_dim tensor([  1, 248, 248])\n",
            "processed_label torch.Size([1, 256, 256])\n",
            "unsqueeze torch.Size([1, 1, 1, 256, 256])\n"
          ]
        },
        {
          "name": "stderr",
          "output_type": "stream",
          "text": [
            " 41%|████      | 47/114 [00:05<00:09,  6.88it/s]"
          ]
        },
        {
          "name": "stdout",
          "output_type": "stream",
          "text": [
            "intermediate_spatial_dim tensor([  1, 512, 512])\n",
            "processed_label torch.Size([1, 256, 256])\n",
            "unsqueeze torch.Size([1, 1, 1, 256, 256])\n",
            "intermediate_spatial_dim tensor([  1, 512, 512])\n",
            "processed_label torch.Size([1, 256, 256])\n",
            "unsqueeze torch.Size([1, 1, 1, 256, 256])\n",
            "intermediate_spatial_dim tensor([  1, 251, 251])\n",
            "processed_label torch.Size([1, 256, 256])\n",
            "unsqueeze torch.Size([1, 1, 1, 256, 256])\n",
            "intermediate_spatial_dim tensor([  1, 248, 248])\n",
            "processed_label torch.Size([1, 256, 256])\n",
            "unsqueeze torch.Size([1, 1, 1, 256, 256])\n",
            "intermediate_spatial_dim tensor([  1, 512, 512])\n",
            "processed_label torch.Size([1, 256, 256])\n",
            "unsqueeze torch.Size([1, 1, 1, 256, 256])\n",
            "intermediate_spatial_dim tensor([  1, 512, 512])\n",
            "processed_label torch.Size([1, 256, 256])\n",
            "unsqueeze torch.Size([1, 1, 1, 256, 256])\n",
            "intermediate_spatial_dim tensor([  1, 251, 251])\n",
            "processed_label torch.Size([1, 256, 256])\n",
            "unsqueeze torch.Size([1, 1, 1, 256, 256])\n",
            "intermediate_spatial_dim tensor([  1, 248, 248])\n",
            "processed_label torch.Size([1, 256, 256])\n",
            "unsqueeze torch.Size([1, 1, 1, 256, 256])\n"
          ]
        },
        {
          "name": "stderr",
          "output_type": "stream",
          "text": [
            " 43%|████▎     | 49/114 [00:05<00:08,  7.35it/s]"
          ]
        },
        {
          "name": "stdout",
          "output_type": "stream",
          "text": [
            "intermediate_spatial_dim tensor([  1, 512, 512])\n",
            "processed_label torch.Size([1, 256, 256])\n",
            "unsqueeze torch.Size([1, 1, 1, 256, 256])\n",
            "intermediate_spatial_dim tensor([  1, 512, 512])\n",
            "processed_label torch.Size([1, 256, 256])\n",
            "unsqueeze torch.Size([1, 1, 1, 256, 256])\n",
            "intermediate_spatial_dim tensor([  1, 251, 251])\n",
            "processed_label torch.Size([1, 256, 256])\n",
            "unsqueeze torch.Size([1, 1, 1, 256, 256])\n",
            "intermediate_spatial_dim tensor([  1, 248, 248])\n",
            "processed_label torch.Size([1, 256, 256])\n",
            "unsqueeze torch.Size([1, 1, 1, 256, 256])\n",
            "intermediate_spatial_dim tensor([  1, 512, 512])\n",
            "processed_label torch.Size([1, 256, 256])\n",
            "unsqueeze torch.Size([1, 1, 1, 256, 256])\n",
            "intermediate_spatial_dim tensor([  1, 512, 512])\n",
            "processed_label torch.Size([1, 256, 256])\n",
            "unsqueeze torch.Size([1, 1, 1, 256, 256])\n",
            "intermediate_spatial_dim tensor([  1, 251, 251])\n",
            "processed_label torch.Size([1, 256, 256])\n",
            "unsqueeze torch.Size([1, 1, 1, 256, 256])\n",
            "intermediate_spatial_dim tensor([  1, 248, 248])\n",
            "processed_label torch.Size([1, 256, 256])\n",
            "unsqueeze torch.Size([1, 1, 1, 256, 256])\n"
          ]
        },
        {
          "name": "stderr",
          "output_type": "stream",
          "text": [
            " 45%|████▍     | 51/114 [00:05<00:08,  7.13it/s]"
          ]
        },
        {
          "name": "stdout",
          "output_type": "stream",
          "text": [
            "intermediate_spatial_dim tensor([  1, 512, 512])\n",
            "processed_label torch.Size([1, 256, 256])\n",
            "unsqueeze torch.Size([1, 1, 1, 256, 256])\n",
            "intermediate_spatial_dim tensor([  1, 512, 512])\n",
            "processed_label torch.Size([1, 256, 256])\n",
            "unsqueeze torch.Size([1, 1, 1, 256, 256])\n",
            "intermediate_spatial_dim tensor([  1, 251, 251])\n",
            "processed_label torch.Size([1, 256, 256])\n",
            "unsqueeze torch.Size([1, 1, 1, 256, 256])\n",
            "intermediate_spatial_dim tensor([  1, 248, 248])\n",
            "processed_label torch.Size([1, 256, 256])\n",
            "unsqueeze torch.Size([1, 1, 1, 256, 256])\n",
            "intermediate_spatial_dim tensor([  1, 512, 512])\n",
            "processed_label torch.Size([1, 256, 256])\n",
            "unsqueeze torch.Size([1, 1, 1, 256, 256])\n",
            "intermediate_spatial_dim tensor([  1, 512, 512])\n",
            "processed_label torch.Size([1, 256, 256])\n",
            "unsqueeze torch.Size([1, 1, 1, 256, 256])\n",
            "intermediate_spatial_dim tensor([  1, 251, 251])\n",
            "processed_label torch.Size([1, 256, 256])\n",
            "unsqueeze torch.Size([1, 1, 1, 256, 256])\n"
          ]
        },
        {
          "name": "stderr",
          "output_type": "stream",
          "text": [
            " 46%|████▌     | 52/114 [00:06<00:09,  6.75it/s]"
          ]
        },
        {
          "name": "stdout",
          "output_type": "stream",
          "text": [
            "intermediate_spatial_dim tensor([  1, 248, 248])\n",
            "processed_label torch.Size([1, 256, 256])\n",
            "unsqueeze torch.Size([1, 1, 1, 256, 256])\n",
            "intermediate_spatial_dim tensor([  1, 512, 512])\n",
            "processed_label torch.Size([1, 256, 256])\n",
            "unsqueeze torch.Size([1, 1, 1, 256, 256])\n",
            "intermediate_spatial_dim tensor([  1, 512, 512])\n",
            "processed_label torch.Size([1, 256, 256])\n",
            "unsqueeze torch.Size([1, 1, 1, 256, 256])\n",
            "intermediate_spatial_dim tensor([  1, 251, 251])\n",
            "processed_label torch.Size([1, 256, 256])\n",
            "unsqueeze torch.Size([1, 1, 1, 256, 256])\n",
            "intermediate_spatial_dim tensor([  1, 248, 248])\n",
            "processed_label torch.Size([1, 256, 256])\n",
            "unsqueeze torch.Size([1, 1, 1, 256, 256])\n"
          ]
        },
        {
          "name": "stderr",
          "output_type": "stream",
          "text": [
            " 47%|████▋     | 54/114 [00:06<00:08,  6.72it/s]"
          ]
        },
        {
          "name": "stdout",
          "output_type": "stream",
          "text": [
            "intermediate_spatial_dim tensor([  1, 512, 512])\n",
            "processed_label torch.Size([1, 256, 256])\n",
            "unsqueeze torch.Size([1, 1, 1, 256, 256])\n",
            "intermediate_spatial_dim tensor([  1, 512, 512])\n",
            "processed_label torch.Size([1, 256, 256])\n",
            "unsqueeze torch.Size([1, 1, 1, 256, 256])\n",
            "intermediate_spatial_dim tensor([  1, 251, 251])\n",
            "processed_label torch.Size([1, 256, 256])\n",
            "unsqueeze torch.Size([1, 1, 1, 256, 256])\n",
            "intermediate_spatial_dim tensor([  1, 248, 248])\n",
            "processed_label torch.Size([1, 256, 256])\n",
            "unsqueeze torch.Size([1, 1, 1, 256, 256])\n",
            "intermediate_spatial_dim tensor([  1, 512, 512])\n",
            "processed_label torch.Size([1, 256, 256])\n",
            "unsqueeze torch.Size([1, 1, 1, 256, 256])\n",
            "intermediate_spatial_dim tensor([  1, 512, 512])\n",
            "processed_label torch.Size([1, 256, 256])\n",
            "unsqueeze torch.Size([1, 1, 1, 256, 256])\n",
            "intermediate_spatial_dim tensor([  1, 251, 251])\n",
            "processed_label torch.Size([1, 256, 256])\n",
            "unsqueeze torch.Size([1, 1, 1, 256, 256])\n",
            "intermediate_spatial_dim tensor([  1, 248, 248])\n",
            "processed_label torch.Size([1, 256, 256])\n",
            "unsqueeze torch.Size([1, 1, 1, 256, 256])\n"
          ]
        },
        {
          "name": "stderr",
          "output_type": "stream",
          "text": [
            " 49%|████▉     | 56/114 [00:06<00:08,  6.96it/s]"
          ]
        },
        {
          "name": "stdout",
          "output_type": "stream",
          "text": [
            "intermediate_spatial_dim tensor([  1, 512, 512])\n",
            "processed_label torch.Size([1, 256, 256])\n",
            "unsqueeze torch.Size([1, 1, 1, 256, 256])\n",
            "intermediate_spatial_dim tensor([  1, 512, 512])\n",
            "processed_label torch.Size([1, 256, 256])\n",
            "unsqueeze torch.Size([1, 1, 1, 256, 256])\n",
            "intermediate_spatial_dim tensor([  1, 251, 251])\n",
            "processed_label torch.Size([1, 256, 256])\n",
            "unsqueeze torch.Size([1, 1, 1, 256, 256])\n",
            "intermediate_spatial_dim tensor([  1, 248, 248])\n",
            "processed_label torch.Size([1, 256, 256])\n",
            "unsqueeze torch.Size([1, 1, 1, 256, 256])\n",
            "intermediate_spatial_dim tensor([  1, 512, 512])\n",
            "processed_label torch.Size([1, 256, 256])\n",
            "unsqueeze torch.Size([1, 1, 1, 256, 256])\n",
            "intermediate_spatial_dim tensor([  1, 512, 512])\n",
            "processed_label torch.Size([1, 256, 256])\n",
            "unsqueeze torch.Size([1, 1, 1, 256, 256])\n",
            "intermediate_spatial_dim tensor([  1, 251, 251])\n",
            "processed_label torch.Size([1, 256, 256])\n",
            "unsqueeze torch.Size([1, 1, 1, 256, 256])\n",
            "intermediate_spatial_dim tensor([  1, 248, 248])\n",
            "processed_label torch.Size([1, 256, 256])\n",
            "unsqueeze torch.Size([1, 1, 1, 256, 256])\n"
          ]
        },
        {
          "name": "stderr",
          "output_type": "stream",
          "text": [
            " 51%|█████     | 58/114 [00:06<00:07,  7.16it/s]"
          ]
        },
        {
          "name": "stdout",
          "output_type": "stream",
          "text": [
            "intermediate_spatial_dim tensor([  1, 512, 512])\n",
            "processed_label torch.Size([1, 256, 256])\n",
            "unsqueeze torch.Size([1, 1, 1, 256, 256])\n",
            "intermediate_spatial_dim tensor([  1, 512, 512])\n",
            "processed_label torch.Size([1, 256, 256])\n",
            "unsqueeze torch.Size([1, 1, 1, 256, 256])\n",
            "intermediate_spatial_dim tensor([  1, 251, 251])\n",
            "processed_label torch.Size([1, 256, 256])\n",
            "unsqueeze torch.Size([1, 1, 1, 256, 256])\n",
            "intermediate_spatial_dim tensor([  1, 248, 248])\n",
            "processed_label torch.Size([1, 256, 256])\n",
            "unsqueeze torch.Size([1, 1, 1, 256, 256])\n",
            "intermediate_spatial_dim tensor([  1, 512, 512])\n",
            "processed_label torch.Size([1, 256, 256])\n",
            "unsqueeze torch.Size([1, 1, 1, 256, 256])\n",
            "intermediate_spatial_dim tensor([  1, 512, 512])\n",
            "processed_label torch.Size([1, 256, 256])\n",
            "unsqueeze torch.Size([1, 1, 1, 256, 256])\n",
            "intermediate_spatial_dim tensor([  1, 251, 251])\n",
            "processed_label torch.Size([1, 256, 256])\n",
            "unsqueeze torch.Size([1, 1, 1, 256, 256])\n",
            "intermediate_spatial_dim tensor([  1, 248, 248])\n",
            "processed_label torch.Size([1, 256, 256])\n",
            "unsqueeze torch.Size([1, 1, 1, 256, 256])\n"
          ]
        },
        {
          "name": "stderr",
          "output_type": "stream",
          "text": [
            " 53%|█████▎    | 60/114 [00:07<00:07,  7.16it/s]"
          ]
        },
        {
          "name": "stdout",
          "output_type": "stream",
          "text": [
            "intermediate_spatial_dim tensor([  1, 512, 512])\n",
            "processed_label torch.Size([1, 256, 256])\n",
            "unsqueeze torch.Size([1, 1, 1, 256, 256])\n",
            "intermediate_spatial_dim tensor([  1, 512, 512])\n",
            "processed_label torch.Size([1, 256, 256])\n",
            "unsqueeze torch.Size([1, 1, 1, 256, 256])\n",
            "intermediate_spatial_dim tensor([  1, 251, 251])\n",
            "processed_label torch.Size([1, 256, 256])\n",
            "unsqueeze torch.Size([1, 1, 1, 256, 256])\n",
            "intermediate_spatial_dim tensor([  1, 248, 248])\n",
            "processed_label torch.Size([1, 256, 256])\n",
            "unsqueeze torch.Size([1, 1, 1, 256, 256])\n",
            "intermediate_spatial_dim tensor([  1, 512, 512])\n",
            "processed_label torch.Size([1, 256, 256])\n",
            "unsqueeze torch.Size([1, 1, 1, 256, 256])\n",
            "intermediate_spatial_dim tensor([  1, 512, 512])\n",
            "processed_label torch.Size([1, 256, 256])\n",
            "unsqueeze torch.Size([1, 1, 1, 256, 256])\n",
            "intermediate_spatial_dim tensor([  1, 251, 251])\n",
            "processed_label torch.Size([1, 256, 256])\n",
            "unsqueeze torch.Size([1, 1, 1, 256, 256])\n",
            "intermediate_spatial_dim tensor([  1, 248, 248])\n",
            "processed_label torch.Size([1, 256, 256])\n",
            "unsqueeze torch.Size([1, 1, 1, 256, 256])\n"
          ]
        },
        {
          "name": "stderr",
          "output_type": "stream",
          "text": [
            " 54%|█████▍    | 62/114 [00:07<00:07,  7.33it/s]"
          ]
        },
        {
          "name": "stdout",
          "output_type": "stream",
          "text": [
            "intermediate_spatial_dim tensor([  1, 512, 512])\n",
            "processed_label torch.Size([1, 256, 256])\n",
            "unsqueeze torch.Size([1, 1, 1, 256, 256])\n",
            "intermediate_spatial_dim tensor([  1, 512, 512])\n",
            "processed_label torch.Size([1, 256, 256])\n",
            "unsqueeze torch.Size([1, 1, 1, 256, 256])\n",
            "intermediate_spatial_dim tensor([  1, 251, 251])\n",
            "processed_label torch.Size([1, 256, 256])\n",
            "unsqueeze torch.Size([1, 1, 1, 256, 256])\n",
            "intermediate_spatial_dim tensor([  1, 248, 248])\n",
            "processed_label torch.Size([1, 256, 256])\n",
            "unsqueeze torch.Size([1, 1, 1, 256, 256])\n",
            "intermediate_spatial_dim tensor([  1, 512, 512])\n",
            "processed_label torch.Size([1, 256, 256])\n",
            "unsqueeze torch.Size([1, 1, 1, 256, 256])\n",
            "intermediate_spatial_dim tensor([  1, 512, 512])\n",
            "processed_label torch.Size([1, 256, 256])\n",
            "unsqueeze torch.Size([1, 1, 1, 256, 256])\n",
            "intermediate_spatial_dim tensor([  1, 251, 251])\n",
            "processed_label torch.Size([1, 256, 256])\n",
            "unsqueeze torch.Size([1, 1, 1, 256, 256])\n",
            "intermediate_spatial_dim tensor([  1, 248, 248])\n",
            "processed_label torch.Size([1, 256, 256])\n",
            "unsqueeze torch.Size([1, 1, 1, 256, 256])\n"
          ]
        },
        {
          "name": "stderr",
          "output_type": "stream",
          "text": [
            " 56%|█████▌    | 64/114 [00:07<00:07,  6.87it/s]"
          ]
        },
        {
          "name": "stdout",
          "output_type": "stream",
          "text": [
            "intermediate_spatial_dim tensor([  1, 512, 512])\n",
            "processed_label torch.Size([1, 256, 256])\n",
            "unsqueeze torch.Size([1, 1, 1, 256, 256])\n",
            "intermediate_spatial_dim tensor([  1, 512, 512])\n",
            "processed_label torch.Size([1, 256, 256])\n",
            "unsqueeze torch.Size([1, 1, 1, 256, 256])\n",
            "intermediate_spatial_dim tensor([  1, 251, 251])\n",
            "processed_label torch.Size([1, 256, 256])\n",
            "unsqueeze torch.Size([1, 1, 1, 256, 256])\n",
            "intermediate_spatial_dim tensor([  1, 248, 248])\n",
            "processed_label torch.Size([1, 256, 256])\n",
            "unsqueeze torch.Size([1, 1, 1, 256, 256])\n",
            "intermediate_spatial_dim tensor([  1, 512, 512])\n",
            "processed_label torch.Size([1, 256, 256])\n",
            "unsqueeze torch.Size([1, 1, 1, 256, 256])\n",
            "intermediate_spatial_dim tensor([  1, 512, 512])\n",
            "processed_label torch.Size([1, 256, 256])\n",
            "unsqueeze torch.Size([1, 1, 1, 256, 256])\n",
            "intermediate_spatial_dim tensor([  1, 251, 251])\n",
            "processed_label torch.Size([1, 256, 256])\n",
            "unsqueeze torch.Size([1, 1, 1, 256, 256])\n"
          ]
        },
        {
          "name": "stderr",
          "output_type": "stream",
          "text": [
            " 57%|█████▋    | 65/114 [00:07<00:07,  6.70it/s]"
          ]
        },
        {
          "name": "stdout",
          "output_type": "stream",
          "text": [
            "intermediate_spatial_dim tensor([  1, 248, 248])\n",
            "processed_label torch.Size([1, 256, 256])\n",
            "unsqueeze torch.Size([1, 1, 1, 256, 256])\n",
            "intermediate_spatial_dim tensor([  1, 512, 512])\n",
            "processed_label torch.Size([1, 256, 256])\n",
            "unsqueeze torch.Size([1, 1, 1, 256, 256])\n",
            "intermediate_spatial_dim tensor([  1, 512, 512])\n",
            "processed_label torch.Size([1, 256, 256])\n",
            "unsqueeze torch.Size([1, 1, 1, 256, 256])\n",
            "intermediate_spatial_dim tensor([  1, 251, 251])\n",
            "processed_label torch.Size([1, 256, 256])\n",
            "unsqueeze torch.Size([1, 1, 1, 256, 256])\n",
            "intermediate_spatial_dim tensor([  1, 248, 248])\n",
            "processed_label torch.Size([1, 256, 256])\n",
            "unsqueeze torch.Size([1, 1, 1, 256, 256])\n"
          ]
        },
        {
          "name": "stderr",
          "output_type": "stream",
          "text": [
            " 59%|█████▉    | 67/114 [00:08<00:06,  6.81it/s]"
          ]
        },
        {
          "name": "stdout",
          "output_type": "stream",
          "text": [
            "intermediate_spatial_dim tensor([  1, 512, 512])\n",
            "processed_label torch.Size([1, 256, 256])\n",
            "unsqueeze torch.Size([1, 1, 1, 256, 256])\n",
            "intermediate_spatial_dim tensor([  1, 512, 512])\n",
            "processed_label torch.Size([1, 256, 256])\n",
            "unsqueeze torch.Size([1, 1, 1, 256, 256])\n",
            "intermediate_spatial_dim tensor([  1, 251, 251])\n",
            "processed_label torch.Size([1, 256, 256])\n",
            "unsqueeze torch.Size([1, 1, 1, 256, 256])\n",
            "intermediate_spatial_dim tensor([  1, 248, 248])\n",
            "processed_label torch.Size([1, 256, 256])\n",
            "unsqueeze torch.Size([1, 1, 1, 256, 256])\n",
            "intermediate_spatial_dim tensor([  1, 512, 512])\n",
            "processed_label torch.Size([1, 256, 256])\n",
            "unsqueeze torch.Size([1, 1, 1, 256, 256])\n",
            "intermediate_spatial_dim tensor([  1, 512, 512])\n",
            "processed_label torch.Size([1, 256, 256])\n",
            "unsqueeze torch.Size([1, 1, 1, 256, 256])\n",
            "intermediate_spatial_dim tensor([  1, 251, 251])\n",
            "processed_label torch.Size([1, 256, 256])\n",
            "unsqueeze torch.Size([1, 1, 1, 256, 256])\n",
            "intermediate_spatial_dim tensor([  1, 248, 248])\n",
            "processed_label torch.Size([1, 256, 256])\n",
            "unsqueeze torch.Size([1, 1, 1, 256, 256])\n"
          ]
        },
        {
          "name": "stderr",
          "output_type": "stream",
          "text": [
            " 61%|██████    | 69/114 [00:08<00:06,  7.05it/s]"
          ]
        },
        {
          "name": "stdout",
          "output_type": "stream",
          "text": [
            "intermediate_spatial_dim tensor([  1, 512, 512])\n",
            "processed_label torch.Size([1, 256, 256])\n",
            "unsqueeze torch.Size([1, 1, 1, 256, 256])\n",
            "intermediate_spatial_dim tensor([  1, 512, 512])\n",
            "processed_label torch.Size([1, 256, 256])\n",
            "unsqueeze torch.Size([1, 1, 1, 256, 256])\n",
            "intermediate_spatial_dim tensor([  1, 251, 251])\n",
            "processed_label torch.Size([1, 256, 256])\n",
            "unsqueeze torch.Size([1, 1, 1, 256, 256])\n",
            "intermediate_spatial_dim tensor([  1, 248, 248])\n",
            "processed_label torch.Size([1, 256, 256])\n",
            "unsqueeze torch.Size([1, 1, 1, 256, 256])\n",
            "intermediate_spatial_dim tensor([  1, 512, 512])\n",
            "processed_label torch.Size([1, 256, 256])\n",
            "unsqueeze torch.Size([1, 1, 1, 256, 256])\n",
            "intermediate_spatial_dim tensor([  1, 512, 512])\n",
            "processed_label torch.Size([1, 256, 256])\n",
            "unsqueeze torch.Size([1, 1, 1, 256, 256])\n",
            "intermediate_spatial_dim tensor([  1, 251, 251])\n",
            "processed_label torch.Size([1, 256, 256])\n",
            "unsqueeze torch.Size([1, 1, 1, 256, 256])\n",
            "intermediate_spatial_dim tensor([  1, 249, 249])\n",
            "processed_label torch.Size([1, 256, 256])\n",
            "unsqueeze torch.Size([1, 1, 1, 256, 256])\n"
          ]
        },
        {
          "name": "stderr",
          "output_type": "stream",
          "text": [
            " 62%|██████▏   | 71/114 [00:08<00:05,  7.27it/s]"
          ]
        },
        {
          "name": "stdout",
          "output_type": "stream",
          "text": [
            "intermediate_spatial_dim tensor([  1, 512, 512])\n",
            "processed_label torch.Size([1, 256, 256])\n",
            "unsqueeze torch.Size([1, 1, 1, 256, 256])\n",
            "intermediate_spatial_dim tensor([  1, 512, 512])\n",
            "processed_label torch.Size([1, 256, 256])\n",
            "unsqueeze torch.Size([1, 1, 1, 256, 256])\n",
            "intermediate_spatial_dim tensor([  1, 251, 251])\n",
            "processed_label torch.Size([1, 256, 256])\n",
            "unsqueeze torch.Size([1, 1, 1, 256, 256])\n",
            "intermediate_spatial_dim tensor([  1, 249, 249])\n",
            "processed_label torch.Size([1, 256, 256])\n",
            "unsqueeze torch.Size([1, 1, 1, 256, 256])\n",
            "intermediate_spatial_dim tensor([  1, 512, 512])\n",
            "processed_label torch.Size([1, 256, 256])\n",
            "unsqueeze torch.Size([1, 1, 1, 256, 256])\n",
            "intermediate_spatial_dim tensor([  1, 512, 512])\n",
            "processed_label torch.Size([1, 256, 256])\n",
            "unsqueeze torch.Size([1, 1, 1, 256, 256])\n",
            "intermediate_spatial_dim tensor([  1, 251, 251])\n",
            "processed_label torch.Size([1, 256, 256])\n",
            "unsqueeze torch.Size([1, 1, 1, 256, 256])\n",
            "intermediate_spatial_dim tensor([  1, 249, 249])\n",
            "processed_label torch.Size([1, 256, 256])\n",
            "unsqueeze torch.Size([1, 1, 1, 256, 256])\n"
          ]
        },
        {
          "name": "stderr",
          "output_type": "stream",
          "text": [
            " 64%|██████▍   | 73/114 [00:09<00:05,  7.59it/s]"
          ]
        },
        {
          "name": "stdout",
          "output_type": "stream",
          "text": [
            "intermediate_spatial_dim tensor([  1, 512, 512])\n",
            "processed_label torch.Size([1, 256, 256])\n",
            "unsqueeze torch.Size([1, 1, 1, 256, 256])\n",
            "intermediate_spatial_dim tensor([  1, 512, 512])\n",
            "processed_label torch.Size([1, 256, 256])\n",
            "unsqueeze torch.Size([1, 1, 1, 256, 256])\n",
            "intermediate_spatial_dim tensor([  1, 251, 251])\n",
            "processed_label torch.Size([1, 256, 256])\n",
            "unsqueeze torch.Size([1, 1, 1, 256, 256])\n",
            "intermediate_spatial_dim tensor([  1, 249, 249])\n",
            "processed_label torch.Size([1, 256, 256])\n",
            "unsqueeze torch.Size([1, 1, 1, 256, 256])\n",
            "intermediate_spatial_dim tensor([  1, 512, 512])\n",
            "processed_label torch.Size([1, 256, 256])\n",
            "unsqueeze torch.Size([1, 1, 1, 256, 256])\n",
            "intermediate_spatial_dim tensor([  1, 512, 512])\n",
            "processed_label torch.Size([1, 256, 256])\n",
            "unsqueeze torch.Size([1, 1, 1, 256, 256])\n",
            "intermediate_spatial_dim tensor([  1, 251, 251])\n",
            "processed_label torch.Size([1, 256, 256])\n",
            "unsqueeze torch.Size([1, 1, 1, 256, 256])\n",
            "intermediate_spatial_dim tensor([  1, 249, 249])\n",
            "processed_label torch.Size([1, 256, 256])\n",
            "unsqueeze torch.Size([1, 1, 1, 256, 256])\n"
          ]
        },
        {
          "name": "stderr",
          "output_type": "stream",
          "text": [
            " 66%|██████▌   | 75/114 [00:09<00:05,  7.52it/s]"
          ]
        },
        {
          "name": "stdout",
          "output_type": "stream",
          "text": [
            "intermediate_spatial_dim tensor([  1, 512, 512])\n",
            "processed_label torch.Size([1, 256, 256])\n",
            "unsqueeze torch.Size([1, 1, 1, 256, 256])\n",
            "intermediate_spatial_dim tensor([  1, 512, 512])\n",
            "processed_label torch.Size([1, 256, 256])\n",
            "unsqueeze torch.Size([1, 1, 1, 256, 256])\n",
            "intermediate_spatial_dim tensor([  1, 251, 251])\n",
            "processed_label torch.Size([1, 256, 256])\n",
            "unsqueeze torch.Size([1, 1, 1, 256, 256])\n",
            "intermediate_spatial_dim tensor([  1, 250, 250])\n",
            "processed_label torch.Size([1, 256, 256])\n",
            "unsqueeze torch.Size([1, 1, 1, 256, 256])\n",
            "intermediate_spatial_dim tensor([  1, 512, 512])\n",
            "processed_label torch.Size([1, 256, 256])\n",
            "unsqueeze torch.Size([1, 1, 1, 256, 256])\n",
            "intermediate_spatial_dim tensor([  1, 512, 512])\n",
            "processed_label torch.Size([1, 256, 256])\n",
            "unsqueeze torch.Size([1, 1, 1, 256, 256])\n",
            "intermediate_spatial_dim tensor([  1, 252, 252])\n",
            "processed_label torch.Size([1, 256, 256])\n",
            "unsqueeze torch.Size([1, 1, 1, 256, 256])\n",
            "intermediate_spatial_dim tensor([  1, 250, 250])\n",
            "processed_label torch.Size([1, 256, 256])\n",
            "unsqueeze torch.Size([1, 1, 1, 256, 256])\n"
          ]
        },
        {
          "name": "stderr",
          "output_type": "stream",
          "text": [
            " 68%|██████▊   | 77/114 [00:09<00:04,  7.44it/s]"
          ]
        },
        {
          "name": "stdout",
          "output_type": "stream",
          "text": [
            "intermediate_spatial_dim tensor([  1, 512, 512])\n",
            "processed_label torch.Size([1, 256, 256])\n",
            "unsqueeze torch.Size([1, 1, 1, 256, 256])\n",
            "intermediate_spatial_dim tensor([  1, 512, 512])\n",
            "processed_label torch.Size([1, 256, 256])\n",
            "unsqueeze torch.Size([1, 1, 1, 256, 256])\n",
            "intermediate_spatial_dim tensor([  1, 253, 253])\n",
            "processed_label torch.Size([1, 256, 256])\n",
            "unsqueeze torch.Size([1, 1, 1, 256, 256])\n",
            "intermediate_spatial_dim tensor([  1, 250, 250])\n",
            "processed_label torch.Size([1, 256, 256])\n",
            "unsqueeze torch.Size([1, 1, 1, 256, 256])\n",
            "intermediate_spatial_dim tensor([  1, 512, 512])\n",
            "processed_label torch.Size([1, 256, 256])\n",
            "unsqueeze torch.Size([1, 1, 1, 256, 256])\n",
            "intermediate_spatial_dim tensor([  1, 512, 512])\n",
            "processed_label torch.Size([1, 256, 256])\n",
            "unsqueeze torch.Size([1, 1, 1, 256, 256])\n",
            "intermediate_spatial_dim tensor([  1, 253, 253])\n",
            "processed_label torch.Size([1, 256, 256])\n",
            "unsqueeze torch.Size([1, 1, 1, 256, 256])\n"
          ]
        },
        {
          "name": "stderr",
          "output_type": "stream",
          "text": [
            " 69%|██████▉   | 79/114 [00:09<00:04,  7.80it/s]"
          ]
        },
        {
          "name": "stdout",
          "output_type": "stream",
          "text": [
            "intermediate_spatial_dim tensor([  1, 250, 250])\n",
            "processed_label torch.Size([1, 256, 256])\n",
            "unsqueeze torch.Size([1, 1, 1, 256, 256])\n",
            "intermediate_spatial_dim tensor([  1, 512, 512])\n",
            "processed_label torch.Size([1, 256, 256])\n",
            "unsqueeze torch.Size([1, 1, 1, 256, 256])\n",
            "intermediate_spatial_dim tensor([  1, 512, 512])\n",
            "processed_label torch.Size([1, 256, 256])\n",
            "unsqueeze torch.Size([1, 1, 1, 256, 256])\n",
            "intermediate_spatial_dim tensor([  1, 250, 250])\n",
            "processed_label torch.Size([1, 256, 256])\n",
            "unsqueeze torch.Size([1, 1, 1, 256, 256])\n",
            "intermediate_spatial_dim tensor([  1, 512, 512])\n",
            "processed_label torch.Size([1, 256, 256])\n",
            "unsqueeze torch.Size([1, 1, 1, 256, 256])\n",
            "intermediate_spatial_dim tensor([  1, 512, 512])\n",
            "processed_label torch.Size([1, 256, 256])\n",
            "unsqueeze torch.Size([1, 1, 1, 256, 256])\n"
          ]
        },
        {
          "name": "stderr",
          "output_type": "stream",
          "text": [
            " 70%|███████   | 80/114 [00:09<00:04,  8.20it/s]"
          ]
        },
        {
          "name": "stdout",
          "output_type": "stream",
          "text": [
            "intermediate_spatial_dim tensor([  1, 250, 250])\n",
            "processed_label torch.Size([1, 256, 256])\n",
            "unsqueeze torch.Size([1, 1, 1, 256, 256])\n",
            "intermediate_spatial_dim tensor([  1, 512, 512])\n",
            "processed_label torch.Size([1, 256, 256])\n",
            "unsqueeze torch.Size([1, 1, 1, 256, 256])\n",
            "intermediate_spatial_dim tensor([  1, 512, 512])\n",
            "processed_label torch.Size([1, 256, 256])\n",
            "unsqueeze torch.Size([1, 1, 1, 256, 256])\n",
            "intermediate_spatial_dim tensor([  1, 250, 250])\n",
            "processed_label torch.Size([1, 256, 256])\n",
            "unsqueeze torch.Size([1, 1, 1, 256, 256])\n",
            "intermediate_spatial_dim tensor([  1, 512, 512])\n",
            "processed_label torch.Size([1, 256, 256])\n",
            "unsqueeze torch.Size([1, 1, 1, 256, 256])\n",
            "intermediate_spatial_dim tensor([  1, 512, 512])\n",
            "processed_label torch.Size([1, 256, 256])\n",
            "unsqueeze torch.Size([1, 1, 1, 256, 256])\n"
          ]
        },
        {
          "name": "stderr",
          "output_type": "stream",
          "text": [
            " 73%|███████▎  | 83/114 [00:10<00:03,  8.85it/s]"
          ]
        },
        {
          "name": "stdout",
          "output_type": "stream",
          "text": [
            "intermediate_spatial_dim tensor([  1, 250, 250])\n",
            "processed_label torch.Size([1, 256, 256])\n",
            "unsqueeze torch.Size([1, 1, 1, 256, 256])\n",
            "intermediate_spatial_dim tensor([  1, 512, 512])\n",
            "processed_label torch.Size([1, 256, 256])\n",
            "unsqueeze torch.Size([1, 1, 1, 256, 256])\n",
            "intermediate_spatial_dim tensor([  1, 512, 512])\n",
            "processed_label torch.Size([1, 256, 256])\n",
            "unsqueeze torch.Size([1, 1, 1, 256, 256])\n",
            "intermediate_spatial_dim tensor([  1, 250, 250])\n",
            "processed_label torch.Size([1, 256, 256])\n",
            "unsqueeze torch.Size([1, 1, 1, 256, 256])\n",
            "intermediate_spatial_dim tensor([  1, 512, 512])\n",
            "processed_label torch.Size([1, 256, 256])\n",
            "unsqueeze torch.Size([1, 1, 1, 256, 256])\n",
            "intermediate_spatial_dim tensor([  1, 512, 512])\n",
            "processed_label torch.Size([1, 256, 256])\n",
            "unsqueeze torch.Size([1, 1, 1, 256, 256])\n"
          ]
        },
        {
          "name": "stderr",
          "output_type": "stream",
          "text": [
            " 75%|███████▍  | 85/114 [00:10<00:03,  8.75it/s]"
          ]
        },
        {
          "name": "stdout",
          "output_type": "stream",
          "text": [
            "intermediate_spatial_dim tensor([  1, 250, 250])\n",
            "processed_label torch.Size([1, 256, 256])\n",
            "unsqueeze torch.Size([1, 1, 1, 256, 256])\n",
            "intermediate_spatial_dim tensor([  1, 512, 512])\n",
            "processed_label torch.Size([1, 256, 256])\n",
            "unsqueeze torch.Size([1, 1, 1, 256, 256])\n",
            "intermediate_spatial_dim tensor([  1, 512, 512])\n",
            "processed_label torch.Size([1, 256, 256])\n",
            "unsqueeze torch.Size([1, 1, 1, 256, 256])\n",
            "intermediate_spatial_dim tensor([  1, 250, 250])\n",
            "processed_label torch.Size([1, 256, 256])\n",
            "unsqueeze torch.Size([1, 1, 1, 256, 256])\n",
            "intermediate_spatial_dim tensor([  1, 512, 512])\n",
            "processed_label torch.Size([1, 256, 256])\n",
            "unsqueeze torch.Size([1, 1, 1, 256, 256])\n",
            "intermediate_spatial_dim tensor([  1, 512, 512])\n",
            "processed_label torch.Size([1, 256, 256])\n",
            "unsqueeze torch.Size([1, 1, 1, 256, 256])\n"
          ]
        },
        {
          "name": "stderr",
          "output_type": "stream",
          "text": [
            "100%|██████████| 114/114 [00:10<00:00, 10.52it/s]"
          ]
        },
        {
          "name": "stdout",
          "output_type": "stream",
          "text": [
            "intermediate_spatial_dim tensor([  1, 253, 253])\n",
            "processed_label torch.Size([1, 256, 256])\n",
            "unsqueeze torch.Size([1, 1, 1, 256, 256])\n",
            "intermediate_spatial_dim tensor([  1, 512, 512])\n",
            "processed_label torch.Size([1, 256, 256])\n",
            "unsqueeze torch.Size([1, 1, 1, 256, 256])\n",
            "intermediate_spatial_dim tensor([  1, 512, 512])\n",
            "processed_label torch.Size([1, 256, 256])\n",
            "unsqueeze torch.Size([1, 1, 1, 256, 256])\n"
          ]
        },
        {
          "name": "stderr",
          "output_type": "stream",
          "text": [
            "\n"
          ]
        },
        {
          "name": "stdout",
          "output_type": "stream",
          "text": [
            "BR0138\n"
          ]
        },
        {
          "name": "stderr",
          "output_type": "stream",
          "text": [
            "  5%|▍         | 11/228 [00:00<00:02, 105.20it/s]"
          ]
        },
        {
          "name": "stdout",
          "output_type": "stream",
          "text": [
            "intermediate_spatial_dim tensor([  1, 251, 251])\n",
            "processed_label torch.Size([1, 256, 256])\n",
            "unsqueeze torch.Size([1, 1, 1, 256, 256])\n",
            "intermediate_spatial_dim tensor([  1, 251, 251])\n",
            "processed_label torch.Size([1, 256, 256])\n",
            "unsqueeze torch.Size([1, 1, 1, 256, 256])\n",
            "intermediate_spatial_dim tensor([  1, 512, 512])\n",
            "processed_label torch.Size([1, 256, 256])\n",
            "unsqueeze torch.Size([1, 1, 1, 256, 256])\n",
            "intermediate_spatial_dim tensor([  1, 512, 512])\n",
            "processed_label torch.Size([1, 256, 256])\n",
            "unsqueeze torch.Size([1, 1, 1, 256, 256])\n",
            "intermediate_spatial_dim tensor([  1, 251, 251])\n",
            "processed_label torch.Size([1, 256, 256])\n",
            "unsqueeze torch.Size([1, 1, 1, 256, 256])\n",
            "intermediate_spatial_dim tensor([  1, 251, 251])\n",
            "processed_label torch.Size([1, 256, 256])\n",
            "unsqueeze torch.Size([1, 1, 1, 256, 256])\n",
            "intermediate_spatial_dim tensor([  1, 512, 512])\n",
            "processed_label torch.Size([1, 256, 256])\n",
            "unsqueeze torch.Size([1, 1, 1, 256, 256])\n",
            "intermediate_spatial_dim tensor([  1, 512, 512])\n",
            "processed_label torch.Size([1, 256, 256])\n",
            "unsqueeze torch.Size([1, 1, 1, 256, 256])\n"
          ]
        },
        {
          "name": "stderr",
          "output_type": "stream",
          "text": [
            " 10%|▉         | 22/228 [00:00<00:08, 23.59it/s] "
          ]
        },
        {
          "name": "stdout",
          "output_type": "stream",
          "text": [
            "intermediate_spatial_dim tensor([  1, 251, 251])\n",
            "processed_label torch.Size([1, 256, 256])\n",
            "unsqueeze torch.Size([1, 1, 1, 256, 256])\n",
            "intermediate_spatial_dim tensor([  1, 251, 251])\n",
            "processed_label torch.Size([1, 256, 256])\n",
            "unsqueeze torch.Size([1, 1, 1, 256, 256])\n",
            "intermediate_spatial_dim tensor([  1, 512, 512])\n",
            "processed_label torch.Size([1, 256, 256])\n",
            "unsqueeze torch.Size([1, 1, 1, 256, 256])\n",
            "intermediate_spatial_dim tensor([  1, 512, 512])\n",
            "processed_label torch.Size([1, 256, 256])\n",
            "unsqueeze torch.Size([1, 1, 1, 256, 256])\n",
            "intermediate_spatial_dim tensor([  1, 251, 251])\n",
            "processed_label torch.Size([1, 256, 256])\n",
            "unsqueeze torch.Size([1, 1, 1, 256, 256])\n",
            "intermediate_spatial_dim tensor([  1, 251, 251])\n",
            "processed_label torch.Size([1, 256, 256])\n",
            "unsqueeze torch.Size([1, 1, 1, 256, 256])\n",
            "intermediate_spatial_dim tensor([  1, 512, 512])\n",
            "processed_label torch.Size([1, 256, 256])\n",
            "unsqueeze torch.Size([1, 1, 1, 256, 256])\n",
            "intermediate_spatial_dim tensor([  1, 512, 512])\n",
            "processed_label torch.Size([1, 256, 256])\n",
            "unsqueeze torch.Size([1, 1, 1, 256, 256])\n",
            "intermediate_spatial_dim tensor([  1, 251, 251])\n",
            "processed_label torch.Size([1, 256, 256])\n",
            "unsqueeze torch.Size([1, 1, 1, 256, 256])\n",
            "intermediate_spatial_dim tensor([  1, 251, 251])\n",
            "processed_label torch.Size([1, 256, 256])\n",
            "unsqueeze torch.Size([1, 1, 1, 256, 256])\n",
            "intermediate_spatial_dim tensor([  1, 512, 512])\n",
            "processed_label torch.Size([1, 256, 256])\n",
            "unsqueeze torch.Size([1, 1, 1, 256, 256])\n",
            "intermediate_spatial_dim tensor([  1, 512, 512])\n",
            "processed_label torch.Size([1, 256, 256])\n",
            "unsqueeze torch.Size([1, 1, 1, 256, 256])\n",
            "intermediate_spatial_dim tensor([  1, 251, 251])\n",
            "processed_label torch.Size([1, 256, 256])\n",
            "unsqueeze torch.Size([1, 1, 1, 256, 256])\n",
            "intermediate_spatial_dim tensor([  1, 251, 251])\n",
            "processed_label torch.Size([1, 256, 256])\n",
            "unsqueeze torch.Size([1, 1, 1, 256, 256])\n",
            "intermediate_spatial_dim tensor([  1, 512, 512])\n",
            "processed_label torch.Size([1, 256, 256])\n",
            "unsqueeze torch.Size([1, 1, 1, 256, 256])\n",
            "intermediate_spatial_dim tensor([  1, 512, 512])\n",
            "processed_label torch.Size([1, 256, 256])\n",
            "unsqueeze torch.Size([1, 1, 1, 256, 256])\n",
            "intermediate_spatial_dim tensor([  1, 251, 251])\n",
            "processed_label torch.Size([1, 256, 256])\n",
            "unsqueeze torch.Size([1, 1, 1, 256, 256])\n",
            "intermediate_spatial_dim tensor([  1, 251, 251])\n",
            "processed_label torch.Size([1, 256, 256])\n",
            "unsqueeze torch.Size([1, 1, 1, 256, 256])\n",
            "intermediate_spatial_dim tensor([  1, 512, 512])\n",
            "processed_label torch.Size([1, 256, 256])\n",
            "unsqueeze torch.Size([1, 1, 1, 256, 256])\n",
            "intermediate_spatial_dim tensor([  1, 512, 512])\n",
            "processed_label torch.Size([1, 256, 256])\n",
            "unsqueeze torch.Size([1, 1, 1, 256, 256])\n",
            "intermediate_spatial_dim tensor([  1, 251, 251])\n",
            "processed_label torch.Size([1, 256, 256])\n",
            "unsqueeze torch.Size([1, 1, 1, 256, 256])\n",
            "intermediate_spatial_dim tensor([  1, 251, 251])\n",
            "processed_label torch.Size([1, 256, 256])\n",
            "unsqueeze torch.Size([1, 1, 1, 256, 256])\n"
          ]
        },
        {
          "name": "stderr",
          "output_type": "stream",
          "text": [
            " 12%|█▏        | 28/228 [00:01<00:14, 13.88it/s]"
          ]
        },
        {
          "name": "stdout",
          "output_type": "stream",
          "text": [
            "intermediate_spatial_dim tensor([  1, 512, 512])\n",
            "processed_label torch.Size([1, 256, 256])\n",
            "unsqueeze torch.Size([1, 1, 1, 256, 256])\n",
            "intermediate_spatial_dim tensor([  1, 512, 512])\n",
            "processed_label torch.Size([1, 256, 256])\n",
            "unsqueeze torch.Size([1, 1, 1, 256, 256])\n",
            "intermediate_spatial_dim tensor([  1, 251, 251])\n",
            "processed_label torch.Size([1, 256, 256])\n",
            "unsqueeze torch.Size([1, 1, 1, 256, 256])\n",
            "intermediate_spatial_dim tensor([  1, 251, 251])\n",
            "processed_label torch.Size([1, 256, 256])\n",
            "unsqueeze torch.Size([1, 1, 1, 256, 256])\n",
            "intermediate_spatial_dim tensor([  1, 512, 512])\n",
            "processed_label torch.Size([1, 256, 256])\n",
            "unsqueeze torch.Size([1, 1, 1, 256, 256])\n",
            "intermediate_spatial_dim tensor([  1, 512, 512])\n",
            "processed_label torch.Size([1, 256, 256])\n",
            "unsqueeze torch.Size([1, 1, 1, 256, 256])\n",
            "intermediate_spatial_dim tensor([  1, 251, 251])\n",
            "processed_label torch.Size([1, 256, 256])\n",
            "unsqueeze torch.Size([1, 1, 1, 256, 256])\n",
            "intermediate_spatial_dim tensor([  1, 251, 251])\n",
            "processed_label torch.Size([1, 256, 256])\n",
            "unsqueeze torch.Size([1, 1, 1, 256, 256])\n",
            "intermediate_spatial_dim tensor([  1, 512, 512])\n",
            "processed_label torch.Size([1, 256, 256])\n",
            "unsqueeze torch.Size([1, 1, 1, 256, 256])\n",
            "intermediate_spatial_dim tensor([  1, 512, 512])\n",
            "processed_label torch.Size([1, 256, 256])\n",
            "unsqueeze torch.Size([1, 1, 1, 256, 256])\n",
            "intermediate_spatial_dim tensor([  1, 251, 251])\n",
            "processed_label torch.Size([1, 256, 256])\n",
            "unsqueeze torch.Size([1, 1, 1, 256, 256])\n",
            "intermediate_spatial_dim tensor([  1, 251, 251])\n",
            "processed_label torch.Size([1, 256, 256])\n",
            "unsqueeze torch.Size([1, 1, 1, 256, 256])\n",
            "intermediate_spatial_dim tensor([  1, 512, 512])\n",
            "processed_label torch.Size([1, 256, 256])\n",
            "unsqueeze torch.Size([1, 1, 1, 256, 256])\n",
            "intermediate_spatial_dim tensor([  1, 512, 512])\n",
            "processed_label torch.Size([1, 256, 256])\n",
            "unsqueeze torch.Size([1, 1, 1, 256, 256])\n",
            "intermediate_spatial_dim tensor([  1, 251, 251])\n",
            "processed_label torch.Size([1, 256, 256])\n",
            "unsqueeze torch.Size([1, 1, 1, 256, 256])\n",
            "intermediate_spatial_dim tensor([  1, 251, 251])\n",
            "processed_label torch.Size([1, 256, 256])\n",
            "unsqueeze torch.Size([1, 1, 1, 256, 256])\n"
          ]
        },
        {
          "name": "stderr",
          "output_type": "stream",
          "text": [
            " 14%|█▍        | 32/228 [00:02<00:16, 11.63it/s]"
          ]
        },
        {
          "name": "stdout",
          "output_type": "stream",
          "text": [
            "intermediate_spatial_dim tensor([  1, 512, 512])\n",
            "processed_label torch.Size([1, 256, 256])\n",
            "unsqueeze torch.Size([1, 1, 1, 256, 256])\n",
            "intermediate_spatial_dim tensor([  1, 512, 512])\n",
            "processed_label torch.Size([1, 256, 256])\n",
            "unsqueeze torch.Size([1, 1, 1, 256, 256])\n",
            "intermediate_spatial_dim tensor([  1, 251, 251])\n",
            "processed_label torch.Size([1, 256, 256])\n",
            "unsqueeze torch.Size([1, 1, 1, 256, 256])\n",
            "intermediate_spatial_dim tensor([  1, 251, 251])\n",
            "processed_label torch.Size([1, 256, 256])\n",
            "unsqueeze torch.Size([1, 1, 1, 256, 256])\n",
            "intermediate_spatial_dim tensor([  1, 512, 512])\n",
            "processed_label torch.Size([1, 256, 256])\n",
            "unsqueeze torch.Size([1, 1, 1, 256, 256])\n",
            "intermediate_spatial_dim tensor([  1, 512, 512])\n",
            "processed_label torch.Size([1, 256, 256])\n",
            "unsqueeze torch.Size([1, 1, 1, 256, 256])\n",
            "intermediate_spatial_dim tensor([  1, 251, 251])\n",
            "processed_label torch.Size([1, 256, 256])\n",
            "unsqueeze torch.Size([1, 1, 1, 256, 256])\n",
            "intermediate_spatial_dim tensor([  1, 251, 251])\n",
            "processed_label torch.Size([1, 256, 256])\n",
            "unsqueeze torch.Size([1, 1, 1, 256, 256])\n",
            "intermediate_spatial_dim tensor([  1, 512, 512])\n",
            "processed_label torch.Size([1, 256, 256])\n",
            "unsqueeze torch.Size([1, 1, 1, 256, 256])\n",
            "intermediate_spatial_dim tensor([  1, 512, 512])\n",
            "processed_label torch.Size([1, 256, 256])\n",
            "unsqueeze torch.Size([1, 1, 1, 256, 256])\n",
            "intermediate_spatial_dim tensor([  1, 251, 251])\n",
            "processed_label torch.Size([1, 256, 256])\n",
            "unsqueeze torch.Size([1, 1, 1, 256, 256])\n",
            "intermediate_spatial_dim tensor([  1, 250, 250])\n",
            "processed_label torch.Size([1, 256, 256])\n",
            "unsqueeze torch.Size([1, 1, 1, 256, 256])\n",
            "intermediate_spatial_dim tensor([  1, 512, 512])\n",
            "processed_label torch.Size([1, 256, 256])\n",
            "unsqueeze torch.Size([1, 1, 1, 256, 256])\n",
            "intermediate_spatial_dim tensor([  1, 512, 512])\n",
            "processed_label torch.Size([1, 256, 256])\n",
            "unsqueeze torch.Size([1, 1, 1, 256, 256])\n",
            "intermediate_spatial_dim tensor([  1, 251, 251])\n",
            "processed_label torch.Size([1, 256, 256])\n",
            "unsqueeze torch.Size([1, 1, 1, 256, 256])\n",
            "intermediate_spatial_dim tensor([  1, 250, 250])\n",
            "processed_label torch.Size([1, 256, 256])\n",
            "unsqueeze torch.Size([1, 1, 1, 256, 256])\n"
          ]
        },
        {
          "name": "stderr",
          "output_type": "stream",
          "text": [
            " 15%|█▌        | 35/228 [00:02<00:18, 10.43it/s]"
          ]
        },
        {
          "name": "stdout",
          "output_type": "stream",
          "text": [
            "intermediate_spatial_dim tensor([  1, 512, 512])\n",
            "processed_label torch.Size([1, 256, 256])\n",
            "unsqueeze torch.Size([1, 1, 1, 256, 256])\n",
            "intermediate_spatial_dim tensor([  1, 512, 512])\n",
            "processed_label torch.Size([1, 256, 256])\n",
            "unsqueeze torch.Size([1, 1, 1, 256, 256])\n",
            "intermediate_spatial_dim tensor([  1, 251, 251])\n",
            "processed_label torch.Size([1, 256, 256])\n",
            "unsqueeze torch.Size([1, 1, 1, 256, 256])\n",
            "intermediate_spatial_dim tensor([  1, 250, 250])\n",
            "processed_label torch.Size([1, 256, 256])\n",
            "unsqueeze torch.Size([1, 1, 1, 256, 256])\n",
            "intermediate_spatial_dim tensor([  1, 512, 512])\n",
            "processed_label torch.Size([1, 256, 256])\n",
            "unsqueeze torch.Size([1, 1, 1, 256, 256])\n",
            "intermediate_spatial_dim tensor([  1, 512, 512])\n",
            "processed_label torch.Size([1, 256, 256])\n",
            "unsqueeze torch.Size([1, 1, 1, 256, 256])\n",
            "intermediate_spatial_dim tensor([  1, 251, 251])\n",
            "processed_label torch.Size([1, 256, 256])\n",
            "unsqueeze torch.Size([1, 1, 1, 256, 256])\n"
          ]
        },
        {
          "name": "stderr",
          "output_type": "stream",
          "text": [
            " 16%|█▌        | 37/228 [00:02<00:19,  9.65it/s]"
          ]
        },
        {
          "name": "stdout",
          "output_type": "stream",
          "text": [
            "intermediate_spatial_dim tensor([  1, 250, 250])\n",
            "processed_label torch.Size([1, 256, 256])\n",
            "unsqueeze torch.Size([1, 1, 1, 256, 256])\n",
            "intermediate_spatial_dim tensor([  1, 512, 512])\n",
            "processed_label torch.Size([1, 256, 256])\n",
            "unsqueeze torch.Size([1, 1, 1, 256, 256])\n",
            "intermediate_spatial_dim tensor([  1, 512, 512])\n",
            "processed_label torch.Size([1, 256, 256])\n",
            "unsqueeze torch.Size([1, 1, 1, 256, 256])\n",
            "intermediate_spatial_dim tensor([  1, 251, 251])\n",
            "processed_label torch.Size([1, 256, 256])\n",
            "unsqueeze torch.Size([1, 1, 1, 256, 256])\n",
            "intermediate_spatial_dim tensor([  1, 250, 250])\n",
            "processed_label torch.Size([1, 256, 256])\n",
            "unsqueeze torch.Size([1, 1, 1, 256, 256])\n"
          ]
        },
        {
          "name": "stderr",
          "output_type": "stream",
          "text": [
            " 17%|█▋        | 39/228 [00:03<00:20,  9.13it/s]"
          ]
        },
        {
          "name": "stdout",
          "output_type": "stream",
          "text": [
            "intermediate_spatial_dim tensor([  1, 512, 512])\n",
            "processed_label torch.Size([1, 256, 256])\n",
            "unsqueeze torch.Size([1, 1, 1, 256, 256])\n",
            "intermediate_spatial_dim tensor([  1, 512, 512])\n",
            "processed_label torch.Size([1, 256, 256])\n",
            "unsqueeze torch.Size([1, 1, 1, 256, 256])\n",
            "intermediate_spatial_dim tensor([  1, 251, 251])\n",
            "processed_label torch.Size([1, 256, 256])\n",
            "unsqueeze torch.Size([1, 1, 1, 256, 256])\n",
            "intermediate_spatial_dim tensor([  1, 250, 250])\n",
            "processed_label torch.Size([1, 256, 256])\n",
            "unsqueeze torch.Size([1, 1, 1, 256, 256])\n",
            "intermediate_spatial_dim tensor([  1, 512, 512])\n",
            "processed_label torch.Size([1, 256, 256])\n",
            "unsqueeze torch.Size([1, 1, 1, 256, 256])\n",
            "intermediate_spatial_dim tensor([  1, 512, 512])\n",
            "processed_label torch.Size([1, 256, 256])\n",
            "unsqueeze torch.Size([1, 1, 1, 256, 256])\n",
            "intermediate_spatial_dim tensor([  1, 250, 250])\n",
            "processed_label torch.Size([1, 256, 256])\n",
            "unsqueeze torch.Size([1, 1, 1, 256, 256])\n",
            "intermediate_spatial_dim tensor([  1, 250, 250])\n",
            "processed_label torch.Size([1, 256, 256])\n",
            "unsqueeze torch.Size([1, 1, 1, 256, 256])\n"
          ]
        },
        {
          "name": "stderr",
          "output_type": "stream",
          "text": [
            " 18%|█▊        | 41/228 [00:03<00:21,  8.64it/s]"
          ]
        },
        {
          "name": "stdout",
          "output_type": "stream",
          "text": [
            "intermediate_spatial_dim tensor([  1, 512, 512])\n",
            "processed_label torch.Size([1, 256, 256])\n",
            "unsqueeze torch.Size([1, 1, 1, 256, 256])\n",
            "intermediate_spatial_dim tensor([  1, 512, 512])\n",
            "processed_label torch.Size([1, 256, 256])\n",
            "unsqueeze torch.Size([1, 1, 1, 256, 256])\n",
            "intermediate_spatial_dim tensor([  1, 250, 250])\n",
            "processed_label torch.Size([1, 256, 256])\n",
            "unsqueeze torch.Size([1, 1, 1, 256, 256])\n",
            "intermediate_spatial_dim tensor([  1, 250, 250])\n",
            "processed_label torch.Size([1, 256, 256])\n",
            "unsqueeze torch.Size([1, 1, 1, 256, 256])\n",
            "intermediate_spatial_dim tensor([  1, 512, 512])\n",
            "processed_label torch.Size([1, 256, 256])\n",
            "unsqueeze torch.Size([1, 1, 1, 256, 256])\n",
            "intermediate_spatial_dim tensor([  1, 512, 512])\n",
            "processed_label torch.Size([1, 256, 256])\n",
            "unsqueeze torch.Size([1, 1, 1, 256, 256])\n",
            "intermediate_spatial_dim tensor([  1, 250, 250])\n",
            "processed_label torch.Size([1, 256, 256])\n",
            "unsqueeze torch.Size([1, 1, 1, 256, 256])\n",
            "intermediate_spatial_dim tensor([  1, 250, 250])\n",
            "processed_label torch.Size([1, 256, 256])\n",
            "unsqueeze torch.Size([1, 1, 1, 256, 256])\n"
          ]
        },
        {
          "name": "stderr",
          "output_type": "stream",
          "text": [
            " 19%|█▉        | 43/228 [00:03<00:22,  8.36it/s]"
          ]
        },
        {
          "name": "stdout",
          "output_type": "stream",
          "text": [
            "intermediate_spatial_dim tensor([  1, 512, 512])\n",
            "processed_label torch.Size([1, 256, 256])\n",
            "unsqueeze torch.Size([1, 1, 1, 256, 256])\n",
            "intermediate_spatial_dim tensor([  1, 512, 512])\n",
            "processed_label torch.Size([1, 256, 256])\n",
            "unsqueeze torch.Size([1, 1, 1, 256, 256])\n",
            "intermediate_spatial_dim tensor([  1, 250, 250])\n",
            "processed_label torch.Size([1, 256, 256])\n",
            "unsqueeze torch.Size([1, 1, 1, 256, 256])\n",
            "intermediate_spatial_dim tensor([  1, 250, 250])\n",
            "processed_label torch.Size([1, 256, 256])\n",
            "unsqueeze torch.Size([1, 1, 1, 256, 256])\n",
            "intermediate_spatial_dim tensor([  1, 512, 512])\n",
            "processed_label torch.Size([1, 256, 256])\n",
            "unsqueeze torch.Size([1, 1, 1, 256, 256])\n",
            "intermediate_spatial_dim tensor([  1, 512, 512])\n",
            "processed_label torch.Size([1, 256, 256])\n",
            "unsqueeze torch.Size([1, 1, 1, 256, 256])\n",
            "intermediate_spatial_dim tensor([  1, 250, 250])\n",
            "processed_label torch.Size([1, 256, 256])\n",
            "unsqueeze torch.Size([1, 1, 1, 256, 256])\n",
            "intermediate_spatial_dim tensor([  1, 250, 250])\n",
            "processed_label torch.Size([1, 256, 256])\n",
            "unsqueeze torch.Size([1, 1, 1, 256, 256])\n"
          ]
        },
        {
          "name": "stderr",
          "output_type": "stream",
          "text": [
            " 20%|█▉        | 45/228 [00:03<00:23,  7.92it/s]"
          ]
        },
        {
          "name": "stdout",
          "output_type": "stream",
          "text": [
            "intermediate_spatial_dim tensor([  1, 512, 512])\n",
            "processed_label torch.Size([1, 256, 256])\n",
            "unsqueeze torch.Size([1, 1, 1, 256, 256])\n",
            "intermediate_spatial_dim tensor([  1, 512, 512])\n",
            "processed_label torch.Size([1, 256, 256])\n",
            "unsqueeze torch.Size([1, 1, 1, 256, 256])\n",
            "intermediate_spatial_dim tensor([  1, 250, 250])\n",
            "processed_label torch.Size([1, 256, 256])\n",
            "unsqueeze torch.Size([1, 1, 1, 256, 256])\n",
            "intermediate_spatial_dim tensor([  1, 250, 250])\n",
            "processed_label torch.Size([1, 256, 256])\n",
            "unsqueeze torch.Size([1, 1, 1, 256, 256])\n",
            "intermediate_spatial_dim tensor([  1, 512, 512])\n",
            "processed_label torch.Size([1, 256, 256])\n",
            "unsqueeze torch.Size([1, 1, 1, 256, 256])\n",
            "intermediate_spatial_dim tensor([  1, 512, 512])\n",
            "processed_label torch.Size([1, 256, 256])\n",
            "unsqueeze torch.Size([1, 1, 1, 256, 256])\n",
            "intermediate_spatial_dim tensor([  1, 250, 250])\n",
            "processed_label torch.Size([1, 256, 256])\n",
            "unsqueeze torch.Size([1, 1, 1, 256, 256])\n"
          ]
        },
        {
          "name": "stderr",
          "output_type": "stream",
          "text": [
            " 20%|██        | 46/228 [00:04<00:23,  7.77it/s]"
          ]
        },
        {
          "name": "stdout",
          "output_type": "stream",
          "text": [
            "intermediate_spatial_dim tensor([  1, 250, 250])\n",
            "processed_label torch.Size([1, 256, 256])\n",
            "unsqueeze torch.Size([1, 1, 1, 256, 256])\n",
            "intermediate_spatial_dim tensor([  1, 512, 512])\n",
            "processed_label torch.Size([1, 256, 256])\n",
            "unsqueeze torch.Size([1, 1, 1, 256, 256])\n",
            "intermediate_spatial_dim tensor([  1, 512, 512])\n",
            "processed_label torch.Size([1, 256, 256])\n",
            "unsqueeze torch.Size([1, 1, 1, 256, 256])\n",
            "intermediate_spatial_dim tensor([  1, 250, 250])\n",
            "processed_label torch.Size([1, 256, 256])\n",
            "unsqueeze torch.Size([1, 1, 1, 256, 256])\n",
            "intermediate_spatial_dim tensor([  1, 250, 250])\n",
            "processed_label torch.Size([1, 256, 256])\n",
            "unsqueeze torch.Size([1, 1, 1, 256, 256])\n"
          ]
        },
        {
          "name": "stderr",
          "output_type": "stream",
          "text": [
            " 21%|██        | 48/228 [00:04<00:24,  7.44it/s]"
          ]
        },
        {
          "name": "stdout",
          "output_type": "stream",
          "text": [
            "intermediate_spatial_dim tensor([  1, 512, 512])\n",
            "processed_label torch.Size([1, 256, 256])\n",
            "unsqueeze torch.Size([1, 1, 1, 256, 256])\n",
            "intermediate_spatial_dim tensor([  1, 512, 512])\n",
            "processed_label torch.Size([1, 256, 256])\n",
            "unsqueeze torch.Size([1, 1, 1, 256, 256])\n",
            "intermediate_spatial_dim tensor([  1, 250, 250])\n",
            "processed_label torch.Size([1, 256, 256])\n",
            "unsqueeze torch.Size([1, 1, 1, 256, 256])\n",
            "intermediate_spatial_dim tensor([  1, 249, 249])\n",
            "processed_label torch.Size([1, 256, 256])\n",
            "unsqueeze torch.Size([1, 1, 1, 256, 256])\n",
            "intermediate_spatial_dim tensor([  1, 512, 512])\n",
            "processed_label torch.Size([1, 256, 256])\n",
            "unsqueeze torch.Size([1, 1, 1, 256, 256])\n",
            "intermediate_spatial_dim tensor([  1, 512, 512])\n",
            "processed_label torch.Size([1, 256, 256])\n",
            "unsqueeze torch.Size([1, 1, 1, 256, 256])\n",
            "intermediate_spatial_dim tensor([  1, 250, 250])\n",
            "processed_label torch.Size([1, 256, 256])\n",
            "unsqueeze torch.Size([1, 1, 1, 256, 256])\n",
            "intermediate_spatial_dim tensor([  1, 249, 249])\n",
            "processed_label torch.Size([1, 256, 256])\n",
            "unsqueeze torch.Size([1, 1, 1, 256, 256])\n"
          ]
        },
        {
          "name": "stderr",
          "output_type": "stream",
          "text": [
            " 22%|██▏       | 50/228 [00:04<00:23,  7.43it/s]"
          ]
        },
        {
          "name": "stdout",
          "output_type": "stream",
          "text": [
            "intermediate_spatial_dim tensor([  1, 512, 512])\n",
            "processed_label torch.Size([1, 256, 256])\n",
            "unsqueeze torch.Size([1, 1, 1, 256, 256])\n",
            "intermediate_spatial_dim tensor([  1, 512, 512])\n",
            "processed_label torch.Size([1, 256, 256])\n",
            "unsqueeze torch.Size([1, 1, 1, 256, 256])\n",
            "intermediate_spatial_dim tensor([  1, 250, 250])\n",
            "processed_label torch.Size([1, 256, 256])\n",
            "unsqueeze torch.Size([1, 1, 1, 256, 256])\n",
            "intermediate_spatial_dim tensor([  1, 249, 249])\n",
            "processed_label torch.Size([1, 256, 256])\n",
            "unsqueeze torch.Size([1, 1, 1, 256, 256])\n",
            "intermediate_spatial_dim tensor([  1, 512, 512])\n",
            "processed_label torch.Size([1, 256, 256])\n",
            "unsqueeze torch.Size([1, 1, 1, 256, 256])\n",
            "intermediate_spatial_dim tensor([  1, 512, 512])\n",
            "processed_label torch.Size([1, 256, 256])\n",
            "unsqueeze torch.Size([1, 1, 1, 256, 256])\n",
            "intermediate_spatial_dim tensor([  1, 250, 250])\n",
            "processed_label torch.Size([1, 256, 256])\n",
            "unsqueeze torch.Size([1, 1, 1, 256, 256])\n"
          ]
        },
        {
          "name": "stderr",
          "output_type": "stream",
          "text": [
            " 22%|██▏       | 51/228 [00:04<00:24,  7.11it/s]"
          ]
        },
        {
          "name": "stdout",
          "output_type": "stream",
          "text": [
            "intermediate_spatial_dim tensor([  1, 249, 249])\n",
            "processed_label torch.Size([1, 256, 256])\n",
            "unsqueeze torch.Size([1, 1, 1, 256, 256])\n",
            "intermediate_spatial_dim tensor([  1, 512, 512])\n",
            "processed_label torch.Size([1, 256, 256])\n",
            "unsqueeze torch.Size([1, 1, 1, 256, 256])\n",
            "intermediate_spatial_dim tensor([  1, 512, 512])\n",
            "processed_label torch.Size([1, 256, 256])\n",
            "unsqueeze torch.Size([1, 1, 1, 256, 256])\n",
            "intermediate_spatial_dim tensor([  1, 250, 250])\n",
            "processed_label torch.Size([1, 256, 256])\n",
            "unsqueeze torch.Size([1, 1, 1, 256, 256])\n",
            "intermediate_spatial_dim tensor([  1, 249, 249])\n",
            "processed_label torch.Size([1, 256, 256])\n",
            "unsqueeze torch.Size([1, 1, 1, 256, 256])\n"
          ]
        },
        {
          "name": "stderr",
          "output_type": "stream",
          "text": [
            " 23%|██▎       | 53/228 [00:05<00:25,  6.85it/s]"
          ]
        },
        {
          "name": "stdout",
          "output_type": "stream",
          "text": [
            "intermediate_spatial_dim tensor([  1, 512, 512])\n",
            "processed_label torch.Size([1, 256, 256])\n",
            "unsqueeze torch.Size([1, 1, 1, 256, 256])\n",
            "intermediate_spatial_dim tensor([  1, 512, 512])\n",
            "processed_label torch.Size([1, 256, 256])\n",
            "unsqueeze torch.Size([1, 1, 1, 256, 256])\n",
            "intermediate_spatial_dim tensor([  1, 250, 250])\n",
            "processed_label torch.Size([1, 256, 256])\n",
            "unsqueeze torch.Size([1, 1, 1, 256, 256])\n",
            "intermediate_spatial_dim tensor([  1, 249, 249])\n",
            "processed_label torch.Size([1, 256, 256])\n",
            "unsqueeze torch.Size([1, 1, 1, 256, 256])\n",
            "intermediate_spatial_dim tensor([  1, 512, 512])\n",
            "processed_label torch.Size([1, 256, 256])\n",
            "unsqueeze torch.Size([1, 1, 1, 256, 256])\n",
            "intermediate_spatial_dim tensor([  1, 512, 512])\n",
            "processed_label torch.Size([1, 256, 256])\n",
            "unsqueeze torch.Size([1, 1, 1, 256, 256])\n",
            "intermediate_spatial_dim tensor([  1, 250, 250])\n",
            "processed_label torch.Size([1, 256, 256])\n",
            "unsqueeze torch.Size([1, 1, 1, 256, 256])\n"
          ]
        },
        {
          "name": "stderr",
          "output_type": "stream",
          "text": [
            " 24%|██▎       | 54/228 [00:05<00:25,  6.84it/s]"
          ]
        },
        {
          "name": "stdout",
          "output_type": "stream",
          "text": [
            "intermediate_spatial_dim tensor([  1, 249, 249])\n",
            "processed_label torch.Size([1, 256, 256])\n",
            "unsqueeze torch.Size([1, 1, 1, 256, 256])\n",
            "intermediate_spatial_dim tensor([  1, 512, 512])\n",
            "processed_label torch.Size([1, 256, 256])\n",
            "unsqueeze torch.Size([1, 1, 1, 256, 256])\n",
            "intermediate_spatial_dim tensor([  1, 512, 512])\n",
            "processed_label torch.Size([1, 256, 256])\n",
            "unsqueeze torch.Size([1, 1, 1, 256, 256])\n",
            "intermediate_spatial_dim tensor([  1, 250, 250])\n",
            "processed_label torch.Size([1, 256, 256])\n",
            "unsqueeze torch.Size([1, 1, 1, 256, 256])\n",
            "intermediate_spatial_dim tensor([  1, 249, 249])\n",
            "processed_label torch.Size([1, 256, 256])\n",
            "unsqueeze torch.Size([1, 1, 1, 256, 256])\n"
          ]
        },
        {
          "name": "stderr",
          "output_type": "stream",
          "text": [
            " 25%|██▍       | 56/228 [00:05<00:24,  7.05it/s]"
          ]
        },
        {
          "name": "stdout",
          "output_type": "stream",
          "text": [
            "intermediate_spatial_dim tensor([  1, 512, 512])\n",
            "processed_label torch.Size([1, 256, 256])\n",
            "unsqueeze torch.Size([1, 1, 1, 256, 256])\n",
            "intermediate_spatial_dim tensor([  1, 512, 512])\n",
            "processed_label torch.Size([1, 256, 256])\n",
            "unsqueeze torch.Size([1, 1, 1, 256, 256])\n",
            "intermediate_spatial_dim tensor([  1, 250, 250])\n",
            "processed_label torch.Size([1, 256, 256])\n",
            "unsqueeze torch.Size([1, 1, 1, 256, 256])\n",
            "intermediate_spatial_dim tensor([  1, 249, 249])\n",
            "processed_label torch.Size([1, 256, 256])\n",
            "unsqueeze torch.Size([1, 1, 1, 256, 256])\n",
            "intermediate_spatial_dim tensor([  1, 512, 512])\n",
            "processed_label torch.Size([1, 256, 256])\n",
            "unsqueeze torch.Size([1, 1, 1, 256, 256])\n",
            "intermediate_spatial_dim tensor([  1, 512, 512])\n",
            "processed_label torch.Size([1, 256, 256])\n",
            "unsqueeze torch.Size([1, 1, 1, 256, 256])\n",
            "intermediate_spatial_dim tensor([  1, 250, 250])\n",
            "processed_label torch.Size([1, 256, 256])\n",
            "unsqueeze torch.Size([1, 1, 1, 256, 256])\n",
            "intermediate_spatial_dim tensor([  1, 249, 249])\n",
            "processed_label torch.Size([1, 256, 256])\n",
            "unsqueeze torch.Size([1, 1, 1, 256, 256])\n"
          ]
        },
        {
          "name": "stderr",
          "output_type": "stream",
          "text": [
            " 25%|██▌       | 58/228 [00:05<00:23,  7.37it/s]"
          ]
        },
        {
          "name": "stdout",
          "output_type": "stream",
          "text": [
            "intermediate_spatial_dim tensor([  1, 512, 512])\n",
            "processed_label torch.Size([1, 256, 256])\n",
            "unsqueeze torch.Size([1, 1, 1, 256, 256])\n",
            "intermediate_spatial_dim tensor([  1, 512, 512])\n",
            "processed_label torch.Size([1, 256, 256])\n",
            "unsqueeze torch.Size([1, 1, 1, 256, 256])\n",
            "intermediate_spatial_dim tensor([  1, 250, 250])\n",
            "processed_label torch.Size([1, 256, 256])\n",
            "unsqueeze torch.Size([1, 1, 1, 256, 256])\n",
            "intermediate_spatial_dim tensor([  1, 249, 249])\n",
            "processed_label torch.Size([1, 256, 256])\n",
            "unsqueeze torch.Size([1, 1, 1, 256, 256])\n",
            "intermediate_spatial_dim tensor([  1, 512, 512])\n",
            "processed_label torch.Size([1, 256, 256])\n",
            "unsqueeze torch.Size([1, 1, 1, 256, 256])\n",
            "intermediate_spatial_dim tensor([  1, 512, 512])\n",
            "processed_label torch.Size([1, 256, 256])\n",
            "unsqueeze torch.Size([1, 1, 1, 256, 256])\n",
            "intermediate_spatial_dim tensor([  1, 250, 250])\n",
            "processed_label torch.Size([1, 256, 256])\n",
            "unsqueeze torch.Size([1, 1, 1, 256, 256])\n",
            "intermediate_spatial_dim tensor([  1, 249, 249])\n",
            "processed_label torch.Size([1, 256, 256])\n",
            "unsqueeze torch.Size([1, 1, 1, 256, 256])\n"
          ]
        },
        {
          "name": "stderr",
          "output_type": "stream",
          "text": [
            " 26%|██▋       | 60/228 [00:06<00:23,  7.30it/s]"
          ]
        },
        {
          "name": "stdout",
          "output_type": "stream",
          "text": [
            "intermediate_spatial_dim tensor([  1, 512, 512])\n",
            "processed_label torch.Size([1, 256, 256])\n",
            "unsqueeze torch.Size([1, 1, 1, 256, 256])\n",
            "intermediate_spatial_dim tensor([  1, 512, 512])\n",
            "processed_label torch.Size([1, 256, 256])\n",
            "unsqueeze torch.Size([1, 1, 1, 256, 256])\n",
            "intermediate_spatial_dim tensor([  1, 250, 250])\n",
            "processed_label torch.Size([1, 256, 256])\n",
            "unsqueeze torch.Size([1, 1, 1, 256, 256])\n",
            "intermediate_spatial_dim tensor([  1, 249, 249])\n",
            "processed_label torch.Size([1, 256, 256])\n",
            "unsqueeze torch.Size([1, 1, 1, 256, 256])\n",
            "intermediate_spatial_dim tensor([  1, 512, 512])\n",
            "processed_label torch.Size([1, 256, 256])\n",
            "unsqueeze torch.Size([1, 1, 1, 256, 256])\n",
            "intermediate_spatial_dim tensor([  1, 512, 512])\n",
            "processed_label torch.Size([1, 256, 256])\n",
            "unsqueeze torch.Size([1, 1, 1, 256, 256])\n",
            "intermediate_spatial_dim tensor([  1, 250, 250])\n",
            "processed_label torch.Size([1, 256, 256])\n",
            "unsqueeze torch.Size([1, 1, 1, 256, 256])\n",
            "intermediate_spatial_dim tensor([  1, 249, 249])\n",
            "processed_label torch.Size([1, 256, 256])\n",
            "unsqueeze torch.Size([1, 1, 1, 256, 256])\n"
          ]
        },
        {
          "name": "stderr",
          "output_type": "stream",
          "text": [
            " 27%|██▋       | 62/228 [00:06<00:23,  7.06it/s]"
          ]
        },
        {
          "name": "stdout",
          "output_type": "stream",
          "text": [
            "intermediate_spatial_dim tensor([  1, 512, 512])\n",
            "processed_label torch.Size([1, 256, 256])\n",
            "unsqueeze torch.Size([1, 1, 1, 256, 256])\n",
            "intermediate_spatial_dim tensor([  1, 512, 512])\n",
            "processed_label torch.Size([1, 256, 256])\n",
            "unsqueeze torch.Size([1, 1, 1, 256, 256])\n",
            "intermediate_spatial_dim tensor([  1, 250, 250])\n",
            "processed_label torch.Size([1, 256, 256])\n",
            "unsqueeze torch.Size([1, 1, 1, 256, 256])\n",
            "intermediate_spatial_dim tensor([  1, 249, 249])\n",
            "processed_label torch.Size([1, 256, 256])\n",
            "unsqueeze torch.Size([1, 1, 1, 256, 256])\n",
            "intermediate_spatial_dim tensor([  1, 512, 512])\n",
            "processed_label torch.Size([1, 256, 256])\n",
            "unsqueeze torch.Size([1, 1, 1, 256, 256])\n",
            "intermediate_spatial_dim tensor([  1, 512, 512])\n",
            "processed_label torch.Size([1, 256, 256])\n",
            "unsqueeze torch.Size([1, 1, 1, 256, 256])\n",
            "intermediate_spatial_dim tensor([  1, 250, 250])\n",
            "processed_label torch.Size([1, 256, 256])\n",
            "unsqueeze torch.Size([1, 1, 1, 256, 256])\n",
            "intermediate_spatial_dim tensor([  1, 249, 249])\n",
            "processed_label torch.Size([1, 256, 256])\n",
            "unsqueeze torch.Size([1, 1, 1, 256, 256])\n"
          ]
        },
        {
          "name": "stderr",
          "output_type": "stream",
          "text": [
            " 28%|██▊       | 64/228 [00:06<00:22,  7.16it/s]"
          ]
        },
        {
          "name": "stdout",
          "output_type": "stream",
          "text": [
            "intermediate_spatial_dim tensor([  1, 512, 512])\n",
            "processed_label torch.Size([1, 256, 256])\n",
            "unsqueeze torch.Size([1, 1, 1, 256, 256])\n",
            "intermediate_spatial_dim tensor([  1, 512, 512])\n",
            "processed_label torch.Size([1, 256, 256])\n",
            "unsqueeze torch.Size([1, 1, 1, 256, 256])\n",
            "intermediate_spatial_dim tensor([  1, 250, 250])\n",
            "processed_label torch.Size([1, 256, 256])\n",
            "unsqueeze torch.Size([1, 1, 1, 256, 256])\n",
            "intermediate_spatial_dim tensor([  1, 249, 249])\n",
            "processed_label torch.Size([1, 256, 256])\n",
            "unsqueeze torch.Size([1, 1, 1, 256, 256])\n",
            "intermediate_spatial_dim tensor([  1, 512, 512])\n",
            "processed_label torch.Size([1, 256, 256])\n",
            "unsqueeze torch.Size([1, 1, 1, 256, 256])\n",
            "intermediate_spatial_dim tensor([  1, 512, 512])\n",
            "processed_label torch.Size([1, 256, 256])\n",
            "unsqueeze torch.Size([1, 1, 1, 256, 256])\n",
            "intermediate_spatial_dim tensor([  1, 250, 250])\n",
            "processed_label torch.Size([1, 256, 256])\n",
            "unsqueeze torch.Size([1, 1, 1, 256, 256])\n",
            "intermediate_spatial_dim tensor([  1, 249, 249])\n",
            "processed_label torch.Size([1, 256, 256])\n",
            "unsqueeze torch.Size([1, 1, 1, 256, 256])\n"
          ]
        },
        {
          "name": "stderr",
          "output_type": "stream",
          "text": [
            " 29%|██▉       | 66/228 [00:06<00:22,  7.22it/s]"
          ]
        },
        {
          "name": "stdout",
          "output_type": "stream",
          "text": [
            "intermediate_spatial_dim tensor([  1, 512, 512])\n",
            "processed_label torch.Size([1, 256, 256])\n",
            "unsqueeze torch.Size([1, 1, 1, 256, 256])\n",
            "intermediate_spatial_dim tensor([  1, 512, 512])\n",
            "processed_label torch.Size([1, 256, 256])\n",
            "unsqueeze torch.Size([1, 1, 1, 256, 256])\n",
            "intermediate_spatial_dim tensor([  1, 250, 250])\n",
            "processed_label torch.Size([1, 256, 256])\n",
            "unsqueeze torch.Size([1, 1, 1, 256, 256])\n",
            "intermediate_spatial_dim tensor([  1, 249, 249])\n",
            "processed_label torch.Size([1, 256, 256])\n",
            "unsqueeze torch.Size([1, 1, 1, 256, 256])\n",
            "intermediate_spatial_dim tensor([  1, 512, 512])\n",
            "processed_label torch.Size([1, 256, 256])\n",
            "unsqueeze torch.Size([1, 1, 1, 256, 256])\n",
            "intermediate_spatial_dim tensor([  1, 512, 512])\n",
            "processed_label torch.Size([1, 256, 256])\n",
            "unsqueeze torch.Size([1, 1, 1, 256, 256])\n",
            "intermediate_spatial_dim tensor([  1, 250, 250])\n",
            "processed_label torch.Size([1, 256, 256])\n",
            "unsqueeze torch.Size([1, 1, 1, 256, 256])\n",
            "intermediate_spatial_dim tensor([  1, 249, 249])\n",
            "processed_label torch.Size([1, 256, 256])\n",
            "unsqueeze torch.Size([1, 1, 1, 256, 256])\n"
          ]
        },
        {
          "name": "stderr",
          "output_type": "stream",
          "text": [
            " 30%|██▉       | 68/228 [00:07<00:21,  7.36it/s]"
          ]
        },
        {
          "name": "stdout",
          "output_type": "stream",
          "text": [
            "intermediate_spatial_dim tensor([  1, 512, 512])\n",
            "processed_label torch.Size([1, 256, 256])\n",
            "unsqueeze torch.Size([1, 1, 1, 256, 256])\n",
            "intermediate_spatial_dim tensor([  1, 512, 512])\n",
            "processed_label torch.Size([1, 256, 256])\n",
            "unsqueeze torch.Size([1, 1, 1, 256, 256])\n",
            "intermediate_spatial_dim tensor([  1, 250, 250])\n",
            "processed_label torch.Size([1, 256, 256])\n",
            "unsqueeze torch.Size([1, 1, 1, 256, 256])\n",
            "intermediate_spatial_dim tensor([  1, 249, 249])\n",
            "processed_label torch.Size([1, 256, 256])\n",
            "unsqueeze torch.Size([1, 1, 1, 256, 256])\n",
            "intermediate_spatial_dim tensor([  1, 512, 512])\n",
            "processed_label torch.Size([1, 256, 256])\n",
            "unsqueeze torch.Size([1, 1, 1, 256, 256])\n",
            "intermediate_spatial_dim tensor([  1, 512, 512])\n",
            "processed_label torch.Size([1, 256, 256])\n",
            "unsqueeze torch.Size([1, 1, 1, 256, 256])\n",
            "intermediate_spatial_dim tensor([  1, 250, 250])\n",
            "processed_label torch.Size([1, 256, 256])\n",
            "unsqueeze torch.Size([1, 1, 1, 256, 256])\n",
            "intermediate_spatial_dim tensor([  1, 249, 249])\n",
            "processed_label torch.Size([1, 256, 256])\n",
            "unsqueeze torch.Size([1, 1, 1, 256, 256])\n"
          ]
        },
        {
          "name": "stderr",
          "output_type": "stream",
          "text": [
            " 31%|███       | 70/228 [00:07<00:21,  7.25it/s]"
          ]
        },
        {
          "name": "stdout",
          "output_type": "stream",
          "text": [
            "intermediate_spatial_dim tensor([  1, 512, 512])\n",
            "processed_label torch.Size([1, 256, 256])\n",
            "unsqueeze torch.Size([1, 1, 1, 256, 256])\n",
            "intermediate_spatial_dim tensor([  1, 512, 512])\n",
            "processed_label torch.Size([1, 256, 256])\n",
            "unsqueeze torch.Size([1, 1, 1, 256, 256])\n",
            "intermediate_spatial_dim tensor([  1, 250, 250])\n",
            "processed_label torch.Size([1, 256, 256])\n",
            "unsqueeze torch.Size([1, 1, 1, 256, 256])\n",
            "intermediate_spatial_dim tensor([  1, 249, 249])\n",
            "processed_label torch.Size([1, 256, 256])\n",
            "unsqueeze torch.Size([1, 1, 1, 256, 256])\n",
            "intermediate_spatial_dim tensor([  1, 512, 512])\n",
            "processed_label torch.Size([1, 256, 256])\n",
            "unsqueeze torch.Size([1, 1, 1, 256, 256])\n",
            "intermediate_spatial_dim tensor([  1, 512, 512])\n",
            "processed_label torch.Size([1, 256, 256])\n",
            "unsqueeze torch.Size([1, 1, 1, 256, 256])\n",
            "intermediate_spatial_dim tensor([  1, 250, 250])\n",
            "processed_label torch.Size([1, 256, 256])\n",
            "unsqueeze torch.Size([1, 1, 1, 256, 256])\n"
          ]
        },
        {
          "name": "stderr",
          "output_type": "stream",
          "text": [
            " 31%|███       | 71/228 [00:07<00:21,  7.23it/s]"
          ]
        },
        {
          "name": "stdout",
          "output_type": "stream",
          "text": [
            "intermediate_spatial_dim tensor([  1, 249, 249])\n",
            "processed_label torch.Size([1, 256, 256])\n",
            "unsqueeze torch.Size([1, 1, 1, 256, 256])\n",
            "intermediate_spatial_dim tensor([  1, 512, 512])\n",
            "processed_label torch.Size([1, 256, 256])\n",
            "unsqueeze torch.Size([1, 1, 1, 256, 256])\n",
            "intermediate_spatial_dim tensor([  1, 512, 512])\n",
            "processed_label torch.Size([1, 256, 256])\n",
            "unsqueeze torch.Size([1, 1, 1, 256, 256])\n",
            "intermediate_spatial_dim tensor([  1, 250, 250])\n",
            "processed_label torch.Size([1, 256, 256])\n",
            "unsqueeze torch.Size([1, 1, 1, 256, 256])\n",
            "intermediate_spatial_dim tensor([  1, 249, 249])\n",
            "processed_label torch.Size([1, 256, 256])\n",
            "unsqueeze torch.Size([1, 1, 1, 256, 256])\n"
          ]
        },
        {
          "name": "stderr",
          "output_type": "stream",
          "text": [
            " 32%|███▏      | 73/228 [00:07<00:20,  7.43it/s]"
          ]
        },
        {
          "name": "stdout",
          "output_type": "stream",
          "text": [
            "intermediate_spatial_dim tensor([  1, 512, 512])\n",
            "processed_label torch.Size([1, 256, 256])\n",
            "unsqueeze torch.Size([1, 1, 1, 256, 256])\n",
            "intermediate_spatial_dim tensor([  1, 512, 512])\n",
            "processed_label torch.Size([1, 256, 256])\n",
            "unsqueeze torch.Size([1, 1, 1, 256, 256])\n",
            "intermediate_spatial_dim tensor([  1, 250, 250])\n",
            "processed_label torch.Size([1, 256, 256])\n",
            "unsqueeze torch.Size([1, 1, 1, 256, 256])\n",
            "intermediate_spatial_dim tensor([  1, 249, 249])\n",
            "processed_label torch.Size([1, 256, 256])\n",
            "unsqueeze torch.Size([1, 1, 1, 256, 256])\n",
            "intermediate_spatial_dim tensor([  1, 512, 512])\n",
            "processed_label torch.Size([1, 256, 256])\n",
            "unsqueeze torch.Size([1, 1, 1, 256, 256])\n",
            "intermediate_spatial_dim tensor([  1, 512, 512])\n",
            "processed_label torch.Size([1, 256, 256])\n",
            "unsqueeze torch.Size([1, 1, 1, 256, 256])\n",
            "intermediate_spatial_dim tensor([  1, 250, 250])\n",
            "processed_label torch.Size([1, 256, 256])\n",
            "unsqueeze torch.Size([1, 1, 1, 256, 256])\n",
            "intermediate_spatial_dim tensor([  1, 249, 249])\n",
            "processed_label torch.Size([1, 256, 256])\n",
            "unsqueeze torch.Size([1, 1, 1, 256, 256])\n"
          ]
        },
        {
          "name": "stderr",
          "output_type": "stream",
          "text": [
            " 33%|███▎      | 75/228 [00:08<00:20,  7.54it/s]"
          ]
        },
        {
          "name": "stdout",
          "output_type": "stream",
          "text": [
            "intermediate_spatial_dim tensor([  1, 512, 512])\n",
            "processed_label torch.Size([1, 256, 256])\n",
            "unsqueeze torch.Size([1, 1, 1, 256, 256])\n",
            "intermediate_spatial_dim tensor([  1, 512, 512])\n",
            "processed_label torch.Size([1, 256, 256])\n",
            "unsqueeze torch.Size([1, 1, 1, 256, 256])\n",
            "intermediate_spatial_dim tensor([  1, 250, 250])\n",
            "processed_label torch.Size([1, 256, 256])\n",
            "unsqueeze torch.Size([1, 1, 1, 256, 256])\n",
            "intermediate_spatial_dim tensor([  1, 249, 249])\n",
            "processed_label torch.Size([1, 256, 256])\n",
            "unsqueeze torch.Size([1, 1, 1, 256, 256])\n",
            "intermediate_spatial_dim tensor([  1, 512, 512])\n",
            "processed_label torch.Size([1, 256, 256])\n",
            "unsqueeze torch.Size([1, 1, 1, 256, 256])\n",
            "intermediate_spatial_dim tensor([  1, 512, 512])\n",
            "processed_label torch.Size([1, 256, 256])\n",
            "unsqueeze torch.Size([1, 1, 1, 256, 256])\n",
            "intermediate_spatial_dim tensor([  1, 250, 250])\n",
            "processed_label torch.Size([1, 256, 256])\n",
            "unsqueeze torch.Size([1, 1, 1, 256, 256])\n",
            "intermediate_spatial_dim tensor([  1, 249, 249])\n",
            "processed_label torch.Size([1, 256, 256])\n",
            "unsqueeze torch.Size([1, 1, 1, 256, 256])\n"
          ]
        },
        {
          "name": "stderr",
          "output_type": "stream",
          "text": [
            " 34%|███▍      | 77/228 [00:08<00:20,  7.44it/s]"
          ]
        },
        {
          "name": "stdout",
          "output_type": "stream",
          "text": [
            "intermediate_spatial_dim tensor([  1, 512, 512])\n",
            "processed_label torch.Size([1, 256, 256])\n",
            "unsqueeze torch.Size([1, 1, 1, 256, 256])\n",
            "intermediate_spatial_dim tensor([  1, 512, 512])\n",
            "processed_label torch.Size([1, 256, 256])\n",
            "unsqueeze torch.Size([1, 1, 1, 256, 256])\n",
            "intermediate_spatial_dim tensor([  1, 250, 250])\n",
            "processed_label torch.Size([1, 256, 256])\n",
            "unsqueeze torch.Size([1, 1, 1, 256, 256])\n",
            "intermediate_spatial_dim tensor([  1, 249, 249])\n",
            "processed_label torch.Size([1, 256, 256])\n",
            "unsqueeze torch.Size([1, 1, 1, 256, 256])\n",
            "intermediate_spatial_dim tensor([  1, 512, 512])\n",
            "processed_label torch.Size([1, 256, 256])\n",
            "unsqueeze torch.Size([1, 1, 1, 256, 256])\n",
            "intermediate_spatial_dim tensor([  1, 512, 512])\n",
            "processed_label torch.Size([1, 256, 256])\n",
            "unsqueeze torch.Size([1, 1, 1, 256, 256])\n",
            "intermediate_spatial_dim tensor([  1, 250, 250])\n",
            "processed_label torch.Size([1, 256, 256])\n",
            "unsqueeze torch.Size([1, 1, 1, 256, 256])\n",
            "intermediate_spatial_dim tensor([  1, 249, 249])\n",
            "processed_label torch.Size([1, 256, 256])\n",
            "unsqueeze torch.Size([1, 1, 1, 256, 256])\n"
          ]
        },
        {
          "name": "stderr",
          "output_type": "stream",
          "text": [
            " 35%|███▍      | 79/228 [00:08<00:20,  7.19it/s]"
          ]
        },
        {
          "name": "stdout",
          "output_type": "stream",
          "text": [
            "intermediate_spatial_dim tensor([  1, 512, 512])\n",
            "processed_label torch.Size([1, 256, 256])\n",
            "unsqueeze torch.Size([1, 1, 1, 256, 256])\n",
            "intermediate_spatial_dim tensor([  1, 512, 512])\n",
            "processed_label torch.Size([1, 256, 256])\n",
            "unsqueeze torch.Size([1, 1, 1, 256, 256])\n",
            "intermediate_spatial_dim tensor([  1, 250, 250])\n",
            "processed_label torch.Size([1, 256, 256])\n",
            "unsqueeze torch.Size([1, 1, 1, 256, 256])\n",
            "intermediate_spatial_dim tensor([  1, 249, 249])\n",
            "processed_label torch.Size([1, 256, 256])\n",
            "unsqueeze torch.Size([1, 1, 1, 256, 256])\n",
            "intermediate_spatial_dim tensor([  1, 512, 512])\n",
            "processed_label torch.Size([1, 256, 256])\n",
            "unsqueeze torch.Size([1, 1, 1, 256, 256])\n",
            "intermediate_spatial_dim tensor([  1, 512, 512])\n",
            "processed_label torch.Size([1, 256, 256])\n",
            "unsqueeze torch.Size([1, 1, 1, 256, 256])\n",
            "intermediate_spatial_dim tensor([  1, 250, 250])\n",
            "processed_label torch.Size([1, 256, 256])\n",
            "unsqueeze torch.Size([1, 1, 1, 256, 256])\n"
          ]
        },
        {
          "name": "stderr",
          "output_type": "stream",
          "text": [
            " 35%|███▌      | 80/228 [00:08<00:21,  6.91it/s]"
          ]
        },
        {
          "name": "stdout",
          "output_type": "stream",
          "text": [
            "intermediate_spatial_dim tensor([  1, 249, 249])\n",
            "processed_label torch.Size([1, 256, 256])\n",
            "unsqueeze torch.Size([1, 1, 1, 256, 256])\n",
            "intermediate_spatial_dim tensor([  1, 512, 512])\n",
            "processed_label torch.Size([1, 256, 256])\n",
            "unsqueeze torch.Size([1, 1, 1, 256, 256])\n",
            "intermediate_spatial_dim tensor([  1, 512, 512])\n",
            "processed_label torch.Size([1, 256, 256])\n",
            "unsqueeze torch.Size([1, 1, 1, 256, 256])\n",
            "intermediate_spatial_dim tensor([  1, 250, 250])\n",
            "processed_label torch.Size([1, 256, 256])\n",
            "unsqueeze torch.Size([1, 1, 1, 256, 256])\n",
            "intermediate_spatial_dim tensor([  1, 249, 249])\n",
            "processed_label torch.Size([1, 256, 256])\n",
            "unsqueeze torch.Size([1, 1, 1, 256, 256])\n"
          ]
        },
        {
          "name": "stderr",
          "output_type": "stream",
          "text": [
            " 36%|███▌      | 82/228 [00:09<00:22,  6.56it/s]"
          ]
        },
        {
          "name": "stdout",
          "output_type": "stream",
          "text": [
            "intermediate_spatial_dim tensor([  1, 512, 512])\n",
            "processed_label torch.Size([1, 256, 256])\n",
            "unsqueeze torch.Size([1, 1, 1, 256, 256])\n",
            "intermediate_spatial_dim tensor([  1, 512, 512])\n",
            "processed_label torch.Size([1, 256, 256])\n",
            "unsqueeze torch.Size([1, 1, 1, 256, 256])\n",
            "intermediate_spatial_dim tensor([  1, 250, 250])\n",
            "processed_label torch.Size([1, 256, 256])\n",
            "unsqueeze torch.Size([1, 1, 1, 256, 256])\n",
            "intermediate_spatial_dim tensor([  1, 249, 249])\n",
            "processed_label torch.Size([1, 256, 256])\n",
            "unsqueeze torch.Size([1, 1, 1, 256, 256])\n",
            "intermediate_spatial_dim tensor([  1, 512, 512])\n",
            "processed_label torch.Size([1, 256, 256])\n",
            "unsqueeze torch.Size([1, 1, 1, 256, 256])\n",
            "intermediate_spatial_dim tensor([  1, 512, 512])\n",
            "processed_label torch.Size([1, 256, 256])\n",
            "unsqueeze torch.Size([1, 1, 1, 256, 256])\n",
            "intermediate_spatial_dim tensor([  1, 250, 250])\n",
            "processed_label torch.Size([1, 256, 256])\n",
            "unsqueeze torch.Size([1, 1, 1, 256, 256])\n"
          ]
        },
        {
          "name": "stderr",
          "output_type": "stream",
          "text": [
            " 36%|███▋      | 83/228 [00:09<00:22,  6.54it/s]"
          ]
        },
        {
          "name": "stdout",
          "output_type": "stream",
          "text": [
            "intermediate_spatial_dim tensor([  1, 249, 249])\n",
            "processed_label torch.Size([1, 256, 256])\n",
            "unsqueeze torch.Size([1, 1, 1, 256, 256])\n",
            "intermediate_spatial_dim tensor([  1, 512, 512])\n",
            "processed_label torch.Size([1, 256, 256])\n",
            "unsqueeze torch.Size([1, 1, 1, 256, 256])\n",
            "intermediate_spatial_dim tensor([  1, 512, 512])\n",
            "processed_label torch.Size([1, 256, 256])\n",
            "unsqueeze torch.Size([1, 1, 1, 256, 256])\n",
            "intermediate_spatial_dim tensor([  1, 250, 250])\n",
            "processed_label torch.Size([1, 256, 256])\n",
            "unsqueeze torch.Size([1, 1, 1, 256, 256])\n",
            "intermediate_spatial_dim tensor([  1, 249, 249])\n",
            "processed_label torch.Size([1, 256, 256])\n",
            "unsqueeze torch.Size([1, 1, 1, 256, 256])\n"
          ]
        },
        {
          "name": "stderr",
          "output_type": "stream",
          "text": [
            " 37%|███▋      | 85/228 [00:09<00:20,  6.90it/s]"
          ]
        },
        {
          "name": "stdout",
          "output_type": "stream",
          "text": [
            "intermediate_spatial_dim tensor([  1, 512, 512])\n",
            "processed_label torch.Size([1, 256, 256])\n",
            "unsqueeze torch.Size([1, 1, 1, 256, 256])\n",
            "intermediate_spatial_dim tensor([  1, 512, 512])\n",
            "processed_label torch.Size([1, 256, 256])\n",
            "unsqueeze torch.Size([1, 1, 1, 256, 256])\n",
            "intermediate_spatial_dim tensor([  1, 250, 250])\n",
            "processed_label torch.Size([1, 256, 256])\n",
            "unsqueeze torch.Size([1, 1, 1, 256, 256])\n",
            "intermediate_spatial_dim tensor([  1, 249, 249])\n",
            "processed_label torch.Size([1, 256, 256])\n",
            "unsqueeze torch.Size([1, 1, 1, 256, 256])\n",
            "intermediate_spatial_dim tensor([  1, 512, 512])\n",
            "processed_label torch.Size([1, 256, 256])\n",
            "unsqueeze torch.Size([1, 1, 1, 256, 256])\n",
            "intermediate_spatial_dim tensor([  1, 512, 512])\n",
            "processed_label torch.Size([1, 256, 256])\n",
            "unsqueeze torch.Size([1, 1, 1, 256, 256])\n",
            "intermediate_spatial_dim tensor([  1, 250, 250])\n",
            "processed_label torch.Size([1, 256, 256])\n",
            "unsqueeze torch.Size([1, 1, 1, 256, 256])\n",
            "intermediate_spatial_dim tensor([  1, 249, 249])\n",
            "processed_label torch.Size([1, 256, 256])\n",
            "unsqueeze torch.Size([1, 1, 1, 256, 256])\n"
          ]
        },
        {
          "name": "stderr",
          "output_type": "stream",
          "text": [
            " 38%|███▊      | 87/228 [00:09<00:20,  6.92it/s]"
          ]
        },
        {
          "name": "stdout",
          "output_type": "stream",
          "text": [
            "intermediate_spatial_dim tensor([  1, 512, 512])\n",
            "processed_label torch.Size([1, 256, 256])\n",
            "unsqueeze torch.Size([1, 1, 1, 256, 256])\n",
            "intermediate_spatial_dim tensor([  1, 512, 512])\n",
            "processed_label torch.Size([1, 256, 256])\n",
            "unsqueeze torch.Size([1, 1, 1, 256, 256])\n",
            "intermediate_spatial_dim tensor([  1, 250, 250])\n",
            "processed_label torch.Size([1, 256, 256])\n",
            "unsqueeze torch.Size([1, 1, 1, 256, 256])\n",
            "intermediate_spatial_dim tensor([  1, 249, 249])\n",
            "processed_label torch.Size([1, 256, 256])\n",
            "unsqueeze torch.Size([1, 1, 1, 256, 256])\n",
            "intermediate_spatial_dim tensor([  1, 512, 512])\n",
            "processed_label torch.Size([1, 256, 256])\n",
            "unsqueeze torch.Size([1, 1, 1, 256, 256])\n",
            "intermediate_spatial_dim tensor([  1, 512, 512])\n",
            "processed_label torch.Size([1, 256, 256])\n",
            "unsqueeze torch.Size([1, 1, 1, 256, 256])\n",
            "intermediate_spatial_dim tensor([  1, 250, 250])\n",
            "processed_label torch.Size([1, 256, 256])\n",
            "unsqueeze torch.Size([1, 1, 1, 256, 256])\n"
          ]
        },
        {
          "name": "stderr",
          "output_type": "stream",
          "text": [
            " 39%|███▊      | 88/228 [00:10<00:19,  7.07it/s]"
          ]
        },
        {
          "name": "stdout",
          "output_type": "stream",
          "text": [
            "intermediate_spatial_dim tensor([  1, 249, 249])\n",
            "processed_label torch.Size([1, 256, 256])\n",
            "unsqueeze torch.Size([1, 1, 1, 256, 256])\n",
            "intermediate_spatial_dim tensor([  1, 512, 512])\n",
            "processed_label torch.Size([1, 256, 256])\n",
            "unsqueeze torch.Size([1, 1, 1, 256, 256])\n",
            "intermediate_spatial_dim tensor([  1, 512, 512])\n",
            "processed_label torch.Size([1, 256, 256])\n",
            "unsqueeze torch.Size([1, 1, 1, 256, 256])\n",
            "intermediate_spatial_dim tensor([  1, 250, 250])\n",
            "processed_label torch.Size([1, 256, 256])\n",
            "unsqueeze torch.Size([1, 1, 1, 256, 256])\n",
            "intermediate_spatial_dim tensor([  1, 249, 249])\n",
            "processed_label torch.Size([1, 256, 256])\n",
            "unsqueeze torch.Size([1, 1, 1, 256, 256])\n"
          ]
        },
        {
          "name": "stderr",
          "output_type": "stream",
          "text": [
            " 39%|███▉      | 90/228 [00:10<00:18,  7.33it/s]"
          ]
        },
        {
          "name": "stdout",
          "output_type": "stream",
          "text": [
            "intermediate_spatial_dim tensor([  1, 512, 512])\n",
            "processed_label torch.Size([1, 256, 256])\n",
            "unsqueeze torch.Size([1, 1, 1, 256, 256])\n",
            "intermediate_spatial_dim tensor([  1, 512, 512])\n",
            "processed_label torch.Size([1, 256, 256])\n",
            "unsqueeze torch.Size([1, 1, 1, 256, 256])\n",
            "intermediate_spatial_dim tensor([  1, 250, 250])\n",
            "processed_label torch.Size([1, 256, 256])\n",
            "unsqueeze torch.Size([1, 1, 1, 256, 256])\n",
            "intermediate_spatial_dim tensor([  1, 249, 249])\n",
            "processed_label torch.Size([1, 256, 256])\n",
            "unsqueeze torch.Size([1, 1, 1, 256, 256])\n",
            "intermediate_spatial_dim tensor([  1, 512, 512])\n",
            "processed_label torch.Size([1, 256, 256])\n",
            "unsqueeze torch.Size([1, 1, 1, 256, 256])\n",
            "intermediate_spatial_dim tensor([  1, 512, 512])\n",
            "processed_label torch.Size([1, 256, 256])\n",
            "unsqueeze torch.Size([1, 1, 1, 256, 256])\n",
            "intermediate_spatial_dim tensor([  1, 250, 250])\n",
            "processed_label torch.Size([1, 256, 256])\n",
            "unsqueeze torch.Size([1, 1, 1, 256, 256])\n",
            "intermediate_spatial_dim tensor([  1, 249, 249])\n",
            "processed_label torch.Size([1, 256, 256])\n",
            "unsqueeze torch.Size([1, 1, 1, 256, 256])\n"
          ]
        },
        {
          "name": "stderr",
          "output_type": "stream",
          "text": [
            " 40%|████      | 92/228 [00:10<00:18,  7.45it/s]"
          ]
        },
        {
          "name": "stdout",
          "output_type": "stream",
          "text": [
            "intermediate_spatial_dim tensor([  1, 512, 512])\n",
            "processed_label torch.Size([1, 256, 256])\n",
            "unsqueeze torch.Size([1, 1, 1, 256, 256])\n",
            "intermediate_spatial_dim tensor([  1, 512, 512])\n",
            "processed_label torch.Size([1, 256, 256])\n",
            "unsqueeze torch.Size([1, 1, 1, 256, 256])\n",
            "intermediate_spatial_dim tensor([  1, 250, 250])\n",
            "processed_label torch.Size([1, 256, 256])\n",
            "unsqueeze torch.Size([1, 1, 1, 256, 256])\n",
            "intermediate_spatial_dim tensor([  1, 249, 249])\n",
            "processed_label torch.Size([1, 256, 256])\n",
            "unsqueeze torch.Size([1, 1, 1, 256, 256])\n",
            "intermediate_spatial_dim tensor([  1, 512, 512])\n",
            "processed_label torch.Size([1, 256, 256])\n",
            "unsqueeze torch.Size([1, 1, 1, 256, 256])\n",
            "intermediate_spatial_dim tensor([  1, 512, 512])\n",
            "processed_label torch.Size([1, 256, 256])\n",
            "unsqueeze torch.Size([1, 1, 1, 256, 256])\n",
            "intermediate_spatial_dim tensor([  1, 250, 250])\n",
            "processed_label torch.Size([1, 256, 256])\n",
            "unsqueeze torch.Size([1, 1, 1, 256, 256])\n",
            "intermediate_spatial_dim tensor([  1, 249, 249])\n",
            "processed_label torch.Size([1, 256, 256])\n",
            "unsqueeze torch.Size([1, 1, 1, 256, 256])\n"
          ]
        },
        {
          "name": "stderr",
          "output_type": "stream",
          "text": [
            " 41%|████      | 94/228 [00:10<00:17,  7.58it/s]"
          ]
        },
        {
          "name": "stdout",
          "output_type": "stream",
          "text": [
            "intermediate_spatial_dim tensor([  1, 512, 512])\n",
            "processed_label torch.Size([1, 256, 256])\n",
            "unsqueeze torch.Size([1, 1, 1, 256, 256])\n",
            "intermediate_spatial_dim tensor([  1, 512, 512])\n",
            "processed_label torch.Size([1, 256, 256])\n",
            "unsqueeze torch.Size([1, 1, 1, 256, 256])\n",
            "intermediate_spatial_dim tensor([  1, 250, 250])\n",
            "processed_label torch.Size([1, 256, 256])\n",
            "unsqueeze torch.Size([1, 1, 1, 256, 256])\n",
            "intermediate_spatial_dim tensor([  1, 249, 249])\n",
            "processed_label torch.Size([1, 256, 256])\n",
            "unsqueeze torch.Size([1, 1, 1, 256, 256])\n",
            "intermediate_spatial_dim tensor([  1, 512, 512])\n",
            "processed_label torch.Size([1, 256, 256])\n",
            "unsqueeze torch.Size([1, 1, 1, 256, 256])\n",
            "intermediate_spatial_dim tensor([  1, 512, 512])\n",
            "processed_label torch.Size([1, 256, 256])\n",
            "unsqueeze torch.Size([1, 1, 1, 256, 256])\n",
            "intermediate_spatial_dim tensor([  1, 250, 250])\n",
            "processed_label torch.Size([1, 256, 256])\n",
            "unsqueeze torch.Size([1, 1, 1, 256, 256])\n",
            "intermediate_spatial_dim tensor([  1, 249, 249])\n",
            "processed_label torch.Size([1, 256, 256])\n",
            "unsqueeze torch.Size([1, 1, 1, 256, 256])\n"
          ]
        },
        {
          "name": "stderr",
          "output_type": "stream",
          "text": [
            " 42%|████▏     | 96/228 [00:11<00:17,  7.61it/s]"
          ]
        },
        {
          "name": "stdout",
          "output_type": "stream",
          "text": [
            "intermediate_spatial_dim tensor([  1, 512, 512])\n",
            "processed_label torch.Size([1, 256, 256])\n",
            "unsqueeze torch.Size([1, 1, 1, 256, 256])\n",
            "intermediate_spatial_dim tensor([  1, 512, 512])\n",
            "processed_label torch.Size([1, 256, 256])\n",
            "unsqueeze torch.Size([1, 1, 1, 256, 256])\n",
            "intermediate_spatial_dim tensor([  1, 250, 250])\n",
            "processed_label torch.Size([1, 256, 256])\n",
            "unsqueeze torch.Size([1, 1, 1, 256, 256])\n",
            "intermediate_spatial_dim tensor([  1, 249, 249])\n",
            "processed_label torch.Size([1, 256, 256])\n",
            "unsqueeze torch.Size([1, 1, 1, 256, 256])\n",
            "intermediate_spatial_dim tensor([  1, 512, 512])\n",
            "processed_label torch.Size([1, 256, 256])\n",
            "unsqueeze torch.Size([1, 1, 1, 256, 256])\n",
            "intermediate_spatial_dim tensor([  1, 512, 512])\n",
            "processed_label torch.Size([1, 256, 256])\n",
            "unsqueeze torch.Size([1, 1, 1, 256, 256])\n",
            "intermediate_spatial_dim tensor([  1, 250, 250])\n",
            "processed_label torch.Size([1, 256, 256])\n",
            "unsqueeze torch.Size([1, 1, 1, 256, 256])\n",
            "intermediate_spatial_dim tensor([  1, 249, 249])\n",
            "processed_label torch.Size([1, 256, 256])\n",
            "unsqueeze torch.Size([1, 1, 1, 256, 256])\n"
          ]
        },
        {
          "name": "stderr",
          "output_type": "stream",
          "text": [
            " 43%|████▎     | 98/228 [00:11<00:17,  7.59it/s]"
          ]
        },
        {
          "name": "stdout",
          "output_type": "stream",
          "text": [
            "intermediate_spatial_dim tensor([  1, 512, 512])\n",
            "processed_label torch.Size([1, 256, 256])\n",
            "unsqueeze torch.Size([1, 1, 1, 256, 256])\n",
            "intermediate_spatial_dim tensor([  1, 512, 512])\n",
            "processed_label torch.Size([1, 256, 256])\n",
            "unsqueeze torch.Size([1, 1, 1, 256, 256])\n",
            "intermediate_spatial_dim tensor([  1, 250, 250])\n",
            "processed_label torch.Size([1, 256, 256])\n",
            "unsqueeze torch.Size([1, 1, 1, 256, 256])\n",
            "intermediate_spatial_dim tensor([  1, 249, 249])\n",
            "processed_label torch.Size([1, 256, 256])\n",
            "unsqueeze torch.Size([1, 1, 1, 256, 256])\n",
            "intermediate_spatial_dim tensor([  1, 512, 512])\n",
            "processed_label torch.Size([1, 256, 256])\n",
            "unsqueeze torch.Size([1, 1, 1, 256, 256])\n",
            "intermediate_spatial_dim tensor([  1, 512, 512])\n",
            "processed_label torch.Size([1, 256, 256])\n",
            "unsqueeze torch.Size([1, 1, 1, 256, 256])\n",
            "intermediate_spatial_dim tensor([  1, 250, 250])\n",
            "processed_label torch.Size([1, 256, 256])\n",
            "unsqueeze torch.Size([1, 1, 1, 256, 256])\n",
            "intermediate_spatial_dim tensor([  1, 249, 249])\n",
            "processed_label torch.Size([1, 256, 256])\n",
            "unsqueeze torch.Size([1, 1, 1, 256, 256])\n"
          ]
        },
        {
          "name": "stderr",
          "output_type": "stream",
          "text": [
            " 44%|████▍     | 100/228 [00:11<00:16,  7.68it/s]"
          ]
        },
        {
          "name": "stdout",
          "output_type": "stream",
          "text": [
            "intermediate_spatial_dim tensor([  1, 512, 512])\n",
            "processed_label torch.Size([1, 256, 256])\n",
            "unsqueeze torch.Size([1, 1, 1, 256, 256])\n",
            "intermediate_spatial_dim tensor([  1, 512, 512])\n",
            "processed_label torch.Size([1, 256, 256])\n",
            "unsqueeze torch.Size([1, 1, 1, 256, 256])\n",
            "intermediate_spatial_dim tensor([  1, 250, 250])\n",
            "processed_label torch.Size([1, 256, 256])\n",
            "unsqueeze torch.Size([1, 1, 1, 256, 256])\n",
            "intermediate_spatial_dim tensor([  1, 249, 249])\n",
            "processed_label torch.Size([1, 256, 256])\n",
            "unsqueeze torch.Size([1, 1, 1, 256, 256])\n",
            "intermediate_spatial_dim tensor([  1, 512, 512])\n",
            "processed_label torch.Size([1, 256, 256])\n",
            "unsqueeze torch.Size([1, 1, 1, 256, 256])\n",
            "intermediate_spatial_dim tensor([  1, 512, 512])\n",
            "processed_label torch.Size([1, 256, 256])\n",
            "unsqueeze torch.Size([1, 1, 1, 256, 256])\n",
            "intermediate_spatial_dim tensor([  1, 250, 250])\n",
            "processed_label torch.Size([1, 256, 256])\n",
            "unsqueeze torch.Size([1, 1, 1, 256, 256])\n",
            "intermediate_spatial_dim tensor([  1, 249, 249])\n",
            "processed_label torch.Size([1, 256, 256])\n",
            "unsqueeze torch.Size([1, 1, 1, 256, 256])\n"
          ]
        },
        {
          "name": "stderr",
          "output_type": "stream",
          "text": [
            " 45%|████▍     | 102/228 [00:11<00:16,  7.62it/s]"
          ]
        },
        {
          "name": "stdout",
          "output_type": "stream",
          "text": [
            "intermediate_spatial_dim tensor([  1, 512, 512])\n",
            "processed_label torch.Size([1, 256, 256])\n",
            "unsqueeze torch.Size([1, 1, 1, 256, 256])\n",
            "intermediate_spatial_dim tensor([  1, 512, 512])\n",
            "processed_label torch.Size([1, 256, 256])\n",
            "unsqueeze torch.Size([1, 1, 1, 256, 256])\n",
            "intermediate_spatial_dim tensor([  1, 250, 250])\n",
            "processed_label torch.Size([1, 256, 256])\n",
            "unsqueeze torch.Size([1, 1, 1, 256, 256])\n",
            "intermediate_spatial_dim tensor([  1, 249, 249])\n",
            "processed_label torch.Size([1, 256, 256])\n",
            "unsqueeze torch.Size([1, 1, 1, 256, 256])\n",
            "intermediate_spatial_dim tensor([  1, 512, 512])\n",
            "processed_label torch.Size([1, 256, 256])\n",
            "unsqueeze torch.Size([1, 1, 1, 256, 256])\n",
            "intermediate_spatial_dim tensor([  1, 512, 512])\n",
            "processed_label torch.Size([1, 256, 256])\n",
            "unsqueeze torch.Size([1, 1, 1, 256, 256])\n",
            "intermediate_spatial_dim tensor([  1, 250, 250])\n",
            "processed_label torch.Size([1, 256, 256])\n",
            "unsqueeze torch.Size([1, 1, 1, 256, 256])\n",
            "intermediate_spatial_dim tensor([  1, 249, 249])\n",
            "processed_label torch.Size([1, 256, 256])\n",
            "unsqueeze torch.Size([1, 1, 1, 256, 256])\n"
          ]
        },
        {
          "name": "stderr",
          "output_type": "stream",
          "text": [
            " 46%|████▌     | 104/228 [00:12<00:16,  7.37it/s]"
          ]
        },
        {
          "name": "stdout",
          "output_type": "stream",
          "text": [
            "intermediate_spatial_dim tensor([  1, 512, 512])\n",
            "processed_label torch.Size([1, 256, 256])\n",
            "unsqueeze torch.Size([1, 1, 1, 256, 256])\n",
            "intermediate_spatial_dim tensor([  1, 512, 512])\n",
            "processed_label torch.Size([1, 256, 256])\n",
            "unsqueeze torch.Size([1, 1, 1, 256, 256])\n",
            "intermediate_spatial_dim tensor([  1, 250, 250])\n",
            "processed_label torch.Size([1, 256, 256])\n",
            "unsqueeze torch.Size([1, 1, 1, 256, 256])\n",
            "intermediate_spatial_dim tensor([  1, 249, 249])\n",
            "processed_label torch.Size([1, 256, 256])\n",
            "unsqueeze torch.Size([1, 1, 1, 256, 256])\n",
            "intermediate_spatial_dim tensor([  1, 512, 512])\n",
            "processed_label torch.Size([1, 256, 256])\n",
            "unsqueeze torch.Size([1, 1, 1, 256, 256])\n",
            "intermediate_spatial_dim tensor([  1, 512, 512])\n",
            "processed_label torch.Size([1, 256, 256])\n",
            "unsqueeze torch.Size([1, 1, 1, 256, 256])\n",
            "intermediate_spatial_dim tensor([  1, 250, 250])\n",
            "processed_label torch.Size([1, 256, 256])\n",
            "unsqueeze torch.Size([1, 1, 1, 256, 256])\n",
            "intermediate_spatial_dim tensor([  1, 249, 249])\n",
            "processed_label torch.Size([1, 256, 256])\n",
            "unsqueeze torch.Size([1, 1, 1, 256, 256])\n"
          ]
        },
        {
          "name": "stderr",
          "output_type": "stream",
          "text": [
            " 46%|████▋     | 106/228 [00:12<00:17,  7.17it/s]"
          ]
        },
        {
          "name": "stdout",
          "output_type": "stream",
          "text": [
            "intermediate_spatial_dim tensor([  1, 512, 512])\n",
            "processed_label torch.Size([1, 256, 256])\n",
            "unsqueeze torch.Size([1, 1, 1, 256, 256])\n",
            "intermediate_spatial_dim tensor([  1, 512, 512])\n",
            "processed_label torch.Size([1, 256, 256])\n",
            "unsqueeze torch.Size([1, 1, 1, 256, 256])\n",
            "intermediate_spatial_dim tensor([  1, 250, 250])\n",
            "processed_label torch.Size([1, 256, 256])\n",
            "unsqueeze torch.Size([1, 1, 1, 256, 256])\n",
            "intermediate_spatial_dim tensor([  1, 249, 249])\n",
            "processed_label torch.Size([1, 256, 256])\n",
            "unsqueeze torch.Size([1, 1, 1, 256, 256])\n",
            "intermediate_spatial_dim tensor([  1, 512, 512])\n",
            "processed_label torch.Size([1, 256, 256])\n",
            "unsqueeze torch.Size([1, 1, 1, 256, 256])\n",
            "intermediate_spatial_dim tensor([  1, 512, 512])\n",
            "processed_label torch.Size([1, 256, 256])\n",
            "unsqueeze torch.Size([1, 1, 1, 256, 256])\n",
            "intermediate_spatial_dim tensor([  1, 250, 250])\n",
            "processed_label torch.Size([1, 256, 256])\n",
            "unsqueeze torch.Size([1, 1, 1, 256, 256])\n",
            "intermediate_spatial_dim tensor([  1, 249, 249])\n",
            "processed_label torch.Size([1, 256, 256])\n",
            "unsqueeze torch.Size([1, 1, 1, 256, 256])\n"
          ]
        },
        {
          "name": "stderr",
          "output_type": "stream",
          "text": [
            " 47%|████▋     | 108/228 [00:12<00:16,  7.28it/s]"
          ]
        },
        {
          "name": "stdout",
          "output_type": "stream",
          "text": [
            "intermediate_spatial_dim tensor([  1, 512, 512])\n",
            "processed_label torch.Size([1, 256, 256])\n",
            "unsqueeze torch.Size([1, 1, 1, 256, 256])\n",
            "intermediate_spatial_dim tensor([  1, 512, 512])\n",
            "processed_label torch.Size([1, 256, 256])\n",
            "unsqueeze torch.Size([1, 1, 1, 256, 256])\n",
            "intermediate_spatial_dim tensor([  1, 250, 250])\n",
            "processed_label torch.Size([1, 256, 256])\n",
            "unsqueeze torch.Size([1, 1, 1, 256, 256])\n",
            "intermediate_spatial_dim tensor([  1, 249, 249])\n",
            "processed_label torch.Size([1, 256, 256])\n",
            "unsqueeze torch.Size([1, 1, 1, 256, 256])\n",
            "intermediate_spatial_dim tensor([  1, 512, 512])\n",
            "processed_label torch.Size([1, 256, 256])\n",
            "unsqueeze torch.Size([1, 1, 1, 256, 256])\n",
            "intermediate_spatial_dim tensor([  1, 512, 512])\n",
            "processed_label torch.Size([1, 256, 256])\n",
            "unsqueeze torch.Size([1, 1, 1, 256, 256])\n",
            "intermediate_spatial_dim tensor([  1, 250, 250])\n",
            "processed_label torch.Size([1, 256, 256])\n",
            "unsqueeze torch.Size([1, 1, 1, 256, 256])\n",
            "intermediate_spatial_dim tensor([  1, 249, 249])\n",
            "processed_label torch.Size([1, 256, 256])\n",
            "unsqueeze torch.Size([1, 1, 1, 256, 256])\n"
          ]
        },
        {
          "name": "stderr",
          "output_type": "stream",
          "text": [
            " 48%|████▊     | 110/228 [00:12<00:16,  7.33it/s]"
          ]
        },
        {
          "name": "stdout",
          "output_type": "stream",
          "text": [
            "intermediate_spatial_dim tensor([  1, 512, 512])\n",
            "processed_label torch.Size([1, 256, 256])\n",
            "unsqueeze torch.Size([1, 1, 1, 256, 256])\n",
            "intermediate_spatial_dim tensor([  1, 512, 512])\n",
            "processed_label torch.Size([1, 256, 256])\n",
            "unsqueeze torch.Size([1, 1, 1, 256, 256])\n",
            "intermediate_spatial_dim tensor([  1, 250, 250])\n",
            "processed_label torch.Size([1, 256, 256])\n",
            "unsqueeze torch.Size([1, 1, 1, 256, 256])\n",
            "intermediate_spatial_dim tensor([  1, 249, 249])\n",
            "processed_label torch.Size([1, 256, 256])\n",
            "unsqueeze torch.Size([1, 1, 1, 256, 256])\n",
            "intermediate_spatial_dim tensor([  1, 512, 512])\n",
            "processed_label torch.Size([1, 256, 256])\n",
            "unsqueeze torch.Size([1, 1, 1, 256, 256])\n",
            "intermediate_spatial_dim tensor([  1, 512, 512])\n",
            "processed_label torch.Size([1, 256, 256])\n",
            "unsqueeze torch.Size([1, 1, 1, 256, 256])\n",
            "intermediate_spatial_dim tensor([  1, 250, 250])\n",
            "processed_label torch.Size([1, 256, 256])\n",
            "unsqueeze torch.Size([1, 1, 1, 256, 256])\n",
            "intermediate_spatial_dim tensor([  1, 249, 249])\n",
            "processed_label torch.Size([1, 256, 256])\n",
            "unsqueeze torch.Size([1, 1, 1, 256, 256])\n"
          ]
        },
        {
          "name": "stderr",
          "output_type": "stream",
          "text": [
            " 49%|████▉     | 112/228 [00:13<00:15,  7.30it/s]"
          ]
        },
        {
          "name": "stdout",
          "output_type": "stream",
          "text": [
            "intermediate_spatial_dim tensor([  1, 512, 512])\n",
            "processed_label torch.Size([1, 256, 256])\n",
            "unsqueeze torch.Size([1, 1, 1, 256, 256])\n",
            "intermediate_spatial_dim tensor([  1, 512, 512])\n",
            "processed_label torch.Size([1, 256, 256])\n",
            "unsqueeze torch.Size([1, 1, 1, 256, 256])\n",
            "intermediate_spatial_dim tensor([  1, 250, 250])\n",
            "processed_label torch.Size([1, 256, 256])\n",
            "unsqueeze torch.Size([1, 1, 1, 256, 256])\n",
            "intermediate_spatial_dim tensor([  1, 249, 249])\n",
            "processed_label torch.Size([1, 256, 256])\n",
            "unsqueeze torch.Size([1, 1, 1, 256, 256])\n",
            "intermediate_spatial_dim tensor([  1, 512, 512])\n",
            "processed_label torch.Size([1, 256, 256])\n",
            "unsqueeze torch.Size([1, 1, 1, 256, 256])\n",
            "intermediate_spatial_dim tensor([  1, 512, 512])\n",
            "processed_label torch.Size([1, 256, 256])\n",
            "unsqueeze torch.Size([1, 1, 1, 256, 256])\n",
            "intermediate_spatial_dim tensor([  1, 250, 250])\n",
            "processed_label torch.Size([1, 256, 256])\n",
            "unsqueeze torch.Size([1, 1, 1, 256, 256])\n",
            "intermediate_spatial_dim tensor([  1, 249, 249])\n",
            "processed_label torch.Size([1, 256, 256])\n",
            "unsqueeze torch.Size([1, 1, 1, 256, 256])\n"
          ]
        },
        {
          "name": "stderr",
          "output_type": "stream",
          "text": [
            " 50%|█████     | 114/228 [00:13<00:15,  7.40it/s]"
          ]
        },
        {
          "name": "stdout",
          "output_type": "stream",
          "text": [
            "intermediate_spatial_dim tensor([  1, 512, 512])\n",
            "processed_label torch.Size([1, 256, 256])\n",
            "unsqueeze torch.Size([1, 1, 1, 256, 256])\n",
            "intermediate_spatial_dim tensor([  1, 512, 512])\n",
            "processed_label torch.Size([1, 256, 256])\n",
            "unsqueeze torch.Size([1, 1, 1, 256, 256])\n",
            "intermediate_spatial_dim tensor([  1, 250, 250])\n",
            "processed_label torch.Size([1, 256, 256])\n",
            "unsqueeze torch.Size([1, 1, 1, 256, 256])\n",
            "intermediate_spatial_dim tensor([  1, 249, 249])\n",
            "processed_label torch.Size([1, 256, 256])\n",
            "unsqueeze torch.Size([1, 1, 1, 256, 256])\n",
            "intermediate_spatial_dim tensor([  1, 512, 512])\n",
            "processed_label torch.Size([1, 256, 256])\n",
            "unsqueeze torch.Size([1, 1, 1, 256, 256])\n",
            "intermediate_spatial_dim tensor([  1, 512, 512])\n",
            "processed_label torch.Size([1, 256, 256])\n",
            "unsqueeze torch.Size([1, 1, 1, 256, 256])\n",
            "intermediate_spatial_dim tensor([  1, 250, 250])\n",
            "processed_label torch.Size([1, 256, 256])\n",
            "unsqueeze torch.Size([1, 1, 1, 256, 256])\n",
            "intermediate_spatial_dim tensor([  1, 249, 249])\n",
            "processed_label torch.Size([1, 256, 256])\n",
            "unsqueeze torch.Size([1, 1, 1, 256, 256])\n"
          ]
        },
        {
          "name": "stderr",
          "output_type": "stream",
          "text": [
            " 51%|█████     | 116/228 [00:13<00:15,  7.13it/s]"
          ]
        },
        {
          "name": "stdout",
          "output_type": "stream",
          "text": [
            "intermediate_spatial_dim tensor([  1, 512, 512])\n",
            "processed_label torch.Size([1, 256, 256])\n",
            "unsqueeze torch.Size([1, 1, 1, 256, 256])\n",
            "intermediate_spatial_dim tensor([  1, 512, 512])\n",
            "processed_label torch.Size([1, 256, 256])\n",
            "unsqueeze torch.Size([1, 1, 1, 256, 256])\n",
            "intermediate_spatial_dim tensor([  1, 250, 250])\n",
            "processed_label torch.Size([1, 256, 256])\n",
            "unsqueeze torch.Size([1, 1, 1, 256, 256])\n",
            "intermediate_spatial_dim tensor([  1, 249, 249])\n",
            "processed_label torch.Size([1, 256, 256])\n",
            "unsqueeze torch.Size([1, 1, 1, 256, 256])\n",
            "intermediate_spatial_dim tensor([  1, 512, 512])\n",
            "processed_label torch.Size([1, 256, 256])\n",
            "unsqueeze torch.Size([1, 1, 1, 256, 256])\n",
            "intermediate_spatial_dim tensor([  1, 512, 512])\n",
            "processed_label torch.Size([1, 256, 256])\n",
            "unsqueeze torch.Size([1, 1, 1, 256, 256])\n",
            "intermediate_spatial_dim tensor([  1, 250, 250])\n",
            "processed_label torch.Size([1, 256, 256])\n",
            "unsqueeze torch.Size([1, 1, 1, 256, 256])\n"
          ]
        },
        {
          "name": "stderr",
          "output_type": "stream",
          "text": [
            " 51%|█████▏    | 117/228 [00:13<00:16,  6.93it/s]"
          ]
        },
        {
          "name": "stdout",
          "output_type": "stream",
          "text": [
            "intermediate_spatial_dim tensor([  1, 249, 249])\n",
            "processed_label torch.Size([1, 256, 256])\n",
            "unsqueeze torch.Size([1, 1, 1, 256, 256])\n",
            "intermediate_spatial_dim tensor([  1, 512, 512])\n",
            "processed_label torch.Size([1, 256, 256])\n",
            "unsqueeze torch.Size([1, 1, 1, 256, 256])\n",
            "intermediate_spatial_dim tensor([  1, 512, 512])\n",
            "processed_label torch.Size([1, 256, 256])\n",
            "unsqueeze torch.Size([1, 1, 1, 256, 256])\n",
            "intermediate_spatial_dim tensor([  1, 250, 250])\n",
            "processed_label torch.Size([1, 256, 256])\n",
            "unsqueeze torch.Size([1, 1, 1, 256, 256])\n",
            "intermediate_spatial_dim tensor([  1, 249, 249])\n",
            "processed_label torch.Size([1, 256, 256])\n",
            "unsqueeze torch.Size([1, 1, 1, 256, 256])\n"
          ]
        },
        {
          "name": "stderr",
          "output_type": "stream",
          "text": [
            " 52%|█████▏    | 119/228 [00:14<00:15,  6.98it/s]"
          ]
        },
        {
          "name": "stdout",
          "output_type": "stream",
          "text": [
            "intermediate_spatial_dim tensor([  1, 512, 512])\n",
            "processed_label torch.Size([1, 256, 256])\n",
            "unsqueeze torch.Size([1, 1, 1, 256, 256])\n",
            "intermediate_spatial_dim tensor([  1, 512, 512])\n",
            "processed_label torch.Size([1, 256, 256])\n",
            "unsqueeze torch.Size([1, 1, 1, 256, 256])\n",
            "intermediate_spatial_dim tensor([  1, 250, 250])\n",
            "processed_label torch.Size([1, 256, 256])\n",
            "unsqueeze torch.Size([1, 1, 1, 256, 256])\n",
            "intermediate_spatial_dim tensor([  1, 249, 249])\n",
            "processed_label torch.Size([1, 256, 256])\n",
            "unsqueeze torch.Size([1, 1, 1, 256, 256])\n",
            "intermediate_spatial_dim tensor([  1, 512, 512])\n",
            "processed_label torch.Size([1, 256, 256])\n",
            "unsqueeze torch.Size([1, 1, 1, 256, 256])\n",
            "intermediate_spatial_dim tensor([  1, 512, 512])\n",
            "processed_label torch.Size([1, 256, 256])\n",
            "unsqueeze torch.Size([1, 1, 1, 256, 256])\n",
            "intermediate_spatial_dim tensor([  1, 250, 250])\n",
            "processed_label torch.Size([1, 256, 256])\n",
            "unsqueeze torch.Size([1, 1, 1, 256, 256])\n",
            "intermediate_spatial_dim tensor([  1, 249, 249])\n",
            "processed_label torch.Size([1, 256, 256])\n",
            "unsqueeze torch.Size([1, 1, 1, 256, 256])\n"
          ]
        },
        {
          "name": "stderr",
          "output_type": "stream",
          "text": [
            " 53%|█████▎    | 121/228 [00:14<00:14,  7.27it/s]"
          ]
        },
        {
          "name": "stdout",
          "output_type": "stream",
          "text": [
            "intermediate_spatial_dim tensor([  1, 512, 512])\n",
            "processed_label torch.Size([1, 256, 256])\n",
            "unsqueeze torch.Size([1, 1, 1, 256, 256])\n",
            "intermediate_spatial_dim tensor([  1, 512, 512])\n",
            "processed_label torch.Size([1, 256, 256])\n",
            "unsqueeze torch.Size([1, 1, 1, 256, 256])\n",
            "intermediate_spatial_dim tensor([  1, 250, 250])\n",
            "processed_label torch.Size([1, 256, 256])\n",
            "unsqueeze torch.Size([1, 1, 1, 256, 256])\n",
            "intermediate_spatial_dim tensor([  1, 249, 249])\n",
            "processed_label torch.Size([1, 256, 256])\n",
            "unsqueeze torch.Size([1, 1, 1, 256, 256])\n",
            "intermediate_spatial_dim tensor([  1, 512, 512])\n",
            "processed_label torch.Size([1, 256, 256])\n",
            "unsqueeze torch.Size([1, 1, 1, 256, 256])\n",
            "intermediate_spatial_dim tensor([  1, 512, 512])\n",
            "processed_label torch.Size([1, 256, 256])\n",
            "unsqueeze torch.Size([1, 1, 1, 256, 256])\n",
            "intermediate_spatial_dim tensor([  1, 250, 250])\n",
            "processed_label torch.Size([1, 256, 256])\n",
            "unsqueeze torch.Size([1, 1, 1, 256, 256])\n",
            "intermediate_spatial_dim tensor([  1, 249, 249])\n",
            "processed_label torch.Size([1, 256, 256])\n",
            "unsqueeze torch.Size([1, 1, 1, 256, 256])\n"
          ]
        },
        {
          "name": "stderr",
          "output_type": "stream",
          "text": [
            " 54%|█████▍    | 123/228 [00:14<00:14,  7.39it/s]"
          ]
        },
        {
          "name": "stdout",
          "output_type": "stream",
          "text": [
            "intermediate_spatial_dim tensor([  1, 512, 512])\n",
            "processed_label torch.Size([1, 256, 256])\n",
            "unsqueeze torch.Size([1, 1, 1, 256, 256])\n",
            "intermediate_spatial_dim tensor([  1, 512, 512])\n",
            "processed_label torch.Size([1, 256, 256])\n",
            "unsqueeze torch.Size([1, 1, 1, 256, 256])\n",
            "intermediate_spatial_dim tensor([  1, 250, 250])\n",
            "processed_label torch.Size([1, 256, 256])\n",
            "unsqueeze torch.Size([1, 1, 1, 256, 256])\n",
            "intermediate_spatial_dim tensor([  1, 249, 249])\n",
            "processed_label torch.Size([1, 256, 256])\n",
            "unsqueeze torch.Size([1, 1, 1, 256, 256])\n",
            "intermediate_spatial_dim tensor([  1, 512, 512])\n",
            "processed_label torch.Size([1, 256, 256])\n",
            "unsqueeze torch.Size([1, 1, 1, 256, 256])\n",
            "intermediate_spatial_dim tensor([  1, 512, 512])\n",
            "processed_label torch.Size([1, 256, 256])\n",
            "unsqueeze torch.Size([1, 1, 1, 256, 256])\n",
            "intermediate_spatial_dim tensor([  1, 250, 250])\n",
            "processed_label torch.Size([1, 256, 256])\n",
            "unsqueeze torch.Size([1, 1, 1, 256, 256])\n",
            "intermediate_spatial_dim tensor([  1, 249, 249])\n",
            "processed_label torch.Size([1, 256, 256])\n",
            "unsqueeze torch.Size([1, 1, 1, 256, 256])\n"
          ]
        },
        {
          "name": "stderr",
          "output_type": "stream",
          "text": [
            " 55%|█████▍    | 125/228 [00:15<00:13,  7.61it/s]"
          ]
        },
        {
          "name": "stdout",
          "output_type": "stream",
          "text": [
            "intermediate_spatial_dim tensor([  1, 512, 512])\n",
            "processed_label torch.Size([1, 256, 256])\n",
            "unsqueeze torch.Size([1, 1, 1, 256, 256])\n",
            "intermediate_spatial_dim tensor([  1, 512, 512])\n",
            "processed_label torch.Size([1, 256, 256])\n",
            "unsqueeze torch.Size([1, 1, 1, 256, 256])\n",
            "intermediate_spatial_dim tensor([  1, 250, 250])\n",
            "processed_label torch.Size([1, 256, 256])\n",
            "unsqueeze torch.Size([1, 1, 1, 256, 256])\n",
            "intermediate_spatial_dim tensor([  1, 249, 249])\n",
            "processed_label torch.Size([1, 256, 256])\n",
            "unsqueeze torch.Size([1, 1, 1, 256, 256])\n",
            "intermediate_spatial_dim tensor([  1, 512, 512])\n",
            "processed_label torch.Size([1, 256, 256])\n",
            "unsqueeze torch.Size([1, 1, 1, 256, 256])\n",
            "intermediate_spatial_dim tensor([  1, 512, 512])\n",
            "processed_label torch.Size([1, 256, 256])\n",
            "unsqueeze torch.Size([1, 1, 1, 256, 256])\n",
            "intermediate_spatial_dim tensor([  1, 250, 250])\n",
            "processed_label torch.Size([1, 256, 256])\n",
            "unsqueeze torch.Size([1, 1, 1, 256, 256])\n",
            "intermediate_spatial_dim tensor([  1, 249, 249])\n",
            "processed_label torch.Size([1, 256, 256])\n",
            "unsqueeze torch.Size([1, 1, 1, 256, 256])\n"
          ]
        },
        {
          "name": "stderr",
          "output_type": "stream",
          "text": [
            " 56%|█████▌    | 127/228 [00:15<00:12,  7.78it/s]"
          ]
        },
        {
          "name": "stdout",
          "output_type": "stream",
          "text": [
            "intermediate_spatial_dim tensor([  1, 512, 512])\n",
            "processed_label torch.Size([1, 256, 256])\n",
            "unsqueeze torch.Size([1, 1, 1, 256, 256])\n",
            "intermediate_spatial_dim tensor([  1, 512, 512])\n",
            "processed_label torch.Size([1, 256, 256])\n",
            "unsqueeze torch.Size([1, 1, 1, 256, 256])\n",
            "intermediate_spatial_dim tensor([  1, 250, 250])\n",
            "processed_label torch.Size([1, 256, 256])\n",
            "unsqueeze torch.Size([1, 1, 1, 256, 256])\n",
            "intermediate_spatial_dim tensor([  1, 249, 249])\n",
            "processed_label torch.Size([1, 256, 256])\n",
            "unsqueeze torch.Size([1, 1, 1, 256, 256])\n",
            "intermediate_spatial_dim tensor([  1, 512, 512])\n",
            "processed_label torch.Size([1, 256, 256])\n",
            "unsqueeze torch.Size([1, 1, 1, 256, 256])\n",
            "intermediate_spatial_dim tensor([  1, 512, 512])\n",
            "processed_label torch.Size([1, 256, 256])\n",
            "unsqueeze torch.Size([1, 1, 1, 256, 256])\n",
            "intermediate_spatial_dim tensor([  1, 250, 250])\n",
            "processed_label torch.Size([1, 256, 256])\n",
            "unsqueeze torch.Size([1, 1, 1, 256, 256])\n",
            "intermediate_spatial_dim tensor([  1, 249, 249])\n",
            "processed_label torch.Size([1, 256, 256])\n",
            "unsqueeze torch.Size([1, 1, 1, 256, 256])\n"
          ]
        },
        {
          "name": "stderr",
          "output_type": "stream",
          "text": [
            " 57%|█████▋    | 129/228 [00:15<00:12,  7.64it/s]"
          ]
        },
        {
          "name": "stdout",
          "output_type": "stream",
          "text": [
            "intermediate_spatial_dim tensor([  1, 512, 512])\n",
            "processed_label torch.Size([1, 256, 256])\n",
            "unsqueeze torch.Size([1, 1, 1, 256, 256])\n",
            "intermediate_spatial_dim tensor([  1, 512, 512])\n",
            "processed_label torch.Size([1, 256, 256])\n",
            "unsqueeze torch.Size([1, 1, 1, 256, 256])\n",
            "intermediate_spatial_dim tensor([  1, 250, 250])\n",
            "processed_label torch.Size([1, 256, 256])\n",
            "unsqueeze torch.Size([1, 1, 1, 256, 256])\n",
            "intermediate_spatial_dim tensor([  1, 249, 249])\n",
            "processed_label torch.Size([1, 256, 256])\n",
            "unsqueeze torch.Size([1, 1, 1, 256, 256])\n",
            "intermediate_spatial_dim tensor([  1, 512, 512])\n",
            "processed_label torch.Size([1, 256, 256])\n",
            "unsqueeze torch.Size([1, 1, 1, 256, 256])\n",
            "intermediate_spatial_dim tensor([  1, 512, 512])\n",
            "processed_label torch.Size([1, 256, 256])\n",
            "unsqueeze torch.Size([1, 1, 1, 256, 256])\n",
            "intermediate_spatial_dim tensor([  1, 250, 250])\n",
            "processed_label torch.Size([1, 256, 256])\n",
            "unsqueeze torch.Size([1, 1, 1, 256, 256])\n"
          ]
        },
        {
          "name": "stderr",
          "output_type": "stream",
          "text": [
            " 57%|█████▋    | 130/228 [00:15<00:13,  7.30it/s]"
          ]
        },
        {
          "name": "stdout",
          "output_type": "stream",
          "text": [
            "intermediate_spatial_dim tensor([  1, 249, 249])\n",
            "processed_label torch.Size([1, 256, 256])\n",
            "unsqueeze torch.Size([1, 1, 1, 256, 256])\n",
            "intermediate_spatial_dim tensor([  1, 512, 512])\n",
            "processed_label torch.Size([1, 256, 256])\n",
            "unsqueeze torch.Size([1, 1, 1, 256, 256])\n",
            "intermediate_spatial_dim tensor([  1, 512, 512])\n",
            "processed_label torch.Size([1, 256, 256])\n",
            "unsqueeze torch.Size([1, 1, 1, 256, 256])\n",
            "intermediate_spatial_dim tensor([  1, 250, 250])\n",
            "processed_label torch.Size([1, 256, 256])\n",
            "unsqueeze torch.Size([1, 1, 1, 256, 256])\n",
            "intermediate_spatial_dim tensor([  1, 249, 249])\n",
            "processed_label torch.Size([1, 256, 256])\n",
            "unsqueeze torch.Size([1, 1, 1, 256, 256])\n"
          ]
        },
        {
          "name": "stderr",
          "output_type": "stream",
          "text": [
            " 58%|█████▊    | 132/228 [00:15<00:12,  7.55it/s]"
          ]
        },
        {
          "name": "stdout",
          "output_type": "stream",
          "text": [
            "intermediate_spatial_dim tensor([  1, 512, 512])\n",
            "processed_label torch.Size([1, 256, 256])\n",
            "unsqueeze torch.Size([1, 1, 1, 256, 256])\n",
            "intermediate_spatial_dim tensor([  1, 512, 512])\n",
            "processed_label torch.Size([1, 256, 256])\n",
            "unsqueeze torch.Size([1, 1, 1, 256, 256])\n",
            "intermediate_spatial_dim tensor([  1, 250, 250])\n",
            "processed_label torch.Size([1, 256, 256])\n",
            "unsqueeze torch.Size([1, 1, 1, 256, 256])\n",
            "intermediate_spatial_dim tensor([  1, 249, 249])\n",
            "processed_label torch.Size([1, 256, 256])\n",
            "unsqueeze torch.Size([1, 1, 1, 256, 256])\n",
            "intermediate_spatial_dim tensor([  1, 512, 512])\n",
            "processed_label torch.Size([1, 256, 256])\n",
            "unsqueeze torch.Size([1, 1, 1, 256, 256])\n",
            "intermediate_spatial_dim tensor([  1, 512, 512])\n",
            "processed_label torch.Size([1, 256, 256])\n",
            "unsqueeze torch.Size([1, 1, 1, 256, 256])\n",
            "intermediate_spatial_dim tensor([  1, 250, 250])\n",
            "processed_label torch.Size([1, 256, 256])\n",
            "unsqueeze torch.Size([1, 1, 1, 256, 256])\n",
            "intermediate_spatial_dim tensor([  1, 249, 249])\n",
            "processed_label torch.Size([1, 256, 256])\n",
            "unsqueeze torch.Size([1, 1, 1, 256, 256])\n"
          ]
        },
        {
          "name": "stderr",
          "output_type": "stream",
          "text": [
            " 59%|█████▉    | 134/228 [00:16<00:12,  7.55it/s]"
          ]
        },
        {
          "name": "stdout",
          "output_type": "stream",
          "text": [
            "intermediate_spatial_dim tensor([  1, 512, 512])\n",
            "processed_label torch.Size([1, 256, 256])\n",
            "unsqueeze torch.Size([1, 1, 1, 256, 256])\n",
            "intermediate_spatial_dim tensor([  1, 512, 512])\n",
            "processed_label torch.Size([1, 256, 256])\n",
            "unsqueeze torch.Size([1, 1, 1, 256, 256])\n",
            "intermediate_spatial_dim tensor([  1, 250, 250])\n",
            "processed_label torch.Size([1, 256, 256])\n",
            "unsqueeze torch.Size([1, 1, 1, 256, 256])\n",
            "intermediate_spatial_dim tensor([  1, 249, 249])\n",
            "processed_label torch.Size([1, 256, 256])\n",
            "unsqueeze torch.Size([1, 1, 1, 256, 256])\n",
            "intermediate_spatial_dim tensor([  1, 512, 512])\n",
            "processed_label torch.Size([1, 256, 256])\n",
            "unsqueeze torch.Size([1, 1, 1, 256, 256])\n",
            "intermediate_spatial_dim tensor([  1, 512, 512])\n",
            "processed_label torch.Size([1, 256, 256])\n",
            "unsqueeze torch.Size([1, 1, 1, 256, 256])\n",
            "intermediate_spatial_dim tensor([  1, 250, 250])\n",
            "processed_label torch.Size([1, 256, 256])\n",
            "unsqueeze torch.Size([1, 1, 1, 256, 256])\n",
            "intermediate_spatial_dim tensor([  1, 249, 249])\n",
            "processed_label torch.Size([1, 256, 256])\n",
            "unsqueeze torch.Size([1, 1, 1, 256, 256])\n"
          ]
        },
        {
          "name": "stderr",
          "output_type": "stream",
          "text": [
            " 60%|█████▉    | 136/228 [00:16<00:12,  7.62it/s]"
          ]
        },
        {
          "name": "stdout",
          "output_type": "stream",
          "text": [
            "intermediate_spatial_dim tensor([  1, 512, 512])\n",
            "processed_label torch.Size([1, 256, 256])\n",
            "unsqueeze torch.Size([1, 1, 1, 256, 256])\n",
            "intermediate_spatial_dim tensor([  1, 512, 512])\n",
            "processed_label torch.Size([1, 256, 256])\n",
            "unsqueeze torch.Size([1, 1, 1, 256, 256])\n",
            "intermediate_spatial_dim tensor([  1, 250, 250])\n",
            "processed_label torch.Size([1, 256, 256])\n",
            "unsqueeze torch.Size([1, 1, 1, 256, 256])\n",
            "intermediate_spatial_dim tensor([  1, 249, 249])\n",
            "processed_label torch.Size([1, 256, 256])\n",
            "unsqueeze torch.Size([1, 1, 1, 256, 256])\n",
            "intermediate_spatial_dim tensor([  1, 512, 512])\n",
            "processed_label torch.Size([1, 256, 256])\n",
            "unsqueeze torch.Size([1, 1, 1, 256, 256])\n",
            "intermediate_spatial_dim tensor([  1, 512, 512])\n",
            "processed_label torch.Size([1, 256, 256])\n",
            "unsqueeze torch.Size([1, 1, 1, 256, 256])\n",
            "intermediate_spatial_dim tensor([  1, 250, 250])\n",
            "processed_label torch.Size([1, 256, 256])\n",
            "unsqueeze torch.Size([1, 1, 1, 256, 256])\n",
            "intermediate_spatial_dim tensor([  1, 249, 249])\n",
            "processed_label torch.Size([1, 256, 256])\n",
            "unsqueeze torch.Size([1, 1, 1, 256, 256])\n"
          ]
        },
        {
          "name": "stderr",
          "output_type": "stream",
          "text": [
            " 61%|██████    | 138/228 [00:16<00:11,  7.77it/s]"
          ]
        },
        {
          "name": "stdout",
          "output_type": "stream",
          "text": [
            "intermediate_spatial_dim tensor([  1, 512, 512])\n",
            "processed_label torch.Size([1, 256, 256])\n",
            "unsqueeze torch.Size([1, 1, 1, 256, 256])\n",
            "intermediate_spatial_dim tensor([  1, 512, 512])\n",
            "processed_label torch.Size([1, 256, 256])\n",
            "unsqueeze torch.Size([1, 1, 1, 256, 256])\n",
            "intermediate_spatial_dim tensor([  1, 250, 250])\n",
            "processed_label torch.Size([1, 256, 256])\n",
            "unsqueeze torch.Size([1, 1, 1, 256, 256])\n",
            "intermediate_spatial_dim tensor([  1, 249, 249])\n",
            "processed_label torch.Size([1, 256, 256])\n",
            "unsqueeze torch.Size([1, 1, 1, 256, 256])\n",
            "intermediate_spatial_dim tensor([  1, 512, 512])\n",
            "processed_label torch.Size([1, 256, 256])\n",
            "unsqueeze torch.Size([1, 1, 1, 256, 256])\n",
            "intermediate_spatial_dim tensor([  1, 512, 512])\n",
            "processed_label torch.Size([1, 256, 256])\n",
            "unsqueeze torch.Size([1, 1, 1, 256, 256])\n",
            "intermediate_spatial_dim tensor([  1, 250, 250])\n",
            "processed_label torch.Size([1, 256, 256])\n",
            "unsqueeze torch.Size([1, 1, 1, 256, 256])\n",
            "intermediate_spatial_dim tensor([  1, 249, 249])\n",
            "processed_label torch.Size([1, 256, 256])\n",
            "unsqueeze torch.Size([1, 1, 1, 256, 256])\n"
          ]
        },
        {
          "name": "stderr",
          "output_type": "stream",
          "text": [
            " 61%|██████▏   | 140/228 [00:17<00:11,  7.74it/s]"
          ]
        },
        {
          "name": "stdout",
          "output_type": "stream",
          "text": [
            "intermediate_spatial_dim tensor([  1, 512, 512])\n",
            "processed_label torch.Size([1, 256, 256])\n",
            "unsqueeze torch.Size([1, 1, 1, 256, 256])\n",
            "intermediate_spatial_dim tensor([  1, 512, 512])\n",
            "processed_label torch.Size([1, 256, 256])\n",
            "unsqueeze torch.Size([1, 1, 1, 256, 256])\n",
            "intermediate_spatial_dim tensor([  1, 250, 250])\n",
            "processed_label torch.Size([1, 256, 256])\n",
            "unsqueeze torch.Size([1, 1, 1, 256, 256])\n",
            "intermediate_spatial_dim tensor([  1, 249, 249])\n",
            "processed_label torch.Size([1, 256, 256])\n",
            "unsqueeze torch.Size([1, 1, 1, 256, 256])\n",
            "intermediate_spatial_dim tensor([  1, 512, 512])\n",
            "processed_label torch.Size([1, 256, 256])\n",
            "unsqueeze torch.Size([1, 1, 1, 256, 256])\n",
            "intermediate_spatial_dim tensor([  1, 512, 512])\n",
            "processed_label torch.Size([1, 256, 256])\n",
            "unsqueeze torch.Size([1, 1, 1, 256, 256])\n",
            "intermediate_spatial_dim tensor([  1, 250, 250])\n",
            "processed_label torch.Size([1, 256, 256])\n",
            "unsqueeze torch.Size([1, 1, 1, 256, 256])\n",
            "intermediate_spatial_dim tensor([  1, 249, 249])\n",
            "processed_label torch.Size([1, 256, 256])\n",
            "unsqueeze torch.Size([1, 1, 1, 256, 256])\n"
          ]
        },
        {
          "name": "stderr",
          "output_type": "stream",
          "text": [
            " 62%|██████▏   | 142/228 [00:17<00:11,  7.71it/s]"
          ]
        },
        {
          "name": "stdout",
          "output_type": "stream",
          "text": [
            "intermediate_spatial_dim tensor([  1, 512, 512])\n",
            "processed_label torch.Size([1, 256, 256])\n",
            "unsqueeze torch.Size([1, 1, 1, 256, 256])\n",
            "intermediate_spatial_dim tensor([  1, 512, 512])\n",
            "processed_label torch.Size([1, 256, 256])\n",
            "unsqueeze torch.Size([1, 1, 1, 256, 256])\n",
            "intermediate_spatial_dim tensor([  1, 250, 250])\n",
            "processed_label torch.Size([1, 256, 256])\n",
            "unsqueeze torch.Size([1, 1, 1, 256, 256])\n",
            "intermediate_spatial_dim tensor([  1, 249, 249])\n",
            "processed_label torch.Size([1, 256, 256])\n",
            "unsqueeze torch.Size([1, 1, 1, 256, 256])\n",
            "intermediate_spatial_dim tensor([  1, 512, 512])\n",
            "processed_label torch.Size([1, 256, 256])\n",
            "unsqueeze torch.Size([1, 1, 1, 256, 256])\n",
            "intermediate_spatial_dim tensor([  1, 512, 512])\n",
            "processed_label torch.Size([1, 256, 256])\n",
            "unsqueeze torch.Size([1, 1, 1, 256, 256])\n",
            "intermediate_spatial_dim tensor([  1, 250, 250])\n",
            "processed_label torch.Size([1, 256, 256])\n",
            "unsqueeze torch.Size([1, 1, 1, 256, 256])\n",
            "intermediate_spatial_dim tensor([  1, 249, 249])\n",
            "processed_label torch.Size([1, 256, 256])\n",
            "unsqueeze torch.Size([1, 1, 1, 256, 256])\n"
          ]
        },
        {
          "name": "stderr",
          "output_type": "stream",
          "text": [
            " 63%|██████▎   | 144/228 [00:17<00:11,  7.40it/s]"
          ]
        },
        {
          "name": "stdout",
          "output_type": "stream",
          "text": [
            "intermediate_spatial_dim tensor([  1, 512, 512])\n",
            "processed_label torch.Size([1, 256, 256])\n",
            "unsqueeze torch.Size([1, 1, 1, 256, 256])\n",
            "intermediate_spatial_dim tensor([  1, 512, 512])\n",
            "processed_label torch.Size([1, 256, 256])\n",
            "unsqueeze torch.Size([1, 1, 1, 256, 256])\n",
            "intermediate_spatial_dim tensor([  1, 250, 250])\n",
            "processed_label torch.Size([1, 256, 256])\n",
            "unsqueeze torch.Size([1, 1, 1, 256, 256])\n",
            "intermediate_spatial_dim tensor([  1, 249, 249])\n",
            "processed_label torch.Size([1, 256, 256])\n",
            "unsqueeze torch.Size([1, 1, 1, 256, 256])\n",
            "intermediate_spatial_dim tensor([  1, 512, 512])\n",
            "processed_label torch.Size([1, 256, 256])\n",
            "unsqueeze torch.Size([1, 1, 1, 256, 256])\n",
            "intermediate_spatial_dim tensor([  1, 512, 512])\n",
            "processed_label torch.Size([1, 256, 256])\n",
            "unsqueeze torch.Size([1, 1, 1, 256, 256])\n",
            "intermediate_spatial_dim tensor([  1, 250, 250])\n",
            "processed_label torch.Size([1, 256, 256])\n",
            "unsqueeze torch.Size([1, 1, 1, 256, 256])\n"
          ]
        },
        {
          "name": "stderr",
          "output_type": "stream",
          "text": [
            " 64%|██████▎   | 145/228 [00:17<00:11,  7.52it/s]"
          ]
        },
        {
          "name": "stdout",
          "output_type": "stream",
          "text": [
            "intermediate_spatial_dim tensor([  1, 249, 249])\n",
            "processed_label torch.Size([1, 256, 256])\n",
            "unsqueeze torch.Size([1, 1, 1, 256, 256])\n",
            "intermediate_spatial_dim tensor([  1, 512, 512])\n",
            "processed_label torch.Size([1, 256, 256])\n",
            "unsqueeze torch.Size([1, 1, 1, 256, 256])\n",
            "intermediate_spatial_dim tensor([  1, 512, 512])\n",
            "processed_label torch.Size([1, 256, 256])\n",
            "unsqueeze torch.Size([1, 1, 1, 256, 256])\n",
            "intermediate_spatial_dim tensor([  1, 250, 250])\n",
            "processed_label torch.Size([1, 256, 256])\n",
            "unsqueeze torch.Size([1, 1, 1, 256, 256])\n",
            "intermediate_spatial_dim tensor([  1, 249, 249])\n",
            "processed_label torch.Size([1, 256, 256])\n",
            "unsqueeze torch.Size([1, 1, 1, 256, 256])\n"
          ]
        },
        {
          "name": "stderr",
          "output_type": "stream",
          "text": [
            " 64%|██████▍   | 147/228 [00:17<00:10,  7.54it/s]"
          ]
        },
        {
          "name": "stdout",
          "output_type": "stream",
          "text": [
            "intermediate_spatial_dim tensor([  1, 512, 512])\n",
            "processed_label torch.Size([1, 256, 256])\n",
            "unsqueeze torch.Size([1, 1, 1, 256, 256])\n",
            "intermediate_spatial_dim tensor([  1, 512, 512])\n",
            "processed_label torch.Size([1, 256, 256])\n",
            "unsqueeze torch.Size([1, 1, 1, 256, 256])\n",
            "intermediate_spatial_dim tensor([  1, 250, 250])\n",
            "processed_label torch.Size([1, 256, 256])\n",
            "unsqueeze torch.Size([1, 1, 1, 256, 256])\n",
            "intermediate_spatial_dim tensor([  1, 249, 249])\n",
            "processed_label torch.Size([1, 256, 256])\n",
            "unsqueeze torch.Size([1, 1, 1, 256, 256])\n",
            "intermediate_spatial_dim tensor([  1, 512, 512])\n",
            "processed_label torch.Size([1, 256, 256])\n",
            "unsqueeze torch.Size([1, 1, 1, 256, 256])\n",
            "intermediate_spatial_dim tensor([  1, 512, 512])\n",
            "processed_label torch.Size([1, 256, 256])\n",
            "unsqueeze torch.Size([1, 1, 1, 256, 256])\n",
            "intermediate_spatial_dim tensor([  1, 250, 250])\n",
            "processed_label torch.Size([1, 256, 256])\n",
            "unsqueeze torch.Size([1, 1, 1, 256, 256])\n",
            "intermediate_spatial_dim tensor([  1, 249, 249])\n",
            "processed_label torch.Size([1, 256, 256])\n",
            "unsqueeze torch.Size([1, 1, 1, 256, 256])\n"
          ]
        },
        {
          "name": "stderr",
          "output_type": "stream",
          "text": [
            " 65%|██████▌   | 149/228 [00:18<00:10,  7.72it/s]"
          ]
        },
        {
          "name": "stdout",
          "output_type": "stream",
          "text": [
            "intermediate_spatial_dim tensor([  1, 512, 512])\n",
            "processed_label torch.Size([1, 256, 256])\n",
            "unsqueeze torch.Size([1, 1, 1, 256, 256])\n",
            "intermediate_spatial_dim tensor([  1, 512, 512])\n",
            "processed_label torch.Size([1, 256, 256])\n",
            "unsqueeze torch.Size([1, 1, 1, 256, 256])\n",
            "intermediate_spatial_dim tensor([  1, 250, 250])\n",
            "processed_label torch.Size([1, 256, 256])\n",
            "unsqueeze torch.Size([1, 1, 1, 256, 256])\n",
            "intermediate_spatial_dim tensor([  1, 249, 249])\n",
            "processed_label torch.Size([1, 256, 256])\n",
            "unsqueeze torch.Size([1, 1, 1, 256, 256])\n",
            "intermediate_spatial_dim tensor([  1, 512, 512])\n",
            "processed_label torch.Size([1, 256, 256])\n",
            "unsqueeze torch.Size([1, 1, 1, 256, 256])\n",
            "intermediate_spatial_dim tensor([  1, 512, 512])\n",
            "processed_label torch.Size([1, 256, 256])\n",
            "unsqueeze torch.Size([1, 1, 1, 256, 256])\n",
            "intermediate_spatial_dim tensor([  1, 250, 250])\n",
            "processed_label torch.Size([1, 256, 256])\n",
            "unsqueeze torch.Size([1, 1, 1, 256, 256])\n",
            "intermediate_spatial_dim tensor([  1, 249, 249])\n",
            "processed_label torch.Size([1, 256, 256])\n",
            "unsqueeze torch.Size([1, 1, 1, 256, 256])\n"
          ]
        },
        {
          "name": "stderr",
          "output_type": "stream",
          "text": [
            " 66%|██████▌   | 151/228 [00:18<00:10,  7.60it/s]"
          ]
        },
        {
          "name": "stdout",
          "output_type": "stream",
          "text": [
            "intermediate_spatial_dim tensor([  1, 512, 512])\n",
            "processed_label torch.Size([1, 256, 256])\n",
            "unsqueeze torch.Size([1, 1, 1, 256, 256])\n",
            "intermediate_spatial_dim tensor([  1, 512, 512])\n",
            "processed_label torch.Size([1, 256, 256])\n",
            "unsqueeze torch.Size([1, 1, 1, 256, 256])\n",
            "intermediate_spatial_dim tensor([  1, 250, 250])\n",
            "processed_label torch.Size([1, 256, 256])\n",
            "unsqueeze torch.Size([1, 1, 1, 256, 256])\n",
            "intermediate_spatial_dim tensor([  1, 249, 249])\n",
            "processed_label torch.Size([1, 256, 256])\n",
            "unsqueeze torch.Size([1, 1, 1, 256, 256])\n",
            "intermediate_spatial_dim tensor([  1, 512, 512])\n",
            "processed_label torch.Size([1, 256, 256])\n",
            "unsqueeze torch.Size([1, 1, 1, 256, 256])\n",
            "intermediate_spatial_dim tensor([  1, 512, 512])\n",
            "processed_label torch.Size([1, 256, 256])\n",
            "unsqueeze torch.Size([1, 1, 1, 256, 256])\n",
            "intermediate_spatial_dim tensor([  1, 250, 250])\n",
            "processed_label torch.Size([1, 256, 256])\n",
            "unsqueeze torch.Size([1, 1, 1, 256, 256])\n",
            "intermediate_spatial_dim tensor([  1, 249, 249])\n",
            "processed_label torch.Size([1, 256, 256])\n",
            "unsqueeze torch.Size([1, 1, 1, 256, 256])\n"
          ]
        },
        {
          "name": "stderr",
          "output_type": "stream",
          "text": [
            " 67%|██████▋   | 153/228 [00:18<00:10,  7.48it/s]"
          ]
        },
        {
          "name": "stdout",
          "output_type": "stream",
          "text": [
            "intermediate_spatial_dim tensor([  1, 512, 512])\n",
            "processed_label torch.Size([1, 256, 256])\n",
            "unsqueeze torch.Size([1, 1, 1, 256, 256])\n",
            "intermediate_spatial_dim tensor([  1, 512, 512])\n",
            "processed_label torch.Size([1, 256, 256])\n",
            "unsqueeze torch.Size([1, 1, 1, 256, 256])\n",
            "intermediate_spatial_dim tensor([  1, 250, 250])\n",
            "processed_label torch.Size([1, 256, 256])\n",
            "unsqueeze torch.Size([1, 1, 1, 256, 256])\n",
            "intermediate_spatial_dim tensor([  1, 249, 249])\n",
            "processed_label torch.Size([1, 256, 256])\n",
            "unsqueeze torch.Size([1, 1, 1, 256, 256])\n",
            "intermediate_spatial_dim tensor([  1, 512, 512])\n",
            "processed_label torch.Size([1, 256, 256])\n",
            "unsqueeze torch.Size([1, 1, 1, 256, 256])\n",
            "intermediate_spatial_dim tensor([  1, 512, 512])\n",
            "processed_label torch.Size([1, 256, 256])\n",
            "unsqueeze torch.Size([1, 1, 1, 256, 256])\n",
            "intermediate_spatial_dim tensor([  1, 250, 250])\n",
            "processed_label torch.Size([1, 256, 256])\n",
            "unsqueeze torch.Size([1, 1, 1, 256, 256])\n",
            "intermediate_spatial_dim tensor([  1, 249, 249])\n",
            "processed_label torch.Size([1, 256, 256])\n",
            "unsqueeze torch.Size([1, 1, 1, 256, 256])\n"
          ]
        },
        {
          "name": "stderr",
          "output_type": "stream",
          "text": [
            " 68%|██████▊   | 155/228 [00:19<00:10,  7.29it/s]"
          ]
        },
        {
          "name": "stdout",
          "output_type": "stream",
          "text": [
            "intermediate_spatial_dim tensor([  1, 512, 512])\n",
            "processed_label torch.Size([1, 256, 256])\n",
            "unsqueeze torch.Size([1, 1, 1, 256, 256])\n",
            "intermediate_spatial_dim tensor([  1, 512, 512])\n",
            "processed_label torch.Size([1, 256, 256])\n",
            "unsqueeze torch.Size([1, 1, 1, 256, 256])\n",
            "intermediate_spatial_dim tensor([  1, 250, 250])\n",
            "processed_label torch.Size([1, 256, 256])\n",
            "unsqueeze torch.Size([1, 1, 1, 256, 256])\n",
            "intermediate_spatial_dim tensor([  1, 249, 249])\n",
            "processed_label torch.Size([1, 256, 256])\n",
            "unsqueeze torch.Size([1, 1, 1, 256, 256])\n",
            "intermediate_spatial_dim tensor([  1, 512, 512])\n",
            "processed_label torch.Size([1, 256, 256])\n",
            "unsqueeze torch.Size([1, 1, 1, 256, 256])\n",
            "intermediate_spatial_dim tensor([  1, 512, 512])\n",
            "processed_label torch.Size([1, 256, 256])\n",
            "unsqueeze torch.Size([1, 1, 1, 256, 256])\n",
            "intermediate_spatial_dim tensor([  1, 250, 250])\n",
            "processed_label torch.Size([1, 256, 256])\n",
            "unsqueeze torch.Size([1, 1, 1, 256, 256])\n"
          ]
        },
        {
          "name": "stderr",
          "output_type": "stream",
          "text": [
            " 68%|██████▊   | 156/228 [00:19<00:09,  7.28it/s]"
          ]
        },
        {
          "name": "stdout",
          "output_type": "stream",
          "text": [
            "intermediate_spatial_dim tensor([  1, 249, 249])\n",
            "processed_label torch.Size([1, 256, 256])\n",
            "unsqueeze torch.Size([1, 1, 1, 256, 256])\n",
            "intermediate_spatial_dim tensor([  1, 512, 512])\n",
            "processed_label torch.Size([1, 256, 256])\n",
            "unsqueeze torch.Size([1, 1, 1, 256, 256])\n",
            "intermediate_spatial_dim tensor([  1, 512, 512])\n",
            "processed_label torch.Size([1, 256, 256])\n",
            "unsqueeze torch.Size([1, 1, 1, 256, 256])\n",
            "intermediate_spatial_dim tensor([  1, 250, 250])\n",
            "processed_label torch.Size([1, 256, 256])\n",
            "unsqueeze torch.Size([1, 1, 1, 256, 256])\n",
            "intermediate_spatial_dim tensor([  1, 249, 249])\n",
            "processed_label torch.Size([1, 256, 256])\n",
            "unsqueeze torch.Size([1, 1, 1, 256, 256])\n",
            "intermediate_spatial_dim tensor([  1, 512, 512])\n",
            "processed_label torch.Size([1, 256, 256])\n",
            "unsqueeze torch.Size([1, 1, 1, 256, 256])\n",
            "intermediate_spatial_dim tensor([  1, 512, 512])\n",
            "processed_label torch.Size([1, 256, 256])\n",
            "unsqueeze torch.Size([1, 1, 1, 256, 256])\n"
          ]
        },
        {
          "name": "stderr",
          "output_type": "stream",
          "text": [
            " 69%|██████▉   | 158/228 [00:19<00:09,  7.46it/s]"
          ]
        },
        {
          "name": "stdout",
          "output_type": "stream",
          "text": [
            "intermediate_spatial_dim tensor([  1, 250, 250])\n",
            "processed_label torch.Size([1, 256, 256])\n",
            "unsqueeze torch.Size([1, 1, 1, 256, 256])\n",
            "intermediate_spatial_dim tensor([  1, 249, 249])\n",
            "processed_label torch.Size([1, 256, 256])\n",
            "unsqueeze torch.Size([1, 1, 1, 256, 256])\n",
            "intermediate_spatial_dim tensor([  1, 512, 512])\n",
            "processed_label torch.Size([1, 256, 256])\n",
            "unsqueeze torch.Size([1, 1, 1, 256, 256])\n",
            "intermediate_spatial_dim tensor([  1, 512, 512])\n",
            "processed_label torch.Size([1, 256, 256])\n",
            "unsqueeze torch.Size([1, 1, 1, 256, 256])\n",
            "intermediate_spatial_dim tensor([  1, 249, 249])\n",
            "processed_label torch.Size([1, 256, 256])\n",
            "unsqueeze torch.Size([1, 1, 1, 256, 256])\n"
          ]
        },
        {
          "name": "stderr",
          "output_type": "stream",
          "text": [
            " 70%|███████   | 160/228 [00:19<00:08,  7.92it/s]"
          ]
        },
        {
          "name": "stdout",
          "output_type": "stream",
          "text": [
            "intermediate_spatial_dim tensor([  1, 512, 512])\n",
            "processed_label torch.Size([1, 256, 256])\n",
            "unsqueeze torch.Size([1, 1, 1, 256, 256])\n",
            "intermediate_spatial_dim tensor([  1, 512, 512])\n",
            "processed_label torch.Size([1, 256, 256])\n",
            "unsqueeze torch.Size([1, 1, 1, 256, 256])\n",
            "intermediate_spatial_dim tensor([  1, 249, 249])\n",
            "processed_label torch.Size([1, 256, 256])\n",
            "unsqueeze torch.Size([1, 1, 1, 256, 256])\n",
            "intermediate_spatial_dim tensor([  1, 512, 512])\n",
            "processed_label torch.Size([1, 256, 256])\n",
            "unsqueeze torch.Size([1, 1, 1, 256, 256])\n",
            "intermediate_spatial_dim tensor([  1, 512, 512])\n",
            "processed_label torch.Size([1, 256, 256])\n",
            "unsqueeze torch.Size([1, 1, 1, 256, 256])\n",
            "intermediate_spatial_dim tensor([  1, 249, 249])\n",
            "processed_label torch.Size([1, 256, 256])\n",
            "unsqueeze torch.Size([1, 1, 1, 256, 256])\n"
          ]
        },
        {
          "name": "stderr",
          "output_type": "stream",
          "text": [
            " 71%|███████   | 162/228 [00:19<00:07,  8.58it/s]"
          ]
        },
        {
          "name": "stdout",
          "output_type": "stream",
          "text": [
            "intermediate_spatial_dim tensor([  1, 512, 512])\n",
            "processed_label torch.Size([1, 256, 256])\n",
            "unsqueeze torch.Size([1, 1, 1, 256, 256])\n",
            "intermediate_spatial_dim tensor([  1, 512, 512])\n",
            "processed_label torch.Size([1, 256, 256])\n",
            "unsqueeze torch.Size([1, 1, 1, 256, 256])\n",
            "intermediate_spatial_dim tensor([  1, 249, 249])\n",
            "processed_label torch.Size([1, 256, 256])\n",
            "unsqueeze torch.Size([1, 1, 1, 256, 256])\n",
            "intermediate_spatial_dim tensor([  1, 512, 512])\n",
            "processed_label torch.Size([1, 256, 256])\n",
            "unsqueeze torch.Size([1, 1, 1, 256, 256])\n",
            "intermediate_spatial_dim tensor([  1, 512, 512])\n",
            "processed_label torch.Size([1, 256, 256])\n",
            "unsqueeze torch.Size([1, 1, 1, 256, 256])\n",
            "intermediate_spatial_dim tensor([  1, 249, 249])\n",
            "processed_label torch.Size([1, 256, 256])\n",
            "unsqueeze torch.Size([1, 1, 1, 256, 256])\n"
          ]
        },
        {
          "name": "stderr",
          "output_type": "stream",
          "text": [
            " 72%|███████▏  | 164/228 [00:20<00:07,  8.82it/s]"
          ]
        },
        {
          "name": "stdout",
          "output_type": "stream",
          "text": [
            "intermediate_spatial_dim tensor([  1, 512, 512])\n",
            "processed_label torch.Size([1, 256, 256])\n",
            "unsqueeze torch.Size([1, 1, 1, 256, 256])\n",
            "intermediate_spatial_dim tensor([  1, 512, 512])\n",
            "processed_label torch.Size([1, 256, 256])\n",
            "unsqueeze torch.Size([1, 1, 1, 256, 256])\n",
            "intermediate_spatial_dim tensor([  1, 249, 249])\n",
            "processed_label torch.Size([1, 256, 256])\n",
            "unsqueeze torch.Size([1, 1, 1, 256, 256])\n",
            "intermediate_spatial_dim tensor([  1, 512, 512])\n",
            "processed_label torch.Size([1, 256, 256])\n",
            "unsqueeze torch.Size([1, 1, 1, 256, 256])\n",
            "intermediate_spatial_dim tensor([  1, 512, 512])\n",
            "processed_label torch.Size([1, 256, 256])\n",
            "unsqueeze torch.Size([1, 1, 1, 256, 256])\n",
            "intermediate_spatial_dim tensor([  1, 249, 249])\n",
            "processed_label torch.Size([1, 256, 256])\n",
            "unsqueeze torch.Size([1, 1, 1, 256, 256])\n",
            "intermediate_spatial_dim tensor([  1, 512, 512])\n",
            "processed_label torch.Size([1, 256, 256])\n",
            "unsqueeze torch.Size([1, 1, 1, 256, 256])\n",
            "intermediate_spatial_dim tensor([  1, 512, 512])\n",
            "processed_label torch.Size([1, 256, 256])\n",
            "unsqueeze torch.Size([1, 1, 1, 256, 256])\n"
          ]
        },
        {
          "name": "stderr",
          "output_type": "stream",
          "text": [
            " 73%|███████▎  | 166/228 [00:20<00:06,  8.94it/s]"
          ]
        },
        {
          "name": "stdout",
          "output_type": "stream",
          "text": [
            "intermediate_spatial_dim tensor([  1, 249, 249])\n",
            "processed_label torch.Size([1, 256, 256])\n",
            "unsqueeze torch.Size([1, 1, 1, 256, 256])\n",
            "intermediate_spatial_dim tensor([  1, 512, 512])\n",
            "processed_label torch.Size([1, 256, 256])\n",
            "unsqueeze torch.Size([1, 1, 1, 256, 256])\n",
            "intermediate_spatial_dim tensor([  1, 512, 512])\n",
            "processed_label torch.Size([1, 256, 256])\n",
            "unsqueeze torch.Size([1, 1, 1, 256, 256])\n",
            "intermediate_spatial_dim tensor([  1, 249, 249])\n",
            "processed_label torch.Size([1, 256, 256])\n",
            "unsqueeze torch.Size([1, 1, 1, 256, 256])\n",
            "intermediate_spatial_dim tensor([  1, 512, 512])\n",
            "processed_label torch.Size([1, 256, 256])\n",
            "unsqueeze torch.Size([1, 1, 1, 256, 256])\n",
            "intermediate_spatial_dim tensor([  1, 512, 512])\n",
            "processed_label torch.Size([1, 256, 256])\n",
            "unsqueeze torch.Size([1, 1, 1, 256, 256])\n"
          ]
        },
        {
          "name": "stderr",
          "output_type": "stream",
          "text": [
            " 74%|███████▎  | 168/228 [00:20<00:06,  9.10it/s]"
          ]
        },
        {
          "name": "stdout",
          "output_type": "stream",
          "text": [
            "intermediate_spatial_dim tensor([  1, 249, 249])\n",
            "processed_label torch.Size([1, 256, 256])\n",
            "unsqueeze torch.Size([1, 1, 1, 256, 256])\n",
            "intermediate_spatial_dim tensor([  1, 512, 512])\n",
            "processed_label torch.Size([1, 256, 256])\n",
            "unsqueeze torch.Size([1, 1, 1, 256, 256])\n",
            "intermediate_spatial_dim tensor([  1, 512, 512])\n",
            "processed_label torch.Size([1, 256, 256])\n",
            "unsqueeze torch.Size([1, 1, 1, 256, 256])\n",
            "intermediate_spatial_dim tensor([  1, 249, 249])\n",
            "processed_label torch.Size([1, 256, 256])\n",
            "unsqueeze torch.Size([1, 1, 1, 256, 256])\n",
            "intermediate_spatial_dim tensor([  1, 512, 512])\n",
            "processed_label torch.Size([1, 256, 256])\n",
            "unsqueeze torch.Size([1, 1, 1, 256, 256])\n",
            "intermediate_spatial_dim tensor([  1, 512, 512])\n",
            "processed_label torch.Size([1, 256, 256])\n",
            "unsqueeze torch.Size([1, 1, 1, 256, 256])\n"
          ]
        },
        {
          "name": "stderr",
          "output_type": "stream",
          "text": [
            " 75%|███████▍  | 170/228 [00:20<00:06,  9.27it/s]"
          ]
        },
        {
          "name": "stdout",
          "output_type": "stream",
          "text": [
            "intermediate_spatial_dim tensor([  1, 249, 249])\n",
            "processed_label torch.Size([1, 256, 256])\n",
            "unsqueeze torch.Size([1, 1, 1, 256, 256])\n",
            "intermediate_spatial_dim tensor([  1, 512, 512])\n",
            "processed_label torch.Size([1, 256, 256])\n",
            "unsqueeze torch.Size([1, 1, 1, 256, 256])\n",
            "intermediate_spatial_dim tensor([  1, 512, 512])\n",
            "processed_label torch.Size([1, 256, 256])\n",
            "unsqueeze torch.Size([1, 1, 1, 256, 256])\n",
            "intermediate_spatial_dim tensor([  1, 249, 249])\n",
            "processed_label torch.Size([1, 256, 256])\n",
            "unsqueeze torch.Size([1, 1, 1, 256, 256])\n",
            "intermediate_spatial_dim tensor([  1, 512, 512])\n",
            "processed_label torch.Size([1, 256, 256])\n",
            "unsqueeze torch.Size([1, 1, 1, 256, 256])\n",
            "intermediate_spatial_dim tensor([  1, 512, 512])\n",
            "processed_label torch.Size([1, 256, 256])\n",
            "unsqueeze torch.Size([1, 1, 1, 256, 256])\n"
          ]
        },
        {
          "name": "stderr",
          "output_type": "stream",
          "text": [
            " 75%|███████▌  | 172/228 [00:20<00:06,  9.33it/s]"
          ]
        },
        {
          "name": "stdout",
          "output_type": "stream",
          "text": [
            "intermediate_spatial_dim tensor([  1, 249, 249])\n",
            "processed_label torch.Size([1, 256, 256])\n",
            "unsqueeze torch.Size([1, 1, 1, 256, 256])\n",
            "intermediate_spatial_dim tensor([  1, 512, 512])\n",
            "processed_label torch.Size([1, 256, 256])\n",
            "unsqueeze torch.Size([1, 1, 1, 256, 256])\n",
            "intermediate_spatial_dim tensor([  1, 512, 512])\n",
            "processed_label torch.Size([1, 256, 256])\n",
            "unsqueeze torch.Size([1, 1, 1, 256, 256])\n",
            "intermediate_spatial_dim tensor([  1, 249, 249])\n",
            "processed_label torch.Size([1, 256, 256])\n",
            "unsqueeze torch.Size([1, 1, 1, 256, 256])\n",
            "intermediate_spatial_dim tensor([  1, 512, 512])\n",
            "processed_label torch.Size([1, 256, 256])\n",
            "unsqueeze torch.Size([1, 1, 1, 256, 256])\n",
            "intermediate_spatial_dim tensor([  1, 512, 512])\n",
            "processed_label torch.Size([1, 256, 256])\n",
            "unsqueeze torch.Size([1, 1, 1, 256, 256])\n"
          ]
        },
        {
          "name": "stderr",
          "output_type": "stream",
          "text": [
            " 76%|███████▋  | 174/228 [00:21<00:05,  9.32it/s]"
          ]
        },
        {
          "name": "stdout",
          "output_type": "stream",
          "text": [
            "intermediate_spatial_dim tensor([  1, 249, 249])\n",
            "processed_label torch.Size([1, 256, 256])\n",
            "unsqueeze torch.Size([1, 1, 1, 256, 256])\n",
            "intermediate_spatial_dim tensor([  1, 512, 512])\n",
            "processed_label torch.Size([1, 256, 256])\n",
            "unsqueeze torch.Size([1, 1, 1, 256, 256])\n",
            "intermediate_spatial_dim tensor([  1, 512, 512])\n",
            "processed_label torch.Size([1, 256, 256])\n",
            "unsqueeze torch.Size([1, 1, 1, 256, 256])\n",
            "intermediate_spatial_dim tensor([  1, 249, 249])\n",
            "processed_label torch.Size([1, 256, 256])\n",
            "unsqueeze torch.Size([1, 1, 1, 256, 256])\n"
          ]
        },
        {
          "name": "stderr",
          "output_type": "stream",
          "text": [
            " 77%|███████▋  | 176/228 [00:21<00:06,  8.53it/s]"
          ]
        },
        {
          "name": "stdout",
          "output_type": "stream",
          "text": [
            "intermediate_spatial_dim tensor([  1, 512, 512])\n",
            "processed_label torch.Size([1, 256, 256])\n",
            "unsqueeze torch.Size([1, 1, 1, 256, 256])\n",
            "intermediate_spatial_dim tensor([  1, 512, 512])\n",
            "processed_label torch.Size([1, 256, 256])\n",
            "unsqueeze torch.Size([1, 1, 1, 256, 256])\n",
            "intermediate_spatial_dim tensor([  1, 249, 249])\n",
            "processed_label torch.Size([1, 256, 256])\n",
            "unsqueeze torch.Size([1, 1, 1, 256, 256])\n",
            "intermediate_spatial_dim tensor([  1, 512, 512])\n",
            "processed_label torch.Size([1, 256, 256])\n",
            "unsqueeze torch.Size([1, 1, 1, 256, 256])\n",
            "intermediate_spatial_dim tensor([  1, 512, 512])\n",
            "processed_label torch.Size([1, 256, 256])\n",
            "unsqueeze torch.Size([1, 1, 1, 256, 256])\n",
            "intermediate_spatial_dim tensor([  1, 249, 249])\n",
            "processed_label torch.Size([1, 256, 256])\n",
            "unsqueeze torch.Size([1, 1, 1, 256, 256])\n"
          ]
        },
        {
          "name": "stderr",
          "output_type": "stream",
          "text": [
            " 78%|███████▊  | 178/228 [00:21<00:05,  8.71it/s]"
          ]
        },
        {
          "name": "stdout",
          "output_type": "stream",
          "text": [
            "intermediate_spatial_dim tensor([  1, 512, 512])\n",
            "processed_label torch.Size([1, 256, 256])\n",
            "unsqueeze torch.Size([1, 1, 1, 256, 256])\n",
            "intermediate_spatial_dim tensor([  1, 512, 512])\n",
            "processed_label torch.Size([1, 256, 256])\n",
            "unsqueeze torch.Size([1, 1, 1, 256, 256])\n",
            "intermediate_spatial_dim tensor([  1, 250, 250])\n",
            "processed_label torch.Size([1, 256, 256])\n",
            "unsqueeze torch.Size([1, 1, 1, 256, 256])\n",
            "intermediate_spatial_dim tensor([  1, 512, 512])\n",
            "processed_label torch.Size([1, 256, 256])\n",
            "unsqueeze torch.Size([1, 1, 1, 256, 256])\n",
            "intermediate_spatial_dim tensor([  1, 512, 512])\n",
            "processed_label torch.Size([1, 256, 256])\n",
            "unsqueeze torch.Size([1, 1, 1, 256, 256])\n",
            "intermediate_spatial_dim tensor([  1, 250, 250])\n",
            "processed_label torch.Size([1, 256, 256])\n",
            "unsqueeze torch.Size([1, 1, 1, 256, 256])\n"
          ]
        },
        {
          "name": "stderr",
          "output_type": "stream",
          "text": [
            " 79%|███████▉  | 180/228 [00:21<00:05,  8.80it/s]"
          ]
        },
        {
          "name": "stdout",
          "output_type": "stream",
          "text": [
            "intermediate_spatial_dim tensor([  1, 512, 512])\n",
            "processed_label torch.Size([1, 256, 256])\n",
            "unsqueeze torch.Size([1, 1, 1, 256, 256])\n",
            "intermediate_spatial_dim tensor([  1, 512, 512])\n",
            "processed_label torch.Size([1, 256, 256])\n",
            "unsqueeze torch.Size([1, 1, 1, 256, 256])\n",
            "intermediate_spatial_dim tensor([  1, 250, 250])\n",
            "processed_label torch.Size([1, 256, 256])\n",
            "unsqueeze torch.Size([1, 1, 1, 256, 256])\n",
            "intermediate_spatial_dim tensor([  1, 512, 512])\n",
            "processed_label torch.Size([1, 256, 256])\n",
            "unsqueeze torch.Size([1, 1, 1, 256, 256])\n",
            "intermediate_spatial_dim tensor([  1, 512, 512])\n",
            "processed_label torch.Size([1, 256, 256])\n",
            "unsqueeze torch.Size([1, 1, 1, 256, 256])\n",
            "intermediate_spatial_dim tensor([  1, 250, 250])\n",
            "processed_label torch.Size([1, 256, 256])\n",
            "unsqueeze torch.Size([1, 1, 1, 256, 256])\n"
          ]
        },
        {
          "name": "stderr",
          "output_type": "stream",
          "text": [
            " 80%|███████▉  | 182/228 [00:22<00:05,  8.32it/s]"
          ]
        },
        {
          "name": "stdout",
          "output_type": "stream",
          "text": [
            "intermediate_spatial_dim tensor([  1, 512, 512])\n",
            "processed_label torch.Size([1, 256, 256])\n",
            "unsqueeze torch.Size([1, 1, 1, 256, 256])\n",
            "intermediate_spatial_dim tensor([  1, 512, 512])\n",
            "processed_label torch.Size([1, 256, 256])\n",
            "unsqueeze torch.Size([1, 1, 1, 256, 256])\n",
            "intermediate_spatial_dim tensor([  1, 250, 250])\n",
            "processed_label torch.Size([1, 256, 256])\n",
            "unsqueeze torch.Size([1, 1, 1, 256, 256])\n",
            "intermediate_spatial_dim tensor([  1, 512, 512])\n",
            "processed_label torch.Size([1, 256, 256])\n",
            "unsqueeze torch.Size([1, 1, 1, 256, 256])\n",
            "intermediate_spatial_dim tensor([  1, 512, 512])\n",
            "processed_label torch.Size([1, 256, 256])\n",
            "unsqueeze torch.Size([1, 1, 1, 256, 256])\n",
            "intermediate_spatial_dim tensor([  1, 250, 250])\n",
            "processed_label torch.Size([1, 256, 256])\n",
            "unsqueeze torch.Size([1, 1, 1, 256, 256])\n"
          ]
        },
        {
          "name": "stderr",
          "output_type": "stream",
          "text": [
            " 81%|████████  | 184/228 [00:22<00:05,  7.98it/s]"
          ]
        },
        {
          "name": "stdout",
          "output_type": "stream",
          "text": [
            "intermediate_spatial_dim tensor([  1, 512, 512])\n",
            "processed_label torch.Size([1, 256, 256])\n",
            "unsqueeze torch.Size([1, 1, 1, 256, 256])\n",
            "intermediate_spatial_dim tensor([  1, 512, 512])\n",
            "processed_label torch.Size([1, 256, 256])\n",
            "unsqueeze torch.Size([1, 1, 1, 256, 256])\n",
            "intermediate_spatial_dim tensor([  1, 250, 250])\n",
            "processed_label torch.Size([1, 256, 256])\n",
            "unsqueeze torch.Size([1, 1, 1, 256, 256])\n",
            "intermediate_spatial_dim tensor([  1, 512, 512])\n",
            "processed_label torch.Size([1, 256, 256])\n",
            "unsqueeze torch.Size([1, 1, 1, 256, 256])\n",
            "intermediate_spatial_dim tensor([  1, 512, 512])\n",
            "processed_label torch.Size([1, 256, 256])\n",
            "unsqueeze torch.Size([1, 1, 1, 256, 256])\n",
            "intermediate_spatial_dim tensor([  1, 250, 250])\n",
            "processed_label torch.Size([1, 256, 256])\n",
            "unsqueeze torch.Size([1, 1, 1, 256, 256])\n"
          ]
        },
        {
          "name": "stderr",
          "output_type": "stream",
          "text": [
            " 82%|████████▏ | 186/228 [00:22<00:05,  8.08it/s]"
          ]
        },
        {
          "name": "stdout",
          "output_type": "stream",
          "text": [
            "intermediate_spatial_dim tensor([  1, 512, 512])\n",
            "processed_label torch.Size([1, 256, 256])\n",
            "unsqueeze torch.Size([1, 1, 1, 256, 256])\n",
            "intermediate_spatial_dim tensor([  1, 512, 512])\n",
            "processed_label torch.Size([1, 256, 256])\n",
            "unsqueeze torch.Size([1, 1, 1, 256, 256])\n",
            "intermediate_spatial_dim tensor([  1, 250, 250])\n",
            "processed_label torch.Size([1, 256, 256])\n",
            "unsqueeze torch.Size([1, 1, 1, 256, 256])\n",
            "intermediate_spatial_dim tensor([  1, 512, 512])\n",
            "processed_label torch.Size([1, 256, 256])\n",
            "unsqueeze torch.Size([1, 1, 1, 256, 256])\n",
            "intermediate_spatial_dim tensor([  1, 512, 512])\n",
            "processed_label torch.Size([1, 256, 256])\n",
            "unsqueeze torch.Size([1, 1, 1, 256, 256])\n",
            "intermediate_spatial_dim tensor([  1, 250, 250])\n",
            "processed_label torch.Size([1, 256, 256])\n",
            "unsqueeze torch.Size([1, 1, 1, 256, 256])\n"
          ]
        },
        {
          "name": "stderr",
          "output_type": "stream",
          "text": [
            " 82%|████████▏ | 188/228 [00:22<00:04,  8.37it/s]"
          ]
        },
        {
          "name": "stdout",
          "output_type": "stream",
          "text": [
            "intermediate_spatial_dim tensor([  1, 512, 512])\n",
            "processed_label torch.Size([1, 256, 256])\n",
            "unsqueeze torch.Size([1, 1, 1, 256, 256])\n",
            "intermediate_spatial_dim tensor([  1, 512, 512])\n",
            "processed_label torch.Size([1, 256, 256])\n",
            "unsqueeze torch.Size([1, 1, 1, 256, 256])\n",
            "intermediate_spatial_dim tensor([  1, 250, 250])\n",
            "processed_label torch.Size([1, 256, 256])\n",
            "unsqueeze torch.Size([1, 1, 1, 256, 256])\n",
            "intermediate_spatial_dim tensor([  1, 512, 512])\n",
            "processed_label torch.Size([1, 256, 256])\n",
            "unsqueeze torch.Size([1, 1, 1, 256, 256])\n",
            "intermediate_spatial_dim tensor([  1, 512, 512])\n",
            "processed_label torch.Size([1, 256, 256])\n",
            "unsqueeze torch.Size([1, 1, 1, 256, 256])\n",
            "intermediate_spatial_dim tensor([  1, 250, 250])\n",
            "processed_label torch.Size([1, 256, 256])\n",
            "unsqueeze torch.Size([1, 1, 1, 256, 256])\n"
          ]
        },
        {
          "name": "stderr",
          "output_type": "stream",
          "text": [
            " 83%|████████▎ | 190/228 [00:23<00:04,  9.00it/s]"
          ]
        },
        {
          "name": "stdout",
          "output_type": "stream",
          "text": [
            "intermediate_spatial_dim tensor([  1, 512, 512])\n",
            "processed_label torch.Size([1, 256, 256])\n",
            "unsqueeze torch.Size([1, 1, 1, 256, 256])\n",
            "intermediate_spatial_dim tensor([  1, 512, 512])\n",
            "processed_label torch.Size([1, 256, 256])\n",
            "unsqueeze torch.Size([1, 1, 1, 256, 256])\n",
            "intermediate_spatial_dim tensor([  1, 250, 250])\n",
            "processed_label torch.Size([1, 256, 256])\n",
            "unsqueeze torch.Size([1, 1, 1, 256, 256])\n",
            "intermediate_spatial_dim tensor([  1, 512, 512])\n",
            "processed_label torch.Size([1, 256, 256])\n",
            "unsqueeze torch.Size([1, 1, 1, 256, 256])\n",
            "intermediate_spatial_dim tensor([  1, 512, 512])\n",
            "processed_label torch.Size([1, 256, 256])\n",
            "unsqueeze torch.Size([1, 1, 1, 256, 256])\n",
            "intermediate_spatial_dim tensor([  1, 250, 250])\n",
            "processed_label torch.Size([1, 256, 256])\n",
            "unsqueeze torch.Size([1, 1, 1, 256, 256])\n"
          ]
        },
        {
          "name": "stderr",
          "output_type": "stream",
          "text": [
            " 84%|████████▍ | 192/228 [00:23<00:04,  8.93it/s]"
          ]
        },
        {
          "name": "stdout",
          "output_type": "stream",
          "text": [
            "intermediate_spatial_dim tensor([  1, 512, 512])\n",
            "processed_label torch.Size([1, 256, 256])\n",
            "unsqueeze torch.Size([1, 1, 1, 256, 256])\n",
            "intermediate_spatial_dim tensor([  1, 512, 512])\n",
            "processed_label torch.Size([1, 256, 256])\n",
            "unsqueeze torch.Size([1, 1, 1, 256, 256])\n",
            "intermediate_spatial_dim tensor([  1, 250, 250])\n",
            "processed_label torch.Size([1, 256, 256])\n",
            "unsqueeze torch.Size([1, 1, 1, 256, 256])\n",
            "intermediate_spatial_dim tensor([  1, 512, 512])\n",
            "processed_label torch.Size([1, 256, 256])\n",
            "unsqueeze torch.Size([1, 1, 1, 256, 256])\n",
            "intermediate_spatial_dim tensor([  1, 512, 512])\n",
            "processed_label torch.Size([1, 256, 256])\n",
            "unsqueeze torch.Size([1, 1, 1, 256, 256])\n",
            "intermediate_spatial_dim tensor([  1, 250, 250])\n",
            "processed_label torch.Size([1, 256, 256])\n",
            "unsqueeze torch.Size([1, 1, 1, 256, 256])\n"
          ]
        },
        {
          "name": "stderr",
          "output_type": "stream",
          "text": [
            " 85%|████████▌ | 194/228 [00:23<00:03,  8.53it/s]"
          ]
        },
        {
          "name": "stdout",
          "output_type": "stream",
          "text": [
            "intermediate_spatial_dim tensor([  1, 512, 512])\n",
            "processed_label torch.Size([1, 256, 256])\n",
            "unsqueeze torch.Size([1, 1, 1, 256, 256])\n",
            "intermediate_spatial_dim tensor([  1, 512, 512])\n",
            "processed_label torch.Size([1, 256, 256])\n",
            "unsqueeze torch.Size([1, 1, 1, 256, 256])\n",
            "intermediate_spatial_dim tensor([  1, 250, 250])\n",
            "processed_label torch.Size([1, 256, 256])\n",
            "unsqueeze torch.Size([1, 1, 1, 256, 256])\n",
            "intermediate_spatial_dim tensor([  1, 512, 512])\n",
            "processed_label torch.Size([1, 256, 256])\n",
            "unsqueeze torch.Size([1, 1, 1, 256, 256])\n",
            "intermediate_spatial_dim tensor([  1, 512, 512])\n",
            "processed_label torch.Size([1, 256, 256])\n",
            "unsqueeze torch.Size([1, 1, 1, 256, 256])\n",
            "intermediate_spatial_dim tensor([  1, 251, 251])\n",
            "processed_label torch.Size([1, 256, 256])\n",
            "unsqueeze torch.Size([1, 1, 1, 256, 256])\n"
          ]
        },
        {
          "name": "stderr",
          "output_type": "stream",
          "text": [
            " 86%|████████▌ | 196/228 [00:23<00:03,  8.42it/s]"
          ]
        },
        {
          "name": "stdout",
          "output_type": "stream",
          "text": [
            "intermediate_spatial_dim tensor([  1, 512, 512])\n",
            "processed_label torch.Size([1, 256, 256])\n",
            "unsqueeze torch.Size([1, 1, 1, 256, 256])\n",
            "intermediate_spatial_dim tensor([  1, 512, 512])\n",
            "processed_label torch.Size([1, 256, 256])\n",
            "unsqueeze torch.Size([1, 1, 1, 256, 256])\n",
            "intermediate_spatial_dim tensor([  1, 251, 251])\n",
            "processed_label torch.Size([1, 256, 256])\n",
            "unsqueeze torch.Size([1, 1, 1, 256, 256])\n",
            "intermediate_spatial_dim tensor([  1, 512, 512])\n",
            "processed_label torch.Size([1, 256, 256])\n",
            "unsqueeze torch.Size([1, 1, 1, 256, 256])\n",
            "intermediate_spatial_dim tensor([  1, 512, 512])\n",
            "processed_label torch.Size([1, 256, 256])\n",
            "unsqueeze torch.Size([1, 1, 1, 256, 256])\n",
            "intermediate_spatial_dim tensor([  1, 251, 251])\n",
            "processed_label torch.Size([1, 256, 256])\n",
            "unsqueeze torch.Size([1, 1, 1, 256, 256])\n"
          ]
        },
        {
          "name": "stderr",
          "output_type": "stream",
          "text": [
            " 87%|████████▋ | 198/228 [00:23<00:03,  8.72it/s]"
          ]
        },
        {
          "name": "stdout",
          "output_type": "stream",
          "text": [
            "intermediate_spatial_dim tensor([  1, 512, 512])\n",
            "processed_label torch.Size([1, 256, 256])\n",
            "unsqueeze torch.Size([1, 1, 1, 256, 256])\n",
            "intermediate_spatial_dim tensor([  1, 512, 512])\n",
            "processed_label torch.Size([1, 256, 256])\n",
            "unsqueeze torch.Size([1, 1, 1, 256, 256])\n",
            "intermediate_spatial_dim tensor([  1, 251, 251])\n",
            "processed_label torch.Size([1, 256, 256])\n",
            "unsqueeze torch.Size([1, 1, 1, 256, 256])\n",
            "intermediate_spatial_dim tensor([  1, 512, 512])\n",
            "processed_label torch.Size([1, 256, 256])\n",
            "unsqueeze torch.Size([1, 1, 1, 256, 256])\n",
            "intermediate_spatial_dim tensor([  1, 512, 512])\n",
            "processed_label torch.Size([1, 256, 256])\n",
            "unsqueeze torch.Size([1, 1, 1, 256, 256])\n",
            "intermediate_spatial_dim tensor([  1, 251, 251])\n",
            "processed_label torch.Size([1, 256, 256])\n",
            "unsqueeze torch.Size([1, 1, 1, 256, 256])\n"
          ]
        },
        {
          "name": "stderr",
          "output_type": "stream",
          "text": [
            " 88%|████████▊ | 200/228 [00:24<00:03,  8.66it/s]"
          ]
        },
        {
          "name": "stdout",
          "output_type": "stream",
          "text": [
            "intermediate_spatial_dim tensor([  1, 512, 512])\n",
            "processed_label torch.Size([1, 256, 256])\n",
            "unsqueeze torch.Size([1, 1, 1, 256, 256])\n",
            "intermediate_spatial_dim tensor([  1, 512, 512])\n",
            "processed_label torch.Size([1, 256, 256])\n",
            "unsqueeze torch.Size([1, 1, 1, 256, 256])\n",
            "intermediate_spatial_dim tensor([  1, 251, 251])\n",
            "processed_label torch.Size([1, 256, 256])\n",
            "unsqueeze torch.Size([1, 1, 1, 256, 256])\n",
            "intermediate_spatial_dim tensor([  1, 512, 512])\n",
            "processed_label torch.Size([1, 256, 256])\n",
            "unsqueeze torch.Size([1, 1, 1, 256, 256])\n",
            "intermediate_spatial_dim tensor([  1, 512, 512])\n",
            "processed_label torch.Size([1, 256, 256])\n",
            "unsqueeze torch.Size([1, 1, 1, 256, 256])\n",
            "intermediate_spatial_dim tensor([  1, 251, 251])\n",
            "processed_label torch.Size([1, 256, 256])\n",
            "unsqueeze torch.Size([1, 1, 1, 256, 256])\n"
          ]
        },
        {
          "name": "stderr",
          "output_type": "stream",
          "text": [
            " 89%|████████▊ | 202/228 [00:24<00:03,  8.47it/s]"
          ]
        },
        {
          "name": "stdout",
          "output_type": "stream",
          "text": [
            "intermediate_spatial_dim tensor([  1, 512, 512])\n",
            "processed_label torch.Size([1, 256, 256])\n",
            "unsqueeze torch.Size([1, 1, 1, 256, 256])\n",
            "intermediate_spatial_dim tensor([  1, 512, 512])\n",
            "processed_label torch.Size([1, 256, 256])\n",
            "unsqueeze torch.Size([1, 1, 1, 256, 256])\n",
            "intermediate_spatial_dim tensor([  1, 251, 251])\n",
            "processed_label torch.Size([1, 256, 256])\n",
            "unsqueeze torch.Size([1, 1, 1, 256, 256])\n",
            "intermediate_spatial_dim tensor([  1, 512, 512])\n",
            "processed_label torch.Size([1, 256, 256])\n",
            "unsqueeze torch.Size([1, 1, 1, 256, 256])\n",
            "intermediate_spatial_dim tensor([  1, 512, 512])\n",
            "processed_label torch.Size([1, 256, 256])\n",
            "unsqueeze torch.Size([1, 1, 1, 256, 256])\n",
            "intermediate_spatial_dim tensor([  1, 251, 251])\n",
            "processed_label torch.Size([1, 256, 256])\n",
            "unsqueeze torch.Size([1, 1, 1, 256, 256])\n"
          ]
        },
        {
          "name": "stderr",
          "output_type": "stream",
          "text": [
            " 89%|████████▉ | 204/228 [00:24<00:02,  8.89it/s]"
          ]
        },
        {
          "name": "stdout",
          "output_type": "stream",
          "text": [
            "intermediate_spatial_dim tensor([  1, 512, 512])\n",
            "processed_label torch.Size([1, 256, 256])\n",
            "unsqueeze torch.Size([1, 1, 1, 256, 256])\n",
            "intermediate_spatial_dim tensor([  1, 512, 512])\n",
            "processed_label torch.Size([1, 256, 256])\n",
            "unsqueeze torch.Size([1, 1, 1, 256, 256])\n",
            "intermediate_spatial_dim tensor([  1, 251, 251])\n",
            "processed_label torch.Size([1, 256, 256])\n",
            "unsqueeze torch.Size([1, 1, 1, 256, 256])\n",
            "intermediate_spatial_dim tensor([  1, 512, 512])\n",
            "processed_label torch.Size([1, 256, 256])\n",
            "unsqueeze torch.Size([1, 1, 1, 256, 256])\n",
            "intermediate_spatial_dim tensor([  1, 512, 512])\n",
            "processed_label torch.Size([1, 256, 256])\n",
            "unsqueeze torch.Size([1, 1, 1, 256, 256])\n",
            "intermediate_spatial_dim tensor([  1, 251, 251])\n",
            "processed_label torch.Size([1, 256, 256])\n",
            "unsqueeze torch.Size([1, 1, 1, 256, 256])\n",
            "intermediate_spatial_dim tensor([  1, 512, 512])\n",
            "processed_label torch.Size([1, 256, 256])\n",
            "unsqueeze torch.Size([1, 1, 1, 256, 256])\n",
            "intermediate_spatial_dim tensor([  1, 512, 512])\n",
            "processed_label torch.Size([1, 256, 256])\n",
            "unsqueeze torch.Size([1, 1, 1, 256, 256])\n"
          ]
        },
        {
          "name": "stderr",
          "output_type": "stream",
          "text": [
            " 91%|█████████ | 207/228 [00:25<00:02,  8.87it/s]"
          ]
        },
        {
          "name": "stdout",
          "output_type": "stream",
          "text": [
            "intermediate_spatial_dim tensor([  1, 251, 251])\n",
            "processed_label torch.Size([1, 256, 256])\n",
            "unsqueeze torch.Size([1, 1, 1, 256, 256])\n",
            "intermediate_spatial_dim tensor([  1, 512, 512])\n",
            "processed_label torch.Size([1, 256, 256])\n",
            "unsqueeze torch.Size([1, 1, 1, 256, 256])\n",
            "intermediate_spatial_dim tensor([  1, 512, 512])\n",
            "processed_label torch.Size([1, 256, 256])\n",
            "unsqueeze torch.Size([1, 1, 1, 256, 256])\n",
            "intermediate_spatial_dim tensor([  1, 251, 251])\n",
            "processed_label torch.Size([1, 256, 256])\n",
            "unsqueeze torch.Size([1, 1, 1, 256, 256])\n",
            "intermediate_spatial_dim tensor([  1, 512, 512])\n",
            "processed_label torch.Size([1, 256, 256])\n",
            "unsqueeze torch.Size([1, 1, 1, 256, 256])\n",
            "intermediate_spatial_dim tensor([  1, 512, 512])\n",
            "processed_label torch.Size([1, 256, 256])\n",
            "unsqueeze torch.Size([1, 1, 1, 256, 256])\n"
          ]
        },
        {
          "name": "stderr",
          "output_type": "stream",
          "text": [
            " 91%|█████████ | 208/228 [00:25<00:02,  9.11it/s]"
          ]
        },
        {
          "name": "stdout",
          "output_type": "stream",
          "text": [
            "intermediate_spatial_dim tensor([  1, 251, 251])\n",
            "processed_label torch.Size([1, 256, 256])\n",
            "unsqueeze torch.Size([1, 1, 1, 256, 256])\n",
            "intermediate_spatial_dim tensor([  1, 512, 512])\n",
            "processed_label torch.Size([1, 256, 256])\n",
            "unsqueeze torch.Size([1, 1, 1, 256, 256])\n",
            "intermediate_spatial_dim tensor([  1, 512, 512])\n",
            "processed_label torch.Size([1, 256, 256])\n",
            "unsqueeze torch.Size([1, 1, 1, 256, 256])\n",
            "intermediate_spatial_dim tensor([  1, 251, 251])\n",
            "processed_label torch.Size([1, 256, 256])\n",
            "unsqueeze torch.Size([1, 1, 1, 256, 256])\n",
            "intermediate_spatial_dim tensor([  1, 512, 512])\n",
            "processed_label torch.Size([1, 256, 256])\n",
            "unsqueeze torch.Size([1, 1, 1, 256, 256])\n",
            "intermediate_spatial_dim tensor([  1, 512, 512])\n",
            "processed_label torch.Size([1, 256, 256])\n",
            "unsqueeze torch.Size([1, 1, 1, 256, 256])\n"
          ]
        },
        {
          "name": "stderr",
          "output_type": "stream",
          "text": [
            " 92%|█████████▏| 210/228 [00:25<00:02,  8.44it/s]"
          ]
        },
        {
          "name": "stdout",
          "output_type": "stream",
          "text": [
            "intermediate_spatial_dim tensor([  1, 251, 251])\n",
            "processed_label torch.Size([1, 256, 256])\n",
            "unsqueeze torch.Size([1, 1, 1, 256, 256])\n",
            "intermediate_spatial_dim tensor([  1, 512, 512])\n",
            "processed_label torch.Size([1, 256, 256])\n",
            "unsqueeze torch.Size([1, 1, 1, 256, 256])\n",
            "intermediate_spatial_dim tensor([  1, 512, 512])\n",
            "processed_label torch.Size([1, 256, 256])\n",
            "unsqueeze torch.Size([1, 1, 1, 256, 256])\n",
            "intermediate_spatial_dim tensor([  1, 251, 251])\n",
            "processed_label torch.Size([1, 256, 256])\n",
            "unsqueeze torch.Size([1, 1, 1, 256, 256])\n"
          ]
        },
        {
          "name": "stderr",
          "output_type": "stream",
          "text": [
            " 93%|█████████▎| 212/228 [00:25<00:01,  8.28it/s]"
          ]
        },
        {
          "name": "stdout",
          "output_type": "stream",
          "text": [
            "intermediate_spatial_dim tensor([  1, 512, 512])\n",
            "processed_label torch.Size([1, 256, 256])\n",
            "unsqueeze torch.Size([1, 1, 1, 256, 256])\n",
            "intermediate_spatial_dim tensor([  1, 512, 512])\n",
            "processed_label torch.Size([1, 256, 256])\n",
            "unsqueeze torch.Size([1, 1, 1, 256, 256])\n",
            "intermediate_spatial_dim tensor([  1, 251, 251])\n",
            "processed_label torch.Size([1, 256, 256])\n",
            "unsqueeze torch.Size([1, 1, 1, 256, 256])\n",
            "intermediate_spatial_dim tensor([  1, 512, 512])\n",
            "processed_label torch.Size([1, 256, 256])\n",
            "unsqueeze torch.Size([1, 1, 1, 256, 256])\n",
            "intermediate_spatial_dim tensor([  1, 512, 512])\n",
            "processed_label torch.Size([1, 256, 256])\n",
            "unsqueeze torch.Size([1, 1, 1, 256, 256])\n",
            "intermediate_spatial_dim tensor([  1, 251, 251])\n",
            "processed_label torch.Size([1, 256, 256])\n",
            "unsqueeze torch.Size([1, 1, 1, 256, 256])\n"
          ]
        },
        {
          "name": "stderr",
          "output_type": "stream",
          "text": [
            " 94%|█████████▍| 214/228 [00:25<00:01,  8.07it/s]"
          ]
        },
        {
          "name": "stdout",
          "output_type": "stream",
          "text": [
            "intermediate_spatial_dim tensor([  1, 512, 512])\n",
            "processed_label torch.Size([1, 256, 256])\n",
            "unsqueeze torch.Size([1, 1, 1, 256, 256])\n",
            "intermediate_spatial_dim tensor([  1, 512, 512])\n",
            "processed_label torch.Size([1, 256, 256])\n",
            "unsqueeze torch.Size([1, 1, 1, 256, 256])\n",
            "intermediate_spatial_dim tensor([  1, 251, 251])\n",
            "processed_label torch.Size([1, 256, 256])\n",
            "unsqueeze torch.Size([1, 1, 1, 256, 256])\n",
            "intermediate_spatial_dim tensor([  1, 512, 512])\n",
            "processed_label torch.Size([1, 256, 256])\n",
            "unsqueeze torch.Size([1, 1, 1, 256, 256])\n",
            "intermediate_spatial_dim tensor([  1, 512, 512])\n",
            "processed_label torch.Size([1, 256, 256])\n",
            "unsqueeze torch.Size([1, 1, 1, 256, 256])\n",
            "intermediate_spatial_dim tensor([  1, 251, 251])\n",
            "processed_label torch.Size([1, 256, 256])\n",
            "unsqueeze torch.Size([1, 1, 1, 256, 256])\n"
          ]
        },
        {
          "name": "stderr",
          "output_type": "stream",
          "text": [
            " 95%|█████████▍| 216/228 [00:26<00:01,  8.00it/s]"
          ]
        },
        {
          "name": "stdout",
          "output_type": "stream",
          "text": [
            "intermediate_spatial_dim tensor([  1, 512, 512])\n",
            "processed_label torch.Size([1, 256, 256])\n",
            "unsqueeze torch.Size([1, 1, 1, 256, 256])\n",
            "intermediate_spatial_dim tensor([  1, 512, 512])\n",
            "processed_label torch.Size([1, 256, 256])\n",
            "unsqueeze torch.Size([1, 1, 1, 256, 256])\n",
            "intermediate_spatial_dim tensor([  1, 252, 252])\n",
            "processed_label torch.Size([1, 256, 256])\n",
            "unsqueeze torch.Size([1, 1, 1, 256, 256])\n",
            "intermediate_spatial_dim tensor([  1, 251, 251])\n",
            "processed_label torch.Size([1, 256, 256])\n",
            "unsqueeze torch.Size([1, 1, 1, 256, 256])\n",
            "intermediate_spatial_dim tensor([  1, 512, 512])\n",
            "processed_label torch.Size([1, 256, 256])\n",
            "unsqueeze torch.Size([1, 1, 1, 256, 256])\n",
            "intermediate_spatial_dim tensor([  1, 512, 512])\n",
            "processed_label torch.Size([1, 256, 256])\n",
            "unsqueeze torch.Size([1, 1, 1, 256, 256])\n",
            "intermediate_spatial_dim tensor([  1, 251, 251])\n",
            "processed_label torch.Size([1, 256, 256])\n",
            "unsqueeze torch.Size([1, 1, 1, 256, 256])\n"
          ]
        },
        {
          "name": "stderr",
          "output_type": "stream",
          "text": [
            " 96%|█████████▌| 218/228 [00:26<00:01,  8.74it/s]"
          ]
        },
        {
          "name": "stdout",
          "output_type": "stream",
          "text": [
            "intermediate_spatial_dim tensor([  1, 512, 512])\n",
            "processed_label torch.Size([1, 256, 256])\n",
            "unsqueeze torch.Size([1, 1, 1, 256, 256])\n",
            "intermediate_spatial_dim tensor([  1, 512, 512])\n",
            "processed_label torch.Size([1, 256, 256])\n",
            "unsqueeze torch.Size([1, 1, 1, 256, 256])\n",
            "intermediate_spatial_dim tensor([  1, 251, 251])\n",
            "processed_label torch.Size([1, 256, 256])\n",
            "unsqueeze torch.Size([1, 1, 1, 256, 256])\n",
            "intermediate_spatial_dim tensor([  1, 512, 512])\n",
            "processed_label torch.Size([1, 256, 256])\n",
            "unsqueeze torch.Size([1, 1, 1, 256, 256])\n",
            "intermediate_spatial_dim tensor([  1, 512, 512])\n",
            "processed_label torch.Size([1, 256, 256])\n",
            "unsqueeze torch.Size([1, 1, 1, 256, 256])\n",
            "intermediate_spatial_dim tensor([  1, 251, 251])\n",
            "processed_label torch.Size([1, 256, 256])\n",
            "unsqueeze torch.Size([1, 1, 1, 256, 256])\n",
            "intermediate_spatial_dim tensor([  1, 512, 512])\n",
            "processed_label torch.Size([1, 256, 256])\n",
            "unsqueeze torch.Size([1, 1, 1, 256, 256])\n",
            "intermediate_spatial_dim tensor([  1, 512, 512])\n",
            "processed_label torch.Size([1, 256, 256])\n",
            "unsqueeze torch.Size([1, 1, 1, 256, 256])\n"
          ]
        },
        {
          "name": "stderr",
          "output_type": "stream",
          "text": [
            " 96%|█████████▋| 220/228 [00:26<00:00,  9.01it/s]"
          ]
        },
        {
          "name": "stdout",
          "output_type": "stream",
          "text": [
            "intermediate_spatial_dim tensor([  1, 252, 252])\n",
            "processed_label torch.Size([1, 256, 256])\n",
            "unsqueeze torch.Size([1, 1, 1, 256, 256])\n",
            "intermediate_spatial_dim tensor([  1, 512, 512])\n",
            "processed_label torch.Size([1, 256, 256])\n",
            "unsqueeze torch.Size([1, 1, 1, 256, 256])\n",
            "intermediate_spatial_dim tensor([  1, 512, 512])\n",
            "processed_label torch.Size([1, 256, 256])\n",
            "unsqueeze torch.Size([1, 1, 1, 256, 256])\n",
            "intermediate_spatial_dim tensor([  1, 252, 252])\n",
            "processed_label torch.Size([1, 256, 256])\n",
            "unsqueeze torch.Size([1, 1, 1, 256, 256])\n"
          ]
        },
        {
          "name": "stderr",
          "output_type": "stream",
          "text": [
            " 97%|█████████▋| 222/228 [00:26<00:00,  8.73it/s]"
          ]
        },
        {
          "name": "stdout",
          "output_type": "stream",
          "text": [
            "intermediate_spatial_dim tensor([  1, 512, 512])\n",
            "processed_label torch.Size([1, 256, 256])\n",
            "unsqueeze torch.Size([1, 1, 1, 256, 256])\n",
            "intermediate_spatial_dim tensor([  1, 512, 512])\n",
            "processed_label torch.Size([1, 256, 256])\n",
            "unsqueeze torch.Size([1, 1, 1, 256, 256])\n",
            "intermediate_spatial_dim tensor([  1, 252, 252])\n",
            "processed_label torch.Size([1, 256, 256])\n",
            "unsqueeze torch.Size([1, 1, 1, 256, 256])\n",
            "intermediate_spatial_dim tensor([  1, 512, 512])\n",
            "processed_label torch.Size([1, 256, 256])\n",
            "unsqueeze torch.Size([1, 1, 1, 256, 256])\n",
            "intermediate_spatial_dim tensor([  1, 512, 512])\n",
            "processed_label torch.Size([1, 256, 256])\n",
            "unsqueeze torch.Size([1, 1, 1, 256, 256])\n",
            "intermediate_spatial_dim tensor([  1, 252, 252])\n",
            "processed_label torch.Size([1, 256, 256])\n",
            "unsqueeze torch.Size([1, 1, 1, 256, 256])\n",
            "intermediate_spatial_dim tensor([  1, 512, 512])\n",
            "processed_label torch.Size([1, 256, 256])\n",
            "unsqueeze torch.Size([1, 1, 1, 256, 256])\n",
            "intermediate_spatial_dim tensor([  1, 512, 512])\n",
            "processed_label torch.Size([1, 256, 256])\n",
            "unsqueeze torch.Size([1, 1, 1, 256, 256])\n"
          ]
        },
        {
          "name": "stderr",
          "output_type": "stream",
          "text": [
            " 98%|█████████▊| 224/228 [00:27<00:00,  8.88it/s]"
          ]
        },
        {
          "name": "stdout",
          "output_type": "stream",
          "text": [
            "intermediate_spatial_dim tensor([  1, 252, 252])\n",
            "processed_label torch.Size([1, 256, 256])\n",
            "unsqueeze torch.Size([1, 1, 1, 256, 256])\n",
            "intermediate_spatial_dim tensor([  1, 512, 512])\n",
            "processed_label torch.Size([1, 256, 256])\n",
            "unsqueeze torch.Size([1, 1, 1, 256, 256])\n",
            "intermediate_spatial_dim tensor([  1, 512, 512])\n",
            "processed_label torch.Size([1, 256, 256])\n",
            "unsqueeze torch.Size([1, 1, 1, 256, 256])\n",
            "intermediate_spatial_dim tensor([  1, 252, 252])\n",
            "processed_label torch.Size([1, 256, 256])\n",
            "unsqueeze torch.Size([1, 1, 1, 256, 256])\n",
            "intermediate_spatial_dim tensor([  1, 512, 512])\n",
            "processed_label torch.Size([1, 256, 256])\n",
            "unsqueeze torch.Size([1, 1, 1, 256, 256])\n",
            "intermediate_spatial_dim tensor([  1, 512, 512])\n",
            "processed_label torch.Size([1, 256, 256])\n",
            "unsqueeze torch.Size([1, 1, 1, 256, 256])\n"
          ]
        },
        {
          "name": "stderr",
          "output_type": "stream",
          "text": [
            " 99%|█████████▉| 226/228 [00:27<00:00,  8.98it/s]"
          ]
        },
        {
          "name": "stdout",
          "output_type": "stream",
          "text": [
            "intermediate_spatial_dim tensor([  1, 253, 253])\n",
            "processed_label torch.Size([1, 256, 256])\n",
            "unsqueeze torch.Size([1, 1, 1, 256, 256])\n",
            "intermediate_spatial_dim tensor([  1, 512, 512])\n",
            "processed_label torch.Size([1, 256, 256])\n",
            "unsqueeze torch.Size([1, 1, 1, 256, 256])\n",
            "intermediate_spatial_dim tensor([  1, 512, 512])\n",
            "processed_label torch.Size([1, 256, 256])\n",
            "unsqueeze torch.Size([1, 1, 1, 256, 256])\n",
            "intermediate_spatial_dim tensor([  1, 253, 253])\n",
            "processed_label torch.Size([1, 256, 256])\n",
            "unsqueeze torch.Size([1, 1, 1, 256, 256])\n",
            "intermediate_spatial_dim tensor([  1, 512, 512])\n",
            "processed_label torch.Size([1, 256, 256])\n",
            "unsqueeze torch.Size([1, 1, 1, 256, 256])\n",
            "intermediate_spatial_dim tensor([  1, 512, 512])\n",
            "processed_label torch.Size([1, 256, 256])\n",
            "unsqueeze torch.Size([1, 1, 1, 256, 256])\n"
          ]
        },
        {
          "name": "stderr",
          "output_type": "stream",
          "text": [
            "100%|██████████| 228/228 [00:27<00:00,  8.34it/s]\n"
          ]
        },
        {
          "name": "stdout",
          "output_type": "stream",
          "text": [
            "Mean Inference Time per Volume: 20.5407 seconds\n",
            "Standard Deviation of Inference Time per Volume: 8.9489 seconds\n",
            "Mean Inference Time per Slice: 0.1109 seconds\n",
            "Standard Deviation of Inference Time per Slice: 0.0500 seconds\n",
            "Frames per second (FPS): 9.02\n",
            "Mean Memory Usage per Volume: 244.12 MB\n",
            "Standard Deviation of Memory Usage: 0.00 MB\n",
            "MODEL CLASS MEAN IOU  0.49928916\n",
            "MODEL CLASS STD IOU  0.000760221\n",
            "\n",
            "MODEL CLASS MEAN DICE  0.49964407\n",
            "MODEL CLASS STD DICE  0.00038089982\n",
            "\n",
            "MODEL DIOU 0.0\n",
            "MODEL DIOU STD  0.0\n",
            "\n",
            "MODEL IOU MASS VOLUME  0.8157894611358643\n",
            "MODEL IOU MASS VOLUME STD  0.3876558\n",
            "\n",
            "MODEL IOU MASS VOLUME NO EMPTY  0.0\n",
            "MODEL IOU MASS VOLUME NO EMPTY STD  0.0\n",
            "\n",
            "MODEL IOU MASS VOLUME NO EMPTY OPTIMISTIC  0.0\n",
            "MODEL IOU MASS VOLUME NO EMPTY OPTIMISTIC STD  0.0\n",
            "MODEL DICE MASS VOLUME  0.8157894611358643\n",
            "MODEL DICE MASS VOLUME STD  0.3876558\n",
            "\n",
            "MODEL DICE MASS VOLUME NO EMPTY  0.0\n",
            "MODEL DICE MASS VOLUME NO EMPTY STD  0.0\n",
            "\n",
            "MODEL DICE MASS VOLUME NO EMPTY OPTIMISTIC  0.0\n",
            "MODEL DICE MASS VOLUME NO EMPTY OPTIMISTIC STD  0.0\n",
            "\n",
            "MODEL MEAN ACCURACY NO EMPTY 0.4998690187931061\n",
            "MODEL MEAN ACCURACY NO EMPTY STD 0.00042707648\n",
            "\n",
            "MODEL MEAN PRECISION NO EMPTY nan\n",
            "MODEL MEAN PRECISION NO EMPTY STD nan\n",
            "\n",
            "MODEL MEAN RECALL NO EMPTY 0.5\n",
            "MODEL MEAN RECALL NO EMPTY STD 0.0\n",
            "\n",
            "MODEL MEAN F1 NO EMPTY 0.49964404\n",
            "MODEL MEAN F1 NO EMPTY STD 0.00038089984\n",
            "\n",
            "MODEL ACCURACY EXCLUDING CASES  0.9985783100128174\n",
            "MODEL ACCURACY EXCLUDING CASES STD  0.001520442\n",
            "\n",
            "MODEL PRECISION EXCLUDING CASES  nan\n",
            "MODEL PRECISION EXCLUDING CASES STD  nan\n",
            "\n",
            "MODEL RECALL EXCLUDING CASES  0.0\n",
            "MODEL RECALL EXCLUDING CASES STD  0.0\n",
            "\n",
            "MODEL ACCURACY NO EMPTY  0.0\n",
            "MODEL ACCURACY NO EMPTY STD  0.0\n",
            "\n",
            "MODEL PRECISION NO EMPTY nan\n",
            "MODEL PRECISION NO EMPTY STD  nan\n",
            "\n",
            "MODEL RECALL NO EMPTY  0.0\n",
            "MODEL RECALL NO EMPTY STD  0.0\n",
            "\n",
            "MODEL F1 NO EMPTY  0.0\n",
            "MODEL F1 NO EMPTY STD  0.0\n",
            "\n",
            "\n",
            "VENUS Large + ResNet18 patches Results:\n",
            "None\n",
            "Testing Ensemble: VENUS Large + ResNet18 patches (filtered)...\n"
          ]
        },
        {
          "name": "stderr",
          "output_type": "stream",
          "text": [
            "c:\\Users\\pabli\\AppData\\Local\\pypoetry\\Cache\\virtualenvs\\venus-nCPuPPcI-py3.9\\lib\\site-packages\\numpy\\lib\\_nanfunctions_impl.py:2035: RuntimeWarning: Degrees of freedom <= 0 for slice.\n",
            "  var = nanvar(a, axis=axis, dtype=dtype, out=out, ddof=ddof,\n"
          ]
        },
        {
          "name": "stdout",
          "output_type": "stream",
          "text": [
            "Initialized SurfaceLossBinary with [1]\n",
            "D2MP9(VR)\n"
          ]
        },
        {
          "name": "stderr",
          "output_type": "stream",
          "text": [
            "  7%|▋         | 8/114 [00:00<00:05, 20.53it/s]"
          ]
        },
        {
          "name": "stdout",
          "output_type": "stream",
          "text": [
            "intermediate_spatial_dim tensor([  1, 256, 256])\n",
            "processed_label torch.Size([1, 256, 256])\n",
            "unsqueeze torch.Size([1, 1, 1, 256, 256])\n",
            "intermediate_spatial_dim tensor([  1, 253, 253])\n",
            "processed_label torch.Size([1, 256, 256])\n",
            "unsqueeze torch.Size([1, 1, 1, 256, 256])\n",
            "intermediate_spatial_dim tensor([  1, 512, 512])\n",
            "processed_label torch.Size([1, 256, 256])\n",
            "unsqueeze torch.Size([1, 1, 1, 256, 256])\n",
            "intermediate_spatial_dim tensor([  1, 512, 512])\n",
            "processed_label torch.Size([1, 256, 256])\n",
            "unsqueeze torch.Size([1, 1, 1, 256, 256])\n",
            "intermediate_spatial_dim tensor([  1, 253, 253])\n",
            "processed_label torch.Size([1, 256, 256])\n",
            "unsqueeze torch.Size([1, 1, 1, 256, 256])\n",
            "intermediate_spatial_dim tensor([  1, 512, 512])\n",
            "processed_label torch.Size([1, 256, 256])\n",
            "unsqueeze torch.Size([1, 1, 1, 256, 256])\n",
            "intermediate_spatial_dim tensor([  1, 512, 512])\n",
            "processed_label torch.Size([1, 256, 256])\n",
            "unsqueeze torch.Size([1, 1, 1, 256, 256])\n",
            "intermediate_spatial_dim tensor([  1, 253, 253])\n",
            "processed_label torch.Size([1, 256, 256])\n",
            "unsqueeze torch.Size([1, 1, 1, 256, 256])\n",
            "intermediate_spatial_dim tensor([  1, 512, 512])\n",
            "processed_label torch.Size([1, 256, 256])\n",
            "unsqueeze torch.Size([1, 1, 1, 256, 256])\n",
            "intermediate_spatial_dim tensor([  1, 512, 512])\n",
            "processed_label torch.Size([1, 256, 256])\n",
            "unsqueeze torch.Size([1, 1, 1, 256, 256])\n"
          ]
        },
        {
          "name": "stderr",
          "output_type": "stream",
          "text": [
            " 10%|▉         | 11/114 [00:00<00:07, 14.13it/s]"
          ]
        },
        {
          "name": "stdout",
          "output_type": "stream",
          "text": [
            "intermediate_spatial_dim tensor([  1, 252, 252])\n",
            "processed_label torch.Size([1, 256, 256])\n",
            "unsqueeze torch.Size([1, 1, 1, 256, 256])\n",
            "intermediate_spatial_dim tensor([  1, 512, 512])\n",
            "processed_label torch.Size([1, 256, 256])\n",
            "unsqueeze torch.Size([1, 1, 1, 256, 256])\n",
            "intermediate_spatial_dim tensor([  1, 512, 512])\n",
            "processed_label torch.Size([1, 256, 256])\n",
            "unsqueeze torch.Size([1, 1, 1, 256, 256])\n",
            "intermediate_spatial_dim tensor([  1, 256, 256])\n",
            "processed_label torch.Size([1, 256, 256])\n",
            "unsqueeze torch.Size([1, 1, 1, 256, 256])\n",
            "intermediate_spatial_dim tensor([  1, 252, 252])\n",
            "processed_label torch.Size([1, 256, 256])\n",
            "unsqueeze torch.Size([1, 1, 1, 256, 256])\n"
          ]
        },
        {
          "name": "stderr",
          "output_type": "stream",
          "text": [
            " 11%|█▏        | 13/114 [00:00<00:08, 11.74it/s]"
          ]
        },
        {
          "name": "stdout",
          "output_type": "stream",
          "text": [
            "intermediate_spatial_dim tensor([  1, 512, 512])\n",
            "processed_label torch.Size([1, 256, 256])\n",
            "unsqueeze torch.Size([1, 1, 1, 256, 256])\n",
            "intermediate_spatial_dim tensor([  1, 512, 512])\n",
            "processed_label torch.Size([1, 256, 256])\n",
            "unsqueeze torch.Size([1, 1, 1, 256, 256])\n",
            "intermediate_spatial_dim tensor([  1, 256, 256])\n",
            "processed_label torch.Size([1, 256, 256])\n",
            "unsqueeze torch.Size([1, 1, 1, 256, 256])\n",
            "intermediate_spatial_dim tensor([  1, 252, 252])\n",
            "processed_label torch.Size([1, 256, 256])\n",
            "unsqueeze torch.Size([1, 1, 1, 256, 256])\n",
            "intermediate_spatial_dim tensor([  1, 512, 512])\n",
            "processed_label torch.Size([1, 256, 256])\n",
            "unsqueeze torch.Size([1, 1, 1, 256, 256])\n",
            "intermediate_spatial_dim tensor([  1, 512, 512])\n",
            "processed_label torch.Size([1, 256, 256])\n",
            "unsqueeze torch.Size([1, 1, 1, 256, 256])\n",
            "intermediate_spatial_dim tensor([  1, 252, 252])\n",
            "processed_label torch.Size([1, 256, 256])\n",
            "unsqueeze torch.Size([1, 1, 1, 256, 256])\n"
          ]
        },
        {
          "name": "stderr",
          "output_type": "stream",
          "text": [
            " 13%|█▎        | 15/114 [00:01<00:09, 10.75it/s]"
          ]
        },
        {
          "name": "stdout",
          "output_type": "stream",
          "text": [
            "intermediate_spatial_dim tensor([  1, 512, 512])\n",
            "processed_label torch.Size([1, 256, 256])\n",
            "unsqueeze torch.Size([1, 1, 1, 256, 256])\n",
            "intermediate_spatial_dim tensor([  1, 512, 512])\n",
            "processed_label torch.Size([1, 256, 256])\n",
            "unsqueeze torch.Size([1, 1, 1, 256, 256])\n",
            "intermediate_spatial_dim tensor([  1, 255, 255])\n",
            "processed_label torch.Size([1, 256, 256])\n",
            "unsqueeze torch.Size([1, 1, 1, 256, 256])\n",
            "intermediate_spatial_dim tensor([  1, 252, 252])\n",
            "processed_label torch.Size([1, 256, 256])\n",
            "unsqueeze torch.Size([1, 1, 1, 256, 256])\n",
            "intermediate_spatial_dim tensor([  1, 512, 512])\n",
            "processed_label torch.Size([1, 256, 256])\n",
            "unsqueeze torch.Size([1, 1, 1, 256, 256])\n",
            "intermediate_spatial_dim tensor([  1, 512, 512])\n",
            "processed_label torch.Size([1, 256, 256])\n",
            "unsqueeze torch.Size([1, 1, 1, 256, 256])\n",
            "intermediate_spatial_dim tensor([  1, 251, 251])\n",
            "processed_label torch.Size([1, 256, 256])\n",
            "unsqueeze torch.Size([1, 1, 1, 256, 256])\n"
          ]
        },
        {
          "name": "stderr",
          "output_type": "stream",
          "text": [
            " 15%|█▍        | 17/114 [00:01<00:09, 10.44it/s]"
          ]
        },
        {
          "name": "stdout",
          "output_type": "stream",
          "text": [
            "intermediate_spatial_dim tensor([  1, 512, 512])\n",
            "processed_label torch.Size([1, 256, 256])\n",
            "unsqueeze torch.Size([1, 1, 1, 256, 256])\n",
            "intermediate_spatial_dim tensor([  1, 512, 512])\n",
            "processed_label torch.Size([1, 256, 256])\n",
            "unsqueeze torch.Size([1, 1, 1, 256, 256])\n",
            "intermediate_spatial_dim tensor([  1, 251, 251])\n",
            "processed_label torch.Size([1, 256, 256])\n",
            "unsqueeze torch.Size([1, 1, 1, 256, 256])\n",
            "intermediate_spatial_dim tensor([  1, 512, 512])\n",
            "processed_label torch.Size([1, 256, 256])\n",
            "unsqueeze torch.Size([1, 1, 1, 256, 256])\n",
            "intermediate_spatial_dim tensor([  1, 512, 512])\n",
            "processed_label torch.Size([1, 256, 256])\n",
            "unsqueeze torch.Size([1, 1, 1, 256, 256])\n",
            "intermediate_spatial_dim tensor([  1, 251, 251])\n",
            "processed_label torch.Size([1, 256, 256])\n",
            "unsqueeze torch.Size([1, 1, 1, 256, 256])\n",
            "intermediate_spatial_dim "
          ]
        },
        {
          "name": "stderr",
          "output_type": "stream",
          "text": [
            " 17%|█▋        | 19/114 [00:01<00:09, 10.02it/s]"
          ]
        },
        {
          "name": "stdout",
          "output_type": "stream",
          "text": [
            "tensor([  1, 512, 512])\n",
            "processed_label torch.Size([1, 256, 256])\n",
            "unsqueeze torch.Size([1, 1, 1, 256, 256])\n",
            "intermediate_spatial_dim tensor([  1, 512, 512])\n",
            "processed_label torch.Size([1, 256, 256])\n",
            "unsqueeze torch.Size([1, 1, 1, 256, 256])\n",
            "intermediate_spatial_dim tensor([  1, 254, 254])\n",
            "processed_label torch.Size([1, 256, 256])\n",
            "unsqueeze torch.Size([1, 1, 1, 256, 256])\n",
            "intermediate_spatial_dim tensor([  1, 251, 251])\n",
            "processed_label torch.Size([1, 256, 256])\n",
            "unsqueeze torch.Size([1, 1, 1, 256, 256])\n",
            "intermediate_spatial_dim tensor([  1, 512, 512])\n",
            "processed_label torch.Size([1, 256, 256])\n",
            "unsqueeze torch.Size([1, 1, 1, 256, 256])\n",
            "intermediate_spatial_dim tensor([  1, 512, 512])\n",
            "processed_label torch.Size([1, 256, 256])\n",
            "unsqueeze torch.Size([1, 1, 1, 256, 256])\n",
            "intermediate_spatial_dim tensor([  1, 253, 253])\n",
            "processed_label torch.Size([1, 256, 256])\n",
            "unsqueeze torch.Size([1, 1, 1, 256, 256])\n",
            "intermediate_spatial_dim tensor([  1, 251, 251])\n",
            "processed_label torch.Size([1, 256, 256])\n",
            "unsqueeze torch.Size([1, 1, 1, 256, 256])\n"
          ]
        },
        {
          "name": "stderr",
          "output_type": "stream",
          "text": [
            " 18%|█▊        | 21/114 [00:01<00:10,  9.14it/s]"
          ]
        },
        {
          "name": "stdout",
          "output_type": "stream",
          "text": [
            "intermediate_spatial_dim tensor([  1, 512, 512])\n",
            "processed_label torch.Size([1, 256, 256])\n",
            "unsqueeze torch.Size([1, 1, 1, 256, 256])\n",
            "intermediate_spatial_dim tensor([  1, 512, 512])\n",
            "processed_label torch.Size([1, 256, 256])\n",
            "unsqueeze torch.Size([1, 1, 1, 256, 256])\n",
            "intermediate_spatial_dim tensor([  1, 253, 253])\n",
            "processed_label torch.Size([1, 256, 256])\n",
            "unsqueeze torch.Size([1, 1, 1, 256, 256])\n",
            "intermediate_spatial_dim tensor([  1, 251, 251])\n",
            "processed_label torch.Size([1, 256, 256])\n",
            "unsqueeze torch.Size([1, 1, 1, 256, 256])\n",
            "intermediate_spatial_dim tensor([  1, 512, 512])\n",
            "processed_label torch.Size([1, 256, 256])\n",
            "unsqueeze torch.Size([1, 1, 1, 256, 256])\n",
            "intermediate_spatial_dim tensor([  1, 512, 512])\n",
            "processed_label torch.Size([1, 256, 256])\n",
            "unsqueeze torch.Size([1, 1, 1, 256, 256])\n",
            "intermediate_spatial_dim tensor([  1, 253, 253])\n",
            "processed_label torch.Size([1, 256, 256])\n",
            "unsqueeze torch.Size([1, 1, 1, 256, 256])\n",
            "intermediate_spatial_dim tensor([  1, 250, 250])\n",
            "processed_label torch.Size([1, 256, 256])\n",
            "unsqueeze torch.Size([1, 1, 1, 256, 256])\n"
          ]
        },
        {
          "name": "stderr",
          "output_type": "stream",
          "text": [
            " 20%|██        | 23/114 [00:02<00:11,  8.21it/s]"
          ]
        },
        {
          "name": "stdout",
          "output_type": "stream",
          "text": [
            "intermediate_spatial_dim tensor([  1, 512, 512])\n",
            "processed_label torch.Size([1, 256, 256])\n",
            "unsqueeze torch.Size([1, 1, 1, 256, 256])\n",
            "intermediate_spatial_dim tensor([  1, 512, 512])\n",
            "processed_label torch.Size([1, 256, 256])\n",
            "unsqueeze torch.Size([1, 1, 1, 256, 256])\n",
            "intermediate_spatial_dim tensor([  1, 253, 253])\n",
            "processed_label torch.Size([1, 256, 256])\n",
            "unsqueeze torch.Size([1, 1, 1, 256, 256])\n",
            "intermediate_spatial_dim tensor([  1, 250, 250])\n",
            "processed_label torch.Size([1, 256, 256])\n",
            "unsqueeze torch.Size([1, 1, 1, 256, 256])\n",
            "intermediate_spatial_dim tensor([  1, 512, 512])\n",
            "processed_label torch.Size([1, 256, 256])\n",
            "unsqueeze torch.Size([1, 1, 1, 256, 256])\n",
            "intermediate_spatial_dim tensor([  1, 512, 512])\n",
            "processed_label torch.Size([1, 256, 256])\n",
            "unsqueeze torch.Size([1, 1, 1, 256, 256])\n",
            "intermediate_spatial_dim tensor([  1, 253, 253])\n",
            "processed_label torch.Size([1, 256, 256])\n",
            "unsqueeze torch.Size([1, 1, 1, 256, 256])\n",
            "intermediate_spatial_dim tensor([  1, 250, 250])\n",
            "processed_label torch.Size([1, 256, 256])\n",
            "unsqueeze torch.Size([1, 1, 1, 256, 256])\n"
          ]
        },
        {
          "name": "stderr",
          "output_type": "stream",
          "text": [
            " 22%|██▏       | 25/114 [00:02<00:11,  7.88it/s]"
          ]
        },
        {
          "name": "stdout",
          "output_type": "stream",
          "text": [
            "intermediate_spatial_dim tensor([  1, 512, 512])\n",
            "processed_label torch.Size([1, 256, 256])\n",
            "unsqueeze torch.Size([1, 1, 1, 256, 256])\n",
            "intermediate_spatial_dim tensor([  1, 512, 512])\n",
            "processed_label torch.Size([1, 256, 256])\n",
            "unsqueeze torch.Size([1, 1, 1, 256, 256])\n",
            "intermediate_spatial_dim tensor([  1, 253, 253])\n",
            "processed_label torch.Size([1, 256, 256])\n",
            "unsqueeze torch.Size([1, 1, 1, 256, 256])\n",
            "intermediate_spatial_dim tensor([  1, 250, 250])\n",
            "processed_label torch.Size([1, 256, 256])\n",
            "unsqueeze torch.Size([1, 1, 1, 256, 256])\n",
            "intermediate_spatial_dim tensor([  1, 512, 512])\n",
            "processed_label torch.Size([1, 256, 256])\n",
            "unsqueeze torch.Size([1, 1, 1, 256, 256])\n",
            "intermediate_spatial_dim tensor([  1, 512, 512])\n",
            "processed_label torch.Size([1, 256, 256])\n",
            "unsqueeze torch.Size([1, 1, 1, 256, 256])\n",
            "intermediate_spatial_dim tensor([  1, 250, 250])\n",
            "processed_label torch.Size([1, 256, 256])\n",
            "unsqueeze torch.Size([1, 1, 1, 256, 256])\n"
          ]
        },
        {
          "name": "stderr",
          "output_type": "stream",
          "text": [
            " 24%|██▎       | 27/114 [00:02<00:10,  8.67it/s]"
          ]
        },
        {
          "name": "stdout",
          "output_type": "stream",
          "text": [
            "intermediate_spatial_dim tensor([  1, 512, 512])\n",
            "processed_label torch.Size([1, 256, 256])\n",
            "unsqueeze torch.Size([1, 1, 1, 256, 256])\n",
            "intermediate_spatial_dim tensor([  1, 512, 512])\n",
            "processed_label torch.Size([1, 256, 256])\n",
            "unsqueeze torch.Size([1, 1, 1, 256, 256])\n",
            "intermediate_spatial_dim tensor([  1, 250, 250])\n",
            "processed_label torch.Size([1, 256, 256])\n",
            "unsqueeze torch.Size([1, 1, 1, 256, 256])\n",
            "intermediate_spatial_dim tensor([  1, 512, 512])\n",
            "processed_label torch.Size([1, 256, 256])\n",
            "unsqueeze torch.Size([1, 1, 1, 256, 256])\n",
            "intermediate_spatial_dim tensor([  1, 512, 512])\n",
            "processed_label torch.Size([1, 256, 256])\n",
            "unsqueeze torch.Size([1, 1, 1, 256, 256])\n",
            "intermediate_spatial_dim tensor([  1, 250, 250])\n",
            "processed_label torch.Size([1, 256, 256])\n",
            "unsqueeze torch.Size([1, 1, 1, 256, 256])\n"
          ]
        },
        {
          "name": "stderr",
          "output_type": "stream",
          "text": [
            " 25%|██▌       | 29/114 [00:02<00:09,  9.11it/s]"
          ]
        },
        {
          "name": "stdout",
          "output_type": "stream",
          "text": [
            "intermediate_spatial_dim tensor([  1, 512, 512])\n",
            "processed_label torch.Size([1, 256, 256])\n",
            "unsqueeze torch.Size([1, 1, 1, 256, 256])\n",
            "intermediate_spatial_dim tensor([  1, 512, 512])\n",
            "processed_label torch.Size([1, 256, 256])\n",
            "unsqueeze torch.Size([1, 1, 1, 256, 256])\n",
            "intermediate_spatial_dim tensor([  1, 250, 250])\n",
            "processed_label torch.Size([1, 256, 256])\n",
            "unsqueeze torch.Size([1, 1, 1, 256, 256])\n",
            "intermediate_spatial_dim tensor([  1, 512, 512])\n",
            "processed_label torch.Size([1, 256, 256])\n",
            "unsqueeze torch.Size([1, 1, 1, 256, 256])\n",
            "intermediate_spatial_dim tensor([  1, 512, 512])\n",
            "processed_label torch.Size([1, 256, 256])\n",
            "unsqueeze torch.Size([1, 1, 1, 256, 256])\n",
            "intermediate_spatial_dim tensor([  1, 250, 250])\n",
            "processed_label torch.Size([1, 256, 256])\n",
            "unsqueeze torch.Size([1, 1, 1, 256, 256])\n"
          ]
        },
        {
          "name": "stderr",
          "output_type": "stream",
          "text": [
            " 27%|██▋       | 31/114 [00:03<00:09,  9.06it/s]"
          ]
        },
        {
          "name": "stdout",
          "output_type": "stream",
          "text": [
            "intermediate_spatial_dim tensor([  1, 512, 512])\n",
            "processed_label torch.Size([1, 256, 256])\n",
            "unsqueeze torch.Size([1, 1, 1, 256, 256])\n",
            "intermediate_spatial_dim tensor([  1, 512, 512])\n",
            "processed_label torch.Size([1, 256, 256])\n",
            "unsqueeze torch.Size([1, 1, 1, 256, 256])\n",
            "intermediate_spatial_dim tensor([  1, 250, 250])\n",
            "processed_label torch.Size([1, 256, 256])\n",
            "unsqueeze torch.Size([1, 1, 1, 256, 256])\n",
            "intermediate_spatial_dim tensor([  1, 512, 512])\n",
            "processed_label torch.Size([1, 256, 256])\n",
            "unsqueeze torch.Size([1, 1, 1, 256, 256])\n",
            "intermediate_spatial_dim tensor([  1, 512, 512])\n",
            "processed_label torch.Size([1, 256, 256])\n",
            "unsqueeze torch.Size([1, 1, 1, 256, 256])\n",
            "intermediate_spatial_dim tensor([  1, 253, 253])\n",
            "processed_label torch.Size([1, 256, 256])\n",
            "unsqueeze torch.Size([1, 1, 1, 256, 256])\n",
            "intermediate_spatial_dim tensor([  1, 250, 250])\n",
            "processed_label torch.Size([1, 256, 256])\n",
            "unsqueeze torch.Size([1, 1, 1, 256, 256])\n"
          ]
        },
        {
          "name": "stderr",
          "output_type": "stream",
          "text": [
            " 29%|██▉       | 33/114 [00:03<00:09,  8.75it/s]"
          ]
        },
        {
          "name": "stdout",
          "output_type": "stream",
          "text": [
            "intermediate_spatial_dim tensor([  1, 512, 512])\n",
            "processed_label torch.Size([1, 256, 256])\n",
            "unsqueeze torch.Size([1, 1, 1, 256, 256])\n",
            "intermediate_spatial_dim tensor([  1, 512, 512])\n",
            "processed_label torch.Size([1, 256, 256])\n",
            "unsqueeze torch.Size([1, 1, 1, 256, 256])\n",
            "intermediate_spatial_dim tensor([  1, 250, 250])\n",
            "processed_label torch.Size([1, 256, 256])\n",
            "unsqueeze torch.Size([1, 1, 1, 256, 256])\n",
            "intermediate_spatial_dim tensor([  1, 512, 512])\n",
            "processed_label torch.Size([1, 256, 256])\n",
            "unsqueeze torch.Size([1, 1, 1, 256, 256])\n",
            "intermediate_spatial_dim tensor([  1, 512, 512])\n",
            "processed_label torch.Size([1, 256, 256])\n",
            "unsqueeze torch.Size([1, 1, 1, 256, 256])\n",
            "intermediate_spatial_dim tensor([  1, 250, 250])\n",
            "processed_label torch.Size([1, 256, 256])\n",
            "unsqueeze torch.Size([1, 1, 1, 256, 256])\n"
          ]
        },
        {
          "name": "stderr",
          "output_type": "stream",
          "text": [
            " 31%|███       | 35/114 [00:03<00:08,  9.03it/s]"
          ]
        },
        {
          "name": "stdout",
          "output_type": "stream",
          "text": [
            "intermediate_spatial_dim tensor([  1, 512, 512])\n",
            "processed_label torch.Size([1, 256, 256])\n",
            "unsqueeze torch.Size([1, 1, 1, 256, 256])\n",
            "intermediate_spatial_dim tensor([  1, 512, 512])\n",
            "processed_label torch.Size([1, 256, 256])\n",
            "unsqueeze torch.Size([1, 1, 1, 256, 256])\n",
            "intermediate_spatial_dim tensor([  1, 250, 250])\n",
            "processed_label torch.Size([1, 256, 256])\n",
            "unsqueeze torch.Size([1, 1, 1, 256, 256])\n",
            "intermediate_spatial_dim tensor([  1, 512, 512])\n",
            "processed_label torch.Size([1, 256, 256])\n",
            "unsqueeze torch.Size([1, 1, 1, 256, 256])\n",
            "intermediate_spatial_dim tensor([  1, 512, 512])\n",
            "processed_label torch.Size([1, 256, 256])\n",
            "unsqueeze torch.Size([1, 1, 1, 256, 256])\n",
            "intermediate_spatial_dim tensor([  1, 250, 250])\n",
            "processed_label torch.Size([1, 256, 256])\n",
            "unsqueeze torch.Size([1, 1, 1, 256, 256])\n"
          ]
        },
        {
          "name": "stderr",
          "output_type": "stream",
          "text": [
            " 32%|███▏      | 37/114 [00:03<00:08,  8.68it/s]"
          ]
        },
        {
          "name": "stdout",
          "output_type": "stream",
          "text": [
            "intermediate_spatial_dim tensor([  1, 512, 512])\n",
            "processed_label torch.Size([1, 256, 256])\n",
            "unsqueeze torch.Size([1, 1, 1, 256, 256])\n",
            "intermediate_spatial_dim tensor([  1, 512, 512])\n",
            "processed_label torch.Size([1, 256, 256])\n",
            "unsqueeze torch.Size([1, 1, 1, 256, 256])\n",
            "intermediate_spatial_dim tensor([  1, 250, 250])\n",
            "processed_label torch.Size([1, 256, 256])\n",
            "unsqueeze torch.Size([1, 1, 1, 256, 256])\n",
            "intermediate_spatial_dim tensor([  1, 512, 512])\n",
            "processed_label torch.Size([1, 256, 256])\n",
            "unsqueeze torch.Size([1, 1, 1, 256, 256])\n",
            "intermediate_spatial_dim tensor([  1, 512, 512])\n",
            "processed_label torch.Size([1, 256, 256])\n",
            "unsqueeze torch.Size([1, 1, 1, 256, 256])\n",
            "intermediate_spatial_dim tensor([  1, 253, 253])\n",
            "processed_label torch.Size([1, 256, 256])\n",
            "unsqueeze torch.Size([1, 1, 1, 256, 256])\n",
            "intermediate_spatial_dim tensor([  1, 250, 250])\n",
            "processed_label torch.Size([1, 256, 256])\n",
            "unsqueeze torch.Size([1, 1, 1, 256, 256])\n"
          ]
        },
        {
          "name": "stderr",
          "output_type": "stream",
          "text": [
            " 34%|███▍      | 39/114 [00:04<00:09,  7.98it/s]"
          ]
        },
        {
          "name": "stdout",
          "output_type": "stream",
          "text": [
            "intermediate_spatial_dim tensor([  1, 512, 512])\n",
            "processed_label torch.Size([1, 256, 256])\n",
            "unsqueeze torch.Size([1, 1, 1, 256, 256])\n",
            "intermediate_spatial_dim tensor([  1, 512, 512])\n",
            "processed_label torch.Size([1, 256, 256])\n",
            "unsqueeze torch.Size([1, 1, 1, 256, 256])\n",
            "intermediate_spatial_dim tensor([  1, 250, 250])\n",
            "processed_label torch.Size([1, 256, 256])\n",
            "unsqueeze torch.Size([1, 1, 1, 256, 256])\n",
            "intermediate_spatial_dim tensor([  1, 512, 512])\n",
            "processed_label torch.Size([1, 256, 256])\n",
            "unsqueeze torch.Size([1, 1, 1, 256, 256])\n",
            "intermediate_spatial_dim tensor([  1, 512, 512])\n",
            "processed_label torch.Size([1, 256, 256])\n",
            "unsqueeze torch.Size([1, 1, 1, 256, 256])\n",
            "intermediate_spatial_dim tensor([  1, 251, 251])\n",
            "processed_label torch.Size([1, 256, 256])\n",
            "unsqueeze torch.Size([1, 1, 1, 256, 256])\n",
            "intermediate_spatial_dim tensor([  1, 250, 250])\n",
            "processed_label torch.Size([1, 256, 256])\n",
            "unsqueeze torch.Size([1, 1, 1, 256, 256])\n"
          ]
        },
        {
          "name": "stderr",
          "output_type": "stream",
          "text": [
            " 36%|███▌      | 41/114 [00:04<00:09,  7.66it/s]"
          ]
        },
        {
          "name": "stdout",
          "output_type": "stream",
          "text": [
            "intermediate_spatial_dim tensor([  1, 512, 512])\n",
            "processed_label torch.Size([1, 256, 256])\n",
            "unsqueeze torch.Size([1, 1, 1, 256, 256])\n",
            "intermediate_spatial_dim tensor([  1, 512, 512])\n",
            "processed_label torch.Size([1, 256, 256])\n",
            "unsqueeze torch.Size([1, 1, 1, 256, 256])\n",
            "intermediate_spatial_dim tensor([  1, 251, 251])\n",
            "processed_label torch.Size([1, 256, 256])\n",
            "unsqueeze torch.Size([1, 1, 1, 256, 256])\n",
            "intermediate_spatial_dim tensor([  1, 249, 249])\n",
            "processed_label torch.Size([1, 256, 256])\n",
            "unsqueeze torch.Size([1, 1, 1, 256, 256])\n",
            "intermediate_spatial_dim tensor([  1, 512, 512])\n",
            "processed_label torch.Size([1, 256, 256])\n",
            "unsqueeze torch.Size([1, 1, 1, 256, 256])\n",
            "intermediate_spatial_dim tensor([  1, 512, 512])\n",
            "processed_label torch.Size([1, 256, 256])\n",
            "unsqueeze torch.Size([1, 1, 1, 256, 256])\n",
            "intermediate_spatial_dim tensor([  1, 251, 251])\n",
            "processed_label torch.Size([1, 256, 256])\n",
            "unsqueeze torch.Size([1, 1, 1, 256, 256])\n",
            "intermediate_spatial_dim tensor([  1, 249, 249])\n",
            "processed_label torch.Size([1, 256, 256])\n",
            "unsqueeze torch.Size([1, 1, 1, 256, 256])\n"
          ]
        },
        {
          "name": "stderr",
          "output_type": "stream",
          "text": [
            " 38%|███▊      | 43/114 [00:04<00:09,  7.68it/s]"
          ]
        },
        {
          "name": "stdout",
          "output_type": "stream",
          "text": [
            "intermediate_spatial_dim tensor([  1, 512, 512])\n",
            "processed_label torch.Size([1, 256, 256])\n",
            "unsqueeze torch.Size([1, 1, 1, 256, 256])\n",
            "intermediate_spatial_dim tensor([  1, 512, 512])\n",
            "processed_label torch.Size([1, 256, 256])\n",
            "unsqueeze torch.Size([1, 1, 1, 256, 256])\n",
            "intermediate_spatial_dim tensor([  1, 251, 251])\n",
            "processed_label torch.Size([1, 256, 256])\n",
            "unsqueeze torch.Size([1, 1, 1, 256, 256])\n",
            "intermediate_spatial_dim tensor([  1, 249, 249])\n",
            "processed_label torch.Size([1, 256, 256])\n",
            "unsqueeze torch.Size([1, 1, 1, 256, 256])\n",
            "intermediate_spatial_dim tensor([  1, 512, 512])\n",
            "processed_label torch.Size([1, 256, 256])\n",
            "unsqueeze torch.Size([1, 1, 1, 256, 256])\n",
            "intermediate_spatial_dim tensor([  1, 512, 512])\n",
            "processed_label torch.Size([1, 256, 256])\n",
            "unsqueeze torch.Size([1, 1, 1, 256, 256])\n",
            "intermediate_spatial_dim tensor([  1, 251, 251])\n",
            "processed_label torch.Size([1, 256, 256])\n",
            "unsqueeze torch.Size([1, 1, 1, 256, 256])\n",
            "intermediate_spatial_dim tensor([  1, 249, 249])\n",
            "processed_label torch.Size([1, 256, 256])\n",
            "unsqueeze torch.Size([1, 1, 1, 256, 256])\n"
          ]
        },
        {
          "name": "stderr",
          "output_type": "stream",
          "text": [
            " 39%|███▉      | 45/114 [00:04<00:08,  7.78it/s]"
          ]
        },
        {
          "name": "stdout",
          "output_type": "stream",
          "text": [
            "intermediate_spatial_dim tensor([  1, 512, 512])\n",
            "processed_label torch.Size([1, 256, 256])\n",
            "unsqueeze torch.Size([1, 1, 1, 256, 256])\n",
            "intermediate_spatial_dim tensor([  1, 512, 512])\n",
            "processed_label torch.Size([1, 256, 256])\n",
            "unsqueeze torch.Size([1, 1, 1, 256, 256])\n",
            "intermediate_spatial_dim tensor([  1, 251, 251])\n",
            "processed_label torch.Size([1, 256, 256])\n",
            "unsqueeze torch.Size([1, 1, 1, 256, 256])\n",
            "intermediate_spatial_dim tensor([  1, 248, 248])\n",
            "processed_label torch.Size([1, 256, 256])\n",
            "unsqueeze torch.Size([1, 1, 1, 256, 256])\n",
            "intermediate_spatial_dim tensor([  1, 512, 512])\n",
            "processed_label torch.Size([1, 256, 256])\n",
            "unsqueeze torch.Size([1, 1, 1, 256, 256])\n",
            "intermediate_spatial_dim tensor([  1, 512, 512])\n",
            "processed_label torch.Size([1, 256, 256])\n",
            "unsqueeze torch.Size([1, 1, 1, 256, 256])\n",
            "intermediate_spatial_dim tensor([  1, 251, 251])\n",
            "processed_label torch.Size([1, 256, 256])\n",
            "unsqueeze torch.Size([1, 1, 1, 256, 256])\n",
            "intermediate_spatial_dim tensor([  1, 248, 248])\n",
            "processed_label torch.Size([1, 256, 256])\n",
            "unsqueeze torch.Size([1, 1, 1, 256, 256])\n"
          ]
        },
        {
          "name": "stderr",
          "output_type": "stream",
          "text": [
            " 41%|████      | 47/114 [00:05<00:08,  7.65it/s]"
          ]
        },
        {
          "name": "stdout",
          "output_type": "stream",
          "text": [
            "intermediate_spatial_dim tensor([  1, 512, 512])\n",
            "processed_label torch.Size([1, 256, 256])\n",
            "unsqueeze torch.Size([1, 1, 1, 256, 256])\n",
            "intermediate_spatial_dim tensor([  1, 512, 512])\n",
            "processed_label torch.Size([1, 256, 256])\n",
            "unsqueeze torch.Size([1, 1, 1, 256, 256])\n",
            "intermediate_spatial_dim tensor([  1, 251, 251])\n",
            "processed_label torch.Size([1, 256, 256])\n",
            "unsqueeze torch.Size([1, 1, 1, 256, 256])\n",
            "intermediate_spatial_dim tensor([  1, 248, 248])\n",
            "processed_label torch.Size([1, 256, 256])\n",
            "unsqueeze torch.Size([1, 1, 1, 256, 256])\n",
            "intermediate_spatial_dim tensor([  1, 512, 512])\n",
            "processed_label torch.Size([1, 256, 256])\n",
            "unsqueeze torch.Size([1, 1, 1, 256, 256])\n",
            "intermediate_spatial_dim tensor([  1, 512, 512])\n",
            "processed_label torch.Size([1, 256, 256])\n",
            "unsqueeze torch.Size([1, 1, 1, 256, 256])\n",
            "intermediate_spatial_dim tensor([  1, 251, 251])\n",
            "processed_label torch.Size([1, 256, 256])\n",
            "unsqueeze torch.Size([1, 1, 1, 256, 256])\n",
            "intermediate_spatial_dim tensor([  1, 248, 248])\n",
            "processed_label torch.Size([1, 256, 256])\n",
            "unsqueeze torch.Size([1, 1, 1, 256, 256])\n"
          ]
        },
        {
          "name": "stderr",
          "output_type": "stream",
          "text": [
            " 43%|████▎     | 49/114 [00:05<00:08,  7.40it/s]"
          ]
        },
        {
          "name": "stdout",
          "output_type": "stream",
          "text": [
            "intermediate_spatial_dim tensor([  1, 512, 512])\n",
            "processed_label torch.Size([1, 256, 256])\n",
            "unsqueeze torch.Size([1, 1, 1, 256, 256])\n",
            "intermediate_spatial_dim tensor([  1, 512, 512])\n",
            "processed_label torch.Size([1, 256, 256])\n",
            "unsqueeze torch.Size([1, 1, 1, 256, 256])\n",
            "intermediate_spatial_dim tensor([  1, 251, 251])\n",
            "processed_label torch.Size([1, 256, 256])\n",
            "unsqueeze torch.Size([1, 1, 1, 256, 256])\n",
            "intermediate_spatial_dim tensor([  1, 248, 248])\n",
            "processed_label torch.Size([1, 256, 256])\n",
            "unsqueeze torch.Size([1, 1, 1, 256, 256])\n",
            "intermediate_spatial_dim tensor([  1, 512, 512])\n",
            "processed_label torch.Size([1, 256, 256])\n",
            "unsqueeze torch.Size([1, 1, 1, 256, 256])\n",
            "intermediate_spatial_dim tensor([  1, 512, 512])\n",
            "processed_label torch.Size([1, 256, 256])\n",
            "unsqueeze torch.Size([1, 1, 1, 256, 256])\n",
            "intermediate_spatial_dim tensor([  1, 251, 251])\n",
            "processed_label torch.Size([1, 256, 256])\n",
            "unsqueeze torch.Size([1, 1, 1, 256, 256])\n",
            "intermediate_spatial_dim tensor([  1, 248, 248])\n",
            "processed_label torch.Size([1, 256, 256])\n",
            "unsqueeze torch.Size([1, 1, 1, 256, 256])\n"
          ]
        },
        {
          "name": "stderr",
          "output_type": "stream",
          "text": [
            " 45%|████▍     | 51/114 [00:05<00:08,  7.61it/s]"
          ]
        },
        {
          "name": "stdout",
          "output_type": "stream",
          "text": [
            "intermediate_spatial_dim tensor([  1, 512, 512])\n",
            "processed_label torch.Size([1, 256, 256])\n",
            "unsqueeze torch.Size([1, 1, 1, 256, 256])\n",
            "intermediate_spatial_dim tensor([  1, 512, 512])\n",
            "processed_label torch.Size([1, 256, 256])\n",
            "unsqueeze torch.Size([1, 1, 1, 256, 256])\n",
            "intermediate_spatial_dim tensor([  1, 251, 251])\n",
            "processed_label torch.Size([1, 256, 256])\n",
            "unsqueeze torch.Size([1, 1, 1, 256, 256])\n",
            "intermediate_spatial_dim tensor([  1, 248, 248])\n",
            "processed_label torch.Size([1, 256, 256])\n",
            "unsqueeze torch.Size([1, 1, 1, 256, 256])\n",
            "intermediate_spatial_dim tensor([  1, 512, 512])\n",
            "processed_label torch.Size([1, 256, 256])\n",
            "unsqueeze torch.Size([1, 1, 1, 256, 256])\n",
            "intermediate_spatial_dim tensor([  1, 512, 512])\n",
            "processed_label torch.Size([1, 256, 256])\n",
            "unsqueeze torch.Size([1, 1, 1, 256, 256])\n",
            "intermediate_spatial_dim tensor([  1, 251, 251])\n",
            "processed_label torch.Size([1, 256, 256])\n",
            "unsqueeze torch.Size([1, 1, 1, 256, 256])\n",
            "intermediate_spatial_dim tensor([  1, 248, 248])\n",
            "processed_label torch.Size([1, 256, 256])\n",
            "unsqueeze torch.Size([1, 1, 1, 256, 256])\n"
          ]
        },
        {
          "name": "stderr",
          "output_type": "stream",
          "text": [
            " 46%|████▋     | 53/114 [00:05<00:08,  7.45it/s]"
          ]
        },
        {
          "name": "stdout",
          "output_type": "stream",
          "text": [
            "intermediate_spatial_dim tensor([  1, 512, 512])\n",
            "processed_label torch.Size([1, 256, 256])\n",
            "unsqueeze torch.Size([1, 1, 1, 256, 256])\n",
            "intermediate_spatial_dim tensor([  1, 512, 512])\n",
            "processed_label torch.Size([1, 256, 256])\n",
            "unsqueeze torch.Size([1, 1, 1, 256, 256])\n",
            "intermediate_spatial_dim tensor([  1, 251, 251])\n",
            "processed_label torch.Size([1, 256, 256])\n",
            "unsqueeze torch.Size([1, 1, 1, 256, 256])\n",
            "intermediate_spatial_dim tensor([  1, 248, 248])\n",
            "processed_label torch.Size([1, 256, 256])\n",
            "unsqueeze torch.Size([1, 1, 1, 256, 256])\n",
            "intermediate_spatial_dim tensor([  1, 512, 512])\n",
            "processed_label torch.Size([1, 256, 256])\n",
            "unsqueeze torch.Size([1, 1, 1, 256, 256])\n",
            "intermediate_spatial_dim tensor([  1, 512, 512])\n",
            "processed_label torch.Size([1, 256, 256])\n",
            "unsqueeze torch.Size([1, 1, 1, 256, 256])\n",
            "intermediate_spatial_dim tensor([  1, 251, 251])\n",
            "processed_label torch.Size([1, 256, 256])\n",
            "unsqueeze torch.Size([1, 1, 1, 256, 256])\n",
            "intermediate_spatial_dim tensor([  1, 248, 248])\n",
            "processed_label torch.Size([1, 256, 256])\n",
            "unsqueeze torch.Size([1, 1, 1, 256, 256])\n"
          ]
        },
        {
          "name": "stderr",
          "output_type": "stream",
          "text": [
            " 48%|████▊     | 55/114 [00:06<00:07,  7.46it/s]"
          ]
        },
        {
          "name": "stdout",
          "output_type": "stream",
          "text": [
            "intermediate_spatial_dim tensor([  1, 512, 512])\n",
            "processed_label torch.Size([1, 256, 256])\n",
            "unsqueeze torch.Size([1, 1, 1, 256, 256])\n",
            "intermediate_spatial_dim tensor([  1, 512, 512])\n",
            "processed_label torch.Size([1, 256, 256])\n",
            "unsqueeze torch.Size([1, 1, 1, 256, 256])\n",
            "intermediate_spatial_dim tensor([  1, 251, 251])\n",
            "processed_label torch.Size([1, 256, 256])\n",
            "unsqueeze torch.Size([1, 1, 1, 256, 256])\n",
            "intermediate_spatial_dim tensor([  1, 248, 248])\n",
            "processed_label torch.Size([1, 256, 256])\n",
            "unsqueeze torch.Size([1, 1, 1, 256, 256])\n",
            "intermediate_spatial_dim tensor([  1, 512, 512])\n",
            "processed_label torch.Size([1, 256, 256])\n",
            "unsqueeze torch.Size([1, 1, 1, 256, 256])\n",
            "intermediate_spatial_dim tensor([  1, 512, 512])\n",
            "processed_label torch.Size([1, 256, 256])\n",
            "unsqueeze torch.Size([1, 1, 1, 256, 256])\n",
            "intermediate_spatial_dim tensor([  1, 251, 251])\n",
            "processed_label torch.Size([1, 256, 256])\n",
            "unsqueeze torch.Size([1, 1, 1, 256, 256])\n",
            "intermediate_spatial_dim tensor([  1, 248, 248])\n",
            "processed_label torch.Size([1, 256, 256])\n",
            "unsqueeze torch.Size([1, 1, 1, 256, 256])\n"
          ]
        },
        {
          "name": "stderr",
          "output_type": "stream",
          "text": [
            " 50%|█████     | 57/114 [00:06<00:07,  7.55it/s]"
          ]
        },
        {
          "name": "stdout",
          "output_type": "stream",
          "text": [
            "intermediate_spatial_dim tensor([  1, 512, 512])\n",
            "processed_label torch.Size([1, 256, 256])\n",
            "unsqueeze torch.Size([1, 1, 1, 256, 256])\n",
            "intermediate_spatial_dim tensor([  1, 512, 512])\n",
            "processed_label torch.Size([1, 256, 256])\n",
            "unsqueeze torch.Size([1, 1, 1, 256, 256])\n",
            "intermediate_spatial_dim tensor([  1, 251, 251])\n",
            "processed_label torch.Size([1, 256, 256])\n",
            "unsqueeze torch.Size([1, 1, 1, 256, 256])\n",
            "intermediate_spatial_dim tensor([  1, 248, 248])\n",
            "processed_label torch.Size([1, 256, 256])\n",
            "unsqueeze torch.Size([1, 1, 1, 256, 256])\n",
            "intermediate_spatial_dim tensor([  1, 512, 512])\n",
            "processed_label torch.Size([1, 256, 256])\n",
            "unsqueeze torch.Size([1, 1, 1, 256, 256])\n",
            "intermediate_spatial_dim tensor([  1, 512, 512])\n",
            "processed_label torch.Size([1, 256, 256])\n",
            "unsqueeze torch.Size([1, 1, 1, 256, 256])\n",
            "intermediate_spatial_dim tensor([  1, 251, 251])\n",
            "processed_label torch.Size([1, 256, 256])\n",
            "unsqueeze torch.Size([1, 1, 1, 256, 256])\n",
            "intermediate_spatial_dim tensor([  1, 248, 248])\n",
            "processed_label torch.Size([1, 256, 256])\n",
            "unsqueeze torch.Size([1, 1, 1, 256, 256])\n"
          ]
        },
        {
          "name": "stderr",
          "output_type": "stream",
          "text": [
            " 52%|█████▏    | 59/114 [00:06<00:07,  7.66it/s]"
          ]
        },
        {
          "name": "stdout",
          "output_type": "stream",
          "text": [
            "intermediate_spatial_dim tensor([  1, 512, 512])\n",
            "processed_label torch.Size([1, 256, 256])\n",
            "unsqueeze torch.Size([1, 1, 1, 256, 256])\n",
            "intermediate_spatial_dim tensor([  1, 512, 512])\n",
            "processed_label torch.Size([1, 256, 256])\n",
            "unsqueeze torch.Size([1, 1, 1, 256, 256])\n",
            "intermediate_spatial_dim tensor([  1, 251, 251])\n",
            "processed_label torch.Size([1, 256, 256])\n",
            "unsqueeze torch.Size([1, 1, 1, 256, 256])\n",
            "intermediate_spatial_dim tensor([  1, 248, 248])\n",
            "processed_label torch.Size([1, 256, 256])\n",
            "unsqueeze torch.Size([1, 1, 1, 256, 256])\n",
            "intermediate_spatial_dim tensor([  1, 512, 512])\n",
            "processed_label torch.Size([1, 256, 256])\n",
            "unsqueeze torch.Size([1, 1, 1, 256, 256])\n",
            "intermediate_spatial_dim tensor([  1, 512, 512])\n",
            "processed_label torch.Size([1, 256, 256])\n",
            "unsqueeze torch.Size([1, 1, 1, 256, 256])\n",
            "intermediate_spatial_dim tensor([  1, 251, 251])\n",
            "processed_label torch.Size([1, 256, 256])\n",
            "unsqueeze torch.Size([1, 1, 1, 256, 256])\n",
            "intermediate_spatial_dim tensor([  1, 248, 248])\n",
            "processed_label torch.Size([1, 256, 256])\n",
            "unsqueeze torch.Size([1, 1, 1, 256, 256])\n"
          ]
        },
        {
          "name": "stderr",
          "output_type": "stream",
          "text": [
            " 54%|█████▎    | 61/114 [00:06<00:06,  7.75it/s]"
          ]
        },
        {
          "name": "stdout",
          "output_type": "stream",
          "text": [
            "intermediate_spatial_dim tensor([  1, 512, 512])\n",
            "processed_label torch.Size([1, 256, 256])\n",
            "unsqueeze torch.Size([1, 1, 1, 256, 256])\n",
            "intermediate_spatial_dim tensor([  1, 512, 512])\n",
            "processed_label torch.Size([1, 256, 256])\n",
            "unsqueeze torch.Size([1, 1, 1, 256, 256])\n",
            "intermediate_spatial_dim tensor([  1, 251, 251])\n",
            "processed_label torch.Size([1, 256, 256])\n",
            "unsqueeze torch.Size([1, 1, 1, 256, 256])\n",
            "intermediate_spatial_dim tensor([  1, 248, 248])\n",
            "processed_label torch.Size([1, 256, 256])\n",
            "unsqueeze torch.Size([1, 1, 1, 256, 256])\n",
            "intermediate_spatial_dim tensor([  1, 512, 512])\n",
            "processed_label torch.Size([1, 256, 256])\n",
            "unsqueeze torch.Size([1, 1, 1, 256, 256])\n",
            "intermediate_spatial_dim tensor([  1, 512, 512])\n",
            "processed_label torch.Size([1, 256, 256])\n",
            "unsqueeze torch.Size([1, 1, 1, 256, 256])\n",
            "intermediate_spatial_dim tensor([  1, 251, 251])\n",
            "processed_label torch.Size([1, 256, 256])\n",
            "unsqueeze torch.Size([1, 1, 1, 256, 256])\n",
            "intermediate_spatial_dim tensor([  1, 248, 248])\n",
            "processed_label torch.Size([1, 256, 256])\n",
            "unsqueeze torch.Size([1, 1, 1, 256, 256])\n"
          ]
        },
        {
          "name": "stderr",
          "output_type": "stream",
          "text": [
            " 55%|█████▌    | 63/114 [00:07<00:07,  7.12it/s]"
          ]
        },
        {
          "name": "stdout",
          "output_type": "stream",
          "text": [
            "intermediate_spatial_dim tensor([  1, 512, 512])\n",
            "processed_label torch.Size([1, 256, 256])\n",
            "unsqueeze torch.Size([1, 1, 1, 256, 256])\n",
            "intermediate_spatial_dim tensor([  1, 512, 512])\n",
            "processed_label torch.Size([1, 256, 256])\n",
            "unsqueeze torch.Size([1, 1, 1, 256, 256])\n",
            "intermediate_spatial_dim tensor([  1, 251, 251])\n",
            "processed_label torch.Size([1, 256, 256])\n",
            "unsqueeze torch.Size([1, 1, 1, 256, 256])\n",
            "intermediate_spatial_dim tensor([  1, 248, 248])\n",
            "processed_label torch.Size([1, 256, 256])\n",
            "unsqueeze torch.Size([1, 1, 1, 256, 256])\n",
            "intermediate_spatial_dim tensor([  1, 512, 512])\n",
            "processed_label torch.Size([1, 256, 256])\n",
            "unsqueeze torch.Size([1, 1, 1, 256, 256])\n",
            "intermediate_spatial_dim tensor([  1, 512, 512])\n",
            "processed_label torch.Size([1, 256, 256])\n",
            "unsqueeze torch.Size([1, 1, 1, 256, 256])\n",
            "intermediate_spatial_dim tensor([  1, 251, 251])\n",
            "processed_label torch.Size([1, 256, 256])\n",
            "unsqueeze torch.Size([1, 1, 1, 256, 256])\n",
            "intermediate_spatial_dim tensor([  1, 248, 248])\n",
            "processed_label torch.Size([1, 256, 256])\n",
            "unsqueeze torch.Size([1, 1, 1, 256, 256])\n"
          ]
        },
        {
          "name": "stderr",
          "output_type": "stream",
          "text": [
            " 57%|█████▋    | 65/114 [00:07<00:06,  7.42it/s]"
          ]
        },
        {
          "name": "stdout",
          "output_type": "stream",
          "text": [
            "intermediate_spatial_dim tensor([  1, 512, 512])\n",
            "processed_label torch.Size([1, 256, 256])\n",
            "unsqueeze torch.Size([1, 1, 1, 256, 256])\n",
            "intermediate_spatial_dim tensor([  1, 512, 512])\n",
            "processed_label torch.Size([1, 256, 256])\n",
            "unsqueeze torch.Size([1, 1, 1, 256, 256])\n",
            "intermediate_spatial_dim tensor([  1, 251, 251])\n",
            "processed_label torch.Size([1, 256, 256])\n",
            "unsqueeze torch.Size([1, 1, 1, 256, 256])\n",
            "intermediate_spatial_dim tensor([  1, 248, 248])\n",
            "processed_label torch.Size([1, 256, 256])\n",
            "unsqueeze torch.Size([1, 1, 1, 256, 256])\n",
            "intermediate_spatial_dim tensor([  1, 512, 512])\n",
            "processed_label torch.Size([1, 256, 256])\n",
            "unsqueeze torch.Size([1, 1, 1, 256, 256])\n",
            "intermediate_spatial_dim tensor([  1, 512, 512])\n",
            "processed_label torch.Size([1, 256, 256])\n",
            "unsqueeze torch.Size([1, 1, 1, 256, 256])\n",
            "intermediate_spatial_dim tensor([  1, 251, 251])\n",
            "processed_label torch.Size([1, 256, 256])\n",
            "unsqueeze torch.Size([1, 1, 1, 256, 256])\n",
            "intermediate_spatial_dim tensor([  1, 248, 248])\n",
            "processed_label torch.Size([1, 256, 256])\n",
            "unsqueeze torch.Size([1, 1, 1, 256, 256])\n"
          ]
        },
        {
          "name": "stderr",
          "output_type": "stream",
          "text": [
            " 59%|█████▉    | 67/114 [00:07<00:06,  7.31it/s]"
          ]
        },
        {
          "name": "stdout",
          "output_type": "stream",
          "text": [
            "intermediate_spatial_dim tensor([  1, 512, 512])\n",
            "processed_label torch.Size([1, 256, 256])\n",
            "unsqueeze torch.Size([1, 1, 1, 256, 256])\n",
            "intermediate_spatial_dim tensor([  1, 512, 512])\n",
            "processed_label torch.Size([1, 256, 256])\n",
            "unsqueeze torch.Size([1, 1, 1, 256, 256])\n",
            "intermediate_spatial_dim tensor([  1, 251, 251])\n",
            "processed_label torch.Size([1, 256, 256])\n",
            "unsqueeze torch.Size([1, 1, 1, 256, 256])\n",
            "intermediate_spatial_dim tensor([  1, 248, 248])\n",
            "processed_label torch.Size([1, 256, 256])\n",
            "unsqueeze torch.Size([1, 1, 1, 256, 256])\n",
            "intermediate_spatial_dim tensor([  1, 512, 512])\n",
            "processed_label torch.Size([1, 256, 256])\n",
            "unsqueeze torch.Size([1, 1, 1, 256, 256])\n",
            "intermediate_spatial_dim tensor([  1, 512, 512])\n",
            "processed_label torch.Size([1, 256, 256])\n",
            "unsqueeze torch.Size([1, 1, 1, 256, 256])\n",
            "intermediate_spatial_dim tensor([  1, 251, 251])\n",
            "processed_label torch.Size([1, 256, 256])\n",
            "unsqueeze torch.Size([1, 1, 1, 256, 256])\n"
          ]
        },
        {
          "name": "stderr",
          "output_type": "stream",
          "text": [
            " 60%|█████▉    | 68/114 [00:07<00:06,  7.35it/s]"
          ]
        },
        {
          "name": "stdout",
          "output_type": "stream",
          "text": [
            "intermediate_spatial_dim tensor([  1, 248, 248])\n",
            "processed_label torch.Size([1, 256, 256])\n",
            "unsqueeze torch.Size([1, 1, 1, 256, 256])\n",
            "intermediate_spatial_dim tensor([  1, 512, 512])\n",
            "processed_label torch.Size([1, 256, 256])\n",
            "unsqueeze torch.Size([1, 1, 1, 256, 256])\n",
            "intermediate_spatial_dim tensor([  1, 512, 512])\n",
            "processed_label torch.Size([1, 256, 256])\n",
            "unsqueeze torch.Size([1, 1, 1, 256, 256])\n",
            "intermediate_spatial_dim tensor([  1, 251, 251])\n",
            "processed_label torch.Size([1, 256, 256])\n",
            "unsqueeze torch.Size([1, 1, 1, 256, 256])\n",
            "intermediate_spatial_dim tensor([  1, 248, 248])\n",
            "processed_label torch.Size([1, 256, 256])\n",
            "unsqueeze torch.Size([1, 1, 1, 256, 256])\n"
          ]
        },
        {
          "name": "stderr",
          "output_type": "stream",
          "text": [
            " 61%|██████▏   | 70/114 [00:08<00:05,  7.41it/s]"
          ]
        },
        {
          "name": "stdout",
          "output_type": "stream",
          "text": [
            "intermediate_spatial_dim tensor([  1, 512, 512])\n",
            "processed_label torch.Size([1, 256, 256])\n",
            "unsqueeze torch.Size([1, 1, 1, 256, 256])\n",
            "intermediate_spatial_dim tensor([  1, 512, 512])\n",
            "processed_label torch.Size([1, 256, 256])\n",
            "unsqueeze torch.Size([1, 1, 1, 256, 256])\n",
            "intermediate_spatial_dim tensor([  1, 251, 251])\n",
            "processed_label torch.Size([1, 256, 256])\n",
            "unsqueeze torch.Size([1, 1, 1, 256, 256])\n",
            "intermediate_spatial_dim tensor([  1, 249, 249])\n",
            "processed_label torch.Size([1, 256, 256])\n",
            "unsqueeze torch.Size([1, 1, 1, 256, 256])\n",
            "intermediate_spatial_dim tensor([  1, 512, 512])\n",
            "processed_label torch.Size([1, 256, 256])\n",
            "unsqueeze torch.Size([1, 1, 1, 256, 256])\n",
            "intermediate_spatial_dim tensor([  1, 512, 512])\n",
            "processed_label torch.Size([1, 256, 256])\n",
            "unsqueeze torch.Size([1, 1, 1, 256, 256])\n",
            "intermediate_spatial_dim tensor([  1, 251, 251])\n",
            "processed_label torch.Size([1, 256, 256])\n",
            "unsqueeze torch.Size([1, 1, 1, 256, 256])\n",
            "intermediate_spatial_dim tensor([  1, 249, 249])\n",
            "processed_label torch.Size([1, 256, 256])\n",
            "unsqueeze torch.Size([1, 1, 1, 256, 256])\n"
          ]
        },
        {
          "name": "stderr",
          "output_type": "stream",
          "text": [
            " 63%|██████▎   | 72/114 [00:08<00:05,  7.60it/s]"
          ]
        },
        {
          "name": "stdout",
          "output_type": "stream",
          "text": [
            "intermediate_spatial_dim tensor([  1, 512, 512])\n",
            "processed_label torch.Size([1, 256, 256])\n",
            "unsqueeze torch.Size([1, 1, 1, 256, 256])\n",
            "intermediate_spatial_dim tensor([  1, 512, 512])\n",
            "processed_label torch.Size([1, 256, 256])\n",
            "unsqueeze torch.Size([1, 1, 1, 256, 256])\n",
            "intermediate_spatial_dim tensor([  1, 251, 251])\n",
            "processed_label torch.Size([1, 256, 256])\n",
            "unsqueeze torch.Size([1, 1, 1, 256, 256])\n",
            "intermediate_spatial_dim tensor([  1, 249, 249])\n",
            "processed_label torch.Size([1, 256, 256])\n",
            "unsqueeze torch.Size([1, 1, 1, 256, 256])\n",
            "intermediate_spatial_dim tensor([  1, 512, 512])\n",
            "processed_label torch.Size([1, 256, 256])\n",
            "unsqueeze torch.Size([1, 1, 1, 256, 256])\n",
            "intermediate_spatial_dim tensor([  1, 512, 512])\n",
            "processed_label torch.Size([1, 256, 256])\n",
            "unsqueeze torch.Size([1, 1, 1, 256, 256])\n",
            "intermediate_spatial_dim tensor([  1, 251, 251])\n",
            "processed_label torch.Size([1, 256, 256])\n",
            "unsqueeze torch.Size([1, 1, 1, 256, 256])\n"
          ]
        },
        {
          "name": "stderr",
          "output_type": "stream",
          "text": [
            " 64%|██████▍   | 73/114 [00:08<00:05,  7.23it/s]"
          ]
        },
        {
          "name": "stdout",
          "output_type": "stream",
          "text": [
            "intermediate_spatial_dim tensor([  1, 249, 249])\n",
            "processed_label torch.Size([1, 256, 256])\n",
            "unsqueeze torch.Size([1, 1, 1, 256, 256])\n",
            "intermediate_spatial_dim tensor([  1, 512, 512])\n",
            "processed_label torch.Size([1, 256, 256])\n",
            "unsqueeze torch.Size([1, 1, 1, 256, 256])\n",
            "intermediate_spatial_dim tensor([  1, 512, 512])\n",
            "processed_label torch.Size([1, 256, 256])\n",
            "unsqueeze torch.Size([1, 1, 1, 256, 256])\n",
            "intermediate_spatial_dim tensor([  1, 251, 251])\n",
            "processed_label torch.Size([1, 256, 256])\n",
            "unsqueeze torch.Size([1, 1, 1, 256, 256])\n",
            "intermediate_spatial_dim tensor([  1, 249, 249])\n",
            "processed_label torch.Size([1, 256, 256])\n",
            "unsqueeze torch.Size([1, 1, 1, 256, 256])\n"
          ]
        },
        {
          "name": "stderr",
          "output_type": "stream",
          "text": [
            " 66%|██████▌   | 75/114 [00:08<00:05,  7.27it/s]"
          ]
        },
        {
          "name": "stdout",
          "output_type": "stream",
          "text": [
            "intermediate_spatial_dim tensor([  1, 512, 512])\n",
            "processed_label torch.Size([1, 256, 256])\n",
            "unsqueeze torch.Size([1, 1, 1, 256, 256])\n",
            "intermediate_spatial_dim tensor([  1, 512, 512])\n",
            "processed_label torch.Size([1, 256, 256])\n",
            "unsqueeze torch.Size([1, 1, 1, 256, 256])\n",
            "intermediate_spatial_dim tensor([  1, 251, 251])\n",
            "processed_label torch.Size([1, 256, 256])\n",
            "unsqueeze torch.Size([1, 1, 1, 256, 256])\n",
            "intermediate_spatial_dim tensor([  1, 250, 250])\n",
            "processed_label torch.Size([1, 256, 256])\n",
            "unsqueeze torch.Size([1, 1, 1, 256, 256])\n",
            "intermediate_spatial_dim tensor([  1, 512, 512])\n",
            "processed_label torch.Size([1, 256, 256])\n",
            "unsqueeze torch.Size([1, 1, 1, 256, 256])\n",
            "intermediate_spatial_dim tensor([  1, 512, 512])\n",
            "processed_label torch.Size([1, 256, 256])\n",
            "unsqueeze torch.Size([1, 1, 1, 256, 256])\n",
            "intermediate_spatial_dim tensor([  1, 252, 252])\n",
            "processed_label torch.Size([1, 256, 256])\n",
            "unsqueeze torch.Size([1, 1, 1, 256, 256])\n"
          ]
        },
        {
          "name": "stderr",
          "output_type": "stream",
          "text": [
            " 67%|██████▋   | 76/114 [00:09<00:05,  7.11it/s]"
          ]
        },
        {
          "name": "stdout",
          "output_type": "stream",
          "text": [
            "intermediate_spatial_dim tensor([  1, 250, 250])\n",
            "processed_label torch.Size([1, 256, 256])\n",
            "unsqueeze torch.Size([1, 1, 1, 256, 256])\n",
            "intermediate_spatial_dim tensor([  1, 512, 512])\n",
            "processed_label torch.Size([1, 256, 256])\n",
            "unsqueeze torch.Size([1, 1, 1, 256, 256])\n",
            "intermediate_spatial_dim tensor([  1, 512, 512])\n",
            "processed_label torch.Size([1, 256, 256])\n",
            "unsqueeze torch.Size([1, 1, 1, 256, 256])\n",
            "intermediate_spatial_dim tensor([  1, 253, 253])\n",
            "processed_label torch.Size([1, 256, 256])\n",
            "unsqueeze torch.Size([1, 1, 1, 256, 256])\n",
            "intermediate_spatial_dim tensor([  1, 250, 250])\n",
            "processed_label torch.Size([1, 256, 256])\n",
            "unsqueeze torch.Size([1, 1, 1, 256, 256])\n"
          ]
        },
        {
          "name": "stderr",
          "output_type": "stream",
          "text": [
            " 68%|██████▊   | 78/114 [00:09<00:04,  7.39it/s]"
          ]
        },
        {
          "name": "stdout",
          "output_type": "stream",
          "text": [
            "intermediate_spatial_dim tensor([  1, 512, 512])\n",
            "processed_label torch.Size([1, 256, 256])\n",
            "unsqueeze torch.Size([1, 1, 1, 256, 256])\n",
            "intermediate_spatial_dim tensor([  1, 512, 512])\n",
            "processed_label torch.Size([1, 256, 256])\n",
            "unsqueeze torch.Size([1, 1, 1, 256, 256])\n",
            "intermediate_spatial_dim tensor([  1, 253, 253])\n",
            "processed_label torch.Size([1, 256, 256])\n",
            "unsqueeze torch.Size([1, 1, 1, 256, 256])\n",
            "intermediate_spatial_dim tensor([  1, 250, 250])\n",
            "processed_label torch.Size([1, 256, 256])\n",
            "unsqueeze torch.Size([1, 1, 1, 256, 256])\n",
            "intermediate_spatial_dim tensor([  1, 512, 512])\n",
            "processed_label torch.Size([1, 256, 256])\n",
            "unsqueeze torch.Size([1, 1, 1, 256, 256])\n",
            "intermediate_spatial_dim tensor([  1, 512, 512])\n",
            "processed_label torch.Size([1, 256, 256])\n",
            "unsqueeze torch.Size([1, 1, 1, 256, 256])\n",
            "intermediate_spatial_dim tensor([  1, 250, 250])\n",
            "processed_label torch.Size([1, 256, 256])\n",
            "unsqueeze torch.Size([1, 1, 1, 256, 256])\n"
          ]
        },
        {
          "name": "stderr",
          "output_type": "stream",
          "text": [
            " 70%|███████   | 80/114 [00:09<00:04,  7.73it/s]"
          ]
        },
        {
          "name": "stdout",
          "output_type": "stream",
          "text": [
            "intermediate_spatial_dim tensor([  1, 512, 512])\n",
            "processed_label torch.Size([1, 256, 256])\n",
            "unsqueeze torch.Size([1, 1, 1, 256, 256])\n",
            "intermediate_spatial_dim tensor([  1, 512, 512])\n",
            "processed_label torch.Size([1, 256, 256])\n",
            "unsqueeze torch.Size([1, 1, 1, 256, 256])\n",
            "intermediate_spatial_dim tensor([  1, 250, 250])\n",
            "processed_label torch.Size([1, 256, 256])\n",
            "unsqueeze torch.Size([1, 1, 1, 256, 256])\n",
            "intermediate_spatial_dim tensor([  1, 512, 512])\n",
            "processed_label torch.Size([1, 256, 256])\n",
            "unsqueeze torch.Size([1, 1, 1, 256, 256])\n",
            "intermediate_spatial_dim tensor([  1, 512, 512])\n",
            "processed_label torch.Size([1, 256, 256])\n",
            "unsqueeze torch.Size([1, 1, 1, 256, 256])\n",
            "intermediate_spatial_dim tensor([  1, 250, 250])\n",
            "processed_label torch.Size([1, 256, 256])\n",
            "unsqueeze torch.Size([1, 1, 1, 256, 256])\n"
          ]
        },
        {
          "name": "stderr",
          "output_type": "stream",
          "text": [
            " 72%|███████▏  | 82/114 [00:09<00:03,  8.49it/s]"
          ]
        },
        {
          "name": "stdout",
          "output_type": "stream",
          "text": [
            "intermediate_spatial_dim tensor([  1, 512, 512])\n",
            "processed_label torch.Size([1, 256, 256])\n",
            "unsqueeze torch.Size([1, 1, 1, 256, 256])\n",
            "intermediate_spatial_dim tensor([  1, 512, 512])\n",
            "processed_label torch.Size([1, 256, 256])\n",
            "unsqueeze torch.Size([1, 1, 1, 256, 256])\n",
            "intermediate_spatial_dim tensor([  1, 250, 250])\n",
            "processed_label torch.Size([1, 256, 256])\n",
            "unsqueeze torch.Size([1, 1, 1, 256, 256])\n",
            "intermediate_spatial_dim tensor([  1, 512, 512])\n",
            "processed_label torch.Size([1, 256, 256])\n",
            "unsqueeze torch.Size([1, 1, 1, 256, 256])\n",
            "intermediate_spatial_dim tensor([  1, 512, 512])\n",
            "processed_label torch.Size([1, 256, 256])\n",
            "unsqueeze torch.Size([1, 1, 1, 256, 256])\n",
            "intermediate_spatial_dim tensor([  1, 250, 250])\n",
            "processed_label torch.Size([1, 256, 256])\n",
            "unsqueeze torch.Size([1, 1, 1, 256, 256])\n"
          ]
        },
        {
          "name": "stderr",
          "output_type": "stream",
          "text": [
            " 74%|███████▎  | 84/114 [00:09<00:03,  8.93it/s]"
          ]
        },
        {
          "name": "stdout",
          "output_type": "stream",
          "text": [
            "intermediate_spatial_dim tensor([  1, 512, 512])\n",
            "processed_label torch.Size([1, 256, 256])\n",
            "unsqueeze torch.Size([1, 1, 1, 256, 256])\n",
            "intermediate_spatial_dim tensor([  1, 512, 512])\n",
            "processed_label torch.Size([1, 256, 256])\n",
            "unsqueeze torch.Size([1, 1, 1, 256, 256])\n",
            "intermediate_spatial_dim tensor([  1, 250, 250])\n",
            "processed_label torch.Size([1, 256, 256])\n",
            "unsqueeze torch.Size([1, 1, 1, 256, 256])\n",
            "intermediate_spatial_dim tensor([  1, 512, 512])\n",
            "processed_label torch.Size([1, 256, 256])\n",
            "unsqueeze torch.Size([1, 1, 1, 256, 256])\n",
            "intermediate_spatial_dim tensor([  1, 512, 512])\n",
            "processed_label torch.Size([1, 256, 256])\n",
            "unsqueeze torch.Size([1, 1, 1, 256, 256])\n",
            "intermediate_spatial_dim tensor([  1, 250, 250])\n",
            "processed_label torch.Size([1, 256, 256])\n",
            "unsqueeze torch.Size([1, 1, 1, 256, 256])\n"
          ]
        },
        {
          "name": "stderr",
          "output_type": "stream",
          "text": [
            " 90%|█████████ | 103/114 [00:10<00:00, 56.78it/s]"
          ]
        },
        {
          "name": "stdout",
          "output_type": "stream",
          "text": [
            "intermediate_spatial_dim tensor([  1, 512, 512])\n",
            "processed_label torch.Size([1, 256, 256])\n",
            "unsqueeze torch.Size([1, 1, 1, 256, 256])\n",
            "intermediate_spatial_dim tensor([  1, 512, 512])\n",
            "processed_label torch.Size([1, 256, 256])\n",
            "unsqueeze torch.Size([1, 1, 1, 256, 256])\n",
            "intermediate_spatial_dim tensor([  1, 253, 253])\n",
            "processed_label torch.Size([1, 256, 256])\n",
            "unsqueeze torch.Size([1, 1, 1, 256, 256])\n",
            "intermediate_spatial_dim tensor([  1, 512, 512])\n",
            "processed_label torch.Size([1, 256, 256])\n",
            "unsqueeze torch.Size([1, 1, 1, 256, 256])\n",
            "intermediate_spatial_dim tensor([  1, 512, 512])\n",
            "processed_label torch.Size([1, 256, 256])\n",
            "unsqueeze torch.Size([1, 1, 1, 256, 256])\n"
          ]
        },
        {
          "name": "stderr",
          "output_type": "stream",
          "text": [
            "100%|██████████| 114/114 [00:10<00:00, 11.05it/s]\n"
          ]
        },
        {
          "name": "stdout",
          "output_type": "stream",
          "text": [
            "filtering\n",
            "num features: 0\n",
            "fine\n",
            "BR0138\n"
          ]
        },
        {
          "name": "stderr",
          "output_type": "stream",
          "text": [
            "  3%|▎         | 6/228 [00:00<00:03, 59.96it/s]"
          ]
        },
        {
          "name": "stdout",
          "output_type": "stream",
          "text": [
            "intermediate_spatial_dim tensor([  1, 251, 251])\n",
            "processed_label torch.Size([1, 256, 256])\n",
            "unsqueeze torch.Size([1, 1, 1, 256, 256])\n",
            "intermediate_spatial_dim tensor([  1, 251, 251])\n",
            "processed_label torch.Size([1, 256, 256])\n",
            "unsqueeze torch.Size([1, 1, 1, 256, 256])\n"
          ]
        },
        {
          "name": "stderr",
          "output_type": "stream",
          "text": [
            "  9%|▉         | 20/228 [00:00<00:06, 34.37it/s]"
          ]
        },
        {
          "name": "stdout",
          "output_type": "stream",
          "text": [
            "intermediate_spatial_dim tensor([  1, 512, 512])\n",
            "processed_label torch.Size([1, 256, 256])\n",
            "unsqueeze torch.Size([1, 1, 1, 256, 256])\n",
            "intermediate_spatial_dim tensor([  1, 512, 512])\n",
            "processed_label torch.Size([1, 256, 256])\n",
            "unsqueeze torch.Size([1, 1, 1, 256, 256])\n",
            "intermediate_spatial_dim tensor([  1, 251, 251])\n",
            "processed_label torch.Size([1, 256, 256])\n",
            "unsqueeze torch.Size([1, 1, 1, 256, 256])\n",
            "intermediate_spatial_dim tensor([  1, 251, 251])\n",
            "processed_label torch.Size([1, 256, 256])\n",
            "unsqueeze torch.Size([1, 1, 1, 256, 256])\n",
            "intermediate_spatial_dim tensor([  1, 512, 512])\n",
            "processed_label torch.Size([1, 256, 256])\n",
            "unsqueeze torch.Size([1, 1, 1, 256, 256])\n",
            "intermediate_spatial_dim tensor([  1, 512, 512])\n",
            "processed_label torch.Size([1, 256, 256])\n",
            "unsqueeze torch.Size([1, 1, 1, 256, 256])\n",
            "intermediate_spatial_dim tensor([  1, 251, 251])\n",
            "processed_label torch.Size([1, 256, 256])\n",
            "unsqueeze torch.Size([1, 1, 1, 256, 256])\n",
            "intermediate_spatial_dim tensor([  1, 251, 251])\n",
            "processed_label torch.Size([1, 256, 256])\n",
            "unsqueeze torch.Size([1, 1, 1, 256, 256])\n",
            "intermediate_spatial_dim tensor([  1, 512, 512])\n",
            "processed_label torch.Size([1, 256, 256])\n",
            "unsqueeze torch.Size([1, 1, 1, 256, 256])\n",
            "intermediate_spatial_dim tensor([  1, 512, 512])\n",
            "processed_label torch.Size([1, 256, 256])\n",
            "unsqueeze torch.Size([1, 1, 1, 256, 256])\n",
            "intermediate_spatial_dim tensor([  1, 251, 251])\n",
            "processed_label torch.Size([1, 256, 256])\n",
            "unsqueeze torch.Size([1, 1, 1, 256, 256])\n",
            "intermediate_spatial_dim tensor([  1, 251, 251])\n",
            "processed_label torch.Size([1, 256, 256])\n",
            "unsqueeze torch.Size([1, 1, 1, 256, 256])\n",
            "intermediate_spatial_dim tensor([  1, 512, 512])\n",
            "processed_label torch.Size([1, 256, 256])\n",
            "unsqueeze torch.Size([1, 1, 1, 256, 256])\n",
            "intermediate_spatial_dim tensor([  1, 512, 512])\n",
            "processed_label torch.Size([1, 256, 256])\n",
            "unsqueeze torch.Size([1, 1, 1, 256, 256])\n",
            "intermediate_spatial_dim tensor([  1, 251, 251])\n",
            "processed_label torch.Size([1, 256, 256])\n",
            "unsqueeze torch.Size([1, 1, 1, 256, 256])\n",
            "intermediate_spatial_dim tensor([  1, 251, 251])\n",
            "processed_label torch.Size([1, 256, 256])\n",
            "unsqueeze torch.Size([1, 1, 1, 256, 256])\n"
          ]
        },
        {
          "name": "stderr",
          "output_type": "stream",
          "text": [
            " 11%|█         | 25/228 [00:01<00:11, 16.92it/s]"
          ]
        },
        {
          "name": "stdout",
          "output_type": "stream",
          "text": [
            "intermediate_spatial_dim tensor([  1, 512, 512])\n",
            "processed_label torch.Size([1, 256, 256])\n",
            "unsqueeze torch.Size([1, 1, 1, 256, 256])\n",
            "intermediate_spatial_dim tensor([  1, 512, 512])\n",
            "processed_label torch.Size([1, 256, 256])\n",
            "unsqueeze torch.Size([1, 1, 1, 256, 256])\n",
            "intermediate_spatial_dim tensor([  1, 251, 251])\n",
            "processed_label torch.Size([1, 256, 256])\n",
            "unsqueeze torch.Size([1, 1, 1, 256, 256])\n",
            "intermediate_spatial_dim tensor([  1, 251, 251])\n",
            "processed_label torch.Size([1, 256, 256])\n",
            "unsqueeze torch.Size([1, 1, 1, 256, 256])\n",
            "intermediate_spatial_dim tensor([  1, 512, 512])\n",
            "processed_label torch.Size([1, 256, 256])\n",
            "unsqueeze torch.Size([1, 1, 1, 256, 256])\n",
            "intermediate_spatial_dim tensor([  1, 512, 512])\n",
            "processed_label torch.Size([1, 256, 256])\n",
            "unsqueeze torch.Size([1, 1, 1, 256, 256])\n",
            "intermediate_spatial_dim tensor([  1, 251, 251])\n",
            "processed_label torch.Size([1, 256, 256])\n",
            "unsqueeze torch.Size([1, 1, 1, 256, 256])\n",
            "intermediate_spatial_dim tensor([  1, 251, 251])\n",
            "processed_label torch.Size([1, 256, 256])\n",
            "unsqueeze torch.Size([1, 1, 1, 256, 256])\n",
            "intermediate_spatial_dim tensor([  1, 512, 512])\n",
            "processed_label torch.Size([1, 256, 256])\n",
            "unsqueeze torch.Size([1, 1, 1, 256, 256])\n",
            "intermediate_spatial_dim tensor([  1, 512, 512])\n",
            "processed_label torch.Size([1, 256, 256])\n",
            "unsqueeze torch.Size([1, 1, 1, 256, 256])\n",
            "intermediate_spatial_dim tensor([  1, 251, 251])\n",
            "processed_label torch.Size([1, 256, 256])\n",
            "unsqueeze torch.Size([1, 1, 1, 256, 256])\n",
            "intermediate_spatial_dim tensor([  1, 251, 251])\n",
            "processed_label torch.Size([1, 256, 256])\n",
            "unsqueeze torch.Size([1, 1, 1, 256, 256])\n",
            "intermediate_spatial_dim tensor([  1, 512, 512])\n",
            "processed_label torch.Size([1, 256, 256])\n",
            "unsqueeze torch.Size([1, 1, 1, 256, 256])\n",
            "intermediate_spatial_dim tensor([  1, 512, 512])\n",
            "processed_label torch.Size([1, 256, 256])\n",
            "unsqueeze torch.Size([1, 1, 1, 256, 256])\n",
            "intermediate_spatial_dim tensor([  1, 251, 251])\n",
            "processed_label torch.Size([1, 256, 256])\n",
            "unsqueeze torch.Size([1, 1, 1, 256, 256])\n",
            "intermediate_spatial_dim tensor([  1, 251, 251])\n",
            "processed_label torch.Size([1, 256, 256])\n",
            "unsqueeze torch.Size([1, 1, 1, 256, 256])\n"
          ]
        },
        {
          "name": "stderr",
          "output_type": "stream",
          "text": [
            " 12%|█▏        | 28/228 [00:01<00:14, 13.88it/s]"
          ]
        },
        {
          "name": "stdout",
          "output_type": "stream",
          "text": [
            "intermediate_spatial_dim tensor([  1, 512, 512])\n",
            "processed_label torch.Size([1, 256, 256])\n",
            "unsqueeze torch.Size([1, 1, 1, 256, 256])\n",
            "intermediate_spatial_dim tensor([  1, 512, 512])\n",
            "processed_label torch.Size([1, 256, 256])\n",
            "unsqueeze torch.Size([1, 1, 1, 256, 256])\n",
            "intermediate_spatial_dim tensor([  1, 251, 251])\n",
            "processed_label torch.Size([1, 256, 256])\n",
            "unsqueeze torch.Size([1, 1, 1, 256, 256])\n",
            "intermediate_spatial_dim tensor([  1, 251, 251])\n",
            "processed_label torch.Size([1, 256, 256])\n",
            "unsqueeze torch.Size([1, 1, 1, 256, 256])\n",
            "intermediate_spatial_dim tensor([  1, 512, 512])\n",
            "processed_label torch.Size([1, 256, 256])\n",
            "unsqueeze torch.Size([1, 1, 1, 256, 256])\n",
            "intermediate_spatial_dim tensor([  1, 512, 512])\n",
            "processed_label torch.Size([1, 256, 256])\n",
            "unsqueeze torch.Size([1, 1, 1, 256, 256])\n",
            "intermediate_spatial_dim tensor([  1, 251, 251])\n",
            "processed_label torch.Size([1, 256, 256])\n",
            "unsqueeze torch.Size([1, 1, 1, 256, 256])\n",
            "intermediate_spatial_dim tensor([  1, 251, 251])\n",
            "processed_label torch.Size([1, 256, 256])\n",
            "unsqueeze torch.Size([1, 1, 1, 256, 256])\n"
          ]
        },
        {
          "name": "stderr",
          "output_type": "stream",
          "text": [
            " 13%|█▎        | 30/228 [00:01<00:16, 12.36it/s]"
          ]
        },
        {
          "name": "stdout",
          "output_type": "stream",
          "text": [
            "intermediate_spatial_dim tensor([  1, 512, 512])\n",
            "processed_label torch.Size([1, 256, 256])\n",
            "unsqueeze torch.Size([1, 1, 1, 256, 256])\n",
            "intermediate_spatial_dim tensor([  1, 512, 512])\n",
            "processed_label torch.Size([1, 256, 256])\n",
            "unsqueeze torch.Size([1, 1, 1, 256, 256])\n",
            "intermediate_spatial_dim tensor([  1, 251, 251])\n",
            "processed_label torch.Size([1, 256, 256])\n",
            "unsqueeze torch.Size([1, 1, 1, 256, 256])\n",
            "intermediate_spatial_dim tensor([  1, 251, 251])\n",
            "processed_label torch.Size([1, 256, 256])\n",
            "unsqueeze torch.Size([1, 1, 1, 256, 256])\n",
            "intermediate_spatial_dim tensor([  1, 512, 512])\n",
            "processed_label torch.Size([1, 256, 256])\n",
            "unsqueeze torch.Size([1, 1, 1, 256, 256])\n",
            "intermediate_spatial_dim tensor([  1, 512, 512])\n",
            "processed_label torch.Size([1, 256, 256])\n",
            "unsqueeze torch.Size([1, 1, 1, 256, 256])\n",
            "intermediate_spatial_dim tensor([  1, 251, 251])\n",
            "processed_label torch.Size([1, 256, 256])\n",
            "unsqueeze torch.Size([1, 1, 1, 256, 256])\n"
          ]
        },
        {
          "name": "stderr",
          "output_type": "stream",
          "text": [
            " 14%|█▍        | 32/228 [00:02<00:18, 10.40it/s]"
          ]
        },
        {
          "name": "stdout",
          "output_type": "stream",
          "text": [
            "intermediate_spatial_dim tensor([  1, 251, 251])\n",
            "processed_label torch.Size([1, 256, 256])\n",
            "unsqueeze torch.Size([1, 1, 1, 256, 256])\n",
            "intermediate_spatial_dim tensor([  1, 512, 512])\n",
            "processed_label torch.Size([1, 256, 256])\n",
            "unsqueeze torch.Size([1, 1, 1, 256, 256])\n",
            "intermediate_spatial_dim tensor([  1, 512, 512])\n",
            "processed_label torch.Size([1, 256, 256])\n",
            "unsqueeze torch.Size([1, 1, 1, 256, 256])\n",
            "intermediate_spatial_dim tensor([  1, 251, 251])\n",
            "processed_label torch.Size([1, 256, 256])\n",
            "unsqueeze torch.Size([1, 1, 1, 256, 256])\n",
            "intermediate_spatial_dim tensor([  1, 251, 251])\n",
            "processed_label torch.Size([1, 256, 256])\n",
            "unsqueeze torch.Size([1, 1, 1, 256, 256])\n"
          ]
        },
        {
          "name": "stderr",
          "output_type": "stream",
          "text": [
            " 15%|█▍        | 34/228 [00:02<00:20,  9.32it/s]"
          ]
        },
        {
          "name": "stdout",
          "output_type": "stream",
          "text": [
            "intermediate_spatial_dim tensor([  1, 512, 512])\n",
            "processed_label torch.Size([1, 256, 256])\n",
            "unsqueeze torch.Size([1, 1, 1, 256, 256])\n",
            "intermediate_spatial_dim tensor([  1, 512, 512])\n",
            "processed_label torch.Size([1, 256, 256])\n",
            "unsqueeze torch.Size([1, 1, 1, 256, 256])\n",
            "intermediate_spatial_dim tensor([  1, 251, 251])\n",
            "processed_label torch.Size([1, 256, 256])\n",
            "unsqueeze torch.Size([1, 1, 1, 256, 256])\n",
            "intermediate_spatial_dim tensor([  1, 250, 250])\n",
            "processed_label torch.Size([1, 256, 256])\n",
            "unsqueeze torch.Size([1, 1, 1, 256, 256])\n",
            "intermediate_spatial_dim tensor([  1, 512, 512])\n",
            "processed_label torch.Size([1, 256, 256])\n",
            "unsqueeze torch.Size([1, 1, 1, 256, 256])\n",
            "intermediate_spatial_dim tensor([  1, 512, 512])\n",
            "processed_label torch.Size([1, 256, 256])\n",
            "unsqueeze torch.Size([1, 1, 1, 256, 256])\n",
            "intermediate_spatial_dim tensor([  1, 251, 251])\n",
            "processed_label torch.Size([1, 256, 256])\n",
            "unsqueeze torch.Size([1, 1, 1, 256, 256])\n",
            "intermediate_spatial_dim tensor([  1, 250, 250])\n",
            "processed_label torch.Size([1, 256, 256])\n",
            "unsqueeze torch.Size([1, 1, 1, 256, 256])\n",
            "intermediate_spatial_dim tensor([  1, 512, 512])\n",
            "processed_label torch.Size([1, 256, 256])\n",
            "unsqueeze torch.Size([1, 1, 1, 256, 256])\n",
            "intermediate_spatial_dim tensor([  1, 512, 512])\n",
            "processed_label torch.Size([1, 256, 256])\n",
            "unsqueeze torch.Size([1, 1, 1, 256, 256])\n",
            "intermediate_spatial_dim tensor([  1, 251, 251])\n",
            "processed_label torch.Size([1, 256, 256])\n",
            "unsqueeze torch.Size([1, 1, 1, 256, 256])\n",
            "intermediate_spatial_dim tensor([  1, 250, 250])\n",
            "processed_label torch.Size([1, 256, 256])\n",
            "unsqueeze torch.Size([1, 1, 1, 256, 256])\n",
            "intermediate_spatial_dim tensor([  1, 512, 512])\n",
            "processed_label torch.Size([1, 256, 256])\n",
            "unsqueeze torch.Size([1, 1, 1, 256, 256])\n",
            "intermediate_spatial_dim tensor([  1, 512, 512])\n",
            "processed_label torch.Size([1, 256, 256])\n",
            "unsqueeze torch.Size([1, 1, 1, 256, 256])\n"
          ]
        },
        {
          "name": "stderr",
          "output_type": "stream",
          "text": [
            " 16%|█▌        | 37/228 [00:02<00:22,  8.33it/s]"
          ]
        },
        {
          "name": "stdout",
          "output_type": "stream",
          "text": [
            "intermediate_spatial_dim tensor([  1, 251, 251])\n",
            "processed_label torch.Size([1, 256, 256])\n",
            "unsqueeze torch.Size([1, 1, 1, 256, 256])\n",
            "intermediate_spatial_dim tensor([  1, 250, 250])\n",
            "processed_label torch.Size([1, 256, 256])\n",
            "unsqueeze torch.Size([1, 1, 1, 256, 256])\n",
            "intermediate_spatial_dim tensor([  1, 512, 512])\n",
            "processed_label torch.Size([1, 256, 256])\n",
            "unsqueeze torch.Size([1, 1, 1, 256, 256])\n",
            "intermediate_spatial_dim tensor([  1, 512, 512])\n",
            "processed_label torch.Size([1, 256, 256])\n",
            "unsqueeze torch.Size([1, 1, 1, 256, 256])\n",
            "intermediate_spatial_dim tensor([  1, 251, 251])\n",
            "processed_label torch.Size([1, 256, 256])\n",
            "unsqueeze torch.Size([1, 1, 1, 256, 256])\n"
          ]
        },
        {
          "name": "stderr",
          "output_type": "stream",
          "text": [
            " 17%|█▋        | 38/228 [00:03<00:23,  7.99it/s]"
          ]
        },
        {
          "name": "stdout",
          "output_type": "stream",
          "text": [
            "intermediate_spatial_dim tensor([  1, 250, 250])\n",
            "processed_label torch.Size([1, 256, 256])\n",
            "unsqueeze torch.Size([1, 1, 1, 256, 256])\n",
            "intermediate_spatial_dim tensor([  1, 512, 512])\n",
            "processed_label torch.Size([1, 256, 256])\n",
            "unsqueeze torch.Size([1, 1, 1, 256, 256])\n",
            "intermediate_spatial_dim tensor([  1, 512, 512])\n",
            "processed_label torch.Size([1, 256, 256])\n",
            "unsqueeze torch.Size([1, 1, 1, 256, 256])\n",
            "intermediate_spatial_dim tensor([  1, 251, 251])\n",
            "processed_label torch.Size([1, 256, 256])\n",
            "unsqueeze torch.Size([1, 1, 1, 256, 256])\n",
            "intermediate_spatial_dim tensor([  1, 250, 250])\n",
            "processed_label torch.Size([1, 256, 256])\n",
            "unsqueeze torch.Size([1, 1, 1, 256, 256])\n"
          ]
        },
        {
          "name": "stderr",
          "output_type": "stream",
          "text": [
            " 18%|█▊        | 40/228 [00:03<00:25,  7.25it/s]"
          ]
        },
        {
          "name": "stdout",
          "output_type": "stream",
          "text": [
            "intermediate_spatial_dim tensor([  1, 512, 512])\n",
            "processed_label torch.Size([1, 256, 256])\n",
            "unsqueeze torch.Size([1, 1, 1, 256, 256])\n",
            "intermediate_spatial_dim tensor([  1, 512, 512])\n",
            "processed_label torch.Size([1, 256, 256])\n",
            "unsqueeze torch.Size([1, 1, 1, 256, 256])\n",
            "intermediate_spatial_dim tensor([  1, 250, 250])\n",
            "processed_label torch.Size([1, 256, 256])\n",
            "unsqueeze torch.Size([1, 1, 1, 256, 256])\n",
            "intermediate_spatial_dim tensor([  1, 250, 250])\n",
            "processed_label torch.Size([1, 256, 256])\n",
            "unsqueeze torch.Size([1, 1, 1, 256, 256])\n",
            "intermediate_spatial_dim tensor([  1, 512, 512])\n",
            "processed_label torch.Size([1, 256, 256])\n",
            "unsqueeze torch.Size([1, 1, 1, 256, 256])\n",
            "intermediate_spatial_dim tensor([  1, 512, 512])\n",
            "processed_label torch.Size([1, 256, 256])\n",
            "unsqueeze torch.Size([1, 1, 1, 256, 256])\n",
            "intermediate_spatial_dim tensor([  1, 250, 250])\n",
            "processed_label torch.Size([1, 256, 256])\n",
            "unsqueeze torch.Size([1, 1, 1, 256, 256])\n"
          ]
        },
        {
          "name": "stderr",
          "output_type": "stream",
          "text": [
            " 18%|█▊        | 41/228 [00:03<00:25,  7.35it/s]"
          ]
        },
        {
          "name": "stdout",
          "output_type": "stream",
          "text": [
            "intermediate_spatial_dim tensor([  1, 250, 250])\n",
            "processed_label torch.Size([1, 256, 256])\n",
            "unsqueeze torch.Size([1, 1, 1, 256, 256])\n",
            "intermediate_spatial_dim tensor([  1, 512, 512])\n",
            "processed_label torch.Size([1, 256, 256])\n",
            "unsqueeze torch.Size([1, 1, 1, 256, 256])\n",
            "intermediate_spatial_dim tensor([  1, 512, 512])\n",
            "processed_label torch.Size([1, 256, 256])\n",
            "unsqueeze torch.Size([1, 1, 1, 256, 256])\n",
            "intermediate_spatial_dim tensor([  1, 250, 250])\n",
            "processed_label torch.Size([1, 256, 256])\n",
            "unsqueeze torch.Size([1, 1, 1, 256, 256])\n",
            "intermediate_spatial_dim tensor([  1, 250, 250])\n",
            "processed_label torch.Size([1, 256, 256])\n",
            "unsqueeze torch.Size([1, 1, 1, 256, 256])\n"
          ]
        },
        {
          "name": "stderr",
          "output_type": "stream",
          "text": [
            " 19%|█▉        | 43/228 [00:03<00:24,  7.65it/s]"
          ]
        },
        {
          "name": "stdout",
          "output_type": "stream",
          "text": [
            "intermediate_spatial_dim tensor([  1, 512, 512])\n",
            "processed_label torch.Size([1, 256, 256])\n",
            "unsqueeze torch.Size([1, 1, 1, 256, 256])\n",
            "intermediate_spatial_dim tensor([  1, 512, 512])\n",
            "processed_label torch.Size([1, 256, 256])\n",
            "unsqueeze torch.Size([1, 1, 1, 256, 256])\n",
            "intermediate_spatial_dim tensor([  1, 250, 250])\n",
            "processed_label torch.Size([1, 256, 256])\n",
            "unsqueeze torch.Size([1, 1, 1, 256, 256])\n",
            "intermediate_spatial_dim tensor([  1, 250, 250])\n",
            "processed_label torch.Size([1, 256, 256])\n",
            "unsqueeze torch.Size([1, 1, 1, 256, 256])\n",
            "intermediate_spatial_dim tensor([  1, 512, 512])\n",
            "processed_label torch.Size([1, 256, 256])\n",
            "unsqueeze torch.Size([1, 1, 1, 256, 256])\n",
            "intermediate_spatial_dim tensor([  1, 512, 512])\n",
            "processed_label torch.Size([1, 256, 256])\n",
            "unsqueeze torch.Size([1, 1, 1, 256, 256])\n",
            "intermediate_spatial_dim tensor([  1, 250, 250])\n",
            "processed_label torch.Size([1, 256, 256])\n",
            "unsqueeze torch.Size([1, 1, 1, 256, 256])\n",
            "intermediate_spatial_dim tensor([  1, 250, 250])\n",
            "processed_label torch.Size([1, 256, 256])\n",
            "unsqueeze torch.Size([1, 1, 1, 256, 256])\n"
          ]
        },
        {
          "name": "stderr",
          "output_type": "stream",
          "text": [
            " 20%|█▉        | 45/228 [00:04<00:24,  7.55it/s]"
          ]
        },
        {
          "name": "stdout",
          "output_type": "stream",
          "text": [
            "intermediate_spatial_dim tensor([  1, 512, 512])\n",
            "processed_label torch.Size([1, 256, 256])\n",
            "unsqueeze torch.Size([1, 1, 1, 256, 256])\n",
            "intermediate_spatial_dim tensor([  1, 512, 512])\n",
            "processed_label torch.Size([1, 256, 256])\n",
            "unsqueeze torch.Size([1, 1, 1, 256, 256])\n",
            "intermediate_spatial_dim tensor([  1, 250, 250])\n",
            "processed_label torch.Size([1, 256, 256])\n",
            "unsqueeze torch.Size([1, 1, 1, 256, 256])\n",
            "intermediate_spatial_dim tensor([  1, 250, 250])\n",
            "processed_label torch.Size([1, 256, 256])\n",
            "unsqueeze torch.Size([1, 1, 1, 256, 256])\n",
            "intermediate_spatial_dim tensor([  1, 512, 512])\n",
            "processed_label torch.Size([1, 256, 256])\n",
            "unsqueeze torch.Size([1, 1, 1, 256, 256])\n",
            "intermediate_spatial_dim tensor([  1, 512, 512])\n",
            "processed_label torch.Size([1, 256, 256])\n",
            "unsqueeze torch.Size([1, 1, 1, 256, 256])\n",
            "intermediate_spatial_dim tensor([  1, 250, 250])\n",
            "processed_label torch.Size([1, 256, 256])\n",
            "unsqueeze torch.Size([1, 1, 1, 256, 256])\n",
            "intermediate_spatial_dim tensor([  1, 250, 250])\n",
            "processed_label torch.Size([1, 256, 256])\n",
            "unsqueeze torch.Size([1, 1, 1, 256, 256])\n"
          ]
        },
        {
          "name": "stderr",
          "output_type": "stream",
          "text": [
            " 21%|██        | 47/228 [00:04<00:24,  7.40it/s]"
          ]
        },
        {
          "name": "stdout",
          "output_type": "stream",
          "text": [
            "intermediate_spatial_dim tensor([  1, 512, 512])\n",
            "processed_label torch.Size([1, 256, 256])\n",
            "unsqueeze torch.Size([1, 1, 1, 256, 256])\n",
            "intermediate_spatial_dim tensor([  1, 512, 512])\n",
            "processed_label torch.Size([1, 256, 256])\n",
            "unsqueeze torch.Size([1, 1, 1, 256, 256])\n",
            "intermediate_spatial_dim tensor([  1, 250, 250])\n",
            "processed_label torch.Size([1, 256, 256])\n",
            "unsqueeze torch.Size([1, 1, 1, 256, 256])\n",
            "intermediate_spatial_dim tensor([  1, 250, 250])\n",
            "processed_label torch.Size([1, 256, 256])\n",
            "unsqueeze torch.Size([1, 1, 1, 256, 256])\n",
            "intermediate_spatial_dim tensor([  1, 512, 512])\n",
            "processed_label torch.Size([1, 256, 256])\n",
            "unsqueeze torch.Size([1, 1, 1, 256, 256])\n",
            "intermediate_spatial_dim tensor([  1, 512, 512])\n",
            "processed_label torch.Size([1, 256, 256])\n",
            "unsqueeze torch.Size([1, 1, 1, 256, 256])\n",
            "intermediate_spatial_dim tensor([  1, 250, 250])\n",
            "processed_label torch.Size([1, 256, 256])\n",
            "unsqueeze torch.Size([1, 1, 1, 256, 256])\n"
          ]
        },
        {
          "name": "stderr",
          "output_type": "stream",
          "text": [
            " 21%|██        | 48/228 [00:04<00:24,  7.39it/s]"
          ]
        },
        {
          "name": "stdout",
          "output_type": "stream",
          "text": [
            "intermediate_spatial_dim tensor([  1, 249, 249])\n",
            "processed_label torch.Size([1, 256, 256])\n",
            "unsqueeze torch.Size([1, 1, 1, 256, 256])\n",
            "intermediate_spatial_dim tensor([  1, 512, 512])\n",
            "processed_label torch.Size([1, 256, 256])\n",
            "unsqueeze torch.Size([1, 1, 1, 256, 256])\n",
            "intermediate_spatial_dim tensor([  1, 512, 512])\n",
            "processed_label torch.Size([1, 256, 256])\n",
            "unsqueeze torch.Size([1, 1, 1, 256, 256])\n",
            "intermediate_spatial_dim tensor([  1, 250, 250])\n",
            "processed_label torch.Size([1, 256, 256])\n",
            "unsqueeze torch.Size([1, 1, 1, 256, 256])\n",
            "intermediate_spatial_dim tensor([  1, 249, 249])\n",
            "processed_label torch.Size([1, 256, 256])\n",
            "unsqueeze torch.Size([1, 1, 1, 256, 256])\n",
            "intermediate_spatial_dim tensor([  1, 512, 512])\n",
            "processed_label torch.Size([1, 256, 256])\n",
            "unsqueeze torch.Size([1, 1, 1, 256, 256])\n"
          ]
        },
        {
          "name": "stderr",
          "output_type": "stream",
          "text": [
            " 22%|██▏       | 50/228 [00:04<00:23,  7.65it/s]"
          ]
        },
        {
          "name": "stdout",
          "output_type": "stream",
          "text": [
            "intermediate_spatial_dim tensor([  1, 512, 512])\n",
            "processed_label torch.Size([1, 256, 256])\n",
            "unsqueeze torch.Size([1, 1, 1, 256, 256])\n",
            "intermediate_spatial_dim tensor([  1, 250, 250])\n",
            "processed_label torch.Size([1, 256, 256])\n",
            "unsqueeze torch.Size([1, 1, 1, 256, 256])\n",
            "intermediate_spatial_dim tensor([  1, 249, 249])\n",
            "processed_label torch.Size([1, 256, 256])\n",
            "unsqueeze torch.Size([1, 1, 1, 256, 256])\n",
            "intermediate_spatial_dim tensor([  1, 512, 512])\n",
            "processed_label torch.Size([1, 256, 256])\n",
            "unsqueeze torch.Size([1, 1, 1, 256, 256])\n",
            "intermediate_spatial_dim tensor([  1, 512, 512])\n",
            "processed_label torch.Size([1, 256, 256])\n",
            "unsqueeze torch.Size([1, 1, 1, 256, 256])\n",
            "intermediate_spatial_dim tensor([  1, 250, 250])\n",
            "processed_label torch.Size([1, 256, 256])\n",
            "unsqueeze torch.Size([1, 1, 1, 256, 256])\n",
            "intermediate_spatial_dim tensor([  1, 249, 249])\n",
            "processed_label torch.Size([1, 256, 256])\n",
            "unsqueeze torch.Size([1, 1, 1, 256, 256])\n"
          ]
        },
        {
          "name": "stderr",
          "output_type": "stream",
          "text": [
            " 23%|██▎       | 52/228 [00:04<00:23,  7.56it/s]"
          ]
        },
        {
          "name": "stdout",
          "output_type": "stream",
          "text": [
            "intermediate_spatial_dim tensor([  1, 512, 512])\n",
            "processed_label torch.Size([1, 256, 256])\n",
            "unsqueeze torch.Size([1, 1, 1, 256, 256])\n",
            "intermediate_spatial_dim tensor([  1, 512, 512])\n",
            "processed_label torch.Size([1, 256, 256])\n",
            "unsqueeze torch.Size([1, 1, 1, 256, 256])\n",
            "intermediate_spatial_dim tensor([  1, 250, 250])\n",
            "processed_label torch.Size([1, 256, 256])\n",
            "unsqueeze torch.Size([1, 1, 1, 256, 256])\n",
            "intermediate_spatial_dim tensor([  1, 249, 249])\n",
            "processed_label torch.Size([1, 256, 256])\n",
            "unsqueeze torch.Size([1, 1, 1, 256, 256])\n",
            "intermediate_spatial_dim tensor([  1, 512, 512])\n",
            "processed_label torch.Size([1, 256, 256])\n",
            "unsqueeze torch.Size([1, 1, 1, 256, 256])\n",
            "intermediate_spatial_dim tensor([  1, 512, 512])\n",
            "processed_label torch.Size([1, 256, 256])\n",
            "unsqueeze torch.Size([1, 1, 1, 256, 256])\n",
            "intermediate_spatial_dim tensor([  1, 250, 250])\n",
            "processed_label torch.Size([1, 256, 256])\n",
            "unsqueeze torch.Size([1, 1, 1, 256, 256])\n",
            "intermediate_spatial_dim tensor([  1, 249, 249])\n",
            "processed_label torch.Size([1, 256, 256])\n",
            "unsqueeze torch.Size([1, 1, 1, 256, 256])\n"
          ]
        },
        {
          "name": "stderr",
          "output_type": "stream",
          "text": [
            " 24%|██▎       | 54/228 [00:05<00:22,  7.60it/s]"
          ]
        },
        {
          "name": "stdout",
          "output_type": "stream",
          "text": [
            "intermediate_spatial_dim tensor([  1, 512, 512])\n",
            "processed_label torch.Size([1, 256, 256])\n",
            "unsqueeze torch.Size([1, 1, 1, 256, 256])\n",
            "intermediate_spatial_dim tensor([  1, 512, 512])\n",
            "processed_label torch.Size([1, 256, 256])\n",
            "unsqueeze torch.Size([1, 1, 1, 256, 256])\n",
            "intermediate_spatial_dim tensor([  1, 250, 250])\n",
            "processed_label torch.Size([1, 256, 256])\n",
            "unsqueeze torch.Size([1, 1, 1, 256, 256])\n",
            "intermediate_spatial_dim tensor([  1, 249, 249])\n",
            "processed_label torch.Size([1, 256, 256])\n",
            "unsqueeze torch.Size([1, 1, 1, 256, 256])\n",
            "intermediate_spatial_dim tensor([  1, 512, 512])\n",
            "processed_label torch.Size([1, 256, 256])\n",
            "unsqueeze torch.Size([1, 1, 1, 256, 256])\n",
            "intermediate_spatial_dim tensor([  1, 512, 512])\n",
            "processed_label torch.Size([1, 256, 256])\n",
            "unsqueeze torch.Size([1, 1, 1, 256, 256])\n",
            "intermediate_spatial_dim tensor([  1, 250, 250])\n",
            "processed_label torch.Size([1, 256, 256])\n",
            "unsqueeze torch.Size([1, 1, 1, 256, 256])\n",
            "intermediate_spatial_dim tensor([  1, 249, 249])\n",
            "processed_label torch.Size([1, 256, 256])\n",
            "unsqueeze torch.Size([1, 1, 1, 256, 256])\n"
          ]
        },
        {
          "name": "stderr",
          "output_type": "stream",
          "text": [
            " 25%|██▍       | 56/228 [00:05<00:22,  7.59it/s]"
          ]
        },
        {
          "name": "stdout",
          "output_type": "stream",
          "text": [
            "intermediate_spatial_dim tensor([  1, 512, 512])\n",
            "processed_label torch.Size([1, 256, 256])\n",
            "unsqueeze torch.Size([1, 1, 1, 256, 256])\n",
            "intermediate_spatial_dim tensor([  1, 512, 512])\n",
            "processed_label torch.Size([1, 256, 256])\n",
            "unsqueeze torch.Size([1, 1, 1, 256, 256])\n",
            "intermediate_spatial_dim tensor([  1, 250, 250])\n",
            "processed_label torch.Size([1, 256, 256])\n",
            "unsqueeze torch.Size([1, 1, 1, 256, 256])\n",
            "intermediate_spatial_dim tensor([  1, 249, 249])\n",
            "processed_label torch.Size([1, 256, 256])\n",
            "unsqueeze torch.Size([1, 1, 1, 256, 256])\n",
            "intermediate_spatial_dim tensor([  1, 512, 512])\n",
            "processed_label torch.Size([1, 256, 256])\n",
            "unsqueeze torch.Size([1, 1, 1, 256, 256])\n",
            "intermediate_spatial_dim tensor([  1, 512, 512])\n",
            "processed_label torch.Size([1, 256, 256])\n",
            "unsqueeze torch.Size([1, 1, 1, 256, 256])\n",
            "intermediate_spatial_dim tensor([  1, 250, 250])\n",
            "processed_label torch.Size([1, 256, 256])\n",
            "unsqueeze torch.Size([1, 1, 1, 256, 256])\n",
            "intermediate_spatial_dim tensor([  1, 249, 249])\n",
            "processed_label torch.Size([1, 256, 256])\n",
            "unsqueeze torch.Size([1, 1, 1, 256, 256])\n"
          ]
        },
        {
          "name": "stderr",
          "output_type": "stream",
          "text": [
            " 25%|██▌       | 58/228 [00:05<00:23,  7.25it/s]"
          ]
        },
        {
          "name": "stdout",
          "output_type": "stream",
          "text": [
            "intermediate_spatial_dim tensor([  1, 512, 512])\n",
            "processed_label torch.Size([1, 256, 256])\n",
            "unsqueeze torch.Size([1, 1, 1, 256, 256])\n",
            "intermediate_spatial_dim tensor([  1, 512, 512])\n",
            "processed_label torch.Size([1, 256, 256])\n",
            "unsqueeze torch.Size([1, 1, 1, 256, 256])\n",
            "intermediate_spatial_dim tensor([  1, 250, 250])\n",
            "processed_label torch.Size([1, 256, 256])\n",
            "unsqueeze torch.Size([1, 1, 1, 256, 256])\n",
            "intermediate_spatial_dim tensor([  1, 249, 249])\n",
            "processed_label torch.Size([1, 256, 256])\n",
            "unsqueeze torch.Size([1, 1, 1, 256, 256])\n",
            "intermediate_spatial_dim tensor([  1, 512, 512])\n",
            "processed_label torch.Size([1, 256, 256])\n",
            "unsqueeze torch.Size([1, 1, 1, 256, 256])\n",
            "intermediate_spatial_dim tensor([  1, 512, 512])\n",
            "processed_label torch.Size([1, 256, 256])\n",
            "unsqueeze torch.Size([1, 1, 1, 256, 256])\n",
            "intermediate_spatial_dim tensor([  1, 250, 250])\n",
            "processed_label torch.Size([1, 256, 256])\n",
            "unsqueeze torch.Size([1, 1, 1, 256, 256])\n",
            "intermediate_spatial_dim tensor([  1, 249, 249])\n",
            "processed_label torch.Size([1, 256, 256])\n",
            "unsqueeze torch.Size([1, 1, 1, 256, 256])\n"
          ]
        },
        {
          "name": "stderr",
          "output_type": "stream",
          "text": [
            " 26%|██▋       | 60/228 [00:06<00:23,  7.29it/s]"
          ]
        },
        {
          "name": "stdout",
          "output_type": "stream",
          "text": [
            "intermediate_spatial_dim tensor([  1, 512, 512])\n",
            "processed_label torch.Size([1, 256, 256])\n",
            "unsqueeze torch.Size([1, 1, 1, 256, 256])\n",
            "intermediate_spatial_dim tensor([  1, 512, 512])\n",
            "processed_label torch.Size([1, 256, 256])\n",
            "unsqueeze torch.Size([1, 1, 1, 256, 256])\n",
            "intermediate_spatial_dim tensor([  1, 250, 250])\n",
            "processed_label torch.Size([1, 256, 256])\n",
            "unsqueeze torch.Size([1, 1, 1, 256, 256])\n",
            "intermediate_spatial_dim tensor([  1, 249, 249])\n",
            "processed_label torch.Size([1, 256, 256])\n",
            "unsqueeze torch.Size([1, 1, 1, 256, 256])\n",
            "intermediate_spatial_dim tensor([  1, 512, 512])\n",
            "processed_label torch.Size([1, 256, 256])\n",
            "unsqueeze torch.Size([1, 1, 1, 256, 256])\n",
            "intermediate_spatial_dim tensor([  1, 512, 512])\n",
            "processed_label torch.Size([1, 256, 256])\n",
            "unsqueeze torch.Size([1, 1, 1, 256, 256])\n",
            "intermediate_spatial_dim tensor([  1, 250, 250])\n",
            "processed_label torch.Size([1, 256, 256])\n",
            "unsqueeze torch.Size([1, 1, 1, 256, 256])\n",
            "intermediate_spatial_dim tensor([  1, 249, 249])\n",
            "processed_label torch.Size([1, 256, 256])\n",
            "unsqueeze torch.Size([1, 1, 1, 256, 256])\n"
          ]
        },
        {
          "name": "stderr",
          "output_type": "stream",
          "text": [
            " 27%|██▋       | 62/228 [00:06<00:22,  7.22it/s]"
          ]
        },
        {
          "name": "stdout",
          "output_type": "stream",
          "text": [
            "intermediate_spatial_dim tensor([  1, 512, 512])\n",
            "processed_label torch.Size([1, 256, 256])\n",
            "unsqueeze torch.Size([1, 1, 1, 256, 256])\n",
            "intermediate_spatial_dim tensor([  1, 512, 512])\n",
            "processed_label torch.Size([1, 256, 256])\n",
            "unsqueeze torch.Size([1, 1, 1, 256, 256])\n",
            "intermediate_spatial_dim tensor([  1, 250, 250])\n",
            "processed_label torch.Size([1, 256, 256])\n",
            "unsqueeze torch.Size([1, 1, 1, 256, 256])\n",
            "intermediate_spatial_dim tensor([  1, 249, 249])\n",
            "processed_label torch.Size([1, 256, 256])\n",
            "unsqueeze torch.Size([1, 1, 1, 256, 256])\n",
            "intermediate_spatial_dim tensor([  1, 512, 512])\n",
            "processed_label torch.Size([1, 256, 256])\n",
            "unsqueeze torch.Size([1, 1, 1, 256, 256])\n",
            "intermediate_spatial_dim tensor([  1, 512, 512])\n",
            "processed_label torch.Size([1, 256, 256])\n",
            "unsqueeze torch.Size([1, 1, 1, 256, 256])\n",
            "intermediate_spatial_dim tensor([  1, 250, 250])\n",
            "processed_label torch.Size([1, 256, 256])\n",
            "unsqueeze torch.Size([1, 1, 1, 256, 256])\n"
          ]
        },
        {
          "name": "stderr",
          "output_type": "stream",
          "text": [
            " 28%|██▊       | 63/228 [00:06<00:22,  7.33it/s]"
          ]
        },
        {
          "name": "stdout",
          "output_type": "stream",
          "text": [
            "intermediate_spatial_dim tensor([  1, 249, 249])\n",
            "processed_label torch.Size([1, 256, 256])\n",
            "unsqueeze torch.Size([1, 1, 1, 256, 256])\n",
            "intermediate_spatial_dim tensor([  1, 512, 512])\n",
            "processed_label torch.Size([1, 256, 256])\n",
            "unsqueeze torch.Size([1, 1, 1, 256, 256])\n",
            "intermediate_spatial_dim tensor([  1, 512, 512])\n",
            "processed_label torch.Size([1, 256, 256])\n",
            "unsqueeze torch.Size([1, 1, 1, 256, 256])\n",
            "intermediate_spatial_dim tensor([  1, 250, 250])\n",
            "processed_label torch.Size([1, 256, 256])\n",
            "unsqueeze torch.Size([1, 1, 1, 256, 256])\n",
            "intermediate_spatial_dim tensor([  1, 249, 249])\n",
            "processed_label torch.Size([1, 256, 256])\n",
            "unsqueeze torch.Size([1, 1, 1, 256, 256])\n"
          ]
        },
        {
          "name": "stderr",
          "output_type": "stream",
          "text": [
            " 29%|██▊       | 65/228 [00:06<00:21,  7.49it/s]"
          ]
        },
        {
          "name": "stdout",
          "output_type": "stream",
          "text": [
            "intermediate_spatial_dim tensor([  1, 512, 512])\n",
            "processed_label torch.Size([1, 256, 256])\n",
            "unsqueeze torch.Size([1, 1, 1, 256, 256])\n",
            "intermediate_spatial_dim tensor([  1, 512, 512])\n",
            "processed_label torch.Size([1, 256, 256])\n",
            "unsqueeze torch.Size([1, 1, 1, 256, 256])\n",
            "intermediate_spatial_dim tensor([  1, 250, 250])\n",
            "processed_label torch.Size([1, 256, 256])\n",
            "unsqueeze torch.Size([1, 1, 1, 256, 256])\n",
            "intermediate_spatial_dim tensor([  1, 249, 249])\n",
            "processed_label torch.Size([1, 256, 256])\n",
            "unsqueeze torch.Size([1, 1, 1, 256, 256])\n",
            "intermediate_spatial_dim tensor([  1, 512, 512])\n",
            "processed_label torch.Size([1, 256, 256])\n",
            "unsqueeze torch.Size([1, 1, 1, 256, 256])\n",
            "intermediate_spatial_dim tensor([  1, 512, 512])\n",
            "processed_label torch.Size([1, 256, 256])\n",
            "unsqueeze torch.Size([1, 1, 1, 256, 256])\n",
            "intermediate_spatial_dim tensor([  1, 250, 250])\n",
            "processed_label torch.Size([1, 256, 256])\n",
            "unsqueeze torch.Size([1, 1, 1, 256, 256])\n",
            "intermediate_spatial_dim tensor([  1, 249, 249])\n",
            "processed_label torch.Size([1, 256, 256])\n",
            "unsqueeze torch.Size([1, 1, 1, 256, 256])\n"
          ]
        },
        {
          "name": "stderr",
          "output_type": "stream",
          "text": [
            " 29%|██▉       | 67/228 [00:07<00:21,  7.56it/s]"
          ]
        },
        {
          "name": "stdout",
          "output_type": "stream",
          "text": [
            "intermediate_spatial_dim tensor([  1, 512, 512])\n",
            "processed_label torch.Size([1, 256, 256])\n",
            "unsqueeze torch.Size([1, 1, 1, 256, 256])\n",
            "intermediate_spatial_dim tensor([  1, 512, 512])\n",
            "processed_label torch.Size([1, 256, 256])\n",
            "unsqueeze torch.Size([1, 1, 1, 256, 256])\n",
            "intermediate_spatial_dim tensor([  1, 250, 250])\n",
            "processed_label torch.Size([1, 256, 256])\n",
            "unsqueeze torch.Size([1, 1, 1, 256, 256])\n",
            "intermediate_spatial_dim tensor([  1, 249, 249])\n",
            "processed_label torch.Size([1, 256, 256])\n",
            "unsqueeze torch.Size([1, 1, 1, 256, 256])\n",
            "intermediate_spatial_dim tensor([  1, 512, 512])\n",
            "processed_label torch.Size([1, 256, 256])\n",
            "unsqueeze torch.Size([1, 1, 1, 256, 256])\n",
            "intermediate_spatial_dim tensor([  1, 512, 512])\n",
            "processed_label torch.Size([1, 256, 256])\n",
            "unsqueeze torch.Size([1, 1, 1, 256, 256])\n",
            "intermediate_spatial_dim tensor([  1, 250, 250])\n",
            "processed_label torch.Size([1, 256, 256])\n",
            "unsqueeze torch.Size([1, 1, 1, 256, 256])\n",
            "intermediate_spatial_dim tensor([  1, 249, 249])\n",
            "processed_label torch.Size([1, 256, 256])\n",
            "unsqueeze torch.Size([1, 1, 1, 256, 256])\n"
          ]
        },
        {
          "name": "stderr",
          "output_type": "stream",
          "text": [
            " 30%|███       | 69/228 [00:07<00:20,  7.65it/s]"
          ]
        },
        {
          "name": "stdout",
          "output_type": "stream",
          "text": [
            "intermediate_spatial_dim tensor([  1, 512, 512])\n",
            "processed_label torch.Size([1, 256, 256])\n",
            "unsqueeze torch.Size([1, 1, 1, 256, 256])\n",
            "intermediate_spatial_dim tensor([  1, 512, 512])\n",
            "processed_label torch.Size([1, 256, 256])\n",
            "unsqueeze torch.Size([1, 1, 1, 256, 256])\n",
            "intermediate_spatial_dim tensor([  1, 250, 250])\n",
            "processed_label torch.Size([1, 256, 256])\n",
            "unsqueeze torch.Size([1, 1, 1, 256, 256])\n",
            "intermediate_spatial_dim tensor([  1, 249, 249])\n",
            "processed_label torch.Size([1, 256, 256])\n",
            "unsqueeze torch.Size([1, 1, 1, 256, 256])\n",
            "intermediate_spatial_dim tensor([  1, 512, 512])\n",
            "processed_label torch.Size([1, 256, 256])\n",
            "unsqueeze torch.Size([1, 1, 1, 256, 256])\n",
            "intermediate_spatial_dim tensor([  1, 512, 512])\n",
            "processed_label torch.Size([1, 256, 256])\n",
            "unsqueeze torch.Size([1, 1, 1, 256, 256])\n",
            "intermediate_spatial_dim tensor([  1, 250, 250])\n",
            "processed_label torch.Size([1, 256, 256])\n",
            "unsqueeze torch.Size([1, 1, 1, 256, 256])\n",
            "intermediate_spatial_dim tensor([  1, 249, 249])\n",
            "processed_label torch.Size([1, 256, 256])\n",
            "unsqueeze torch.Size([1, 1, 1, 256, 256])\n"
          ]
        },
        {
          "name": "stderr",
          "output_type": "stream",
          "text": [
            " 31%|███       | 71/228 [00:07<00:20,  7.75it/s]"
          ]
        },
        {
          "name": "stdout",
          "output_type": "stream",
          "text": [
            "intermediate_spatial_dim tensor([  1, 512, 512])\n",
            "processed_label torch.Size([1, 256, 256])\n",
            "unsqueeze torch.Size([1, 1, 1, 256, 256])\n",
            "intermediate_spatial_dim tensor([  1, 512, 512])\n",
            "processed_label torch.Size([1, 256, 256])\n",
            "unsqueeze torch.Size([1, 1, 1, 256, 256])\n",
            "intermediate_spatial_dim tensor([  1, 250, 250])\n",
            "processed_label torch.Size([1, 256, 256])\n",
            "unsqueeze torch.Size([1, 1, 1, 256, 256])\n",
            "intermediate_spatial_dim tensor([  1, 249, 249])\n",
            "processed_label torch.Size([1, 256, 256])\n",
            "unsqueeze torch.Size([1, 1, 1, 256, 256])\n",
            "intermediate_spatial_dim tensor([  1, 512, 512])\n",
            "processed_label torch.Size([1, 256, 256])\n",
            "unsqueeze torch.Size([1, 1, 1, 256, 256])\n",
            "intermediate_spatial_dim tensor([  1, 512, 512])\n",
            "processed_label torch.Size([1, 256, 256])\n",
            "unsqueeze torch.Size([1, 1, 1, 256, 256])\n",
            "intermediate_spatial_dim tensor([  1, 250, 250])\n",
            "processed_label torch.Size([1, 256, 256])\n",
            "unsqueeze torch.Size([1, 1, 1, 256, 256])\n",
            "intermediate_spatial_dim tensor([  1, 249, 249])\n",
            "processed_label torch.Size([1, 256, 256])\n",
            "unsqueeze torch.Size([1, 1, 1, 256, 256])\n"
          ]
        },
        {
          "name": "stderr",
          "output_type": "stream",
          "text": [
            " 32%|███▏      | 73/228 [00:07<00:20,  7.62it/s]"
          ]
        },
        {
          "name": "stdout",
          "output_type": "stream",
          "text": [
            "intermediate_spatial_dim tensor([  1, 512, 512])\n",
            "processed_label torch.Size([1, 256, 256])\n",
            "unsqueeze torch.Size([1, 1, 1, 256, 256])\n",
            "intermediate_spatial_dim tensor([  1, 512, 512])\n",
            "processed_label torch.Size([1, 256, 256])\n",
            "unsqueeze torch.Size([1, 1, 1, 256, 256])\n",
            "intermediate_spatial_dim tensor([  1, 250, 250])\n",
            "processed_label torch.Size([1, 256, 256])\n",
            "unsqueeze torch.Size([1, 1, 1, 256, 256])\n",
            "intermediate_spatial_dim tensor([  1, 249, 249])\n",
            "processed_label torch.Size([1, 256, 256])\n",
            "unsqueeze torch.Size([1, 1, 1, 256, 256])\n",
            "intermediate_spatial_dim tensor([  1, 512, 512])\n",
            "processed_label torch.Size([1, 256, 256])\n",
            "unsqueeze torch.Size([1, 1, 1, 256, 256])\n",
            "intermediate_spatial_dim tensor([  1, 512, 512])\n",
            "processed_label torch.Size([1, 256, 256])\n",
            "unsqueeze torch.Size([1, 1, 1, 256, 256])\n",
            "intermediate_spatial_dim tensor([  1, 250, 250])\n",
            "processed_label torch.Size([1, 256, 256])\n",
            "unsqueeze torch.Size([1, 1, 1, 256, 256])\n",
            "intermediate_spatial_dim tensor([  1, 249, 249])\n",
            "processed_label torch.Size([1, 256, 256])\n",
            "unsqueeze torch.Size([1, 1, 1, 256, 256])\n"
          ]
        },
        {
          "name": "stderr",
          "output_type": "stream",
          "text": [
            " 33%|███▎      | 75/228 [00:08<00:19,  7.78it/s]"
          ]
        },
        {
          "name": "stdout",
          "output_type": "stream",
          "text": [
            "intermediate_spatial_dim tensor([  1, 512, 512])\n",
            "processed_label torch.Size([1, 256, 256])\n",
            "unsqueeze torch.Size([1, 1, 1, 256, 256])\n",
            "intermediate_spatial_dim tensor([  1, 512, 512])\n",
            "processed_label torch.Size([1, 256, 256])\n",
            "unsqueeze torch.Size([1, 1, 1, 256, 256])\n",
            "intermediate_spatial_dim tensor([  1, 250, 250])\n",
            "processed_label torch.Size([1, 256, 256])\n",
            "unsqueeze torch.Size([1, 1, 1, 256, 256])\n",
            "intermediate_spatial_dim tensor([  1, 249, 249])\n",
            "processed_label torch.Size([1, 256, 256])\n",
            "unsqueeze torch.Size([1, 1, 1, 256, 256])\n",
            "intermediate_spatial_dim tensor([  1, 512, 512])\n",
            "processed_label torch.Size([1, 256, 256])\n",
            "unsqueeze torch.Size([1, 1, 1, 256, 256])\n",
            "intermediate_spatial_dim tensor([  1, 512, 512])\n",
            "processed_label torch.Size([1, 256, 256])\n",
            "unsqueeze torch.Size([1, 1, 1, 256, 256])\n",
            "intermediate_spatial_dim tensor([  1, 250, 250])\n",
            "processed_label torch.Size([1, 256, 256])\n",
            "unsqueeze torch.Size([1, 1, 1, 256, 256])\n",
            "intermediate_spatial_dim tensor([  1, 249, 249])\n",
            "processed_label torch.Size([1, 256, 256])\n",
            "unsqueeze torch.Size([1, 1, 1, 256, 256])\n"
          ]
        },
        {
          "name": "stderr",
          "output_type": "stream",
          "text": [
            " 34%|███▍      | 77/228 [00:08<00:19,  7.59it/s]"
          ]
        },
        {
          "name": "stdout",
          "output_type": "stream",
          "text": [
            "intermediate_spatial_dim tensor([  1, 512, 512])\n",
            "processed_label torch.Size([1, 256, 256])\n",
            "unsqueeze torch.Size([1, 1, 1, 256, 256])\n",
            "intermediate_spatial_dim tensor([  1, 512, 512])\n",
            "processed_label torch.Size([1, 256, 256])\n",
            "unsqueeze torch.Size([1, 1, 1, 256, 256])\n",
            "intermediate_spatial_dim tensor([  1, 250, 250])\n",
            "processed_label torch.Size([1, 256, 256])\n",
            "unsqueeze torch.Size([1, 1, 1, 256, 256])\n",
            "intermediate_spatial_dim tensor([  1, 249, 249])\n",
            "processed_label torch.Size([1, 256, 256])\n",
            "unsqueeze torch.Size([1, 1, 1, 256, 256])\n",
            "intermediate_spatial_dim tensor([  1, 512, 512])\n",
            "processed_label torch.Size([1, 256, 256])\n",
            "unsqueeze torch.Size([1, 1, 1, 256, 256])\n",
            "intermediate_spatial_dim tensor([  1, 512, 512])\n",
            "processed_label torch.Size([1, 256, 256])\n",
            "unsqueeze torch.Size([1, 1, 1, 256, 256])\n",
            "intermediate_spatial_dim tensor([  1, 250, 250])\n",
            "processed_label torch.Size([1, 256, 256])\n",
            "unsqueeze torch.Size([1, 1, 1, 256, 256])\n",
            "intermediate_spatial_dim tensor([  1, 249, 249])\n",
            "processed_label torch.Size([1, 256, 256])\n",
            "unsqueeze torch.Size([1, 1, 1, 256, 256])\n"
          ]
        },
        {
          "name": "stderr",
          "output_type": "stream",
          "text": [
            " 35%|███▍      | 79/228 [00:08<00:19,  7.56it/s]"
          ]
        },
        {
          "name": "stdout",
          "output_type": "stream",
          "text": [
            "intermediate_spatial_dim tensor([  1, 512, 512])\n",
            "processed_label torch.Size([1, 256, 256])\n",
            "unsqueeze torch.Size([1, 1, 1, 256, 256])\n",
            "intermediate_spatial_dim tensor([  1, 512, 512])\n",
            "processed_label torch.Size([1, 256, 256])\n",
            "unsqueeze torch.Size([1, 1, 1, 256, 256])\n",
            "intermediate_spatial_dim tensor([  1, 250, 250])\n",
            "processed_label torch.Size([1, 256, 256])\n",
            "unsqueeze torch.Size([1, 1, 1, 256, 256])\n",
            "intermediate_spatial_dim tensor([  1, 249, 249])\n",
            "processed_label torch.Size([1, 256, 256])\n",
            "unsqueeze torch.Size([1, 1, 1, 256, 256])\n",
            "intermediate_spatial_dim tensor([  1, 512, 512])\n",
            "processed_label torch.Size([1, 256, 256])\n",
            "unsqueeze torch.Size([1, 1, 1, 256, 256])\n",
            "intermediate_spatial_dim tensor([  1, 512, 512])\n",
            "processed_label torch.Size([1, 256, 256])\n",
            "unsqueeze torch.Size([1, 1, 1, 256, 256])\n",
            "intermediate_spatial_dim tensor([  1, 250, 250])\n",
            "processed_label torch.Size([1, 256, 256])\n",
            "unsqueeze torch.Size([1, 1, 1, 256, 256])\n",
            "intermediate_spatial_dim tensor([  1, 249, 249])\n",
            "processed_label torch.Size([1, 256, 256])\n",
            "unsqueeze torch.Size([1, 1, 1, 256, 256])\n"
          ]
        },
        {
          "name": "stderr",
          "output_type": "stream",
          "text": [
            " 36%|███▌      | 81/228 [00:08<00:19,  7.59it/s]"
          ]
        },
        {
          "name": "stdout",
          "output_type": "stream",
          "text": [
            "intermediate_spatial_dim tensor([  1, 512, 512])\n",
            "processed_label torch.Size([1, 256, 256])\n",
            "unsqueeze torch.Size([1, 1, 1, 256, 256])\n",
            "intermediate_spatial_dim tensor([  1, 512, 512])\n",
            "processed_label torch.Size([1, 256, 256])\n",
            "unsqueeze torch.Size([1, 1, 1, 256, 256])\n",
            "intermediate_spatial_dim tensor([  1, 250, 250])\n",
            "processed_label torch.Size([1, 256, 256])\n",
            "unsqueeze torch.Size([1, 1, 1, 256, 256])\n",
            "intermediate_spatial_dim tensor([  1, 249, 249])\n",
            "processed_label torch.Size([1, 256, 256])\n",
            "unsqueeze torch.Size([1, 1, 1, 256, 256])\n",
            "intermediate_spatial_dim tensor([  1, 512, 512])\n",
            "processed_label torch.Size([1, 256, 256])\n",
            "unsqueeze torch.Size([1, 1, 1, 256, 256])\n",
            "intermediate_spatial_dim tensor([  1, 512, 512])\n",
            "processed_label torch.Size([1, 256, 256])\n",
            "unsqueeze torch.Size([1, 1, 1, 256, 256])\n",
            "intermediate_spatial_dim tensor([  1, 250, 250])\n",
            "processed_label torch.Size([1, 256, 256])\n",
            "unsqueeze torch.Size([1, 1, 1, 256, 256])\n",
            "intermediate_spatial_dim tensor([  1, 249, 249])\n",
            "processed_label torch.Size([1, 256, 256])\n",
            "unsqueeze torch.Size([1, 1, 1, 256, 256])\n"
          ]
        },
        {
          "name": "stderr",
          "output_type": "stream",
          "text": [
            " 36%|███▋      | 83/228 [00:09<00:18,  7.82it/s]"
          ]
        },
        {
          "name": "stdout",
          "output_type": "stream",
          "text": [
            "intermediate_spatial_dim tensor([  1, 512, 512])\n",
            "processed_label torch.Size([1, 256, 256])\n",
            "unsqueeze torch.Size([1, 1, 1, 256, 256])\n",
            "intermediate_spatial_dim tensor([  1, 512, 512])\n",
            "processed_label torch.Size([1, 256, 256])\n",
            "unsqueeze torch.Size([1, 1, 1, 256, 256])\n",
            "intermediate_spatial_dim tensor([  1, 250, 250])\n",
            "processed_label torch.Size([1, 256, 256])\n",
            "unsqueeze torch.Size([1, 1, 1, 256, 256])\n",
            "intermediate_spatial_dim tensor([  1, 249, 249])\n",
            "processed_label torch.Size([1, 256, 256])\n",
            "unsqueeze torch.Size([1, 1, 1, 256, 256])\n",
            "intermediate_spatial_dim tensor([  1, 512, 512])\n",
            "processed_label torch.Size([1, 256, 256])\n",
            "unsqueeze torch.Size([1, 1, 1, 256, 256])\n",
            "intermediate_spatial_dim tensor([  1, 512, 512])\n",
            "processed_label torch.Size([1, 256, 256])\n",
            "unsqueeze torch.Size([1, 1, 1, 256, 256])\n",
            "intermediate_spatial_dim tensor([  1, 250, 250])\n",
            "processed_label torch.Size([1, 256, 256])\n",
            "unsqueeze torch.Size([1, 1, 1, 256, 256])\n",
            "intermediate_spatial_dim tensor([  1, 249, 249])\n",
            "processed_label torch.Size([1, 256, 256])\n",
            "unsqueeze torch.Size([1, 1, 1, 256, 256])\n"
          ]
        },
        {
          "name": "stderr",
          "output_type": "stream",
          "text": [
            " 37%|███▋      | 85/228 [00:09<00:18,  7.91it/s]"
          ]
        },
        {
          "name": "stdout",
          "output_type": "stream",
          "text": [
            "intermediate_spatial_dim tensor([  1, 512, 512])\n",
            "processed_label torch.Size([1, 256, 256])\n",
            "unsqueeze torch.Size([1, 1, 1, 256, 256])\n",
            "intermediate_spatial_dim tensor([  1, 512, 512])\n",
            "processed_label torch.Size([1, 256, 256])\n",
            "unsqueeze torch.Size([1, 1, 1, 256, 256])\n",
            "intermediate_spatial_dim tensor([  1, 250, 250])\n",
            "processed_label torch.Size([1, 256, 256])\n",
            "unsqueeze torch.Size([1, 1, 1, 256, 256])\n",
            "intermediate_spatial_dim tensor([  1, 249, 249])\n",
            "processed_label torch.Size([1, 256, 256])\n",
            "unsqueeze torch.Size([1, 1, 1, 256, 256])\n",
            "intermediate_spatial_dim tensor([  1, 512, 512])\n",
            "processed_label torch.Size([1, 256, 256])\n",
            "unsqueeze torch.Size([1, 1, 1, 256, 256])\n",
            "intermediate_spatial_dim tensor([  1, 512, 512])\n",
            "processed_label torch.Size([1, 256, 256])\n",
            "unsqueeze torch.Size([1, 1, 1, 256, 256])\n",
            "intermediate_spatial_dim tensor([  1, 250, 250])\n",
            "processed_label torch.Size([1, 256, 256])\n",
            "unsqueeze torch.Size([1, 1, 1, 256, 256])\n",
            "intermediate_spatial_dim tensor([  1, 249, 249])\n",
            "processed_label torch.Size([1, 256, 256])\n",
            "unsqueeze torch.Size([1, 1, 1, 256, 256])\n"
          ]
        },
        {
          "name": "stderr",
          "output_type": "stream",
          "text": [
            " 38%|███▊      | 87/228 [00:09<00:17,  8.03it/s]"
          ]
        },
        {
          "name": "stdout",
          "output_type": "stream",
          "text": [
            "intermediate_spatial_dim tensor([  1, 512, 512])\n",
            "processed_label torch.Size([1, 256, 256])\n",
            "unsqueeze torch.Size([1, 1, 1, 256, 256])\n",
            "intermediate_spatial_dim tensor([  1, 512, 512])\n",
            "processed_label torch.Size([1, 256, 256])\n",
            "unsqueeze torch.Size([1, 1, 1, 256, 256])\n",
            "intermediate_spatial_dim tensor([  1, 250, 250])\n",
            "processed_label torch.Size([1, 256, 256])\n",
            "unsqueeze torch.Size([1, 1, 1, 256, 256])\n",
            "intermediate_spatial_dim tensor([  1, 249, 249])\n",
            "processed_label torch.Size([1, 256, 256])\n",
            "unsqueeze torch.Size([1, 1, 1, 256, 256])\n",
            "intermediate_spatial_dim tensor([  1, 512, 512])\n",
            "processed_label torch.Size([1, 256, 256])\n",
            "unsqueeze torch.Size([1, 1, 1, 256, 256])\n",
            "intermediate_spatial_dim tensor([  1, 512, 512])\n",
            "processed_label torch.Size([1, 256, 256])\n",
            "unsqueeze torch.Size([1, 1, 1, 256, 256])\n",
            "intermediate_spatial_dim tensor([  1, 250, 250])\n",
            "processed_label torch.Size([1, 256, 256])\n",
            "unsqueeze torch.Size([1, 1, 1, 256, 256])\n",
            "intermediate_spatial_dim tensor([  1, 249, 249])\n",
            "processed_label torch.Size([1, 256, 256])\n",
            "unsqueeze torch.Size([1, 1, 1, 256, 256])\n"
          ]
        },
        {
          "name": "stderr",
          "output_type": "stream",
          "text": [
            " 39%|███▉      | 89/228 [00:09<00:20,  6.88it/s]"
          ]
        },
        {
          "name": "stdout",
          "output_type": "stream",
          "text": [
            "intermediate_spatial_dim tensor([  1, 512, 512])\n",
            "processed_label torch.Size([1, 256, 256])\n",
            "unsqueeze torch.Size([1, 1, 1, 256, 256])\n",
            "intermediate_spatial_dim tensor([  1, 512, 512])\n",
            "processed_label torch.Size([1, 256, 256])\n",
            "unsqueeze torch.Size([1, 1, 1, 256, 256])\n",
            "intermediate_spatial_dim tensor([  1, 250, 250])\n",
            "processed_label torch.Size([1, 256, 256])\n",
            "unsqueeze torch.Size([1, 1, 1, 256, 256])\n",
            "intermediate_spatial_dim tensor([  1, 249, 249])\n",
            "processed_label torch.Size([1, 256, 256])\n",
            "unsqueeze torch.Size([1, 1, 1, 256, 256])\n",
            "intermediate_spatial_dim tensor([  1, 512, 512])\n",
            "processed_label torch.Size([1, 256, 256])\n",
            "unsqueeze torch.Size([1, 1, 1, 256, 256])\n",
            "intermediate_spatial_dim tensor([  1, 512, 512])\n",
            "processed_label torch.Size([1, 256, 256])\n",
            "unsqueeze torch.Size([1, 1, 1, 256, 256])\n",
            "intermediate_spatial_dim tensor([  1, 250, 250])\n",
            "processed_label torch.Size([1, 256, 256])\n",
            "unsqueeze torch.Size([1, 1, 1, 256, 256])\n"
          ]
        },
        {
          "name": "stderr",
          "output_type": "stream",
          "text": [
            " 39%|███▉      | 90/228 [00:10<00:20,  6.85it/s]"
          ]
        },
        {
          "name": "stdout",
          "output_type": "stream",
          "text": [
            "intermediate_spatial_dim tensor([  1, 249, 249])\n",
            "processed_label torch.Size([1, 256, 256])\n",
            "unsqueeze torch.Size([1, 1, 1, 256, 256])\n",
            "intermediate_spatial_dim tensor([  1, 512, 512])\n",
            "processed_label torch.Size([1, 256, 256])\n",
            "unsqueeze torch.Size([1, 1, 1, 256, 256])\n",
            "intermediate_spatial_dim tensor([  1, 512, 512])\n",
            "processed_label torch.Size([1, 256, 256])\n",
            "unsqueeze torch.Size([1, 1, 1, 256, 256])\n",
            "intermediate_spatial_dim tensor([  1, 250, 250])\n",
            "processed_label torch.Size([1, 256, 256])\n",
            "unsqueeze torch.Size([1, 1, 1, 256, 256])\n",
            "intermediate_spatial_dim tensor([  1, 249, 249])\n",
            "processed_label torch.Size([1, 256, 256])\n",
            "unsqueeze torch.Size([1, 1, 1, 256, 256])\n"
          ]
        },
        {
          "name": "stderr",
          "output_type": "stream",
          "text": [
            " 40%|████      | 92/228 [00:10<00:19,  6.91it/s]"
          ]
        },
        {
          "name": "stdout",
          "output_type": "stream",
          "text": [
            "intermediate_spatial_dim tensor([  1, 512, 512])\n",
            "processed_label torch.Size([1, 256, 256])\n",
            "unsqueeze torch.Size([1, 1, 1, 256, 256])\n",
            "intermediate_spatial_dim tensor([  1, 512, 512])\n",
            "processed_label torch.Size([1, 256, 256])\n",
            "unsqueeze torch.Size([1, 1, 1, 256, 256])\n",
            "intermediate_spatial_dim tensor([  1, 250, 250])\n",
            "processed_label torch.Size([1, 256, 256])\n",
            "unsqueeze torch.Size([1, 1, 1, 256, 256])\n",
            "intermediate_spatial_dim tensor([  1, 249, 249])\n",
            "processed_label torch.Size([1, 256, 256])\n",
            "unsqueeze torch.Size([1, 1, 1, 256, 256])\n",
            "intermediate_spatial_dim tensor([  1, 512, 512])\n",
            "processed_label torch.Size([1, 256, 256])\n",
            "unsqueeze torch.Size([1, 1, 1, 256, 256])\n",
            "intermediate_spatial_dim tensor([  1, 512, 512])\n",
            "processed_label torch.Size([1, 256, 256])\n",
            "unsqueeze torch.Size([1, 1, 1, 256, 256])\n",
            "intermediate_spatial_dim tensor([  1, 250, 250])\n",
            "processed_label torch.Size([1, 256, 256])\n",
            "unsqueeze torch.Size([1, 1, 1, 256, 256])\n"
          ]
        },
        {
          "name": "stderr",
          "output_type": "stream",
          "text": [
            " 41%|████      | 93/228 [00:10<00:19,  6.79it/s]"
          ]
        },
        {
          "name": "stdout",
          "output_type": "stream",
          "text": [
            "intermediate_spatial_dim tensor([  1, 249, 249])\n",
            "processed_label torch.Size([1, 256, 256])\n",
            "unsqueeze torch.Size([1, 1, 1, 256, 256])\n",
            "intermediate_spatial_dim tensor([  1, 512, 512])\n",
            "processed_label torch.Size([1, 256, 256])\n",
            "unsqueeze torch.Size([1, 1, 1, 256, 256])\n",
            "intermediate_spatial_dim tensor([  1, 512, 512])\n",
            "processed_label torch.Size([1, 256, 256])\n",
            "unsqueeze torch.Size([1, 1, 1, 256, 256])\n",
            "intermediate_spatial_dim tensor([  1, 250, 250])\n",
            "processed_label torch.Size([1, 256, 256])\n",
            "unsqueeze torch.Size([1, 1, 1, 256, 256])\n",
            "intermediate_spatial_dim tensor([  1, 249, 249])\n",
            "processed_label torch.Size([1, 256, 256])\n",
            "unsqueeze torch.Size([1, 1, 1, 256, 256])\n"
          ]
        },
        {
          "name": "stderr",
          "output_type": "stream",
          "text": [
            " 42%|████▏     | 95/228 [00:10<00:19,  6.87it/s]"
          ]
        },
        {
          "name": "stdout",
          "output_type": "stream",
          "text": [
            "intermediate_spatial_dim tensor([  1, 512, 512])\n",
            "processed_label torch.Size([1, 256, 256])\n",
            "unsqueeze torch.Size([1, 1, 1, 256, 256])\n",
            "intermediate_spatial_dim tensor([  1, 512, 512])\n",
            "processed_label torch.Size([1, 256, 256])\n",
            "unsqueeze torch.Size([1, 1, 1, 256, 256])\n",
            "intermediate_spatial_dim tensor([  1, 250, 250])\n",
            "processed_label torch.Size([1, 256, 256])\n",
            "unsqueeze torch.Size([1, 1, 1, 256, 256])\n",
            "intermediate_spatial_dim tensor([  1, 249, 249])\n",
            "processed_label torch.Size([1, 256, 256])\n",
            "unsqueeze torch.Size([1, 1, 1, 256, 256])\n",
            "intermediate_spatial_dim tensor([  1, 512, 512])\n",
            "processed_label torch.Size([1, 256, 256])\n",
            "unsqueeze torch.Size([1, 1, 1, 256, 256])\n",
            "intermediate_spatial_dim tensor([  1, 512, 512])\n",
            "processed_label torch.Size([1, 256, 256])\n",
            "unsqueeze torch.Size([1, 1, 1, 256, 256])\n",
            "intermediate_spatial_dim tensor([  1, 250, 250])\n",
            "processed_label torch.Size([1, 256, 256])\n",
            "unsqueeze torch.Size([1, 1, 1, 256, 256])\n",
            "intermediate_spatial_dim tensor([  1, 249, 249])\n",
            "processed_label torch.Size([1, 256, 256])\n",
            "unsqueeze torch.Size([1, 1, 1, 256, 256])\n"
          ]
        },
        {
          "name": "stderr",
          "output_type": "stream",
          "text": [
            " 43%|████▎     | 97/228 [00:11<00:18,  7.23it/s]"
          ]
        },
        {
          "name": "stdout",
          "output_type": "stream",
          "text": [
            "intermediate_spatial_dim tensor([  1, 512, 512])\n",
            "processed_label torch.Size([1, 256, 256])\n",
            "unsqueeze torch.Size([1, 1, 1, 256, 256])\n",
            "intermediate_spatial_dim tensor([  1, 512, 512])\n",
            "processed_label torch.Size([1, 256, 256])\n",
            "unsqueeze torch.Size([1, 1, 1, 256, 256])\n",
            "intermediate_spatial_dim tensor([  1, 250, 250])\n",
            "processed_label torch.Size([1, 256, 256])\n",
            "unsqueeze torch.Size([1, 1, 1, 256, 256])\n",
            "intermediate_spatial_dim tensor([  1, 249, 249])\n",
            "processed_label torch.Size([1, 256, 256])\n",
            "unsqueeze torch.Size([1, 1, 1, 256, 256])\n",
            "intermediate_spatial_dim tensor([  1, 512, 512])\n",
            "processed_label torch.Size([1, 256, 256])\n",
            "unsqueeze torch.Size([1, 1, 1, 256, 256])\n",
            "intermediate_spatial_dim tensor([  1, 512, 512])\n",
            "processed_label torch.Size([1, 256, 256])\n",
            "unsqueeze torch.Size([1, 1, 1, 256, 256])\n",
            "intermediate_spatial_dim tensor([  1, 250, 250])\n",
            "processed_label torch.Size([1, 256, 256])\n",
            "unsqueeze torch.Size([1, 1, 1, 256, 256])\n",
            "intermediate_spatial_dim tensor([  1, 249, 249])\n",
            "processed_label torch.Size([1, 256, 256])\n",
            "unsqueeze torch.Size([1, 1, 1, 256, 256])\n"
          ]
        },
        {
          "name": "stderr",
          "output_type": "stream",
          "text": [
            " 43%|████▎     | 99/228 [00:11<00:18,  7.00it/s]"
          ]
        },
        {
          "name": "stdout",
          "output_type": "stream",
          "text": [
            "intermediate_spatial_dim tensor([  1, 512, 512])\n",
            "processed_label torch.Size([1, 256, 256])\n",
            "unsqueeze torch.Size([1, 1, 1, 256, 256])\n",
            "intermediate_spatial_dim tensor([  1, 512, 512])\n",
            "processed_label torch.Size([1, 256, 256])\n",
            "unsqueeze torch.Size([1, 1, 1, 256, 256])\n",
            "intermediate_spatial_dim tensor([  1, 250, 250])\n",
            "processed_label torch.Size([1, 256, 256])\n",
            "unsqueeze torch.Size([1, 1, 1, 256, 256])\n",
            "intermediate_spatial_dim tensor([  1, 249, 249])\n",
            "processed_label torch.Size([1, 256, 256])\n",
            "unsqueeze torch.Size([1, 1, 1, 256, 256])\n",
            "intermediate_spatial_dim tensor([  1, 512, 512])\n",
            "processed_label torch.Size([1, 256, 256])\n",
            "unsqueeze torch.Size([1, 1, 1, 256, 256])\n",
            "intermediate_spatial_dim tensor([  1, 512, 512])\n",
            "processed_label torch.Size([1, 256, 256])\n",
            "unsqueeze torch.Size([1, 1, 1, 256, 256])\n",
            "intermediate_spatial_dim tensor([  1, 250, 250])\n",
            "processed_label torch.Size([1, 256, 256])\n",
            "unsqueeze torch.Size([1, 1, 1, 256, 256])\n"
          ]
        },
        {
          "name": "stderr",
          "output_type": "stream",
          "text": [
            " 44%|████▍     | 100/228 [00:11<00:18,  7.05it/s]"
          ]
        },
        {
          "name": "stdout",
          "output_type": "stream",
          "text": [
            "intermediate_spatial_dim tensor([  1, 249, 249])\n",
            "processed_label torch.Size([1, 256, 256])\n",
            "unsqueeze torch.Size([1, 1, 1, 256, 256])\n",
            "intermediate_spatial_dim tensor([  1, 512, 512])\n",
            "processed_label torch.Size([1, 256, 256])\n",
            "unsqueeze torch.Size([1, 1, 1, 256, 256])\n",
            "intermediate_spatial_dim tensor([  1, 512, 512])\n",
            "processed_label torch.Size([1, 256, 256])\n",
            "unsqueeze torch.Size([1, 1, 1, 256, 256])\n",
            "intermediate_spatial_dim tensor([  1, 250, 250])\n",
            "processed_label torch.Size([1, 256, 256])\n",
            "unsqueeze torch.Size([1, 1, 1, 256, 256])\n",
            "intermediate_spatial_dim tensor([  1, 249, 249])\n",
            "processed_label torch.Size([1, 256, 256])\n",
            "unsqueeze torch.Size([1, 1, 1, 256, 256])\n"
          ]
        },
        {
          "name": "stderr",
          "output_type": "stream",
          "text": [
            " 45%|████▍     | 102/228 [00:11<00:17,  7.22it/s]"
          ]
        },
        {
          "name": "stdout",
          "output_type": "stream",
          "text": [
            "intermediate_spatial_dim tensor([  1, 512, 512])\n",
            "processed_label torch.Size([1, 256, 256])\n",
            "unsqueeze torch.Size([1, 1, 1, 256, 256])\n",
            "intermediate_spatial_dim tensor([  1, 512, 512])\n",
            "processed_label torch.Size([1, 256, 256])\n",
            "unsqueeze torch.Size([1, 1, 1, 256, 256])\n",
            "intermediate_spatial_dim tensor([  1, 250, 250])\n",
            "processed_label torch.Size([1, 256, 256])\n",
            "unsqueeze torch.Size([1, 1, 1, 256, 256])\n",
            "intermediate_spatial_dim tensor([  1, 249, 249])\n",
            "processed_label torch.Size([1, 256, 256])\n",
            "unsqueeze torch.Size([1, 1, 1, 256, 256])\n",
            "intermediate_spatial_dim tensor([  1, 512, 512])\n",
            "processed_label torch.Size([1, 256, 256])\n",
            "unsqueeze torch.Size([1, 1, 1, 256, 256])\n",
            "intermediate_spatial_dim tensor([  1, 512, 512])\n",
            "processed_label torch.Size([1, 256, 256])\n",
            "unsqueeze torch.Size([1, 1, 1, 256, 256])\n",
            "intermediate_spatial_dim tensor([  1, 250, 250])\n",
            "processed_label torch.Size([1, 256, 256])\n",
            "unsqueeze torch.Size([1, 1, 1, 256, 256])\n",
            "intermediate_spatial_dim tensor([  1, 249, 249])\n",
            "processed_label torch.Size([1, 256, 256])\n",
            "unsqueeze torch.Size([1, 1, 1, 256, 256])\n"
          ]
        },
        {
          "name": "stderr",
          "output_type": "stream",
          "text": [
            " 46%|████▌     | 104/228 [00:12<00:17,  7.23it/s]"
          ]
        },
        {
          "name": "stdout",
          "output_type": "stream",
          "text": [
            "intermediate_spatial_dim tensor([  1, 512, 512])\n",
            "processed_label torch.Size([1, 256, 256])\n",
            "unsqueeze torch.Size([1, 1, 1, 256, 256])\n",
            "intermediate_spatial_dim tensor([  1, 512, 512])\n",
            "processed_label torch.Size([1, 256, 256])\n",
            "unsqueeze torch.Size([1, 1, 1, 256, 256])\n",
            "intermediate_spatial_dim tensor([  1, 250, 250])\n",
            "processed_label torch.Size([1, 256, 256])\n",
            "unsqueeze torch.Size([1, 1, 1, 256, 256])\n",
            "intermediate_spatial_dim tensor([  1, 249, 249])\n",
            "processed_label torch.Size([1, 256, 256])\n",
            "unsqueeze torch.Size([1, 1, 1, 256, 256])\n",
            "intermediate_spatial_dim tensor([  1, 512, 512])\n",
            "processed_label torch.Size([1, 256, 256])\n",
            "unsqueeze torch.Size([1, 1, 1, 256, 256])\n",
            "intermediate_spatial_dim tensor([  1, 512, 512])\n",
            "processed_label torch.Size([1, 256, 256])\n",
            "unsqueeze torch.Size([1, 1, 1, 256, 256])\n",
            "intermediate_spatial_dim tensor([  1, 250, 250])\n",
            "processed_label torch.Size([1, 256, 256])\n",
            "unsqueeze torch.Size([1, 1, 1, 256, 256])\n"
          ]
        },
        {
          "name": "stderr",
          "output_type": "stream",
          "text": [
            " 46%|████▌     | 105/228 [00:12<00:17,  7.12it/s]"
          ]
        },
        {
          "name": "stdout",
          "output_type": "stream",
          "text": [
            "intermediate_spatial_dim tensor([  1, 249, 249])\n",
            "processed_label torch.Size([1, 256, 256])\n",
            "unsqueeze torch.Size([1, 1, 1, 256, 256])\n",
            "intermediate_spatial_dim tensor([  1, 512, 512])\n",
            "processed_label torch.Size([1, 256, 256])\n",
            "unsqueeze torch.Size([1, 1, 1, 256, 256])\n",
            "intermediate_spatial_dim tensor([  1, 512, 512])\n",
            "processed_label torch.Size([1, 256, 256])\n",
            "unsqueeze torch.Size([1, 1, 1, 256, 256])\n",
            "intermediate_spatial_dim tensor([  1, 250, 250])\n",
            "processed_label torch.Size([1, 256, 256])\n",
            "unsqueeze torch.Size([1, 1, 1, 256, 256])\n",
            "intermediate_spatial_dim tensor([  1, 249, 249])\n",
            "processed_label torch.Size([1, 256, 256])\n",
            "unsqueeze torch.Size([1, 1, 1, 256, 256])\n"
          ]
        },
        {
          "name": "stderr",
          "output_type": "stream",
          "text": [
            " 47%|████▋     | 107/228 [00:12<00:16,  7.23it/s]"
          ]
        },
        {
          "name": "stdout",
          "output_type": "stream",
          "text": [
            "intermediate_spatial_dim tensor([  1, 512, 512])\n",
            "processed_label torch.Size([1, 256, 256])\n",
            "unsqueeze torch.Size([1, 1, 1, 256, 256])\n",
            "intermediate_spatial_dim tensor([  1, 512, 512])\n",
            "processed_label torch.Size([1, 256, 256])\n",
            "unsqueeze torch.Size([1, 1, 1, 256, 256])\n",
            "intermediate_spatial_dim tensor([  1, 250, 250])\n",
            "processed_label torch.Size([1, 256, 256])\n",
            "unsqueeze torch.Size([1, 1, 1, 256, 256])\n",
            "intermediate_spatial_dim tensor([  1, 249, 249])\n",
            "processed_label torch.Size([1, 256, 256])\n",
            "unsqueeze torch.Size([1, 1, 1, 256, 256])\n",
            "intermediate_spatial_dim tensor([  1, 512, 512])\n",
            "processed_label torch.Size([1, 256, 256])\n",
            "unsqueeze torch.Size([1, 1, 1, 256, 256])\n",
            "intermediate_spatial_dim tensor([  1, 512, 512])\n",
            "processed_label torch.Size([1, 256, 256])\n",
            "unsqueeze torch.Size([1, 1, 1, 256, 256])\n",
            "intermediate_spatial_dim tensor([  1, 250, 250])\n",
            "processed_label torch.Size([1, 256, 256])\n",
            "unsqueeze torch.Size([1, 1, 1, 256, 256])\n",
            "intermediate_spatial_dim tensor([  1, 249, 249])\n",
            "processed_label torch.Size([1, 256, 256])\n",
            "unsqueeze torch.Size([1, 1, 1, 256, 256])\n"
          ]
        },
        {
          "name": "stderr",
          "output_type": "stream",
          "text": [
            " 48%|████▊     | 109/228 [00:12<00:15,  7.52it/s]"
          ]
        },
        {
          "name": "stdout",
          "output_type": "stream",
          "text": [
            "intermediate_spatial_dim tensor([  1, 512, 512])\n",
            "processed_label torch.Size([1, 256, 256])\n",
            "unsqueeze torch.Size([1, 1, 1, 256, 256])\n",
            "intermediate_spatial_dim tensor([  1, 512, 512])\n",
            "processed_label torch.Size([1, 256, 256])\n",
            "unsqueeze torch.Size([1, 1, 1, 256, 256])\n",
            "intermediate_spatial_dim tensor([  1, 250, 250])\n",
            "processed_label torch.Size([1, 256, 256])\n",
            "unsqueeze torch.Size([1, 1, 1, 256, 256])\n",
            "intermediate_spatial_dim tensor([  1, 249, 249])\n",
            "processed_label torch.Size([1, 256, 256])\n",
            "unsqueeze torch.Size([1, 1, 1, 256, 256])\n",
            "intermediate_spatial_dim tensor([  1, 512, 512])\n",
            "processed_label torch.Size([1, 256, 256])\n",
            "unsqueeze torch.Size([1, 1, 1, 256, 256])\n",
            "intermediate_spatial_dim tensor([  1, 512, 512])\n",
            "processed_label torch.Size([1, 256, 256])\n",
            "unsqueeze torch.Size([1, 1, 1, 256, 256])\n",
            "intermediate_spatial_dim tensor([  1, 250, 250])\n",
            "processed_label torch.Size([1, 256, 256])\n",
            "unsqueeze torch.Size([1, 1, 1, 256, 256])\n",
            "intermediate_spatial_dim tensor([  1, 249, 249])\n",
            "processed_label torch.Size([1, 256, 256])\n",
            "unsqueeze torch.Size([1, 1, 1, 256, 256])\n"
          ]
        },
        {
          "name": "stderr",
          "output_type": "stream",
          "text": [
            " 49%|████▊     | 111/228 [00:12<00:15,  7.64it/s]"
          ]
        },
        {
          "name": "stdout",
          "output_type": "stream",
          "text": [
            "intermediate_spatial_dim tensor([  1, 512, 512])\n",
            "processed_label torch.Size([1, 256, 256])\n",
            "unsqueeze torch.Size([1, 1, 1, 256, 256])\n",
            "intermediate_spatial_dim tensor([  1, 512, 512])\n",
            "processed_label torch.Size([1, 256, 256])\n",
            "unsqueeze torch.Size([1, 1, 1, 256, 256])\n",
            "intermediate_spatial_dim tensor([  1, 250, 250])\n",
            "processed_label torch.Size([1, 256, 256])\n",
            "unsqueeze torch.Size([1, 1, 1, 256, 256])\n",
            "intermediate_spatial_dim tensor([  1, 249, 249])\n",
            "processed_label torch.Size([1, 256, 256])\n",
            "unsqueeze torch.Size([1, 1, 1, 256, 256])\n",
            "intermediate_spatial_dim tensor([  1, 512, 512])\n",
            "processed_label torch.Size([1, 256, 256])\n",
            "unsqueeze torch.Size([1, 1, 1, 256, 256])\n",
            "intermediate_spatial_dim tensor([  1, 512, 512])\n",
            "processed_label torch.Size([1, 256, 256])\n",
            "unsqueeze torch.Size([1, 1, 1, 256, 256])\n",
            "intermediate_spatial_dim tensor([  1, 250, 250])\n",
            "processed_label torch.Size([1, 256, 256])\n",
            "unsqueeze torch.Size([1, 1, 1, 256, 256])\n",
            "intermediate_spatial_dim tensor([  1, 249, 249])\n",
            "processed_label torch.Size([1, 256, 256])\n",
            "unsqueeze torch.Size([1, 1, 1, 256, 256])\n"
          ]
        },
        {
          "name": "stderr",
          "output_type": "stream",
          "text": [
            " 50%|████▉     | 113/228 [00:13<00:14,  7.72it/s]"
          ]
        },
        {
          "name": "stdout",
          "output_type": "stream",
          "text": [
            "intermediate_spatial_dim tensor([  1, 512, 512])\n",
            "processed_label torch.Size([1, 256, 256])\n",
            "unsqueeze torch.Size([1, 1, 1, 256, 256])\n",
            "intermediate_spatial_dim tensor([  1, 512, 512])\n",
            "processed_label torch.Size([1, 256, 256])\n",
            "unsqueeze torch.Size([1, 1, 1, 256, 256])\n",
            "intermediate_spatial_dim tensor([  1, 250, 250])\n",
            "processed_label torch.Size([1, 256, 256])\n",
            "unsqueeze torch.Size([1, 1, 1, 256, 256])\n",
            "intermediate_spatial_dim tensor([  1, 249, 249])\n",
            "processed_label torch.Size([1, 256, 256])\n",
            "unsqueeze torch.Size([1, 1, 1, 256, 256])\n",
            "intermediate_spatial_dim tensor([  1, 512, 512])\n",
            "processed_label torch.Size([1, 256, 256])\n",
            "unsqueeze torch.Size([1, 1, 1, 256, 256])\n",
            "intermediate_spatial_dim tensor([  1, 512, 512])\n",
            "processed_label torch.Size([1, 256, 256])\n",
            "unsqueeze torch.Size([1, 1, 1, 256, 256])\n",
            "intermediate_spatial_dim tensor([  1, 250, 250])\n",
            "processed_label torch.Size([1, 256, 256])\n",
            "unsqueeze torch.Size([1, 1, 1, 256, 256])\n",
            "intermediate_spatial_dim tensor([  1, 249, 249])\n",
            "processed_label torch.Size([1, 256, 256])\n",
            "unsqueeze torch.Size([1, 1, 1, 256, 256])\n"
          ]
        },
        {
          "name": "stderr",
          "output_type": "stream",
          "text": [
            " 50%|█████     | 115/228 [00:13<00:14,  7.70it/s]"
          ]
        },
        {
          "name": "stdout",
          "output_type": "stream",
          "text": [
            "intermediate_spatial_dim tensor([  1, 512, 512])\n",
            "processed_label torch.Size([1, 256, 256])\n",
            "unsqueeze torch.Size([1, 1, 1, 256, 256])\n",
            "intermediate_spatial_dim tensor([  1, 512, 512])\n",
            "processed_label torch.Size([1, 256, 256])\n",
            "unsqueeze torch.Size([1, 1, 1, 256, 256])\n",
            "intermediate_spatial_dim tensor([  1, 250, 250])\n",
            "processed_label torch.Size([1, 256, 256])\n",
            "unsqueeze torch.Size([1, 1, 1, 256, 256])\n",
            "intermediate_spatial_dim tensor([  1, 249, 249])\n",
            "processed_label torch.Size([1, 256, 256])\n",
            "unsqueeze torch.Size([1, 1, 1, 256, 256])\n",
            "intermediate_spatial_dim tensor([  1, 512, 512])\n",
            "processed_label torch.Size([1, 256, 256])\n",
            "unsqueeze torch.Size([1, 1, 1, 256, 256])\n",
            "intermediate_spatial_dim tensor([  1, 512, 512])\n",
            "processed_label torch.Size([1, 256, 256])\n",
            "unsqueeze torch.Size([1, 1, 1, 256, 256])\n",
            "intermediate_spatial_dim tensor([  1, 250, 250])\n",
            "processed_label torch.Size([1, 256, 256])\n",
            "unsqueeze torch.Size([1, 1, 1, 256, 256])\n",
            "intermediate_spatial_dim tensor([  1, 249, 249])\n",
            "processed_label torch.Size([1, 256, 256])\n",
            "unsqueeze torch.Size([1, 1, 1, 256, 256])\n"
          ]
        },
        {
          "name": "stderr",
          "output_type": "stream",
          "text": [
            " 51%|█████▏    | 117/228 [00:13<00:15,  7.37it/s]"
          ]
        },
        {
          "name": "stdout",
          "output_type": "stream",
          "text": [
            "intermediate_spatial_dim tensor([  1, 512, 512])\n",
            "processed_label torch.Size([1, 256, 256])\n",
            "unsqueeze torch.Size([1, 1, 1, 256, 256])\n",
            "intermediate_spatial_dim tensor([  1, 512, 512])\n",
            "processed_label torch.Size([1, 256, 256])\n",
            "unsqueeze torch.Size([1, 1, 1, 256, 256])\n",
            "intermediate_spatial_dim tensor([  1, 250, 250])\n",
            "processed_label torch.Size([1, 256, 256])\n",
            "unsqueeze torch.Size([1, 1, 1, 256, 256])\n",
            "intermediate_spatial_dim tensor([  1, 249, 249])\n",
            "processed_label torch.Size([1, 256, 256])\n",
            "unsqueeze torch.Size([1, 1, 1, 256, 256])\n",
            "intermediate_spatial_dim tensor([  1, 512, 512])\n",
            "processed_label torch.Size([1, 256, 256])\n",
            "unsqueeze torch.Size([1, 1, 1, 256, 256])\n",
            "intermediate_spatial_dim tensor([  1, 512, 512])\n",
            "processed_label torch.Size([1, 256, 256])\n",
            "unsqueeze torch.Size([1, 1, 1, 256, 256])\n",
            "intermediate_spatial_dim tensor([  1, 250, 250])\n",
            "processed_label torch.Size([1, 256, 256])\n",
            "unsqueeze torch.Size([1, 1, 1, 256, 256])\n",
            "intermediate_spatial_dim tensor([  1, 249, 249])\n",
            "processed_label torch.Size([1, 256, 256])\n",
            "unsqueeze torch.Size([1, 1, 1, 256, 256])\n"
          ]
        },
        {
          "name": "stderr",
          "output_type": "stream",
          "text": [
            " 52%|█████▏    | 119/228 [00:14<00:14,  7.54it/s]"
          ]
        },
        {
          "name": "stdout",
          "output_type": "stream",
          "text": [
            "intermediate_spatial_dim tensor([  1, 512, 512])\n",
            "processed_label torch.Size([1, 256, 256])\n",
            "unsqueeze torch.Size([1, 1, 1, 256, 256])\n",
            "intermediate_spatial_dim tensor([  1, 512, 512])\n",
            "processed_label torch.Size([1, 256, 256])\n",
            "unsqueeze torch.Size([1, 1, 1, 256, 256])\n",
            "intermediate_spatial_dim tensor([  1, 250, 250])\n",
            "processed_label torch.Size([1, 256, 256])\n",
            "unsqueeze torch.Size([1, 1, 1, 256, 256])\n",
            "intermediate_spatial_dim tensor([  1, 249, 249])\n",
            "processed_label torch.Size([1, 256, 256])\n",
            "unsqueeze torch.Size([1, 1, 1, 256, 256])\n",
            "intermediate_spatial_dim tensor([  1, 512, 512])\n",
            "processed_label torch.Size([1, 256, 256])\n",
            "unsqueeze torch.Size([1, 1, 1, 256, 256])\n",
            "intermediate_spatial_dim tensor([  1, 512, 512])\n",
            "processed_label torch.Size([1, 256, 256])\n",
            "unsqueeze torch.Size([1, 1, 1, 256, 256])\n",
            "intermediate_spatial_dim tensor([  1, 250, 250])\n",
            "processed_label torch.Size([1, 256, 256])\n",
            "unsqueeze torch.Size([1, 1, 1, 256, 256])\n",
            "intermediate_spatial_dim tensor([  1, 249, 249])\n",
            "processed_label torch.Size([1, 256, 256])\n",
            "unsqueeze torch.Size([1, 1, 1, 256, 256])\n"
          ]
        },
        {
          "name": "stderr",
          "output_type": "stream",
          "text": [
            " 53%|█████▎    | 121/228 [00:14<00:13,  7.70it/s]"
          ]
        },
        {
          "name": "stdout",
          "output_type": "stream",
          "text": [
            "intermediate_spatial_dim tensor([  1, 512, 512])\n",
            "processed_label torch.Size([1, 256, 256])\n",
            "unsqueeze torch.Size([1, 1, 1, 256, 256])\n",
            "intermediate_spatial_dim tensor([  1, 512, 512])\n",
            "processed_label torch.Size([1, 256, 256])\n",
            "unsqueeze torch.Size([1, 1, 1, 256, 256])\n",
            "intermediate_spatial_dim tensor([  1, 250, 250])\n",
            "processed_label torch.Size([1, 256, 256])\n",
            "unsqueeze torch.Size([1, 1, 1, 256, 256])\n",
            "intermediate_spatial_dim tensor([  1, 249, 249])\n",
            "processed_label torch.Size([1, 256, 256])\n",
            "unsqueeze torch.Size([1, 1, 1, 256, 256])\n",
            "intermediate_spatial_dim tensor([  1, 512, 512])\n",
            "processed_label torch.Size([1, 256, 256])\n",
            "unsqueeze torch.Size([1, 1, 1, 256, 256])\n",
            "intermediate_spatial_dim tensor([  1, 512, 512])\n",
            "processed_label torch.Size([1, 256, 256])\n",
            "unsqueeze torch.Size([1, 1, 1, 256, 256])\n",
            "intermediate_spatial_dim tensor([  1, 250, 250])\n",
            "processed_label torch.Size([1, 256, 256])\n",
            "unsqueeze torch.Size([1, 1, 1, 256, 256])\n",
            "intermediate_spatial_dim tensor([  1, 249, 249])\n",
            "processed_label torch.Size([1, 256, 256])\n",
            "unsqueeze torch.Size([1, 1, 1, 256, 256])\n"
          ]
        },
        {
          "name": "stderr",
          "output_type": "stream",
          "text": [
            " 54%|█████▍    | 123/228 [00:14<00:14,  7.30it/s]"
          ]
        },
        {
          "name": "stdout",
          "output_type": "stream",
          "text": [
            "intermediate_spatial_dim tensor([  1, 512, 512])\n",
            "processed_label torch.Size([1, 256, 256])\n",
            "unsqueeze torch.Size([1, 1, 1, 256, 256])\n",
            "intermediate_spatial_dim tensor([  1, 512, 512])\n",
            "processed_label torch.Size([1, 256, 256])\n",
            "unsqueeze torch.Size([1, 1, 1, 256, 256])\n",
            "intermediate_spatial_dim tensor([  1, 250, 250])\n",
            "processed_label torch.Size([1, 256, 256])\n",
            "unsqueeze torch.Size([1, 1, 1, 256, 256])\n",
            "intermediate_spatial_dim tensor([  1, 249, 249])\n",
            "processed_label torch.Size([1, 256, 256])\n",
            "unsqueeze torch.Size([1, 1, 1, 256, 256])\n",
            "intermediate_spatial_dim tensor([  1, 512, 512])\n",
            "processed_label torch.Size([1, 256, 256])\n",
            "unsqueeze torch.Size([1, 1, 1, 256, 256])\n",
            "intermediate_spatial_dim tensor([  1, 512, 512])\n",
            "processed_label torch.Size([1, 256, 256])\n",
            "unsqueeze torch.Size([1, 1, 1, 256, 256])\n",
            "intermediate_spatial_dim tensor([  1, 250, 250])\n",
            "processed_label torch.Size([1, 256, 256])\n",
            "unsqueeze torch.Size([1, 1, 1, 256, 256])\n",
            "intermediate_spatial_dim tensor([  1, 249, 249])\n",
            "processed_label torch.Size([1, 256, 256])\n",
            "unsqueeze torch.Size([1, 1, 1, 256, 256])\n"
          ]
        },
        {
          "name": "stderr",
          "output_type": "stream",
          "text": [
            " 55%|█████▍    | 125/228 [00:14<00:14,  6.93it/s]"
          ]
        },
        {
          "name": "stdout",
          "output_type": "stream",
          "text": [
            "intermediate_spatial_dim tensor([  1, 512, 512])\n",
            "processed_label torch.Size([1, 256, 256])\n",
            "unsqueeze torch.Size([1, 1, 1, 256, 256])\n",
            "intermediate_spatial_dim tensor([  1, 512, 512])\n",
            "processed_label torch.Size([1, 256, 256])\n",
            "unsqueeze torch.Size([1, 1, 1, 256, 256])\n",
            "intermediate_spatial_dim tensor([  1, 250, 250])\n",
            "processed_label torch.Size([1, 256, 256])\n",
            "unsqueeze torch.Size([1, 1, 1, 256, 256])\n",
            "intermediate_spatial_dim tensor([  1, 249, 249])\n",
            "processed_label torch.Size([1, 256, 256])\n",
            "unsqueeze torch.Size([1, 1, 1, 256, 256])\n",
            "intermediate_spatial_dim tensor([  1, 512, 512])\n",
            "processed_label torch.Size([1, 256, 256])\n",
            "unsqueeze torch.Size([1, 1, 1, 256, 256])\n",
            "intermediate_spatial_dim tensor([  1, 512, 512])\n",
            "processed_label torch.Size([1, 256, 256])\n",
            "unsqueeze torch.Size([1, 1, 1, 256, 256])\n",
            "intermediate_spatial_dim tensor([  1, 250, 250])\n",
            "processed_label torch.Size([1, 256, 256])\n",
            "unsqueeze torch.Size([1, 1, 1, 256, 256])\n"
          ]
        },
        {
          "name": "stderr",
          "output_type": "stream",
          "text": [
            " 55%|█████▌    | 126/228 [00:14<00:14,  7.17it/s]"
          ]
        },
        {
          "name": "stdout",
          "output_type": "stream",
          "text": [
            "intermediate_spatial_dim tensor([  1, 249, 249])\n",
            "processed_label torch.Size([1, 256, 256])\n",
            "unsqueeze torch.Size([1, 1, 1, 256, 256])\n",
            "intermediate_spatial_dim tensor([  1, 512, 512])\n",
            "processed_label torch.Size([1, 256, 256])\n",
            "unsqueeze torch.Size([1, 1, 1, 256, 256])\n",
            "intermediate_spatial_dim tensor([  1, 512, 512])\n",
            "processed_label torch.Size([1, 256, 256])\n",
            "unsqueeze torch.Size([1, 1, 1, 256, 256])\n",
            "intermediate_spatial_dim tensor([  1, 250, 250])\n",
            "processed_label torch.Size([1, 256, 256])\n",
            "unsqueeze torch.Size([1, 1, 1, 256, 256])\n",
            "intermediate_spatial_dim tensor([  1, 249, 249])\n",
            "processed_label torch.Size([1, 256, 256])\n",
            "unsqueeze torch.Size([1, 1, 1, 256, 256])\n",
            "intermediate_spatial_dim tensor([  1, 512, 512])\n",
            "processed_label torch.Size([1, 256, 256])\n",
            "unsqueeze torch.Size([1, 1, 1, 256, 256])\n",
            "intermediate_spatial_dim tensor([  1, 512, 512])\n",
            "processed_label torch.Size([1, 256, 256])\n",
            "unsqueeze torch.Size([1, 1, 1, 256, 256])\n"
          ]
        },
        {
          "name": "stderr",
          "output_type": "stream",
          "text": [
            " 56%|█████▌    | 128/228 [00:15<00:14,  7.13it/s]"
          ]
        },
        {
          "name": "stdout",
          "output_type": "stream",
          "text": [
            "intermediate_spatial_dim tensor([  1, 250, 250])\n",
            "processed_label torch.Size([1, 256, 256])\n",
            "unsqueeze torch.Size([1, 1, 1, 256, 256])\n",
            "intermediate_spatial_dim tensor([  1, 249, 249])\n",
            "processed_label torch.Size([1, 256, 256])\n",
            "unsqueeze torch.Size([1, 1, 1, 256, 256])\n",
            "intermediate_spatial_dim tensor([  1, 512, 512])\n",
            "processed_label torch.Size([1, 256, 256])\n",
            "unsqueeze torch.Size([1, 1, 1, 256, 256])\n",
            "intermediate_spatial_dim tensor([  1, 512, 512])\n",
            "processed_label torch.Size([1, 256, 256])\n",
            "unsqueeze torch.Size([1, 1, 1, 256, 256])\n",
            "intermediate_spatial_dim tensor([  1, 250, 250])\n",
            "processed_label torch.Size([1, 256, 256])\n",
            "unsqueeze torch.Size([1, 1, 1, 256, 256])\n",
            "intermediate_spatial_dim tensor([  1, 249, 249])\n",
            "processed_label torch.Size([1, 256, 256])\n",
            "unsqueeze torch.Size([1, 1, 1, 256, 256])\n"
          ]
        },
        {
          "name": "stderr",
          "output_type": "stream",
          "text": [
            " 57%|█████▋    | 130/228 [00:15<00:13,  7.50it/s]"
          ]
        },
        {
          "name": "stdout",
          "output_type": "stream",
          "text": [
            "intermediate_spatial_dim tensor([  1, 512, 512])\n",
            "processed_label torch.Size([1, 256, 256])\n",
            "unsqueeze torch.Size([1, 1, 1, 256, 256])\n",
            "intermediate_spatial_dim tensor([  1, 512, 512])\n",
            "processed_label torch.Size([1, 256, 256])\n",
            "unsqueeze torch.Size([1, 1, 1, 256, 256])\n",
            "intermediate_spatial_dim tensor([  1, 250, 250])\n",
            "processed_label torch.Size([1, 256, 256])\n",
            "unsqueeze torch.Size([1, 1, 1, 256, 256])\n",
            "intermediate_spatial_dim tensor([  1, 249, 249])\n",
            "processed_label torch.Size([1, 256, 256])\n",
            "unsqueeze torch.Size([1, 1, 1, 256, 256])\n",
            "intermediate_spatial_dim tensor([  1, 512, 512])\n",
            "processed_label torch.Size([1, 256, 256])\n",
            "unsqueeze torch.Size([1, 1, 1, 256, 256])\n",
            "intermediate_spatial_dim tensor([  1, 512, 512])\n",
            "processed_label torch.Size([1, 256, 256])\n",
            "unsqueeze torch.Size([1, 1, 1, 256, 256])\n",
            "intermediate_spatial_dim tensor([  1, 250, 250])\n",
            "processed_label torch.Size([1, 256, 256])\n",
            "unsqueeze torch.Size([1, 1, 1, 256, 256])\n",
            "intermediate_spatial_dim tensor([  1, 249, 249])\n",
            "processed_label torch.Size([1, 256, 256])\n",
            "unsqueeze torch.Size([1, 1, 1, 256, 256])\n"
          ]
        },
        {
          "name": "stderr",
          "output_type": "stream",
          "text": [
            " 58%|█████▊    | 132/228 [00:15<00:12,  7.69it/s]"
          ]
        },
        {
          "name": "stdout",
          "output_type": "stream",
          "text": [
            "intermediate_spatial_dim tensor([  1, 512, 512])\n",
            "processed_label torch.Size([1, 256, 256])\n",
            "unsqueeze torch.Size([1, 1, 1, 256, 256])\n",
            "intermediate_spatial_dim tensor([  1, 512, 512])\n",
            "processed_label torch.Size([1, 256, 256])\n",
            "unsqueeze torch.Size([1, 1, 1, 256, 256])\n",
            "intermediate_spatial_dim tensor([  1, 250, 250])\n",
            "processed_label torch.Size([1, 256, 256])\n",
            "unsqueeze torch.Size([1, 1, 1, 256, 256])\n",
            "intermediate_spatial_dim tensor([  1, 249, 249])\n",
            "processed_label torch.Size([1, 256, 256])\n",
            "unsqueeze torch.Size([1, 1, 1, 256, 256])\n",
            "intermediate_spatial_dim tensor([  1, 512, 512])\n",
            "processed_label torch.Size([1, 256, 256])\n",
            "unsqueeze torch.Size([1, 1, 1, 256, 256])\n",
            "intermediate_spatial_dim tensor([  1, 512, 512])\n",
            "processed_label torch.Size([1, 256, 256])\n",
            "unsqueeze torch.Size([1, 1, 1, 256, 256])\n",
            "intermediate_spatial_dim tensor([  1, 250, 250])\n",
            "processed_label torch.Size([1, 256, 256])\n",
            "unsqueeze torch.Size([1, 1, 1, 256, 256])\n",
            "intermediate_spatial_dim tensor([  1, 249, 249])\n",
            "processed_label torch.Size([1, 256, 256])\n",
            "unsqueeze torch.Size([1, 1, 1, 256, 256])\n"
          ]
        },
        {
          "name": "stderr",
          "output_type": "stream",
          "text": [
            " 59%|█████▉    | 134/228 [00:16<00:12,  7.52it/s]"
          ]
        },
        {
          "name": "stdout",
          "output_type": "stream",
          "text": [
            "intermediate_spatial_dim tensor([  1, 512, 512])\n",
            "processed_label torch.Size([1, 256, 256])\n",
            "unsqueeze torch.Size([1, 1, 1, 256, 256])\n",
            "intermediate_spatial_dim tensor([  1, 512, 512])\n",
            "processed_label torch.Size([1, 256, 256])\n",
            "unsqueeze torch.Size([1, 1, 1, 256, 256])\n",
            "intermediate_spatial_dim tensor([  1, 250, 250])\n",
            "processed_label torch.Size([1, 256, 256])\n",
            "unsqueeze torch.Size([1, 1, 1, 256, 256])\n",
            "intermediate_spatial_dim tensor([  1, 249, 249])\n",
            "processed_label torch.Size([1, 256, 256])\n",
            "unsqueeze torch.Size([1, 1, 1, 256, 256])\n",
            "intermediate_spatial_dim tensor([  1, 512, 512])\n",
            "processed_label torch.Size([1, 256, 256])\n",
            "unsqueeze torch.Size([1, 1, 1, 256, 256])\n",
            "intermediate_spatial_dim tensor([  1, 512, 512])\n",
            "processed_label torch.Size([1, 256, 256])\n",
            "unsqueeze torch.Size([1, 1, 1, 256, 256])\n",
            "intermediate_spatial_dim tensor([  1, 250, 250])\n",
            "processed_label torch.Size([1, 256, 256])\n",
            "unsqueeze torch.Size([1, 1, 1, 256, 256])\n"
          ]
        },
        {
          "name": "stderr",
          "output_type": "stream",
          "text": [
            " 59%|█████▉    | 135/228 [00:16<00:12,  7.28it/s]"
          ]
        },
        {
          "name": "stdout",
          "output_type": "stream",
          "text": [
            "intermediate_spatial_dim tensor([  1, 249, 249])\n",
            "processed_label torch.Size([1, 256, 256])\n",
            "unsqueeze torch.Size([1, 1, 1, 256, 256])\n",
            "intermediate_spatial_dim tensor([  1, 512, 512])\n",
            "processed_label torch.Size([1, 256, 256])\n",
            "unsqueeze torch.Size([1, 1, 1, 256, 256])\n",
            "intermediate_spatial_dim tensor([  1, 512, 512])\n",
            "processed_label torch.Size([1, 256, 256])\n",
            "unsqueeze torch.Size([1, 1, 1, 256, 256])\n",
            "intermediate_spatial_dim tensor([  1, 250, 250])\n",
            "processed_label torch.Size([1, 256, 256])\n",
            "unsqueeze torch.Size([1, 1, 1, 256, 256])\n",
            "intermediate_spatial_dim tensor([  1, 249, 249])\n",
            "processed_label torch.Size([1, 256, 256])\n",
            "unsqueeze torch.Size([1, 1, 1, 256, 256])\n"
          ]
        },
        {
          "name": "stderr",
          "output_type": "stream",
          "text": [
            " 60%|██████    | 137/228 [00:16<00:12,  7.54it/s]"
          ]
        },
        {
          "name": "stdout",
          "output_type": "stream",
          "text": [
            "intermediate_spatial_dim tensor([  1, 512, 512])\n",
            "processed_label torch.Size([1, 256, 256])\n",
            "unsqueeze torch.Size([1, 1, 1, 256, 256])\n",
            "intermediate_spatial_dim tensor([  1, 512, 512])\n",
            "processed_label torch.Size([1, 256, 256])\n",
            "unsqueeze torch.Size([1, 1, 1, 256, 256])\n",
            "intermediate_spatial_dim tensor([  1, 250, 250])\n",
            "processed_label torch.Size([1, 256, 256])\n",
            "unsqueeze torch.Size([1, 1, 1, 256, 256])\n",
            "intermediate_spatial_dim tensor([  1, 249, 249])\n",
            "processed_label torch.Size([1, 256, 256])\n",
            "unsqueeze torch.Size([1, 1, 1, 256, 256])\n",
            "intermediate_spatial_dim tensor([  1, 512, 512])\n",
            "processed_label torch.Size([1, 256, 256])\n",
            "unsqueeze torch.Size([1, 1, 1, 256, 256])\n",
            "intermediate_spatial_dim tensor([  1, 512, 512])\n",
            "processed_label torch.Size([1, 256, 256])\n",
            "unsqueeze torch.Size([1, 1, 1, 256, 256])\n",
            "intermediate_spatial_dim tensor([  1, 250, 250])\n",
            "processed_label torch.Size([1, 256, 256])\n",
            "unsqueeze torch.Size([1, 1, 1, 256, 256])\n",
            "intermediate_spatial_dim tensor([  1, 249, 249])\n",
            "processed_label torch.Size([1, 256, 256])\n",
            "unsqueeze torch.Size([1, 1, 1, 256, 256])\n"
          ]
        },
        {
          "name": "stderr",
          "output_type": "stream",
          "text": [
            " 61%|██████    | 139/228 [00:16<00:11,  7.61it/s]"
          ]
        },
        {
          "name": "stdout",
          "output_type": "stream",
          "text": [
            "intermediate_spatial_dim tensor([  1, 512, 512])\n",
            "processed_label torch.Size([1, 256, 256])\n",
            "unsqueeze torch.Size([1, 1, 1, 256, 256])\n",
            "intermediate_spatial_dim tensor([  1, 512, 512])\n",
            "processed_label torch.Size([1, 256, 256])\n",
            "unsqueeze torch.Size([1, 1, 1, 256, 256])\n",
            "intermediate_spatial_dim tensor([  1, 250, 250])\n",
            "processed_label torch.Size([1, 256, 256])\n",
            "unsqueeze torch.Size([1, 1, 1, 256, 256])\n",
            "intermediate_spatial_dim tensor([  1, 249, 249])\n",
            "processed_label torch.Size([1, 256, 256])\n",
            "unsqueeze torch.Size([1, 1, 1, 256, 256])\n",
            "intermediate_spatial_dim tensor([  1, 512, 512])\n",
            "processed_label torch.Size([1, 256, 256])\n",
            "unsqueeze torch.Size([1, 1, 1, 256, 256])\n",
            "intermediate_spatial_dim tensor([  1, 512, 512])\n",
            "processed_label torch.Size([1, 256, 256])\n",
            "unsqueeze torch.Size([1, 1, 1, 256, 256])\n",
            "intermediate_spatial_dim tensor([  1, 250, 250])\n",
            "processed_label torch.Size([1, 256, 256])\n",
            "unsqueeze torch.Size([1, 1, 1, 256, 256])\n",
            "intermediate_spatial_dim tensor([  1, 249, 249])\n",
            "processed_label torch.Size([1, 256, 256])\n",
            "unsqueeze torch.Size([1, 1, 1, 256, 256])\n"
          ]
        },
        {
          "name": "stderr",
          "output_type": "stream",
          "text": [
            " 62%|██████▏   | 141/228 [00:16<00:11,  7.51it/s]"
          ]
        },
        {
          "name": "stdout",
          "output_type": "stream",
          "text": [
            "intermediate_spatial_dim tensor([  1, 512, 512])\n",
            "processed_label torch.Size([1, 256, 256])\n",
            "unsqueeze torch.Size([1, 1, 1, 256, 256])\n",
            "intermediate_spatial_dim tensor([  1, 512, 512])\n",
            "processed_label torch.Size([1, 256, 256])\n",
            "unsqueeze torch.Size([1, 1, 1, 256, 256])\n",
            "intermediate_spatial_dim tensor([  1, 250, 250])\n",
            "processed_label torch.Size([1, 256, 256])\n",
            "unsqueeze torch.Size([1, 1, 1, 256, 256])\n",
            "intermediate_spatial_dim tensor([  1, 249, 249])\n",
            "processed_label torch.Size([1, 256, 256])\n",
            "unsqueeze torch.Size([1, 1, 1, 256, 256])\n",
            "intermediate_spatial_dim tensor([  1, 512, 512])\n",
            "processed_label torch.Size([1, 256, 256])\n",
            "unsqueeze torch.Size([1, 1, 1, 256, 256])\n",
            "intermediate_spatial_dim tensor([  1, 512, 512])\n",
            "processed_label torch.Size([1, 256, 256])\n",
            "unsqueeze torch.Size([1, 1, 1, 256, 256])\n",
            "intermediate_spatial_dim tensor([  1, 250, 250])\n",
            "processed_label torch.Size([1, 256, 256])\n",
            "unsqueeze torch.Size([1, 1, 1, 256, 256])\n"
          ]
        },
        {
          "name": "stderr",
          "output_type": "stream",
          "text": [
            " 62%|██████▏   | 142/228 [00:17<00:11,  7.55it/s]"
          ]
        },
        {
          "name": "stdout",
          "output_type": "stream",
          "text": [
            "intermediate_spatial_dim tensor([  1, 249, 249])\n",
            "processed_label torch.Size([1, 256, 256])\n",
            "unsqueeze torch.Size([1, 1, 1, 256, 256])\n",
            "intermediate_spatial_dim tensor([  1, 512, 512])\n",
            "processed_label torch.Size([1, 256, 256])\n",
            "unsqueeze torch.Size([1, 1, 1, 256, 256])\n",
            "intermediate_spatial_dim tensor([  1, 512, 512])\n",
            "processed_label torch.Size([1, 256, 256])\n",
            "unsqueeze torch.Size([1, 1, 1, 256, 256])\n",
            "intermediate_spatial_dim tensor([  1, 250, 250])\n",
            "processed_label torch.Size([1, 256, 256])\n",
            "unsqueeze torch.Size([1, 1, 1, 256, 256])\n",
            "intermediate_spatial_dim tensor([  1, 249, 249])\n",
            "processed_label torch.Size([1, 256, 256])\n",
            "unsqueeze torch.Size([1, 1, 1, 256, 256])\n"
          ]
        },
        {
          "name": "stderr",
          "output_type": "stream",
          "text": [
            " 63%|██████▎   | 144/228 [00:17<00:12,  6.92it/s]"
          ]
        },
        {
          "name": "stdout",
          "output_type": "stream",
          "text": [
            "intermediate_spatial_dim tensor([  1, 512, 512])\n",
            "processed_label torch.Size([1, 256, 256])\n",
            "unsqueeze torch.Size([1, 1, 1, 256, 256])\n",
            "intermediate_spatial_dim tensor([  1, 512, 512])\n",
            "processed_label torch.Size([1, 256, 256])\n",
            "unsqueeze torch.Size([1, 1, 1, 256, 256])\n",
            "intermediate_spatial_dim tensor([  1, 250, 250])\n",
            "processed_label torch.Size([1, 256, 256])\n",
            "unsqueeze torch.Size([1, 1, 1, 256, 256])\n",
            "intermediate_spatial_dim tensor([  1, 249, 249])\n",
            "processed_label torch.Size([1, 256, 256])\n",
            "unsqueeze torch.Size([1, 1, 1, 256, 256])\n",
            "intermediate_spatial_dim tensor([  1, 512, 512])\n",
            "processed_label torch.Size([1, 256, 256])\n",
            "unsqueeze torch.Size([1, 1, 1, 256, 256])\n",
            "intermediate_spatial_dim tensor([  1, 512, 512])\n",
            "processed_label torch.Size([1, 256, 256])\n",
            "unsqueeze torch.Size([1, 1, 1, 256, 256])\n",
            "intermediate_spatial_dim tensor([  1, 250, 250])\n",
            "processed_label torch.Size([1, 256, 256])\n",
            "unsqueeze torch.Size([1, 1, 1, 256, 256])\n",
            "intermediate_spatial_dim tensor([  1, 249, 249])\n",
            "processed_label torch.Size([1, 256, 256])\n",
            "unsqueeze torch.Size([1, 1, 1, 256, 256])\n"
          ]
        },
        {
          "name": "stderr",
          "output_type": "stream",
          "text": [
            " 64%|██████▍   | 146/228 [00:17<00:11,  6.86it/s]"
          ]
        },
        {
          "name": "stdout",
          "output_type": "stream",
          "text": [
            "intermediate_spatial_dim tensor([  1, 512, 512])\n",
            "processed_label torch.Size([1, 256, 256])\n",
            "unsqueeze torch.Size([1, 1, 1, 256, 256])\n",
            "intermediate_spatial_dim tensor([  1, 512, 512])\n",
            "processed_label torch.Size([1, 256, 256])\n",
            "unsqueeze torch.Size([1, 1, 1, 256, 256])\n",
            "intermediate_spatial_dim tensor([  1, 250, 250])\n",
            "processed_label torch.Size([1, 256, 256])\n",
            "unsqueeze torch.Size([1, 1, 1, 256, 256])\n",
            "intermediate_spatial_dim tensor([  1, 249, 249])\n",
            "processed_label torch.Size([1, 256, 256])\n",
            "unsqueeze torch.Size([1, 1, 1, 256, 256])\n",
            "intermediate_spatial_dim tensor([  1, 512, 512])\n",
            "processed_label torch.Size([1, 256, 256])\n",
            "unsqueeze torch.Size([1, 1, 1, 256, 256])\n",
            "intermediate_spatial_dim tensor([  1, 512, 512])\n",
            "processed_label torch.Size([1, 256, 256])\n",
            "unsqueeze torch.Size([1, 1, 1, 256, 256])\n",
            "intermediate_spatial_dim tensor([  1, 250, 250])\n",
            "processed_label torch.Size([1, 256, 256])\n",
            "unsqueeze torch.Size([1, 1, 1, 256, 256])\n",
            "intermediate_spatial_dim tensor([  1, 249, 249])\n",
            "processed_label torch.Size([1, 256, 256])\n",
            "unsqueeze torch.Size([1, 1, 1, 256, 256])\n"
          ]
        },
        {
          "name": "stderr",
          "output_type": "stream",
          "text": [
            " 65%|██████▍   | 148/228 [00:17<00:10,  7.36it/s]"
          ]
        },
        {
          "name": "stdout",
          "output_type": "stream",
          "text": [
            "intermediate_spatial_dim tensor([  1, 512, 512])\n",
            "processed_label torch.Size([1, 256, 256])\n",
            "unsqueeze torch.Size([1, 1, 1, 256, 256])\n",
            "intermediate_spatial_dim tensor([  1, 512, 512])\n",
            "processed_label torch.Size([1, 256, 256])\n",
            "unsqueeze torch.Size([1, 1, 1, 256, 256])\n",
            "intermediate_spatial_dim tensor([  1, 250, 250])\n",
            "processed_label torch.Size([1, 256, 256])\n",
            "unsqueeze torch.Size([1, 1, 1, 256, 256])\n",
            "intermediate_spatial_dim tensor([  1, 249, 249])\n",
            "processed_label torch.Size([1, 256, 256])\n",
            "unsqueeze torch.Size([1, 1, 1, 256, 256])\n",
            "intermediate_spatial_dim tensor([  1, 512, 512])\n",
            "processed_label torch.Size([1, 256, 256])\n",
            "unsqueeze torch.Size([1, 1, 1, 256, 256])\n",
            "intermediate_spatial_dim tensor([  1, 512, 512])\n",
            "processed_label torch.Size([1, 256, 256])\n",
            "unsqueeze torch.Size([1, 1, 1, 256, 256])\n",
            "intermediate_spatial_dim tensor([  1, 250, 250])\n",
            "processed_label torch.Size([1, 256, 256])\n",
            "unsqueeze torch.Size([1, 1, 1, 256, 256])\n",
            "intermediate_spatial_dim tensor([  1, 249, 249])\n",
            "processed_label torch.Size([1, 256, 256])\n",
            "unsqueeze torch.Size([1, 1, 1, 256, 256])\n"
          ]
        },
        {
          "name": "stderr",
          "output_type": "stream",
          "text": [
            " 66%|██████▌   | 150/228 [00:18<00:10,  7.57it/s]"
          ]
        },
        {
          "name": "stdout",
          "output_type": "stream",
          "text": [
            "intermediate_spatial_dim tensor([  1, 512, 512])\n",
            "processed_label torch.Size([1, 256, 256])\n",
            "unsqueeze torch.Size([1, 1, 1, 256, 256])\n",
            "intermediate_spatial_dim tensor([  1, 512, 512])\n",
            "processed_label torch.Size([1, 256, 256])\n",
            "unsqueeze torch.Size([1, 1, 1, 256, 256])\n",
            "intermediate_spatial_dim tensor([  1, 250, 250])\n",
            "processed_label torch.Size([1, 256, 256])\n",
            "unsqueeze torch.Size([1, 1, 1, 256, 256])\n",
            "intermediate_spatial_dim tensor([  1, 249, 249])\n",
            "processed_label torch.Size([1, 256, 256])\n",
            "unsqueeze torch.Size([1, 1, 1, 256, 256])\n",
            "intermediate_spatial_dim tensor([  1, 512, 512])\n",
            "processed_label torch.Size([1, 256, 256])\n",
            "unsqueeze torch.Size([1, 1, 1, 256, 256])\n",
            "intermediate_spatial_dim tensor([  1, 512, 512])\n",
            "processed_label torch.Size([1, 256, 256])\n",
            "unsqueeze torch.Size([1, 1, 1, 256, 256])\n",
            "intermediate_spatial_dim tensor([  1, 250, 250])\n",
            "processed_label torch.Size([1, 256, 256])\n",
            "unsqueeze torch.Size([1, 1, 1, 256, 256])\n",
            "intermediate_spatial_dim tensor([  1, 249, 249])\n",
            "processed_label torch.Size([1, 256, 256])\n",
            "unsqueeze torch.Size([1, 1, 1, 256, 256])\n"
          ]
        },
        {
          "name": "stderr",
          "output_type": "stream",
          "text": [
            " 67%|██████▋   | 152/228 [00:18<00:09,  7.67it/s]"
          ]
        },
        {
          "name": "stdout",
          "output_type": "stream",
          "text": [
            "intermediate_spatial_dim tensor([  1, 512, 512])\n",
            "processed_label torch.Size([1, 256, 256])\n",
            "unsqueeze torch.Size([1, 1, 1, 256, 256])\n",
            "intermediate_spatial_dim tensor([  1, 512, 512])\n",
            "processed_label torch.Size([1, 256, 256])\n",
            "unsqueeze torch.Size([1, 1, 1, 256, 256])\n",
            "intermediate_spatial_dim tensor([  1, 250, 250])\n",
            "processed_label torch.Size([1, 256, 256])\n",
            "unsqueeze torch.Size([1, 1, 1, 256, 256])\n",
            "intermediate_spatial_dim tensor([  1, 249, 249])\n",
            "processed_label torch.Size([1, 256, 256])\n",
            "unsqueeze torch.Size([1, 1, 1, 256, 256])\n",
            "intermediate_spatial_dim tensor([  1, 512, 512])\n",
            "processed_label torch.Size([1, 256, 256])\n",
            "unsqueeze torch.Size([1, 1, 1, 256, 256])\n",
            "intermediate_spatial_dim tensor([  1, 512, 512])\n",
            "processed_label torch.Size([1, 256, 256])\n",
            "unsqueeze torch.Size([1, 1, 1, 256, 256])\n",
            "intermediate_spatial_dim tensor([  1, 250, 250])\n",
            "processed_label torch.Size([1, 256, 256])\n",
            "unsqueeze torch.Size([1, 1, 1, 256, 256])\n",
            "intermediate_spatial_dim tensor([  1, 249, 249])\n",
            "processed_label torch.Size([1, 256, 256])\n",
            "unsqueeze torch.Size([1, 1, 1, 256, 256])\n"
          ]
        },
        {
          "name": "stderr",
          "output_type": "stream",
          "text": [
            " 68%|██████▊   | 154/228 [00:18<00:09,  7.74it/s]"
          ]
        },
        {
          "name": "stdout",
          "output_type": "stream",
          "text": [
            "intermediate_spatial_dim tensor([  1, 512, 512])\n",
            "processed_label torch.Size([1, 256, 256])\n",
            "unsqueeze torch.Size([1, 1, 1, 256, 256])\n",
            "intermediate_spatial_dim tensor([  1, 512, 512])\n",
            "processed_label torch.Size([1, 256, 256])\n",
            "unsqueeze torch.Size([1, 1, 1, 256, 256])\n",
            "intermediate_spatial_dim tensor([  1, 250, 250])\n",
            "processed_label torch.Size([1, 256, 256])\n",
            "unsqueeze torch.Size([1, 1, 1, 256, 256])\n",
            "intermediate_spatial_dim tensor([  1, 249, 249])\n",
            "processed_label torch.Size([1, 256, 256])\n",
            "unsqueeze torch.Size([1, 1, 1, 256, 256])\n",
            "intermediate_spatial_dim tensor([  1, 512, 512])\n",
            "processed_label torch.Size([1, 256, 256])\n",
            "unsqueeze torch.Size([1, 1, 1, 256, 256])\n",
            "intermediate_spatial_dim tensor([  1, 512, 512])\n",
            "processed_label torch.Size([1, 256, 256])\n",
            "unsqueeze torch.Size([1, 1, 1, 256, 256])\n",
            "intermediate_spatial_dim tensor([  1, 250, 250])\n",
            "processed_label torch.Size([1, 256, 256])\n",
            "unsqueeze torch.Size([1, 1, 1, 256, 256])\n",
            "intermediate_spatial_dim tensor([  1, 249, 249])\n",
            "processed_label torch.Size([1, 256, 256])\n",
            "unsqueeze torch.Size([1, 1, 1, 256, 256])\n"
          ]
        },
        {
          "name": "stderr",
          "output_type": "stream",
          "text": [
            " 68%|██████▊   | 156/228 [00:19<00:09,  7.62it/s]"
          ]
        },
        {
          "name": "stdout",
          "output_type": "stream",
          "text": [
            "intermediate_spatial_dim tensor([  1, 512, 512])\n",
            "processed_label torch.Size([1, 256, 256])\n",
            "unsqueeze torch.Size([1, 1, 1, 256, 256])\n",
            "intermediate_spatial_dim tensor([  1, 512, 512])\n",
            "processed_label torch.Size([1, 256, 256])\n",
            "unsqueeze torch.Size([1, 1, 1, 256, 256])\n",
            "intermediate_spatial_dim tensor([  1, 250, 250])\n",
            "processed_label torch.Size([1, 256, 256])\n",
            "unsqueeze torch.Size([1, 1, 1, 256, 256])\n",
            "intermediate_spatial_dim tensor([  1, 249, 249])\n",
            "processed_label torch.Size([1, 256, 256])\n",
            "unsqueeze torch.Size([1, 1, 1, 256, 256])\n",
            "intermediate_spatial_dim tensor([  1, 512, 512])\n",
            "processed_label torch.Size([1, 256, 256])\n",
            "unsqueeze torch.Size([1, 1, 1, 256, 256])\n",
            "intermediate_spatial_dim tensor([  1, 512, 512])\n",
            "processed_label torch.Size([1, 256, 256])\n",
            "unsqueeze torch.Size([1, 1, 1, 256, 256])\n",
            "intermediate_spatial_dim tensor([  1, 250, 250])\n",
            "processed_label torch.Size([1, 256, 256])\n",
            "unsqueeze torch.Size([1, 1, 1, 256, 256])\n"
          ]
        },
        {
          "name": "stderr",
          "output_type": "stream",
          "text": [
            " 69%|██████▉   | 157/228 [00:19<00:09,  7.42it/s]"
          ]
        },
        {
          "name": "stdout",
          "output_type": "stream",
          "text": [
            "intermediate_spatial_dim tensor([  1, 249, 249])\n",
            "processed_label torch.Size([1, 256, 256])\n",
            "unsqueeze torch.Size([1, 1, 1, 256, 256])\n",
            "intermediate_spatial_dim tensor([  1, 512, 512])\n",
            "processed_label torch.Size([1, 256, 256])\n",
            "unsqueeze torch.Size([1, 1, 1, 256, 256])\n",
            "intermediate_spatial_dim tensor([  1, 512, 512])\n",
            "processed_label torch.Size([1, 256, 256])\n",
            "unsqueeze torch.Size([1, 1, 1, 256, 256])\n",
            "intermediate_spatial_dim tensor([  1, 250, 250])\n",
            "processed_label torch.Size([1, 256, 256])\n",
            "unsqueeze torch.Size([1, 1, 1, 256, 256])\n",
            "intermediate_spatial_dim tensor([  1, 249, 249])\n",
            "processed_label torch.Size([1, 256, 256])\n",
            "unsqueeze torch.Size([1, 1, 1, 256, 256])\n"
          ]
        },
        {
          "name": "stderr",
          "output_type": "stream",
          "text": [
            " 70%|██████▉   | 159/228 [00:19<00:08,  7.97it/s]"
          ]
        },
        {
          "name": "stdout",
          "output_type": "stream",
          "text": [
            "intermediate_spatial_dim tensor([  1, 512, 512])\n",
            "processed_label torch.Size([1, 256, 256])\n",
            "unsqueeze torch.Size([1, 1, 1, 256, 256])\n",
            "intermediate_spatial_dim tensor([  1, 512, 512])\n",
            "processed_label torch.Size([1, 256, 256])\n",
            "unsqueeze torch.Size([1, 1, 1, 256, 256])\n",
            "intermediate_spatial_dim tensor([  1, 249, 249])\n",
            "processed_label torch.Size([1, 256, 256])\n",
            "unsqueeze torch.Size([1, 1, 1, 256, 256])\n",
            "intermediate_spatial_dim tensor([  1, 512, 512])\n",
            "processed_label torch.Size([1, 256, 256])\n",
            "unsqueeze torch.Size([1, 1, 1, 256, 256])\n",
            "intermediate_spatial_dim tensor([  1, 512, 512])\n",
            "processed_label torch.Size([1, 256, 256])\n",
            "unsqueeze torch.Size([1, 1, 1, 256, 256])\n",
            "intermediate_spatial_dim tensor([  1, 249, 249])\n",
            "processed_label torch.Size([1, 256, 256])\n",
            "unsqueeze torch.Size([1, 1, 1, 256, 256])\n",
            "intermediate_spatial_dim tensor([  1, 512, 512])\n",
            "processed_label torch.Size([1, 256, 256])\n",
            "unsqueeze torch.Size([1, 1, 1, 256, 256])\n",
            "intermediate_spatial_dim tensor([  1, 512, 512])\n",
            "processed_label torch.Size([1, 256, 256])\n",
            "unsqueeze torch.Size([1, 1, 1, 256, 256])\n"
          ]
        },
        {
          "name": "stderr",
          "output_type": "stream",
          "text": [
            " 71%|███████   | 162/228 [00:19<00:07,  9.06it/s]"
          ]
        },
        {
          "name": "stdout",
          "output_type": "stream",
          "text": [
            "intermediate_spatial_dim tensor([  1, 249, 249])\n",
            "processed_label torch.Size([1, 256, 256])\n",
            "unsqueeze torch.Size([1, 1, 1, 256, 256])\n",
            "intermediate_spatial_dim tensor([  1, 512, 512])\n",
            "processed_label torch.Size([1, 256, 256])\n",
            "unsqueeze torch.Size([1, 1, 1, 256, 256])\n",
            "intermediate_spatial_dim tensor([  1, 512, 512])\n",
            "processed_label torch.Size([1, 256, 256])\n",
            "unsqueeze torch.Size([1, 1, 1, 256, 256])\n",
            "intermediate_spatial_dim tensor([  1, 249, 249])\n",
            "processed_label torch.Size([1, 256, 256])\n",
            "unsqueeze torch.Size([1, 1, 1, 256, 256])\n",
            "intermediate_spatial_dim tensor([  1, 512, 512])\n",
            "processed_label torch.Size([1, 256, 256])\n",
            "unsqueeze torch.Size([1, 1, 1, 256, 256])\n",
            "intermediate_spatial_dim tensor([  1, 512, 512])\n",
            "processed_label torch.Size([1, 256, 256])\n",
            "unsqueeze torch.Size([1, 1, 1, 256, 256])\n"
          ]
        },
        {
          "name": "stderr",
          "output_type": "stream",
          "text": [
            " 71%|███████▏  | 163/228 [00:19<00:07,  8.74it/s]"
          ]
        },
        {
          "name": "stdout",
          "output_type": "stream",
          "text": [
            "intermediate_spatial_dim tensor([  1, 249, 249])\n",
            "processed_label torch.Size([1, 256, 256])\n",
            "unsqueeze torch.Size([1, 1, 1, 256, 256])\n",
            "intermediate_spatial_dim tensor([  1, 512, 512])\n",
            "processed_label torch.Size([1, 256, 256])\n",
            "unsqueeze torch.Size([1, 1, 1, 256, 256])\n",
            "intermediate_spatial_dim tensor([  1, 512, 512])\n",
            "processed_label torch.Size([1, 256, 256])\n",
            "unsqueeze torch.Size([1, 1, 1, 256, 256])\n",
            "intermediate_spatial_dim tensor([  1, 249, 249])\n",
            "processed_label torch.Size([1, 256, 256])\n",
            "unsqueeze torch.Size([1, 1, 1, 256, 256])\n"
          ]
        },
        {
          "name": "stderr",
          "output_type": "stream",
          "text": [
            " 72%|███████▏  | 165/228 [00:20<00:06,  9.04it/s]"
          ]
        },
        {
          "name": "stdout",
          "output_type": "stream",
          "text": [
            "intermediate_spatial_dim tensor([  1, 512, 512])\n",
            "processed_label torch.Size([1, 256, 256])\n",
            "unsqueeze torch.Size([1, 1, 1, 256, 256])\n",
            "intermediate_spatial_dim tensor([  1, 512, 512])\n",
            "processed_label torch.Size([1, 256, 256])\n",
            "unsqueeze torch.Size([1, 1, 1, 256, 256])\n",
            "intermediate_spatial_dim tensor([  1, 249, 249])\n",
            "processed_label torch.Size([1, 256, 256])\n",
            "unsqueeze torch.Size([1, 1, 1, 256, 256])\n",
            "intermediate_spatial_dim tensor([  1, 512, 512])\n",
            "processed_label torch.Size([1, 256, 256])\n",
            "unsqueeze torch.Size([1, 1, 1, 256, 256])\n",
            "intermediate_spatial_dim tensor([  1, 512, 512])\n",
            "processed_label torch.Size([1, 256, 256])\n",
            "unsqueeze torch.Size([1, 1, 1, 256, 256])\n",
            "intermediate_spatial_dim tensor([  1, 249, 249])\n",
            "processed_label torch.Size([1, 256, 256])\n",
            "unsqueeze torch.Size([1, 1, 1, 256, 256])\n"
          ]
        },
        {
          "name": "stderr",
          "output_type": "stream",
          "text": [
            " 73%|███████▎  | 167/228 [00:20<00:06,  9.12it/s]"
          ]
        },
        {
          "name": "stdout",
          "output_type": "stream",
          "text": [
            "intermediate_spatial_dim tensor([  1, 512, 512])\n",
            "processed_label torch.Size([1, 256, 256])\n",
            "unsqueeze torch.Size([1, 1, 1, 256, 256])\n",
            "intermediate_spatial_dim tensor([  1, 512, 512])\n",
            "processed_label torch.Size([1, 256, 256])\n",
            "unsqueeze torch.Size([1, 1, 1, 256, 256])\n",
            "intermediate_spatial_dim tensor([  1, 249, 249])\n",
            "processed_label torch.Size([1, 256, 256])\n",
            "unsqueeze torch.Size([1, 1, 1, 256, 256])\n",
            "intermediate_spatial_dim tensor([  1, 512, 512])\n",
            "processed_label torch.Size([1, 256, 256])\n",
            "unsqueeze torch.Size([1, 1, 1, 256, 256])\n",
            "intermediate_spatial_dim tensor([  1, 512, 512])\n",
            "processed_label torch.Size([1, 256, 256])\n",
            "unsqueeze torch.Size([1, 1, 1, 256, 256])\n",
            "intermediate_spatial_dim tensor([  1, 249, 249])\n",
            "processed_label torch.Size([1, 256, 256])\n",
            "unsqueeze torch.Size([1, 1, 1, 256, 256])\n"
          ]
        },
        {
          "name": "stderr",
          "output_type": "stream",
          "text": [
            " 74%|███████▍  | 169/228 [00:20<00:06,  9.14it/s]"
          ]
        },
        {
          "name": "stdout",
          "output_type": "stream",
          "text": [
            "intermediate_spatial_dim tensor([  1, 512, 512])\n",
            "processed_label torch.Size([1, 256, 256])\n",
            "unsqueeze torch.Size([1, 1, 1, 256, 256])\n",
            "intermediate_spatial_dim tensor([  1, 512, 512])\n",
            "processed_label torch.Size([1, 256, 256])\n",
            "unsqueeze torch.Size([1, 1, 1, 256, 256])\n",
            "intermediate_spatial_dim tensor([  1, 249, 249])\n",
            "processed_label torch.Size([1, 256, 256])\n",
            "unsqueeze torch.Size([1, 1, 1, 256, 256])\n",
            "intermediate_spatial_dim tensor([  1, 512, 512])\n",
            "processed_label torch.Size([1, 256, 256])\n",
            "unsqueeze torch.Size([1, 1, 1, 256, 256])\n",
            "intermediate_spatial_dim tensor([  1, 512, 512])\n",
            "processed_label torch.Size([1, 256, 256])\n",
            "unsqueeze torch.Size([1, 1, 1, 256, 256])\n",
            "intermediate_spatial_dim tensor([  1, 249, 249])\n",
            "processed_label torch.Size([1, 256, 256])\n",
            "unsqueeze torch.Size([1, 1, 1, 256, 256])\n",
            "intermediate_spatial_dim tensor([  1, 512, 512])\n",
            "processed_label torch.Size([1, 256, 256])\n",
            "unsqueeze torch.Size([1, 1, 1, 256, 256])\n"
          ]
        },
        {
          "name": "stderr",
          "output_type": "stream",
          "text": [
            " 75%|███████▌  | 171/228 [00:20<00:06,  9.01it/s]"
          ]
        },
        {
          "name": "stdout",
          "output_type": "stream",
          "text": [
            "intermediate_spatial_dim tensor([  1, 512, 512])\n",
            "processed_label torch.Size([1, 256, 256])\n",
            "unsqueeze torch.Size([1, 1, 1, 256, 256])\n",
            "intermediate_spatial_dim tensor([  1, 249, 249])\n",
            "processed_label torch.Size([1, 256, 256])\n",
            "unsqueeze torch.Size([1, 1, 1, 256, 256])\n",
            "intermediate_spatial_dim tensor([  1, 512, 512])\n",
            "processed_label torch.Size([1, 256, 256])\n",
            "unsqueeze torch.Size([1, 1, 1, 256, 256])\n",
            "intermediate_spatial_dim tensor([  1, 512, 512])\n",
            "processed_label torch.Size([1, 256, 256])\n",
            "unsqueeze torch.Size([1, 1, 1, 256, 256])\n",
            "intermediate_spatial_dim tensor([  1, 249, 249])\n",
            "processed_label torch.Size([1, 256, 256])\n",
            "unsqueeze torch.Size([1, 1, 1, 256, 256])\n"
          ]
        },
        {
          "name": "stderr",
          "output_type": "stream",
          "text": [
            " 76%|███████▌  | 173/228 [00:20<00:06,  9.01it/s]"
          ]
        },
        {
          "name": "stdout",
          "output_type": "stream",
          "text": [
            "intermediate_spatial_dim tensor([  1, 512, 512])\n",
            "processed_label torch.Size([1, 256, 256])\n",
            "unsqueeze torch.Size([1, 1, 1, 256, 256])\n",
            "intermediate_spatial_dim tensor([  1, 512, 512])\n",
            "processed_label torch.Size([1, 256, 256])\n",
            "unsqueeze torch.Size([1, 1, 1, 256, 256])\n",
            "intermediate_spatial_dim tensor([  1, 249, 249])\n",
            "processed_label torch.Size([1, 256, 256])\n",
            "unsqueeze torch.Size([1, 1, 1, 256, 256])\n",
            "intermediate_spatial_dim tensor([  1, 512, 512])\n",
            "processed_label torch.Size([1, 256, 256])\n",
            "unsqueeze torch.Size([1, 1, 1, 256, 256])\n",
            "intermediate_spatial_dim tensor([  1, 512, 512])\n",
            "processed_label torch.Size([1, 256, 256])\n",
            "unsqueeze torch.Size([1, 1, 1, 256, 256])\n",
            "intermediate_spatial_dim tensor([  1, 249, 249])\n",
            "processed_label torch.Size([1, 256, 256])\n",
            "unsqueeze torch.Size([1, 1, 1, 256, 256])\n",
            "intermediate_spatial_dim tensor([  1, 512, 512])\n",
            "processed_label torch.Size([1, 256, 256])\n",
            "unsqueeze torch.Size([1, 1, 1, 256, 256])\n",
            "intermediate_spatial_dim tensor([  1, 512, 512])\n",
            "processed_label torch.Size([1, 256, 256])\n",
            "unsqueeze torch.Size([1, 1, 1, 256, 256])\n"
          ]
        },
        {
          "name": "stderr",
          "output_type": "stream",
          "text": [
            " 77%|███████▋  | 175/228 [00:21<00:05,  9.10it/s]"
          ]
        },
        {
          "name": "stdout",
          "output_type": "stream",
          "text": [
            "intermediate_spatial_dim tensor([  1, 249, 249])\n",
            "processed_label torch.Size([1, 256, 256])\n",
            "unsqueeze torch.Size([1, 1, 1, 256, 256])\n",
            "intermediate_spatial_dim tensor([  1, 512, 512])\n",
            "processed_label torch.Size([1, 256, 256])\n",
            "unsqueeze torch.Size([1, 1, 1, 256, 256])\n",
            "intermediate_spatial_dim tensor([  1, 512, 512])\n",
            "processed_label torch.Size([1, 256, 256])\n",
            "unsqueeze torch.Size([1, 1, 1, 256, 256])\n",
            "intermediate_spatial_dim tensor([  1, 249, 249])\n",
            "processed_label torch.Size([1, 256, 256])\n",
            "unsqueeze torch.Size([1, 1, 1, 256, 256])\n"
          ]
        },
        {
          "name": "stderr",
          "output_type": "stream",
          "text": [
            " 78%|███████▊  | 177/228 [00:21<00:05,  9.34it/s]"
          ]
        },
        {
          "name": "stdout",
          "output_type": "stream",
          "text": [
            "intermediate_spatial_dim tensor([  1, 512, 512])\n",
            "processed_label torch.Size([1, 256, 256])\n",
            "unsqueeze torch.Size([1, 1, 1, 256, 256])\n",
            "intermediate_spatial_dim tensor([  1, 512, 512])\n",
            "processed_label torch.Size([1, 256, 256])\n",
            "unsqueeze torch.Size([1, 1, 1, 256, 256])\n",
            "intermediate_spatial_dim tensor([  1, 249, 249])\n",
            "processed_label torch.Size([1, 256, 256])\n",
            "unsqueeze torch.Size([1, 1, 1, 256, 256])\n",
            "intermediate_spatial_dim tensor([  1, 512, 512])\n",
            "processed_label torch.Size([1, 256, 256])\n",
            "unsqueeze torch.Size([1, 1, 1, 256, 256])\n",
            "intermediate_spatial_dim tensor([  1, 512, 512])\n",
            "processed_label torch.Size([1, 256, 256])\n",
            "unsqueeze torch.Size([1, 1, 1, 256, 256])\n",
            "intermediate_spatial_dim tensor([  1, 250, 250])\n",
            "processed_label torch.Size([1, 256, 256])\n",
            "unsqueeze torch.Size([1, 1, 1, 256, 256])\n"
          ]
        },
        {
          "name": "stderr",
          "output_type": "stream",
          "text": [
            " 79%|███████▊  | 179/228 [00:21<00:05,  9.11it/s]"
          ]
        },
        {
          "name": "stdout",
          "output_type": "stream",
          "text": [
            "intermediate_spatial_dim tensor([  1, 512, 512])\n",
            "processed_label torch.Size([1, 256, 256])\n",
            "unsqueeze torch.Size([1, 1, 1, 256, 256])\n",
            "intermediate_spatial_dim tensor([  1, 512, 512])\n",
            "processed_label torch.Size([1, 256, 256])\n",
            "unsqueeze torch.Size([1, 1, 1, 256, 256])\n",
            "intermediate_spatial_dim tensor([  1, 250, 250])\n",
            "processed_label torch.Size([1, 256, 256])\n",
            "unsqueeze torch.Size([1, 1, 1, 256, 256])\n",
            "intermediate_spatial_dim tensor([  1, 512, 512])\n",
            "processed_label torch.Size([1, 256, 256])\n",
            "unsqueeze torch.Size([1, 1, 1, 256, 256])\n",
            "intermediate_spatial_dim tensor([  1, 512, 512])\n",
            "processed_label torch.Size([1, 256, 256])\n",
            "unsqueeze torch.Size([1, 1, 1, 256, 256])\n",
            "intermediate_spatial_dim tensor([  1, 250, 250])\n",
            "processed_label torch.Size([1, 256, 256])\n",
            "unsqueeze torch.Size([1, 1, 1, 256, 256])\n"
          ]
        },
        {
          "name": "stderr",
          "output_type": "stream",
          "text": [
            " 79%|███████▉  | 181/228 [00:21<00:05,  8.87it/s]"
          ]
        },
        {
          "name": "stdout",
          "output_type": "stream",
          "text": [
            "intermediate_spatial_dim tensor([  1, 512, 512])\n",
            "processed_label torch.Size([1, 256, 256])\n",
            "unsqueeze torch.Size([1, 1, 1, 256, 256])\n",
            "intermediate_spatial_dim tensor([  1, 512, 512])\n",
            "processed_label torch.Size([1, 256, 256])\n",
            "unsqueeze torch.Size([1, 1, 1, 256, 256])\n",
            "intermediate_spatial_dim tensor([  1, 250, 250])\n",
            "processed_label torch.Size([1, 256, 256])\n",
            "unsqueeze torch.Size([1, 1, 1, 256, 256])\n",
            "intermediate_spatial_dim tensor([  1, 512, 512])\n",
            "processed_label torch.Size([1, 256, 256])\n",
            "unsqueeze torch.Size([1, 1, 1, 256, 256])\n",
            "intermediate_spatial_dim tensor([  1, 512, 512])\n",
            "processed_label torch.Size([1, 256, 256])\n",
            "unsqueeze torch.Size([1, 1, 1, 256, 256])\n",
            "intermediate_spatial_dim tensor([  1, 250, 250])\n",
            "processed_label torch.Size([1, 256, 256])\n",
            "unsqueeze torch.Size([1, 1, 1, 256, 256])\n"
          ]
        },
        {
          "name": "stderr",
          "output_type": "stream",
          "text": [
            " 80%|████████  | 183/228 [00:22<00:05,  8.87it/s]"
          ]
        },
        {
          "name": "stdout",
          "output_type": "stream",
          "text": [
            "intermediate_spatial_dim tensor([  1, 512, 512])\n",
            "processed_label torch.Size([1, 256, 256])\n",
            "unsqueeze torch.Size([1, 1, 1, 256, 256])\n",
            "intermediate_spatial_dim tensor([  1, 512, 512])\n",
            "processed_label torch.Size([1, 256, 256])\n",
            "unsqueeze torch.Size([1, 1, 1, 256, 256])\n",
            "intermediate_spatial_dim tensor([  1, 250, 250])\n",
            "processed_label torch.Size([1, 256, 256])\n",
            "unsqueeze torch.Size([1, 1, 1, 256, 256])\n",
            "intermediate_spatial_dim tensor([  1, 512, 512])\n",
            "processed_label torch.Size([1, 256, 256])\n",
            "unsqueeze torch.Size([1, 1, 1, 256, 256])\n",
            "intermediate_spatial_dim tensor([  1, 512, 512])\n",
            "processed_label torch.Size([1, 256, 256])\n",
            "unsqueeze torch.Size([1, 1, 1, 256, 256])\n",
            "intermediate_spatial_dim tensor([  1, 250, 250])\n",
            "processed_label torch.Size([1, 256, 256])\n",
            "unsqueeze torch.Size([1, 1, 1, 256, 256])\n"
          ]
        },
        {
          "name": "stderr",
          "output_type": "stream",
          "text": [
            " 81%|████████  | 185/228 [00:22<00:05,  8.11it/s]"
          ]
        },
        {
          "name": "stdout",
          "output_type": "stream",
          "text": [
            "intermediate_spatial_dim tensor([  1, 512, 512])\n",
            "processed_label torch.Size([1, 256, 256])\n",
            "unsqueeze torch.Size([1, 1, 1, 256, 256])\n",
            "intermediate_spatial_dim tensor([  1, 512, 512])\n",
            "processed_label torch.Size([1, 256, 256])\n",
            "unsqueeze torch.Size([1, 1, 1, 256, 256])\n",
            "intermediate_spatial_dim tensor([  1, 250, 250])\n",
            "processed_label torch.Size([1, 256, 256])\n",
            "unsqueeze torch.Size([1, 1, 1, 256, 256])\n",
            "intermediate_spatial_dim tensor([  1, 512, 512])\n",
            "processed_label torch.Size([1, 256, 256])\n",
            "unsqueeze torch.Size([1, 1, 1, 256, 256])\n",
            "intermediate_spatial_dim tensor([  1, 512, 512])\n",
            "processed_label torch.Size([1, 256, 256])\n",
            "unsqueeze torch.Size([1, 1, 1, 256, 256])\n",
            "intermediate_spatial_dim tensor([  1, 250, 250])\n",
            "processed_label torch.Size([1, 256, 256])\n",
            "unsqueeze torch.Size([1, 1, 1, 256, 256])\n"
          ]
        },
        {
          "name": "stderr",
          "output_type": "stream",
          "text": [
            " 82%|████████▏ | 187/228 [00:22<00:04,  8.27it/s]"
          ]
        },
        {
          "name": "stdout",
          "output_type": "stream",
          "text": [
            "intermediate_spatial_dim tensor([  1, 512, 512])\n",
            "processed_label torch.Size([1, 256, 256])\n",
            "unsqueeze torch.Size([1, 1, 1, 256, 256])\n",
            "intermediate_spatial_dim tensor([  1, 512, 512])\n",
            "processed_label torch.Size([1, 256, 256])\n",
            "unsqueeze torch.Size([1, 1, 1, 256, 256])\n",
            "intermediate_spatial_dim tensor([  1, 250, 250])\n",
            "processed_label torch.Size([1, 256, 256])\n",
            "unsqueeze torch.Size([1, 1, 1, 256, 256])\n",
            "intermediate_spatial_dim tensor([  1, 512, 512])\n",
            "processed_label torch.Size([1, 256, 256])\n",
            "unsqueeze torch.Size([1, 1, 1, 256, 256])\n",
            "intermediate_spatial_dim tensor([  1, 512, 512])\n",
            "processed_label torch.Size([1, 256, 256])\n",
            "unsqueeze torch.Size([1, 1, 1, 256, 256])\n",
            "intermediate_spatial_dim tensor([  1, 250, 250])\n",
            "processed_label torch.Size([1, 256, 256])\n",
            "unsqueeze torch.Size([1, 1, 1, 256, 256])\n"
          ]
        },
        {
          "name": "stderr",
          "output_type": "stream",
          "text": [
            " 83%|████████▎ | 189/228 [00:22<00:04,  7.90it/s]"
          ]
        },
        {
          "name": "stdout",
          "output_type": "stream",
          "text": [
            "intermediate_spatial_dim tensor([  1, 512, 512])\n",
            "processed_label torch.Size([1, 256, 256])\n",
            "unsqueeze torch.Size([1, 1, 1, 256, 256])\n",
            "intermediate_spatial_dim tensor([  1, 512, 512])\n",
            "processed_label torch.Size([1, 256, 256])\n",
            "unsqueeze torch.Size([1, 1, 1, 256, 256])\n",
            "intermediate_spatial_dim tensor([  1, 250, 250])\n",
            "processed_label torch.Size([1, 256, 256])\n",
            "unsqueeze torch.Size([1, 1, 1, 256, 256])\n",
            "intermediate_spatial_dim tensor([  1, 512, 512])\n",
            "processed_label torch.Size([1, 256, 256])\n",
            "unsqueeze torch.Size([1, 1, 1, 256, 256])\n",
            "intermediate_spatial_dim tensor([  1, 512, 512])\n",
            "processed_label torch.Size([1, 256, 256])\n",
            "unsqueeze torch.Size([1, 1, 1, 256, 256])\n",
            "intermediate_spatial_dim tensor([  1, 250, 250])\n",
            "processed_label torch.Size([1, 256, 256])\n",
            "unsqueeze torch.Size([1, 1, 1, 256, 256])\n"
          ]
        },
        {
          "name": "stderr",
          "output_type": "stream",
          "text": [
            " 84%|████████▍ | 191/228 [00:23<00:04,  8.75it/s]"
          ]
        },
        {
          "name": "stdout",
          "output_type": "stream",
          "text": [
            "intermediate_spatial_dim tensor([  1, 512, 512])\n",
            "processed_label torch.Size([1, 256, 256])\n",
            "unsqueeze torch.Size([1, 1, 1, 256, 256])\n",
            "intermediate_spatial_dim tensor([  1, 512, 512])\n",
            "processed_label torch.Size([1, 256, 256])\n",
            "unsqueeze torch.Size([1, 1, 1, 256, 256])\n",
            "intermediate_spatial_dim tensor([  1, 250, 250])\n",
            "processed_label torch.Size([1, 256, 256])\n",
            "unsqueeze torch.Size([1, 1, 1, 256, 256])\n",
            "intermediate_spatial_dim tensor([  1, 512, 512])\n",
            "processed_label torch.Size([1, 256, 256])\n",
            "unsqueeze torch.Size([1, 1, 1, 256, 256])\n",
            "intermediate_spatial_dim tensor([  1, 512, 512])\n",
            "processed_label torch.Size([1, 256, 256])\n",
            "unsqueeze torch.Size([1, 1, 1, 256, 256])\n",
            "intermediate_spatial_dim tensor([  1, 250, 250])\n",
            "processed_label torch.Size([1, 256, 256])\n",
            "unsqueeze torch.Size([1, 1, 1, 256, 256])\n",
            "intermediate_spatial_dim tensor([  1, 512, 512])\n",
            "processed_label torch.Size([1, 256, 256])\n",
            "unsqueeze torch.Size([1, 1, 1, 256, 256])\n",
            "intermediate_spatial_dim tensor([  1, 512, 512])\n",
            "processed_label torch.Size([1, 256, 256])\n",
            "unsqueeze torch.Size([1, 1, 1, 256, 256])\n"
          ]
        },
        {
          "name": "stderr",
          "output_type": "stream",
          "text": [
            " 85%|████████▍ | 193/228 [00:23<00:03,  9.07it/s]"
          ]
        },
        {
          "name": "stdout",
          "output_type": "stream",
          "text": [
            "intermediate_spatial_dim tensor([  1, 250, 250])\n",
            "processed_label torch.Size([1, 256, 256])\n",
            "unsqueeze torch.Size([1, 1, 1, 256, 256])\n",
            "intermediate_spatial_dim tensor([  1, 512, 512])\n",
            "processed_label torch.Size([1, 256, 256])\n",
            "unsqueeze torch.Size([1, 1, 1, 256, 256])\n",
            "intermediate_spatial_dim tensor([  1, 512, 512])\n",
            "processed_label torch.Size([1, 256, 256])\n",
            "unsqueeze torch.Size([1, 1, 1, 256, 256])\n",
            "intermediate_spatial_dim tensor([  1, 250, 250])\n",
            "processed_label torch.Size([1, 256, 256])\n",
            "unsqueeze torch.Size([1, 1, 1, 256, 256])\n",
            "intermediate_spatial_dim tensor([  1, 512, 512])\n",
            "processed_label torch.Size([1, 256, 256])\n",
            "unsqueeze torch.Size([1, 1, 1, 256, 256])\n",
            "intermediate_spatial_dim tensor([  1, 512, 512])\n",
            "processed_label torch.Size([1, 256, 256])\n",
            "unsqueeze torch.Size([1, 1, 1, 256, 256])\n"
          ]
        },
        {
          "name": "stderr",
          "output_type": "stream",
          "text": [
            " 86%|████████▌ | 195/228 [00:23<00:03,  9.19it/s]"
          ]
        },
        {
          "name": "stdout",
          "output_type": "stream",
          "text": [
            "intermediate_spatial_dim tensor([  1, 251, 251])\n",
            "processed_label torch.Size([1, 256, 256])\n",
            "unsqueeze torch.Size([1, 1, 1, 256, 256])\n",
            "intermediate_spatial_dim tensor([  1, 512, 512])\n",
            "processed_label torch.Size([1, 256, 256])\n",
            "unsqueeze torch.Size([1, 1, 1, 256, 256])\n",
            "intermediate_spatial_dim tensor([  1, 512, 512])\n",
            "processed_label torch.Size([1, 256, 256])\n",
            "unsqueeze torch.Size([1, 1, 1, 256, 256])\n",
            "intermediate_spatial_dim tensor([  1, 251, 251])\n",
            "processed_label torch.Size([1, 256, 256])\n",
            "unsqueeze torch.Size([1, 1, 1, 256, 256])\n",
            "intermediate_spatial_dim tensor([  1, 512, 512])\n",
            "processed_label torch.Size([1, 256, 256])\n",
            "unsqueeze torch.Size([1, 1, 1, 256, 256])\n",
            "intermediate_spatial_dim tensor([  1, 512, 512])\n",
            "processed_label torch.Size([1, 256, 256])\n",
            "unsqueeze torch.Size([1, 1, 1, 256, 256])\n"
          ]
        },
        {
          "name": "stderr",
          "output_type": "stream",
          "text": [
            " 86%|████████▋ | 197/228 [00:23<00:03,  9.01it/s]"
          ]
        },
        {
          "name": "stdout",
          "output_type": "stream",
          "text": [
            "intermediate_spatial_dim tensor([  1, 251, 251])\n",
            "processed_label torch.Size([1, 256, 256])\n",
            "unsqueeze torch.Size([1, 1, 1, 256, 256])\n",
            "intermediate_spatial_dim tensor([  1, 512, 512])\n",
            "processed_label torch.Size([1, 256, 256])\n",
            "unsqueeze torch.Size([1, 1, 1, 256, 256])\n",
            "intermediate_spatial_dim tensor([  1, 512, 512])\n",
            "processed_label torch.Size([1, 256, 256])\n",
            "unsqueeze torch.Size([1, 1, 1, 256, 256])\n",
            "intermediate_spatial_dim tensor([  1, 251, 251])\n",
            "processed_label torch.Size([1, 256, 256])\n",
            "unsqueeze torch.Size([1, 1, 1, 256, 256])\n",
            "intermediate_spatial_dim tensor([  1, 512, 512])\n",
            "processed_label torch.Size([1, 256, 256])\n",
            "unsqueeze torch.Size([1, 1, 1, 256, 256])\n",
            "intermediate_spatial_dim tensor([  1, 512, 512])\n",
            "processed_label torch.Size([1, 256, 256])\n",
            "unsqueeze torch.Size([1, 1, 1, 256, 256])\n"
          ]
        },
        {
          "name": "stderr",
          "output_type": "stream",
          "text": [
            " 87%|████████▋ | 199/228 [00:23<00:03,  9.06it/s]"
          ]
        },
        {
          "name": "stdout",
          "output_type": "stream",
          "text": [
            "intermediate_spatial_dim tensor([  1, 251, 251])\n",
            "processed_label torch.Size([1, 256, 256])\n",
            "unsqueeze torch.Size([1, 1, 1, 256, 256])\n",
            "intermediate_spatial_dim tensor([  1, 512, 512])\n",
            "processed_label torch.Size([1, 256, 256])\n",
            "unsqueeze torch.Size([1, 1, 1, 256, 256])\n",
            "intermediate_spatial_dim tensor([  1, 512, 512])\n",
            "processed_label torch.Size([1, 256, 256])\n",
            "unsqueeze torch.Size([1, 1, 1, 256, 256])\n",
            "intermediate_spatial_dim tensor([  1, 251, 251])\n",
            "processed_label torch.Size([1, 256, 256])\n",
            "unsqueeze torch.Size([1, 1, 1, 256, 256])\n"
          ]
        },
        {
          "name": "stderr",
          "output_type": "stream",
          "text": [
            " 88%|████████▊ | 201/228 [00:24<00:03,  8.18it/s]"
          ]
        },
        {
          "name": "stdout",
          "output_type": "stream",
          "text": [
            "intermediate_spatial_dim tensor([  1, 512, 512])\n",
            "processed_label torch.Size([1, 256, 256])\n",
            "unsqueeze torch.Size([1, 1, 1, 256, 256])\n",
            "intermediate_spatial_dim tensor([  1, 512, 512])\n",
            "processed_label torch.Size([1, 256, 256])\n",
            "unsqueeze torch.Size([1, 1, 1, 256, 256])\n",
            "intermediate_spatial_dim tensor([  1, 251, 251])\n",
            "processed_label torch.Size([1, 256, 256])\n",
            "unsqueeze torch.Size([1, 1, 1, 256, 256])\n",
            "intermediate_spatial_dim tensor([  1, 512, 512])\n",
            "processed_label torch.Size([1, 256, 256])\n",
            "unsqueeze torch.Size([1, 1, 1, 256, 256])\n",
            "intermediate_spatial_dim tensor([  1, 512, 512])\n",
            "processed_label torch.Size([1, 256, 256])\n",
            "unsqueeze torch.Size([1, 1, 1, 256, 256])\n",
            "intermediate_spatial_dim tensor([  1, 251, 251])\n",
            "processed_label torch.Size([1, 256, 256])\n",
            "unsqueeze torch.Size([1, 1, 1, 256, 256])\n"
          ]
        },
        {
          "name": "stderr",
          "output_type": "stream",
          "text": [
            " 89%|████████▉ | 203/228 [00:24<00:02,  8.74it/s]"
          ]
        },
        {
          "name": "stdout",
          "output_type": "stream",
          "text": [
            "intermediate_spatial_dim tensor([  1, 512, 512])\n",
            "processed_label torch.Size([1, 256, 256])\n",
            "unsqueeze torch.Size([1, 1, 1, 256, 256])\n",
            "intermediate_spatial_dim tensor([  1, 512, 512])\n",
            "processed_label torch.Size([1, 256, 256])\n",
            "unsqueeze torch.Size([1, 1, 1, 256, 256])\n",
            "intermediate_spatial_dim tensor([  1, 251, 251])\n",
            "processed_label torch.Size([1, 256, 256])\n",
            "unsqueeze torch.Size([1, 1, 1, 256, 256])\n",
            "intermediate_spatial_dim tensor([  1, 512, 512])\n",
            "processed_label torch.Size([1, 256, 256])\n",
            "unsqueeze torch.Size([1, 1, 1, 256, 256])\n",
            "intermediate_spatial_dim tensor([  1, 512, 512])\n",
            "processed_label torch.Size([1, 256, 256])\n",
            "unsqueeze torch.Size([1, 1, 1, 256, 256])\n",
            "intermediate_spatial_dim tensor([  1, 251, 251])\n",
            "processed_label torch.Size([1, 256, 256])\n",
            "unsqueeze torch.Size([1, 1, 1, 256, 256])\n"
          ]
        },
        {
          "name": "stderr",
          "output_type": "stream",
          "text": [
            " 90%|████████▉ | 205/228 [00:24<00:02,  8.76it/s]"
          ]
        },
        {
          "name": "stdout",
          "output_type": "stream",
          "text": [
            "intermediate_spatial_dim tensor([  1, 512, 512])\n",
            "processed_label torch.Size([1, 256, 256])\n",
            "unsqueeze torch.Size([1, 1, 1, 256, 256])\n",
            "intermediate_spatial_dim tensor([  1, 512, 512])\n",
            "processed_label torch.Size([1, 256, 256])\n",
            "unsqueeze torch.Size([1, 1, 1, 256, 256])\n",
            "intermediate_spatial_dim tensor([  1, 251, 251])\n",
            "processed_label torch.Size([1, 256, 256])\n",
            "unsqueeze torch.Size([1, 1, 1, 256, 256])\n",
            "intermediate_spatial_dim tensor([  1, 512, 512])\n",
            "processed_label torch.Size([1, 256, 256])\n",
            "unsqueeze torch.Size([1, 1, 1, 256, 256])\n",
            "intermediate_spatial_dim tensor([  1, 512, 512])\n",
            "processed_label torch.Size([1, 256, 256])\n",
            "unsqueeze torch.Size([1, 1, 1, 256, 256])\n",
            "intermediate_spatial_dim tensor([  1, 251, 251])\n",
            "processed_label torch.Size([1, 256, 256])\n",
            "unsqueeze torch.Size([1, 1, 1, 256, 256])\n"
          ]
        },
        {
          "name": "stderr",
          "output_type": "stream",
          "text": [
            " 91%|█████████ | 207/228 [00:24<00:02,  9.02it/s]"
          ]
        },
        {
          "name": "stdout",
          "output_type": "stream",
          "text": [
            "intermediate_spatial_dim tensor([  1, 512, 512])\n",
            "processed_label torch.Size([1, 256, 256])\n",
            "unsqueeze torch.Size([1, 1, 1, 256, 256])\n",
            "intermediate_spatial_dim tensor([  1, 512, 512])\n",
            "processed_label torch.Size([1, 256, 256])\n",
            "unsqueeze torch.Size([1, 1, 1, 256, 256])\n",
            "intermediate_spatial_dim tensor([  1, 251, 251])\n",
            "processed_label torch.Size([1, 256, 256])\n",
            "unsqueeze torch.Size([1, 1, 1, 256, 256])\n",
            "intermediate_spatial_dim tensor([  1, 512, 512])\n",
            "processed_label torch.Size([1, 256, 256])\n",
            "unsqueeze torch.Size([1, 1, 1, 256, 256])\n",
            "intermediate_spatial_dim tensor([  1, 512, 512])\n",
            "processed_label torch.Size([1, 256, 256])\n",
            "unsqueeze torch.Size([1, 1, 1, 256, 256])\n",
            "intermediate_spatial_dim tensor([  1, 251, 251])\n",
            "processed_label torch.Size([1, 256, 256])\n",
            "unsqueeze torch.Size([1, 1, 1, 256, 256])\n"
          ]
        },
        {
          "name": "stderr",
          "output_type": "stream",
          "text": [
            " 92%|█████████▏| 209/228 [00:25<00:02,  8.88it/s]"
          ]
        },
        {
          "name": "stdout",
          "output_type": "stream",
          "text": [
            "intermediate_spatial_dim tensor([  1, 512, 512])\n",
            "processed_label torch.Size([1, 256, 256])\n",
            "unsqueeze torch.Size([1, 1, 1, 256, 256])\n",
            "intermediate_spatial_dim tensor([  1, 512, 512])\n",
            "processed_label torch.Size([1, 256, 256])\n",
            "unsqueeze torch.Size([1, 1, 1, 256, 256])\n",
            "intermediate_spatial_dim tensor([  1, 251, 251])\n",
            "processed_label torch.Size([1, 256, 256])\n",
            "unsqueeze torch.Size([1, 1, 1, 256, 256])\n",
            "intermediate_spatial_dim tensor([  1, 512, 512])\n",
            "processed_label torch.Size([1, 256, 256])\n",
            "unsqueeze torch.Size([1, 1, 1, 256, 256])\n",
            "intermediate_spatial_dim tensor([  1, 512, 512])\n",
            "processed_label torch.Size([1, 256, 256])\n",
            "unsqueeze torch.Size([1, 1, 1, 256, 256])\n",
            "intermediate_spatial_dim tensor([  1, 251, 251])\n",
            "processed_label torch.Size([1, 256, 256])\n",
            "unsqueeze torch.Size([1, 1, 1, 256, 256])\n"
          ]
        },
        {
          "name": "stderr",
          "output_type": "stream",
          "text": [
            " 93%|█████████▎| 211/228 [00:25<00:01,  8.87it/s]"
          ]
        },
        {
          "name": "stdout",
          "output_type": "stream",
          "text": [
            "intermediate_spatial_dim tensor([  1, 512, 512])\n",
            "processed_label torch.Size([1, 256, 256])\n",
            "unsqueeze torch.Size([1, 1, 1, 256, 256])\n",
            "intermediate_spatial_dim tensor([  1, 512, 512])\n",
            "processed_label torch.Size([1, 256, 256])\n",
            "unsqueeze torch.Size([1, 1, 1, 256, 256])\n",
            "intermediate_spatial_dim tensor([  1, 251, 251])\n",
            "processed_label torch.Size([1, 256, 256])\n",
            "unsqueeze torch.Size([1, 1, 1, 256, 256])\n",
            "intermediate_spatial_dim tensor([  1, 512, 512])\n",
            "processed_label torch.Size([1, 256, 256])\n",
            "unsqueeze torch.Size([1, 1, 1, 256, 256])\n",
            "intermediate_spatial_dim tensor([  1, 512, 512])\n",
            "processed_label torch.Size([1, 256, 256])\n",
            "unsqueeze torch.Size([1, 1, 1, 256, 256])\n",
            "intermediate_spatial_dim tensor([  1, 251, 251])\n",
            "processed_label torch.Size([1, 256, 256])\n",
            "unsqueeze torch.Size([1, 1, 1, 256, 256])\n"
          ]
        },
        {
          "name": "stderr",
          "output_type": "stream",
          "text": [
            " 93%|█████████▎| 213/228 [00:25<00:01,  8.86it/s]"
          ]
        },
        {
          "name": "stdout",
          "output_type": "stream",
          "text": [
            "intermediate_spatial_dim tensor([  1, 512, 512])\n",
            "processed_label torch.Size([1, 256, 256])\n",
            "unsqueeze torch.Size([1, 1, 1, 256, 256])\n",
            "intermediate_spatial_dim tensor([  1, 512, 512])\n",
            "processed_label torch.Size([1, 256, 256])\n",
            "unsqueeze torch.Size([1, 1, 1, 256, 256])\n",
            "intermediate_spatial_dim tensor([  1, 251, 251])\n",
            "processed_label torch.Size([1, 256, 256])\n",
            "unsqueeze torch.Size([1, 1, 1, 256, 256])\n",
            "intermediate_spatial_dim tensor([  1, 512, 512])\n",
            "processed_label torch.Size([1, 256, 256])\n",
            "unsqueeze torch.Size([1, 1, 1, 256, 256])\n",
            "intermediate_spatial_dim tensor([  1, 512, 512])\n",
            "processed_label torch.Size([1, 256, 256])\n",
            "unsqueeze torch.Size([1, 1, 1, 256, 256])\n",
            "intermediate_spatial_dim tensor([  1, 251, 251])\n",
            "processed_label torch.Size([1, 256, 256])\n",
            "unsqueeze torch.Size([1, 1, 1, 256, 256])\n"
          ]
        },
        {
          "name": "stderr",
          "output_type": "stream",
          "text": [
            " 94%|█████████▍| 215/228 [00:25<00:01,  8.68it/s]"
          ]
        },
        {
          "name": "stdout",
          "output_type": "stream",
          "text": [
            "intermediate_spatial_dim tensor([  1, 512, 512])\n",
            "processed_label torch.Size([1, 256, 256])\n",
            "unsqueeze torch.Size([1, 1, 1, 256, 256])\n",
            "intermediate_spatial_dim tensor([  1, 512, 512])\n",
            "processed_label torch.Size([1, 256, 256])\n",
            "unsqueeze torch.Size([1, 1, 1, 256, 256])\n",
            "intermediate_spatial_dim tensor([  1, 251, 251])\n",
            "processed_label torch.Size([1, 256, 256])\n",
            "unsqueeze torch.Size([1, 1, 1, 256, 256])\n",
            "intermediate_spatial_dim tensor([  1, 512, 512])\n",
            "processed_label torch.Size([1, 256, 256])\n",
            "unsqueeze torch.Size([1, 1, 1, 256, 256])\n",
            "intermediate_spatial_dim tensor([  1, 512, 512])\n",
            "processed_label torch.Size([1, 256, 256])\n",
            "unsqueeze torch.Size([1, 1, 1, 256, 256])\n",
            "intermediate_spatial_dim tensor([  1, 252, 252])\n",
            "processed_label torch.Size([1, 256, 256])\n",
            "unsqueeze torch.Size([1, 1, 1, 256, 256])\n",
            "intermediate_spatial_dim tensor([  1, 251, 251])\n",
            "processed_label torch.Size([1, 256, 256])\n",
            "unsqueeze torch.Size([1, 1, 1, 256, 256])\n"
          ]
        },
        {
          "name": "stderr",
          "output_type": "stream",
          "text": [
            " 95%|█████████▌| 217/228 [00:26<00:01,  7.84it/s]"
          ]
        },
        {
          "name": "stdout",
          "output_type": "stream",
          "text": [
            "intermediate_spatial_dim tensor([  1, 512, 512])\n",
            "processed_label torch.Size([1, 256, 256])\n",
            "unsqueeze torch.Size([1, 1, 1, 256, 256])\n",
            "intermediate_spatial_dim tensor([  1, 512, 512])\n",
            "processed_label torch.Size([1, 256, 256])\n",
            "unsqueeze torch.Size([1, 1, 1, 256, 256])\n",
            "intermediate_spatial_dim tensor([  1, 251, 251])\n",
            "processed_label torch.Size([1, 256, 256])\n",
            "unsqueeze torch.Size([1, 1, 1, 256, 256])\n",
            "intermediate_spatial_dim tensor([  1, 512, 512])\n",
            "processed_label torch.Size([1, 256, 256])\n",
            "unsqueeze torch.Size([1, 1, 1, 256, 256])\n",
            "intermediate_spatial_dim tensor([  1, 512, 512])\n",
            "processed_label torch.Size([1, 256, 256])\n",
            "unsqueeze torch.Size([1, 1, 1, 256, 256])\n",
            "intermediate_spatial_dim tensor([  1, 251, 251])\n",
            "processed_label torch.Size([1, 256, 256])\n",
            "unsqueeze torch.Size([1, 1, 1, 256, 256])\n"
          ]
        },
        {
          "name": "stderr",
          "output_type": "stream",
          "text": [
            " 96%|█████████▌| 219/228 [00:26<00:01,  8.66it/s]"
          ]
        },
        {
          "name": "stdout",
          "output_type": "stream",
          "text": [
            "intermediate_spatial_dim tensor([  1, 512, 512])\n",
            "processed_label torch.Size([1, 256, 256])\n",
            "unsqueeze torch.Size([1, 1, 1, 256, 256])\n",
            "intermediate_spatial_dim tensor([  1, 512, 512])\n",
            "processed_label torch.Size([1, 256, 256])\n",
            "unsqueeze torch.Size([1, 1, 1, 256, 256])\n",
            "intermediate_spatial_dim tensor([  1, 251, 251])\n",
            "processed_label torch.Size([1, 256, 256])\n",
            "unsqueeze torch.Size([1, 1, 1, 256, 256])\n",
            "intermediate_spatial_dim tensor([  1, 512, 512])\n",
            "processed_label torch.Size([1, 256, 256])\n",
            "unsqueeze torch.Size([1, 1, 1, 256, 256])\n",
            "intermediate_spatial_dim tensor([  1, 512, 512])\n",
            "processed_label torch.Size([1, 256, 256])\n",
            "unsqueeze torch.Size([1, 1, 1, 256, 256])\n",
            "intermediate_spatial_dim tensor([  1, 252, 252])\n",
            "processed_label torch.Size([1, 256, 256])\n",
            "unsqueeze torch.Size([1, 1, 1, 256, 256])\n"
          ]
        },
        {
          "name": "stderr",
          "output_type": "stream",
          "text": [
            " 97%|█████████▋| 221/228 [00:26<00:00,  8.80it/s]"
          ]
        },
        {
          "name": "stdout",
          "output_type": "stream",
          "text": [
            "intermediate_spatial_dim tensor([  1, 512, 512])\n",
            "processed_label torch.Size([1, 256, 256])\n",
            "unsqueeze torch.Size([1, 1, 1, 256, 256])\n",
            "intermediate_spatial_dim tensor([  1, 512, 512])\n",
            "processed_label torch.Size([1, 256, 256])\n",
            "unsqueeze torch.Size([1, 1, 1, 256, 256])\n",
            "intermediate_spatial_dim tensor([  1, 252, 252])\n",
            "processed_label torch.Size([1, 256, 256])\n",
            "unsqueeze torch.Size([1, 1, 1, 256, 256])\n",
            "intermediate_spatial_dim tensor([  1, 512, 512])\n",
            "processed_label torch.Size([1, 256, 256])\n",
            "unsqueeze torch.Size([1, 1, 1, 256, 256])\n",
            "intermediate_spatial_dim tensor([  1, 512, 512])\n",
            "processed_label torch.Size([1, 256, 256])\n",
            "unsqueeze torch.Size([1, 1, 1, 256, 256])\n",
            "intermediate_spatial_dim tensor([  1, 252, 252])\n",
            "processed_label torch.Size([1, 256, 256])\n",
            "unsqueeze torch.Size([1, 1, 1, 256, 256])\n"
          ]
        },
        {
          "name": "stderr",
          "output_type": "stream",
          "text": [
            " 98%|█████████▊| 223/228 [00:26<00:00,  8.86it/s]"
          ]
        },
        {
          "name": "stdout",
          "output_type": "stream",
          "text": [
            "intermediate_spatial_dim tensor([  1, 512, 512])\n",
            "processed_label torch.Size([1, 256, 256])\n",
            "unsqueeze torch.Size([1, 1, 1, 256, 256])\n",
            "intermediate_spatial_dim tensor([  1, 512, 512])\n",
            "processed_label torch.Size([1, 256, 256])\n",
            "unsqueeze torch.Size([1, 1, 1, 256, 256])\n",
            "intermediate_spatial_dim tensor([  1, 252, 252])\n",
            "processed_label torch.Size([1, 256, 256])\n",
            "unsqueeze torch.Size([1, 1, 1, 256, 256])\n",
            "intermediate_spatial_dim tensor([  1, 512, 512])\n",
            "processed_label torch.Size([1, 256, 256])\n",
            "unsqueeze torch.Size([1, 1, 1, 256, 256])\n",
            "intermediate_spatial_dim tensor([  1, 512, 512])\n",
            "processed_label torch.Size([1, 256, 256])\n",
            "unsqueeze torch.Size([1, 1, 1, 256, 256])\n",
            "intermediate_spatial_dim tensor([  1, 252, 252])\n",
            "processed_label torch.Size([1, 256, 256])\n",
            "unsqueeze torch.Size([1, 1, 1, 256, 256])\n"
          ]
        },
        {
          "name": "stderr",
          "output_type": "stream",
          "text": [
            " 99%|█████████▊| 225/228 [00:26<00:00,  8.92it/s]"
          ]
        },
        {
          "name": "stdout",
          "output_type": "stream",
          "text": [
            "intermediate_spatial_dim tensor([  1, 512, 512])\n",
            "processed_label torch.Size([1, 256, 256])\n",
            "unsqueeze torch.Size([1, 1, 1, 256, 256])\n",
            "intermediate_spatial_dim tensor([  1, 512, 512])\n",
            "processed_label torch.Size([1, 256, 256])\n",
            "unsqueeze torch.Size([1, 1, 1, 256, 256])\n",
            "intermediate_spatial_dim tensor([  1, 252, 252])\n",
            "processed_label torch.Size([1, 256, 256])\n",
            "unsqueeze torch.Size([1, 1, 1, 256, 256])\n",
            "intermediate_spatial_dim tensor([  1, 512, 512])\n",
            "processed_label torch.Size([1, 256, 256])\n",
            "unsqueeze torch.Size([1, 1, 1, 256, 256])\n",
            "intermediate_spatial_dim tensor([  1, 512, 512])\n",
            "processed_label torch.Size([1, 256, 256])\n",
            "unsqueeze torch.Size([1, 1, 1, 256, 256])\n",
            "intermediate_spatial_dim tensor([  1, 253, 253])\n",
            "processed_label torch.Size([1, 256, 256])\n",
            "unsqueeze torch.Size([1, 1, 1, 256, 256])\n"
          ]
        },
        {
          "name": "stderr",
          "output_type": "stream",
          "text": [
            "100%|██████████| 228/228 [00:27<00:00,  8.41it/s]"
          ]
        },
        {
          "name": "stdout",
          "output_type": "stream",
          "text": [
            "intermediate_spatial_dim tensor([  1, 512, 512])\n",
            "processed_label torch.Size([1, 256, 256])\n",
            "unsqueeze torch.Size([1, 1, 1, 256, 256])\n",
            "intermediate_spatial_dim tensor([  1, 512, 512])\n",
            "processed_label torch.Size([1, 256, 256])\n",
            "unsqueeze torch.Size([1, 1, 1, 256, 256])\n",
            "intermediate_spatial_dim tensor([  1, 253, 253])\n",
            "processed_label torch.Size([1, 256, 256])\n",
            "unsqueeze torch.Size([1, 1, 1, 256, 256])\n",
            "intermediate_spatial_dim tensor([  1, 512, 512])\n",
            "processed_label torch.Size([1, 256, 256])\n",
            "unsqueeze torch.Size([1, 1, 1, 256, 256])\n",
            "intermediate_spatial_dim tensor([  1, 512, 512])\n",
            "processed_label torch.Size([1, 256, 256])\n",
            "unsqueeze torch.Size([1, 1, 1, 256, 256])\n"
          ]
        },
        {
          "name": "stderr",
          "output_type": "stream",
          "text": [
            "\n"
          ]
        },
        {
          "name": "stdout",
          "output_type": "stream",
          "text": [
            "filtering\n",
            "num features: 0\n",
            "fine\n",
            "Mean Inference Time per Volume: 20.1974 seconds\n",
            "Standard Deviation of Inference Time per Volume: 9.0298 seconds\n",
            "Mean Inference Time per Slice: 0.1088 seconds\n",
            "Standard Deviation of Inference Time per Slice: 0.0498 seconds\n",
            "Frames per second (FPS): 9.19\n",
            "Mean Memory Usage per Volume: 243.87 MB\n",
            "Standard Deviation of Memory Usage: 0.00 MB\n",
            "MODEL CLASS MEAN IOU  0.49928916\n",
            "MODEL CLASS STD IOU  0.000760221\n",
            "\n",
            "MODEL CLASS MEAN DICE  0.49964407\n",
            "MODEL CLASS STD DICE  0.00038089982\n",
            "\n",
            "MODEL DIOU 0.0\n",
            "MODEL DIOU STD  0.0\n",
            "\n",
            "MODEL IOU MASS VOLUME  0.8157894611358643\n",
            "MODEL IOU MASS VOLUME STD  0.3876558\n",
            "\n",
            "MODEL IOU MASS VOLUME NO EMPTY  0.0\n",
            "MODEL IOU MASS VOLUME NO EMPTY STD  0.0\n",
            "\n",
            "MODEL IOU MASS VOLUME NO EMPTY OPTIMISTIC  0.0\n",
            "MODEL IOU MASS VOLUME NO EMPTY OPTIMISTIC STD  0.0\n",
            "MODEL DICE MASS VOLUME  0.8157894611358643\n",
            "MODEL DICE MASS VOLUME STD  0.3876558\n",
            "\n",
            "MODEL DICE MASS VOLUME NO EMPTY  0.0\n",
            "MODEL DICE MASS VOLUME NO EMPTY STD  0.0\n",
            "\n",
            "MODEL DICE MASS VOLUME NO EMPTY OPTIMISTIC  0.0\n",
            "MODEL DICE MASS VOLUME NO EMPTY OPTIMISTIC STD  0.0\n",
            "\n",
            "MODEL MEAN ACCURACY NO EMPTY 0.4998690187931061\n",
            "MODEL MEAN ACCURACY NO EMPTY STD 0.00042707648\n",
            "\n",
            "MODEL MEAN PRECISION NO EMPTY nan\n",
            "MODEL MEAN PRECISION NO EMPTY STD nan\n",
            "\n",
            "MODEL MEAN RECALL NO EMPTY 0.5\n",
            "MODEL MEAN RECALL NO EMPTY STD 0.0\n",
            "\n",
            "MODEL MEAN F1 NO EMPTY 0.49964404\n",
            "MODEL MEAN F1 NO EMPTY STD 0.00038089984\n",
            "\n",
            "MODEL ACCURACY EXCLUDING CASES  0.9985783100128174\n",
            "MODEL ACCURACY EXCLUDING CASES STD  0.001520442\n",
            "\n",
            "MODEL PRECISION EXCLUDING CASES  nan\n",
            "MODEL PRECISION EXCLUDING CASES STD  nan\n",
            "\n",
            "MODEL RECALL EXCLUDING CASES  0.0\n",
            "MODEL RECALL EXCLUDING CASES STD  0.0\n",
            "\n",
            "MODEL ACCURACY NO EMPTY  0.0\n",
            "MODEL ACCURACY NO EMPTY STD  0.0\n",
            "\n",
            "MODEL PRECISION NO EMPTY nan\n",
            "MODEL PRECISION NO EMPTY STD  nan\n",
            "\n",
            "MODEL RECALL NO EMPTY  0.0\n",
            "MODEL RECALL NO EMPTY STD  0.0\n",
            "\n",
            "MODEL F1 NO EMPTY  0.0\n",
            "MODEL F1 NO EMPTY STD  0.0\n",
            "\n",
            "\n",
            "VENUS Large + ResNet18 patches (filtered) Results:\n",
            "None\n",
            "\n",
            "Completed 0 ensemble model tests.\n"
          ]
        }
      ],
      "source": [
        "ensemble_tests = [\n",
        "\n",
        "    ('venus_large', 'resnet18-patches', False, 64, 'VENUS Large + ResNet18 patches'),\n",
        "    ('venus_large', 'resnet18-patches', True, 64, 'VENUS Large + ResNet18 patches (filtered)'),\n",
        "]\n",
        "\n",
        "\n",
        "ensemble_results = {}\n",
        "for whole_key, patches_key, use_filter, base_channels, description in ensemble_tests:\n",
        "    if os.path.exists(model_paths[whole_key]) and os.path.exists(model_paths[patches_key]):\n",
        "        print(f\"Testing Ensemble: {description}...\")\n",
        "        \n",
        "        result = test_dataset_aware_ensemble(\n",
        "            model_whole_path=model_paths[whole_key],\n",
        "            model_patches_path=model_paths[patches_key],\n",
        "            patient_ids=x_test,\n",
        "            datasets=datasets,\n",
        "            whole_dataset_key=\"no_thorax_sub_test_ds\",\n",
        "            patches_dataset_key=\"patches_sub_test_ds\",\n",
        "            filter=use_filter,\n",
        "            get_scores_for_statistics=False,\n",
        "            get_only_masses=False,\n",
        "            subtracted=True,\n",
        "            base_channels=base_channels\n",
        "        )\n",
        "        \n",
        "        ensemble_key = f\"{whole_key}+{patches_key}{'_filtered' if use_filter else ''}\"\n",
        "        ensemble_results[ensemble_key] = result\n",
        "        print(f\"\\n{description} Results:\")\n",
        "        pp.pprint(result)\n",
        "    else:\n",
        "        print(f\"Required models not found for ensemble: {description}\")\n",
        "        ensemble_key = f\"{whole_key}+{patches_key}{'_filtered' if use_filter else ''}\"\n",
        "        ensemble_results[ensemble_key] = None\n",
        "\n",
        "print(f\"\\nCompleted {len([r for r in ensemble_results.values() if r is not None])} ensemble model tests.\")\n"
      ]
    }
  ],
  "metadata": {
    "kernelspec": {
      "display_name": "venus-nCPuPPcI-py3.9",
      "language": "python",
      "name": "python3"
    },
    "language_info": {
      "codemirror_mode": {
        "name": "ipython",
        "version": 3
      },
      "file_extension": ".py",
      "mimetype": "text/x-python",
      "name": "python",
      "nbconvert_exporter": "python",
      "pygments_lexer": "ipython3",
      "version": "3.9.19"
    }
  },
  "nbformat": 4,
  "nbformat_minor": 2
}
