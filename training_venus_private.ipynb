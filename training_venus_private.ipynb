{
  "cells": [
    {
      "cell_type": "markdown",
      "metadata": {},
      "source": [
        "# VENUS FUSION TRAINING NOTEBOOK - PRIVATE DATASET\n",
        "\n",
        "This notebook implements breast segmentation using the VENUS model with multi-scale patch processing on the private dataset.\n"
      ]
    },
    {
      "cell_type": "markdown",
      "metadata": {},
      "source": [
        "## 1. Installs & Imports\n"
      ]
    },
    {
      "cell_type": "code",
      "execution_count": 1,
      "metadata": {},
      "outputs": [
        {
          "name": "stderr",
          "output_type": "stream",
          "text": [
            "c:\\Users\\pabli\\AppData\\Local\\pypoetry\\Cache\\virtualenvs\\venus-nCPuPPcI-py3.9\\lib\\site-packages\\ignite\\handlers\\checkpoint.py:17: DeprecationWarning: `TorchScript` support for functional optimizers is deprecated and will be removed in a future PyTorch release. Consider using the `torch.compile` optimizer instead.\n",
            "  from torch.distributed.optim import ZeroRedundancyOptimizer\n"
          ]
        },
        {
          "name": "stdout",
          "output_type": "stream",
          "text": [
            "MONAI version: 1.6.dev2535\n",
            "Numpy version: 2.0.2\n",
            "Pytorch version: 2.5.1+cu121\n",
            "MONAI flags: HAS_EXT = False, USE_COMPILED = False, USE_META_DICT = False\n",
            "MONAI rev id: 8e677816bfd1fb2ec541d7f951db4caaf210b150\n",
            "MONAI __file__: c:\\Users\\<username>\\AppData\\Local\\pypoetry\\Cache\\virtualenvs\\venus-nCPuPPcI-py3.9\\lib\\site-packages\\monai\\__init__.py\n",
            "\n",
            "Optional dependencies:\n",
            "Pytorch Ignite version: 0.4.11\n",
            "ITK version: NOT INSTALLED or UNKNOWN VERSION.\n",
            "Nibabel version: 5.3.2\n",
            "scikit-image version: 0.24.0\n",
            "scipy version: 1.13.1\n",
            "Pillow version: 11.3.0\n",
            "Tensorboard version: NOT INSTALLED or UNKNOWN VERSION.\n",
            "gdown version: 5.2.0\n",
            "TorchVision version: 0.20.1+cu121\n",
            "tqdm version: 4.67.1\n",
            "lmdb version: NOT INSTALLED or UNKNOWN VERSION.\n",
            "psutil version: 7.0.0\n",
            "pandas version: NOT INSTALLED or UNKNOWN VERSION.\n",
            "einops version: 0.8.1\n",
            "transformers version: NOT INSTALLED or UNKNOWN VERSION.\n",
            "mlflow version: NOT INSTALLED or UNKNOWN VERSION.\n",
            "pynrrd version: NOT INSTALLED or UNKNOWN VERSION.\n",
            "clearml version: NOT INSTALLED or UNKNOWN VERSION.\n",
            "\n",
            "For details about installing the optional dependencies, please visit:\n",
            "    https://docs.monai.io/en/latest/installation.html#installing-the-recommended-dependencies\n",
            "\n"
          ]
        }
      ],
      "source": [
        "# Standard libraries\n",
        "import os\n",
        "import json\n",
        "import glob\n",
        "import shutil\n",
        "import tempfile\n",
        "import random\n",
        "import warnings\n",
        "import pprint\n",
        "import copy\n",
        "pp = pprint.PrettyPrinter(indent=4)\n",
        "\n",
        "# Third-party libraries\n",
        "import torch\n",
        "import numpy as np\n",
        "import matplotlib.pyplot as plt\n",
        "import cv2\n",
        "import nibabel as nib\n",
        "import albumentations as A\n",
        "import segmentation_models_pytorch as smp\n",
        "import torch.nn as nn\n",
        "import torch.nn.functional as F\n",
        "from skimage import filters\n",
        "from skimage.measure import label as label_fn, regionprops\n",
        "from skimage import morphology\n",
        "from sklearn.model_selection import train_test_split\n",
        "from copy import deepcopy\n",
        "from tqdm.notebook import tqdm\n",
        "\n",
        "# MONAI related imports\n",
        "from monai.config import print_config\n",
        "from monai.networks.nets import UNet, SwinUNETR, BasicUNetPlusPlus\n",
        "from monai.networks.layers import Norm\n",
        "from monai.metrics import DiceMetric\n",
        "from monai.losses import DiceLoss, DiceCELoss\n",
        "from monai.inferers import sliding_window_inference\n",
        "from monai.data import CacheDataset, DataLoader, Dataset, decollate_batch\n",
        "from monai.transforms import (\n",
        "    AsDiscrete, AsDiscreted, EnsureChannelFirstd, Compose, CropForegroundd,\n",
        "    LoadImaged, Orientationd, RandCropByPosNegLabeld, SaveImaged, ScaleIntensityRanged,\n",
        "    Spacingd, Invertd, ResizeWithPadOrCropd, Resized, MapTransform, ScaleIntensityd,\n",
        "    LabelToContourd, ForegroundMaskd, HistogramNormalized, RandFlipd, RandGridDistortiond,\n",
        "    RandHistogramShiftd, RandRotated\n",
        ")\n",
        "from monai.handlers.utils import from_engine\n",
        "from monai.utils.type_conversion import convert_to_numpy\n",
        "\n",
        "# PyTorch Lightning related imports\n",
        "import lightning.pytorch as L\n",
        "from lightning.pytorch.callbacks.early_stopping import EarlyStopping\n",
        "from lightning.pytorch.callbacks.model_checkpoint import ModelCheckpoint\n",
        "from lightning.pytorch import seed_everything\n",
        "\n",
        "# \n",
        "\n",
        "from natsort import natsorted, ns\n",
        "from PIL import Image\n",
        "from numpy import einsum\n",
        "from torch.utils.data import default_collate\n",
        "import psutil\n",
        "from typing import List, Tuple\n",
        "import monai\n",
        "\n",
        "# Import modules\n",
        "from breast_segmentation.config.settings import config\n",
        "from breast_segmentation.utils.seed import set_deterministic_mode, seed_worker, reseed\n",
        "\n",
        "from breast_segmentation.data.private_dataset import (\n",
        "    PATIENT_INFO, get_filenames, get_train_val_test_dicts, PATIENTS_TO_EXCLUDE,\n",
        "    filter_samples_sample_aware, filter_samples_to_exclude, get_samples_size\n",
        ")\n",
        "\n",
        "from breast_segmentation.data.dataset import PairedDataset, PairedDataLoader\n",
        "\n",
        "\n",
        "from breast_segmentation.data import custom_collate_no_patches, custom_collate\n",
        "from breast_segmentation.transforms.compose import Preprocess\n",
        "from breast_segmentation.models.fusion_module import BreastFusionModel\n",
        "from breast_segmentation.models.lightning_module import BreastSegmentationModel\n",
        "from breast_segmentation.models.architectures import get_model, VENUS\n",
        "from breast_segmentation.metrics.losses import (\n",
        "    get_loss_function, CrossEntropy2d, compute_class_weight, \n",
        "    AsymmetricUnifiedFocalLoss, CABFL\n",
        ")\n",
        "\n",
        "\n",
        "# Import additional loss functions used in original\n",
        "from monai.losses import DiceLoss, DiceCELoss\n",
        "\n",
        "# Set precision for matmul operations and print MONAI config\n",
        "torch.set_float32_matmul_precision('medium')\n",
        "print_config()\n",
        "\n",
        "# Define converter function to avoid pickling issues with lambda\n",
        "def convert_to_grayscale(image):\n",
        "    \"\"\"Convert PIL image to grayscale - replaces lambda for pickling compatibility.\"\"\"\n",
        "    return image.convert(\"L\")\n"
      ]
    },
    {
      "cell_type": "markdown",
      "metadata": {},
      "source": [
        "## 2. Environment Setup\n"
      ]
    },
    {
      "cell_type": "code",
      "execution_count": 2,
      "metadata": {},
      "outputs": [
        {
          "name": "stdout",
          "output_type": "stream",
          "text": [
            "Using device: cuda\n"
          ]
        }
      ],
      "source": [
        "# Settings\n",
        "NUM_WORKERS = os.cpu_count()\n",
        "SEED = 200\n",
        "USE_SUBTRACTED = True\n",
        "batch_size = 32\n",
        "\n",
        "# Data paths\n",
        "dataset_base_path = \"Dataset-arrays-4-FINAL\"\n",
        "CHECKPOINTS_DIR = \"./checkpoints/private-dataset\"\n",
        "\n",
        "# Device\n",
        "device = torch.device(\"cuda\" if torch.cuda.is_available() else \"cpu\")\n",
        "print(f\"Using device: {device}\")\n",
        "\n",
        "# Set seeds\n",
        "torch.manual_seed(SEED)\n",
        "np.random.seed(SEED)\n",
        "if torch.cuda.is_available():\n",
        "    torch.cuda.manual_seed(SEED)"
      ]
    },
    {
      "cell_type": "markdown",
      "metadata": {},
      "source": [
        "## 3. Data Preparation\n"
      ]
    },
    {
      "cell_type": "code",
      "execution_count": 3,
      "metadata": {},
      "outputs": [
        {
          "name": "stdout",
          "output_type": "stream",
          "text": [
            "Using private dataset backend functions\n",
            "Initial patients from PATIENT_INFO: 103\n",
            "Patients after exclusion: 103\n",
            "Dataset base path: Dataset-arrays-4-FINAL\n",
            "Total patients: 103\n",
            "Train patients: 61\n",
            "Validation patients: 21\n",
            "Test patients: 21\n",
            "Test patient IDs: ['TE0966', 'ASMK0783', 'BP130964', 'SD0462', 'PS0446(1,5)', 'GMG0961(3)', 'PV0781', 'MS0478', 'D2MP3(VR)', 'GA07(DF)', 'CS300759', 'BNB1172(DF)', 'RP271052', 'RP0178', 'BD0510', 'DBR270865', 'PRP0185', 'MP140270', 'GP0454', 'DMA0247', 'VS0976(1,5)']\n",
            "3456\n",
            "3968\n",
            "4108\n"
          ]
        }
      ],
      "source": [
        "print(\"Using private dataset backend functions\")\n",
        "\n",
        "\n",
        "patient_ids = list(PATIENT_INFO.keys())\n",
        "\n",
        "# Apply exclusions\n",
        "print(f\"Initial patients from PATIENT_INFO: {len(patient_ids)}\")\n",
        "print(f\"Patients after exclusion: {len(patient_ids)}\")\n",
        "\n",
        "\n",
        "x_train_val, x_test = train_test_split(patient_ids, test_size=0.2, random_state=SEED)\n",
        "x_train, x_val = train_test_split(x_train_val, test_size=0.25, random_state=SEED)\n",
        "train_dicts, val_dicts,test_dicts = get_train_val_test_dicts(dataset_base_path, x_train,x_val,x_test)\n",
        "print(f\"Dataset base path: {dataset_base_path}\")\n",
        "print(f\"Total patients: {len(patient_ids)}\")\n",
        "print(f\"Train patients: {len(x_train)}\")\n",
        "print(f\"Validation patients: {len(x_val)}\")\n",
        "print(f\"Test patients: {len(x_test)}\")\n",
        "print(f\"Test patient IDs: {x_test}\")\n",
        "\n",
        "print(len(train_dicts))\n",
        "print(len(val_dicts))\n",
        "print(len(test_dicts))\n"
      ]
    },
    {
      "cell_type": "markdown",
      "metadata": {},
      "source": [
        "## 4. Data Preprocessing and Dataset Creation\n"
      ]
    },
    {
      "cell_type": "code",
      "execution_count": 4,
      "metadata": {},
      "outputs": [
        {
          "name": "stdout",
          "output_type": "stream",
          "text": [
            "Will calculate normalization statistics from data...\n",
            "This allows verification against original pre-computed values:\n"
          ]
        }
      ],
      "source": [
        "# Define subtracted images path prefixes (CRITICAL: Private dataset DOES use subtracted images)\n",
        "sub_third_images_path_prefixes = (\"Dataset-arrays-4-FINAL\", \"Dataset-arrays-FINAL\")\n",
        "\n",
        "print(\"Will calculate normalization statistics from data...\")\n",
        "print(\"This allows verification against original pre-computed values:\")"
      ]
    },
    {
      "cell_type": "code",
      "execution_count": 5,
      "metadata": {},
      "outputs": [
        {
          "name": "stdout",
          "output_type": "stream",
          "text": [
            "Creating statistics dataset for global data...\n"
          ]
        }
      ],
      "source": [
        "# Calculate mean and std for global (no patches) data\n",
        "statistics_transforms_no_thorax_third_sub = Compose([\n",
        "    LoadImaged(\n",
        "        keys=[\"image\", \"label\"], \n",
        "        image_only=False, \n",
        "        reader=monai.data.NumpyReader()\n",
        "    ),\n",
        "    EnsureChannelFirstd(keys=[\"image\", \"label\"]),\n",
        "    Preprocess(\n",
        "        keys=None, \n",
        "        mode='statistics',  \n",
        "        dataset=\"private\", \n",
        "        subtracted_images_path_prefixes=sub_third_images_path_prefixes, \n",
        "        get_patches=False,\n",
        "        get_boundaryloss=False\n",
        "    )\n",
        "])\n",
        "\n",
        "print(\"Creating statistics dataset for global data...\")\n"
      ]
    },
    {
      "cell_type": "code",
      "execution_count": null,
      "metadata": {},
      "outputs": [
        {
          "name": "stderr",
          "output_type": "stream",
          "text": [
            "Loading dataset:  37%|███▋      | 1273/3456 [00:40<01:09, 31.50it/s]"
          ]
        }
      ],
      "source": [
        "# Create statistics dataset and loader for global data\n",
        "statistics_ds_no_thorax_third_sub = CacheDataset(\n",
        "    data=train_dicts, \n",
        "    transform=statistics_transforms_no_thorax_third_sub,\n",
        "    num_workers=NUM_WORKERS\n",
        ")\n",
        "\n",
        "statistics_loader_no_thorax_third_sub = DataLoader(\n",
        "    statistics_ds_no_thorax_third_sub, \n",
        "    batch_size=batch_size, \n",
        "    worker_init_fn=seed_worker,\n",
        "    generator=g, \n",
        "    shuffle=False, \n",
        "    drop_last=False,\n",
        ")\n",
        "\n",
        "print(\"Statistics dataset and loader created for global data\")\n"
      ]
    },
    {
      "cell_type": "code",
      "execution_count": null,
      "metadata": {},
      "outputs": [
        {
          "name": "stderr",
          "output_type": "stream",
          "text": [
            "Seed set to 200\n"
          ]
        },
        {
          "name": "stdout",
          "output_type": "stream",
          "text": [
            "Using random seed 200...\n",
            "Statistics dataset and loader created for global data\n"
          ]
        }
      ],
      "source": [
        "g = reseed()\n",
        "statistics_loader_no_thorax_third_sub = DataLoader(\n",
        "    statistics_ds_no_thorax_third_sub, \n",
        "    batch_size=batch_size, \n",
        "    worker_init_fn=seed_worker,\n",
        "    generator=g, \n",
        "    shuffle=False, \n",
        "    drop_last=False\n",
        ")\n",
        "\n",
        "print(\"Statistics dataset and loader created for global data\")\n"
      ]
    },
    {
      "cell_type": "code",
      "execution_count": null,
      "metadata": {},
      "outputs": [
        {
          "name": "stdout",
          "output_type": "stream",
          "text": [
            "Calculating mean and std for global data...\n"
          ]
        },
        {
          "data": {
            "application/vnd.jupyter.widget-view+json": {
              "model_id": "cc3c7e1de11943efaf7eeb82573cba2d",
              "version_major": 2,
              "version_minor": 0
            },
            "text/plain": [
              "  0%|          | 0/108 [00:00<?, ?it/s]"
            ]
          },
          "metadata": {},
          "output_type": "display_data"
        },
        {
          "name": "stdout",
          "output_type": "stream",
          "text": [
            "Mean: 40.89126968383789, Standard Deviation: 167.93341064453125\n",
            "Calculated - Global Mean: 40.89126968383789, Global Std: 167.93341064453125\n"
          ]
        }
      ],
      "source": [
        "# Calculate mean and std for global data\n",
        "def get_mean_std_dataloader(dataloader, masked=False):\n",
        "    \"\"\"Calculate mean and std from dataloader.\"\"\"\n",
        "    sum_of_images = 0.0\n",
        "    sum_of_squares = 0.0\n",
        "    num_pixels = 0\n",
        "\n",
        "    for batch in tqdm(dataloader):\n",
        "        if batch is not None:\n",
        "            image = batch[\"image\"]\n",
        "      \n",
        "            if masked:\n",
        "                mask = image > 0.0\n",
        "                image = image[mask]\n",
        "      \n",
        "            sum_of_images += image.sum()\n",
        "            sum_of_squares += (image ** 2).sum()\n",
        "            num_pixels += image.numel()\n",
        "        else:\n",
        "            print(\"none batch\")\n",
        "    \n",
        "    mean = sum_of_images / num_pixels\n",
        "    std_dev = (sum_of_squares / num_pixels - mean ** 2) ** 0.5\n",
        "\n",
        "    print(f'Mean: {mean}, Standard Deviation: {std_dev}')\n",
        "    return mean.item(), std_dev.item()\n",
        "\n",
        "print(\"Calculating mean and std for global data...\")\n",
        "mean_no_thorax_third_sub_calc, std_no_thorax_third_sub_calc = get_mean_std_dataloader(statistics_loader_no_thorax_third_sub)\n",
        "print(f\"Calculated - Global Mean: {mean_no_thorax_third_sub_calc}, Global Std: {std_no_thorax_third_sub_calc}\")"
      ]
    },
    {
      "cell_type": "code",
      "execution_count": 34,
      "metadata": {},
      "outputs": [],
      "source": [
        "mean_no_thorax_third_sub, std_no_thorax_third_sub = 43.14976119995117, 172.67039489746094"
      ]
    },
    {
      "cell_type": "code",
      "execution_count": 35,
      "metadata": {},
      "outputs": [
        {
          "name": "stdout",
          "output_type": "stream",
          "text": [
            "Creating statistics dataset for patches data...\n"
          ]
        }
      ],
      "source": [
        "# Calculate mean and std for patches data\n",
        "statistics_transforms_patches_sub = Compose([\n",
        "    LoadImaged(\n",
        "        keys=[\"image\", \"label\"], \n",
        "        image_only=False, \n",
        "        reader=monai.data.NumpyReader()\n",
        "    ),\n",
        "    EnsureChannelFirstd(keys=[\"image\", \"label\"]),\n",
        "    Preprocess(\n",
        "        keys=None, \n",
        "        mode='statistics', \n",
        "        dataset=\"private\", \n",
        "        subtracted_images_path_prefixes=sub_third_images_path_prefixes, \n",
        "        get_patches=True,\n",
        "        get_boundaryloss=False\n",
        "    )\n",
        "])\n",
        "\n",
        "print(\"Creating statistics dataset for patches data...\")\n"
      ]
    },
    {
      "cell_type": "code",
      "execution_count": 28,
      "metadata": {},
      "outputs": [
        {
          "name": "stderr",
          "output_type": "stream",
          "text": [
            "Loading dataset:   0%|          | 0/3456 [00:00<?, ?it/s]"
          ]
        },
        {
          "name": "stderr",
          "output_type": "stream",
          "text": [
            "Loading dataset: 100%|██████████| 3456/3456 [06:16<00:00,  9.17it/s]\n"
          ]
        }
      ],
      "source": [
        "statistics_ds_patches_sub = CacheDataset(\n",
        "     data=train_dicts, \n",
        "     transform=statistics_transforms_patches_sub,\n",
        "     num_workers=NUM_WORKERS\n",
        " )\n",
        "\n",
        "statistics_loader_patches_sub = DataLoader(\n",
        "     statistics_ds_patches_sub, \n",
        "     batch_size=batch_size, \n",
        "     collate_fn = custom_collate,\n",
        "     worker_init_fn=seed_worker,\n",
        "     generator=g, \n",
        "     shuffle=False, \n",
        "     drop_last=False\n",
        " )"
      ]
    },
    {
      "cell_type": "code",
      "execution_count": 29,
      "metadata": {},
      "outputs": [
        {
          "name": "stdout",
          "output_type": "stream",
          "text": [
            "Calculating mean and std for patches data...\n"
          ]
        },
        {
          "data": {
            "application/vnd.jupyter.widget-view+json": {
              "model_id": "50f12816e7914e6d937fc45d34ec1c93",
              "version_major": 2,
              "version_minor": 0
            },
            "text/plain": [
              "  0%|          | 0/108 [00:00<?, ?it/s]"
            ]
          },
          "metadata": {},
          "output_type": "display_data"
        },
        {
          "name": "stdout",
          "output_type": "stream",
          "text": [
            "Mean: 86.1353759765625, Standard Deviation: 238.13462829589844\n",
            "Calculated - Patches Mean: 86.1353759765625, Patches Std: 238.13462829589844\n"
          ]
        }
      ],
      "source": [
        "print(\"Calculating mean and std for patches data...\")\n",
        "mean_patches_sub_calc, std_patches_sub_calc = get_mean_std_dataloader(statistics_loader_patches_sub)\n",
        "print(f\"Calculated - Patches Mean: {mean_patches_sub_calc}, Patches Std: {std_patches_sub_calc}\")\n",
        "\n",
        "# Set final values\n",
        "mean_patches_sub, std_patches_sub = mean_patches_sub_calc, std_patches_sub_calc"
      ]
    },
    {
      "cell_type": "code",
      "execution_count": null,
      "metadata": {},
      "outputs": [],
      "source": [
        "mean_patches_sub, std_patches_sub = 86.1353759765625, 238.13462829589844"
      ]
    },
    {
      "cell_type": "code",
      "execution_count": null,
      "metadata": {},
      "outputs": [],
      "source": [
        "# Create final transforms using calculated statistics\n",
        "test_transforms_no_thorax_third_sub = Compose([\n",
        "    LoadImaged(\n",
        "        keys=[\"image\", \"label\"], \n",
        "        image_only=False, \n",
        "        reader=monai.data.NumpyReader()\n",
        "    ),\n",
        "    EnsureChannelFirstd(keys=[\"image\", \"label\"]),\n",
        "    Preprocess(\n",
        "        keys=None, \n",
        "        mode='test',  \n",
        "        dataset=\"private\", \n",
        "        subtracted_images_path_prefixes=sub_third_images_path_prefixes, \n",
        "        subtrahend=mean_no_thorax_third_sub, \n",
        "        divisor=std_no_thorax_third_sub, \n",
        "        get_patches=False,\n",
        "        get_boundaryloss=get_boundaryloss\n",
        "    )\n",
        "])\n",
        "\n",
        "train_transforms_no_thorax_third_sub = Compose([\n",
        "    LoadImaged(\n",
        "        keys=[\"image\", \"label\"], \n",
        "        image_only=False, \n",
        "        reader=monai.data.NumpyReader()\n",
        "    ),\n",
        "    EnsureChannelFirstd(keys=[\"image\", \"label\"]),\n",
        "    Preprocess(\n",
        "        keys=None, \n",
        "        mode='train', \n",
        "        dataset=\"private\", \n",
        "        subtracted_images_path_prefixes=sub_third_images_path_prefixes, \n",
        "        subtrahend=mean_no_thorax_third_sub, \n",
        "        divisor=std_no_thorax_third_sub, \n",
        "        get_patches=False,\n",
        "        get_boundaryloss=get_boundaryloss\n",
        "    )\n",
        "])\n",
        "\n",
        "# Create transforms for patches data\n",
        "train_transforms_patches_sub = Compose([\n",
        "    LoadImaged(\n",
        "        keys=[\"image\", \"label\"], \n",
        "        image_only=False, \n",
        "        reader=monai.data.NumpyReader()\n",
        "    ),\n",
        "    EnsureChannelFirstd(keys=[\"image\", \"label\"]),\n",
        "    Preprocess(\n",
        "        keys=None, \n",
        "        mode='train', \n",
        "        dataset=\"private\", \n",
        "        subtracted_images_path_prefixes=sub_third_images_path_prefixes, \n",
        "        subtrahend=mean_patches_sub, \n",
        "        divisor=std_patches_sub, \n",
        "        get_patches=True,\n",
        "        get_boundaryloss=get_boundaryloss\n",
        "    )\n",
        "])\n",
        "\n",
        "test_transforms_patches_sub = Compose([\n",
        "    LoadImaged(\n",
        "        keys=[\"image\", \"label\"], \n",
        "        image_only=False, \n",
        "        reader=monai.data.NumpyReader()\n",
        "    ),\n",
        "    EnsureChannelFirstd(keys=[\"image\", \"label\"]),\n",
        "    Preprocess(\n",
        "        keys=None, \n",
        "        mode='test',  \n",
        "        dataset=\"private\", \n",
        "        subtracted_images_path_prefixes=sub_third_images_path_prefixes, \n",
        "        subtrahend=mean_patches_sub, \n",
        "        divisor=std_patches_sub, \n",
        "        get_patches=True,\n",
        "        get_boundaryloss=get_boundaryloss\n",
        "    )\n",
        "])\n",
        "\n",
        "print(\"Final transforms created using calculated statistics\")\n"
      ]
    },
    {
      "cell_type": "code",
      "execution_count": null,
      "metadata": {},
      "outputs": [],
      "source": [
        "# Create datasets for both global and patches data\n",
        "train_ds_no_thorax_third_sub = CacheDataset(\n",
        "    data=train_dicts, \n",
        "    transform=train_transforms_no_thorax_third_sub,\n",
        "    num_workers=num_workers\n",
        ")\n",
        "\n",
        "val_ds_no_thorax_third_sub = CacheDataset(\n",
        "    data=val_dicts, \n",
        "    transform=test_transforms_no_thorax_third_sub,\n",
        "    num_workers=num_workers\n",
        ")\n",
        "\n",
        "test_ds_no_thorax_third_sub = CacheDataset(\n",
        "    data=test_dicts, \n",
        "    transform=test_transforms_no_thorax_third_sub,\n",
        "    num_workers=num_workers\n",
        ")\n",
        "\n",
        "train_ds_patches_sub = CacheDataset(\n",
        "    data=train_dicts, \n",
        "    transform=train_transforms_patches_sub,\n",
        "    num_workers=num_workers\n",
        ")\n",
        "\n",
        "val_ds_patches_sub = CacheDataset(\n",
        "    data=val_dicts, \n",
        "    transform=test_transforms_patches_sub,\n",
        "    num_workers=num_workers\n",
        ")\n",
        "\n",
        "test_ds_patches_sub = CacheDataset(\n",
        "    data=test_dicts, \n",
        "    transform=test_transforms_patches_sub,\n",
        "    num_workers=num_workers\n",
        ")\n",
        "\n",
        "print(\"Datasets created for both global and patches data\")\n"
      ]
    },
    {
      "cell_type": "markdown",
      "metadata": {},
      "source": [
        "## 5. Create Fusion DataLoaders\n"
      ]
    },
    {
      "cell_type": "code",
      "execution_count": null,
      "metadata": {},
      "outputs": [],
      "source": [
        "# Reseed before creating dataloaders\n",
        "g = reseed()\n",
        "\n",
        "# Create fusion dataloaders that combine global and patches data\n",
        "train_loader_fusion_sub = PairedDataLoader(\n",
        "    train_ds_no_thorax_third_sub, \n",
        "    train_ds_patches_sub, \n",
        "    batch_size=batch_size, \n",
        "    worker_init_fn=seed_worker,\n",
        "    generator=g, \n",
        "    shuffle=True, \n",
        "    drop_last=False, \n",
        "    num_workers=num_workers,\n",
        "    augment=False,\n",
        ")\n",
        "\n",
        "val_loader_fusion_sub = PairedDataLoader(\n",
        "    val_ds_no_thorax_third_sub, \n",
        "    val_ds_patches_sub, \n",
        "    batch_size=batch_size, \n",
        "    worker_init_fn=seed_worker,\n",
        "    generator=g, \n",
        "    shuffle=False, \n",
        "    drop_last=False, \n",
        "    num_workers=num_workers,\n",
        "    augment=False\n",
        ")\n",
        "\n",
        "test_loader_fusion_sub = PairedDataLoader(\n",
        "    test_ds_no_thorax_third_sub, \n",
        "    test_ds_patches_sub, \n",
        "    batch_size=batch_size, \n",
        "    worker_init_fn=seed_worker,\n",
        "    generator=g, \n",
        "    shuffle=False, \n",
        "    drop_last=False, \n",
        "    num_workers=num_workers,\n",
        "    augment=False\n",
        ")\n",
        "\n",
        "print(\"Fusion dataloaders created\")\n"
      ]
    },
    {
      "cell_type": "markdown",
      "metadata": {},
      "source": [
        "## 6. Training VENUS Model\n"
      ]
    },
    {
      "cell_type": "code",
      "execution_count": null,
      "metadata": {},
      "outputs": [],
      "source": [
        "import gc\n",
        "gc.collect()\n",
        "\n",
        "with torch.no_grad():\n",
        "    torch.cuda.empty_cache()\n"
      ]
    },
    {
      "cell_type": "code",
      "execution_count": null,
      "metadata": {},
      "outputs": [],
      "source": [
        "g = reseed()\n",
        "\n",
        "# Create VENUS fusion model with CABFL loss\n",
        "ENCODER_NAME = None\n",
        "model_fusion_sub_cabl = BreastFusionModel(\n",
        "    arch=\"venus\", \n",
        "    encoder_name=ENCODER_NAME, \n",
        "    use_boundary_loss=True, \n",
        "    use_simple_fusion=True,\n",
        "    loss_function=\"cabfl\",\n",
        "    loss_kwargs={\"idc\": [1], \"weight_aufl\": 0.5, \"delta\": 0.7, \"gamma\": 0.4}, \n",
        "    in_channels=1, \n",
        "    out_classes=1, \n",
        "    batch_size=batch_size, \n",
        "    len_train_loader=len(train_ds_no_thorax_third_sub)//batch_size\n",
        ")\n",
        "\n",
        "es = EarlyStopping(monitor=\"valid_loss\", mode=\"min\", patience=10)\n",
        "\n",
        "cc_fusion_sub_cabl = ModelCheckpoint(\n",
        "    monitor=\"valid_loss\",\n",
        "    save_top_k=1,\n",
        "    mode=\"min\",\n",
        "    filename='venus-fusion-cabl-{epoch:02d}-{valid_loss:.2f}',\n",
        "    dirpath=checkpoints_dir,\n",
        "    auto_insert_metric_name=False\n",
        ")\n",
        "\n",
        "\n",
        "trainer_fusion_sub_cabl = L.Trainer(\n",
        "    devices=1,\n",
        "    accelerator='auto',\n",
        "    max_epochs=1000,\n",
        "    callbacks=[es, cc_fusion_sub_cabl],\n",
        "    log_every_n_steps=10,\n",
        "    gradient_clip_val=1,\n",
        "    num_sanity_val_steps=1,\n",
        "    deterministic=False\n",
        ")\n",
        "\n",
        "trainer_fusion_sub_cabl.fit(\n",
        "    model_fusion_sub_cabl,\n",
        "    train_dataloaders=train_loader_fusion_sub,\n",
        "    val_dataloaders=val_loader_fusion_sub\n",
        ")\n"
      ]
    },
    {
      "cell_type": "code",
      "execution_count": null,
      "metadata": {},
      "outputs": [],
      "source": [
        "# Load best model and test\n",
        "model_fusion_sub_cabl = BreastFusionModel.load_from_checkpoint(\n",
        "    cc_fusion_sub_cabl.best_model_path, \n",
        "    use_boundary_loss=True, \n",
        "    use_simple_fusion=True\n",
        "    loss_function=\"cabfl\",\n",
        "    loss_kwargs={\"idc\": [1], \"weight_aufl\": 0.5, \"delta\": 0.4, \"gamma\": 0.1}\n",
        ")\n",
        "test_metrics = trainer_fusion_sub_cabl.test(\n",
        "    model_fusion_sub_cabl, \n",
        "    dataloaders=test_loader_fusion_sub, \n",
        "    verbose=False\n",
        ")\n",
        "pp.pprint(test_metrics[0])"
      ]
    },
    {
      "cell_type": "markdown",
      "metadata": {},
      "source": [
        "## 7. Training ResNet with Patches\n"
      ]
    },
    {
      "cell_type": "code",
      "execution_count": null,
      "metadata": {},
      "outputs": [],
      "source": [
        "# Create individual loaders for patches data (used by ResNet baseline)\n",
        "train_loader_patches_sub = DataLoader(\n",
        "    train_ds_patches_sub, \n",
        "    batch_size=batch_size, \n",
        "    worker_init_fn=seed_worker,\n",
        "    generator=g, \n",
        "    shuffle=True, \n",
        "    drop_last=False\n",
        ")\n",
        "\n",
        "val_loader_patches_sub = DataLoader(\n",
        "    val_ds_patches_sub, \n",
        "    batch_size=batch_size, \n",
        "    worker_init_fn=seed_worker,\n",
        "    generator=g, \n",
        "    shuffle=False, \n",
        "    drop_last=False\n",
        ")\n",
        "\n",
        "test_loader_patches_sub = DataLoader(\n",
        "    test_ds_patches_sub, \n",
        "    batch_size=batch_size, \n",
        "    worker_init_fn=seed_worker,\n",
        "    generator=g, \n",
        "    shuffle=False, \n",
        "    drop_last=False\n",
        ")"
      ]
    },
    {
      "cell_type": "code",
      "execution_count": null,
      "metadata": {},
      "outputs": [],
      "source": [
        "g = reseed()\n",
        "ENCODER_NAME = \"resnet18\"\n",
        "model_resnet_cabl = BreastSegmentationModel(\n",
        "    arch=\"UNet\", \n",
        "    encoder_name=ENCODER_NAME, \n",
        "    use_boundary_loss=True, \n",
        "    loss_function=\"cabfl\",\n",
        "    loss_kwargs={\"idc\": [1], \"weight_aufl\": 0.5, \"delta\": 0.7, \"gamma\": 0.4}, \n",
        "    in_channels=1, \n",
        "    out_classes=1, \n",
        "    batch_size=batch_size, \n",
        "    len_train_loader=len(train_ds_patches_sub)//batch_size\n",
        ")\n",
        "\n",
        "es_resnet = EarlyStopping(monitor=\"valid_loss\", mode=\"min\", patience=10)\n",
        "\n",
        "cc_resnet_cabl = ModelCheckpoint(\n",
        "    monitor=\"valid_loss\",\n",
        "    save_top_k=1,\n",
        "    mode=\"min\",\n",
        "    filename='resnet18-patches-cabl-{epoch:02d}-{valid_loss:.2f}',\n",
        "    dirpath=checkpoints_dir,\n",
        "    auto_insert_metric_name=False\n",
        ")\n",
        "\n",
        "\n",
        "trainer_resnet_cabl = L.Trainer(\n",
        "    devices=1,\n",
        "    accelerator='auto',\n",
        "    max_epochs=1000,\n",
        "    callbacks=[es_resnet, cc_resnet_cabl],\n",
        "    log_every_n_steps=10,\n",
        "    gradient_clip_val=1,\n",
        "    num_sanity_val_steps=1,\n",
        "    deterministic=False\n",
        ")\n",
        "\n",
        "trainer_resnet_cabl.fit(\n",
        "    model_resnet_cabl,\n",
        "    train_dataloaders=train_loader_patches_sub,\n",
        "    val_dataloaders=val_loader_patches_sub\n",
        ")"
      ]
    },
    {
      "cell_type": "code",
      "execution_count": null,
      "metadata": {},
      "outputs": [],
      "source": [
        "# Load best ResNet patches model and test\n",
        "model_resnet_cabl = BreastSegmentationModel.load_from_checkpoint(\n",
        "    cc_resnet_cabl.best_model_path, \n",
        "    strict=True,\n",
        "    use_boundary_loss=True, \n",
        "    loss_function=\"cabfl\",\n",
        "    loss_kwargs={\"idc\": [1], \"weight_aufl\": 0.5, \"delta\": 0.4, \"gamma\": 0.1}\n",
        ")\n",
        "test_metrics_resnet = trainer_resnet_cabl.test(\n",
        "    model_resnet_cabl, \n",
        "    dataloaders=test_loader_patches_sub, \n",
        "    verbose=False\n",
        ")\n",
        "pp.pprint(test_metrics_resnet[0])"
      ]
    }
  ],
  "metadata": {
    "kernelspec": {
      "display_name": "venus-nCPuPPcI-py3.9",
      "language": "python",
      "name": "python3"
    },
    "language_info": {
      "codemirror_mode": {
        "name": "ipython",
        "version": 3
      },
      "file_extension": ".py",
      "mimetype": "text/x-python",
      "name": "python",
      "nbconvert_exporter": "python",
      "pygments_lexer": "ipython3",
      "version": "3.9.19"
    }
  },
  "nbformat": 4,
  "nbformat_minor": 2
}
